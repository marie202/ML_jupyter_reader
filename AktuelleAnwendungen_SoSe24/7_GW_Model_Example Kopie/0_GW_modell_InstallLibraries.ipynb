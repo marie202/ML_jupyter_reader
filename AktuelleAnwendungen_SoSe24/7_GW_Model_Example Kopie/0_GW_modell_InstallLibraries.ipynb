{
 "cells": [
  {
   "cell_type": "markdown",
   "id": "0c423aff-67b1-4a91-aba5-ae8352fe52ab",
   "metadata": {},
   "source": [
    "# 0. Groundwater modelling - Libraries\n",
    "\n",
    "### Installation of needed libraries\n",
    "\n",
    "If the libraries have not yet been installed in the corresponding environment, this can be done with one of the following code cell.\n"
   ]
  },
  {
   "cell_type": "markdown",
   "id": "6e3b79e6-810f-4dcb-9e1d-1e6598675140",
   "metadata": {},
   "source": [
    "\n",
    "### ... using pip"
   ]
  },
  {
   "cell_type": "code",
   "execution_count": 2,
   "id": "1d8d07ca-44bd-4ecf-bfc6-03078c6a0ca0",
   "metadata": {},
   "outputs": [
    {
     "name": "stdout",
     "output_type": "stream",
     "text": [
      "Requirement already satisfied: numpy in /opt/anaconda3/envs/lehre/lib/python3.12/site-packages (1.26.4)\n",
      "Requirement already satisfied: matplotlib in /opt/anaconda3/envs/lehre/lib/python3.12/site-packages (3.8.4)\n",
      "Requirement already satisfied: pandas in /opt/anaconda3/envs/lehre/lib/python3.12/site-packages (2.2.1)\n",
      "Requirement already satisfied: seaborn in /opt/anaconda3/envs/lehre/lib/python3.12/site-packages (0.13.2)\n",
      "Requirement already satisfied: scipy in /opt/anaconda3/envs/lehre/lib/python3.12/site-packages (1.13.0)\n",
      "Collecting datetime\n",
      "  Using cached DateTime-5.5-py3-none-any.whl.metadata (33 kB)\n",
      "Requirement already satisfied: contourpy>=1.0.1 in /opt/anaconda3/envs/lehre/lib/python3.12/site-packages (from matplotlib) (1.2.1)\n",
      "Requirement already satisfied: cycler>=0.10 in /opt/anaconda3/envs/lehre/lib/python3.12/site-packages (from matplotlib) (0.12.1)\n",
      "Requirement already satisfied: fonttools>=4.22.0 in /opt/anaconda3/envs/lehre/lib/python3.12/site-packages (from matplotlib) (4.50.0)\n",
      "Requirement already satisfied: kiwisolver>=1.3.1 in /opt/anaconda3/envs/lehre/lib/python3.12/site-packages (from matplotlib) (1.4.5)\n",
      "Requirement already satisfied: packaging>=20.0 in /opt/anaconda3/envs/lehre/lib/python3.12/site-packages (from matplotlib) (23.2)\n",
      "Requirement already satisfied: pillow>=8 in /opt/anaconda3/envs/lehre/lib/python3.12/site-packages (from matplotlib) (10.3.0)\n",
      "Requirement already satisfied: pyparsing>=2.3.1 in /opt/anaconda3/envs/lehre/lib/python3.12/site-packages (from matplotlib) (3.1.2)\n",
      "Requirement already satisfied: python-dateutil>=2.7 in /opt/anaconda3/envs/lehre/lib/python3.12/site-packages (from matplotlib) (2.9.0)\n",
      "Requirement already satisfied: pytz>=2020.1 in /opt/anaconda3/envs/lehre/lib/python3.12/site-packages (from pandas) (2024.1)\n",
      "Requirement already satisfied: tzdata>=2022.7 in /opt/anaconda3/envs/lehre/lib/python3.12/site-packages (from pandas) (2024.1)\n",
      "Collecting zope.interface (from datetime)\n",
      "  Using cached zope.interface-6.4.post2-cp312-cp312-macosx_11_0_arm64.whl.metadata (42 kB)\n",
      "Requirement already satisfied: six>=1.5 in /opt/anaconda3/envs/lehre/lib/python3.12/site-packages (from python-dateutil>=2.7->matplotlib) (1.16.0)\n",
      "Requirement already satisfied: setuptools in /opt/anaconda3/envs/lehre/lib/python3.12/site-packages (from zope.interface->datetime) (69.2.0)\n",
      "Using cached DateTime-5.5-py3-none-any.whl (52 kB)\n",
      "Using cached zope.interface-6.4.post2-cp312-cp312-macosx_11_0_arm64.whl (203 kB)\n",
      "Installing collected packages: zope.interface, datetime\n",
      "Successfully installed datetime-5.5 zope.interface-6.4.post2\n"
     ]
    }
   ],
   "source": [
    "### basic packages\n",
    "\n",
    "# Installiere die notwendigen Bibliotheken mit pip\n",
    "import sys\n",
    "!{sys.executable} -m pip install numpy matplotlib pandas seaborn matplotlib scipy  datetime\n"
   ]
  },
  {
   "cell_type": "code",
   "execution_count": 3,
   "id": "bad4f122-c4e9-40c6-863d-96e765fafc09",
   "metadata": {},
   "outputs": [
    {
     "name": "stdout",
     "output_type": "stream",
     "text": [
      "Requirement already satisfied: netCDF4 in /opt/anaconda3/envs/lehre/lib/python3.12/site-packages (1.6.5)\n",
      "Collecting h5netcdf\n",
      "  Using cached h5netcdf-1.3.0-py3-none-any.whl.metadata (13 kB)\n",
      "Requirement already satisfied: xarray in /opt/anaconda3/envs/lehre/lib/python3.12/site-packages (2024.3.0)\n",
      "Requirement already satisfied: wget in /opt/anaconda3/envs/lehre/lib/python3.12/site-packages (3.2)\n",
      "Requirement already satisfied: geopandas in /opt/anaconda3/envs/lehre/lib/python3.12/site-packages (0.14.3)\n",
      "Requirement already satisfied: rioxarray in /opt/anaconda3/envs/lehre/lib/python3.12/site-packages (0.15.5)\n",
      "Requirement already satisfied: cftime in /opt/anaconda3/envs/lehre/lib/python3.12/site-packages (from netCDF4) (1.6.3)\n",
      "Requirement already satisfied: certifi in /opt/anaconda3/envs/lehre/lib/python3.12/site-packages (from netCDF4) (2024.6.2)\n",
      "Requirement already satisfied: numpy in /opt/anaconda3/envs/lehre/lib/python3.12/site-packages (from netCDF4) (1.26.4)\n",
      "Requirement already satisfied: h5py in /opt/anaconda3/envs/lehre/lib/python3.12/site-packages (from h5netcdf) (3.10.0)\n",
      "Requirement already satisfied: packaging in /opt/anaconda3/envs/lehre/lib/python3.12/site-packages (from h5netcdf) (23.2)\n",
      "Requirement already satisfied: pandas>=1.5 in /opt/anaconda3/envs/lehre/lib/python3.12/site-packages (from xarray) (2.2.1)\n",
      "Requirement already satisfied: fiona>=1.8.21 in /opt/anaconda3/envs/lehre/lib/python3.12/site-packages (from geopandas) (1.9.6)\n",
      "Requirement already satisfied: pyproj>=3.3.0 in /opt/anaconda3/envs/lehre/lib/python3.12/site-packages (from geopandas) (3.6.1)\n",
      "Requirement already satisfied: shapely>=1.8.0 in /opt/anaconda3/envs/lehre/lib/python3.12/site-packages (from geopandas) (2.0.4)\n",
      "Requirement already satisfied: rasterio>=1.3 in /opt/anaconda3/envs/lehre/lib/python3.12/site-packages (from rioxarray) (1.3.10)\n",
      "Requirement already satisfied: attrs>=19.2.0 in /opt/anaconda3/envs/lehre/lib/python3.12/site-packages (from fiona>=1.8.21->geopandas) (23.2.0)\n",
      "Requirement already satisfied: click~=8.0 in /opt/anaconda3/envs/lehre/lib/python3.12/site-packages (from fiona>=1.8.21->geopandas) (8.1.7)\n",
      "Requirement already satisfied: click-plugins>=1.0 in /opt/anaconda3/envs/lehre/lib/python3.12/site-packages (from fiona>=1.8.21->geopandas) (1.1.1)\n",
      "Requirement already satisfied: cligj>=0.5 in /opt/anaconda3/envs/lehre/lib/python3.12/site-packages (from fiona>=1.8.21->geopandas) (0.7.2)\n",
      "Requirement already satisfied: six in /opt/anaconda3/envs/lehre/lib/python3.12/site-packages (from fiona>=1.8.21->geopandas) (1.16.0)\n",
      "Requirement already satisfied: python-dateutil>=2.8.2 in /opt/anaconda3/envs/lehre/lib/python3.12/site-packages (from pandas>=1.5->xarray) (2.9.0)\n",
      "Requirement already satisfied: pytz>=2020.1 in /opt/anaconda3/envs/lehre/lib/python3.12/site-packages (from pandas>=1.5->xarray) (2024.1)\n",
      "Requirement already satisfied: tzdata>=2022.7 in /opt/anaconda3/envs/lehre/lib/python3.12/site-packages (from pandas>=1.5->xarray) (2024.1)\n",
      "Requirement already satisfied: affine in /opt/anaconda3/envs/lehre/lib/python3.12/site-packages (from rasterio>=1.3->rioxarray) (2.4.0)\n",
      "Requirement already satisfied: snuggs>=1.4.1 in /opt/anaconda3/envs/lehre/lib/python3.12/site-packages (from rasterio>=1.3->rioxarray) (1.4.7)\n",
      "Requirement already satisfied: setuptools in /opt/anaconda3/envs/lehre/lib/python3.12/site-packages (from rasterio>=1.3->rioxarray) (69.2.0)\n",
      "Requirement already satisfied: pyparsing>=2.1.6 in /opt/anaconda3/envs/lehre/lib/python3.12/site-packages (from snuggs>=1.4.1->rasterio>=1.3->rioxarray) (3.1.2)\n",
      "Using cached h5netcdf-1.3.0-py3-none-any.whl (43 kB)\n",
      "Installing collected packages: h5netcdf\n",
      "Successfully installed h5netcdf-1.3.0\n"
     ]
    }
   ],
   "source": [
    "### packages needed for netcdf and geodata\n",
    "\n",
    "import sys\n",
    "!{sys.executable} -m pip install netCDF4 h5netcdf xarray wget geopandas rioxarray \n"
   ]
  }
 ],
 "metadata": {
  "kernelspec": {
   "display_name": "Python 3 (ipykernel)",
   "language": "python",
   "name": "python3"
  },
  "language_info": {
   "codemirror_mode": {
    "name": "ipython",
    "version": 3
   },
   "file_extension": ".py",
   "mimetype": "text/x-python",
   "name": "python",
   "nbconvert_exporter": "python",
   "pygments_lexer": "ipython3",
   "version": "3.12.2"
  }
 },
 "nbformat": 4,
 "nbformat_minor": 5
}
