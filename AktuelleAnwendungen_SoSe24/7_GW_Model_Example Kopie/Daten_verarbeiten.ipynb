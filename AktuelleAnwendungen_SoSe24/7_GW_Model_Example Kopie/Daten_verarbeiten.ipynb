{
 "cells": [
  {
   "cell_type": "code",
   "execution_count": 1,
   "id": "010f8bc8-11c3-4f2f-b8be-4a17afc44108",
   "metadata": {},
   "outputs": [
    {
     "name": "stdout",
     "output_type": "stream",
     "text": [
      "/Users/marie-christineckert/Nextcloud/TU/Lehre/AktuelleAnwendungen_SoSe24/7_GW_Model_Example\n"
     ]
    }
   ],
   "source": [
    "#  First, lets import all needed libraries\n",
    "from scipy.io import netcdf\n",
    "import numpy as np\n",
    "import matplotlib.pyplot as plt\n",
    "import pandas as pd \n",
    "import netCDF4 \n",
    "import xarray as xr\n",
    "import os, sys\n",
    "import geopandas as gpd\n",
    "import rioxarray\n",
    "\n",
    "\n",
    "import os, sys\n",
    "import wget \n",
    "\n",
    "\n",
    "pwd = os.getcwd()\n",
    "print(pwd)"
   ]
  },
  {
   "cell_type": "code",
   "execution_count": 2,
   "id": "7fac1694-6629-4af0-86e4-876b766d73e2",
   "metadata": {},
   "outputs": [],
   "source": [
    "data = pd.read_csv(\"Grundwassermessstellen_sn.csv\", sep= \";\",skipinitialspace=True)#.drop(['Unnamed: 0'], axis=1)"
   ]
  },
  {
   "cell_type": "code",
   "execution_count": 3,
   "id": "646780f3-86c0-4a4b-bc0b-0124e53d98c4",
   "metadata": {},
   "outputs": [],
   "source": [
    "## relevante messstellen\n",
    "\n",
    "wunsch_mess_IDs = [\"46440927\",\n",
    "                   \"46460564\",\n",
    "                   \"47500596\",\n",
    "                   \"48390509\",\n",
    "                   \"49430964\",\n",
    "                   \"49484004\",\n",
    "                   \"49531740\",\n",
    "                   \"52410759\"]"
   ]
  },
  {
   "cell_type": "code",
   "execution_count": 4,
   "id": "95f4c5d9-fc13-4c75-aa2b-554fc19d2a59",
   "metadata": {},
   "outputs": [],
   "source": [
    "data = data[data['MKZ'].isin(wunsch_mess_IDs)]"
   ]
  },
  {
   "cell_type": "code",
   "execution_count": 5,
   "id": "421c1c6f-25ae-4e25-9373-e39629859481",
   "metadata": {},
   "outputs": [
    {
     "data": {
      "text/plain": [
       "Index(['MKZ', 'Messstellenname', 'Messstellenart', 'Ostwert', 'Nordwert',\n",
       "       'Messpunkthöhe', 'Filteroberkante', 'Filteroberkante (m unter Gelände)',\n",
       "       'Filterunterkante', 'Filterunterkante (m unter Gelände)', 'Ausbausohle',\n",
       "       'Geländehöhe', 'Höhensystem', 'Beobachtungsbeginn', 'Beobachtungsende',\n",
       "       'Analysenbeginn', 'Analyseende', 'Grundwasserleiterkomplex',\n",
       "       'Datenlogger', 'Grundwasserkörper', 'Kreis', 'Datenart', 'WRRL',\n",
       "       'WRRL.1', 'GEOMETRY', 'X_EPSG25833', 'Y_EPSG25833'],\n",
       "      dtype='object')"
      ]
     },
     "execution_count": 5,
     "metadata": {},
     "output_type": "execute_result"
    }
   ],
   "source": [
    "data.columns"
   ]
  },
  {
   "cell_type": "code",
   "execution_count": 6,
   "id": "74316bec-6abc-477a-a905-be644f93ff76",
   "metadata": {},
   "outputs": [],
   "source": [
    "col2drop= ['Filteroberkante', 'Filteroberkante (m unter Gelände)',\n",
    "       'Filterunterkante', 'Filterunterkante (m unter Gelände)','Beobachtungsbeginn', 'Beobachtungsende','Analysenbeginn', 'Analyseende',]"
   ]
  },
  {
   "cell_type": "code",
   "execution_count": 7,
   "id": "3fd97ff0-b237-4ba5-b679-ca0f9f496ab4",
   "metadata": {},
   "outputs": [],
   "source": [
    "data = data.drop(columns=col2drop)"
   ]
  },
  {
   "cell_type": "code",
   "execution_count": 8,
   "id": "ea21bda4-1e48-4eed-9f2f-ab212b5b6ed4",
   "metadata": {},
   "outputs": [],
   "source": [
    " data.to_csv(\"SN_GW_Wells_Wunsch.csv\")"
   ]
  }
 ],
 "metadata": {
  "kernelspec": {
   "display_name": "Python 3 (ipykernel)",
   "language": "python",
   "name": "python3"
  },
  "language_info": {
   "codemirror_mode": {
    "name": "ipython",
    "version": 3
   },
   "file_extension": ".py",
   "mimetype": "text/x-python",
   "name": "python",
   "nbconvert_exporter": "python",
   "pygments_lexer": "ipython3",
   "version": "3.12.2"
  }
 },
 "nbformat": 4,
 "nbformat_minor": 5
}
