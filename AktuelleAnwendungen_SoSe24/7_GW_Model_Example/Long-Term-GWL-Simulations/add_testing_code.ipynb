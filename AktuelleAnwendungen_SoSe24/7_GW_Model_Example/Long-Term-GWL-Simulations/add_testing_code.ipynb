{
 "cells": [
  {
   "cell_type": "markdown",
   "id": "8b4d03f2-00f9-4b78-abdf-80e3d688ae83",
   "metadata": {},
   "source": [
    "## get list of wells"
   ]
  },
  {
   "cell_type": "code",
   "execution_count": 113,
   "id": "b8ed5e76-2b35-4bca-b9dc-8dd68a13a98f",
   "metadata": {},
   "outputs": [
    {
     "data": {
      "text/plain": [
       "'BY_7126-3'"
      ]
     },
     "execution_count": 113,
     "metadata": {},
     "output_type": "execute_result"
    }
   ],
   "source": [
    "## test\n",
    "txt = \"Data/GWData/BY_7126-3_GW-Data.csv\"# \"BB_27381010_GW-Data\"\n",
    "\n",
    "x_1 = txt.split(\"/\")\n",
    "x_2 =x_1[2].split(\"_\")\n",
    "x_2[0]+\"_\"+x_2[1]\n",
    "\n",
    "## nice works!"
   ]
  },
  {
   "cell_type": "code",
   "execution_count": 114,
   "id": "d96464dc-d893-453b-a919-e1bdf76aaa25",
   "metadata": {},
   "outputs": [
    {
     "name": "stdout",
     "output_type": "stream",
     "text": [
      "['BY_7126', 'ST_34376608', 'MV_17390002', 'HE_6645', 'SH_10L62060004', 'NI_200002153', 'NW_110060143', 'BY_83614', 'BB_33470960', 'ST_43435116', 'BB_39496056', 'NI_40501911', 'BY_22008', 'RP_2373131200', 'NI_200000788', 'BY_15120', 'BB_28390113', 'BW_194-069-9', 'NI_200001722', 'SN_46460564', 'BB_39441476', 'NI_9840901', 'BW_100-813-7', 'SH_10L55038005', 'ST_40415442', 'BB_34426110', 'NI_200000620', 'BY_5162', 'BB_31491979', 'SH_10L56048003', 'NI_40000175', 'BB_33437106', 'NI_400080190', 'BB_37451908', 'SH_10L57066002', 'SN_49484004', 'SN_52410759', 'ST_36340007', 'SN_47500596', 'BB_33437090', 'BW_131-115-0', 'BY_3108', 'BB_27381010', 'BB_34522461', 'MV_16450200', 'HE_14297', 'NI_100000728', 'HE_6253', 'BB_42458092', 'ST_33340002', 'BY_13126', 'NI_9700159', 'NW_80000186', 'SH_10L54010004', 'BW_15-568-2', 'NI_405160331', 'BB_40500136', 'BW_124-068-9', 'HE_11781', 'BY_25155', 'BY_9275', 'BB_33452451', 'RP_2587150500', 'NI_9700020', 'RP_2378140100', 'SN_49531740', 'NW_129660176', 'BY_11119', 'BW_110-619-8', 'BY_5158', 'NI_600041871', 'NW_129660206', 'BY_8252', 'BW_177-770-1', 'ST_31340028', 'NI_500000592', 'HE_10319', 'NI_100000842', 'NI_200001068', 'BB_31400780', 'BW_103-763-0', 'BW_145-772-0', 'SN_48390509', 'NI_129300060', 'BW_107-666-2', 'BB_30400591', 'NW_110240017', 'NI_9853172', 'NW_91163705', 'NW_100140142', 'NW_110040028', 'NI_400081660', 'HE_7824', 'SH_10L53126001', 'NW_80300376', 'NW_110040041', 'BB_33437070', 'HE_14293', 'NW_60090169', 'BW_16-706-8', 'NW_100140762', 'ST_44339213', 'NI_9840391', 'BB_32455305', 'NW_60240258', 'HE_12117', 'SH_10L55005005', 'SN_46440927', 'BW_112-211-1', 'NW_91174909', 'NI_9700080', 'NI_40000233', 'BB_29519030', 'BY_24153', 'ST_41300015', 'NI_100000926', 'ST_39320023', 'SN_49430964']\n"
     ]
    }
   ],
   "source": [
    "import glob\n",
    "wells = []\n",
    "for filepath in glob.iglob(\"Data/GWData/*.csv\"):\n",
    "\n",
    "    x_1 = filepath.split(\"/\")\n",
    "    x_2 =x_1[2].split(\"_\")\n",
    "\n",
    "    well_id = x_2[0]+\"_\"+x_2[1]\n",
    "    wells.append(well_id)\n",
    "    \n",
    "print(wells)"
   ]
  },
  {
   "cell_type": "code",
   "execution_count": 115,
   "id": "6d9065ec-4bb0-4b2a-9bfe-e4094d2b832a",
   "metadata": {},
   "outputs": [
    {
     "name": "stdout",
     "output_type": "stream",
     "text": [
      "Done\n"
     ]
    }
   ],
   "source": [
    "with open(r'./list.txt', 'w') as fp:\n",
    "    fp.write(\"ID\\n\")\n",
    "    for well in wells:\n",
    "        # write each item on a new line\n",
    "        fp.write(\"%s\\n\" % well)\n",
    "    print('Done')"
   ]
  },
  {
   "cell_type": "code",
   "execution_count": 116,
   "id": "0c707899-1731-4f1e-80ec-7be8fb3dcfbd",
   "metadata": {},
   "outputs": [],
   "source": [
    "import pandas as pd"
   ]
  },
  {
   "cell_type": "code",
   "execution_count": 117,
   "id": "c4ef00aa-4baa-4b73-8407-0714c68c8314",
   "metadata": {},
   "outputs": [],
   "source": [
    "well_list = pd.read_csv(\"./list.txt\")\n",
    "#Well_ID = well_list.ID[i]"
   ]
  },
  {
   "cell_type": "code",
   "execution_count": 118,
   "id": "5188426c-f93c-466a-9a0b-eb72e432f568",
   "metadata": {},
   "outputs": [
    {
     "data": {
      "text/plain": [
       "0             BY_7126\n",
       "1         ST_34376608\n",
       "2         MV_17390002\n",
       "3             HE_6645\n",
       "4      SH_10L62060004\n",
       "            ...      \n",
       "113          BY_24153\n",
       "114       ST_41300015\n",
       "115      NI_100000926\n",
       "116       ST_39320023\n",
       "117       SN_49430964\n",
       "Name: ID, Length: 118, dtype: object"
      ]
     },
     "execution_count": 118,
     "metadata": {},
     "output_type": "execute_result"
    }
   ],
   "source": [
    "well_list.ID"
   ]
  },
  {
   "cell_type": "code",
   "execution_count": 119,
   "id": "4e067a12-667a-4d2a-b438-745971dbd89b",
   "metadata": {},
   "outputs": [
    {
     "data": {
      "text/plain": [
       "'HE_6645'"
      ]
     },
     "execution_count": 119,
     "metadata": {},
     "output_type": "execute_result"
    }
   ],
   "source": [
    "pathGW = \"Data/GWData\"\n",
    "pathHYRAS = \"Data/HYRAS\"\n",
    "pathconnect = \"/\"\n",
    "\n",
    "#load a list of all sites\n",
    "well_list = pd.read_csv(\"./list.txt\")\n",
    "Well_ID = well_list.ID[3]\n",
    "\n",
    "Well_ID"
   ]
  },
  {
   "cell_type": "code",
   "execution_count": null,
   "id": "52a9ce29-13aa-4abd-89df-b5c916a4bf48",
   "metadata": {},
   "outputs": [],
   "source": []
  },
  {
   "cell_type": "markdown",
   "id": "d6b15902-6dc8-4da7-b4ee-5faf3b83f189",
   "metadata": {},
   "source": [
    "## Just testing renaming GW to HYRAS data filenameformat"
   ]
  },
  {
   "cell_type": "code",
   "execution_count": 112,
   "id": "45d5f5f9-cd6b-480d-adcf-f6fa40ec0a78",
   "metadata": {},
   "outputs": [],
   "source": [
    "path = 'Data/HYRAS/'\n",
    "files = os.listdir(path)\n",
    "\n",
    "for index, file in enumerate(files):\n",
    "    os.rename(os.path.join(path, file), os.path.join(path, file.replace('_GW-Data', '_weeklyData_HYRAS')))"
   ]
  },
  {
   "cell_type": "code",
   "execution_count": null,
   "id": "95caa0c3-9e97-4fd3-8a10-8eda0b29ff40",
   "metadata": {},
   "outputs": [],
   "source": []
  },
  {
   "cell_type": "code",
   "execution_count": null,
   "id": "1c8e487e-7282-4f3c-95e3-75490306b8af",
   "metadata": {},
   "outputs": [],
   "source": []
  },
  {
   "cell_type": "code",
   "execution_count": 121,
   "id": "d41870bd-9311-49bd-a460-c272a53bd6c8",
   "metadata": {},
   "outputs": [
    {
     "data": {
      "text/plain": [
       "array([ 1,  2,  3,  4,  5,  6,  7,  8,  9, 10, 11, 12, 13, 14, 15, 16, 17,\n",
       "       18, 19])"
      ]
     },
     "execution_count": 121,
     "metadata": {},
     "output_type": "execute_result"
    }
   ],
   "source": [
    "np.arange(1,20)"
   ]
  },
  {
   "cell_type": "code",
   "execution_count": 147,
   "id": "38aae628-586a-4f56-97d0-39ed8309873e",
   "metadata": {},
   "outputs": [
    {
     "data": {
      "text/plain": [
       "76"
      ]
     },
     "execution_count": 147,
     "metadata": {},
     "output_type": "execute_result"
    }
   ],
   "source": [
    "# importing the random module\n",
    "import random\n",
    "x = 0\n",
    "for i in range(1,10):\n",
    "    x += random.randint(1,21)\n",
    "x    "
   ]
  }
 ],
 "metadata": {
  "kernelspec": {
   "display_name": "Python 3 (ipykernel)",
   "language": "python",
   "name": "python3"
  },
  "language_info": {
   "codemirror_mode": {
    "name": "ipython",
    "version": 3
   },
   "file_extension": ".py",
   "mimetype": "text/x-python",
   "name": "python",
   "nbconvert_exporter": "python",
   "pygments_lexer": "ipython3",
   "version": "3.12.2"
  }
 },
 "nbformat": 4,
 "nbformat_minor": 5
}
