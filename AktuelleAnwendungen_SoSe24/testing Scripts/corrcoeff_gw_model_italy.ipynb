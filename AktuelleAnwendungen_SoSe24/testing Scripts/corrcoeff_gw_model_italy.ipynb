{
 "cells": [
  {
   "cell_type": "code",
   "execution_count": null,
   "id": "bdaed041-c28c-426c-80ac-c54e8bb602aa",
   "metadata": {},
   "outputs": [],
   "source": [
    "#### Example: Decline in Groundwater levels\n",
    "> **Exercise 8: Checking correlation coefficients**\n",
    ">\n",
    "> What factors affecting decline of groundwater level in Auser Aquifer, italy?  Here, we will use an example dataset from kaggle. You can find the description here(https://www.kaggle.com/code/andreshg/timeseries-analysis-a-complete-guide/input?select=Aquifer_Auser.csv)\n",
    "> \n",
    "> A water supply company struggles with the need to predict the water level in an aquifer in order to meet daily consumption. The aquifer only recharges in the autumn and winter. To maintain the health of the aquifer, we need to identify the factors that are causing the water table to drop. "
   ]
  },
  {
   "cell_type": "code",
   "execution_count": null,
   "id": "8a275548-e3a9-407e-825f-95892a5bb75c",
   "metadata": {},
   "outputs": [],
   "source": [
    "gw_data = pd.read_csv(\n",
    "    \"Aquifer_Auser.csv\",\n",
    "    #sep=\";\",\n",
    "    #na_values=[\"-999\"],\n",
    "    #skipinitialspace=True\n",
    ")\n",
    "gw_data['Date'] = pd.to_datetime(gw_data['Date'], format='%d/%m/%Y')\n",
    "gw_data = gw_data[(gw_data['Date'] > '2006-01-01')]\n",
    "gw_data.columns"
   ]
  },
  {
   "cell_type": "code",
   "execution_count": null,
   "id": "c12d3b50-515c-4119-ada8-4debee136274",
   "metadata": {},
   "outputs": [],
   "source": [
    "gw_data = gw_data[['Date', 'Rainfall_Pontetetto', 'Depth_to_Groundwater_LT2', 'Temperature_Orentano' ]]\n",
    "\n",
    "gw_data = gw_data.rename(columns={\"Rainfall_Pontetetto\": \"precip\",\n",
    "                            \"Depth_to_Groundwater_LT2\": \"Depth_to_Groundwater\",\n",
    "                            \"Temperature_Orentano\": \"temp\",})\n",
    "\n"
   ]
  },
  {
   "cell_type": "code",
   "execution_count": null,
   "id": "a1b93c42-b6cd-430a-8958-943db3bcc3a4",
   "metadata": {},
   "outputs": [],
   "source": [
    "gw_data['precip'] = gw_data['precip'].replace(0, 0.00000000001)  "
   ]
  },
  {
   "cell_type": "code",
   "execution_count": null,
   "id": "aa83e7be-9f4f-42bf-b2be-6309a5fc012d",
   "metadata": {},
   "outputs": [],
   "source": [
    "xmin, xmax, prec_min_max = min_max(gw_data['precip'])\n",
    "precip_log = log_transform(prec_min_max)\n",
    "plt.hist(precip_log)"
   ]
  },
  {
   "cell_type": "code",
   "execution_count": null,
   "id": "4e76d955-5a20-4c5d-b687-5930c4f9917d",
   "metadata": {},
   "outputs": [],
   "source": [
    "sns.pairplot(gw_data, corner=True)\n",
    "plt.show()"
   ]
  },
  {
   "cell_type": "code",
   "execution_count": 2,
   "id": "e0c847de-dc45-4df3-8504-cc5d596a9301",
   "metadata": {},
   "outputs": [
    {
     "data": {
      "text/plain": [
       "0.0"
      ]
     },
     "execution_count": 2,
     "metadata": {},
     "output_type": "execute_result"
    }
   ],
   "source": [
    "0/6"
   ]
  }
 ],
 "metadata": {
  "kernelspec": {
   "display_name": "Python 3 (ipykernel)",
   "language": "python",
   "name": "python3"
  },
  "language_info": {
   "codemirror_mode": {
    "name": "ipython",
    "version": 3
   },
   "file_extension": ".py",
   "mimetype": "text/x-python",
   "name": "python",
   "nbconvert_exporter": "python",
   "pygments_lexer": "ipython3",
   "version": "3.12.2"
  }
 },
 "nbformat": 4,
 "nbformat_minor": 5
}
