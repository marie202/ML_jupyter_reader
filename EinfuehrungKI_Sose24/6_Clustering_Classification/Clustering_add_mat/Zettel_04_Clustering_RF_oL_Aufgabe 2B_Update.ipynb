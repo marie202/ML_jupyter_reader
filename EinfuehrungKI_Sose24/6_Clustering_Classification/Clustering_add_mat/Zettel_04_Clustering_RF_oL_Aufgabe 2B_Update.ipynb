{
 "cells": [
  {
   "cell_type": "markdown",
   "metadata": {},
   "source": [
    "# Statistische Modelle in den Geowissenschaften\n",
    "\n",
    "Zettel 4\n",
    "\n",
    "Abgabe bis Mittwoch 24.05.2023 um 15:00Uhr im Whiteboard."
   ]
  },
  {
   "cell_type": "markdown",
   "metadata": {},
   "source": [
    "## Aufgabe 2: Random Forests (5 Punkte)\n",
    "\n",
    "In dieser Übung werden wir einen RF aus aktuellen Berliner Wetterdaten erstellen. Lesen Sie dazu die Datenbeschreibung im Refubium:   https://refubium.fu-berlin.de/handle/fub188/38460\n",
    "\n",
    "und laden die Datei 01_Tempelhof-1_2006_Daten.zip herunter: https://refubium.fu-berlin.de/bitstream/handle/fub188/38460/01_Tempelhof-1_2006_Daten.zip?sequence=2&isAllowed=y\n",
    "\n",
    "Zu diesem Datensatz gibt es nochmal eine gesonderte Beschreibung welche Sie sich gern ansehen können: https://refubium.fu-berlin.de/bitstream/handle/fub188/38460/01_Tempelhof-1_Beschreibung.pdf?sequence=3&isAllowed=y\n",
    "\n",
    "Das Einlesen und Benennen der Daten geht recht einfach (die Variablennamen stehen in der gezipten .csv Datei). In R verwendet man hierfür am besten einen sogenannten Data-Frame. Die Funktion `read.table()` erzeugt diesen automatisch:"
   ]
  },
  {
   "cell_type": "code",
   "execution_count": 2,
   "metadata": {},
   "outputs": [],
   "source": [
    "variables <- c(\"Jahr\",\"Monat\",\"Tag\",\"Stunde\",\"Minute\",\"WDay\",\"WoY\",\"DoY\",\n",
    "\"air_temperature\"                            ,\"air_temperature_guete\",                # C\n",
    "\"relative_humidity\"                          ,\"relative_humidity_guete\",              # %\n",
    "\"duration_of_sunshine\"                       ,\"duration_of_sunshine_guete\",           # min                       \n",
    "\"air_pressure_at_station_level\"              ,\"air_pressure_at_station_level_guete\",  # hPa              \n",
    "\"air_temperature2\"                           ,\"air_temperature2_guete\",                   # C      \n",
    "\"height_of_precipitation\"                    ,\"height_of_precipitation_guete\",            # mm       \n",
    "\"wind_speed_maximum\"                         ,\"wind_speed_maximum_guete\",                 # m/s        \n",
    "\"soil_temperature\"                           ,\"soil_temperature_guete\",                   # C        \n",
    "\"wind_speed_mean\"                            ,\"wind_speed_mean_guete\",                    # m/s       \n",
    "\"global_solar_radiation\"                     ,\"global_solar_radiation_guete\",             # W/m^2        \n",
    "\"air_temperature3\"                           ,\"air_temperature3_guete\",                   # C        \n",
    "\"air_temperature4\"                           ,\"air_temperature4_guete\",                   # C       \n",
    "\"wind_from_direction_at_wind_speed_maximum\"  ,\"wind_from_direction_at_wind_speed_maximum_guete\",  # degree \n",
    "\"wind_from_direction\"                        ,\"wind_from_direction_guete\")                        # degree\n",
    "\n",
    "data <- read.table(unzip(\"D:/Studium/Master.Meteorologie/stati/Ü/daten/01_Tempelhof-1_2006_Daten.zip\",\"01_Tempelhof-1_2006_Daten.csv\"),col.names=variables)\n"
   ]
  },
  {
   "cell_type": "markdown",
   "metadata": {},
   "source": [
    "Benutzen sie z.B. die `str()` und die `dim()` Funktion um sich einen Überlick über die Daten zu verschaffen.\n",
    "Sie werden sehen, das wir Variablen mit Integer, Real und Character Inhalten haben. Die Character Variablen betreffen allerdings nur die \"_guete\" Variablen welche kaum Informationen enthalten. Wir entfernen sie im Weiteren:"
   ]
  },
  {
   "cell_type": "code",
   "execution_count": 7,
   "metadata": {},
   "outputs": [
    {
     "data": {
      "text/html": [
       "<ol class=list-inline>\n",
       "\t<li>525600</li>\n",
       "\t<li>36</li>\n",
       "</ol>\n"
      ],
      "text/latex": [
       "\\begin{enumerate*}\n",
       "\\item 525600\n",
       "\\item 36\n",
       "\\end{enumerate*}\n"
      ],
      "text/markdown": [
       "1. 525600\n",
       "2. 36\n",
       "\n",
       "\n"
      ],
      "text/plain": [
       "[1] 525600     36"
      ]
     },
     "metadata": {},
     "output_type": "display_data"
    }
   ],
   "source": [
    "dim(data)"
   ]
  },
  {
   "cell_type": "code",
   "execution_count": 8,
   "metadata": {},
   "outputs": [
    {
     "name": "stdout",
     "output_type": "stream",
     "text": [
      "'data.frame':\t525600 obs. of  36 variables:\n",
      " $ Jahr                                           : int  2006 2006 2006 2006 2006 2006 2006 2006 2006 2006 ...\n",
      " $ Monat                                          : int  1 1 1 1 1 1 1 1 1 1 ...\n",
      " $ Tag                                            : int  1 1 1 1 1 1 1 1 1 1 ...\n",
      " $ Stunde                                         : int  0 0 0 0 0 0 0 0 0 0 ...\n",
      " $ Minute                                         : int  0 1 2 3 4 5 6 7 8 9 ...\n",
      " $ WDay                                           : int  0 0 0 0 0 0 0 0 0 0 ...\n",
      " $ WoY                                            : int  1 1 1 1 1 1 1 1 1 1 ...\n",
      " $ DoY                                            : int  1 1 1 1 1 1 1 1 1 1 ...\n",
      " $ air_temperature                                : num  2.3 2.4 2.3 2.4 2.4 2.4 2.4 2.4 2.4 2.5 ...\n",
      " $ air_temperature_guete                          : Factor w/ 3 levels \"g\",\"k\",\"m\": 1 1 1 1 1 1 1 1 1 1 ...\n",
      " $ relative_humidity                              : num  99 99 99 99 99 99 99 99 99 99 ...\n",
      " $ relative_humidity_guete                        : Factor w/ 3 levels \"g\",\"k\",\"m\": 1 1 1 1 1 1 1 1 1 1 ...\n",
      " $ duration_of_sunshine                           : num  0 0 0 0 0 0 0 0 0 0 ...\n",
      " $ duration_of_sunshine_guete                     : Factor w/ 4 levels \"g\",\"k\",\"m\",\"q\": 1 1 1 1 1 1 1 1 1 1 ...\n",
      " $ air_pressure_at_station_level                  : num  993 993 993 993 993 ...\n",
      " $ air_pressure_at_station_level_guete            : Factor w/ 3 levels \"g\",\"k\",\"m\": 1 1 1 1 1 1 1 1 1 1 ...\n",
      " $ air_temperature2                               : num  1.2 1.3 1.2 1.3 1.4 1.3 1.4 1.3 1.4 1.4 ...\n",
      " $ air_temperature2_guete                         : Factor w/ 3 levels \"g\",\"k\",\"m\": 1 1 1 1 1 1 1 1 1 1 ...\n",
      " $ height_of_precipitation                        : num  0 0 0 0 0 0 0 0 0 0 ...\n",
      " $ height_of_precipitation_guete                  : Factor w/ 3 levels \"g\",\"k\",\"m\": 1 1 1 1 1 1 1 1 1 1 ...\n",
      " $ wind_speed_maximum                             : num  3.5 3.5 4.1 3.7 3.8 4.2 4.7 4.3 4.2 5.4 ...\n",
      " $ wind_speed_maximum_guete                       : Factor w/ 3 levels \"g\",\"k\",\"m\": 1 1 1 1 1 1 1 1 1 1 ...\n",
      " $ soil_temperature                               : num  0.1 0.1 0.1 0.1 0.1 0.1 0.1 0.1 0.1 0.1 ...\n",
      " $ soil_temperature_guete                         : Factor w/ 3 levels \"g\",\"k\",\"m\": 1 1 1 1 1 1 1 1 1 1 ...\n",
      " $ wind_speed_mean                                : num  3.1 3 3.5 3.3 3.2 3.7 3.5 3.8 3.7 3.9 ...\n",
      " $ wind_speed_mean_guete                          : Factor w/ 3 levels \"g\",\"k\",\"m\": 1 1 1 1 1 1 1 1 1 1 ...\n",
      " $ global_solar_radiation                         : num  0 0 0 0 0 0 0 0 0 0 ...\n",
      " $ global_solar_radiation_guete                   : Factor w/ 3 levels \"g\",\"k\",\"m\": 1 1 1 1 1 1 1 1 1 1 ...\n",
      " $ air_temperature3                               : num  1.9 1.9 1.9 1.9 2 2 2 2 2 2.1 ...\n",
      " $ air_temperature3_guete                         : Factor w/ 3 levels \"g\",\"k\",\"m\": 1 1 1 1 1 1 1 1 1 1 ...\n",
      " $ air_temperature4                               : num  2.5 2.6 2.6 2.6 2.6 2.6 2.7 2.7 2.7 2.7 ...\n",
      " $ air_temperature4_guete                         : Factor w/ 3 levels \"g\",\"k\",\"m\": 1 1 1 1 1 1 1 1 1 1 ...\n",
      " $ wind_from_direction_at_wind_speed_maximum      : num  205 213 223 213 223 215 218 215 215 230 ...\n",
      " $ wind_from_direction_at_wind_speed_maximum_guete: Factor w/ 3 levels \"g\",\"k\",\"m\": 1 1 1 1 1 1 1 1 1 1 ...\n",
      " $ wind_from_direction                            : num  211 205 210 213 216 215 219 216 216 218 ...\n",
      " $ wind_from_direction_guete                      : Factor w/ 3 levels \"g\",\"k\",\"m\": 1 1 1 1 1 1 1 1 1 1 ...\n"
     ]
    }
   ],
   "source": [
    "str(data)"
   ]
  },
  {
   "cell_type": "code",
   "execution_count": 3,
   "metadata": {},
   "outputs": [],
   "source": [
    " data2use <- data[c(\"Jahr\",\"Monat\",\"Tag\",\"Stunde\",\"Minute\",\"WDay\",\"WoY\",\"DoY\",\"air_temperature\",\n",
    "                    \"relative_humidity\",\"duration_of_sunshine\",\"air_pressure_at_station_level\",\n",
    "                    \"height_of_precipitation\",\"wind_speed_maximum\" ,\"soil_temperature\" ,\"wind_speed_mean\" ,\n",
    "                    \"global_solar_radiation\", \"wind_from_direction_at_wind_speed_maximum\",\"wind_from_direction\")]"
   ]
  },
  {
   "cell_type": "markdown",
   "metadata": {},
   "source": [
    "Wir erzeugen nun aus `data2use` einen RF wie in der Vorlesung gezeigt. Verwenden also die Funktion `randomForest()` aus dem `randomForest` package. Zielgröße ist in diesem Fall `soil_temperature`. Diese soll aus allen anderen Variablen in `data` bestimmt werden. \n"
   ]
  },
  {
   "cell_type": "code",
   "execution_count": 4,
   "metadata": {},
   "outputs": [
    {
     "name": "stderr",
     "output_type": "stream",
     "text": [
      "randomForest 4.6-14\n",
      "Type rfNews() to see new features/changes/bug fixes.\n"
     ]
    }
   ],
   "source": [
    "library(randomForest)\n",
    "model <- randomForest(\n",
    "   formula = soil_temperature ~ ., data=data2use, na.action=\"na.omit\" , sampsize=20000, mtry=3, ntree=150)"
   ]
  },
  {
   "cell_type": "markdown",
   "metadata": {},
   "source": [
    "### A) (1 Punkt)\n",
    "\n",
    "Wenden sie die `plot()` und die `varImpPlot()` Funktion auf den erzeugeten RF an. Diskutieren sie die Ergebnisse kurz in jeweils 1-2 Sätzen."
   ]
  },
  {
   "cell_type": "markdown",
   "metadata": {},
   "source": [
    "\n",
    "\n",
    "### B) (2 Punkte)\n",
    "\n",
    "Durch `model$mse` erhält man Zugriff auf die geplottete Fehlerkurve. Plotten sie diese für verschiedene RFs welche mit `mtry`= 1 bis 10 traineiert wurden. `mtry` ist ein Metaparameter des Entscheidungsbaumgenerierung. Lesen Sie sich die Beschreibung zu `mtry` in der die R-Hilfe `?randomForest` durch. Plotten sie die verschiedenen Kurven idealerweise in einem Plot. Diskutieren sie das Ergebnis. (HINWEIS: In diesem Teil kann es gut sein, dass die Ausführung des Codes eine Weile dauert)"
   ]
  },
  {
   "cell_type": "code",
   "execution_count": 8,
   "metadata": {},
   "outputs": [
    {
     "data": {
      "image/png": "[encoded data removed]",
      "text/plain": [
       "Plot with title \"Fehlerkurven für verschiedene mtry-Werte\""
      ]
     },
     "metadata": {},
     "output_type": "display_data"
    }
   ],
   "source": [
    "library(RColorBrewer)\n",
    "col_palette <- brewer.pal(10, \"Paired\")\n",
    "mtry_list <- 1:10\n",
    "\n",
    "# Erstellen des leeren Plots\n",
    "plot(1, type = \"n\", xlim = c(1, 150), ylim = c(0, max(model$mse)),\n",
    "     xlab = \"Number of Trees\", ylab = \"MSE\", main = \"Fehlerkurven für verschiedene mtry-Werte\")\n",
    "\n",
    "# Iteration über mtry-Werte\n",
    "for (m in mtry_list) {\n",
    "  model_iter <- randomForest(formula = soil_temperature ~ ., \n",
    "                             data = data2use, na.action = \"na.omit\", \n",
    "                             sampsize = 20000, mtry = m, ntree = 150)\n",
    "  lines(model_iter$mse, type = \"l\", col = col_palette[m])\n",
    "}\n",
    "\n",
    "# Legende hinzufügen\n",
    "legend(\"topright\", legend = mtry_list, col = col_palette, lty = 1, lwd = 2,\n",
    "       title = \"mtry\")"
   ]
  },
  {
   "cell_type": "markdown",
   "metadata": {},
   "source": [
    "Für die Fehlerkurve \n",
    "\n",
    "\n",
    " Eine steil abfallende Fehlerkurve kann darauf hinweisen, dass das Modell bei höheren mtry-Werten deutlich an Leistung gewinnt. Dies deutet auf eine höhere Modellkomplexität hin, da mehr Variablen für die Entscheidungsfindung verwendet werden. Wenn die Fehlerkurve für verschiedene mtry-Werte relativ flach ist und keine deutlichen Spitzen oder Täler aufweist, deutet dies auf eine gewisse Stabilität des Modells hin. Es bedeutet, dass die Leistung des Modells nicht stark von der Wahl des mtry-Werts abhängt. In unserem Fall, ist es so dass die Fehlerkurve zunächst sehr stark fällt und so mit aussagt, dass bei höheren mtry-Werten deutlich an Leistung gewinnt, aber ab 4 mtry die Fehlerkurve sehr flach ist und keine deutlichen Spitzen oder Täler aufweist und somit eine gewisse Stabilität hindeutet."
   ]
  },
  {
   "cell_type": "code",
   "execution_count": null,
   "metadata": {},
   "outputs": [],
   "source": []
  }
 ],
 "metadata": {
  "kernelspec": {
   "display_name": "R",
   "language": "R",
   "name": "ir"
  },
  "language_info": {
   "codemirror_mode": "r",
   "file_extension": ".r",
   "mimetype": "text/x-r-source",
   "name": "R",
   "pygments_lexer": "r",
   "version": "3.6.1"
  }
 },
 "nbformat": 4,
 "nbformat_minor": 4
}
