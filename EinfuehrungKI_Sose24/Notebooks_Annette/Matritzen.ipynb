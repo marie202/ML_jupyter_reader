{
 "cells": [
  {
   "cell_type": "markdown",
   "id": "61a3987e",
   "metadata": {},
   "source": [
    "## Vectors and matrices \n"
   ]
  },
  {
   "cell_type": "markdown",
   "id": "6583dbdc",
   "metadata": {},
   "source": [
    "Points in a plane in the real space are given by pairs $(x,y)$ in $\\mathbb{R}^2$"
   ]
  },
  {
   "cell_type": "markdown",
   "id": "146fee41",
   "metadata": {},
   "source": [
    "<img src=\"Vektor2D.jpg\" width=\"400\"/>"
   ]
  },
  {
   "cell_type": "markdown",
   "id": "b7e92cc5",
   "metadata": {},
   "source": [
    "In three dimensions, we write $(x,y,z)$ in $\\mathbb{R}^3$ and in $n$ dimensions we write  $(x_1,x_2,\\dots ,x_n )$ in $\\mathbb{R}^n$"
   ]
  },
  {
   "cell_type": "markdown",
   "id": "5201da7b",
   "metadata": {},
   "source": [
    "Usually, we consider column vectors and, instead of separating the elements by a komma, we write: \n",
    "$ \\begin{pmatrix} x_1 \\\\ x_2  \\end{pmatrix} $ in two dimensions, respectively $$ \\begin{pmatrix} x_1 \\\\ x_2  \\\\ x_3  \\\\  \\vdots \\\\ x_n \\end{pmatrix} $$  in the n-dimensional real space."
   ]
  },
  {
   "cell_type": "markdown",
   "id": "f612fa05",
   "metadata": {},
   "source": [
    "We can add two vectors  by adding elementwise:\n",
    "\n",
    "$$ \\begin{pmatrix} a_1 \\\\ a_2  \\\\ a_3  \\\\  \\vdots \\\\ a_n \\end{pmatrix} + \\begin{pmatrix} b_1 \\\\ b_2  \\\\ b_3  \\\\  \\vdots \\\\ b_n \\end{pmatrix} =  \\begin{pmatrix} a_1+b_1 \\\\ a_2+ b_2  \\\\ a_3+b_3  \\\\  \\vdots \\\\ a_n+b_n \\end{pmatrix} $$ \n"
   ]
  },
  {
   "cell_type": "markdown",
   "id": "9c6b6077",
   "metadata": {},
   "source": [
    "<img src=\"Vektoraddition.jpg\" width=\"400\"/>"
   ]
  },
  {
   "cell_type": "markdown",
   "id": "f23167cf",
   "metadata": {},
   "source": [
    "Multiplication of a vector with a real valued scalar $\\lambda$:\n",
    "\n",
    "$$k \\cdot \\begin{pmatrix} a_1 \\\\ a_2  \\\\ a_3  \\\\  \\vdots \\\\ a_n \\end{pmatrix}\n",
    "=  \\begin{pmatrix} \\lambda \\cdot a_1 \\\\ k \\cdot  a_2  \\\\  k \\cdot a_3  \\\\  \\vdots \\\\ k \\cdot a_n \\end{pmatrix} $$\n",
    "\n",
    "Example: \n",
    "\n",
    "$$ 3 \\cdot \\begin{pmatrix} 1 \\\\ 2  \\\\ 3   \\end{pmatrix}\n",
    "=  \\begin{pmatrix} 3 \\\\6  \\\\  9 \\end{pmatrix} $$"
   ]
  },
  {
   "cell_type": "markdown",
   "id": "588eb877",
   "metadata": {},
   "source": [
    "\n",
    "<img src=\"Multiplikation_mit_Skalar.jpg\" width=\"400\"/>"
   ]
  },
  {
   "cell_type": "markdown",
   "id": "a34618a6",
   "metadata": {},
   "source": [
    "The scalarproduct of two vectors is needed, if you want to calculate distances or lengths in the plane or a higher dimensional space. The scalar product of the vectors $\\vec{a}$ and  $\\vec{b}$ is given by: \n",
    "\n",
    "$$\n",
    "\\langle \\vec{a},\\vec{b} \\rangle =  \n",
    "\\langle  \\begin{pmatrix} a_1 \\\\ a_2  \\\\ a_3 \\\\ \\vdots  \\\\ a_n  \\end{pmatrix},\n",
    " \\begin{pmatrix} b_1 \\\\ b_2  \\\\ a_3 \\\\ \\vdots  \\\\ a_n  \\end{pmatrix}\\rangle = \n",
    " a_1 \\cdot b_1 + a_2 \\cdot b_2 + \\dots + a_n \\cdot b_n   $$\n",
    "\n",
    "Note that the scalar product of two vectors that are perpendicular is zero. This is always a great test, if you found an orthogonal (coordinate) system. \n",
    "\n",
    "The eucledian length of a vector can be calculated by the root of the scalar product:\n",
    "\n",
    "$$ \\vert\\vec{a} \\vert = \\sqrt{  \\langle \\vec{a}, \\vec{a} \\rangle }\n",
    "=\n",
    "\\sqrt{  \n",
    "\\langle \n",
    "\\begin{pmatrix}  a_1 \\\\ a_2  \\\\ a_3 \\\\ \\vdots  \\\\ a_n    \\end{pmatrix},\n",
    "  \\begin{pmatrix}  a_1 \\\\ a_2  \\\\ a_3 \\\\ \\vdots  \\\\ a_n    \\end{pmatrix} \n",
    "  \\rangle } = \\sqrt{  a_1^2+a_2^2+\\cdots + a_n^2 }  $$\n",
    "\n",
    "Let us consider the vector $\\begin{pmatrix} 1 \\\\ 0  \\end{pmatrix}$. This is just the one on the x-axis and the y-value is 0. Therefore, we already know, it should have length = 1. Lets test this: \n",
    "\n",
    " $$\\sqrt{  \\langle \\begin{pmatrix} 1 \\\\ 0  \\end{pmatrix} \\rangle } = \\sqrt{  1^2+0^2+0^2 } = 1  $$"
   ]
  },
  {
   "cell_type": "markdown",
   "id": "0004f681",
   "metadata": {},
   "source": [
    "### Matrices\n",
    "\n",
    "Matrices are helpful, if we want to store a lot of data or simplify sets of e.g. linear equations.\n",
    "Consider the following set of linear equations: \n",
    "\n",
    "$$ a_{11} x_1 + a_{12} x_2 + a_{13} x_2 = b_1    $$\n",
    "$$ a_{21} x_1 + a_{22} x_2 + a_{23} x_2 = b_2    $$\n",
    "$$ a_{31} x_1 + a_{32} x_2 + a_{33} x_2 = b_3    $$\n",
    "\n",
    "Let us assume that you know the coefficients $a_{ij}$ and $b_i$, $i=1,2,3$ and you are looking for the $x_1,x_2,x_3$ satisfiying the relations given in these three equations. \n",
    "\n",
    "You can first write the coefficients $a_{ij}$ in a matrix and $b_1,b_2,b_3$ in a vector, and $ x_1,x_2,x_3 $ in a vector, too:\n",
    "\n",
    "$$ A:= \\begin{pmatrix} a_{11} & a_{12} & a_{13} \\\\\n",
    "                   a_{21} & a_{22} & a_{23} \\\\\n",
    "                   a_{31} & a_{32} & a_{33} \\\\\n",
    "\\end{pmatrix}, \\, \\\n",
    "b= \\begin{pmatrix} b_1 \\\\\n",
    "                b_2 \\\\\n",
    "                b_3 \\\\\n",
    "\\end{pmatrix}, \\, \\\n",
    "x = \\begin{pmatrix} x_1 \\\\\n",
    "                x_2 \\\\\n",
    "                x_3 \\\\\n",
    "\\end{pmatrix}\n",
    "$$\n",
    "and write the set of equations as: \n",
    "$$ A \\cdot x = b $$\n",
    "\n"
   ]
  },
  {
   "cell_type": "markdown",
   "id": "23b2df49",
   "metadata": {},
   "source": [
    "Remark: Regarding neural networks, you know the x (and maybe the b) and want to find the optimal $a_{ij}$.\n",
    "\n",
    "##### Matrix multiplication\n",
    "\n",
    "Two matrices, say $A$ and $B$, are multiplied as follows: \n",
    "\n",
    "$$ A \\cdot B = \n",
    "\\underbrace{\n",
    "\\begin{pmatrix} \n",
    "                   a_{11} & a_{12} & a_{13} \\\\\n",
    "                   a_{21} & a_{22} & a_{23} \\\\\n",
    "\\end{pmatrix} \n",
    "}_{2 \\times 3 Matrix}\n",
    "\\cdot \n",
    "\\underbrace{\n",
    "\\begin{pmatrix} b_{11} & b_{12}  \\\\\n",
    "                b_{21} & b_{22}  \\\\\n",
    "                b_{31} & b_{32}  \\\\\n",
    "\\end{pmatrix} \n",
    "}_{3 \\times 2 Matrix}\n",
    "=\n",
    "\\underbrace{\n",
    "\\begin{pmatrix}\n",
    "  a_{11}\\cdot  b_{11} + a_{12}\\cdot  b_{21} + a_{13}\\cdot  b_{31} &\n",
    "  a_{11}\\cdot  b_{12} + a_{12}\\cdot  b_{22} + a_{13}\\cdot  b_{32} \\\\\n",
    "  a_{21}\\cdot  b_{11} + a_{22}\\cdot  b_{21} + a_{23}\\cdot  b_{31} &\n",
    "  a_{21}\\cdot  b_{12} + a_{22}\\cdot  b_{22} + a_{23}\\cdot  b_{32} \\\\\n",
    "\\end{pmatrix}\n",
    "}_{2 \\times 2 Matrix}\n",
    "$$\n",
    "\n",
    "$A$ is a $2 \\times 3$ Matrix, which means that it has 2 rows and 3 columns. $B$ is a $3 \\times 2$ Matrix, which means that it has 3 rows and 2 columns. If you want to multiply two matrices, the number of columns of batrix A needs to be equals to the number of rows of matrix B. The outcome matrix is of the size 'the number of rows of matrix A $\\times$ the number of columns of matrix B'. The dimensionality is always a good check, if the matrix multiplication is correct. \n",
    "\n",
    "\n",
    "\n",
    "### Vectors and matrices in Python\n",
    "\n"
   ]
  },
  {
   "cell_type": "code",
   "execution_count": 1,
   "id": "a890bd53",
   "metadata": {},
   "outputs": [],
   "source": [
    "# Numpy and Scipy --> sehr hilfreiche Module\n",
    "import numpy as np"
   ]
  },
  {
   "cell_type": "code",
   "execution_count": null,
   "id": "15651595-3015-4660-b208-68d2bae6606b",
   "metadata": {},
   "outputs": [],
   "source": []
  },
  {
   "cell_type": "code",
   "execution_count": 2,
   "id": "7b9999cb",
   "metadata": {},
   "outputs": [],
   "source": [
    "x = np.arange(1,10)"
   ]
  },
  {
   "cell_type": "code",
   "execution_count": null,
   "id": "49eafcac-550a-4f93-bf8c-747271b71aed",
   "metadata": {},
   "outputs": [],
   "source": []
  },
  {
   "cell_type": "code",
   "execution_count": 3,
   "id": "7691ed65",
   "metadata": {},
   "outputs": [
    {
     "name": "stdout",
     "output_type": "stream",
     "text": [
      "[1 2 3 4 5 6 7 8 9]\n"
     ]
    }
   ],
   "source": [
    "print(x)"
   ]
  },
  {
   "cell_type": "code",
   "execution_count": 4,
   "id": "8df7d0af",
   "metadata": {},
   "outputs": [
    {
     "name": "stdout",
     "output_type": "stream",
     "text": [
      "[1 4 7]\n"
     ]
    }
   ],
   "source": [
    "# mit Schrittweite: \n",
    "x = np.arange(1,10,3)\n",
    "print(x)"
   ]
  },
  {
   "cell_type": "code",
   "execution_count": 5,
   "id": "22ec9f1b",
   "metadata": {},
   "outputs": [],
   "source": [
    "## Array --> Müssen vom Datentyp float oder int sein\n",
    "\n",
    "x = np.array([1,2,3])"
   ]
  },
  {
   "cell_type": "code",
   "execution_count": 6,
   "id": "a0f66358",
   "metadata": {},
   "outputs": [
    {
     "data": {
      "text/plain": [
       "array([1, 2, 3])"
      ]
     },
     "execution_count": 6,
     "metadata": {},
     "output_type": "execute_result"
    }
   ],
   "source": [
    "x"
   ]
  },
  {
   "cell_type": "code",
   "execution_count": 7,
   "id": "e7406cef",
   "metadata": {},
   "outputs": [],
   "source": [
    "## Matritzen: \n",
    "A = np.array([[1, 2], [3, 4],[5, 6]])"
   ]
  },
  {
   "cell_type": "markdown",
   "id": "22c30c4f",
   "metadata": {},
   "source": [
    "Siehe zum Beispiel: https://www.programiz.com/python-programming/matrix"
   ]
  },
  {
   "cell_type": "code",
   "execution_count": 8,
   "id": "6dd26931",
   "metadata": {},
   "outputs": [
    {
     "data": {
      "text/plain": [
       "(3, 2)"
      ]
     },
     "execution_count": 8,
     "metadata": {},
     "output_type": "execute_result"
    }
   ],
   "source": [
    "## Wie groß ist unser Array?\n",
    "\n",
    "A.shape"
   ]
  },
  {
   "cell_type": "markdown",
   "id": "014390f6",
   "metadata": {},
   "source": [
    "Das Bedeutet: 3 Zeilen, 2 Spalten, test:"
   ]
  },
  {
   "cell_type": "code",
   "execution_count": 9,
   "id": "6c0ae5c0",
   "metadata": {},
   "outputs": [
    {
     "data": {
      "text/plain": [
       "array([[1, 2],\n",
       "       [3, 4],\n",
       "       [5, 6]])"
      ]
     },
     "execution_count": 9,
     "metadata": {},
     "output_type": "execute_result"
    }
   ],
   "source": [
    "A"
   ]
  },
  {
   "cell_type": "markdown",
   "id": "7ddcd3c5",
   "metadata": {},
   "source": [
    "Auf das Element in der zweiten Zeile und ersten Spalte zugreifen: (Erinnerung: in Python beginnen wir immer mit der 0!):"
   ]
  },
  {
   "cell_type": "code",
   "execution_count": 10,
   "id": "c6fe6842",
   "metadata": {},
   "outputs": [
    {
     "data": {
      "text/plain": [
       "3"
      ]
     },
     "execution_count": 10,
     "metadata": {},
     "output_type": "execute_result"
    }
   ],
   "source": [
    "A[1,0]"
   ]
  },
  {
   "cell_type": "markdown",
   "id": "8ce7e0e0",
   "metadata": {},
   "source": [
    "Wir können Arrays in eine andere Form bringen (np.reshape) und auch verknüpfen (np.concatenate):"
   ]
  },
  {
   "cell_type": "code",
   "execution_count": 11,
   "id": "2cb806b1",
   "metadata": {},
   "outputs": [
    {
     "name": "stdout",
     "output_type": "stream",
     "text": [
      "[ 0  1  2  3  4  5  6  7  8  9 10 11 12 13 14 15 16 17 18 19 20 21 22 23]\n"
     ]
    }
   ],
   "source": [
    "## \n",
    "a = np.array(range(24))\n",
    "print(a)"
   ]
  },
  {
   "cell_type": "code",
   "execution_count": 12,
   "id": "41ec6ad9",
   "metadata": {},
   "outputs": [
    {
     "data": {
      "text/plain": [
       "array([[ 0,  1,  2,  3,  4,  5],\n",
       "       [ 6,  7,  8,  9, 10, 11],\n",
       "       [12, 13, 14, 15, 16, 17],\n",
       "       [18, 19, 20, 21, 22, 23]])"
      ]
     },
     "execution_count": 12,
     "metadata": {},
     "output_type": "execute_result"
    }
   ],
   "source": [
    "a.reshape(4,6)"
   ]
  },
  {
   "cell_type": "code",
   "execution_count": 13,
   "id": "e4e393c6",
   "metadata": {},
   "outputs": [],
   "source": [
    "x = np.array([1,2,3])\n",
    "y = np.array([4,5,6])"
   ]
  },
  {
   "cell_type": "code",
   "execution_count": 14,
   "id": "e6f6e281",
   "metadata": {},
   "outputs": [],
   "source": [
    "z = np.concatenate((x,y))"
   ]
  },
  {
   "cell_type": "code",
   "execution_count": 15,
   "id": "33c2a9b2",
   "metadata": {},
   "outputs": [
    {
     "data": {
      "text/plain": [
       "array([1, 2, 3, 4, 5, 6])"
      ]
     },
     "execution_count": 15,
     "metadata": {},
     "output_type": "execute_result"
    }
   ],
   "source": [
    "z"
   ]
  },
  {
   "cell_type": "markdown",
   "id": "344ea507",
   "metadata": {},
   "source": [
    "Arrays mit Nullen oder Einsen initialisieren: "
   ]
  },
  {
   "cell_type": "code",
   "execution_count": 16,
   "id": "9d78db29",
   "metadata": {},
   "outputs": [
    {
     "name": "stdout",
     "output_type": "stream",
     "text": [
      "[[0. 0. 0.]\n",
      " [0. 0. 0.]]\n"
     ]
    }
   ],
   "source": [
    "Nullmatrix = np.zeros((2,3))\n",
    "print(Nullmatrix)"
   ]
  },
  {
   "cell_type": "code",
   "execution_count": 17,
   "id": "ef704341",
   "metadata": {},
   "outputs": [
    {
     "name": "stdout",
     "output_type": "stream",
     "text": [
      "[[1. 1. 1.]\n",
      " [1. 1. 1.]]\n"
     ]
    }
   ],
   "source": [
    "Einsmatrix = np.ones((2,3))\n",
    "print(Einsmatrix)"
   ]
  },
  {
   "cell_type": "markdown",
   "id": "e856d9b5",
   "metadata": {},
   "source": [
    "#### Rechnen mit Matritzen (und Vektoren)"
   ]
  },
  {
   "cell_type": "code",
   "execution_count": 18,
   "id": "fb7727c9",
   "metadata": {},
   "outputs": [],
   "source": [
    "x = np.array([1,2,3])\n",
    "y = np.array([4,5,6])"
   ]
  },
  {
   "cell_type": "markdown",
   "id": "1f836d69",
   "metadata": {},
   "source": [
    "Die arithmetischen Standardoperationen +,-,*,/,** werden emelemntweise angewendet, "
   ]
  },
  {
   "cell_type": "code",
   "execution_count": 19,
   "id": "3b36c59c",
   "metadata": {},
   "outputs": [
    {
     "data": {
      "text/plain": [
       "array([5, 7, 9])"
      ]
     },
     "execution_count": 19,
     "metadata": {},
     "output_type": "execute_result"
    }
   ],
   "source": [
    "x+y"
   ]
  },
  {
   "cell_type": "markdown",
   "id": "95d515bb",
   "metadata": {},
   "source": [
    "Skalarprodukt: "
   ]
  },
  {
   "cell_type": "code",
   "execution_count": 20,
   "id": "c0aed0a7",
   "metadata": {},
   "outputs": [
    {
     "data": {
      "text/plain": [
       "32"
      ]
     },
     "execution_count": 20,
     "metadata": {},
     "output_type": "execute_result"
    }
   ],
   "source": [
    "np.dot(x,y) "
   ]
  },
  {
   "cell_type": "markdown",
   "id": "ab375760",
   "metadata": {},
   "source": [
    "Skalarprodukt von x und y ergibt sich aus: $1*4+2*5+3*6 = 32$"
   ]
  },
  {
   "cell_type": "code",
   "execution_count": 21,
   "id": "23d11f66",
   "metadata": {},
   "outputs": [],
   "source": [
    "#Matrixprodukt: Matrix-Objekte definieren\n",
    "\n",
    "x = np.matrix(\"2 3 ; 3 1\")\n",
    "y = np.matrix(\"0 1 ; 1 1\")"
   ]
  },
  {
   "cell_type": "code",
   "execution_count": 22,
   "id": "604d47bd",
   "metadata": {},
   "outputs": [
    {
     "data": {
      "text/plain": [
       "matrix([[3, 5],\n",
       "        [1, 4]])"
      ]
     },
     "execution_count": 22,
     "metadata": {},
     "output_type": "execute_result"
    }
   ],
   "source": [
    "np.matrix(x)*np.matrix(y)"
   ]
  },
  {
   "cell_type": "code",
   "execution_count": null,
   "id": "f96caaca",
   "metadata": {},
   "outputs": [],
   "source": []
  }
 ],
 "metadata": {
  "kernelspec": {
   "display_name": "Python 3 (ipykernel)",
   "language": "python",
   "name": "python3"
  },
  "language_info": {
   "codemirror_mode": {
    "name": "ipython",
    "version": 3
   },
   "file_extension": ".py",
   "mimetype": "text/x-python",
   "name": "python",
   "nbconvert_exporter": "python",
   "pygments_lexer": "ipython3",
   "version": "3.12.2"
  }
 },
 "nbformat": 4,
 "nbformat_minor": 5
}
