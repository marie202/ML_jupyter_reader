{
 "cells": [
  {
   "cell_type": "markdown",
   "id": "0c423aff-67b1-4a91-aba5-ae8352fe52ab",
   "metadata": {},
   "source": [
    "# 2. Recap Statistics\n",
    "\n",
    "### Installation of needed libraries\n",
    "\n",
    "If the libraries have not yet been installed in the corresponding environment, this can be done with one of the following two code cells.\n",
    "\n",
    "### ... using conda"
   ]
  },
  {
   "cell_type": "code",
   "execution_count": null,
   "id": "d4854a62-a321-4361-8903-40e172c904af",
   "metadata": {},
   "outputs": [],
   "source": [
    "# Installiere die notwendigen Bibliotheken mit conda\n",
    "import sys\n",
    "!conda update --yes -n base -c  defaults conda\n",
    "!conda install --yes --prefix {sys.prefix} numpy matplotlib pandas seaborn matplotlib scipy\n"
   ]
  },
  {
   "cell_type": "markdown",
   "id": "6e3b79e6-810f-4dcb-9e1d-1e6598675140",
   "metadata": {},
   "source": [
    "\n",
    "### ... using pip"
   ]
  },
  {
   "cell_type": "code",
   "execution_count": null,
   "id": "618a34fd-3549-4f28-a6b9-d6eb18a2a646",
   "metadata": {},
   "outputs": [],
   "source": [
    "# Installiere die notwendigen Bibliotheken mit pip\n",
    "import sys\n",
    "!{sys.executable} -m pip install numpy matplotlib pandas seaborn matplotlib scipy"
   ]
  }
 ],
 "metadata": {
  "kernelspec": {
   "display_name": "Python 3 (ipykernel)",
   "language": "python",
   "name": "python3"
  },
  "language_info": {
   "codemirror_mode": {
    "name": "ipython",
    "version": 3
   },
   "file_extension": ".py",
   "mimetype": "text/x-python",
   "name": "python",
   "nbconvert_exporter": "python",
   "pygments_lexer": "ipython3",
   "version": "3.12.2"
  }
 },
 "nbformat": 4,
 "nbformat_minor": 5
}
