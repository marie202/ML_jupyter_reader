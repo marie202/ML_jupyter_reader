{
 "cells": [
  {
   "cell_type": "code",
   "execution_count": 1,
   "id": "eebf6b96-789f-4b51-8a41-3bfb11f7f24f",
   "metadata": {
    "editable": true,
    "slideshow": {
     "slide_type": ""
    },
    "tags": [
     "remove-cell"
    ]
   },
   "outputs": [],
   "source": [
    "%load_ext lab_black"
   ]
  },
  {
   "cell_type": "markdown",
   "id": "19d900c8",
   "metadata": {
    "editable": true,
    "slideshow": {
     "slide_type": ""
    },
    "tags": []
   },
   "source": [
    "## Datatypes\n",
    "\n",
    "In the following we want to introduce the concept of data types (especially) in Python. As explained in the previous chapters, data types are related to the type of information that should be processed or which is stored in a variable. We have already learned that Python (and other programming language) differentiates between numbers and characters. In relation to this there are appropriated data types for this kind of information. Based on the *type of data* the following atomic built-in data types are available in Python\n",
    "\n",
    "Kind of information | Data type |\n",
    ":- | :-: | \n",
    "text and characters | `str` | \n",
    "numbers **without** decimal point | `int` |\n",
    "numbers **with** decimal point | `float` | \n",
    "complex numbers in a mathematical meaning | `complex` |\n",
    "logical values (\\[1, 0\\]; \\[TRUE, FALSE\\]) | `bool` |\n",
    "\n",
    "> **Note:** The datatype of a variable / information is automatically determined by Python. The associated datatype is assigned by Python itself.\n",
    "\n",
    "> **Note:** The datatype of a variable is retrieved by using the `type()` function.\n",
    "\n",
    "> **Note:** All these data representations are objects in Python. Although there are a few functions that work on these datatypes, you will find a lot more helpful associated object properties and methods."
   ]
  },
  {
   "cell_type": "markdown",
   "id": "33b15270-2a66-4aa2-a640-f20e769b4d4b",
   "metadata": {
    "editable": true,
    "slideshow": {
     "slide_type": ""
    },
    "tags": []
   },
   "source": [
    "## Simple build in Data types\n",
    "\n",
    "We want to have a closer look at the atomic data types and how they are used in Python\n",
    "\n",
    "### Numbers\n",
    "\n",
    "#### Integer values\n",
    "\n",
    "Numbers without a decimal point are automatically stored as `integer`:"
   ]
  },
  {
   "cell_type": "code",
   "execution_count": 2,
   "id": "92e29394-f65b-49b0-b143-7f2cc8c9a983",
   "metadata": {},
   "outputs": [],
   "source": [
    "int_number = 33"
   ]
  },
  {
   "cell_type": "code",
   "execution_count": 3,
   "id": "cd302784-e1b6-436a-a3a8-edb4968845e5",
   "metadata": {},
   "outputs": [
    {
     "data": {
      "text/plain": [
       "int"
      ]
     },
     "execution_count": 3,
     "metadata": {},
     "output_type": "execute_result"
    }
   ],
   "source": [
    "type(int_number)"
   ]
  },
  {
   "cell_type": "markdown",
   "id": "1fe02ff0-6afc-4ced-b355-28a9274cf43b",
   "metadata": {
    "editable": true,
    "slideshow": {
     "slide_type": ""
    },
    "tags": []
   },
   "source": [
    "#### Float values\n",
    "\n",
    "In contrast to `integer` values numbers with a decimal point are stored as `float`:"
   ]
  },
  {
   "cell_type": "code",
   "execution_count": 4,
   "id": "8c7c8612-1399-4e62-8ecb-20b65cdec5a4",
   "metadata": {},
   "outputs": [],
   "source": [
    "float_number = 33.33"
   ]
  },
  {
   "cell_type": "code",
   "execution_count": 5,
   "id": "d673de94-e622-47c6-9671-92431fc8020b",
   "metadata": {},
   "outputs": [
    {
     "data": {
      "text/plain": [
       "float"
      ]
     },
     "execution_count": 5,
     "metadata": {},
     "output_type": "execute_result"
    }
   ],
   "source": [
    "type(float_number)"
   ]
  },
  {
   "cell_type": "markdown",
   "id": "96ea7d26-a58a-4c16-97bd-92591b420bc5",
   "metadata": {},
   "source": [
    "> **Note:** You only need to set the decimal point so that Python knows that the value of the variable is a `float`."
   ]
  },
  {
   "cell_type": "markdown",
   "id": "4376f6b4-9533-4948-8ce6-2899a1dddd89",
   "metadata": {},
   "source": [
    "There is also the possibility to change the data type of a variable manually. For instance:"
   ]
  },
  {
   "cell_type": "code",
   "execution_count": 6,
   "id": "a174c1c4-106e-4ec4-92b8-dfeac33251cc",
   "metadata": {},
   "outputs": [
    {
     "data": {
      "text/plain": [
       "33"
      ]
     },
     "execution_count": 6,
     "metadata": {},
     "output_type": "execute_result"
    }
   ],
   "source": [
    "int(float_number)"
   ]
  },
  {
   "cell_type": "code",
   "execution_count": 7,
   "id": "e4957e68-7b18-4fc1-87fa-093512f1f96e",
   "metadata": {},
   "outputs": [
    {
     "data": {
      "text/plain": [
       "int"
      ]
     },
     "execution_count": 7,
     "metadata": {},
     "output_type": "execute_result"
    }
   ],
   "source": [
    "type(int(float_number))"
   ]
  },
  {
   "cell_type": "markdown",
   "id": "a12579b5-f685-43d3-a8d3-16356c750213",
   "metadata": {},
   "source": [
    "> **Note:** The explicit, manual change of a data type is referred to the term of *type casting*. Be aware when you cast a data type into another since not every type cast is supported. Casting could also go along with information loss. According to this you should check the result of your type cast carefully."
   ]
  },
  {
   "cell_type": "markdown",
   "id": "10a48eaa-f387-45c0-9c65-0478c3d5d8a4",
   "metadata": {
    "editable": true,
    "slideshow": {
     "slide_type": ""
    },
    "tags": []
   },
   "source": [
    "### Character chains - `Strings`\n",
    "\n",
    "Besides numbers we also get to know about chains of characters or letters. The associated data typed is called `str` for strings. Every information is automatically interpreted as string if the value is put in `\"\"` or `''`:"
   ]
  },
  {
   "cell_type": "code",
   "execution_count": 8,
   "id": "738174ea-4fc9-418b-aff0-9223b5ec274a",
   "metadata": {},
   "outputs": [],
   "source": [
    "a_word = \"soga\"\n",
    "a_sentence = \"I enjoy reading soga\""
   ]
  },
  {
   "cell_type": "code",
   "execution_count": 9,
   "id": "9b9694c3-63f3-4e52-a79d-917e3d20d18d",
   "metadata": {},
   "outputs": [
    {
     "data": {
      "text/plain": [
       "str"
      ]
     },
     "execution_count": 9,
     "metadata": {},
     "output_type": "execute_result"
    }
   ],
   "source": [
    "type(a_word)"
   ]
  },
  {
   "cell_type": "code",
   "execution_count": 10,
   "id": "27ae4b7a-aeaa-4cf9-91de-242e5c7ab2c0",
   "metadata": {},
   "outputs": [
    {
     "data": {
      "text/plain": [
       "str"
      ]
     },
     "execution_count": 10,
     "metadata": {},
     "output_type": "execute_result"
    }
   ],
   "source": [
    "type(a_sentence)"
   ]
  },
  {
   "cell_type": "markdown",
   "id": "606611ea-40ea-46aa-a2cb-dce0f7371a2f",
   "metadata": {},
   "source": [
    "There is also the possibility to type cast any data type into a `str` by using the `str()` function. As mentioned before, be aware of casting a variable into a string object. For instance:"
   ]
  },
  {
   "cell_type": "code",
   "execution_count": 11,
   "id": "302214db-c62f-4326-a7db-fe305c7f5088",
   "metadata": {},
   "outputs": [
    {
     "data": {
      "text/plain": [
       "str"
      ]
     },
     "execution_count": 11,
     "metadata": {},
     "output_type": "execute_result"
    }
   ],
   "source": [
    "type(str(29))"
   ]
  },
  {
   "cell_type": "markdown",
   "id": "4a8309e3-6f50-488a-82e2-3ed3b8d875fc",
   "metadata": {},
   "source": [
    "The `print()` function is used to display the output of an variable:"
   ]
  },
  {
   "cell_type": "code",
   "execution_count": 12,
   "id": "47b08fe0-ccf9-4170-8257-6dad25bb4397",
   "metadata": {},
   "outputs": [
    {
     "name": "stdout",
     "output_type": "stream",
     "text": [
      "I enjoy reading soga\n"
     ]
    }
   ],
   "source": [
    "print(a_sentence)"
   ]
  },
  {
   "cell_type": "markdown",
   "id": "0cf038d2-b00d-4233-b8e1-8df5809de1aa",
   "metadata": {},
   "source": [
    "Or also for user given outputs:"
   ]
  },
  {
   "cell_type": "code",
   "execution_count": 13,
   "id": "22c7d760-59de-47e8-952a-d95fe2889627",
   "metadata": {},
   "outputs": [
    {
     "name": "stdout",
     "output_type": "stream",
     "text": [
      "This is the soga chapter about atomar data types.\n"
     ]
    }
   ],
   "source": [
    "print(\"This is the soga chapter about atomar data types.\")"
   ]
  },
  {
   "cell_type": "markdown",
   "id": "37c3e70a-21c0-44ba-81dd-2381bda7456f",
   "metadata": {},
   "source": [
    "> **Note:** The `\"\"` are used to indicate that the output is a string. You could also use the `''` instead. The only difference is that special or reserved characters in strings are not interpreted if you use the `''`. We do not want to go in detail here.\n",
    "\n",
    "the `print()` function could also be used for the concatenation of objects:"
   ]
  },
  {
   "cell_type": "code",
   "execution_count": 14,
   "id": "4f49f8c5-3347-4b6e-b53b-388f1080d6b4",
   "metadata": {},
   "outputs": [],
   "source": [
    "firstname = \"Francis Ford\"\n",
    "lastname = \"Coppola\""
   ]
  },
  {
   "cell_type": "code",
   "execution_count": 15,
   "id": "b0994a63-d1f2-4121-a331-e1832da13d6e",
   "metadata": {},
   "outputs": [
    {
     "name": "stdout",
     "output_type": "stream",
     "text": [
      "Francis Ford Coppola\n"
     ]
    }
   ],
   "source": [
    "print(firstname, lastname)"
   ]
  },
  {
   "cell_type": "markdown",
   "id": "647fde91-15c4-43fd-a73a-b0913a389fa9",
   "metadata": {},
   "source": [
    "> **Note:** every argument of the `print()` function is separated by a space by default."
   ]
  },
  {
   "cell_type": "markdown",
   "id": "2fcffb75-3b82-4f96-82d0-7ee8c8ae2496",
   "metadata": {
    "editable": true,
    "slideshow": {
     "slide_type": ""
    },
    "tags": []
   },
   "source": [
    "### String methods\n",
    "\n",
    "Besides the above introduced functions there are a variety of very useful `str` methods. The `format()` method is a nice extension for the `print()` statement:"
   ]
  },
  {
   "cell_type": "code",
   "execution_count": 16,
   "id": "ecfac441-0c0b-4a59-af00-0e73f6600c55",
   "metadata": {},
   "outputs": [],
   "source": [
    "chapter = \"ninth\"\n",
    "soga = \"soga\""
   ]
  },
  {
   "cell_type": "code",
   "execution_count": 17,
   "id": "183ee38f-c878-49e0-b5b4-a578cfdde568",
   "metadata": {},
   "outputs": [
    {
     "name": "stdout",
     "output_type": "stream",
     "text": [
      "This is the ninth chapter of the soga tutorial\n"
     ]
    }
   ],
   "source": [
    "print(\"This is the {} chapter of the {} tutorial\".format(chapter, soga))"
   ]
  },
  {
   "cell_type": "markdown",
   "id": "e22bc36b-984e-4bd2-9694-26a13e00cb92",
   "metadata": {},
   "source": [
    "> **Note:** The brackets are filled in the order which is specified within the `format()` method.\n",
    "\n",
    "> **Note:** Please remember the different syntax between a *function* and a *method* call, which is described in detail in the previous chapter."
   ]
  },
  {
   "cell_type": "markdown",
   "id": "d4e50ea8-ac18-4c32-adcf-e2b1a36c7f76",
   "metadata": {},
   "source": [
    "Besides this there exist a lot of methods that manipulate the given string for you:"
   ]
  },
  {
   "cell_type": "code",
   "execution_count": 18,
   "id": "dbfa7ad3-416c-42e2-9086-5f546fff485e",
   "metadata": {},
   "outputs": [],
   "source": [
    "a_sentence = \"I enjoy reading soga\""
   ]
  },
  {
   "cell_type": "code",
   "execution_count": 19,
   "id": "d338f6ac-5081-44c2-acfc-87d5d48f05c6",
   "metadata": {},
   "outputs": [
    {
     "data": {
      "text/plain": [
       "'I Enjoy Reading Soga'"
      ]
     },
     "execution_count": 19,
     "metadata": {},
     "output_type": "execute_result"
    }
   ],
   "source": [
    "a_sentence.title()"
   ]
  },
  {
   "cell_type": "code",
   "execution_count": 20,
   "id": "1e73119b-f763-44b2-af7b-1aa1e2b4ed03",
   "metadata": {},
   "outputs": [
    {
     "data": {
      "text/plain": [
       "'I ENJOY READING SOGA'"
      ]
     },
     "execution_count": 20,
     "metadata": {},
     "output_type": "execute_result"
    }
   ],
   "source": [
    "a_sentence.upper()"
   ]
  },
  {
   "cell_type": "code",
   "execution_count": 21,
   "id": "bae3a1e3-3db4-4977-87c0-3904bd544b23",
   "metadata": {},
   "outputs": [
    {
     "data": {
      "text/plain": [
       "'i enjoy reading soga'"
      ]
     },
     "execution_count": 21,
     "metadata": {},
     "output_type": "execute_result"
    }
   ],
   "source": [
    "a_sentence.lower()"
   ]
  },
  {
   "cell_type": "code",
   "execution_count": 22,
   "id": "ab532981-594e-4e36-aa72-a03adc19bac1",
   "metadata": {},
   "outputs": [
    {
     "data": {
      "text/plain": [
       "'I enjoy re--ding sog--'"
      ]
     },
     "execution_count": 22,
     "metadata": {},
     "output_type": "execute_result"
    }
   ],
   "source": [
    "a_sentence.replace(\"a\", \"--\")"
   ]
  },
  {
   "cell_type": "markdown",
   "id": "3febe33b-08e6-43b5-9034-f7efd4a18782",
   "metadata": {},
   "source": [
    "A full and nicely formatted list of all in build `str` methods is given at [W3schools](https://www.w3schools.com/python/python_ref_string.asp).\n",
    "\n",
    "> **Exercise:** Use the defined variables below to reproduce the given output! Combine the defined variables with the `print()` function and do the calculation with the help of operators!"
   ]
  },
  {
   "cell_type": "code",
   "execution_count": 23,
   "id": "966dae5f-e8f7-49b2-8938-d50747454ea9",
   "metadata": {},
   "outputs": [],
   "source": [
    "name1 = \"Alan\"\n",
    "age1 = 20\n",
    "name2 = \"Marie\"\n",
    "age2 = 19"
   ]
  },
  {
   "cell_type": "code",
   "execution_count": 24,
   "id": "676bccd6-106d-4943-bdc7-71cef697f929",
   "metadata": {},
   "outputs": [],
   "source": [
    "### your solution"
   ]
  },
  {
   "cell_type": "code",
   "execution_count": null,
   "id": "1af80828-4432-4c3c-97cd-4d30f4bd75cd",
   "metadata": {},
   "outputs": [],
   "source": []
  },
  {
   "cell_type": "markdown",
   "id": "ccf172c1-0b4e-4e6d-bdec-358b348a2454",
   "metadata": {
    "editable": true,
    "slideshow": {
     "slide_type": ""
    },
    "tags": []
   },
   "source": [
    "### Logical values - `bool`\n",
    "\n",
    "Logical values are a kind of information that only consists of two contrastive values: \n",
    "\n",
    "- `0` in the meaning of *no* or *false*\n",
    "- `1` in the meaning of *yes* or *true*\n",
    "\n",
    "> **Note:** The advantage of this kind of data is for programming beginners normally not easy to grasp. So please do not despair if the meaning of these values is not plausible yet.\n",
    "\n",
    "Logical values are related to comparisons between variables, so called logical expressions. The result of a logical expression is either `TRUE` (0) or `FALSE` (1). In this understanding they are essentially important for controlling the program flow. Although this concept will be explained in the next chapters, let's have a look at an example for the use of logical values: "
   ]
  },
  {
   "cell_type": "code",
   "execution_count": 25,
   "id": "e9777867-f9b7-4bc4-8910-515f8875a754",
   "metadata": {},
   "outputs": [],
   "source": [
    "x = 100\n",
    "y = 200"
   ]
  },
  {
   "cell_type": "code",
   "execution_count": 26,
   "id": "53e0dca1-29aa-45bb-8e9b-0fdc09848784",
   "metadata": {},
   "outputs": [
    {
     "data": {
      "text/plain": [
       "True"
      ]
     },
     "execution_count": 26,
     "metadata": {},
     "output_type": "execute_result"
    }
   ],
   "source": [
    "# is x lower than y?\n",
    "x < y"
   ]
  },
  {
   "cell_type": "code",
   "execution_count": 27,
   "id": "5406231c-d306-4a71-99b4-a2979367d309",
   "metadata": {},
   "outputs": [
    {
     "data": {
      "text/plain": [
       "False"
      ]
     },
     "execution_count": 27,
     "metadata": {},
     "output_type": "execute_result"
    }
   ],
   "source": [
    "# is x greater than y?\n",
    "x > y"
   ]
  },
  {
   "cell_type": "code",
   "execution_count": 28,
   "id": "2b9e5a78-21dc-4769-8d9e-9089d07f0dee",
   "metadata": {},
   "outputs": [
    {
     "data": {
      "text/plain": [
       "False"
      ]
     },
     "execution_count": 28,
     "metadata": {},
     "output_type": "execute_result"
    }
   ],
   "source": [
    "# is x = y?\n",
    "x == y"
   ]
  },
  {
   "cell_type": "markdown",
   "id": "dc103284-e921-4a40-9476-033fc1b36732",
   "metadata": {},
   "source": [
    "> **Note:** the `=` operator is reserved for assigning a value to a variable. If you want to compare two variables or values with one another, you have to use the `==` operator!"
   ]
  },
  {
   "cell_type": "markdown",
   "id": "b70034f2-7089-439b-843c-affb81e2da0e",
   "metadata": {
    "editable": true,
    "slideshow": {
     "slide_type": ""
    },
    "tags": []
   },
   "source": [
    "## Indexing and Slicing\n",
    "\n",
    "At last, we want to introduce the the concept of indexing a specific value out of a chain of values. The only chain of values that you know to this point are `str` objects. In the next chapter you will also get to know about other common data structures that combines the introduced atomic data types to create new data objects widely used for the purposes of data science and statistical modelling. To use these data structures properly you need to understand how to retrieve one or more specific values out of a chain of values. We want to explain this with the help of a `str` object:\n",
    "\n",
    "> **Note:** the term *indexing* is referred to adress the position of a value in a chain whereas the term *slicing* relates to the extraction of values out of a chain of values."
   ]
  },
  {
   "cell_type": "code",
   "execution_count": 2,
   "id": "96517fe0-08bb-4c09-a1eb-0c83aecfed7e",
   "metadata": {
    "editable": true,
    "slideshow": {
     "slide_type": ""
    },
    "tags": []
   },
   "outputs": [],
   "source": [
    "a_sentence = \"I enjoy reading soga\""
   ]
  },
  {
   "cell_type": "code",
   "execution_count": 3,
   "id": "72b0dcdf-3b2d-4172-b7b9-0bbf8fc7e04e",
   "metadata": {
    "editable": true,
    "slideshow": {
     "slide_type": ""
    },
    "tags": []
   },
   "outputs": [
    {
     "data": {
      "text/plain": [
       "20"
      ]
     },
     "execution_count": 3,
     "metadata": {},
     "output_type": "execute_result"
    }
   ],
   "source": [
    "len(a_sentence)"
   ]
  },
  {
   "cell_type": "markdown",
   "id": "c13fbc85-4f4b-4b1d-8131-7c520d6db99e",
   "metadata": {
    "editable": true,
    "slideshow": {
     "slide_type": ""
    },
    "tags": []
   },
   "source": [
    "To slice values out of this chain of letters, we first must think about the associated positional numbers of each letter in this character chain:\n",
    "\n",
    "<center><img src=\"figures/Indexing_and_slicing.png\" alt=\"Image to demonstrate how positional numbers in Pythons are connected with values in value chains\" style=\"width: 700px;\"/></center>\n",
    "\n",
    "As you can see the first letter in this string is associated with the place marker $0$. The second letter with the $1$ and so on.\n",
    "\n",
    "> **Note:** Also spaces and special characters (e.g. `(`, `)`, or `*` are counted at a single letter! Be aware of this for indexing purposes.\n",
    "\n",
    "> **Note:** It is important to know that Python starts counting with $0$. That means the first character has always the associated positional number $0$ whereas the last letter in will have the position $n - 1$, in this case 19.\n",
    "\n",
    "To access one or more specific letter in a value chain, we make use of the `[<position>]` brackets. For instance, if we want to access the first letter in a string:"
   ]
  },
  {
   "cell_type": "code",
   "execution_count": 31,
   "id": "f6943bba-7205-44f9-a7f1-ba0f3e33933c",
   "metadata": {},
   "outputs": [
    {
     "data": {
      "text/plain": [
       "'I'"
      ]
     },
     "execution_count": 31,
     "metadata": {},
     "output_type": "execute_result"
    }
   ],
   "source": [
    "a_sentence[0]"
   ]
  },
  {
   "cell_type": "markdown",
   "id": "877800f0-68d3-46a4-b949-122da0d0c905",
   "metadata": {},
   "source": [
    "The last letter is accessed by:"
   ]
  },
  {
   "cell_type": "code",
   "execution_count": 32,
   "id": "185f2eb2-2530-44ed-a3a6-71f0202f9344",
   "metadata": {},
   "outputs": [
    {
     "data": {
      "text/plain": [
       "'a'"
      ]
     },
     "execution_count": 32,
     "metadata": {},
     "output_type": "execute_result"
    }
   ],
   "source": [
    "a_sentence[19]"
   ]
  },
  {
   "cell_type": "markdown",
   "id": "bef75c26-3fba-4258-8013-2d72363ec800",
   "metadata": {},
   "source": [
    "We could also make use of the `len()` function which returns the length of a value chain. Beware that you need to subtract 1:"
   ]
  },
  {
   "cell_type": "code",
   "execution_count": 33,
   "id": "d326a700-5b13-4090-944e-3453525d4b83",
   "metadata": {},
   "outputs": [
    {
     "data": {
      "text/plain": [
       "'a'"
      ]
     },
     "execution_count": 33,
     "metadata": {},
     "output_type": "execute_result"
    }
   ],
   "source": [
    "a_sentence[len(a_sentence) - 1]"
   ]
  },
  {
   "cell_type": "markdown",
   "id": "f2217760-8606-4334-9571-f15ca58a455d",
   "metadata": {},
   "source": [
    "Or even more convenient:"
   ]
  },
  {
   "cell_type": "code",
   "execution_count": 34,
   "id": "cda479c4-55e2-41ef-abf5-66eda4aaa530",
   "metadata": {},
   "outputs": [
    {
     "data": {
      "text/plain": [
       "'a'"
      ]
     },
     "execution_count": 34,
     "metadata": {},
     "output_type": "execute_result"
    }
   ],
   "source": [
    "a_sentence[-1]"
   ]
  },
  {
   "cell_type": "markdown",
   "id": "029780bd-d6c1-479b-b4f5-34a782f58df7",
   "metadata": {},
   "source": [
    "Accordingly:"
   ]
  },
  {
   "cell_type": "code",
   "execution_count": 35,
   "id": "aeeadc66-3030-4abb-8133-7cee5df962af",
   "metadata": {},
   "outputs": [
    {
     "data": {
      "text/plain": [
       "'g'"
      ]
     },
     "execution_count": 35,
     "metadata": {},
     "output_type": "execute_result"
    }
   ],
   "source": [
    "a_sentence[-2]"
   ]
  },
  {
   "cell_type": "code",
   "execution_count": 36,
   "id": "f30aba7c-670e-40a6-9bf6-fcfdf204fdd1",
   "metadata": {},
   "outputs": [
    {
     "data": {
      "text/plain": [
       "'o'"
      ]
     },
     "execution_count": 36,
     "metadata": {},
     "output_type": "execute_result"
    }
   ],
   "source": [
    "a_sentence[-3]"
   ]
  },
  {
   "cell_type": "markdown",
   "id": "f2a79d52-80fc-4676-8c37-89ef80615067",
   "metadata": {},
   "source": [
    "To access multiple values out of a character chain we use the `:` operator within the `[]` brackets. To retrieve the first 8 values:"
   ]
  },
  {
   "cell_type": "code",
   "execution_count": 37,
   "id": "6b242fe1-eeb8-47bd-972c-3ecf0353a22f",
   "metadata": {},
   "outputs": [
    {
     "data": {
      "text/plain": [
       "'I enjoy'"
      ]
     },
     "execution_count": 37,
     "metadata": {},
     "output_type": "execute_result"
    }
   ],
   "source": [
    "a_sentence[0:7]"
   ]
  },
  {
   "cell_type": "markdown",
   "id": "e06f1002-9f53-4fc2-a6ca-e1d445688973",
   "metadata": {},
   "source": [
    "The more convenient way:"
   ]
  },
  {
   "cell_type": "code",
   "execution_count": 38,
   "id": "6432707e-574e-4485-8e13-3c372ac9bab3",
   "metadata": {},
   "outputs": [
    {
     "data": {
      "text/plain": [
       "'I enjoy'"
      ]
     },
     "execution_count": 38,
     "metadata": {},
     "output_type": "execute_result"
    }
   ],
   "source": [
    "a_sentence[:7]"
   ]
  },
  {
   "cell_type": "markdown",
   "id": "70ee0cec-a355-4e1b-928b-b5e02bfb9a4a",
   "metadata": {},
   "source": [
    "to get the last 4 letters:"
   ]
  },
  {
   "cell_type": "code",
   "execution_count": 39,
   "id": "9b33e8a3-eadc-498c-8eec-23738140e5f8",
   "metadata": {},
   "outputs": [
    {
     "data": {
      "text/plain": [
       "'soga'"
      ]
     },
     "execution_count": 39,
     "metadata": {},
     "output_type": "execute_result"
    }
   ],
   "source": [
    "a_sentence[-4:]"
   ]
  },
  {
   "cell_type": "markdown",
   "id": "e5edb28d-865a-4244-9731-c4e9f2de13a4",
   "metadata": {},
   "source": [
    "The `:` operator is really powerful. For example, if you want to get every second letter, starting with the first one:"
   ]
  },
  {
   "cell_type": "code",
   "execution_count": 40,
   "id": "d734ee38-9e4b-4c45-a23d-f3def2746d40",
   "metadata": {},
   "outputs": [
    {
     "data": {
      "text/plain": [
       "'Iejyraigsg'"
      ]
     },
     "execution_count": 40,
     "metadata": {},
     "output_type": "execute_result"
    }
   ],
   "source": [
    "a_sentence[::2]"
   ]
  },
  {
   "cell_type": "markdown",
   "id": "6f9b0f81-fd30-40f4-88eb-c9b6233d5701",
   "metadata": {},
   "source": [
    "You could also use the `::` syntax to get all letters in a flipped order:"
   ]
  },
  {
   "cell_type": "code",
   "execution_count": 41,
   "id": "9443ea39-da87-490b-a723-e4eabe7df7f3",
   "metadata": {},
   "outputs": [
    {
     "data": {
      "text/plain": [
       "'agos gnidaer yojne I'"
      ]
     },
     "execution_count": 41,
     "metadata": {},
     "output_type": "execute_result"
    }
   ],
   "source": [
    "a_sentence[::-1]"
   ]
  },
  {
   "cell_type": "markdown",
   "id": "21fe4076-418d-4f67-961a-0a62ea8f4589",
   "metadata": {
    "tags": []
   },
   "source": [
    "We want to conclude this chapter with an Exercise:\n",
    "\n",
    "> **Exercise:** Check if the value stored in the variable `word` is a [palindrom](https://en.wikipedia.org/wiki/Palindrome). Make use of logical expressions as well as the index operator!"
   ]
  },
  {
   "cell_type": "code",
   "execution_count": 42,
   "id": "35456c45-f12e-4370-8a71-c7a63fbb4e41",
   "metadata": {},
   "outputs": [],
   "source": [
    "word = \"kayak\""
   ]
  },
  {
   "cell_type": "code",
   "execution_count": 43,
   "id": "88ca5407-5aab-4700-a58b-64b217336feb",
   "metadata": {},
   "outputs": [],
   "source": [
    "### your solution"
   ]
  },
  {
   "cell_type": "code",
   "execution_count": null,
   "id": "7bc623f6-3850-423f-a1f6-adcb32780a0f",
   "metadata": {},
   "outputs": [],
   "source": []
  },
  {
   "cell_type": "code",
   "execution_count": 1,
   "id": "78ebbf32-b16b-4627-b08c-afed97be4d81",
   "metadata": {
    "editable": true,
    "slideshow": {
     "slide_type": ""
    },
    "tags": [
     "remove-input"
    ]
   },
   "outputs": [
    {
     "data": {
      "text/html": [
       "\n",
       "        <iframe\n",
       "            width=\"900\"\n",
       "            height=\"200\"\n",
       "            src=\"../../citations/citation_Soga.html\"\n",
       "            frameborder=\"0\"\n",
       "            allowfullscreen\n",
       "            \n",
       "        ></iframe>\n",
       "        "
      ],
      "text/plain": [
       "<IPython.lib.display.IFrame at 0x12028c370>"
      ]
     },
     "execution_count": 1,
     "metadata": {},
     "output_type": "execute_result"
    }
   ],
   "source": [
    "from IPython.display import IFrame\n",
    "\n",
    "IFrame(\n",
    "    src=\"../../citations/citation_Soga.html\",\n",
    "    width=900,\n",
    "    height=200,\n",
    ")"
   ]
  },
  {
   "cell_type": "code",
   "execution_count": null,
   "id": "5b46076a-b525-4082-a23c-576ce9e6e053",
   "metadata": {
    "editable": true,
    "slideshow": {
     "slide_type": ""
    },
    "tags": []
   },
   "outputs": [],
   "source": []
  }
 ],
 "metadata": {
  "kernelspec": {
   "display_name": "Python 3 (ipykernel)",
   "language": "python",
   "name": "python3"
  },
  "language_info": {
   "codemirror_mode": {
    "name": "ipython",
    "version": 3
   },
   "file_extension": ".py",
   "mimetype": "text/x-python",
   "name": "python",
   "nbconvert_exporter": "python",
   "pygments_lexer": "ipython3",
   "version": "3.9.19"
  }
 },
 "nbformat": 4,
 "nbformat_minor": 5
}
