{
 "cells": [
  {
   "cell_type": "code",
   "execution_count": 1,
   "id": "b3078a0f-1488-4fd4-8b97-55ef0d5afd5a",
   "metadata": {
    "editable": true,
    "slideshow": {
     "slide_type": ""
    },
    "tags": [
     "remove-cell"
    ]
   },
   "outputs": [],
   "source": [
    "%load_ext lab_black"
   ]
  },
  {
   "cell_type": "markdown",
   "id": "260d9ba2-9988-49a7-8821-fd56e8ba2898",
   "metadata": {
    "editable": true,
    "slideshow": {
     "slide_type": ""
    },
    "tags": []
   },
   "source": [
    "## Steering the control flow of a program\n",
    "\n",
    "Up to this point, we have already learned how to utilise Python and Jupyter Notebooks to solve a variety of programming scenarios with the help of the essential data types and structures. We also get to know the usage of external packages and the usage of user-defined functions and their vast benefits. Nevertheless, the shown programming approaches have been pretty straightforward so far in a manner of speaking that we only implemented so-called ***sequentially control flows.*** This programmatic concept describes a relatively static way of implementation since all our implemented lines of codes (**statements**) are executed exactly in the order they are written without any possibility of omission. Hence our programming approaches lack the opportunity for flexibility, like a repeated or conditioned execution of certain code blocks.\n",
    "\n",
    "Therefore, within the scope of this chapter, we want to get to know a variety of standard control flow structures that will allow you to modify and steer the programming flow in your favour. The following control flows will be introduced:\n",
    "\n",
    "- `if`, `elif` and `else`\n",
    "- `while`\n",
    "- `for`\n",
    "\n",
    "### Conditioned code execution\n",
    "\n",
    "The first way of steering the code execution is to create branches within the execution flow of your code using conditions. The condition itself must contain a logical statement which is evaluated. Depending on the outcome of the logical expression (either `True` or `False`), one or the other branch is executed. We use the' if' statement to implement this type of control flow. The general syntax is:"
   ]
  },
  {
   "cell_type": "raw",
   "id": "23793d56-832f-4c2e-8850-7ad96f69632a",
   "metadata": {},
   "source": [
    "if (logical_expression):\n",
    "    # do a thing\n",
    "    statement_1\n",
    "    statement_2\n",
    "else:\n",
    "    # do something else\n",
    "    statement_3\n",
    "    statement_4"
   ]
  },
  {
   "cell_type": "markdown",
   "id": "9536159b-f5b0-49b5-a9cb-87b131e26d7e",
   "metadata": {},
   "source": [
    "For example, we could implement a **UDF** that proves based on your age, if you are a teenager or an adult and returns the results of that evaluation:"
   ]
  },
  {
   "cell_type": "code",
   "execution_count": 2,
   "id": "1dd8977b-c50e-4fdb-891a-ee2c5a5f1445",
   "metadata": {},
   "outputs": [],
   "source": [
    "def age_test(age):\n",
    "    if age < 18:\n",
    "        return \"You are a teenager!\"\n",
    "    else:\n",
    "        return \"You are an adult!\""
   ]
  },
  {
   "cell_type": "markdown",
   "id": "222869ea-e439-4e2f-88cb-6da4e771005c",
   "metadata": {},
   "source": [
    "Let us test our nearly implemented, conditioned control flowed **UDF** by a few different values:"
   ]
  },
  {
   "cell_type": "code",
   "execution_count": 3,
   "id": "988d2f86-1031-4fa4-ba3d-92855b4e8959",
   "metadata": {},
   "outputs": [
    {
     "data": {
      "text/plain": [
       "'You are a teenager!'"
      ]
     },
     "execution_count": 3,
     "metadata": {},
     "output_type": "execute_result"
    }
   ],
   "source": [
    "age_test(3)"
   ]
  },
  {
   "cell_type": "code",
   "execution_count": 4,
   "id": "943a20f1-9000-404b-bd17-5e9d1309b6eb",
   "metadata": {},
   "outputs": [
    {
     "data": {
      "text/plain": [
       "'You are an adult!'"
      ]
     },
     "execution_count": 4,
     "metadata": {},
     "output_type": "execute_result"
    }
   ],
   "source": [
    "age_test(30)"
   ]
  },
  {
   "cell_type": "markdown",
   "id": "2748bd71-412b-4aa7-b322-a5007162c633",
   "metadata": {},
   "source": [
    "Isn't it great?! Based on our logical expression, the age check `age < 18`, and a different output is produced at the given age! Great. Since our example only covers a dichotomic categorisation based on age, we want to implement a broader range of outputs based on the given age. Therefore we make use of the `elif` statement and adapt our `age_test()` function:"
   ]
  },
  {
   "cell_type": "code",
   "execution_count": 5,
   "id": "a273e749-f142-41ad-8b6d-e44182fbb58f",
   "metadata": {},
   "outputs": [],
   "source": [
    "def age_test(age):\n",
    "    if age <= 0:\n",
    "        return \"You are not born yet!\"\n",
    "    elif age <= 10:\n",
    "        return \"You are a kid!\"\n",
    "    elif age < 18:\n",
    "        return \"You are a teenager!\"\n",
    "    elif age < 65:\n",
    "        return \"You are an adult!\"\n",
    "    else:\n",
    "        return \"You are a retiree!\""
   ]
  },
  {
   "cell_type": "markdown",
   "id": "4e1f0547-dec8-46d6-8a6c-a2a0863f0e5d",
   "metadata": {},
   "source": [
    "Let's try our new version of the function with a few ages:"
   ]
  },
  {
   "cell_type": "code",
   "execution_count": 6,
   "id": "9a933a62-8db3-4871-ae19-8099b825bf35",
   "metadata": {},
   "outputs": [
    {
     "data": {
      "text/plain": [
       "'You are a kid!'"
      ]
     },
     "execution_count": 6,
     "metadata": {},
     "output_type": "execute_result"
    }
   ],
   "source": [
    "age_test(5)"
   ]
  },
  {
   "cell_type": "code",
   "execution_count": 7,
   "id": "bc46fc20-0970-4694-a471-648f11b02ca1",
   "metadata": {},
   "outputs": [
    {
     "data": {
      "text/plain": [
       "'You are not born yet!'"
      ]
     },
     "execution_count": 7,
     "metadata": {},
     "output_type": "execute_result"
    }
   ],
   "source": [
    "age_test(-5)"
   ]
  },
  {
   "cell_type": "code",
   "execution_count": 8,
   "id": "4c799243-afad-43c9-8ce3-ef6f89ed7d04",
   "metadata": {},
   "outputs": [
    {
     "data": {
      "text/plain": [
       "'You are a retiree!'"
      ]
     },
     "execution_count": 8,
     "metadata": {},
     "output_type": "execute_result"
    }
   ],
   "source": [
    "age_test(70)"
   ]
  },
  {
   "cell_type": "markdown",
   "id": "d1f901e6-dcc1-43d0-a5ee-749f4a8ede10",
   "metadata": {
    "editable": true,
    "slideshow": {
     "slide_type": ""
    },
    "tags": []
   },
   "source": [
    "## Using loops for repetition of statements\n",
    "\n",
    "Another way to steer the control and execution flow is by repeatedly executing a specific code block on purpose with changing values. This programmatic concept is related to the term loops. It is one of the most powerful since it allows you to save many unnecessary LoCs due to little differences. The code statements within the loop are repeated as long as a given condition remains `True` or `False` based on the chosen implementation or as long as not all elements of a given list are selected once. The first case is related to `while` loops, while the second holds for `for` loops. For loops in Python are helpful when you want to cycle over all of the items\n",
    "in a collection (such as all of the elements of an array), and while loops are useful when you want to\n",
    "cycle for an indefinite amount of time until some condition is met."
   ]
  },
  {
   "cell_type": "markdown",
   "id": "c40b9387-7f10-426e-9f25-4d1d8eb7c520",
   "metadata": {
    "editable": true,
    "slideshow": {
     "slide_type": ""
    },
    "tags": []
   },
   "source": [
    "### `for` loops\n",
    "\n",
    "At first, we want to look at `for` loops since the structure is most likely easier to follow as a beginner. \n",
    "\n",
    "For a first example, let us use a for loop to print each number between 1 and 10 sequentially:"
   ]
  },
  {
   "cell_type": "code",
   "execution_count": 9,
   "id": "ece276b4-c308-4edd-8f27-b31fce7ccc06",
   "metadata": {},
   "outputs": [
    {
     "name": "stdout",
     "output_type": "stream",
     "text": [
      "0\n",
      "1\n",
      "2\n",
      "3\n",
      "4\n",
      "5\n",
      "6\n",
      "7\n",
      "8\n",
      "9\n"
     ]
    }
   ],
   "source": [
    "for i in range(10):\n",
    "    print(i)"
   ]
  },
  {
   "cell_type": "markdown",
   "id": "cb92d5c8-0831-4621-88da-345644c80072",
   "metadata": {},
   "source": [
    "Oh, that was relatively easy, but the result is unexpected! The reason is that we do not use the `range` command appropriately. Since the counting in Python starts with `0`, we must adapt the statement accordingly because we want the first ten numbers without the `0`. Hence:"
   ]
  },
  {
   "cell_type": "code",
   "execution_count": 10,
   "id": "4705475f-dda0-4c20-b695-58aab69765d1",
   "metadata": {},
   "outputs": [
    {
     "name": "stdout",
     "output_type": "stream",
     "text": [
      "1\n",
      "2\n",
      "3\n",
      "4\n",
      "5\n",
      "6\n",
      "7\n",
      "8\n",
      "9\n",
      "10\n"
     ]
    }
   ],
   "source": [
    "for i in range(1, 11):\n",
    "    print(i)"
   ]
  },
  {
   "cell_type": "markdown",
   "id": "e970b1bc-b252-4a93-be24-2a6bef9bbc1c",
   "metadata": {},
   "source": [
    "> **Note:** the `range` command generates a list of values according to the parametrisation. If only one parameter is given, the list will start with $0$ and ends with $n - 1$. If two parameters are given, the list starts with $a$ and ends with $n - 1$."
   ]
  },
  {
   "cell_type": "markdown",
   "id": "ebc80b6e-8577-4aa8-90dd-57c25cd0c7d3",
   "metadata": {},
   "source": [
    "Awesome! As a next, more advanced task we want to calculate the sum of the first ten numbers with the help of a `for` loop:"
   ]
  },
  {
   "cell_type": "code",
   "execution_count": 11,
   "id": "1b11ac5f-2894-44e1-9a71-3ef55e994c29",
   "metadata": {},
   "outputs": [
    {
     "name": "stdout",
     "output_type": "stream",
     "text": [
      "55\n"
     ]
    }
   ],
   "source": [
    "result = 0\n",
    "for i in range(11):\n",
    "    result = result + i\n",
    "    # print('i=',i,', result=',result)\n",
    "print(result)"
   ]
  },
  {
   "cell_type": "markdown",
   "id": "59947a64-668e-4b34-a79b-f4e9f7d01998",
   "metadata": {},
   "source": [
    "> **Note on indentation**: Notice the indentation once we enter the for loop. Every idented statement after the for loop declaration is part of the for loop.  This rule holds true for while loops, if statements, functions, etc. Required identation is one of the reasons Python is such a beautiful language to read."
   ]
  },
  {
   "cell_type": "markdown",
   "id": "24075593-20d3-4680-90bb-cf4f617ae968",
   "metadata": {},
   "source": [
    "Nice! We can also simplify the loop by the use of the `+=` operator:"
   ]
  },
  {
   "cell_type": "code",
   "execution_count": 12,
   "id": "b50c173a-9143-4342-ba57-c800261f0551",
   "metadata": {},
   "outputs": [
    {
     "name": "stdout",
     "output_type": "stream",
     "text": [
      "i= 0 , result= 0\n",
      "i= 1 , result= 1\n",
      "i= 2 , result= 3\n",
      "i= 3 , result= 6\n",
      "i= 4 , result= 10\n",
      "i= 5 , result= 15\n",
      "i= 6 , result= 21\n",
      "i= 7 , result= 28\n",
      "i= 8 , result= 36\n",
      "i= 9 , result= 45\n",
      "i= 10 , result= 55\n",
      "55\n"
     ]
    }
   ],
   "source": [
    "result = 0\n",
    "for i in range(11):\n",
    "    result += i\n",
    "    print(\"i=\", i, \", result=\", result)\n",
    "print(result)"
   ]
  },
  {
   "cell_type": "markdown",
   "id": "450d72e1-4c86-4f47-8e79-9690ed06bf08",
   "metadata": {},
   "source": [
    "> **Exercise:** Externalise the above code within an user defined function (UDF) named `sum_of_numbers()`. The UDF shall take one *parameter*. Adapt the code so that this parameter steers up to which natural number the sum will be calculated. "
   ]
  },
  {
   "cell_type": "code",
   "execution_count": 13,
   "id": "7616bcdf-176e-414d-ab79-bfda9d8fadd0",
   "metadata": {},
   "outputs": [],
   "source": [
    "def sum_of_numbers(a):\n",
    "    result = 0\n",
    "\n",
    "    for i in range(a + 1):\n",
    "        result = result + i\n",
    "        print(\"result\", result)\n",
    "    return result"
   ]
  },
  {
   "cell_type": "markdown",
   "id": "c9b48adb-a067-4170-8a79-d8bf5be54ea5",
   "metadata": {},
   "source": [
    "> __Test your function__:   \n",
    "The sum of the first $100$ natural numbers should be $5050$, while the sum of the first $500$ natural numbers should be $125250$."
   ]
  },
  {
   "cell_type": "code",
   "execution_count": 14,
   "id": "3a764e99-588b-40aa-a04c-0fb589a07158",
   "metadata": {},
   "outputs": [
    {
     "name": "stdout",
     "output_type": "stream",
     "text": [
      "result 0\n",
      "result 1\n",
      "result 3\n",
      "result 6\n",
      "result 10\n",
      "result 15\n",
      "result 21\n",
      "result 28\n",
      "result 36\n",
      "result 45\n",
      "result 55\n",
      "result 66\n",
      "result 78\n",
      "result 91\n",
      "result 105\n",
      "result 120\n",
      "result 136\n",
      "result 153\n",
      "result 171\n",
      "result 190\n",
      "result 210\n",
      "result 231\n",
      "result 253\n",
      "result 276\n",
      "result 300\n",
      "result 325\n",
      "result 351\n",
      "result 378\n",
      "result 406\n",
      "result 435\n",
      "result 465\n",
      "result 496\n",
      "result 528\n",
      "result 561\n",
      "result 595\n",
      "result 630\n",
      "result 666\n",
      "result 703\n",
      "result 741\n",
      "result 780\n",
      "result 820\n",
      "result 861\n",
      "result 903\n",
      "result 946\n",
      "result 990\n",
      "result 1035\n",
      "result 1081\n",
      "result 1128\n",
      "result 1176\n",
      "result 1225\n",
      "result 1275\n",
      "result 1326\n",
      "result 1378\n",
      "result 1431\n",
      "result 1485\n",
      "result 1540\n",
      "result 1596\n",
      "result 1653\n",
      "result 1711\n",
      "result 1770\n",
      "result 1830\n",
      "result 1891\n",
      "result 1953\n",
      "result 2016\n",
      "result 2080\n",
      "result 2145\n",
      "result 2211\n",
      "result 2278\n",
      "result 2346\n",
      "result 2415\n",
      "result 2485\n",
      "result 2556\n",
      "result 2628\n",
      "result 2701\n",
      "result 2775\n",
      "result 2850\n",
      "result 2926\n",
      "result 3003\n",
      "result 3081\n",
      "result 3160\n",
      "result 3240\n",
      "result 3321\n",
      "result 3403\n",
      "result 3486\n",
      "result 3570\n",
      "result 3655\n",
      "result 3741\n",
      "result 3828\n",
      "result 3916\n",
      "result 4005\n",
      "result 4095\n",
      "result 4186\n",
      "result 4278\n",
      "result 4371\n",
      "result 4465\n",
      "result 4560\n",
      "result 4656\n",
      "result 4753\n",
      "result 4851\n",
      "result 4950\n",
      "result 5050\n",
      "result 5151\n",
      "result 5253\n",
      "result 5356\n",
      "result 5460\n",
      "result 5565\n",
      "result 5671\n",
      "result 5778\n",
      "result 5886\n",
      "result 5995\n",
      "result 6105\n",
      "result 6216\n",
      "result 6328\n",
      "result 6441\n",
      "result 6555\n",
      "result 6670\n",
      "result 6786\n",
      "result 6903\n",
      "result 7021\n",
      "result 7140\n",
      "result 7260\n",
      "result 7381\n",
      "result 7503\n",
      "result 7626\n",
      "result 7750\n",
      "result 7875\n",
      "result 8001\n",
      "result 8128\n",
      "result 8256\n",
      "result 8385\n",
      "result 8515\n",
      "result 8646\n",
      "result 8778\n",
      "result 8911\n",
      "result 9045\n",
      "result 9180\n",
      "result 9316\n",
      "result 9453\n",
      "result 9591\n",
      "result 9730\n",
      "result 9870\n",
      "result 10011\n",
      "result 10153\n",
      "result 10296\n",
      "result 10440\n",
      "result 10585\n",
      "result 10731\n",
      "result 10878\n",
      "result 11026\n",
      "result 11175\n",
      "result 11325\n",
      "result 11476\n",
      "result 11628\n",
      "result 11781\n",
      "result 11935\n",
      "result 12090\n",
      "result 12246\n",
      "result 12403\n",
      "result 12561\n",
      "result 12720\n",
      "result 12880\n",
      "result 13041\n",
      "result 13203\n",
      "result 13366\n",
      "result 13530\n",
      "result 13695\n",
      "result 13861\n",
      "result 14028\n",
      "result 14196\n",
      "result 14365\n",
      "result 14535\n",
      "result 14706\n",
      "result 14878\n",
      "result 15051\n",
      "result 15225\n",
      "result 15400\n",
      "result 15576\n",
      "result 15753\n",
      "result 15931\n",
      "result 16110\n",
      "result 16290\n",
      "result 16471\n",
      "result 16653\n",
      "result 16836\n",
      "result 17020\n",
      "result 17205\n",
      "result 17391\n",
      "result 17578\n",
      "result 17766\n",
      "result 17955\n",
      "result 18145\n",
      "result 18336\n",
      "result 18528\n",
      "result 18721\n",
      "result 18915\n",
      "result 19110\n",
      "result 19306\n",
      "result 19503\n",
      "result 19701\n",
      "result 19900\n",
      "result 20100\n",
      "result 20301\n",
      "result 20503\n",
      "result 20706\n",
      "result 20910\n",
      "result 21115\n",
      "result 21321\n",
      "result 21528\n",
      "result 21736\n",
      "result 21945\n",
      "result 22155\n",
      "result 22366\n",
      "result 22578\n",
      "result 22791\n",
      "result 23005\n",
      "result 23220\n",
      "result 23436\n",
      "result 23653\n",
      "result 23871\n",
      "result 24090\n",
      "result 24310\n",
      "result 24531\n",
      "result 24753\n",
      "result 24976\n",
      "result 25200\n",
      "result 25425\n",
      "result 25651\n",
      "result 25878\n",
      "result 26106\n",
      "result 26335\n",
      "result 26565\n",
      "result 26796\n",
      "result 27028\n",
      "result 27261\n",
      "result 27495\n",
      "result 27730\n",
      "result 27966\n",
      "result 28203\n",
      "result 28441\n",
      "result 28680\n",
      "result 28920\n",
      "result 29161\n",
      "result 29403\n",
      "result 29646\n",
      "result 29890\n",
      "result 30135\n",
      "result 30381\n",
      "result 30628\n",
      "result 30876\n",
      "result 31125\n",
      "result 31375\n",
      "result 31626\n",
      "result 31878\n",
      "result 32131\n",
      "result 32385\n",
      "result 32640\n",
      "result 32896\n",
      "result 33153\n",
      "result 33411\n",
      "result 33670\n",
      "result 33930\n",
      "result 34191\n",
      "result 34453\n",
      "result 34716\n",
      "result 34980\n",
      "result 35245\n",
      "result 35511\n",
      "result 35778\n",
      "result 36046\n",
      "result 36315\n",
      "result 36585\n",
      "result 36856\n",
      "result 37128\n",
      "result 37401\n",
      "result 37675\n",
      "result 37950\n",
      "result 38226\n",
      "result 38503\n",
      "result 38781\n",
      "result 39060\n",
      "result 39340\n",
      "result 39621\n",
      "result 39903\n",
      "result 40186\n",
      "result 40470\n",
      "result 40755\n",
      "result 41041\n",
      "result 41328\n",
      "result 41616\n",
      "result 41905\n",
      "result 42195\n",
      "result 42486\n",
      "result 42778\n",
      "result 43071\n",
      "result 43365\n",
      "result 43660\n",
      "result 43956\n",
      "result 44253\n",
      "result 44551\n",
      "result 44850\n",
      "result 45150\n",
      "result 45451\n",
      "result 45753\n",
      "result 46056\n",
      "result 46360\n",
      "result 46665\n",
      "result 46971\n",
      "result 47278\n",
      "result 47586\n",
      "result 47895\n",
      "result 48205\n",
      "result 48516\n",
      "result 48828\n",
      "result 49141\n",
      "result 49455\n",
      "result 49770\n",
      "result 50086\n",
      "result 50403\n",
      "result 50721\n",
      "result 51040\n",
      "result 51360\n",
      "result 51681\n",
      "result 52003\n",
      "result 52326\n",
      "result 52650\n",
      "result 52975\n",
      "result 53301\n",
      "result 53628\n",
      "result 53956\n",
      "result 54285\n",
      "result 54615\n",
      "result 54946\n",
      "result 55278\n",
      "result 55611\n",
      "result 55945\n",
      "result 56280\n",
      "result 56616\n",
      "result 56953\n",
      "result 57291\n",
      "result 57630\n",
      "result 57970\n",
      "result 58311\n",
      "result 58653\n",
      "result 58996\n",
      "result 59340\n",
      "result 59685\n",
      "result 60031\n",
      "result 60378\n",
      "result 60726\n",
      "result 61075\n",
      "result 61425\n",
      "result 61776\n",
      "result 62128\n",
      "result 62481\n",
      "result 62835\n",
      "result 63190\n",
      "result 63546\n",
      "result 63903\n",
      "result 64261\n",
      "result 64620\n",
      "result 64980\n",
      "result 65341\n",
      "result 65703\n",
      "result 66066\n",
      "result 66430\n",
      "result 66795\n",
      "result 67161\n",
      "result 67528\n",
      "result 67896\n",
      "result 68265\n",
      "result 68635\n",
      "result 69006\n",
      "result 69378\n",
      "result 69751\n",
      "result 70125\n",
      "result 70500\n",
      "result 70876\n",
      "result 71253\n",
      "result 71631\n",
      "result 72010\n",
      "result 72390\n",
      "result 72771\n",
      "result 73153\n",
      "result 73536\n",
      "result 73920\n",
      "result 74305\n",
      "result 74691\n",
      "result 75078\n",
      "result 75466\n",
      "result 75855\n",
      "result 76245\n",
      "result 76636\n",
      "result 77028\n",
      "result 77421\n",
      "result 77815\n",
      "result 78210\n",
      "result 78606\n",
      "result 79003\n",
      "result 79401\n",
      "result 79800\n",
      "result 80200\n",
      "result 80601\n",
      "result 81003\n",
      "result 81406\n",
      "result 81810\n",
      "result 82215\n",
      "result 82621\n",
      "result 83028\n",
      "result 83436\n",
      "result 83845\n",
      "result 84255\n",
      "result 84666\n",
      "result 85078\n",
      "result 85491\n",
      "result 85905\n",
      "result 86320\n",
      "result 86736\n",
      "result 87153\n",
      "result 87571\n",
      "result 87990\n",
      "result 88410\n",
      "result 88831\n",
      "result 89253\n",
      "result 89676\n",
      "result 90100\n",
      "result 90525\n",
      "result 90951\n",
      "result 91378\n",
      "result 91806\n",
      "result 92235\n",
      "result 92665\n",
      "result 93096\n",
      "result 93528\n",
      "result 93961\n",
      "result 94395\n",
      "result 94830\n",
      "result 95266\n",
      "result 95703\n",
      "result 96141\n",
      "result 96580\n",
      "result 97020\n",
      "result 97461\n",
      "result 97903\n",
      "result 98346\n",
      "result 98790\n",
      "result 99235\n",
      "result 99681\n",
      "result 100128\n",
      "result 100576\n",
      "result 101025\n",
      "result 101475\n",
      "result 101926\n",
      "result 102378\n",
      "result 102831\n",
      "result 103285\n",
      "result 103740\n",
      "result 104196\n",
      "result 104653\n",
      "result 105111\n",
      "result 105570\n",
      "result 106030\n",
      "result 106491\n",
      "result 106953\n",
      "result 107416\n",
      "result 107880\n",
      "result 108345\n",
      "result 108811\n",
      "result 109278\n",
      "result 109746\n",
      "result 110215\n",
      "result 110685\n",
      "result 111156\n",
      "result 111628\n",
      "result 112101\n",
      "result 112575\n",
      "result 113050\n",
      "result 113526\n",
      "result 114003\n",
      "result 114481\n",
      "result 114960\n",
      "result 115440\n",
      "result 115921\n",
      "result 116403\n",
      "result 116886\n",
      "result 117370\n",
      "result 117855\n",
      "result 118341\n",
      "result 118828\n",
      "result 119316\n",
      "result 119805\n",
      "result 120295\n",
      "result 120786\n",
      "result 121278\n",
      "result 121771\n",
      "result 122265\n",
      "result 122760\n",
      "result 123256\n",
      "result 123753\n",
      "result 124251\n",
      "result 124750\n",
      "result 125250\n"
     ]
    },
    {
     "data": {
      "text/plain": [
       "125250"
      ]
     },
     "execution_count": 14,
     "metadata": {},
     "output_type": "execute_result"
    }
   ],
   "source": [
    "sum_of_numbers(500)"
   ]
  },
  {
   "cell_type": "code",
   "execution_count": null,
   "id": "556e61a3-6caa-4c46-ae1e-641bd3952e8b",
   "metadata": {},
   "outputs": [],
   "source": []
  },
  {
   "cell_type": "markdown",
   "id": "1d0eafb7-d0aa-4377-9d7c-e5ddf8afdb19",
   "metadata": {},
   "source": [
    "We may as well loop through any iterable object, such as a list of strings. Let us create a list of different names for those purposes:"
   ]
  },
  {
   "cell_type": "code",
   "execution_count": 15,
   "id": "4722f04a-bb8c-481e-808e-ab781170f8f4",
   "metadata": {},
   "outputs": [],
   "source": [
    "names = [\"John\", \"Ringo\", \"Paul\", \"George\"]"
   ]
  },
  {
   "cell_type": "markdown",
   "id": "b6ffa97f-9900-47da-b216-c80615daa6d4",
   "metadata": {},
   "source": [
    "Now let's print each name in the list one by one:"
   ]
  },
  {
   "cell_type": "code",
   "execution_count": 16,
   "id": "5db5a661-c857-4349-8946-dc744c1c2b02",
   "metadata": {},
   "outputs": [
    {
     "name": "stdout",
     "output_type": "stream",
     "text": [
      "John\n",
      "Ringo\n",
      "Paul\n",
      "George\n"
     ]
    }
   ],
   "source": [
    "for name in names:\n",
    "    print(name)"
   ]
  },
  {
   "cell_type": "markdown",
   "id": "70f78b2d-49f0-4cfb-8813-8cfd441fbbfe",
   "metadata": {},
   "source": [
    "> **Note:** By using `in`, each value within the list `names` is assigned sequentially and once to the variable name once! That makes the `for` loop quite handy and clearly implemented.  "
   ]
  },
  {
   "cell_type": "markdown",
   "id": "1099c2cd-f645-4948-a2af-9dff9a5fe75c",
   "metadata": {},
   "source": [
    "> **Exercise:** Combine the items from the two given lists `names` and `surnames` and print them as one string to the console each!\n",
    "\n",
    "> *Hint:* You may want to investigate the use of the `enumerate()` and the `zip()` functions on your own with the help of the internet to find a handy and short solution for this task! "
   ]
  },
  {
   "cell_type": "code",
   "execution_count": 17,
   "id": "7bb3f778-1183-46d4-9a31-a4bde2b3b583",
   "metadata": {},
   "outputs": [],
   "source": [
    "names = [\"John\", \"Ringo\", \"Paul\", \"George\"]\n",
    "surnames = [\"Lennon\", \"Star\", \"McCartney\", \"Harrison\"]"
   ]
  },
  {
   "cell_type": "code",
   "execution_count": 18,
   "id": "9e6e60ac-69b4-4f1c-969f-2eec7c360af2",
   "metadata": {},
   "outputs": [
    {
     "name": "stdout",
     "output_type": "stream",
     "text": [
      "Help on class zip in module builtins:\n",
      "\n",
      "class zip(object)\n",
      " |  zip(*iterables) --> A zip object yielding tuples until an input is exhausted.\n",
      " |  \n",
      " |     >>> list(zip('abcdefg', range(3), range(4)))\n",
      " |     [('a', 0, 0), ('b', 1, 1), ('c', 2, 2)]\n",
      " |  \n",
      " |  The zip object yields n-length tuples, where n is the number of iterables\n",
      " |  passed as positional arguments to zip().  The i-th element in every tuple\n",
      " |  comes from the i-th iterable argument to zip().  This continues until the\n",
      " |  shortest argument is exhausted.\n",
      " |  \n",
      " |  Methods defined here:\n",
      " |  \n",
      " |  __getattribute__(self, name, /)\n",
      " |      Return getattr(self, name).\n",
      " |  \n",
      " |  __iter__(self, /)\n",
      " |      Implement iter(self).\n",
      " |  \n",
      " |  __next__(self, /)\n",
      " |      Implement next(self).\n",
      " |  \n",
      " |  __reduce__(...)\n",
      " |      Return state information for pickling.\n",
      " |  \n",
      " |  ----------------------------------------------------------------------\n",
      " |  Static methods defined here:\n",
      " |  \n",
      " |  __new__(*args, **kwargs) from builtins.type\n",
      " |      Create and return a new object.  See help(type) for accurate signature.\n",
      "\n"
     ]
    }
   ],
   "source": [
    "help(zip)"
   ]
  },
  {
   "cell_type": "code",
   "execution_count": 19,
   "id": "d04e77c5-501d-4a54-9f97-0872e7b69a5b",
   "metadata": {},
   "outputs": [
    {
     "name": "stdout",
     "output_type": "stream",
     "text": [
      "John Lennon\n",
      "------\n",
      "Ringo Star\n",
      "------\n",
      "Paul McCartney\n",
      "------\n",
      "George Harrison\n",
      "------\n"
     ]
    }
   ],
   "source": [
    "for name_comb in zip(names, surnames):\n",
    "    print(name_comb[0], name_comb[1])\n",
    "    print(\"------\")"
   ]
  },
  {
   "cell_type": "code",
   "execution_count": 20,
   "id": "f0a88365-da8f-4a65-9e88-b2498e8afb7f",
   "metadata": {},
   "outputs": [
    {
     "name": "stdout",
     "output_type": "stream",
     "text": [
      "Help on class zip in module builtins:\n",
      "\n",
      "class zip(object)\n",
      " |  zip(*iterables) --> A zip object yielding tuples until an input is exhausted.\n",
      " |  \n",
      " |     >>> list(zip('abcdefg', range(3), range(4)))\n",
      " |     [('a', 0, 0), ('b', 1, 1), ('c', 2, 2)]\n",
      " |  \n",
      " |  The zip object yields n-length tuples, where n is the number of iterables\n",
      " |  passed as positional arguments to zip().  The i-th element in every tuple\n",
      " |  comes from the i-th iterable argument to zip().  This continues until the\n",
      " |  shortest argument is exhausted.\n",
      " |  \n",
      " |  Methods defined here:\n",
      " |  \n",
      " |  __getattribute__(self, name, /)\n",
      " |      Return getattr(self, name).\n",
      " |  \n",
      " |  __iter__(self, /)\n",
      " |      Implement iter(self).\n",
      " |  \n",
      " |  __next__(self, /)\n",
      " |      Implement next(self).\n",
      " |  \n",
      " |  __reduce__(...)\n",
      " |      Return state information for pickling.\n",
      " |  \n",
      " |  ----------------------------------------------------------------------\n",
      " |  Static methods defined here:\n",
      " |  \n",
      " |  __new__(*args, **kwargs) from builtins.type\n",
      " |      Create and return a new object.  See help(type) for accurate signature.\n",
      "\n"
     ]
    }
   ],
   "source": [
    "help(zip)"
   ]
  },
  {
   "cell_type": "markdown",
   "id": "bcec1061-c21a-4f9d-bfbd-b421f15c059b",
   "metadata": {},
   "source": [
    "### `while` loops\n",
    "\n",
    "A `while` loop repeats a task until a particular condition is met. Therefore, we do not need to know how often the loop will be executed. Be sure there is a way to exit out of a while loop. Otherwise, your program will run forever.\n",
    "\n",
    "Let's implement the same task with which we introduced the `for` loop, but this time by using a `while` loop. That means using a `while` loop that prints the first ten natural numbers sequentially:"
   ]
  },
  {
   "cell_type": "code",
   "execution_count": 21,
   "id": "b49be43a-c0fd-4a9d-9ba5-b554f6cc6131",
   "metadata": {},
   "outputs": [
    {
     "name": "stdout",
     "output_type": "stream",
     "text": [
      "1\n",
      "2\n",
      "3\n",
      "4\n",
      "5\n",
      "6\n",
      "7\n",
      "8\n",
      "9\n",
      "10\n"
     ]
    }
   ],
   "source": [
    "i = 1\n",
    "while i <= 10:\n",
    "    print(i)\n",
    "    i += 1"
   ]
  },
  {
   "cell_type": "markdown",
   "id": "0e73ab75-6179-4998-bbe6-823b89c1fe13",
   "metadata": {},
   "source": [
    "Now, we want to adapt the above loop so that only every second number starting with $2$ is printed:"
   ]
  },
  {
   "cell_type": "code",
   "execution_count": 22,
   "id": "c634186e-7be3-45d1-a090-b28a9c05459c",
   "metadata": {},
   "outputs": [
    {
     "name": "stdout",
     "output_type": "stream",
     "text": [
      "2\n",
      "4\n",
      "6\n",
      "8\n",
      "10\n"
     ]
    }
   ],
   "source": [
    "i = 2\n",
    "while i <= 10:\n",
    "    print(i)\n",
    "    i += 2"
   ]
  },
  {
   "cell_type": "markdown",
   "id": "6c42bdb5-4028-465b-849c-9097a444eb16",
   "metadata": {},
   "source": [
    "There is also the possibility of using an `if` statement within the loop to achieve the same result. We want to have a look at that solution by printing all even numbers from $0$ to $25$:"
   ]
  },
  {
   "cell_type": "code",
   "execution_count": 23,
   "id": "2503456c-ad94-4213-9b34-f972e493d2d0",
   "metadata": {},
   "outputs": [
    {
     "name": "stdout",
     "output_type": "stream",
     "text": [
      "0\n",
      "2\n",
      "4\n",
      "6\n",
      "8\n",
      "10\n",
      "12\n",
      "14\n",
      "16\n",
      "18\n",
      "20\n",
      "22\n",
      "24\n"
     ]
    }
   ],
   "source": [
    "number = 0\n",
    "while number <= 25:\n",
    "    if (number % 2) == 0:\n",
    "        print(number)\n",
    "    number += 1"
   ]
  },
  {
   "cell_type": "markdown",
   "id": "2019b771-6ef9-4644-b595-a143be747f3b",
   "metadata": {},
   "source": [
    "> **Exercise:** Write a parameterised UDF called `fibo_numbers()`, that calculates the fibonacci numbers according to the given parameter! Use a `while` loop for this task. "
   ]
  },
  {
   "cell_type": "code",
   "execution_count": 25,
   "id": "0f0322a9-754a-40ef-8a5e-f9b9a385437e",
   "metadata": {},
   "outputs": [],
   "source": [
    "def fibo_numbers(b):\n",
    "    a = 0\n",
    "    fibo_list = []\n",
    "\n",
    "    while a <= (b - 1):\n",
    "        if a < 2:\n",
    "            fibo_list.append(1)\n",
    "        else:\n",
    "            fibo_list.append(fibo_list[a - 2] + fibo_list[a - 1])\n",
    "        a += 1\n",
    "\n",
    "        # print(fibo_list)\n",
    "\n",
    "    return fibo_list"
   ]
  },
  {
   "cell_type": "markdown",
   "id": "a34a7669-7a6c-4f6c-9a14-2c6bdbf8ab82",
   "metadata": {},
   "source": [
    "> __Test your function__:   \n",
    "The first 10 fibonacci numbers are:"
   ]
  },
  {
   "cell_type": "code",
   "execution_count": 26,
   "id": "80f5ad47",
   "metadata": {},
   "outputs": [
    {
     "data": {
      "text/plain": [
       "[1, 1, 2, 3, 5, 8, 13, 21, 34, 55]"
      ]
     },
     "execution_count": 26,
     "metadata": {},
     "output_type": "execute_result"
    }
   ],
   "source": [
    "fibo_numbers(10)"
   ]
  },
  {
   "cell_type": "code",
   "execution_count": 1,
   "id": "3ad05071",
   "metadata": {
    "editable": true,
    "slideshow": {
     "slide_type": ""
    },
    "tags": []
   },
   "outputs": [
    {
     "data": {
      "text/html": [
       "\n",
       "        <iframe\n",
       "            width=\"900\"\n",
       "            height=\"200\"\n",
       "            src=\"../../citations/citation_Soga.html\"\n",
       "            frameborder=\"0\"\n",
       "            allowfullscreen\n",
       "            \n",
       "        ></iframe>\n",
       "        "
      ],
      "text/plain": [
       "<IPython.lib.display.IFrame at 0x107f1edf0>"
      ]
     },
     "execution_count": 1,
     "metadata": {},
     "output_type": "execute_result"
    }
   ],
   "source": [
    "from IPython.display import IFrame\n",
    "\n",
    "IFrame(\n",
    "    src=\"../../citations/citation_Soga.html\",\n",
    "    width=900,\n",
    "    height=200,\n",
    ")"
   ]
  },
  {
   "cell_type": "code",
   "execution_count": null,
   "id": "fec5f5a4-5d32-4469-b122-ad50396d5bf1",
   "metadata": {
    "editable": true,
    "slideshow": {
     "slide_type": ""
    },
    "tags": []
   },
   "outputs": [],
   "source": []
  }
 ],
 "metadata": {
  "kernelspec": {
   "display_name": "Python 3 (ipykernel)",
   "language": "python",
   "name": "python3"
  },
  "language_info": {
   "codemirror_mode": {
    "name": "ipython",
    "version": 3
   },
   "file_extension": ".py",
   "mimetype": "text/x-python",
   "name": "python",
   "nbconvert_exporter": "python",
   "pygments_lexer": "ipython3",
   "version": "3.9.19"
  }
 },
 "nbformat": 4,
 "nbformat_minor": 5
}
