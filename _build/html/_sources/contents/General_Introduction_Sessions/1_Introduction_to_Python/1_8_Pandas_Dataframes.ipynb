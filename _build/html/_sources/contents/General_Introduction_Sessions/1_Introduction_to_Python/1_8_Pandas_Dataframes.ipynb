{
 "cells": [
  {
   "cell_type": "code",
   "execution_count": 1,
   "id": "0a1954f7-ff79-4e8f-88f0-fdf47e1b43fc",
   "metadata": {
    "editable": true,
    "slideshow": {
     "slide_type": ""
    },
    "tags": [
     "remove-cell"
    ]
   },
   "outputs": [],
   "source": [
    "%load_ext lab_black"
   ]
  },
  {
   "cell_type": "markdown",
   "id": "95b99d8f-f2c5-4f00-a193-05db16d147b1",
   "metadata": {
    "editable": true,
    "raw_mimetype": "",
    "slideshow": {
     "slide_type": ""
    },
    "tags": []
   },
   "source": [
    "## Pandas package for handling `DataFrames`"
   ]
  },
  {
   "cell_type": "markdown",
   "id": "97d8330f-02ad-4532-92fe-9a238983312a",
   "metadata": {
    "editable": true,
    "slideshow": {
     "slide_type": ""
    },
    "tags": []
   },
   "source": [
    "Usually, when handling data in python we use `pandas DataFrames`.\n",
    "\n",
    "> For more information about `pandas DataFrames`, have a look into the [pandas documentation](https://pandas.pydata.org/pandas-docs/stable/reference/api/pandas.DataFrame.html).\n",
    "\n",
    "\n",
    "Before we start with a meteorological data set, we will give an example with the population of Europe's capitals. "
   ]
  },
  {
   "cell_type": "code",
   "execution_count": 2,
   "id": "5abb2511-a874-4770-9136-661c507389ff",
   "metadata": {
    "editable": true,
    "slideshow": {
     "slide_type": ""
    },
    "tags": []
   },
   "outputs": [],
   "source": [
    "# First, let's import all the needed libraries.\n",
    "\n",
    "import pandas as pd\n",
    "import seaborn as sns\n",
    "import matplotlib.pyplot as plt\n",
    "import numpy as np\n",
    "\n",
    "import warnings\n",
    "\n",
    "warnings.filterwarnings(\"ignore\", \"use_inf_as_na\")"
   ]
  },
  {
   "cell_type": "markdown",
   "id": "a933dfeb-4e18-491c-a1d2-03b8d46521c3",
   "metadata": {
    "editable": true,
    "slideshow": {
     "slide_type": ""
    },
    "tags": []
   },
   "source": [
    "### `pandas DataFrames`\n",
    "\n",
    "set up from dictionary: "
   ]
  },
  {
   "cell_type": "code",
   "execution_count": 3,
   "id": "7647955f-aead-439d-8297-937147c661bc",
   "metadata": {
    "editable": true,
    "slideshow": {
     "slide_type": ""
    },
    "tags": []
   },
   "outputs": [
    {
     "name": "stdout",
     "output_type": "stream",
     "text": [
      "         name  population  country\n",
      "0      London     8615246  England\n",
      "1      Berlin     3562166  Germany\n",
      "2      Madrid     3165235    Spain\n",
      "3        Rome     2874038    Italy\n",
      "4       Paris     2273305   France\n",
      "5      Vienna     1805681  Austria\n",
      "6   Bucharest     1803425  Romania\n",
      "7     Hamburg     1760433  Germany\n",
      "8    Budapest     1754000  Hungary\n",
      "9      Warsaw     1740119   Poland\n",
      "10  Barcelona     1602386    Spain\n",
      "11     Munich     1493900  Germany\n",
      "12      Milan     1350680    Italy\n"
     ]
    },
    {
     "data": {
      "text/html": [
       "<div>\n",
       "<style scoped>\n",
       "    .dataframe tbody tr th:only-of-type {\n",
       "        vertical-align: middle;\n",
       "    }\n",
       "\n",
       "    .dataframe tbody tr th {\n",
       "        vertical-align: top;\n",
       "    }\n",
       "\n",
       "    .dataframe thead th {\n",
       "        text-align: right;\n",
       "    }\n",
       "</style>\n",
       "<table border=\"1\" class=\"dataframe\">\n",
       "  <thead>\n",
       "    <tr style=\"text-align: right;\">\n",
       "      <th></th>\n",
       "      <th>name</th>\n",
       "      <th>population</th>\n",
       "      <th>country</th>\n",
       "    </tr>\n",
       "  </thead>\n",
       "  <tbody>\n",
       "    <tr>\n",
       "      <th>0</th>\n",
       "      <td>London</td>\n",
       "      <td>8615246</td>\n",
       "      <td>England</td>\n",
       "    </tr>\n",
       "    <tr>\n",
       "      <th>1</th>\n",
       "      <td>Berlin</td>\n",
       "      <td>3562166</td>\n",
       "      <td>Germany</td>\n",
       "    </tr>\n",
       "    <tr>\n",
       "      <th>2</th>\n",
       "      <td>Madrid</td>\n",
       "      <td>3165235</td>\n",
       "      <td>Spain</td>\n",
       "    </tr>\n",
       "    <tr>\n",
       "      <th>3</th>\n",
       "      <td>Rome</td>\n",
       "      <td>2874038</td>\n",
       "      <td>Italy</td>\n",
       "    </tr>\n",
       "    <tr>\n",
       "      <th>4</th>\n",
       "      <td>Paris</td>\n",
       "      <td>2273305</td>\n",
       "      <td>France</td>\n",
       "    </tr>\n",
       "    <tr>\n",
       "      <th>5</th>\n",
       "      <td>Vienna</td>\n",
       "      <td>1805681</td>\n",
       "      <td>Austria</td>\n",
       "    </tr>\n",
       "    <tr>\n",
       "      <th>6</th>\n",
       "      <td>Bucharest</td>\n",
       "      <td>1803425</td>\n",
       "      <td>Romania</td>\n",
       "    </tr>\n",
       "    <tr>\n",
       "      <th>7</th>\n",
       "      <td>Hamburg</td>\n",
       "      <td>1760433</td>\n",
       "      <td>Germany</td>\n",
       "    </tr>\n",
       "    <tr>\n",
       "      <th>8</th>\n",
       "      <td>Budapest</td>\n",
       "      <td>1754000</td>\n",
       "      <td>Hungary</td>\n",
       "    </tr>\n",
       "    <tr>\n",
       "      <th>9</th>\n",
       "      <td>Warsaw</td>\n",
       "      <td>1740119</td>\n",
       "      <td>Poland</td>\n",
       "    </tr>\n",
       "    <tr>\n",
       "      <th>10</th>\n",
       "      <td>Barcelona</td>\n",
       "      <td>1602386</td>\n",
       "      <td>Spain</td>\n",
       "    </tr>\n",
       "    <tr>\n",
       "      <th>11</th>\n",
       "      <td>Munich</td>\n",
       "      <td>1493900</td>\n",
       "      <td>Germany</td>\n",
       "    </tr>\n",
       "    <tr>\n",
       "      <th>12</th>\n",
       "      <td>Milan</td>\n",
       "      <td>1350680</td>\n",
       "      <td>Italy</td>\n",
       "    </tr>\n",
       "  </tbody>\n",
       "</table>\n",
       "</div>"
      ],
      "text/plain": [
       "         name  population  country\n",
       "0      London     8615246  England\n",
       "1      Berlin     3562166  Germany\n",
       "2      Madrid     3165235    Spain\n",
       "3        Rome     2874038    Italy\n",
       "4       Paris     2273305   France\n",
       "5      Vienna     1805681  Austria\n",
       "6   Bucharest     1803425  Romania\n",
       "7     Hamburg     1760433  Germany\n",
       "8    Budapest     1754000  Hungary\n",
       "9      Warsaw     1740119   Poland\n",
       "10  Barcelona     1602386    Spain\n",
       "11     Munich     1493900  Germany\n",
       "12      Milan     1350680    Italy"
      ]
     },
     "execution_count": 3,
     "metadata": {},
     "output_type": "execute_result"
    }
   ],
   "source": [
    "## exemplary dataframe\n",
    "\n",
    "cities = {\n",
    "    \"name\": [\n",
    "        \"London\",\n",
    "        \"Berlin\",\n",
    "        \"Madrid\",\n",
    "        \"Rome\",\n",
    "        \"Paris\",\n",
    "        \"Vienna\",\n",
    "        \"Bucharest\",\n",
    "        \"Hamburg\",\n",
    "        \"Budapest\",\n",
    "        \"Warsaw\",\n",
    "        \"Barcelona\",\n",
    "        \"Munich\",\n",
    "        \"Milan\",\n",
    "    ],\n",
    "    \"population\": [\n",
    "        8615246,\n",
    "        3562166,\n",
    "        3165235,\n",
    "        2874038,\n",
    "        2273305,\n",
    "        1805681,\n",
    "        1803425,\n",
    "        1760433,\n",
    "        1754000,\n",
    "        1740119,\n",
    "        1602386,\n",
    "        1493900,\n",
    "        1350680,\n",
    "    ],\n",
    "    \"country\": [\n",
    "        \"England\",\n",
    "        \"Germany\",\n",
    "        \"Spain\",\n",
    "        \"Italy\",\n",
    "        \"France\",\n",
    "        \"Austria\",\n",
    "        \"Romania\",\n",
    "        \"Germany\",\n",
    "        \"Hungary\",\n",
    "        \"Poland\",\n",
    "        \"Spain\",\n",
    "        \"Germany\",\n",
    "        \"Italy\",\n",
    "    ],\n",
    "}\n",
    "df_city = pd.DataFrame(cities)\n",
    "print(df_city)\n",
    "\n",
    "\n",
    "### Mean of a single column\n",
    "mean = df_city[\"population\"].mean()\n",
    "## Variance:\n",
    "variance = df_city[\"population\"].var()\n",
    "## Median\n",
    "median = df_city[\"population\"].median()\n",
    "\n",
    "df_city"
   ]
  },
  {
   "cell_type": "markdown",
   "id": "9f001b5f-c19e-4f5a-a970-6c14c2ebd825",
   "metadata": {
    "editable": true,
    "slideshow": {
     "slide_type": ""
    },
    "tags": []
   },
   "source": [
    "### Subsetting a `pandas DataFrame`\n",
    "\n",
    "> **Exercise**:\n",
    ">\n",
    "> We can calculate with a subset of a data set by using pandas \"iloc\":\n",
    "> Remember that we start counting at 0! To consider the values of the pressure we locate the first column\n",
    "> and all rows:\n"
   ]
  },
  {
   "cell_type": "code",
   "execution_count": 4,
   "id": "059d1a12-2a61-4e77-b74b-77e8f5bbb796",
   "metadata": {
    "editable": true,
    "slideshow": {
     "slide_type": ""
    },
    "tags": []
   },
   "outputs": [],
   "source": [
    "### your code here ###"
   ]
  },
  {
   "cell_type": "markdown",
   "id": "bf4f9f0d-1217-4b43-b0d1-7d4de25f1252",
   "metadata": {
    "editable": true,
    "slideshow": {
     "slide_type": ""
    },
    "tags": []
   },
   "source": [
    "#### solution"
   ]
  },
  {
   "cell_type": "code",
   "execution_count": 5,
   "id": "4ce75dc3-6e61-4673-8d7c-56ab73bfa6cd",
   "metadata": {
    "editable": true,
    "scrolled": true,
    "slideshow": {
     "slide_type": ""
    },
    "tags": []
   },
   "outputs": [
    {
     "data": {
      "text/plain": [
       "0        London\n",
       "1        Berlin\n",
       "2        Madrid\n",
       "3          Rome\n",
       "4         Paris\n",
       "5        Vienna\n",
       "6     Bucharest\n",
       "7       Hamburg\n",
       "8      Budapest\n",
       "9        Warsaw\n",
       "10    Barcelona\n",
       "11       Munich\n",
       "12        Milan\n",
       "Name: name, dtype: object"
      ]
     },
     "execution_count": 5,
     "metadata": {},
     "output_type": "execute_result"
    }
   ],
   "source": [
    "df_city.iloc[:, 0]"
   ]
  },
  {
   "cell_type": "code",
   "execution_count": 6,
   "id": "ac4f589d-ecf0-4483-a878-4aed885d06f2",
   "metadata": {
    "editable": true,
    "slideshow": {
     "slide_type": ""
    },
    "tags": [
     "remove-input"
    ]
   },
   "outputs": [
    {
     "data": {
      "text/html": [
       "\n",
       "        <iframe\n",
       "            width=\"900\"\n",
       "            height=\"200\"\n",
       "            src=\"../../citations/citation_Soga.html\"\n",
       "            frameborder=\"0\"\n",
       "            allowfullscreen\n",
       "            \n",
       "        ></iframe>\n",
       "        "
      ],
      "text/plain": [
       "<IPython.lib.display.IFrame at 0x1458f8640>"
      ]
     },
     "execution_count": 6,
     "metadata": {},
     "output_type": "execute_result"
    }
   ],
   "source": [
    "from IPython.display import IFrame\n",
    "\n",
    "IFrame(\n",
    "    src=\"../../citations/citation_Soga.html\",\n",
    "    width=900,\n",
    "    height=200,\n",
    ")"
   ]
  }
 ],
 "metadata": {
  "kernelspec": {
   "display_name": "Python 3 (ipykernel)",
   "language": "python",
   "name": "python3"
  },
  "language_info": {
   "codemirror_mode": {
    "name": "ipython",
    "version": 3
   },
   "file_extension": ".py",
   "mimetype": "text/x-python",
   "name": "python",
   "nbconvert_exporter": "python",
   "pygments_lexer": "ipython3",
   "version": "3.9.19"
  }
 },
 "nbformat": 4,
 "nbformat_minor": 5
}
