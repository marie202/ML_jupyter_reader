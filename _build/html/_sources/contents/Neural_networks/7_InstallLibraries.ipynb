{
 "cells": [
  {
   "cell_type": "markdown",
   "id": "0c423aff-67b1-4a91-aba5-ae8352fe52ab",
   "metadata": {
    "editable": true,
    "slideshow": {
     "slide_type": ""
    },
    "tags": []
   },
   "source": [
    "# 7. Handwritten Digits\n",
    "\n",
    "### Installation of needed libraries\n",
    "\n",
    "If the libraries have not yet been installed in the corresponding environment, this can be done with one of the following code cell.\n"
   ]
  },
  {
   "cell_type": "markdown",
   "id": "6e3b79e6-810f-4dcb-9e1d-1e6598675140",
   "metadata": {},
   "source": [
    "\n",
    "### ... using pip"
   ]
  },
  {
   "cell_type": "code",
   "execution_count": 1,
   "id": "618a34fd-3549-4f28-a6b9-d6eb18a2a646",
   "metadata": {
    "editable": true,
    "slideshow": {
     "slide_type": ""
    },
    "tags": []
   },
   "outputs": [
    {
     "name": "stdout",
     "output_type": "stream",
     "text": [
      "Requirement already satisfied: numpy in /opt/anaconda3/envs/jupyter_book_ml/lib/python3.9/site-packages (1.26.4)\n",
      "Requirement already satisfied: matplotlib in /opt/anaconda3/envs/jupyter_book_ml/lib/python3.9/site-packages (3.8.4)\n",
      "Requirement already satisfied: pandas in /opt/anaconda3/envs/jupyter_book_ml/lib/python3.9/site-packages (2.2.2)\n",
      "Requirement already satisfied: seaborn in /opt/anaconda3/envs/jupyter_book_ml/lib/python3.9/site-packages (0.13.2)\n",
      "Requirement already satisfied: scipy in /opt/anaconda3/envs/jupyter_book_ml/lib/python3.9/site-packages (1.13.1)\n",
      "Collecting neuralnet\n",
      "  Using cached neuralnet-0.2.0-py3-none-any.whl.metadata (2.6 kB)\n",
      "Collecting theano\n",
      "  Using cached Theano-1.0.5.tar.gz (2.8 MB)\n",
      "  Preparing metadata (setup.py) ... \u001b[?25ldone\n",
      "\u001b[?25hRequirement already satisfied: contourpy>=1.0.1 in /opt/anaconda3/envs/jupyter_book_ml/lib/python3.9/site-packages (from matplotlib) (1.2.0)\n",
      "Requirement already satisfied: cycler>=0.10 in /opt/anaconda3/envs/jupyter_book_ml/lib/python3.9/site-packages (from matplotlib) (0.11.0)\n",
      "Requirement already satisfied: fonttools>=4.22.0 in /opt/anaconda3/envs/jupyter_book_ml/lib/python3.9/site-packages (from matplotlib) (4.51.0)\n",
      "Requirement already satisfied: kiwisolver>=1.3.1 in /opt/anaconda3/envs/jupyter_book_ml/lib/python3.9/site-packages (from matplotlib) (1.4.4)\n",
      "Requirement already satisfied: packaging>=20.0 in /opt/anaconda3/envs/jupyter_book_ml/lib/python3.9/site-packages (from matplotlib) (24.1)\n",
      "Requirement already satisfied: pillow>=8 in /opt/anaconda3/envs/jupyter_book_ml/lib/python3.9/site-packages (from matplotlib) (10.4.0)\n",
      "Requirement already satisfied: pyparsing>=2.3.1 in /opt/anaconda3/envs/jupyter_book_ml/lib/python3.9/site-packages (from matplotlib) (3.0.9)\n",
      "Requirement already satisfied: python-dateutil>=2.7 in /opt/anaconda3/envs/jupyter_book_ml/lib/python3.9/site-packages (from matplotlib) (2.9.0.post0)\n",
      "Requirement already satisfied: importlib-resources>=3.2.0 in /opt/anaconda3/envs/jupyter_book_ml/lib/python3.9/site-packages (from matplotlib) (6.4.0)\n",
      "Requirement already satisfied: pytz>=2020.1 in /opt/anaconda3/envs/jupyter_book_ml/lib/python3.9/site-packages (from pandas) (2024.1)\n",
      "Requirement already satisfied: tzdata>=2022.7 in /opt/anaconda3/envs/jupyter_book_ml/lib/python3.9/site-packages (from pandas) (2023.3)\n",
      "Requirement already satisfied: tqdm in /opt/anaconda3/envs/jupyter_book_ml/lib/python3.9/site-packages (from neuralnet) (4.66.4)\n",
      "Collecting visdom (from neuralnet)\n",
      "  Downloading visdom-0.2.4.tar.gz (1.4 MB)\n",
      "\u001b[2K     \u001b[90m━━━━━━━━━━━━━━━━━━━━━━━━━━━━━━━━━━━━━━━━\u001b[0m \u001b[32m1.4/1.4 MB\u001b[0m \u001b[31m5.4 MB/s\u001b[0m eta \u001b[36m0:00:00\u001b[0ma \u001b[36m0:00:01\u001b[0m\n",
      "\u001b[?25h  Preparing metadata (setup.py) ... \u001b[?25ldone\n",
      "\u001b[?25hRequirement already satisfied: six>=1.9.0 in /opt/anaconda3/envs/jupyter_book_ml/lib/python3.9/site-packages (from theano) (1.16.0)\n",
      "Requirement already satisfied: zipp>=3.1.0 in /opt/anaconda3/envs/jupyter_book_ml/lib/python3.9/site-packages (from importlib-resources>=3.2.0->matplotlib) (3.17.0)\n",
      "Requirement already satisfied: requests in /opt/anaconda3/envs/jupyter_book_ml/lib/python3.9/site-packages (from visdom->neuralnet) (2.32.2)\n",
      "Requirement already satisfied: tornado in /opt/anaconda3/envs/jupyter_book_ml/lib/python3.9/site-packages (from visdom->neuralnet) (6.4.1)\n",
      "Collecting jsonpatch (from visdom->neuralnet)\n",
      "  Downloading jsonpatch-1.33-py2.py3-none-any.whl.metadata (3.0 kB)\n",
      "Requirement already satisfied: websocket-client in /opt/anaconda3/envs/jupyter_book_ml/lib/python3.9/site-packages (from visdom->neuralnet) (1.8.0)\n",
      "Collecting networkx (from visdom->neuralnet)\n",
      "  Downloading networkx-3.2.1-py3-none-any.whl.metadata (5.2 kB)\n",
      "Requirement already satisfied: jsonpointer>=1.9 in /opt/anaconda3/envs/jupyter_book_ml/lib/python3.9/site-packages (from jsonpatch->visdom->neuralnet) (2.0)\n",
      "Requirement already satisfied: charset-normalizer<4,>=2 in /opt/anaconda3/envs/jupyter_book_ml/lib/python3.9/site-packages (from requests->visdom->neuralnet) (2.0.4)\n",
      "Requirement already satisfied: idna<4,>=2.5 in /opt/anaconda3/envs/jupyter_book_ml/lib/python3.9/site-packages (from requests->visdom->neuralnet) (3.7)\n",
      "Requirement already satisfied: urllib3<3,>=1.21.1 in /opt/anaconda3/envs/jupyter_book_ml/lib/python3.9/site-packages (from requests->visdom->neuralnet) (1.26.19)\n",
      "Requirement already satisfied: certifi>=2017.4.17 in /opt/anaconda3/envs/jupyter_book_ml/lib/python3.9/site-packages (from requests->visdom->neuralnet) (2024.7.4)\n",
      "Downloading neuralnet-0.2.0-py3-none-any.whl (75 kB)\n",
      "\u001b[2K   \u001b[90m━━━━━━━━━━━━━━━━━━━━━━━━━━━━━━━━━━━━━━━━\u001b[0m \u001b[32m75.3/75.3 kB\u001b[0m \u001b[31m2.8 MB/s\u001b[0m eta \u001b[36m0:00:00\u001b[0m\n",
      "\u001b[?25hDownloading jsonpatch-1.33-py2.py3-none-any.whl (12 kB)\n",
      "Downloading networkx-3.2.1-py3-none-any.whl (1.6 MB)\n",
      "\u001b[2K   \u001b[90m━━━━━━━━━━━━━━━━━━━━━━━━━━━━━━━━━━━━━━━━\u001b[0m \u001b[32m1.6/1.6 MB\u001b[0m \u001b[31m5.5 MB/s\u001b[0m eta \u001b[36m0:00:00\u001b[0m00:01\u001b[0m00:01\u001b[0m\n",
      "\u001b[?25hBuilding wheels for collected packages: theano, visdom\n",
      "  Building wheel for theano (setup.py) ... \u001b[?25ldone\n",
      "\u001b[?25h  Created wheel for theano: filename=Theano-1.0.5-py3-none-any.whl size=2668109 sha256=5188519afe24fc9d1a68cc4afb656d285cb9f7fa56853738a51cd57412fb67f7\n",
      "  Stored in directory: /Users/marie-christineckert/Library/Caches/pip/wheels/12/d8/36/e9b7c617ca8be398dcc48621c539d0cb1d41ff04e4367fc235\n",
      "  Building wheel for visdom (setup.py) ... \u001b[?25ldone\n",
      "\u001b[?25h  Created wheel for visdom: filename=visdom-0.2.4-py3-none-any.whl size=1408195 sha256=98045f861d401e3d4a1c8c7b9a104e2a41d2700dd055a76c817a7f510e788e34\n",
      "  Stored in directory: /Users/marie-christineckert/Library/Caches/pip/wheels/58/9e/14/30f7cc4dafdd4d602fb00ca33c6edd1424fc0f5df10a02e060\n",
      "Successfully built theano visdom\n",
      "\u001b[33mDEPRECATION: nb-black 1.0.7 has a non-standard dependency specifier black>='19.3'; python_version >= \"3.6\". pip 24.1 will enforce this behaviour change. A possible replacement is to upgrade to a newer version of nb-black or contact the author to suggest that they release a version with a conforming dependency specifiers. Discussion can be found at https://github.com/pypa/pip/issues/12063\u001b[0m\u001b[33m\n",
      "\u001b[0mInstalling collected packages: networkx, jsonpatch, visdom, theano, neuralnet\n",
      "Successfully installed jsonpatch-1.33 networkx-3.2.1 neuralnet-0.2.0 theano-1.0.5 visdom-0.2.4\n"
     ]
    }
   ],
   "source": [
    "# Installiere die notwendigen Bibliotheken mit pip\n",
    "import sys\n",
    "!{sys.executable} -m pip install numpy matplotlib pandas seaborn matplotlib scipy neuralnet theano"
   ]
  },
  {
   "cell_type": "code",
   "execution_count": null,
   "id": "55d56961-5476-4185-9641-baeb487df3a5",
   "metadata": {
    "editable": true,
    "slideshow": {
     "slide_type": ""
    },
    "tags": []
   },
   "outputs": [],
   "source": []
  }
 ],
 "metadata": {
  "kernelspec": {
   "display_name": "Python 3 (ipykernel)",
   "language": "python",
   "name": "python3"
  },
  "language_info": {
   "codemirror_mode": {
    "name": "ipython",
    "version": 3
   },
   "file_extension": ".py",
   "mimetype": "text/x-python",
   "name": "python",
   "nbconvert_exporter": "python",
   "pygments_lexer": "ipython3",
   "version": "3.9.19"
  }
 },
 "nbformat": 4,
 "nbformat_minor": 5
}
