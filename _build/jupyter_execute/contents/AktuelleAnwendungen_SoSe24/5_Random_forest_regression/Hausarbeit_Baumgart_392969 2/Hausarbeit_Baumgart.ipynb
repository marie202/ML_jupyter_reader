{
 "cells": [
  {
   "cell_type": "markdown",
   "id": "6f469d24",
   "metadata": {},
   "source": [
    "# Machine learning Algorithms I\n",
    "## 5 Decision Trees & Random Forests\n",
    "\n",
    "In this notebook, we will implement a random forest in Python. We'll start with a single decision tree and a simple problem, and then work our way to a random forest. Once we understand how a single decision tree works, we can transfer this knowledge to an entire forest of trees.\n",
    "\n",
    "> really nice introduction: https://www.youtube.com/watch?v=J4Wdy0Wc_xQ&t=528s\n",
    "\n",
    "#### RF Tutorial Aims:\n",
    "* Random Forest classification with scikit-learn\n",
    "* How random forests work\n",
    "* How to use them for regression\n",
    "* How to evaluate their performance\n",
    "\n",
    "\n",
    "## 5.1. Decision Trees"
   ]
  },
  {
   "cell_type": "markdown",
   "id": "ab8020d5-26ad-4e24-8f62-9c51e62c4224",
   "metadata": {},
   "source": [
    "### 5.1.2. What is a decision tree\n",
    "\n",
    "\n",
    "<div>\n",
    "<img src=\"5_RF_figures/Decisiontree.png\" width=\"400\"/>\n",
    "</div>\n",
    "\n",
    "A simple linear classifier will not be able to draw a boundary that separates the classes. The single decision tree will be able to completely separate the points because it essentially draws many repeated linear boundaries between points. A decision tree is a non-parametric model because the number of parameters grows with the size of the data.\n",
    "\n",
    "* DTs are easy to built, use and interpret **BUT** they are limited!\n",
    "* Their main disadvantage: INACCURAY! --> are not flexible with new samples"
   ]
  },
  {
   "cell_type": "code",
   "execution_count": null,
   "id": "5f8a5297-ab31-44e3-9098-3d79082b7d17",
   "metadata": {},
   "outputs": [],
   "source": []
  },
  {
   "cell_type": "code",
   "execution_count": null,
   "id": "763d11ec-10d1-43d5-8a9a-59d5d13aad1c",
   "metadata": {},
   "outputs": [],
   "source": []
  },
  {
   "cell_type": "markdown",
   "id": "3e8a8441",
   "metadata": {},
   "source": [
    "# Application example: Random Forest Regression Analysis of Stable Water Isotope Variability in Southern Africa’s Precipitation\n",
    "\n",
    "**Geppert, Marielle; Hartmann, Kai; Kirchner, Ingo; Pfahl, Stephan; Struck, Ulrich; Riedel, Frank (2022). Precipitation Over Southern Africa: Moisture Sources and Isotopic Composition. JGR: Atmospheres, https://doi.org/10.1029/2022JD037005**\n",
    "\n",
    "---\n",
    "\n",
    "## Context of the Study\n",
    "Southern Africa is characterized by arid and semi-arid landscapes and is particularly susceptible to extreme weather conditions. Intriguingly, over the last 100,000 years, extensive lakes have periodically formed in the central Kalahari desert, raising questions about historical changes in atmospheric circulation and precipitation patterns.\n",
    "\n",
    "Geppert et al. conducted a study about the annual precipitation distributions throughout Southern Africa. They focused on the analysis of stable water isotope compositions, moisture transport pathways, and moisture sources.\n",
    "\n",
    "Stable isotopes of hydrogen and oxygen (such as <sup>2</sup>H and <sup>18</sup>O) in water molecules vary slightly based on their source and the environmental conditions they have been through. By analyzing these isotopes, it is possible to trace the origins of water sources and to understand the pathways of moisture transport.\n",
    "\n",
    "\n",
    "Changes in stable isotope ratios in precipitation can reveal shifts in atmospheric circulation patterns and climate. For instance, when water evaporates from the ocean, water molecules containing heavier isotopes of oxygen (<sup>18</sup>O) and hydrogen (<sup>2</sup>H or deuterium) are more likely to remain in the ocean. This results in a higher concentration of these heavier isotopes in the ocean, which is reflected in the δ<sup>2</sup>H and δ<sup>18</sup>O ratios of the ocean water. As the evaporated water forms precipitation and moves inland, separation continues and and further changes isotopic ratios occur. Analyzing these isotopic variations helps to reconstruct past precipitation regimes and thus provides insights into historical patterns of atmospheric circulation.\n",
    "\n",
    "---\n",
    "\n",
    "## Data Collection\n",
    "The study involved collecting water samples of precipitation and different surface waters in southern Africa between 2016 and 2021. The map shows the sampling locations and the sample type, which is: ocean, spring, lake, precipitation and river. Furthermore, the data of eight Global Network for Isotopes in Precipitation (GNIP) stations has been used."
   ]
  },
  {
   "cell_type": "markdown",
   "id": "c55e53de",
   "metadata": {},
   "source": [
    "![Map](./bild1.png)"
   ]
  },
  {
   "cell_type": "markdown",
   "id": "dd89b37a",
   "metadata": {},
   "source": [
    "Sample locations\n",
    "\n",
    "The data set and further information about the sampling process can be found\n",
    "[here](https://doi.pangaea.de/10.1594/PANGAEA.944811)."
   ]
  },
  {
   "cell_type": "markdown",
   "id": "9ba775ed",
   "metadata": {},
   "source": [
    "\n",
    "Let us take a closer look at the data:"
   ]
  },
  {
   "cell_type": "code",
   "execution_count": 1,
   "id": "d9bbb785",
   "metadata": {},
   "outputs": [],
   "source": [
    "# Importieren der pandas- und requests-Bibliothek sowie des StringIO-Moduls\n",
    "import pandas as pd\n",
    "import requests\n",
    "from io import StringIO\n",
    "\n",
    "# Daten über URL einlesen\n",
    "url = \"https://doi.pangaea.de/10.1594/PANGAEA.944811?format=textfile\"\n",
    "\n",
    "response = requests.get(url)\n",
    "IsoW06 = pd.read_csv(StringIO(response.text), sep = '\\t', skiprows = 267, header = 1, encoding = \"UTF-8\", \n",
    "                     engine = 'python', on_bad_lines = 'skip')"
   ]
  },
  {
   "cell_type": "code",
   "execution_count": 2,
   "id": "22aea3f1",
   "metadata": {},
   "outputs": [
    {
     "name": "stdout",
     "output_type": "stream",
     "text": [
      "          Event Sample ID  Latitude  Longitude   Date/Time Samp type  \\\n",
      "0  WaterSA_SLW1      SLW1 -33.88917   18.96917  2016-08-29     River   \n",
      "1  WaterSA_SLW2      SLW2 -33.87800   19.03517  2016-08-29     River   \n",
      "2  WaterSA_SLW3      SLW3 -33.93667   19.17000  2016-08-29     River   \n",
      "3  WaterSA_SLW4      SLW4 -33.69350   19.32483  2016-08-29     River   \n",
      "4  WaterSA_SLW5      SLW5 -33.54333   19.20733  2016-08-29     River   \n",
      "5  WaterSA_SLW6      SLW6 -33.33367   19.87767  2016-08-30      Lake   \n",
      "\n",
      "                                      Sample comment  δ18O H2O [‰ SMOW]  \\\n",
      "0                                     River at Pniel              -3.54   \n",
      "1  River Berg; abundant with insect larvae; dam u...              -3.33   \n",
      "2                         Minor waterfall; iron rich              -4.44   \n",
      "3                 River; abundant with insect larvae              -4.28   \n",
      "4                                         River Bree              -4.09   \n",
      "5  Reservoir lake; under almost natural condition...              -2.59   \n",
      "\n",
      "   δD H2O [‰ SMOW]  δ18O H2O std dev [±]  δD H2O std dev [±]  \n",
      "0           -14.50                  0.09                0.64  \n",
      "1           -13.62                  0.09                0.45  \n",
      "2           -22.33                  0.04                0.59  \n",
      "3           -22.70                  0.07                0.30  \n",
      "4           -18.99                  0.04                0.34  \n",
      "5           -18.59                  0.10                0.29  \n"
     ]
    }
   ],
   "source": [
    "# Anzeigen lassen der ersten 6 Dateneinträge\n",
    "print(IsoW06.head(6))"
   ]
  },
  {
   "cell_type": "markdown",
   "id": "c69784a0",
   "metadata": {},
   "source": [
    "The data set contains 188 samples and the following 11 variables: \n",
    "Event, Sample ID, Latitude, Longitude, Date/Time, Samp type, Sample comment, δ18O H2O [‰ SMOW], δD H2O [‰ SMOW], δ18O H2O std dev [±], δD H2O std dev [±]. The isotope ratios are expressed in the conventional delta notation (δ18O, δ2H) in per mil (‰) relative to VSMOW ([Vienna Standard Mean Ocean Water](https://en.wikipedia.org/wiki/Vienna_Standard_Mean_Ocean_Water)."
   ]
  },
  {
   "cell_type": "markdown",
   "id": "8b974f9d",
   "metadata": {},
   "source": [
    "## The Random Forest Algorithm in the Study"
   ]
  },
  {
   "cell_type": "markdown",
   "id": "d3136ea4",
   "metadata": {},
   "source": [
    "The Random Forest (RF) algorithm is applied to assess the relative importance of various meteorological variables on the stable isotope data. Therefore, the study uses the cforest() function from the R package party. One of the main advantages of the party package is its ability to handle both categorical and continuous predictor variables.\n",
    "\n",
    "\n",
    "In the following, the assessment will be showcased using the (=δ18O\n",
    ") isotope data."
   ]
  },
  {
   "cell_type": "code",
   "execution_count": 3,
   "id": "01c2dab0",
   "metadata": {},
   "outputs": [
    {
     "ename": "FileNotFoundError",
     "evalue": "[Errno 2] No such file or directory: './Geppert2019.csv'",
     "output_type": "error",
     "traceback": [
      "\u001b[0;31m---------------------------------------------------------------------------\u001b[0m",
      "\u001b[0;31mFileNotFoundError\u001b[0m                         Traceback (most recent call last)",
      "Cell \u001b[0;32mIn[3], line 2\u001b[0m\n\u001b[1;32m      1\u001b[0m \u001b[38;5;66;03m# Daten über CSV-Datei einlesen\u001b[39;00m\n\u001b[0;32m----> 2\u001b[0m TrajIsoLC \u001b[38;5;241m=\u001b[39m \u001b[43mpd\u001b[49m\u001b[38;5;241;43m.\u001b[39;49m\u001b[43mread_csv\u001b[49m\u001b[43m(\u001b[49m\u001b[38;5;124;43m'\u001b[39;49m\u001b[38;5;124;43m./Geppert2019.csv\u001b[39;49m\u001b[38;5;124;43m'\u001b[39;49m\u001b[43m,\u001b[49m\u001b[43m  \u001b[49m\u001b[43mheader\u001b[49m\u001b[43m \u001b[49m\u001b[38;5;241;43m=\u001b[39;49m\u001b[43m \u001b[49m\u001b[38;5;241;43m0\u001b[39;49m\u001b[43m,\u001b[49m\u001b[43m \u001b[49m\u001b[43msep\u001b[49m\u001b[43m \u001b[49m\u001b[38;5;241;43m=\u001b[39;49m\u001b[43m \u001b[49m\u001b[38;5;124;43m'\u001b[39;49m\u001b[38;5;124;43m,\u001b[39;49m\u001b[38;5;124;43m'\u001b[39;49m\u001b[43m)\u001b[49m\n",
      "File \u001b[0;32m/opt/anaconda3/envs/jupyter_book_ml/lib/python3.9/site-packages/pandas/io/parsers/readers.py:1026\u001b[0m, in \u001b[0;36mread_csv\u001b[0;34m(filepath_or_buffer, sep, delimiter, header, names, index_col, usecols, dtype, engine, converters, true_values, false_values, skipinitialspace, skiprows, skipfooter, nrows, na_values, keep_default_na, na_filter, verbose, skip_blank_lines, parse_dates, infer_datetime_format, keep_date_col, date_parser, date_format, dayfirst, cache_dates, iterator, chunksize, compression, thousands, decimal, lineterminator, quotechar, quoting, doublequote, escapechar, comment, encoding, encoding_errors, dialect, on_bad_lines, delim_whitespace, low_memory, memory_map, float_precision, storage_options, dtype_backend)\u001b[0m\n\u001b[1;32m   1013\u001b[0m kwds_defaults \u001b[38;5;241m=\u001b[39m _refine_defaults_read(\n\u001b[1;32m   1014\u001b[0m     dialect,\n\u001b[1;32m   1015\u001b[0m     delimiter,\n\u001b[0;32m   (...)\u001b[0m\n\u001b[1;32m   1022\u001b[0m     dtype_backend\u001b[38;5;241m=\u001b[39mdtype_backend,\n\u001b[1;32m   1023\u001b[0m )\n\u001b[1;32m   1024\u001b[0m kwds\u001b[38;5;241m.\u001b[39mupdate(kwds_defaults)\n\u001b[0;32m-> 1026\u001b[0m \u001b[38;5;28;01mreturn\u001b[39;00m \u001b[43m_read\u001b[49m\u001b[43m(\u001b[49m\u001b[43mfilepath_or_buffer\u001b[49m\u001b[43m,\u001b[49m\u001b[43m \u001b[49m\u001b[43mkwds\u001b[49m\u001b[43m)\u001b[49m\n",
      "File \u001b[0;32m/opt/anaconda3/envs/jupyter_book_ml/lib/python3.9/site-packages/pandas/io/parsers/readers.py:620\u001b[0m, in \u001b[0;36m_read\u001b[0;34m(filepath_or_buffer, kwds)\u001b[0m\n\u001b[1;32m    617\u001b[0m _validate_names(kwds\u001b[38;5;241m.\u001b[39mget(\u001b[38;5;124m\"\u001b[39m\u001b[38;5;124mnames\u001b[39m\u001b[38;5;124m\"\u001b[39m, \u001b[38;5;28;01mNone\u001b[39;00m))\n\u001b[1;32m    619\u001b[0m \u001b[38;5;66;03m# Create the parser.\u001b[39;00m\n\u001b[0;32m--> 620\u001b[0m parser \u001b[38;5;241m=\u001b[39m \u001b[43mTextFileReader\u001b[49m\u001b[43m(\u001b[49m\u001b[43mfilepath_or_buffer\u001b[49m\u001b[43m,\u001b[49m\u001b[43m \u001b[49m\u001b[38;5;241;43m*\u001b[39;49m\u001b[38;5;241;43m*\u001b[39;49m\u001b[43mkwds\u001b[49m\u001b[43m)\u001b[49m\n\u001b[1;32m    622\u001b[0m \u001b[38;5;28;01mif\u001b[39;00m chunksize \u001b[38;5;129;01mor\u001b[39;00m iterator:\n\u001b[1;32m    623\u001b[0m     \u001b[38;5;28;01mreturn\u001b[39;00m parser\n",
      "File \u001b[0;32m/opt/anaconda3/envs/jupyter_book_ml/lib/python3.9/site-packages/pandas/io/parsers/readers.py:1620\u001b[0m, in \u001b[0;36mTextFileReader.__init__\u001b[0;34m(self, f, engine, **kwds)\u001b[0m\n\u001b[1;32m   1617\u001b[0m     \u001b[38;5;28mself\u001b[39m\u001b[38;5;241m.\u001b[39moptions[\u001b[38;5;124m\"\u001b[39m\u001b[38;5;124mhas_index_names\u001b[39m\u001b[38;5;124m\"\u001b[39m] \u001b[38;5;241m=\u001b[39m kwds[\u001b[38;5;124m\"\u001b[39m\u001b[38;5;124mhas_index_names\u001b[39m\u001b[38;5;124m\"\u001b[39m]\n\u001b[1;32m   1619\u001b[0m \u001b[38;5;28mself\u001b[39m\u001b[38;5;241m.\u001b[39mhandles: IOHandles \u001b[38;5;241m|\u001b[39m \u001b[38;5;28;01mNone\u001b[39;00m \u001b[38;5;241m=\u001b[39m \u001b[38;5;28;01mNone\u001b[39;00m\n\u001b[0;32m-> 1620\u001b[0m \u001b[38;5;28mself\u001b[39m\u001b[38;5;241m.\u001b[39m_engine \u001b[38;5;241m=\u001b[39m \u001b[38;5;28;43mself\u001b[39;49m\u001b[38;5;241;43m.\u001b[39;49m\u001b[43m_make_engine\u001b[49m\u001b[43m(\u001b[49m\u001b[43mf\u001b[49m\u001b[43m,\u001b[49m\u001b[43m \u001b[49m\u001b[38;5;28;43mself\u001b[39;49m\u001b[38;5;241;43m.\u001b[39;49m\u001b[43mengine\u001b[49m\u001b[43m)\u001b[49m\n",
      "File \u001b[0;32m/opt/anaconda3/envs/jupyter_book_ml/lib/python3.9/site-packages/pandas/io/parsers/readers.py:1880\u001b[0m, in \u001b[0;36mTextFileReader._make_engine\u001b[0;34m(self, f, engine)\u001b[0m\n\u001b[1;32m   1878\u001b[0m     \u001b[38;5;28;01mif\u001b[39;00m \u001b[38;5;124m\"\u001b[39m\u001b[38;5;124mb\u001b[39m\u001b[38;5;124m\"\u001b[39m \u001b[38;5;129;01mnot\u001b[39;00m \u001b[38;5;129;01min\u001b[39;00m mode:\n\u001b[1;32m   1879\u001b[0m         mode \u001b[38;5;241m+\u001b[39m\u001b[38;5;241m=\u001b[39m \u001b[38;5;124m\"\u001b[39m\u001b[38;5;124mb\u001b[39m\u001b[38;5;124m\"\u001b[39m\n\u001b[0;32m-> 1880\u001b[0m \u001b[38;5;28mself\u001b[39m\u001b[38;5;241m.\u001b[39mhandles \u001b[38;5;241m=\u001b[39m \u001b[43mget_handle\u001b[49m\u001b[43m(\u001b[49m\n\u001b[1;32m   1881\u001b[0m \u001b[43m    \u001b[49m\u001b[43mf\u001b[49m\u001b[43m,\u001b[49m\n\u001b[1;32m   1882\u001b[0m \u001b[43m    \u001b[49m\u001b[43mmode\u001b[49m\u001b[43m,\u001b[49m\n\u001b[1;32m   1883\u001b[0m \u001b[43m    \u001b[49m\u001b[43mencoding\u001b[49m\u001b[38;5;241;43m=\u001b[39;49m\u001b[38;5;28;43mself\u001b[39;49m\u001b[38;5;241;43m.\u001b[39;49m\u001b[43moptions\u001b[49m\u001b[38;5;241;43m.\u001b[39;49m\u001b[43mget\u001b[49m\u001b[43m(\u001b[49m\u001b[38;5;124;43m\"\u001b[39;49m\u001b[38;5;124;43mencoding\u001b[39;49m\u001b[38;5;124;43m\"\u001b[39;49m\u001b[43m,\u001b[49m\u001b[43m \u001b[49m\u001b[38;5;28;43;01mNone\u001b[39;49;00m\u001b[43m)\u001b[49m\u001b[43m,\u001b[49m\n\u001b[1;32m   1884\u001b[0m \u001b[43m    \u001b[49m\u001b[43mcompression\u001b[49m\u001b[38;5;241;43m=\u001b[39;49m\u001b[38;5;28;43mself\u001b[39;49m\u001b[38;5;241;43m.\u001b[39;49m\u001b[43moptions\u001b[49m\u001b[38;5;241;43m.\u001b[39;49m\u001b[43mget\u001b[49m\u001b[43m(\u001b[49m\u001b[38;5;124;43m\"\u001b[39;49m\u001b[38;5;124;43mcompression\u001b[39;49m\u001b[38;5;124;43m\"\u001b[39;49m\u001b[43m,\u001b[49m\u001b[43m \u001b[49m\u001b[38;5;28;43;01mNone\u001b[39;49;00m\u001b[43m)\u001b[49m\u001b[43m,\u001b[49m\n\u001b[1;32m   1885\u001b[0m \u001b[43m    \u001b[49m\u001b[43mmemory_map\u001b[49m\u001b[38;5;241;43m=\u001b[39;49m\u001b[38;5;28;43mself\u001b[39;49m\u001b[38;5;241;43m.\u001b[39;49m\u001b[43moptions\u001b[49m\u001b[38;5;241;43m.\u001b[39;49m\u001b[43mget\u001b[49m\u001b[43m(\u001b[49m\u001b[38;5;124;43m\"\u001b[39;49m\u001b[38;5;124;43mmemory_map\u001b[39;49m\u001b[38;5;124;43m\"\u001b[39;49m\u001b[43m,\u001b[49m\u001b[43m \u001b[49m\u001b[38;5;28;43;01mFalse\u001b[39;49;00m\u001b[43m)\u001b[49m\u001b[43m,\u001b[49m\n\u001b[1;32m   1886\u001b[0m \u001b[43m    \u001b[49m\u001b[43mis_text\u001b[49m\u001b[38;5;241;43m=\u001b[39;49m\u001b[43mis_text\u001b[49m\u001b[43m,\u001b[49m\n\u001b[1;32m   1887\u001b[0m \u001b[43m    \u001b[49m\u001b[43merrors\u001b[49m\u001b[38;5;241;43m=\u001b[39;49m\u001b[38;5;28;43mself\u001b[39;49m\u001b[38;5;241;43m.\u001b[39;49m\u001b[43moptions\u001b[49m\u001b[38;5;241;43m.\u001b[39;49m\u001b[43mget\u001b[49m\u001b[43m(\u001b[49m\u001b[38;5;124;43m\"\u001b[39;49m\u001b[38;5;124;43mencoding_errors\u001b[39;49m\u001b[38;5;124;43m\"\u001b[39;49m\u001b[43m,\u001b[49m\u001b[43m \u001b[49m\u001b[38;5;124;43m\"\u001b[39;49m\u001b[38;5;124;43mstrict\u001b[39;49m\u001b[38;5;124;43m\"\u001b[39;49m\u001b[43m)\u001b[49m\u001b[43m,\u001b[49m\n\u001b[1;32m   1888\u001b[0m \u001b[43m    \u001b[49m\u001b[43mstorage_options\u001b[49m\u001b[38;5;241;43m=\u001b[39;49m\u001b[38;5;28;43mself\u001b[39;49m\u001b[38;5;241;43m.\u001b[39;49m\u001b[43moptions\u001b[49m\u001b[38;5;241;43m.\u001b[39;49m\u001b[43mget\u001b[49m\u001b[43m(\u001b[49m\u001b[38;5;124;43m\"\u001b[39;49m\u001b[38;5;124;43mstorage_options\u001b[39;49m\u001b[38;5;124;43m\"\u001b[39;49m\u001b[43m,\u001b[49m\u001b[43m \u001b[49m\u001b[38;5;28;43;01mNone\u001b[39;49;00m\u001b[43m)\u001b[49m\u001b[43m,\u001b[49m\n\u001b[1;32m   1889\u001b[0m \u001b[43m\u001b[49m\u001b[43m)\u001b[49m\n\u001b[1;32m   1890\u001b[0m \u001b[38;5;28;01massert\u001b[39;00m \u001b[38;5;28mself\u001b[39m\u001b[38;5;241m.\u001b[39mhandles \u001b[38;5;129;01mis\u001b[39;00m \u001b[38;5;129;01mnot\u001b[39;00m \u001b[38;5;28;01mNone\u001b[39;00m\n\u001b[1;32m   1891\u001b[0m f \u001b[38;5;241m=\u001b[39m \u001b[38;5;28mself\u001b[39m\u001b[38;5;241m.\u001b[39mhandles\u001b[38;5;241m.\u001b[39mhandle\n",
      "File \u001b[0;32m/opt/anaconda3/envs/jupyter_book_ml/lib/python3.9/site-packages/pandas/io/common.py:873\u001b[0m, in \u001b[0;36mget_handle\u001b[0;34m(path_or_buf, mode, encoding, compression, memory_map, is_text, errors, storage_options)\u001b[0m\n\u001b[1;32m    868\u001b[0m \u001b[38;5;28;01melif\u001b[39;00m \u001b[38;5;28misinstance\u001b[39m(handle, \u001b[38;5;28mstr\u001b[39m):\n\u001b[1;32m    869\u001b[0m     \u001b[38;5;66;03m# Check whether the filename is to be opened in binary mode.\u001b[39;00m\n\u001b[1;32m    870\u001b[0m     \u001b[38;5;66;03m# Binary mode does not support 'encoding' and 'newline'.\u001b[39;00m\n\u001b[1;32m    871\u001b[0m     \u001b[38;5;28;01mif\u001b[39;00m ioargs\u001b[38;5;241m.\u001b[39mencoding \u001b[38;5;129;01mand\u001b[39;00m \u001b[38;5;124m\"\u001b[39m\u001b[38;5;124mb\u001b[39m\u001b[38;5;124m\"\u001b[39m \u001b[38;5;129;01mnot\u001b[39;00m \u001b[38;5;129;01min\u001b[39;00m ioargs\u001b[38;5;241m.\u001b[39mmode:\n\u001b[1;32m    872\u001b[0m         \u001b[38;5;66;03m# Encoding\u001b[39;00m\n\u001b[0;32m--> 873\u001b[0m         handle \u001b[38;5;241m=\u001b[39m \u001b[38;5;28;43mopen\u001b[39;49m\u001b[43m(\u001b[49m\n\u001b[1;32m    874\u001b[0m \u001b[43m            \u001b[49m\u001b[43mhandle\u001b[49m\u001b[43m,\u001b[49m\n\u001b[1;32m    875\u001b[0m \u001b[43m            \u001b[49m\u001b[43mioargs\u001b[49m\u001b[38;5;241;43m.\u001b[39;49m\u001b[43mmode\u001b[49m\u001b[43m,\u001b[49m\n\u001b[1;32m    876\u001b[0m \u001b[43m            \u001b[49m\u001b[43mencoding\u001b[49m\u001b[38;5;241;43m=\u001b[39;49m\u001b[43mioargs\u001b[49m\u001b[38;5;241;43m.\u001b[39;49m\u001b[43mencoding\u001b[49m\u001b[43m,\u001b[49m\n\u001b[1;32m    877\u001b[0m \u001b[43m            \u001b[49m\u001b[43merrors\u001b[49m\u001b[38;5;241;43m=\u001b[39;49m\u001b[43merrors\u001b[49m\u001b[43m,\u001b[49m\n\u001b[1;32m    878\u001b[0m \u001b[43m            \u001b[49m\u001b[43mnewline\u001b[49m\u001b[38;5;241;43m=\u001b[39;49m\u001b[38;5;124;43m\"\u001b[39;49m\u001b[38;5;124;43m\"\u001b[39;49m\u001b[43m,\u001b[49m\n\u001b[1;32m    879\u001b[0m \u001b[43m        \u001b[49m\u001b[43m)\u001b[49m\n\u001b[1;32m    880\u001b[0m     \u001b[38;5;28;01melse\u001b[39;00m:\n\u001b[1;32m    881\u001b[0m         \u001b[38;5;66;03m# Binary mode\u001b[39;00m\n\u001b[1;32m    882\u001b[0m         handle \u001b[38;5;241m=\u001b[39m \u001b[38;5;28mopen\u001b[39m(handle, ioargs\u001b[38;5;241m.\u001b[39mmode)\n",
      "\u001b[0;31mFileNotFoundError\u001b[0m: [Errno 2] No such file or directory: './Geppert2019.csv'"
     ]
    }
   ],
   "source": [
    "# Daten über CSV-Datei einlesen\n",
    "TrajIsoLC = pd.read_csv('./Geppert2019.csv',  header = 0, sep = ',')"
   ]
  },
  {
   "cell_type": "markdown",
   "id": "0c0884da",
   "metadata": {},
   "source": [
    "We will rename the variables mw18O to O18(=δ<sup>18</sup>O) for clarity and variables mwdD (=δ<sup>2</sup>H) and d.Excess are removed to focus on the O18 isotopes. Furthermore, we remove the country of sample origin."
   ]
  },
  {
   "cell_type": "code",
   "execution_count": null,
   "id": "d9fd126a",
   "metadata": {},
   "outputs": [],
   "source": [
    "# zwei Variablen umbenennen und mehrere Variablen entfernen \n",
    "TrajIsoLC.rename(columns = {'mw18O': 'O18', 'Monat': 'month'}, inplace = True)  \n",
    "TrajIsoLC = TrajIsoLC.drop(columns = [\"mwdD\", \"d.Excess\", \"Land.Ocean\", \"Africa\", \"Oceans\", \"ISO\"])"
   ]
  },
  {
   "cell_type": "markdown",
   "id": "50cb6f11",
   "metadata": {},
   "source": [
    "Then the data is subset, including only data where the explanatory fraction is greater than 0.6:"
   ]
  },
  {
   "cell_type": "code",
   "execution_count": null,
   "id": "1cd8b1f2",
   "metadata": {},
   "outputs": [],
   "source": [
    "# Daten mit einer explanatory fraction größer als 0,6 extrahieren (Wert zeigt, wie gut die Abhängigkeit der Variablen \n",
    "# erklärt werden kann - 0 erklärt keine Variation - 1 erklärt jede Variation)\n",
    "IsoW06 = TrajIsoLC[TrajIsoLC[\"expl.frac\"] > 0.6]"
   ]
  },
  {
   "cell_type": "markdown",
   "id": "e0ff942f",
   "metadata": {},
   "source": [
    "### Initial Model"
   ]
  },
  {
   "cell_type": "markdown",
   "id": "c9d78978",
   "metadata": {},
   "source": [
    "We start with a performance test on our data for the RF algorithm by creating an initial RF model using the randomForest() function. It predicts δ18O\n",
    " based on all other variables in IsoW06 with 2000 trees."
   ]
  },
  {
   "cell_type": "code",
   "execution_count": null,
   "id": "f7f27fb8",
   "metadata": {},
   "outputs": [],
   "source": [
    "# Importieren von Modulen/Bibliotheken\n",
    "from sklearn.preprocessing import OrdinalEncoder\n",
    "\n",
    "# NaN-Werte entfernen und den Datentyp von vier Variablen von kategorisch in numerisch umzuwandeln (Voraussetzung \n",
    "# für das Machine Learning)\n",
    "IsoW06 = IsoW06.dropna()\n",
    "ord_enc = OrdinalEncoder()\n",
    "IsoW06[\"Unnamed: 0\"] = ord_enc.fit_transform(IsoW06[[\"Unnamed: 0\"]])\n",
    "IsoW06[\"Type_main\"] = ord_enc.fit_transform(IsoW06[[\"Type_main\"]])\n",
    "IsoW06[\"type\"] = ord_enc.fit_transform(IsoW06[[\"type\"]])\n",
    "IsoW06[\"RFZraster\"] = ord_enc.fit_transform(IsoW06[[\"RFZraster\"]])\n",
    "\n",
    "# Eingangs- (X, alle Variablen außer O18) und Zieldaten (y, Variable O18) definieren\n",
    "X = IsoW06.drop('O18', axis = 1)\n",
    "y = IsoW06['O18']"
   ]
  },
  {
   "cell_type": "code",
   "execution_count": null,
   "id": "e05bfc1b",
   "metadata": {},
   "outputs": [],
   "source": [
    "# Importieren von Modulen/Bibliotheken\n",
    "from sklearn.ensemble import RandomForestRegressor\n",
    "from sklearn.metrics import mean_squared_error\n",
    "\n",
    "# Initialwert und Anzahl der Bäume für den Random Forest festlegen\n",
    "seed = 196\n",
    "ntrees = 2000\n",
    "\n",
    "# RandomForest erstellen, X und y definieren und Modell trainieren\n",
    "model = RandomForestRegressor(n_estimators = ntrees, random_state = seed, max_features = 1.0,\n",
    "                               min_samples_split = 2, min_samples_leaf = 1, max_depth = None)\n",
    "model.fit(X, y)"
   ]
  },
  {
   "cell_type": "code",
   "execution_count": null,
   "id": "048945aa",
   "metadata": {},
   "outputs": [],
   "source": [
    "# Mittelwert der quadrierten Residuen und erklärte Varianz ausgeben lassen\n",
    "print(f\"Mean of squared residuals: {model.score(X, y)}\")\n",
    "print(f\"% Var explained: {model.score(X, y) * 100}\")"
   ]
  },
  {
   "cell_type": "markdown",
   "id": "a89eb52f",
   "metadata": {},
   "source": [
    "In each split of a tree, 18 variables were randomly chosen to determine the best split. About <font color='royalblue'>87.67% </font> of the variability in the δ18O values can be explained by the model.\n",
    "\n",
    "By visualizing the model performance, we can observe how error decreases with the number of trees."
   ]
  },
  {
   "cell_type": "code",
   "execution_count": null,
   "id": "607c20b9",
   "metadata": {},
   "outputs": [],
   "source": [
    "# DAUERT 2-3 Minuten!\n",
    "# Liste und Schleife für die Durchführung des Models mit unterschiedlichen Anzahlen an Bäumen erstellen\n",
    "ntrees_range = list(range(1, 3001, 200))\n",
    "errors = []\n",
    "\n",
    "for ntrees in ntrees_range:\n",
    "    model = RandomForestRegressor(n_estimators = ntrees, random_state = seed)\n",
    "    model.fit(X, y)\n",
    "    errors.append(model.score(X, y))"
   ]
  },
  {
   "cell_type": "code",
   "execution_count": null,
   "id": "8528e571",
   "metadata": {},
   "outputs": [],
   "source": [
    "# Importieren von Modulen/Bibliotheken\n",
    "import matplotlib.pyplot as plt\n",
    "\n",
    "# Plotten der error-Werte in Abhängigkeit der Anzahl der Bäume des Random Forests, um optimalen ntree-Wert festzulegen\n",
    "plt.plot(ntrees_range, errors, marker = 'o')\n",
    "plt.xlabel('trees')\n",
    "plt.ylabel('Error')\n",
    "plt.title('model')\n",
    "plt.show()"
   ]
  },
  {
   "cell_type": "code",
   "execution_count": null,
   "id": "450cd8a6",
   "metadata": {},
   "outputs": [],
   "source": [
    "# kleineren Ausschnitt plotten, um Anzahl der Bäume ideal festzulegen\n",
    "plt.plot(ntrees_range, errors, marker = 'o')\n",
    "plt.xlabel('trees')\n",
    "plt.ylabel('Error')\n",
    "plt.title('model')\n",
    "plt.xlim(60, max(ntrees_range)+50)\n",
    "plt.ylim(0.85, max(errors)+0.01)\n",
    "plt.show()"
   ]
  },
  {
   "cell_type": "markdown",
   "id": "e4bcf459",
   "metadata": {},
   "source": [
    "As shown in the figure, the mean squared residuals stabilize around <font color='royalblue'>1000 trees</font>. Thus, in the following step we use <font color='royalblue'>´ntree=1000´</font> and optimize the tree depth. "
   ]
  },
  {
   "cell_type": "markdown",
   "id": "4b1c2dec",
   "metadata": {},
   "source": [
    "### Hyper-parameter Tuning"
   ]
  },
  {
   "cell_type": "markdown",
   "id": "87ccff98",
   "metadata": {},
   "source": [
    "Now, we will tune the parameter that determines the number of variables that are randomly sampled as candidates at each split (mtry). The numbers of trees and variables are crucial for the model performance. The authors applied a range of mtry from 1 to 52 while ntree is fixed at 10000 after [Behnamian et al. 2017](https://doi.org/10.1109/LGRS.2017.2745049) (a large number of trees ensures stable variable importance). This grid represents different combinations of hyper-parameters to be tested. In our example we used the above identified threshold of <font color='royalblue'>ntrees=1000</font> and mtry=2:54. "
   ]
  },
  {
   "cell_type": "code",
   "execution_count": null,
   "id": "3370dfc6",
   "metadata": {},
   "outputs": [],
   "source": [
    "# Importieren von Modulen/Bibliotheken\n",
    "import numpy as np\n",
    "\n",
    "# Initialwert und Anzahl der Bäume für den Random Forest festlegen und Zufallszahlengenerator laufen lassen\n",
    "seed = 196\n",
    "ntrees = 1000\n",
    "np.random.seed(seed)\n",
    "\n",
    "# Hyperparameteroptimierung für das Modell durchführen und Identifikation der besten Modelle (bzgl. OOB-RMSE)\n",
    "mtry_range = list(range(1, 54, 2))\n",
    "hyper_grid = {'mtry': mtry_range, 'ntree': [ntrees] * len(mtry_range), 'OOB_RMSE': [0] * len(mtry_range)}\n",
    "\n",
    "for i, params in enumerate(mtry_range):\n",
    "    model = RandomForestRegressor(n_estimators = ntrees, max_features = params, oob_score = True, random_state = seed)\n",
    "    model.fit(X, y)\n",
    "    hyper_grid['OOB_RMSE'][i] = model.oob_score_\n",
    "    \n",
    "hyper_grid_df = pd.DataFrame(hyper_grid)\n",
    "best_models = hyper_grid_df.sort_values(by = 'OOB_RMSE').head(10)\n",
    "print(best_models)   "
   ]
  },
  {
   "cell_type": "markdown",
   "id": "971e7ed2",
   "metadata": {},
   "source": [
    "For each parameter combination, the [Out-of-Bag](https://en.wikipedia.org/wiki/Out-of-bag_error) (OOB) error is calculated. The best model with <font color='royalblue'>1000 trees</font> has an <font color='royalblue'>mtry value of 51 (OOB_RMSE: 0.102699).</font> "
   ]
  },
  {
   "cell_type": "markdown",
   "id": "46503ad8",
   "metadata": {},
   "source": [
    "### Final Model"
   ]
  },
  {
   "cell_type": "markdown",
   "id": "9a04acba",
   "metadata": {},
   "source": [
    "Now, the final RF model with optimized parameters can be created. The varimp() function is used to calculate the importance of each variable in the model. This tells us which variables are most predictive of O18."
   ]
  },
  {
   "cell_type": "code",
   "execution_count": null,
   "id": "1e038adc",
   "metadata": {},
   "outputs": [],
   "source": [
    "# Importieren von Modulen/Bibliotheken\n",
    "import pandas as pd\n",
    "import seaborn as sns\n",
    "from sklearn.model_selection import train_test_split\n",
    "from sklearn.metrics import r2_score\n",
    "\n",
    "# Initialwert und Anzahl der Bäume für den Random Forest festlegen und Zufallszahlengenerator laufen lassen\n",
    "seed = 196\n",
    "ntrees = 1000\n",
    "np.random.seed(seed)"
   ]
  },
  {
   "cell_type": "code",
   "execution_count": null,
   "id": "eddbfed1",
   "metadata": {},
   "outputs": [],
   "source": [
    "# Optimalen mtry-Wert finden (Anzahl der zu betrachtenden, zufällig ausgewählten Features für jeden Baum)\n",
    "min_idx = np.argmin(hyper_grid['OOB_RMSE'])\n",
    "mtry = hyper_grid['mtry'][min_idx]"
   ]
  },
  {
   "cell_type": "code",
   "execution_count": null,
   "id": "08e4b320",
   "metadata": {},
   "outputs": [],
   "source": [
    "# Finales RandomForest erstellen und trainieren\n",
    "model = RandomForestRegressor(n_estimators = ntrees, max_features = mtry, random_state = seed)\n",
    "model.fit(X, y)"
   ]
  },
  {
   "cell_type": "code",
   "execution_count": null,
   "id": "8cbc65e1",
   "metadata": {},
   "outputs": [],
   "source": [
    "# Statistiken über das Modell ausgeben lassen und die 10 wichtigsten Variablen extrahieren\n",
    "stats = model.get_params()\n",
    "feature_importance = model.feature_importances_\n",
    "features = X.columns\n",
    "var_imp_df = pd.DataFrame({'Feature': features, 'Importance': feature_importance})\n",
    "var_imp_df = var_imp_df.sort_values(by = 'Importance', ascending = False).head(54)\n",
    "var_imp_10 = var_imp_df.head(10)"
   ]
  },
  {
   "cell_type": "code",
   "execution_count": null,
   "id": "d8b8115a",
   "metadata": {},
   "outputs": [],
   "source": [
    "# RMSE (Root Mean Square Error) und R² (R-squared) für Bewertung des Modells extrahieren\n",
    "y_pred = model.predict(X)\n",
    "rmse = np.sqrt(mean_squared_error(y, y_pred))\n",
    "r2 = r2_score(y, y_pred)"
   ]
  },
  {
   "cell_type": "code",
   "execution_count": null,
   "id": "7ee1c46a",
   "metadata": {},
   "outputs": [],
   "source": [
    "# Plotten der wichtigsten Variablen\n",
    "plt.figure(figsize = (8, 3))\n",
    "sns.barplot(x = 'Importance', y = 'Feature', data = var_imp_10, color = 'gray')\n",
    "plt.title(\"δ¹⁸O\")\n",
    "plt.xlabel(\"Importance score\")\n",
    "plt.ylabel(\"Feature\")\n",
    "plt.text(0, -1.5, f\"ntree = {ntrees}, mtry = {mtry}\\nRMSE = {rmse:.2f}, R² = {r2:.2f}\", \n",
    "         fontsize = 10, ha = 'left', va = 'center')\n",
    "plt.show()"
   ]
  },
  {
   "cell_type": "markdown",
   "id": "7507ea60",
   "metadata": {},
   "source": [
    "The variable abbreviations shown in the plot have the following meanings:\n",
    "- <span style=\"color:royalblue\"><b>wmSnk_lon</b>: longitude at sampling site</span>\n",
    "- <span style=\"color:royalblue\"><b>wmSrc_lat</b>: latitude</span>\n",
    "- <span style=\"color:royalblue\"><b>wmSrc_nocfblh</b>: boundary layer height</span>\n",
    "- <span style=\"color:royalblue\"><b>wmSnk_lat</b>: latitude at sampling site</span>\n",
    "- <span style=\"color:royalblue\"><b>wmSrc_sd.nocfblh</b>: boundary layer height</span>\n",
    "- <span style=\"color:royalblue\"><b>wmSrc_sd.PS</b>: surface pressure difference</span>\n",
    "- <span style=\"color:royalblue\"><b>month</b>: month of sampling</span>\n",
    "- <span style=\"color:royalblue\"><b>wmSnk_nocftp</b>: total precipitation at sampling site</span>\n",
    "- <span style=\"color:royalblue\"><b>Type_main</b>: main water type</span>\n",
    "- <span style=\"color:royalblue\"><b>wmSrc_sd.lon</b>: longitude</span>\n",
    "\n",
    "For predicting the δ18O ratio, <font color='royalblue'>the longitude at sampling site seems to be the most important variable, among latitude at target location, boundary layer height and latitude at sampling site.</font>\n",
    "\n",
    "---\n",
    "\n",
    "#### Citation\n",
    "The E-Learning project SOGA-R was developed at the Department of Earth Sciences by Kai Hartmann, Joachim Krois and Annette Rudolph. You can reach us via mail by [soga[at]zedat.fu-berlin.de](soga@zedat.fu-berlin.de).\n",
    "\n",
    "<img src=\"./bild2.png\" alt=\"CC-BY-SA\" style=\"float: left; margin-right: 10px;\" /> &nbsp;\n",
    "\n",
    "You may use this project freely under the [Creative Commons Attribution-ShareAlike 4.0 International License](http://creativecommons.org/licenses/by-sa/4.0/). &nbsp;\n",
    "\n",
    "Please cite as follow: *Hartmann, K., Krois, J., Rudolph, A. (2023): Statistics and Geodata Analysis using R ([SOGA-R](https://www.geo.fu-berlin.de/soga-r)). Department of Earth Sciences, Freie Universitaet Berlin.*\n"
   ]
  }
 ],
 "metadata": {
  "kernelspec": {
   "display_name": "Python 3 (ipykernel)",
   "language": "python",
   "name": "python3"
  },
  "language_info": {
   "codemirror_mode": {
    "name": "ipython",
    "version": 3
   },
   "file_extension": ".py",
   "mimetype": "text/x-python",
   "name": "python",
   "nbconvert_exporter": "python",
   "pygments_lexer": "ipython3",
   "version": "3.9.19"
  }
 },
 "nbformat": 4,
 "nbformat_minor": 5
}