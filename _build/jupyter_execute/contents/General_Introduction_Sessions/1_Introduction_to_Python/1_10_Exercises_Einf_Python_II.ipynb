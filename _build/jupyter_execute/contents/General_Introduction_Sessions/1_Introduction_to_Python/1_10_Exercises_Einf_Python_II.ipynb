{
 "cells": [
  {
   "cell_type": "code",
   "execution_count": 1,
   "id": "36d7f2e4-b17f-4fc7-983e-5b5a575d4d4d",
   "metadata": {
    "editable": true,
    "slideshow": {
     "slide_type": ""
    },
    "tags": [
     "remove-cell"
    ]
   },
   "outputs": [],
   "source": [
    "%load_ext lab_black"
   ]
  },
  {
   "cell_type": "markdown",
   "id": "3c0f3f9c-e81a-43ad-9387-64d4eb2244ef",
   "metadata": {
    "editable": true,
    "slideshow": {
     "slide_type": ""
    },
    "tags": []
   },
   "source": [
    "## Additional Exercises II"
   ]
  },
  {
   "cell_type": "markdown",
   "id": "09ecf9b4-c708-4e4d-86ff-0c48444e5203",
   "metadata": {
    "editable": true,
    "slideshow": {
     "slide_type": ""
    },
    "tags": []
   },
   "source": [
    "### Loops\n",
    "\n",
    "\n",
    "Create list 'weekdays' (Mon to Fri) and print it backwards in a for loop."
   ]
  },
  {
   "cell_type": "code",
   "execution_count": 2,
   "id": "fe130cda-f435-4325-9131-3ba84515f238",
   "metadata": {},
   "outputs": [],
   "source": [
    "weekdays = [\"Mo\", \"Di\", \"Mi\", \"Do\", \"Fr\", \"Sa\", \"So\"]"
   ]
  },
  {
   "cell_type": "markdown",
   "id": "a9d095fa-9876-4857-8b97-6204fe1a58e6",
   "metadata": {
    "jp-MarkdownHeadingCollapsed": true
   },
   "source": [
    "##### solution"
   ]
  },
  {
   "cell_type": "code",
   "execution_count": 3,
   "id": "cb0e7f13-66cb-43ed-b370-4a99652062dc",
   "metadata": {},
   "outputs": [
    {
     "name": "stdout",
     "output_type": "stream",
     "text": [
      "So\n",
      "Sa\n",
      "Fr\n",
      "Do\n",
      "Mi\n",
      "Di\n",
      "Mo\n"
     ]
    }
   ],
   "source": [
    "# Die Wochentage rückwärts\n",
    "\n",
    "for day in weekdays[::-1]:\n",
    "    print(day)"
   ]
  },
  {
   "cell_type": "markdown",
   "id": "3e2f17b2-4950-4e1a-b1e2-5bdfebfb6b97",
   "metadata": {
    "editable": true,
    "slideshow": {
     "slide_type": ""
    },
    "tags": []
   },
   "source": [
    "### Nested loops\n",
    "\n",
    "> Extend the loop with the time for each day of the week, easiest just for Monday and Tuesday.\n"
   ]
  },
  {
   "cell_type": "markdown",
   "id": "331eb42e-1ef2-45f3-a8a2-a6254cc26640",
   "metadata": {
    "jp-MarkdownHeadingCollapsed": true
   },
   "source": [
    "##### solution"
   ]
  },
  {
   "cell_type": "code",
   "execution_count": 4,
   "id": "a4d5ea71-c000-47d8-bcf5-15aa9bf56f0f",
   "metadata": {},
   "outputs": [
    {
     "ename": "NameError",
     "evalue": "name 'np' is not defined",
     "output_type": "error",
     "traceback": [
      "\u001b[0;31m---------------------------------------------------------------------------\u001b[0m",
      "\u001b[0;31mNameError\u001b[0m                                 Traceback (most recent call last)",
      "Cell \u001b[0;32mIn[4], line 4\u001b[0m\n\u001b[1;32m      1\u001b[0m \u001b[38;5;66;03m# Wir laufen durch die Wochentage und die Stunden jeden Tages\u001b[39;00m\n\u001b[1;32m      2\u001b[0m \u001b[38;5;66;03m# Der einfachheithalber tun wir dies nur für die Tage Montag und Dienstag\u001b[39;00m\n\u001b[0;32m----> 4\u001b[0m hours \u001b[38;5;241m=\u001b[39m \u001b[43mnp\u001b[49m\u001b[38;5;241m.\u001b[39marange(\u001b[38;5;241m0\u001b[39m, \u001b[38;5;241m24\u001b[39m\u001b[38;5;241m+\u001b[39m\u001b[38;5;241m1\u001b[39m)\n\u001b[1;32m      5\u001b[0m \u001b[38;5;66;03m##array mit werten zw. anfang und ende --> 24 noch mit dabei 24+1\u001b[39;00m\n\u001b[1;32m      7\u001b[0m \u001b[38;5;28;01mfor\u001b[39;00m day \u001b[38;5;129;01min\u001b[39;00m weekdays[\u001b[38;5;241m0\u001b[39m:\u001b[38;5;241m2\u001b[39m]: \u001b[38;5;66;03m## nur MO und Di8 0. und 1. ELement\u001b[39;00m\n",
      "\u001b[0;31mNameError\u001b[0m: name 'np' is not defined"
     ]
    }
   ],
   "source": [
    "# Wir laufen durch die Wochentage und die Stunden jeden Tages\n",
    "# Der einfachheithalber tun wir dies nur für die Tage Montag und Dienstag\n",
    "\n",
    "hours = np.arange(0, 24+1)\n",
    "##array mit werten zw. anfang und ende --> 24 noch mit dabei 24+1\n",
    " \n",
    "for day in weekdays[0:2]: ## nur MO und Di8 0. und 1. ELement\n",
    "    for hour in hours:    ## 4 zeichen ein\n",
    "        print('Es ist %s, %i Uhr' %(day,hour))## 4 zeichen rein "
   ]
  },
  {
   "cell_type": "markdown",
   "id": "e1ccea4a-b8a8-43ae-897d-8997c93d84b4",
   "metadata": {
    "editable": true,
    "slideshow": {
     "slide_type": ""
    },
    "tags": []
   },
   "source": [
    "### Sum numbers from 1 to 10\n",
    "As a first example, we want to add up the numbers from 1 to 10. \n",
    "\n",
    "1. we first *initialise* our variable `a` (value 0) and a *running variable* `i` (value 1). \n",
    "2. the `while` condition follows: *If i is less than/equal to 10, do something*.\n",
    "3. the code to be executed follows, indented with 4 spaces: \n",
    "    - we sum to `a` the value of `i` and assign this new value to the variable `a`\n",
    "    - we increase the value of `i` by 1\n",
    "    - we print the value of `a`: `print(a)` \n",
    "The code is only executed until `i` = 10."
   ]
  },
  {
   "cell_type": "markdown",
   "id": "02b537be-b148-4839-aebb-937bc19de5b7",
   "metadata": {
    "jp-MarkdownHeadingCollapsed": true
   },
   "source": [
    "##### solution"
   ]
  },
  {
   "cell_type": "code",
   "execution_count": null,
   "id": "5ff21a2e-2e93-4fc0-a506-5b5efa2e20cc",
   "metadata": {},
   "outputs": [],
   "source": [
    "i = 1\n",
    "a = 0\n",
    "while i <= 10:\n",
    "    a = a + i\n",
    "    print(i, a)\n",
    "    \n",
    "    i = i + 1"
   ]
  },
  {
   "cell_type": "markdown",
   "id": "d66e8a51-fe57-40d8-9eb7-265dc2aba1f8",
   "metadata": {
    "editable": true,
    "slideshow": {
     "slide_type": ""
    },
    "tags": []
   },
   "source": [
    "### Generating Fibonacci Series in Python\n",
    "\n",
    "Generate the Fibonacci series using for-loop. Generate the first 10 numbers. Start with 0 and 1. \n"
   ]
  },
  {
   "cell_type": "code",
   "execution_count": null,
   "id": "c6a56bb6-f116-4d30-80b4-fbb8ee6ba2d8",
   "metadata": {},
   "outputs": [],
   "source": [
    "a,b = 0,1\n",
    "n = 10 "
   ]
  },
  {
   "cell_type": "markdown",
   "id": "1c0917ea-7dd3-4a5b-ae22-e5a6f0f91d0e",
   "metadata": {
    "jp-MarkdownHeadingCollapsed": true
   },
   "source": [
    "##### solution"
   ]
  },
  {
   "cell_type": "code",
   "execution_count": null,
   "id": "2b6ce305-6710-480b-b479-a81e60b4c38b",
   "metadata": {},
   "outputs": [],
   "source": [
    "for i in range(n):\n",
    "    \n",
    "    a, b = b, a+b\n",
    "    print(a)"
   ]
  },
  {
   "cell_type": "markdown",
   "id": "e0a2268b-4122-4ae9-b64f-ab565c199de6",
   "metadata": {
    "jp-MarkdownHeadingCollapsed": true
   },
   "source": [
    "##### solution"
   ]
  },
  {
   "cell_type": "code",
   "execution_count": null,
   "id": "fa2da66a-ff05-4480-b761-a1d3e62fb2d4",
   "metadata": {},
   "outputs": [],
   "source": [
    "## erweiterung weil beginnt ja bei 0\n",
    "a,b = 0,1\n",
    "n = 10 \n",
    "for i in range(n):\n",
    "    if a <=1:\n",
    "        print(a)\n",
    "        a, b = b, a+b\n",
    "    else: \n",
    "        a, b = b, a+b\n",
    "        print(a)"
   ]
  },
  {
   "cell_type": "markdown",
   "id": "90e6a645-558d-4f0c-99a0-9196f5b66106",
   "metadata": {
    "editable": true,
    "slideshow": {
     "slide_type": ""
    },
    "tags": []
   },
   "source": [
    "### The FizzBuzz-Loop\n",
    "\n",
    "Write a loop that runs through the integers from 1 to 100. For multiples of three, \"Fizz\" is printed instead of the number and for multiples of five, \"Buzz\" is printed. For numbers that are multiples of three and five, print \"FizzBuzz\". Conditional statements are required. In the solution you will find 2 answers, whereby the 2nd is already a very shortened version. "
   ]
  },
  {
   "cell_type": "code",
   "execution_count": null,
   "id": "a939a6e7-c74b-4d52-8781-8e0be36b7fcf",
   "metadata": {
    "editable": true,
    "slideshow": {
     "slide_type": ""
    },
    "tags": []
   },
   "outputs": [],
   "source": []
  },
  {
   "cell_type": "markdown",
   "id": "e69badfc-dee0-4c57-91e3-aeac3f38eb75",
   "metadata": {},
   "source": [
    "##### solution"
   ]
  },
  {
   "cell_type": "code",
   "execution_count": null,
   "id": "081ae12b-6906-484b-9c63-82f77788cfc2",
   "metadata": {},
   "outputs": [],
   "source": [
    "for num in range(1,101):\n",
    "    string = \"\"\n",
    "    if num % 3 == 0:\n",
    "        string = string + \"Fizz\"\n",
    "    if num % 5 == 0:\n",
    "        string = string + \"Buzz\"\n",
    "    if num % 5 != 0 and num % 3 != 0:\n",
    "        string = string + str(num)\n",
    "    print(string)"
   ]
  },
  {
   "cell_type": "code",
   "execution_count": null,
   "id": "00e7d2f0-918f-45cf-b8cf-dd3f2c28d00a",
   "metadata": {
    "scrolled": true
   },
   "outputs": [],
   "source": [
    "for i in range(1,100):\n",
    "    msg = \"Fizz\" * bool(i%3==0)\n",
    "    msg += \"Buzz\" * bool(i%5==0)\n",
    "    if not msg:\n",
    "        msg = i\n",
    "    print(msg)"
   ]
  },
  {
   "cell_type": "code",
   "execution_count": 2,
   "id": "5b97765a-5098-4408-8d82-49ae59572c7c",
   "metadata": {
    "editable": true,
    "slideshow": {
     "slide_type": ""
    },
    "tags": [
     "remove-input"
    ]
   },
   "outputs": [
    {
     "data": {
      "text/html": [
       "\n",
       "        <iframe\n",
       "            width=\"900\"\n",
       "            height=\"200\"\n",
       "            src=\"../../citations/citation_Marie.html\"\n",
       "            frameborder=\"0\"\n",
       "            allowfullscreen\n",
       "            \n",
       "        ></iframe>\n",
       "        "
      ],
      "text/plain": [
       "<IPython.lib.display.IFrame at 0x10689f280>"
      ]
     },
     "execution_count": 2,
     "metadata": {},
     "output_type": "execute_result"
    }
   ],
   "source": [
    "from IPython.display import IFrame\n",
    "\n",
    "IFrame(\n",
    "    src=\"../../citations/citation_Marie.html\",\n",
    "    width=900,\n",
    "    height=200,\n",
    ")"
   ]
  },
  {
   "cell_type": "code",
   "execution_count": null,
   "id": "e50dcc19-4002-462d-88c9-78601b5f418a",
   "metadata": {
    "editable": true,
    "slideshow": {
     "slide_type": ""
    },
    "tags": []
   },
   "outputs": [],
   "source": []
  }
 ],
 "metadata": {
  "kernelspec": {
   "display_name": "Python 3 (ipykernel)",
   "language": "python",
   "name": "python3"
  },
  "language_info": {
   "codemirror_mode": {
    "name": "ipython",
    "version": 3
   },
   "file_extension": ".py",
   "mimetype": "text/x-python",
   "name": "python",
   "nbconvert_exporter": "python",
   "pygments_lexer": "ipython3",
   "version": "3.9.18"
  }
 },
 "nbformat": 4,
 "nbformat_minor": 5
}