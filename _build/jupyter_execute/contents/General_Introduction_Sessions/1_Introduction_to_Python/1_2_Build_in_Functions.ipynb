{
 "cells": [
  {
   "cell_type": "code",
   "execution_count": 1,
   "id": "6d177dd9-fa11-492e-93e3-eb60c09d7073",
   "metadata": {},
   "outputs": [],
   "source": [
    "%load_ext lab_black"
   ]
  },
  {
   "cell_type": "markdown",
   "id": "e6f6ef83-cf64-49db-8add-afe7379eb69c",
   "metadata": {},
   "source": [
    "## Use of predefined functions\n",
    "\n",
    "After we getting to know about operators and their usage in Python we want introduce the use of functions in Python. \n",
    "\n",
    "## Built-in functions\n",
    "\n",
    "Built-in functions are predefined, provided codes that are distributed together with Python. These functions will make your life a lot easier because you do not have to implement frequently and commonly used codes at your own. In this understanding they expand the possibilities given by the introduced operators. So let's get started!\n",
    "\n",
    "### Functions for every data type\n",
    "\n",
    "Functions are written for a specific data type. Data types in general and in Python will be introduced in the next chapters. As a starting point it is sufficient to know that there exist different data types for varying purposes and that not every function works for every data type. With your already learned knowledge you will see that there are specialized functions that only work for numbers and others that only work for characters. Besides this there are also functions that work for **all** datatypes. We want to start with these.\n",
    "\n",
    "> **Note:** A function is used by typing the name of the function and putting the value (formally known as argument) in brackets:"
   ]
  },
  {
   "cell_type": "raw",
   "id": "95b44ae4-c60f-4495-8fe5-c5a19629e077",
   "metadata": {},
   "source": [
    "function_name(value)"
   ]
  },
  {
   "cell_type": "markdown",
   "id": "25967003-2165-4441-8f71-841dde69836e",
   "metadata": {},
   "source": [
    "**Function to get the data type of a variable `type()`:**"
   ]
  },
  {
   "cell_type": "code",
   "execution_count": 2,
   "id": "ae60c29a-e609-44aa-a185-6c2c0ff1054a",
   "metadata": {},
   "outputs": [],
   "source": [
    "a_word = \"hello\"\n",
    "a_number = 9"
   ]
  },
  {
   "cell_type": "code",
   "execution_count": 3,
   "id": "48e69f31-7101-44de-a70a-f000284461d1",
   "metadata": {},
   "outputs": [
    {
     "data": {
      "text/plain": [
       "str"
      ]
     },
     "execution_count": 3,
     "metadata": {},
     "output_type": "execute_result"
    }
   ],
   "source": [
    "# we expect String as datatype\n",
    "type(a_word)"
   ]
  },
  {
   "cell_type": "code",
   "execution_count": 4,
   "id": "c3987454-bbd9-49ee-b9e0-be0e94dceb04",
   "metadata": {},
   "outputs": [
    {
     "data": {
      "text/plain": [
       "int"
      ]
     },
     "execution_count": 4,
     "metadata": {},
     "output_type": "execute_result"
    }
   ],
   "source": [
    "# as 9 is a number, we expect an according datatype (int == Integer)\n",
    "type(a_number)"
   ]
  },
  {
   "cell_type": "markdown",
   "id": "d3e9d143-51fc-4acb-8886-47a633399b67",
   "metadata": {},
   "source": [
    "**Function to display the content of a variable or more general the given argument `print()`:**"
   ]
  },
  {
   "cell_type": "code",
   "execution_count": 5,
   "id": "b64a5369-df53-4994-8299-1852910ec1cd",
   "metadata": {},
   "outputs": [
    {
     "name": "stdout",
     "output_type": "stream",
     "text": [
      "hello\n"
     ]
    }
   ],
   "source": [
    "print(a_word)"
   ]
  },
  {
   "cell_type": "code",
   "execution_count": 6,
   "id": "7d247911-707d-4475-a9ea-41d3bd105764",
   "metadata": {},
   "outputs": [
    {
     "name": "stdout",
     "output_type": "stream",
     "text": [
      "9\n"
     ]
    }
   ],
   "source": [
    "print(a_number)"
   ]
  },
  {
   "cell_type": "markdown",
   "id": "71f0356a-f604-42e3-9758-b9c14cc2b4b1",
   "metadata": {},
   "source": [
    "### Functions for numbers"
   ]
  },
  {
   "cell_type": "markdown",
   "id": "aeccd52e-db27-4481-930b-ec158cb16389",
   "metadata": {},
   "source": [
    "As we want to introduce Python as a calculator we want to have a closer look at functions that work for numbers. \n",
    "\n",
    "> **Note:** Only very few functions are available by default in Python. Most functions are conflated in dedicated modules. To use these functions you must load the required module first. A specific module is loaded with the `import` command. You can find a list of all Python modules in the [Python documentation](https://docs.python.org/3/py-modindex.html).\n",
    "\n",
    "To get access to commonly used mathematical function for calculations we must load the `math` module at first:"
   ]
  },
  {
   "cell_type": "code",
   "execution_count": 7,
   "id": "e60ea22f-e904-463f-a59a-4f573ee8b7b4",
   "metadata": {},
   "outputs": [],
   "source": [
    "import math"
   ]
  },
  {
   "cell_type": "markdown",
   "id": "b133f81e-4089-441a-9cbd-83198f06d376",
   "metadata": {},
   "source": [
    "> **Note:** It is recommented to `import` modules with an alias. This will allow yourself and others to identify from which module or package a function is used. This is especially important if there are two function from two different modules with the same name. That's why we want to adapt our `import` statement a little bit:"
   ]
  },
  {
   "cell_type": "code",
   "execution_count": 8,
   "id": "e4ac1e2d-286e-40d0-871c-d4c9aaeca7ab",
   "metadata": {},
   "outputs": [],
   "source": [
    "import math as m"
   ]
  },
  {
   "cell_type": "markdown",
   "id": "4a1fd36e-8d7c-471a-98e2-c96fbd57c95a",
   "metadata": {},
   "source": [
    "**Function to get the absolute value of a number `abs()`:**"
   ]
  },
  {
   "cell_type": "code",
   "execution_count": 9,
   "id": "4c308b08-c8f7-405b-99e4-6e4d911193dd",
   "metadata": {},
   "outputs": [
    {
     "data": {
      "text/plain": [
       "3"
      ]
     },
     "execution_count": 9,
     "metadata": {},
     "output_type": "execute_result"
    }
   ],
   "source": [
    "abs(9 - 12)"
   ]
  },
  {
   "cell_type": "markdown",
   "id": "18bba91c-e170-488b-96ed-2dac77c9afbd",
   "metadata": {},
   "source": [
    "**Function to calculate the square root of a number `sqrt()`:**"
   ]
  },
  {
   "cell_type": "code",
   "execution_count": 10,
   "id": "434d982a-533e-4bb4-8be4-05a7ecd5e3f9",
   "metadata": {},
   "outputs": [
    {
     "data": {
      "text/plain": [
       "8.0"
      ]
     },
     "execution_count": 10,
     "metadata": {},
     "output_type": "execute_result"
    }
   ],
   "source": [
    "m.sqrt(64)"
   ]
  },
  {
   "cell_type": "markdown",
   "id": "6bdd0901-9ad7-488f-be2b-e502e371246d",
   "metadata": {},
   "source": [
    "**Function to get a specific value based on the $e$ function `exp()`:**"
   ]
  },
  {
   "cell_type": "code",
   "execution_count": 11,
   "id": "eda7bf05-331c-43c8-a71e-8864f4f73f91",
   "metadata": {},
   "outputs": [
    {
     "data": {
      "text/plain": [
       "2.718281828459045"
      ]
     },
     "execution_count": 11,
     "metadata": {},
     "output_type": "execute_result"
    }
   ],
   "source": [
    "m.exp(1)"
   ]
  },
  {
   "cell_type": "markdown",
   "id": "d926d919-8527-466f-b0f9-2b1e7c5a7d90",
   "metadata": {},
   "source": [
    "**Function to get the logarithm to the base of $e$ `log()`:**"
   ]
  },
  {
   "cell_type": "code",
   "execution_count": 12,
   "id": "1fa39d2a-0bdb-4e27-b023-e6af75a63139",
   "metadata": {},
   "outputs": [
    {
     "data": {
      "text/plain": [
       "2.302585092994046"
      ]
     },
     "execution_count": 12,
     "metadata": {},
     "output_type": "execute_result"
    }
   ],
   "source": [
    "m.log(10)"
   ]
  },
  {
   "cell_type": "markdown",
   "id": "f343e087-d83c-4e81-9d5a-04307bbb36e7",
   "metadata": {},
   "source": [
    "**Function to calculate the logarithm to the base of $10$ `log10()`:**"
   ]
  },
  {
   "cell_type": "code",
   "execution_count": 13,
   "id": "7d9886a2-fbcf-4070-9c3b-5dda28f16d9c",
   "metadata": {},
   "outputs": [
    {
     "data": {
      "text/plain": [
       "3.0"
      ]
     },
     "execution_count": 13,
     "metadata": {},
     "output_type": "execute_result"
    }
   ],
   "source": [
    "m.log10(1000)"
   ]
  },
  {
   "cell_type": "markdown",
   "id": "cbbf40e3-1c6a-4043-b045-2d8ab544d455",
   "metadata": {},
   "source": [
    "**Function to calculate the logarithm to a user defined base `log(<value>, <base>)`:**"
   ]
  },
  {
   "cell_type": "code",
   "execution_count": 14,
   "id": "c9ded084-26eb-4c8c-abc6-f529a10db09a",
   "metadata": {},
   "outputs": [
    {
     "data": {
      "text/plain": [
       "4.0"
      ]
     },
     "execution_count": 14,
     "metadata": {},
     "output_type": "execute_result"
    }
   ],
   "source": [
    "m.log(81, 3)"
   ]
  },
  {
   "cell_type": "markdown",
   "id": "2cefa816-05fd-4fbb-ba5d-b4a0cc9fbfcf",
   "metadata": {},
   "source": [
    "> **Note:** As you can see it is also possible to call a function with more than one argument. If you want to call a function with more than one argument you have to seperate each argument by `,`. In general: `function(<argument_1>, <argument_2>, ... ,<argument_n>)`"
   ]
  },
  {
   "cell_type": "markdown",
   "id": "47f87e08-93c4-452d-b0ef-2fb1ecb8d5c4",
   "metadata": {},
   "source": [
    "**Using mathematical constants like $\\pi$:**"
   ]
  },
  {
   "cell_type": "code",
   "execution_count": 15,
   "id": "ff1c02c0-78c2-4a9f-8bc9-9429b0ed5a42",
   "metadata": {},
   "outputs": [
    {
     "data": {
      "text/plain": [
       "3.141592653589793"
      ]
     },
     "execution_count": 15,
     "metadata": {},
     "output_type": "execute_result"
    }
   ],
   "source": [
    "m.pi"
   ]
  },
  {
   "cell_type": "markdown",
   "id": "9f46dadf-b22c-458a-94ef-88e99b338e5e",
   "metadata": {},
   "source": [
    "> **Note:** constants are a special type of variable. They differ in so far that the actual value of a constant cannot be changed after it is assigned. Because constants, like variables, are a storage for values they are used without brackets. \n",
    "\n",
    "besides $\\pi$ the following constants are provided over the `math` package:\n",
    "\n",
    "| Mathematical constant | Python correspondent |\n",
    "| :-: | :- | \n",
    "| $e$ | `math.e` |\n",
    "| $\\tau$ | `math.tau` |\n",
    "| $\\infty$ | `math.inf` |"
   ]
  },
  {
   "cell_type": "markdown",
   "id": "27d123a8-3ed2-4f2c-84c6-027f0d85511a",
   "metadata": {},
   "source": [
    "**Trigonometric functions (arguments in radians) `sin()`, `cos()`, `tan()`:**"
   ]
  },
  {
   "cell_type": "code",
   "execution_count": 16,
   "id": "a422741c-e2ea-463e-ad5e-2a332796be20",
   "metadata": {},
   "outputs": [
    {
     "data": {
      "text/plain": [
       "1.0"
      ]
     },
     "execution_count": 16,
     "metadata": {},
     "output_type": "execute_result"
    }
   ],
   "source": [
    "m.sin(m.pi / 2)"
   ]
  },
  {
   "cell_type": "code",
   "execution_count": 17,
   "id": "0cd5c3d1-51c2-4d4d-90ac-a77da1ad1366",
   "metadata": {},
   "outputs": [
    {
     "data": {
      "text/plain": [
       "6.123233995736766e-17"
      ]
     },
     "execution_count": 17,
     "metadata": {},
     "output_type": "execute_result"
    }
   ],
   "source": [
    "m.cos(m.pi / 2)"
   ]
  },
  {
   "cell_type": "code",
   "execution_count": 18,
   "id": "eeb10ea6-f97d-4f42-915a-86fc3639229e",
   "metadata": {},
   "outputs": [
    {
     "data": {
      "text/plain": [
       "0.0"
      ]
     },
     "execution_count": 18,
     "metadata": {},
     "output_type": "execute_result"
    }
   ],
   "source": [
    "m.tan(0)"
   ]
  },
  {
   "cell_type": "markdown",
   "id": "7e216a9d-e2eb-41aa-8486-03c248f653b7",
   "metadata": {},
   "source": [
    "**Inverse trigonometric functions `asin()`, `acos()`, `atan()`:**"
   ]
  },
  {
   "cell_type": "code",
   "execution_count": 19,
   "id": "ce196400-9b22-45e7-a12f-79d1a0436d80",
   "metadata": {},
   "outputs": [
    {
     "data": {
      "text/plain": [
       "0.0"
      ]
     },
     "execution_count": 19,
     "metadata": {},
     "output_type": "execute_result"
    }
   ],
   "source": [
    "m.asin(0)"
   ]
  },
  {
   "cell_type": "code",
   "execution_count": 20,
   "id": "67d81891-cbf3-4eba-9912-b6e1b5e5f909",
   "metadata": {},
   "outputs": [
    {
     "data": {
      "text/plain": [
       "0.0"
      ]
     },
     "execution_count": 20,
     "metadata": {},
     "output_type": "execute_result"
    }
   ],
   "source": [
    "m.acos(1)"
   ]
  },
  {
   "cell_type": "code",
   "execution_count": 21,
   "id": "9c683b58-e862-4af0-b6ae-e626d6eeaee0",
   "metadata": {},
   "outputs": [
    {
     "data": {
      "text/plain": [
       "1.2626272556789115"
      ]
     },
     "execution_count": 21,
     "metadata": {},
     "output_type": "execute_result"
    }
   ],
   "source": [
    "m.atan(m.pi)"
   ]
  },
  {
   "cell_type": "code",
   "execution_count": 22,
   "id": "70277508-6dc1-476e-8d5e-10f08e012279",
   "metadata": {},
   "outputs": [],
   "source": [
    "### your solution"
   ]
  },
  {
   "cell_type": "code",
   "execution_count": null,
   "id": "6e414ab6-beb9-4525-bcd7-1dd86ce4a8d8",
   "metadata": {},
   "outputs": [],
   "source": []
  },
  {
   "cell_type": "markdown",
   "id": "e1c006aa-6ed7-4a74-93e8-da2808583295",
   "metadata": {},
   "source": [
    "**Function to round x to n decimal places `round(<number>, <decimal_places>)`:**"
   ]
  },
  {
   "cell_type": "code",
   "execution_count": 23,
   "id": "22aa8974-50ab-49ea-ab77-26acc0f48982",
   "metadata": {},
   "outputs": [
    {
     "data": {
      "text/plain": [
       "3.14"
      ]
     },
     "execution_count": 23,
     "metadata": {},
     "output_type": "execute_result"
    }
   ],
   "source": [
    "round(m.pi, 2)"
   ]
  },
  {
   "cell_type": "markdown",
   "id": "3bc47296-e734-490c-94d3-b0f51ea7caeb",
   "metadata": {},
   "source": [
    "**Function to round down to the nearest integer number `floor()`:**"
   ]
  },
  {
   "cell_type": "code",
   "execution_count": 24,
   "id": "e0e802b7-e18a-410d-9bc4-2d904a379178",
   "metadata": {},
   "outputs": [
    {
     "data": {
      "text/plain": [
       "3"
      ]
     },
     "execution_count": 24,
     "metadata": {},
     "output_type": "execute_result"
    }
   ],
   "source": [
    "m.floor(m.pi)"
   ]
  },
  {
   "cell_type": "markdown",
   "id": "2c866060-47c8-45a9-a481-7cf3495cbaf4",
   "metadata": {},
   "source": [
    "**Function to round up to the nearest integer number `ceil()`:**"
   ]
  },
  {
   "cell_type": "code",
   "execution_count": 25,
   "id": "34e06abd-f2ba-4e32-8ad7-4526999b2d3c",
   "metadata": {},
   "outputs": [
    {
     "data": {
      "text/plain": [
       "4"
      ]
     },
     "execution_count": 25,
     "metadata": {},
     "output_type": "execute_result"
    }
   ],
   "source": [
    "m.ceil(m.pi)"
   ]
  },
  {
   "cell_type": "code",
   "execution_count": 26,
   "id": "67b173a5-c7ed-4f0c-ac9d-2c6ffd6d146d",
   "metadata": {},
   "outputs": [],
   "source": [
    "### your solution"
   ]
  },
  {
   "cell_type": "code",
   "execution_count": null,
   "id": "74ec8e00-a2cb-47a9-81b2-daef2d5c88a7",
   "metadata": {},
   "outputs": [],
   "source": []
  },
  {
   "cell_type": "code",
   "execution_count": null,
   "id": "661b4847-f073-405f-b24b-b6790569f0aa",
   "metadata": {},
   "outputs": [],
   "source": []
  },
  {
   "cell_type": "markdown",
   "id": "01caf3c9-03e3-4f08-8dfa-e5ce34fe1bd0",
   "metadata": {},
   "source": [
    "## Summary\n",
    "\n",
    "A summary of all introduced functions is given below.\n",
    "\n",
    "| Python function | Mathematical correspondent |\n",
    "| :-: | :- | \n",
    "| `abs(9)` | \\|$9$\\| |\n",
    "| `math.sqrt(64)` | $\\sqrt {64}$ |\n",
    "| `math.exp(2)` | $e^2$ |\n",
    "| `math.log(5)` | $\\ln(5)$ |\n",
    "| `math.log10(1000)` | $\\log_{10}(1000)$ |\n",
    "| `math.log(27, 3)` | $\\log_{3}(27)$ |\n",
    "| `math.sin(math.pi)` | $\\sin(\\pi)$ |\n",
    "| `math.cos(math.pi)` | $\\cos(\\pi)$ |\n",
    "| `math.tan(math.pi)` | $\\tan(\\pi)$ |\n",
    "| `math.asin(math.pi)` | $\\arcsin(\\pi)$ |\n",
    "| `math.acos(math.pi)` | $\\arccos(\\pi)$ |\n",
    "| `math.atan(math.pi)` | $\\arctan(\\pi)$ |"
   ]
  },
  {
   "cell_type": "code",
   "execution_count": 27,
   "id": "b1b68918-1d5d-492c-b0e2-2ba9282a6df1",
   "metadata": {},
   "outputs": [
    {
     "data": {
      "text/html": [
       "\n",
       "        <iframe\n",
       "            width=\"900\"\n",
       "            height=\"200\"\n",
       "            src=\"../../../citation_Soga.html\"\n",
       "            frameborder=\"0\"\n",
       "            allowfullscreen\n",
       "            \n",
       "        ></iframe>\n",
       "        "
      ],
      "text/plain": [
       "<IPython.lib.display.IFrame at 0x10477e790>"
      ]
     },
     "execution_count": 27,
     "metadata": {},
     "output_type": "execute_result"
    }
   ],
   "source": [
    "from IPython.display import IFrame\n",
    "\n",
    "IFrame(\n",
    "    src=\"../../../citation_Soga.html\",\n",
    "    width=900,\n",
    "    height=200,\n",
    ")"
   ]
  }
 ],
 "metadata": {
  "kernelspec": {
   "display_name": "Python 3 (ipykernel)",
   "language": "python",
   "name": "python3"
  },
  "language_info": {
   "codemirror_mode": {
    "name": "ipython",
    "version": 3
   },
   "file_extension": ".py",
   "mimetype": "text/x-python",
   "name": "python",
   "nbconvert_exporter": "python",
   "pygments_lexer": "ipython3",
   "version": "3.9.19"
  }
 },
 "nbformat": 4,
 "nbformat_minor": 5
}