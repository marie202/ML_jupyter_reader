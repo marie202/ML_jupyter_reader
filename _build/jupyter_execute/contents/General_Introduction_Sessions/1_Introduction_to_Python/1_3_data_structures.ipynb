{
 "cells": [
  {
   "cell_type": "code",
   "execution_count": 1,
   "id": "9e2ba019-7418-4e18-b16e-cd8eb8bc0c8e",
   "metadata": {
    "editable": true,
    "slideshow": {
     "slide_type": ""
    },
    "tags": [
     "remove-cell"
    ]
   },
   "outputs": [],
   "source": [
    "%load_ext lab_black"
   ]
  },
  {
   "cell_type": "markdown",
   "id": "6815167d-3e95-4ea2-8917-10ce96b0c022",
   "metadata": {
    "editable": true,
    "slideshow": {
     "slide_type": ""
    },
    "tags": []
   },
   "source": [
    "## Data structures\n",
    "\n",
    "After we get to know about the built-in datatypes in Python, we want to introduce the most important data structures in Python in the following chapter. Data structures are in contrast to datatypes ordered arrangement and combination based on the built-in datatypes. These structures are used to store more complex data. Therefore they are essential for data science and statistical purposes. `Lists`, `tuples` and `dictionaries` will be discussed. The concept of indexing and slicing is essential for all of these data containers, as described in the previous chapter.\n",
    "\n",
    "> **Note:** Per definition, every object is also a data structure.\n",
    "\n",
    "> **Note:** It is helpful to imagine data structures as a collection of things.\n",
    "\n",
    "### Lists\n",
    "\n",
    "Lists are probably the handiest and most flexible type of container. A list consists of individual elements of **potentially different** *data types*. Lists are declared with square brackets `[]`. Individual elements of a list can be selected using the syntax `<list_name>[<index>]`.\n",
    "\n",
    "> **Note:** Also in `lists` the index of the first element starts with 0.\n",
    "\n",
    "Let's have a look at an example. Therefore we want to define a `list` that contains different data types:"
   ]
  },
  {
   "cell_type": "code",
   "execution_count": 2,
   "id": "f09c2172-e09d-4586-a4e4-3dee2633df9b",
   "metadata": {},
   "outputs": [
    {
     "data": {
      "text/plain": [
       "list"
      ]
     },
     "execution_count": 2,
     "metadata": {},
     "output_type": "execute_result"
    }
   ],
   "source": [
    "a_list = [\"blueberry\", \"strawberry\", \"pineapple\", 1, True]\n",
    "type(a_list)"
   ]
  },
  {
   "cell_type": "markdown",
   "id": "080178c9-19b2-439b-8fe9-333d3d8275b4",
   "metadata": {},
   "source": [
    "To access the first element:"
   ]
  },
  {
   "cell_type": "code",
   "execution_count": 3,
   "id": "ec657fe1-576a-49a6-b96b-2b8307695cc3",
   "metadata": {},
   "outputs": [
    {
     "data": {
      "text/plain": [
       "'blueberry'"
      ]
     },
     "execution_count": 3,
     "metadata": {},
     "output_type": "execute_result"
    }
   ],
   "source": [
    "a_list[0]"
   ]
  },
  {
   "cell_type": "markdown",
   "id": "1d9b7e6c-9af8-4dea-b24e-e8c64da7b780",
   "metadata": {},
   "source": [
    "To select the last element out of the list:"
   ]
  },
  {
   "cell_type": "code",
   "execution_count": 4,
   "id": "71027261-8b79-431e-a5a1-8bdcca691314",
   "metadata": {},
   "outputs": [
    {
     "data": {
      "text/plain": [
       "True"
      ]
     },
     "execution_count": 4,
     "metadata": {},
     "output_type": "execute_result"
    }
   ],
   "source": [
    "a_list[-1]"
   ]
  },
  {
   "cell_type": "markdown",
   "id": "6796bbfa-7ea1-4108-8254-801b85a86e98",
   "metadata": {},
   "source": [
    "We could compare the datatypes with each other:"
   ]
  },
  {
   "cell_type": "code",
   "execution_count": 5,
   "id": "7527bd4f-ae99-4813-85f5-6686c81effb6",
   "metadata": {},
   "outputs": [
    {
     "data": {
      "text/plain": [
       "False"
      ]
     },
     "execution_count": 5,
     "metadata": {},
     "output_type": "execute_result"
    }
   ],
   "source": [
    "type(a_list[0]) == type(a_list[-1])"
   ]
  },
  {
   "cell_type": "markdown",
   "id": "acfb2d3e-731a-4643-9624-e4d9b4299650",
   "metadata": {},
   "source": [
    "As you can see, also if all elements are stored in the same list, the data types of the individual elements could vary:"
   ]
  },
  {
   "cell_type": "code",
   "execution_count": 6,
   "id": "c66f496a-fa09-43c7-bdc6-94c49a382c5e",
   "metadata": {},
   "outputs": [
    {
     "data": {
      "text/plain": [
       "str"
      ]
     },
     "execution_count": 6,
     "metadata": {},
     "output_type": "execute_result"
    }
   ],
   "source": [
    "type(a_list[0])"
   ]
  },
  {
   "cell_type": "code",
   "execution_count": 7,
   "id": "6ae87319-8fd9-4684-ab9e-8097441a1c7e",
   "metadata": {},
   "outputs": [
    {
     "data": {
      "text/plain": [
       "bool"
      ]
     },
     "execution_count": 7,
     "metadata": {},
     "output_type": "execute_result"
    }
   ],
   "source": [
    "type(a_list[-1])"
   ]
  },
  {
   "cell_type": "markdown",
   "id": "bf771fc0-5213-443e-87f5-6523531287a9",
   "metadata": {},
   "source": [
    "To invert the order of a list you can easily use the `::` operator:"
   ]
  },
  {
   "cell_type": "code",
   "execution_count": 8,
   "id": "f13893ed-a6a1-4167-a91b-c18adc5c63ca",
   "metadata": {},
   "outputs": [
    {
     "data": {
      "text/plain": [
       "[True, 1, 'pineapple', 'strawberry', 'blueberry']"
      ]
     },
     "execution_count": 8,
     "metadata": {},
     "output_type": "execute_result"
    }
   ],
   "source": [
    "a_list[::-1]"
   ]
  },
  {
   "cell_type": "markdown",
   "id": "3f14dad9-938a-4174-a8c9-fe235164f44a",
   "metadata": {},
   "source": [
    "To add an element to a `list` that is already defined, you do not have to initialise the `list` again. You add an element **at the end** of a `list` by using the `<list>.append(<element>)` method:"
   ]
  },
  {
   "cell_type": "code",
   "execution_count": 9,
   "id": "d73b09ec-fb9e-4d0b-a7f5-968aa20a7ef7",
   "metadata": {},
   "outputs": [
    {
     "data": {
      "text/plain": [
       "['blueberry', 'strawberry', 'pineapple', 1, True]"
      ]
     },
     "execution_count": 9,
     "metadata": {},
     "output_type": "execute_result"
    }
   ],
   "source": [
    "a_list"
   ]
  },
  {
   "cell_type": "code",
   "execution_count": 10,
   "id": "5340dee2-a837-4cd0-8c0f-23791a4b0344",
   "metadata": {},
   "outputs": [
    {
     "data": {
      "text/plain": [
       "5"
      ]
     },
     "execution_count": 10,
     "metadata": {},
     "output_type": "execute_result"
    }
   ],
   "source": [
    "len(a_list)"
   ]
  },
  {
   "cell_type": "code",
   "execution_count": 11,
   "id": "dc35b9de-6866-4a46-968a-8dcaa51bfa2a",
   "metadata": {},
   "outputs": [],
   "source": [
    "a_list.append(\"a new thing\")"
   ]
  },
  {
   "cell_type": "code",
   "execution_count": 12,
   "id": "09b199a4-8b18-4ee5-8717-5f9182cc6e63",
   "metadata": {},
   "outputs": [
    {
     "data": {
      "text/plain": [
       "['blueberry', 'strawberry', 'pineapple', 1, True, 'a new thing']"
      ]
     },
     "execution_count": 12,
     "metadata": {},
     "output_type": "execute_result"
    }
   ],
   "source": [
    "a_list"
   ]
  },
  {
   "cell_type": "code",
   "execution_count": 13,
   "id": "7ff063ad-0def-4226-939e-4af05ff6359c",
   "metadata": {},
   "outputs": [
    {
     "data": {
      "text/plain": [
       "6"
      ]
     },
     "execution_count": 13,
     "metadata": {},
     "output_type": "execute_result"
    }
   ],
   "source": [
    "len(a_list)"
   ]
  },
  {
   "cell_type": "markdown",
   "id": "1715b92f-c889-44e4-8553-ce0b98acc37e",
   "metadata": {},
   "source": [
    "Sometimes it is useful to get the last element of a list and delete it after you read it. This is done by making use of the `<list>.pop()` method:"
   ]
  },
  {
   "cell_type": "code",
   "execution_count": 14,
   "id": "a01914ee-2442-4dc3-9561-7166c53380b1",
   "metadata": {},
   "outputs": [
    {
     "data": {
      "text/plain": [
       "1"
      ]
     },
     "execution_count": 14,
     "metadata": {},
     "output_type": "execute_result"
    }
   ],
   "source": [
    "a_list.pop()\n",
    "a_list.pop()\n",
    "a_list.pop()"
   ]
  },
  {
   "cell_type": "code",
   "execution_count": 15,
   "id": "1a92ef9d-d4d7-40b1-ac8d-56812739853d",
   "metadata": {},
   "outputs": [
    {
     "data": {
      "text/plain": [
       "['blueberry', 'strawberry', 'pineapple']"
      ]
     },
     "execution_count": 15,
     "metadata": {},
     "output_type": "execute_result"
    }
   ],
   "source": [
    "a_list"
   ]
  },
  {
   "cell_type": "code",
   "execution_count": 16,
   "id": "108b42fa-2dfe-4ad3-bdcb-35b20ca61211",
   "metadata": {},
   "outputs": [
    {
     "data": {
      "text/plain": [
       "3"
      ]
     },
     "execution_count": 16,
     "metadata": {},
     "output_type": "execute_result"
    }
   ],
   "source": [
    "len(a_list)"
   ]
  },
  {
   "cell_type": "markdown",
   "id": "bdec727c-016b-4cbf-9563-f3cc7c0f8747",
   "metadata": {},
   "source": [
    "If your `list` contains only elements of the same data type you can use the `<list>.sort()` method:"
   ]
  },
  {
   "cell_type": "code",
   "execution_count": 17,
   "id": "df1538cd-9631-43df-933c-74ac0542296e",
   "metadata": {},
   "outputs": [],
   "source": [
    "a_list.sort()"
   ]
  },
  {
   "cell_type": "markdown",
   "id": "75cbf5cc-fe3f-4365-b072-b98890903e15",
   "metadata": {},
   "source": [
    "To *sort* your list decreasing, the `<list>.reverse()` method is used:"
   ]
  },
  {
   "cell_type": "code",
   "execution_count": 18,
   "id": "1171cc80-51fa-43f1-a64a-8731c8b70449",
   "metadata": {},
   "outputs": [],
   "source": [
    "a_list.reverse()"
   ]
  },
  {
   "cell_type": "code",
   "execution_count": 19,
   "id": "ca2c6dc1-0d01-4927-9123-bdb757c3e09a",
   "metadata": {},
   "outputs": [
    {
     "data": {
      "text/plain": [
       "['strawberry', 'pineapple', 'blueberry']"
      ]
     },
     "execution_count": 19,
     "metadata": {},
     "output_type": "execute_result"
    }
   ],
   "source": [
    "a_list"
   ]
  },
  {
   "cell_type": "markdown",
   "id": "c2145cc4-b868-43e0-b06d-a783929db1e8",
   "metadata": {},
   "source": [
    "> **Note:** There are some more methods that are associated with the `list` object. A full overview is given in the [Python documentation](https://docs.python.org/3/tutorial/datastructures.html)."
   ]
  },
  {
   "cell_type": "markdown",
   "id": "736a006d-00c2-4ee7-b059-25d1872579f7",
   "metadata": {
    "editable": true,
    "slideshow": {
     "slide_type": ""
    },
    "tags": []
   },
   "source": [
    "### Tuples\n",
    "\n",
    "We won't say a whole lot about tuples except to mention that they basically work just like lists, with\n",
    "two major exceptions:\n",
    "\n",
    "1. You declare tuples using () instead of []\n",
    "1. Once you make a tuple, you can't change what's in it (referred to as immutable)\n",
    "\n",
    "You'll see tuples come up throughout the Python language, and over time you'll develop a feel for when\n",
    "to use them. \n",
    "\n",
    "In general, they're often used instead of lists:\n",
    "\n",
    "1. to group items when the position in the collection is critical, such as coord = (x, y)\n",
    "1. when you want to prevent accidental modification of the items, e.g. shape = (12, 23)\n",
    "1. when we need a *hashable* object (as key in a mapping/dict) (explained later)"
   ]
  },
  {
   "cell_type": "code",
   "execution_count": 20,
   "id": "6dc7bd0e-2d9d-49c9-a064-fff16ddc42fb",
   "metadata": {
    "editable": true,
    "slideshow": {
     "slide_type": ""
    },
    "tags": []
   },
   "outputs": [
    {
     "data": {
      "text/plain": [
       "tuple"
      ]
     },
     "execution_count": 20,
     "metadata": {},
     "output_type": "execute_result"
    }
   ],
   "source": [
    "a_tuple = (1, 2, 3, 4, 5)\n",
    "type(a_tuple)"
   ]
  },
  {
   "cell_type": "markdown",
   "id": "49a52b2f-dc04-42de-bdbf-901a2608226e",
   "metadata": {},
   "source": [
    "If you want to change an element inside of a tuple, you will get an according error message:"
   ]
  },
  {
   "cell_type": "code",
   "execution_count": 21,
   "id": "2b916acc-7987-47ca-b36d-ad30b173c154",
   "metadata": {},
   "outputs": [
    {
     "ename": "TypeError",
     "evalue": "'tuple' object does not support item assignment",
     "output_type": "error",
     "traceback": [
      "\u001b[0;31m---------------------------------------------------------------------------\u001b[0m",
      "\u001b[0;31mTypeError\u001b[0m                                 Traceback (most recent call last)",
      "Cell \u001b[0;32mIn[21], line 1\u001b[0m\n\u001b[0;32m----> 1\u001b[0m a_tuple[\u001b[38;5;241m2\u001b[39m] \u001b[38;5;241m=\u001b[39m \u001b[38;5;241m15\u001b[39m\n",
      "\u001b[0;31mTypeError\u001b[0m: 'tuple' object does not support item assignment"
     ]
    }
   ],
   "source": [
    "a_tuple[2] = 15"
   ]
  },
  {
   "cell_type": "markdown",
   "id": "6767b8aa-aa26-4dca-a9ca-ba9be6556eb3",
   "metadata": {
    "editable": true,
    "slideshow": {
     "slide_type": ""
    },
    "tags": []
   },
   "source": [
    "### Dictionaries\n",
    "\n",
    "At last we want to introduce the data structure of `dictonaries`. This data structure is widely used in Python because `dictonaries` are enormously fast if you want to get elements of out a huge data. Another difference to the `list` object is that `dictonaries` organize their data with the help of `key` `value` pairs. That means the `index` which is used in lists is replaced by `keys`. To access an element you have to know the associated `key`:\n",
    "\n",
    "`key` $\\to$ `value`\n",
    "\n",
    "Let's have a look at an example:"
   ]
  },
  {
   "cell_type": "code",
   "execution_count": 2,
   "id": "47e54c26-ccbf-498e-b4d1-2521ee32d093",
   "metadata": {
    "editable": true,
    "slideshow": {
     "slide_type": ""
    },
    "tags": []
   },
   "outputs": [],
   "source": [
    "my_dict = {\"Marry\": 22, \"Frank\": 33}"
   ]
  },
  {
   "cell_type": "markdown",
   "id": "64c274c2-6a02-49fc-ae1b-548d0430f438",
   "metadata": {
    "editable": true,
    "slideshow": {
     "slide_type": ""
    },
    "tags": []
   },
   "source": [
    "> **Note:** Dictonaries are defined with the `{}` brackets. Every `key` is intended to be a `string`. Therefore you need to put the `keys` in `\"\"`. The associated value is assigned by the use of the `:` operator."
   ]
  },
  {
   "cell_type": "markdown",
   "id": "9856c6d9-67ed-4538-bed0-2b9468a34cb1",
   "metadata": {},
   "source": [
    "To print the content of a `dictonary` just type it's name:"
   ]
  },
  {
   "cell_type": "code",
   "execution_count": 23,
   "id": "e1d83e7d-0857-4800-bf91-ab8d31102e84",
   "metadata": {},
   "outputs": [
    {
     "data": {
      "text/plain": [
       "{'Marry': 22, 'Frank': 33}"
      ]
     },
     "execution_count": 23,
     "metadata": {},
     "output_type": "execute_result"
    }
   ],
   "source": [
    "my_dict"
   ]
  },
  {
   "cell_type": "markdown",
   "id": "1dd3d875-b4c5-4c36-8f8c-2317f4ec70e5",
   "metadata": {},
   "source": [
    "To select a specific element / value of a `dictonary` the `[<key>]` brackets are used:"
   ]
  },
  {
   "cell_type": "code",
   "execution_count": 24,
   "id": "938090ed-45d1-4764-ba99-abcddebbf9b0",
   "metadata": {},
   "outputs": [
    {
     "data": {
      "text/plain": [
       "22"
      ]
     },
     "execution_count": 24,
     "metadata": {},
     "output_type": "execute_result"
    }
   ],
   "source": [
    "my_dict[\"Marry\"]"
   ]
  },
  {
   "cell_type": "code",
   "execution_count": 25,
   "id": "5de9755b-b0c1-4b4b-9544-e2325a0ac0a4",
   "metadata": {},
   "outputs": [
    {
     "data": {
      "text/plain": [
       "33"
      ]
     },
     "execution_count": 25,
     "metadata": {},
     "output_type": "execute_result"
    }
   ],
   "source": [
    "my_dict[\"Frank\"]"
   ]
  },
  {
   "cell_type": "markdown",
   "id": "660634e4-e0fc-49d5-b88d-6f50f7f9f043",
   "metadata": {},
   "source": [
    "To add a new `key`-`value` pair to an already defined `dictonary`: "
   ]
  },
  {
   "cell_type": "code",
   "execution_count": 26,
   "id": "22c9bd71-6f20-4d26-8cf1-c832226de000",
   "metadata": {},
   "outputs": [],
   "source": [
    "my_dict[\"Anne\"] = 13"
   ]
  },
  {
   "cell_type": "code",
   "execution_count": 27,
   "id": "3d0c58bf-2b05-4c4d-8fea-cdf36e51cea5",
   "metadata": {},
   "outputs": [
    {
     "data": {
      "text/plain": [
       "{'Marry': 22, 'Frank': 33, 'Anne': 13}"
      ]
     },
     "execution_count": 27,
     "metadata": {},
     "output_type": "execute_result"
    }
   ],
   "source": [
    "my_dict"
   ]
  },
  {
   "cell_type": "markdown",
   "id": "6df2ffad-8bca-4f98-bb85-713777d29468",
   "metadata": {},
   "source": [
    "If you try to access a `key` that not exist you will get an error message. You could implement a custom error message by:"
   ]
  },
  {
   "cell_type": "code",
   "execution_count": 28,
   "id": "1ecc7e58-3ab4-4a0c-9837-f82839ce1307",
   "metadata": {},
   "outputs": [
    {
     "data": {
      "text/plain": [
       "'Danger no entry found!'"
      ]
     },
     "execution_count": 28,
     "metadata": {},
     "output_type": "execute_result"
    }
   ],
   "source": [
    "my_dict.get(\"Heidi\", \"Danger no entry found!\")"
   ]
  },
  {
   "cell_type": "markdown",
   "id": "b483ba63-e1c9-46a8-b251-0aa995d45914",
   "metadata": {},
   "source": [
    "To retrieve a list of all `keys` of a `dictonary` the `<dictonary>.keys()` method is used:"
   ]
  },
  {
   "cell_type": "code",
   "execution_count": 29,
   "id": "3008af14-620d-44ac-abcd-be53e454a153",
   "metadata": {},
   "outputs": [
    {
     "data": {
      "text/plain": [
       "dict_keys(['Marry', 'Frank', 'Anne'])"
      ]
     },
     "execution_count": 29,
     "metadata": {},
     "output_type": "execute_result"
    }
   ],
   "source": [
    "my_dict.keys()"
   ]
  },
  {
   "cell_type": "markdown",
   "id": "e31f88bb-3e27-4989-a7c7-c4504517a07d",
   "metadata": {},
   "source": [
    "Accordingly you could ask for a list of all elements in a `dictonary` by make use of the `<dictonary>.values()` method:"
   ]
  },
  {
   "cell_type": "code",
   "execution_count": 30,
   "id": "2c788037-893b-4bc5-964d-e0e864da31a5",
   "metadata": {},
   "outputs": [
    {
     "data": {
      "text/plain": [
       "dict_values([22, 33, 13])"
      ]
     },
     "execution_count": 30,
     "metadata": {},
     "output_type": "execute_result"
    }
   ],
   "source": [
    "my_dict.values()"
   ]
  },
  {
   "cell_type": "code",
   "execution_count": 1,
   "id": "c1e82509-4451-4e47-83ee-98dd7499b0b7",
   "metadata": {
    "editable": true,
    "slideshow": {
     "slide_type": ""
    },
    "tags": [
     "hide_input",
     "remove-input"
    ]
   },
   "outputs": [
    {
     "data": {
      "text/html": [
       "\n",
       "        <iframe\n",
       "            width=\"900\"\n",
       "            height=\"200\"\n",
       "            src=\"../../citations/citation_Soga.html\"\n",
       "            frameborder=\"0\"\n",
       "            allowfullscreen\n",
       "            \n",
       "        ></iframe>\n",
       "        "
      ],
      "text/plain": [
       "<IPython.lib.display.IFrame at 0x1049bf580>"
      ]
     },
     "execution_count": 1,
     "metadata": {},
     "output_type": "execute_result"
    }
   ],
   "source": [
    "from IPython.display import IFrame\n",
    "\n",
    "IFrame(\n",
    "    src=\"../../citations/citation_Soga.html\",\n",
    "    width=900,\n",
    "    height=200,\n",
    ")"
   ]
  },
  {
   "cell_type": "code",
   "execution_count": null,
   "id": "9e865b72-5085-41d1-87c8-15f8689ebd5a",
   "metadata": {
    "editable": true,
    "slideshow": {
     "slide_type": ""
    },
    "tags": []
   },
   "outputs": [],
   "source": []
  }
 ],
 "metadata": {
  "kernelspec": {
   "display_name": "Python 3 (ipykernel)",
   "language": "python",
   "name": "python3"
  },
  "language_info": {
   "codemirror_mode": {
    "name": "ipython",
    "version": 3
   },
   "file_extension": ".py",
   "mimetype": "text/x-python",
   "name": "python",
   "nbconvert_exporter": "python",
   "pygments_lexer": "ipython3",
   "version": "3.9.18"
  }
 },
 "nbformat": 4,
 "nbformat_minor": 5
}