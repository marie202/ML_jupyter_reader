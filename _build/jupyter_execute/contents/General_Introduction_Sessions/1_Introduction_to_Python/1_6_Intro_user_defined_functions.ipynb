{
 "cells": [
  {
   "cell_type": "code",
   "execution_count": 1,
   "id": "d07f1c84-bf2a-4ef7-b368-c42ae2b442d6",
   "metadata": {},
   "outputs": [],
   "source": [
    "%load_ext lab_black"
   ]
  },
  {
   "cell_type": "markdown",
   "id": "642adab7-19cd-470f-b154-1ceff796d51c",
   "metadata": {},
   "source": [
    "# User defined functions\n",
    "\n",
    "## Introduction and general conceptualisation\n",
    "\n",
    "After we learn the most basic and essential data types and structures commonly used in Python, we want to look at the so-called **user-defined function (UDF)**. The usage and the general concept of user-defined functions are identical to the built-in functions of Python that have been introduced before. UDFs allow you to externalise and encapsulate a logical sequence of code statements that marks a specific task repeatedly used under similar conditions. For instance, that could be an often-used calculation or a code fragment used multiple times within your script in more or less the same way. \n",
    "\n",
    "UDFs are defined as their own self-contained and executable block. Well-programmed **UDFs** are flexible to varying executing condition over preconfigured parametrisations within the functiondeclaration itself. Thereover **UDFs** allow you to:\n",
    "\n",
    "1. write clean code by externalising and bundling often-used code fragments in only one dedicated code block. This has the advantage that the logic is summarised within the UDF itself. The code is stored at one location, simplifying the code refactoring and maintenance.\n",
    "2. expand the pre-defined range of functions provided by Python with your own functions.\n",
    "\n",
    "> **Note:** functions defined within an object's scope are called methods. Methods differ distinctively in their concept and usage from UDFs since user-defined functions are universally callable, while methods can only be called under the specific object context! "
   ]
  },
  {
   "cell_type": "markdown",
   "id": "48b07983-990a-47a9-82ba-dad51ed6ce74",
   "metadata": {},
   "source": [
    "## Declaration, definition and usage of UDFs in Python\n",
    "\n",
    "In Python, a user-defined function is declared by the keyword `def` followed by the *`<function_name>`*. A complete and empty UDF body looks like this:"
   ]
  },
  {
   "cell_type": "code",
   "execution_count": 2,
   "id": "bb0faa59-df82-4e5f-b3e1-c0561b7f409e",
   "metadata": {},
   "outputs": [],
   "source": [
    "def function_name():\n",
    "    return"
   ]
  },
  {
   "cell_type": "markdown",
   "id": "2bc7cc2e-5bbd-48b9-b761-a43d295e272f",
   "metadata": {},
   "source": [
    "Every UDF in Python consists of **3** main components:\n",
    "1. The function's declaration is introduced by `def` and followed by the individual name of the function.\n",
    "2. The parametrisation of the function withhin the `()` brackets after the function declaration. In the above example, the function is non-parameterized. Hence the brackets are empty. In the following also, examples of parameterized functions are shown.\n",
    "3. The function's body is followed by `:`. The function body must at least contain the `return` statement. Every function in Python needs to return a value. \n",
    "\n",
    "After the function is defined, it can be used anywhere within the same programming context by just typing/calling the function's name."
   ]
  },
  {
   "cell_type": "markdown",
   "id": "8da30c15-7661-432b-b5c2-7dc9f4e7a42e",
   "metadata": {},
   "source": [
    "## Example: Defining and using a UDF to calculate the volume of a cube\n",
    "\n",
    "As a first and simple example for UDFs, we want to declare and develop a function that calculates the value of a cube step by step. Initially, the function should be pretty simple and return the volume of a cube with a fixed edge length. Since this provides no flexibility, we want to adapt and parametrise the function afterwards so that the volume of any given edge length is calculated and returned. \n",
    "\n",
    "But one after the other. Generally, the volume $V$ of a cube with the edge length $a$ is calculated by:\n",
    "\n",
    "$$V = a^3$$\n",
    "\n",
    "Now we want to implement the above equation within a Python UDF. As it should be as simple as possible at first, the function should return the volume of the cube with a fixed edge length of `3`:"
   ]
  },
  {
   "cell_type": "code",
   "execution_count": 3,
   "id": "f402ae5c-7f6c-46ba-9247-a4dd8cbbe008",
   "metadata": {},
   "outputs": [],
   "source": [
    "def cubes_volume():\n",
    "    return 3**3"
   ]
  },
  {
   "cell_type": "markdown",
   "id": "00650757-8071-4bae-8453-ac866610bfba",
   "metadata": {},
   "source": [
    "After successfully declaring and implementing the function, we can directly use it by typing the *name of the function* followed by `()`. The function should return the value $27$ since $3^3 = 27$:"
   ]
  },
  {
   "cell_type": "code",
   "execution_count": 4,
   "id": "958878ea-a4d1-4d0f-8ec9-f5b5223a2c26",
   "metadata": {},
   "outputs": [
    {
     "data": {
      "text/plain": [
       "27"
      ]
     },
     "execution_count": 4,
     "metadata": {},
     "output_type": "execute_result"
    }
   ],
   "source": [
    "cubes_volume()"
   ]
  },
  {
   "cell_type": "markdown",
   "id": "7ee8a0f0-0ca6-42c2-8ec5-d5d50be794ee",
   "metadata": {},
   "source": [
    "Awesome, that has worked quite well, and you have defined your first UDF! Now we want to adapt our function so that it calculates the cube's volume to any given edge length. For those purposes, we make use of the concept of parametrisation. Hence we add a parameter `a` within the `()` brackets of the functions declaration. Within the function's body, we use this parameter for the volume calculation:"
   ]
  },
  {
   "cell_type": "code",
   "execution_count": 5,
   "id": "1c1f29db-2d18-438b-a324-788dd37f8e35",
   "metadata": {},
   "outputs": [],
   "source": [
    "def cubes_volume(a):\n",
    "    return a**3"
   ]
  },
  {
   "cell_type": "markdown",
   "id": "fa1f031c-6344-4911-b732-f7b1fe3674b0",
   "metadata": {},
   "source": [
    "After we re-declared the function `cubes_volume()`, we can check it out. Just try a few different edge lengths on your own. The following are some examples:"
   ]
  },
  {
   "cell_type": "code",
   "execution_count": 6,
   "id": "17cecf98-64cc-497b-9440-e305f42947d1",
   "metadata": {},
   "outputs": [
    {
     "data": {
      "text/plain": [
       "27"
      ]
     },
     "execution_count": 6,
     "metadata": {},
     "output_type": "execute_result"
    }
   ],
   "source": [
    "cubes_volume(3)"
   ]
  },
  {
   "cell_type": "code",
   "execution_count": 7,
   "id": "a5e533d8-07a0-4b5b-a6da-a148dad69972",
   "metadata": {},
   "outputs": [
    {
     "data": {
      "text/plain": [
       "1000000"
      ]
     },
     "execution_count": 7,
     "metadata": {},
     "output_type": "execute_result"
    }
   ],
   "source": [
    "cubes_volume(100)"
   ]
  },
  {
   "cell_type": "code",
   "execution_count": 8,
   "id": "ad83608e-53e0-4bf5-ae33-e297b5c7157b",
   "metadata": {},
   "outputs": [
    {
     "data": {
      "text/plain": [
       "125"
      ]
     },
     "execution_count": 8,
     "metadata": {},
     "output_type": "execute_result"
    }
   ],
   "source": [
    "cubes_volume(5)"
   ]
  },
  {
   "cell_type": "markdown",
   "id": "634ff259-fe34-4846-97a6-5c7ab03b7498",
   "metadata": {},
   "source": [
    "Great! As an additional add-on, we can assign a so-called ***default value*** to the function's parameter `a`. This ensures that the function is still operable even though no value for `a` is passed:"
   ]
  },
  {
   "cell_type": "code",
   "execution_count": 9,
   "id": "4ab46368-8bf5-41d2-90a0-2b8987dd4aeb",
   "metadata": {},
   "outputs": [],
   "source": [
    "def cubes_volume(a=3):\n",
    "    return a**3"
   ]
  },
  {
   "cell_type": "code",
   "execution_count": 10,
   "id": "934ca172-a455-4e7c-97ca-b7159cedf512",
   "metadata": {},
   "outputs": [
    {
     "data": {
      "text/plain": [
       "27"
      ]
     },
     "execution_count": 10,
     "metadata": {},
     "output_type": "execute_result"
    }
   ],
   "source": [
    "cubes_volume()"
   ]
  },
  {
   "cell_type": "code",
   "execution_count": 11,
   "id": "494be0e7-e9d5-4b56-b52e-656bef13b91f",
   "metadata": {},
   "outputs": [
    {
     "data": {
      "text/plain": [
       "125"
      ]
     },
     "execution_count": 11,
     "metadata": {},
     "output_type": "execute_result"
    }
   ],
   "source": [
    "cubes_volume(5)"
   ]
  },
  {
   "cell_type": "markdown",
   "id": "79e700b5-4fb3-4704-9090-16e207aaafa2",
   "metadata": {},
   "source": [
    "## Exercises"
   ]
  },
  {
   "cell_type": "markdown",
   "id": "ca55c176-367f-43c7-82b8-02b1557dee23",
   "metadata": {},
   "source": [
    "> **Exercise:** Write a function that computes Kelvin from Fahrenheit! The function shall be named as `fahrenheit_to_kelvin` and shall also be parameterised. Kelvin is converted to Fahrenheit by:\n",
    "\n",
    "$$K = (°F - 32.0) \\times \\frac{5}{9} + 273.15$$"
   ]
  },
  {
   "cell_type": "code",
   "execution_count": 12,
   "id": "15d436c6-a14d-4adb-a213-5eb2f6ad2672",
   "metadata": {},
   "outputs": [],
   "source": [
    "### your solution"
   ]
  },
  {
   "cell_type": "markdown",
   "id": "e4e329e3-cad7-4c73-9738-44f386a67aee",
   "metadata": {},
   "source": [
    "> __Test your function__:   \n",
    "$-50\\ F$ should yield approximately $228\\ K$."
   ]
  },
  {
   "cell_type": "code",
   "execution_count": 13,
   "id": "7de84d77-fb16-42ce-b748-ef82cac9de37",
   "metadata": {},
   "outputs": [
    {
     "ename": "NameError",
     "evalue": "name 'fahrenheit_to_kelvin' is not defined",
     "output_type": "error",
     "traceback": [
      "\u001b[0;31m---------------------------------------------------------------------------\u001b[0m",
      "\u001b[0;31mNameError\u001b[0m                                 Traceback (most recent call last)",
      "Cell \u001b[0;32mIn[13], line 1\u001b[0m\n\u001b[0;32m----> 1\u001b[0m \u001b[43mfahrenheit_to_kelvin\u001b[49m(\u001b[38;5;241m-\u001b[39m\u001b[38;5;241m50\u001b[39m)\n",
      "\u001b[0;31mNameError\u001b[0m: name 'fahrenheit_to_kelvin' is not defined"
     ]
    }
   ],
   "source": [
    "fahrenheit_to_kelvin(-50)"
   ]
  },
  {
   "cell_type": "markdown",
   "id": "f63eba4c-81ed-4be7-93db-f852b2e00a6b",
   "metadata": {},
   "source": [
    "> **Exercise:** Write a function that computes Celsius from Kelvin! The function shall be named as `kelvin_to_celsius`. This function should be parameterised too. Celsuis is converted to Kelvin by:\n",
    "\n",
    "$$°C = K - 273.15$$"
   ]
  },
  {
   "cell_type": "code",
   "execution_count": null,
   "id": "bf9a7688-bf79-4cd8-9671-dc8c22edec99",
   "metadata": {},
   "outputs": [],
   "source": [
    "### your solution"
   ]
  },
  {
   "cell_type": "code",
   "execution_count": null,
   "id": "f8f81076-e3a5-4b9f-8b2d-b9a96904eba6",
   "metadata": {},
   "outputs": [],
   "source": []
  },
  {
   "cell_type": "markdown",
   "id": "b9c07b22-f613-46ec-9f21-04857cd5c045",
   "metadata": {},
   "source": [
    "> __Test your function__:   \n",
    "$0\\ K$ should yield approximately $-273.15 °C$."
   ]
  },
  {
   "cell_type": "code",
   "execution_count": null,
   "id": "899aeb93-c055-4548-a228-520b90c000ac",
   "metadata": {},
   "outputs": [],
   "source": []
  },
  {
   "cell_type": "markdown",
   "id": "ce1d8045-1450-4660-9d35-5752da592619",
   "metadata": {},
   "source": [
    "> **Exercise:** Write a function that computes Celsius form Fahrenheit! The function shall be named as `fahrenheit_to_celsius`. This function should be parameterised too. Reuse your above declared functions for this calculation:"
   ]
  },
  {
   "cell_type": "code",
   "execution_count": null,
   "id": "c99bb6e2-6f87-4447-aab4-da77fa530e38",
   "metadata": {},
   "outputs": [],
   "source": [
    "### your solution"
   ]
  },
  {
   "cell_type": "code",
   "execution_count": null,
   "id": "3dc3517a-cfe9-4940-a745-b19b32a31df7",
   "metadata": {},
   "outputs": [],
   "source": []
  },
  {
   "cell_type": "markdown",
   "id": "ef869d1e-849b-485b-a3b4-38477e112067",
   "metadata": {},
   "source": [
    "> __Test your function__:   \n",
    "$451\\ F$ should yield approximately $232\\ °C$."
   ]
  },
  {
   "cell_type": "code",
   "execution_count": null,
   "id": "d3c9f752-5c6a-4a9a-9621-fe2e2e863339",
   "metadata": {},
   "outputs": [],
   "source": []
  },
  {
   "cell_type": "code",
   "execution_count": 1,
   "id": "759929c5-dd03-4c7f-93c3-261ab5056d5d",
   "metadata": {},
   "outputs": [
    {
     "data": {
      "text/html": [
       "\n",
       "        <iframe\n",
       "            width=\"900\"\n",
       "            height=\"200\"\n",
       "            src=\"../../../citation_Soga.html\"\n",
       "            frameborder=\"0\"\n",
       "            allowfullscreen\n",
       "            \n",
       "        ></iframe>\n",
       "        "
      ],
      "text/plain": [
       "<IPython.lib.display.IFrame at 0x107d0cf40>"
      ]
     },
     "execution_count": 1,
     "metadata": {},
     "output_type": "execute_result"
    }
   ],
   "source": [
    "from IPython.display import IFrame\n",
    "\n",
    "IFrame(\n",
    "    src=\"../../../citation_Soga.html\",\n",
    "    width=900,\n",
    "    height=200,\n",
    ")"
   ]
  }
 ],
 "metadata": {
  "kernelspec": {
   "display_name": "Python 3 (ipykernel)",
   "language": "python",
   "name": "python3"
  },
  "language_info": {
   "codemirror_mode": {
    "name": "ipython",
    "version": 3
   },
   "file_extension": ".py",
   "mimetype": "text/x-python",
   "name": "python",
   "nbconvert_exporter": "python",
   "pygments_lexer": "ipython3",
   "version": "3.9.19"
  }
 },
 "nbformat": 4,
 "nbformat_minor": 5
}