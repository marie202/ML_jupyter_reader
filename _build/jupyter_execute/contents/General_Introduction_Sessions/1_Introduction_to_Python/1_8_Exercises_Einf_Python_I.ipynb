{
 "cells": [
  {
   "cell_type": "code",
   "execution_count": 1,
   "id": "24da576d-a248-4e5f-aa3c-081d16b489ba",
   "metadata": {
    "editable": true,
    "slideshow": {
     "slide_type": ""
    },
    "tags": [
     "remove-cell"
    ]
   },
   "outputs": [],
   "source": [
    "%load_ext lab_black"
   ]
  },
  {
   "cell_type": "markdown",
   "id": "08ad412a-a3f5-4074-9d53-b3361fd597ae",
   "metadata": {},
   "source": [
    "# Additional Exercises I"
   ]
  },
  {
   "cell_type": "code",
   "execution_count": 2,
   "id": "37b28d6f-e6da-4146-8afe-c8c494f345f3",
   "metadata": {},
   "outputs": [],
   "source": [
    "import numpy as np"
   ]
  },
  {
   "cell_type": "markdown",
   "id": "a4cf53ce-80c2-49c7-9847-8f6f8901a4cf",
   "metadata": {},
   "source": [
    "## 1. Working with character strings\n",
    "\n",
    "Create a variable $s$ that contains a string with its name (lower case). Then declare a new variable $S$ from $s$, but starting with an uppercase letter. Display $s$ and $S$."
   ]
  },
  {
   "cell_type": "markdown",
   "id": "2dc8a0c5-5b11-4e5d-89b0-29359d44c396",
   "metadata": {
    "jp-MarkdownHeadingCollapsed": true
   },
   "source": [
    "##### solution"
   ]
  },
  {
   "cell_type": "code",
   "execution_count": 3,
   "id": "43b25dc9-f5f7-4ebd-8d1d-638cdd7f1799",
   "metadata": {},
   "outputs": [
    {
     "name": "stdout",
     "output_type": "stream",
     "text": [
      "My name is lisa, or with a capital first letter: Lisa\n",
      "Lisa\n"
     ]
    }
   ],
   "source": [
    "# The long way:\n",
    "s = \"lisa\"\n",
    "S = s[0].upper() + s[1:]\n",
    "print(\"My name is %s, or with a capital first letter: %s\" % (s, S))\n",
    "\n",
    "# The short way:\n",
    "print(s.capitalize())"
   ]
  },
  {
   "cell_type": "markdown",
   "id": "9c85c51b-3d20-4a98-93b7-743462f2e757",
   "metadata": {},
   "source": [
    "## 2. Simple arithmetic operators\n",
    "\n",
    "Create two variables $a$ = 3 and $b$ = 10\n",
    "- Multiply $a$ and $b$ and display the type of the product.\n",
    "- What do you get if you calculate $b/a$ or $b//a$.\n",
    "\n",
    "Then create two variables $c$ = 3.0 and $d$ = 10.0\n",
    "- Display the type of product here too. \n",
    "- What do you get if you calculate $d/c$ or $d//c$.\n"
   ]
  },
  {
   "cell_type": "markdown",
   "id": "949a85de-0398-4656-9962-84bc20f340d8",
   "metadata": {
    "jp-MarkdownHeadingCollapsed": true
   },
   "source": [
    "##### solution"
   ]
  },
  {
   "cell_type": "code",
   "execution_count": 4,
   "id": "a2ef7c3e-ecc5-4ddc-a6be-741d39729ab9",
   "metadata": {},
   "outputs": [
    {
     "name": "stdout",
     "output_type": "stream",
     "text": [
      "Results:  30 <class 'int'> 3.3333333333333335 3\n",
      "Results 2:  30.0 <class 'float'> 3.3333333333333335 3.0\n"
     ]
    }
   ],
   "source": [
    "a = 3\n",
    "b = 10\n",
    "c = 3.0\n",
    "d = 10.0\n",
    "\n",
    "print(\"Results: \", a * b, type(a * b), b / a, b // a)\n",
    "\n",
    "\n",
    "print(\"Results 2: \", c * d, type(c * d), d / c, d // c)"
   ]
  },
  {
   "cell_type": "markdown",
   "id": "801f6ad4-05ff-405b-a397-b4afbbc8303b",
   "metadata": {},
   "source": [
    "## 3. Working with lists\n",
    "### a) \n",
    "Generate a list *l* with the numbers from 0 to 10. \n",
    "- What is the length of *l*? \n",
    "- Print every second list element with a single *print()* command."
   ]
  },
  {
   "cell_type": "markdown",
   "id": "a8e38b7b-2cc5-4613-9876-6af208aeabbf",
   "metadata": {
    "jp-MarkdownHeadingCollapsed": true
   },
   "source": [
    "##### solution "
   ]
  },
  {
   "cell_type": "code",
   "execution_count": 5,
   "id": "fbc6e230-d75b-4743-ba03-1130d85475fa",
   "metadata": {},
   "outputs": [
    {
     "data": {
      "text/plain": [
       "10"
      ]
     },
     "execution_count": 5,
     "metadata": {},
     "output_type": "execute_result"
    }
   ],
   "source": [
    "l = np.arange(0, 10)\n",
    "len(l)"
   ]
  },
  {
   "cell_type": "code",
   "execution_count": 6,
   "id": "82766e18-89ee-419a-84fe-0f32c0df831e",
   "metadata": {},
   "outputs": [
    {
     "data": {
      "text/plain": [
       "array([0, 2, 4, 6, 8])"
      ]
     },
     "execution_count": 6,
     "metadata": {},
     "output_type": "execute_result"
    }
   ],
   "source": [
    "l[::2]"
   ]
  },
  {
   "cell_type": "markdown",
   "id": "09478487-b049-4363-93be-0fd24b79bbc1",
   "metadata": {},
   "source": [
    "### b) \n",
    "The list a contains the integer float numbers from 2.0 to 6.0. Multiply the first element of the list by the fourth. Add the result of 3*(1//2) to the value and then subtract the value of the list length. "
   ]
  },
  {
   "cell_type": "markdown",
   "id": "825fc941-1b51-49f5-8cb3-5b48345e0f46",
   "metadata": {},
   "source": [
    "##### solution "
   ]
  },
  {
   "cell_type": "code",
   "execution_count": 7,
   "id": "cf19e497-1d6e-4c82-9c05-d43ba2f64950",
   "metadata": {},
   "outputs": [
    {
     "name": "stdout",
     "output_type": "stream",
     "text": [
      "Das Ergebnis lautet:  5.0\n"
     ]
    }
   ],
   "source": [
    "a = [2.0, 3.0, 4.0, 5.0, 6.0]\n",
    "\n",
    "print(\"Das Ergebnis lautet: \", (a[0] * a[3]) + 3 * (1 // 2) - len(a))"
   ]
  },
  {
   "cell_type": "markdown",
   "id": "f0a4eb60-e4f0-41e5-ad0e-6bcc29a31187",
   "metadata": {},
   "source": [
    "# 4. Functions\n",
    "\n",
    "### a) \n",
    "\n",
    "Write a function that finds the minimum and maximum of a list and outputs both at the same time.  "
   ]
  },
  {
   "cell_type": "markdown",
   "id": "f7a2f8e0-c501-4976-9723-cf71c9b281c5",
   "metadata": {
    "jp-MarkdownHeadingCollapsed": true
   },
   "source": [
    "##### solution "
   ]
  },
  {
   "cell_type": "code",
   "execution_count": 8,
   "id": "3462ea63-a1c8-4925-bb9d-04342eea6469",
   "metadata": {},
   "outputs": [],
   "source": [
    "l = np.arange(20, 30)\n",
    "\n",
    "\n",
    "def min_max(l):\n",
    "    minimum = l.min()  # hier haben wir das erste Mal ein Objekt zugriff!\n",
    "    maximum = l.max()\n",
    "    return minimum, maximum"
   ]
  },
  {
   "cell_type": "code",
   "execution_count": 9,
   "id": "38419402-1743-4ba3-afe7-ccbd3a85daf7",
   "metadata": {},
   "outputs": [
    {
     "data": {
      "text/plain": [
       "(20, 29)"
      ]
     },
     "execution_count": 9,
     "metadata": {},
     "output_type": "execute_result"
    }
   ],
   "source": [
    "min_max(l)"
   ]
  },
  {
   "cell_type": "markdown",
   "id": "18b851e8-3a54-4700-b535-fb688322ae0f",
   "metadata": {},
   "source": [
    "### b)\n",
    "Write a Python function that checks whether a number falls within a certain range from 10 to 20."
   ]
  },
  {
   "cell_type": "markdown",
   "id": "dc7fa901-7bdc-439d-b262-b17224c69b30",
   "metadata": {},
   "source": [
    "##### solution "
   ]
  },
  {
   "cell_type": "code",
   "execution_count": 10,
   "id": "7307b7a9-5569-4245-8c69-1ce184c3efa9",
   "metadata": {},
   "outputs": [],
   "source": [
    "def test_range(n):\n",
    "    # Check if 'n' is within the range from 3 to 8 (inclusive) using the 'in range()' statement\n",
    "    if n in range(10, 21):\n",
    "        # If 'n' is within the range, print that 'n' is within the given range\n",
    "        print(f\" {str(n)} is in the range \")\n",
    "    else:\n",
    "        # If 'n' is outside the range, print that the number is outside the given range\n",
    "        print(f\" {str(n)} is outside the given range.\")"
   ]
  },
  {
   "cell_type": "code",
   "execution_count": 11,
   "id": "549de073-c362-4fac-afb6-181e51589757",
   "metadata": {},
   "outputs": [
    {
     "name": "stdout",
     "output_type": "stream",
     "text": [
      " 21 is outside the given range.\n"
     ]
    }
   ],
   "source": [
    "test_range(21)"
   ]
  },
  {
   "cell_type": "code",
   "execution_count": 12,
   "id": "599a456c-07a2-4e33-9def-3d2c0a35fdf3",
   "metadata": {
    "editable": true,
    "slideshow": {
     "slide_type": ""
    },
    "tags": [
     "remove-input"
    ]
   },
   "outputs": [
    {
     "data": {
      "text/html": [
       "\n",
       "        <iframe\n",
       "            width=\"900\"\n",
       "            height=\"200\"\n",
       "            src=\"../../citations/citation_Marie.html\"\n",
       "            frameborder=\"0\"\n",
       "            allowfullscreen\n",
       "            \n",
       "        ></iframe>\n",
       "        "
      ],
      "text/plain": [
       "<IPython.lib.display.IFrame at 0x10698efa0>"
      ]
     },
     "execution_count": 12,
     "metadata": {},
     "output_type": "execute_result"
    }
   ],
   "source": [
    "from IPython.display import IFrame\n",
    "\n",
    "IFrame(\n",
    "    src=\"../../citations/citation_Marie.html\",\n",
    "    width=900,\n",
    "    height=200,\n",
    ")"
   ]
  },
  {
   "cell_type": "code",
   "execution_count": null,
   "id": "21eb6ceb-f0ed-4be4-bb51-d5a37c7978ff",
   "metadata": {
    "editable": true,
    "slideshow": {
     "slide_type": ""
    },
    "tags": []
   },
   "outputs": [],
   "source": []
  }
 ],
 "metadata": {
  "kernelspec": {
   "display_name": "Python 3 (ipykernel)",
   "language": "python",
   "name": "python3"
  },
  "language_info": {
   "codemirror_mode": {
    "name": "ipython",
    "version": 3
   },
   "file_extension": ".py",
   "mimetype": "text/x-python",
   "name": "python",
   "nbconvert_exporter": "python",
   "pygments_lexer": "ipython3",
   "version": "3.9.19"
  }
 },
 "nbformat": 4,
 "nbformat_minor": 5
}