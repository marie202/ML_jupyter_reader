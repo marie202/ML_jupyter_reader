{
 "cells": [
  {
   "cell_type": "markdown",
   "id": "878dd672-2520-483a-9c6e-c6b5a616e212",
   "metadata": {
    "editable": true,
    "slideshow": {
     "slide_type": ""
    },
    "tags": []
   },
   "source": [
    "## Additional Exercises IV -  Feature Scales\n"
   ]
  },
  {
   "cell_type": "code",
   "execution_count": 1,
   "id": "27c9dcc8-ac85-4240-bfcf-c96d8eb17c43",
   "metadata": {
    "editable": true,
    "slideshow": {
     "slide_type": ""
    },
    "tags": [
     "remove-cell"
    ]
   },
   "outputs": [],
   "source": [
    "%load_ext lab_black"
   ]
  },
  {
   "cell_type": "code",
   "execution_count": 2,
   "id": "61c0d75f-b6b5-4f66-8cdb-63423c3eef93",
   "metadata": {},
   "outputs": [],
   "source": [
    "# First, let's import all the needed libraries.\n",
    "import numpy as np\n",
    "import math\n",
    "import pandas as pd\n",
    "import matplotlib.pyplot as plt"
   ]
  },
  {
   "cell_type": "markdown",
   "id": "6ec27943-fd8c-4f99-9953-9b6cbda4eb52",
   "metadata": {},
   "source": [
    "\n",
    "$$\\log {_2}{64} = 6 $$ \n",
    "$$\\log {_{10}}{1000} =  3 $$ \n",
    "$$\\log {_3}{27} = 3 $$ \n",
    "\n",
    "$$9^{0.5} = 3$$\n",
    "$$64^\\frac{1}{6} = 2$$\n",
    "$$8^0 = 1$$"
   ]
  },
  {
   "cell_type": "markdown",
   "id": "2f8626a4-731b-4cfc-a248-4b4e87b8dfc6",
   "metadata": {},
   "source": [
    "$$\\log{\\frac{a}{b}}    $$ \n",
    "$$2 * \\log{{b}}    $$ \n",
    "$$\\frac{1}{3}    $$ "
   ]
  },
  {
   "cell_type": "markdown",
   "id": "742df46f-4f72-44bd-9460-6f361fa33b06",
   "metadata": {
    "editable": true,
    "slideshow": {
     "slide_type": ""
    },
    "tags": []
   },
   "source": [
    "### 1. An Arbitrary Example\n",
    "[Inspired by Soga FU Berlin](https://www.geo.fu-berlin.de/en/v/soga-r/Advances-statistics/Feature-scales/real_world_challenges/index.html)\n",
    "\n",
    "Take a closer look at this hypothetical example of a survey among students. In this survey, students were asked how important they consider practice exercises to be for their own learning success. 1 is not important at all and 10 is extremely important. A total of 254 students were surveyed. \n",
    "After the analysis, the following results are presented in %:\n"
   ]
  },
  {
   "cell_type": "code",
   "execution_count": 3,
   "id": "a98c1548-83d9-404b-92fd-c4225a1ae596",
   "metadata": {},
   "outputs": [
    {
     "name": "stdout",
     "output_type": "stream",
     "text": [
      "   score  percent\n",
      "0      1      1.0\n",
      "1      2      0.2\n",
      "2      3      0.0\n",
      "3      4      3.0\n",
      "4      5      7.0\n",
      "5      6      8.0\n",
      "6      7     20.0\n",
      "7      8     32.0\n",
      "8      9     16.4\n",
      "9     10     12.0\n"
     ]
    }
   ],
   "source": [
    "## poll results as dictionary\n",
    "poll = {\n",
    "    \"score\": np.arange(1, 11, 1),\n",
    "    \"percent\": [1, 0.2, 0, 3, 7, 8, 20, 32, 16.4, 12],\n",
    "}\n",
    "\n",
    "## convert to pandas\n",
    "poll = pd.DataFrame(poll)\n",
    "print(poll)"
   ]
  },
  {
   "cell_type": "markdown",
   "id": "907193e5-7249-48ed-85bd-3af5a7553256",
   "metadata": {
    "editable": true,
    "slideshow": {
     "slide_type": ""
    },
    "tags": []
   },
   "source": [
    "#### 1.1. Calculate the mean and Plotting\n",
    "\n",
    "Plot the data as a bar plot and calculate the mean of the survey results. Do you notice anything unusual about the data and the statistical parameters?\n",
    "Reconstruct the data and calculate the mean!\n"
   ]
  },
  {
   "cell_type": "code",
   "execution_count": null,
   "id": "3ccaf6af-ca26-4071-b193-ce5e0d24f5e1",
   "metadata": {},
   "outputs": [],
   "source": []
  },
  {
   "cell_type": "markdown",
   "id": "248a8600-dc0d-47e2-bb2b-9be7c76607ae",
   "metadata": {
    "jp-MarkdownHeadingCollapsed": true
   },
   "source": [
    "##### solution"
   ]
  },
  {
   "cell_type": "code",
   "execution_count": 4,
   "id": "8507502f-5bf8-4be6-b021-d921ace29c2d",
   "metadata": {},
   "outputs": [
    {
     "data": {
      "text/plain": [
       "7.5984251968503935"
      ]
     },
     "execution_count": 4,
     "metadata": {},
     "output_type": "execute_result"
    }
   ],
   "source": [
    "## reconstructing the data\n",
    "n = 254\n",
    "absolute_votes = round(\n",
    "    poll.percent / 100 * n\n",
    ")  # convert percentage to abosulte numbers and round to have full people --> induces uncertainty\n",
    "\n",
    "## no a small loop\n",
    "poll_raw = []\n",
    "for x, c in zip(poll.score, absolute_votes):\n",
    "    interim = np.repeat(x, c)\n",
    "    poll_raw.extend(interim)\n",
    "poll_raw = np.array(poll_raw)\n",
    "\n",
    "# get the mean\n",
    "\n",
    "mean = np.mean(poll_raw)\n",
    "mean"
   ]
  },
  {
   "cell_type": "markdown",
   "id": "1b4d48de-aa13-45cc-bc92-ff0349602376",
   "metadata": {},
   "source": [
    "We have  a second option here to calculate the mean: \n",
    "\n",
    "1.  The weighted mean (since we are dealing with percentage data here).\n",
    "$$ \n",
    "\\bar x_w = \\frac{\\sum_{i=1}^n w_ix_i\n",
    "}{\\sum_{i=1}^n w_i}\n",
    "$$\n",
    "\n",
    "wi = weights (percentages) , xi = scores"
   ]
  },
  {
   "cell_type": "code",
   "execution_count": 5,
   "id": "d3bfdc45-c860-4f68-89cb-ae2f65e60e17",
   "metadata": {},
   "outputs": [
    {
     "data": {
      "text/plain": [
       "7.630522088353414"
      ]
     },
     "execution_count": 5,
     "metadata": {},
     "output_type": "execute_result"
    }
   ],
   "source": [
    "weighted_mean = sum(poll[\"score\"] * poll[\"percent\"]) / sum(poll[\"percent\"])\n",
    "weighted_mean\n",
    "\n",
    "## is slightly different because of our prior rounding --> but very similar"
   ]
  },
  {
   "cell_type": "code",
   "execution_count": 6,
   "id": "f4436295-5073-40c3-9579-afbb01c1b81b",
   "metadata": {},
   "outputs": [
    {
     "data": {
      "image/png": "[encoded data removed]",
      "text/plain": [
       "<Figure size 640x480 with 1 Axes>"
      ]
     },
     "metadata": {},
     "output_type": "display_data"
    }
   ],
   "source": [
    "plt.bar(poll.score, poll.percent, color=\"green\", edgecolor=\"black\")\n",
    "plt.axvline(mean, color=\"red\")  ## add the mean to the plot\n",
    "plt.show()"
   ]
  },
  {
   "cell_type": "markdown",
   "id": "d6b2602f-7276-4bad-b47c-467b6501da0b",
   "metadata": {},
   "source": [
    "Have you noticed it already? Lets have a closer look, since the figure contains a lot of information:\n",
    "\n",
    "1. The absolute majority voted on the upper part of the scale\n",
    "2. Only 3 individual voted “not important at all” (0 or 1)\n",
    "3. Nearly one third voted for the third highest value (8)\n",
    "4. 60% voted for levels ≥8\n",
    "5. A “Score” reports a value of ~7.6 which is below 8 !!\n",
    "\n",
    "**Why is the mean as measure of central tendency smaller than the values of 60% of the voters?**\n",
    "\n",
    "> We can exclude several phenomena for this weird poll outcome as shown [here](https://www.geo.fu-berlin.de/en/v/soga-r/Advances-statistics/Feature-scales/real_world_challenges/index.html)\n",
    "> \n",
    "> What is the reason?"
   ]
  },
  {
   "cell_type": "markdown",
   "id": "47dcef83-4be3-4028-9869-41cef6877acf",
   "metadata": {
    "editable": true,
    "slideshow": {
     "slide_type": ""
    },
    "tags": []
   },
   "source": [
    "#### 1.2. Noticing the bounds and resolving them \n",
    "\n",
    "Calcuting the arithmetic mean seems to be unsufficient here, but why? Lets think about the margins the people were allowed to vote in between. What the upper and the lower bound ?\n",
    "\n",
    "Ok Ok, may be a bit trivial here, but: \n",
    "\n",
    "Choosing one number is related to two information:\n",
    "\n",
    "* the distance to the lower margin and (0)\n",
    "* the distance to the upper margin! (10)\n",
    "\n",
    "Both distances are sum up to the width of the interval. Hereby, neither the margins themselves nor the width of the interval are important. Only the amount of possible eligible numbers influences the resolution of the measure.\n",
    "\n",
    "Thus, any number reflects a relative measure towards the margins and can therefore be transformed to a standard interval as [0,1] or [0,100%].\n",
    "\n",
    "However, for a meaningful examination of the constraint values, we should focus on the relation of both equal important measures, e.g. for [0,1].\n",
    "\n",
    "In our case, we applay logistic transformation resp. logit, as we already saw in the seminar (sea ice example):\n",
    "\n",
    "$$\n",
    "x\\to x'=log\\left(\n",
    "\\frac{x}{1-x}\\right)$$\n",
    "\n",
    "The back transformation is the “logistic” function resp. inverse logit:\n",
    "$$\n",
    "x'\n",
    "\\to x=\\frac{e^{x'}}{1+e^{x'}}$$\n",
    "\n",
    "\n",
    "\n",
    "Nice, we just follow our recipe then! Apply the transformation to our poll data!"
   ]
  },
  {
   "cell_type": "markdown",
   "id": "15ad9f20-5cb4-43f9-acd6-a8824ed2014f",
   "metadata": {
    "editable": true,
    "slideshow": {
     "slide_type": ""
    },
    "tags": []
   },
   "source": [
    "##### 1.2.1. Min-Max-Scaling\n",
    "\n",
    "But before we start we have to enlarge our interval by a small constant c to avoid zeros when the original margin has been voted.\n",
    "Set a small constant c for min-max-Transformation into the simplex:\n",
    "\n",
    "\n",
    "The min-max scaling\n",
    "\n",
    "$$x'=\\frac{x-x_{min}}{x_{max}-x_{min}}$$\n",
    "\n",
    "\n",
    "transforms the data into the range $[0,1]$. We want to avoid getting values with 0, because in the second step we need the logarithm of the values. Therefore, we use slightly larger boundary values $x_{min}-1$ and $x_{max}+1$. Thus\n",
    "\n",
    "$$x'=\\frac{x-x_{min}+1}{x_{max}-x_{min}+2\\, .}$$\n",
    "\n"
   ]
  },
  {
   "cell_type": "code",
   "execution_count": null,
   "id": "a02335bc-ebca-4bef-8b0a-84f2e8ea0d12",
   "metadata": {},
   "outputs": [],
   "source": []
  },
  {
   "cell_type": "markdown",
   "id": "3be7cf49-3f7d-470b-87f2-b11a5956e93b",
   "metadata": {
    "jp-MarkdownHeadingCollapsed": true
   },
   "source": [
    "##### solution"
   ]
  },
  {
   "cell_type": "code",
   "execution_count": 7,
   "id": "ea41b091-ef77-4b5c-b1cd-7dac367dec32",
   "metadata": {},
   "outputs": [],
   "source": [
    "# set a small constant c to avoid zeros:\n",
    "c = 0.01\n",
    "# min-max-transformation\n",
    "min_max_poll = (poll_raw - (1 - c)) / (10 - 1 + 2 * c)"
   ]
  },
  {
   "cell_type": "markdown",
   "id": "f57edf63-8963-40bf-83bb-31a32cc98370",
   "metadata": {
    "editable": true,
    "slideshow": {
     "slide_type": ""
    },
    "tags": []
   },
   "source": [
    "##### 1.2.2. Perform a logistic transformation on x′∈]0,1[ℝ\n",
    "\n",
    "$$\n",
    "x\\to x'=log\\left(\n",
    "\\frac{x}{1-x}\\right)$$\n",
    "\n",
    "Perform a logistic transformation on x′∈]0,1[ℝ\n",
    "\n",
    "Plot the data again as histogram, how does the distribution look now?\n",
    "\n",
    "Then we can calculate the desired parameters agaiin (e.g., mean, median ...)!"
   ]
  },
  {
   "cell_type": "code",
   "execution_count": null,
   "id": "a3605b54-4f08-4e00-a4b8-3c143b8f98a1",
   "metadata": {},
   "outputs": [],
   "source": []
  },
  {
   "cell_type": "markdown",
   "id": "0746d65b-478c-4c26-9bad-9926d5dc6cdf",
   "metadata": {
    "jp-MarkdownHeadingCollapsed": true
   },
   "source": [
    "##### solution"
   ]
  },
  {
   "cell_type": "code",
   "execution_count": 8,
   "id": "a7135ad5-4732-479e-8f3f-4bef0d3455aa",
   "metadata": {},
   "outputs": [],
   "source": [
    "# logistic transformation\n",
    "poll_log = np.log(min_max_poll / (1 - min_max_poll))"
   ]
  },
  {
   "cell_type": "code",
   "execution_count": 9,
   "id": "0e709672-2815-4f41-b7f5-3fda18c194ae",
   "metadata": {},
   "outputs": [
    {
     "data": {
      "image/png": "[encoded data removed]",
      "text/plain": [
       "<Figure size 640x480 with 1 Axes>"
      ]
     },
     "metadata": {},
     "output_type": "display_data"
    }
   ],
   "source": [
    "## lets plot again\n",
    "plt.hist(poll_log)\n",
    "plt.show()"
   ]
  },
  {
   "cell_type": "markdown",
   "id": "514463d4-3843-44dc-8642-47b8df1c0839",
   "metadata": {},
   "source": [
    "Looks alot less skewed!\n",
    "\n",
    "lets calculate the mean again:"
   ]
  },
  {
   "cell_type": "code",
   "execution_count": 10,
   "id": "0d89b36a-e509-4708-a027-38a3350faa39",
   "metadata": {},
   "outputs": [],
   "source": [
    "m_log = np.mean(poll_log)\n",
    "med_log = np.median(poll_log)\n",
    "\n",
    "## and in addition the confidence bounds, this is just an extra here !\n",
    "CI_low = m_log - np.std(poll_log) / np.sqrt(len(poll_log))\n",
    "CI_up = m_log + np.std(poll_log) / np.sqrt(len(poll_log))"
   ]
  },
  {
   "cell_type": "markdown",
   "id": "add4149c-6bba-46de-8fa3-477f03ddd0bd",
   "metadata": {
    "editable": true,
    "slideshow": {
     "slide_type": ""
    },
    "tags": []
   },
   "source": [
    "#### 1.3. Backtransform\n",
    "\n",
    "Transform these paramters back by applying exponential function. Have we resolved this issue now?"
   ]
  },
  {
   "cell_type": "markdown",
   "id": "dbc9bedf-4f2f-4157-b64c-467d942cdaac",
   "metadata": {
    "jp-MarkdownHeadingCollapsed": true
   },
   "source": [
    "##### solution"
   ]
  },
  {
   "cell_type": "code",
   "execution_count": 11,
   "id": "bb810f49-2971-4c94-ab64-eca3ad758af1",
   "metadata": {},
   "outputs": [
    {
     "name": "stdout",
     "output_type": "stream",
     "text": [
      "corrected mean = {8.46} corrected median= {8.0} confidence interval=[ {8.28} , {8.63} ]\n"
     ]
    }
   ],
   "source": [
    "corrected_mean = (1 - c) + (9 + 2 * c) * np.exp(m_log) / (1 + np.exp(m_log))\n",
    "corrected_median = (1 - c) + (9 + 2 * c) * np.exp(med_log) / (1 + np.exp(med_log))\n",
    "corrected_CI_low = (1 - c) + (9 + 2 * c) * np.exp(CI_low) / (1 + np.exp(CI_low))\n",
    "corrected_CI_up = (1 - c) + (9 + 2 * c) * np.exp(CI_up) / (1 + np.exp(CI_up))\n",
    "\n",
    "\n",
    "print(\n",
    "    f\"corrected mean =\",\n",
    "    {round(corrected_mean, 2)},\n",
    "    \"corrected median=\",\n",
    "    {round(corrected_median, 2)},\n",
    "    \"confidence interval=[\",\n",
    "    {round(corrected_CI_low, 2)},\n",
    "    \",\",\n",
    "    {round(corrected_CI_up, 2)},\n",
    "    \"]\",\n",
    ")"
   ]
  },
  {
   "cell_type": "markdown",
   "id": "59991fde-561e-4b00-9058-22c3249a37d7",
   "metadata": {},
   "source": [
    "We not only get a reasonable mean, the confidence bounds are asymmetric as it should be for skewed distributions.\n",
    "Furthermore, these transformations have not influenced the median! (As it should be!)\n",
    "\n"
   ]
  },
  {
   "cell_type": "code",
   "execution_count": null,
   "id": "b1b6a85f-2370-4272-85ce-5afb5fd23363",
   "metadata": {},
   "outputs": [],
   "source": []
  },
  {
   "cell_type": "markdown",
   "id": "78f7cd79-2ad8-40e1-8e75-6b18d480a5db",
   "metadata": {
    "editable": true,
    "slideshow": {
     "slide_type": ""
    },
    "tags": []
   },
   "source": [
    "### 2. Working with real Data \n",
    "\n",
    "#### DWD data\n",
    "\n",
    "We begin by loading the meteorological data set from the [Deutscher Wetterdienst DWD (German Weather Service) Open Climate Data Center ](https://opendata.dwd.de/climate_environment/CDC/observations_germany/climate/monthly/kl/historical/). You find a documentation of this data in [german](https://opendata.dwd.de/climate_environment/CDC/observations_germany/climate/monthly/kl/historical/BESCHREIBUNG_obsgermany_climate_monthly_kl_historical_de.pdf) and  [english](https://opendata.dwd.de/climate_environment/CDC/observations_germany/climate/monthly/kl/historical/DESCRIPTION_obsgermany_climate_monthly_kl_historical_en.pdf).\n",
    "\n",
    "We will reuse this data from the prior exercise."
   ]
  },
  {
   "cell_type": "code",
   "execution_count": 12,
   "id": "33d81ffb-2b22-45b4-b7f8-20ec096e760b",
   "metadata": {},
   "outputs": [
    {
     "data": {
      "text/html": [
       "<div>\n",
       "<style scoped>\n",
       "    .dataframe tbody tr th:only-of-type {\n",
       "        vertical-align: middle;\n",
       "    }\n",
       "\n",
       "    .dataframe tbody tr th {\n",
       "        vertical-align: top;\n",
       "    }\n",
       "\n",
       "    .dataframe thead th {\n",
       "        text-align: right;\n",
       "    }\n",
       "</style>\n",
       "<table border=\"1\" class=\"dataframe\">\n",
       "  <thead>\n",
       "    <tr style=\"text-align: right;\">\n",
       "      <th></th>\n",
       "      <th>STATIONS_ID</th>\n",
       "      <th>MESS_DATUM_BEGINN</th>\n",
       "      <th>MESS_DATUM_ENDE</th>\n",
       "      <th>QN_4</th>\n",
       "      <th>MO_N</th>\n",
       "      <th>MO_TT</th>\n",
       "      <th>MO_TX</th>\n",
       "      <th>MO_TN</th>\n",
       "      <th>MO_FK</th>\n",
       "      <th>MX_TX</th>\n",
       "      <th>MX_FX</th>\n",
       "      <th>MX_TN</th>\n",
       "      <th>MO_SD_S</th>\n",
       "      <th>QN_6</th>\n",
       "      <th>MO_RR</th>\n",
       "      <th>MX_RS</th>\n",
       "      <th>eor</th>\n",
       "    </tr>\n",
       "  </thead>\n",
       "  <tbody>\n",
       "    <tr>\n",
       "      <th>0</th>\n",
       "      <td>403</td>\n",
       "      <td>17190101</td>\n",
       "      <td>17190131</td>\n",
       "      <td>5</td>\n",
       "      <td>-999.0</td>\n",
       "      <td>2.8</td>\n",
       "      <td>-999.0</td>\n",
       "      <td>-999.0</td>\n",
       "      <td>-999.0</td>\n",
       "      <td>-999.0</td>\n",
       "      <td>-999.0</td>\n",
       "      <td>-999.0</td>\n",
       "      <td>-999.0</td>\n",
       "      <td>-999</td>\n",
       "      <td>-999.0</td>\n",
       "      <td>-999.0</td>\n",
       "      <td>eor</td>\n",
       "    </tr>\n",
       "    <tr>\n",
       "      <th>1</th>\n",
       "      <td>403</td>\n",
       "      <td>17190201</td>\n",
       "      <td>17190228</td>\n",
       "      <td>5</td>\n",
       "      <td>-999.0</td>\n",
       "      <td>1.1</td>\n",
       "      <td>-999.0</td>\n",
       "      <td>-999.0</td>\n",
       "      <td>-999.0</td>\n",
       "      <td>-999.0</td>\n",
       "      <td>-999.0</td>\n",
       "      <td>-999.0</td>\n",
       "      <td>-999.0</td>\n",
       "      <td>-999</td>\n",
       "      <td>-999.0</td>\n",
       "      <td>-999.0</td>\n",
       "      <td>eor</td>\n",
       "    </tr>\n",
       "    <tr>\n",
       "      <th>2</th>\n",
       "      <td>403</td>\n",
       "      <td>17190301</td>\n",
       "      <td>17190331</td>\n",
       "      <td>5</td>\n",
       "      <td>-999.0</td>\n",
       "      <td>5.2</td>\n",
       "      <td>-999.0</td>\n",
       "      <td>-999.0</td>\n",
       "      <td>-999.0</td>\n",
       "      <td>-999.0</td>\n",
       "      <td>-999.0</td>\n",
       "      <td>-999.0</td>\n",
       "      <td>-999.0</td>\n",
       "      <td>-999</td>\n",
       "      <td>-999.0</td>\n",
       "      <td>-999.0</td>\n",
       "      <td>eor</td>\n",
       "    </tr>\n",
       "    <tr>\n",
       "      <th>3</th>\n",
       "      <td>403</td>\n",
       "      <td>17190401</td>\n",
       "      <td>17190430</td>\n",
       "      <td>5</td>\n",
       "      <td>-999.0</td>\n",
       "      <td>9.0</td>\n",
       "      <td>-999.0</td>\n",
       "      <td>-999.0</td>\n",
       "      <td>-999.0</td>\n",
       "      <td>-999.0</td>\n",
       "      <td>-999.0</td>\n",
       "      <td>-999.0</td>\n",
       "      <td>-999.0</td>\n",
       "      <td>-999</td>\n",
       "      <td>-999.0</td>\n",
       "      <td>-999.0</td>\n",
       "      <td>eor</td>\n",
       "    </tr>\n",
       "    <tr>\n",
       "      <th>4</th>\n",
       "      <td>403</td>\n",
       "      <td>17190501</td>\n",
       "      <td>17190531</td>\n",
       "      <td>5</td>\n",
       "      <td>-999.0</td>\n",
       "      <td>15.1</td>\n",
       "      <td>-999.0</td>\n",
       "      <td>-999.0</td>\n",
       "      <td>-999.0</td>\n",
       "      <td>-999.0</td>\n",
       "      <td>-999.0</td>\n",
       "      <td>-999.0</td>\n",
       "      <td>-999.0</td>\n",
       "      <td>-999</td>\n",
       "      <td>-999.0</td>\n",
       "      <td>-999.0</td>\n",
       "      <td>eor</td>\n",
       "    </tr>\n",
       "    <tr>\n",
       "      <th>5</th>\n",
       "      <td>403</td>\n",
       "      <td>17190601</td>\n",
       "      <td>17190630</td>\n",
       "      <td>5</td>\n",
       "      <td>-999.0</td>\n",
       "      <td>19.0</td>\n",
       "      <td>-999.0</td>\n",
       "      <td>-999.0</td>\n",
       "      <td>-999.0</td>\n",
       "      <td>-999.0</td>\n",
       "      <td>-999.0</td>\n",
       "      <td>-999.0</td>\n",
       "      <td>-999.0</td>\n",
       "      <td>-999</td>\n",
       "      <td>-999.0</td>\n",
       "      <td>-999.0</td>\n",
       "      <td>eor</td>\n",
       "    </tr>\n",
       "    <tr>\n",
       "      <th>6</th>\n",
       "      <td>403</td>\n",
       "      <td>17190701</td>\n",
       "      <td>17190731</td>\n",
       "      <td>5</td>\n",
       "      <td>-999.0</td>\n",
       "      <td>21.4</td>\n",
       "      <td>-999.0</td>\n",
       "      <td>-999.0</td>\n",
       "      <td>-999.0</td>\n",
       "      <td>-999.0</td>\n",
       "      <td>-999.0</td>\n",
       "      <td>-999.0</td>\n",
       "      <td>-999.0</td>\n",
       "      <td>-999</td>\n",
       "      <td>-999.0</td>\n",
       "      <td>-999.0</td>\n",
       "      <td>eor</td>\n",
       "    </tr>\n",
       "    <tr>\n",
       "      <th>7</th>\n",
       "      <td>403</td>\n",
       "      <td>17190801</td>\n",
       "      <td>17190831</td>\n",
       "      <td>5</td>\n",
       "      <td>-999.0</td>\n",
       "      <td>18.8</td>\n",
       "      <td>-999.0</td>\n",
       "      <td>-999.0</td>\n",
       "      <td>-999.0</td>\n",
       "      <td>-999.0</td>\n",
       "      <td>-999.0</td>\n",
       "      <td>-999.0</td>\n",
       "      <td>-999.0</td>\n",
       "      <td>-999</td>\n",
       "      <td>-999.0</td>\n",
       "      <td>-999.0</td>\n",
       "      <td>eor</td>\n",
       "    </tr>\n",
       "    <tr>\n",
       "      <th>8</th>\n",
       "      <td>403</td>\n",
       "      <td>17190901</td>\n",
       "      <td>17190930</td>\n",
       "      <td>5</td>\n",
       "      <td>-999.0</td>\n",
       "      <td>13.9</td>\n",
       "      <td>-999.0</td>\n",
       "      <td>-999.0</td>\n",
       "      <td>-999.0</td>\n",
       "      <td>-999.0</td>\n",
       "      <td>-999.0</td>\n",
       "      <td>-999.0</td>\n",
       "      <td>-999.0</td>\n",
       "      <td>-999</td>\n",
       "      <td>-999.0</td>\n",
       "      <td>-999.0</td>\n",
       "      <td>eor</td>\n",
       "    </tr>\n",
       "    <tr>\n",
       "      <th>9</th>\n",
       "      <td>403</td>\n",
       "      <td>17191001</td>\n",
       "      <td>17191031</td>\n",
       "      <td>5</td>\n",
       "      <td>-999.0</td>\n",
       "      <td>9.0</td>\n",
       "      <td>-999.0</td>\n",
       "      <td>-999.0</td>\n",
       "      <td>-999.0</td>\n",
       "      <td>-999.0</td>\n",
       "      <td>-999.0</td>\n",
       "      <td>-999.0</td>\n",
       "      <td>-999.0</td>\n",
       "      <td>-999</td>\n",
       "      <td>-999.0</td>\n",
       "      <td>-999.0</td>\n",
       "      <td>eor</td>\n",
       "    </tr>\n",
       "  </tbody>\n",
       "</table>\n",
       "</div>"
      ],
      "text/plain": [
       "   STATIONS_ID  MESS_DATUM_BEGINN  MESS_DATUM_ENDE  QN_4   MO_N  MO_TT  MO_TX  \\\n",
       "0          403           17190101         17190131     5 -999.0    2.8 -999.0   \n",
       "1          403           17190201         17190228     5 -999.0    1.1 -999.0   \n",
       "2          403           17190301         17190331     5 -999.0    5.2 -999.0   \n",
       "3          403           17190401         17190430     5 -999.0    9.0 -999.0   \n",
       "4          403           17190501         17190531     5 -999.0   15.1 -999.0   \n",
       "5          403           17190601         17190630     5 -999.0   19.0 -999.0   \n",
       "6          403           17190701         17190731     5 -999.0   21.4 -999.0   \n",
       "7          403           17190801         17190831     5 -999.0   18.8 -999.0   \n",
       "8          403           17190901         17190930     5 -999.0   13.9 -999.0   \n",
       "9          403           17191001         17191031     5 -999.0    9.0 -999.0   \n",
       "\n",
       "   MO_TN  MO_FK  MX_TX  MX_FX  MX_TN  MO_SD_S  QN_6  MO_RR  MX_RS  eor  \n",
       "0 -999.0 -999.0 -999.0 -999.0 -999.0   -999.0  -999 -999.0 -999.0  eor  \n",
       "1 -999.0 -999.0 -999.0 -999.0 -999.0   -999.0  -999 -999.0 -999.0  eor  \n",
       "2 -999.0 -999.0 -999.0 -999.0 -999.0   -999.0  -999 -999.0 -999.0  eor  \n",
       "3 -999.0 -999.0 -999.0 -999.0 -999.0   -999.0  -999 -999.0 -999.0  eor  \n",
       "4 -999.0 -999.0 -999.0 -999.0 -999.0   -999.0  -999 -999.0 -999.0  eor  \n",
       "5 -999.0 -999.0 -999.0 -999.0 -999.0   -999.0  -999 -999.0 -999.0  eor  \n",
       "6 -999.0 -999.0 -999.0 -999.0 -999.0   -999.0  -999 -999.0 -999.0  eor  \n",
       "7 -999.0 -999.0 -999.0 -999.0 -999.0   -999.0  -999 -999.0 -999.0  eor  \n",
       "8 -999.0 -999.0 -999.0 -999.0 -999.0   -999.0  -999 -999.0 -999.0  eor  \n",
       "9 -999.0 -999.0 -999.0 -999.0 -999.0   -999.0  -999 -999.0 -999.0  eor  "
      ]
     },
     "execution_count": 12,
     "metadata": {},
     "output_type": "execute_result"
    }
   ],
   "source": [
    "dahlem_clim = pd.read_csv(\n",
    "    \"https://userpage.fu-berlin.de/soga/data/raw-data/NS_TS_Dahlem.txt\", sep=\";\"\n",
    ")\n",
    "dahlem_clim.head(10)"
   ]
  },
  {
   "cell_type": "markdown",
   "id": "67d45bb2-046d-4d9a-92b8-7be7d77c3e46",
   "metadata": {
    "editable": true,
    "slideshow": {
     "slide_type": ""
    },
    "tags": []
   },
   "source": [
    "#### 2.1. Subsetting the data frame\n",
    "First, we want to subset the entire dataset. \n",
    "> We only want to keep data from 1961 to today. Subset the entire dataset (not only 1 column as we saw in the seminar)!\n",
    "> \n",
    "> How many rows has the dataframe now?"
   ]
  },
  {
   "cell_type": "code",
   "execution_count": null,
   "id": "3ac681d6-e8d3-4bd0-acbd-62f734b021bc",
   "metadata": {},
   "outputs": [],
   "source": []
  },
  {
   "cell_type": "markdown",
   "id": "27ffad97-5baa-4636-a015-5cc5e28bcffd",
   "metadata": {
    "jp-MarkdownHeadingCollapsed": true
   },
   "source": [
    "##### solution"
   ]
  },
  {
   "cell_type": "code",
   "execution_count": 13,
   "id": "6f157172-32b3-454b-98ee-1c73553af4a8",
   "metadata": {},
   "outputs": [
    {
     "data": {
      "text/html": [
       "<div>\n",
       "<style scoped>\n",
       "    .dataframe tbody tr th:only-of-type {\n",
       "        vertical-align: middle;\n",
       "    }\n",
       "\n",
       "    .dataframe tbody tr th {\n",
       "        vertical-align: top;\n",
       "    }\n",
       "\n",
       "    .dataframe thead th {\n",
       "        text-align: right;\n",
       "    }\n",
       "</style>\n",
       "<table border=\"1\" class=\"dataframe\">\n",
       "  <thead>\n",
       "    <tr style=\"text-align: right;\">\n",
       "      <th></th>\n",
       "      <th>STATIONS_ID</th>\n",
       "      <th>MESS_DATUM_BEGINN</th>\n",
       "      <th>MESS_DATUM_ENDE</th>\n",
       "      <th>QN_4</th>\n",
       "      <th>MO_N</th>\n",
       "      <th>MO_TT</th>\n",
       "      <th>MO_TX</th>\n",
       "      <th>MO_TN</th>\n",
       "      <th>MO_FK</th>\n",
       "      <th>MX_TX</th>\n",
       "      <th>MX_FX</th>\n",
       "      <th>MX_TN</th>\n",
       "      <th>MO_SD_S</th>\n",
       "      <th>QN_6</th>\n",
       "      <th>MO_RR</th>\n",
       "      <th>MX_RS</th>\n",
       "      <th>eor</th>\n",
       "    </tr>\n",
       "  </thead>\n",
       "  <tbody>\n",
       "    <tr>\n",
       "      <th>2778</th>\n",
       "      <td>403</td>\n",
       "      <td>19610101</td>\n",
       "      <td>19610131</td>\n",
       "      <td>5</td>\n",
       "      <td>5.01</td>\n",
       "      <td>-1.02</td>\n",
       "      <td>1.31</td>\n",
       "      <td>-3.88</td>\n",
       "      <td>2.63</td>\n",
       "      <td>7.8</td>\n",
       "      <td>-999.0</td>\n",
       "      <td>-16.2</td>\n",
       "      <td>71.5</td>\n",
       "      <td>5</td>\n",
       "      <td>50.4</td>\n",
       "      <td>7.4</td>\n",
       "      <td>eor</td>\n",
       "    </tr>\n",
       "    <tr>\n",
       "      <th>2779</th>\n",
       "      <td>403</td>\n",
       "      <td>19610201</td>\n",
       "      <td>19610228</td>\n",
       "      <td>5</td>\n",
       "      <td>6.12</td>\n",
       "      <td>4.66</td>\n",
       "      <td>7.98</td>\n",
       "      <td>1.56</td>\n",
       "      <td>2.56</td>\n",
       "      <td>15.5</td>\n",
       "      <td>-999.0</td>\n",
       "      <td>-4.7</td>\n",
       "      <td>61.4</td>\n",
       "      <td>5</td>\n",
       "      <td>41.9</td>\n",
       "      <td>7.6</td>\n",
       "      <td>eor</td>\n",
       "    </tr>\n",
       "    <tr>\n",
       "      <th>2780</th>\n",
       "      <td>403</td>\n",
       "      <td>19610301</td>\n",
       "      <td>19610331</td>\n",
       "      <td>5</td>\n",
       "      <td>5.58</td>\n",
       "      <td>6.79</td>\n",
       "      <td>10.79</td>\n",
       "      <td>3.15</td>\n",
       "      <td>3.02</td>\n",
       "      <td>19.4</td>\n",
       "      <td>-999.0</td>\n",
       "      <td>-3.7</td>\n",
       "      <td>124.1</td>\n",
       "      <td>5</td>\n",
       "      <td>52.9</td>\n",
       "      <td>18.6</td>\n",
       "      <td>eor</td>\n",
       "    </tr>\n",
       "    <tr>\n",
       "      <th>2781</th>\n",
       "      <td>403</td>\n",
       "      <td>19610401</td>\n",
       "      <td>19610430</td>\n",
       "      <td>5</td>\n",
       "      <td>4.88</td>\n",
       "      <td>11.38</td>\n",
       "      <td>16.61</td>\n",
       "      <td>6.24</td>\n",
       "      <td>2.40</td>\n",
       "      <td>26.1</td>\n",
       "      <td>-999.0</td>\n",
       "      <td>-0.9</td>\n",
       "      <td>192.7</td>\n",
       "      <td>5</td>\n",
       "      <td>55.7</td>\n",
       "      <td>13.3</td>\n",
       "      <td>eor</td>\n",
       "    </tr>\n",
       "    <tr>\n",
       "      <th>2782</th>\n",
       "      <td>403</td>\n",
       "      <td>19610501</td>\n",
       "      <td>19610531</td>\n",
       "      <td>5</td>\n",
       "      <td>6.11</td>\n",
       "      <td>11.23</td>\n",
       "      <td>15.54</td>\n",
       "      <td>7.18</td>\n",
       "      <td>2.29</td>\n",
       "      <td>23.8</td>\n",
       "      <td>-999.0</td>\n",
       "      <td>3.0</td>\n",
       "      <td>132.8</td>\n",
       "      <td>5</td>\n",
       "      <td>120.1</td>\n",
       "      <td>26.7</td>\n",
       "      <td>eor</td>\n",
       "    </tr>\n",
       "    <tr>\n",
       "      <th>2783</th>\n",
       "      <td>403</td>\n",
       "      <td>19610601</td>\n",
       "      <td>19610630</td>\n",
       "      <td>5</td>\n",
       "      <td>4.39</td>\n",
       "      <td>17.73</td>\n",
       "      <td>23.18</td>\n",
       "      <td>11.47</td>\n",
       "      <td>2.12</td>\n",
       "      <td>30.4</td>\n",
       "      <td>-999.0</td>\n",
       "      <td>5.5</td>\n",
       "      <td>273.4</td>\n",
       "      <td>5</td>\n",
       "      <td>48.3</td>\n",
       "      <td>13.4</td>\n",
       "      <td>eor</td>\n",
       "    </tr>\n",
       "    <tr>\n",
       "      <th>2784</th>\n",
       "      <td>403</td>\n",
       "      <td>19610701</td>\n",
       "      <td>19610731</td>\n",
       "      <td>5</td>\n",
       "      <td>5.79</td>\n",
       "      <td>16.16</td>\n",
       "      <td>20.88</td>\n",
       "      <td>12.14</td>\n",
       "      <td>2.49</td>\n",
       "      <td>33.0</td>\n",
       "      <td>-999.0</td>\n",
       "      <td>8.8</td>\n",
       "      <td>143.2</td>\n",
       "      <td>5</td>\n",
       "      <td>72.6</td>\n",
       "      <td>13.2</td>\n",
       "      <td>eor</td>\n",
       "    </tr>\n",
       "    <tr>\n",
       "      <th>2785</th>\n",
       "      <td>403</td>\n",
       "      <td>19610801</td>\n",
       "      <td>19610831</td>\n",
       "      <td>5</td>\n",
       "      <td>5.34</td>\n",
       "      <td>15.97</td>\n",
       "      <td>21.20</td>\n",
       "      <td>11.40</td>\n",
       "      <td>2.40</td>\n",
       "      <td>28.5</td>\n",
       "      <td>-999.0</td>\n",
       "      <td>8.0</td>\n",
       "      <td>169.7</td>\n",
       "      <td>5</td>\n",
       "      <td>43.0</td>\n",
       "      <td>10.3</td>\n",
       "      <td>eor</td>\n",
       "    </tr>\n",
       "    <tr>\n",
       "      <th>2786</th>\n",
       "      <td>403</td>\n",
       "      <td>19610901</td>\n",
       "      <td>19610930</td>\n",
       "      <td>5</td>\n",
       "      <td>3.48</td>\n",
       "      <td>15.95</td>\n",
       "      <td>22.00</td>\n",
       "      <td>11.06</td>\n",
       "      <td>2.11</td>\n",
       "      <td>30.0</td>\n",
       "      <td>-999.0</td>\n",
       "      <td>4.4</td>\n",
       "      <td>201.7</td>\n",
       "      <td>5</td>\n",
       "      <td>35.5</td>\n",
       "      <td>12.1</td>\n",
       "      <td>eor</td>\n",
       "    </tr>\n",
       "    <tr>\n",
       "      <th>2787</th>\n",
       "      <td>403</td>\n",
       "      <td>19611001</td>\n",
       "      <td>19611031</td>\n",
       "      <td>5</td>\n",
       "      <td>4.77</td>\n",
       "      <td>11.10</td>\n",
       "      <td>15.54</td>\n",
       "      <td>7.26</td>\n",
       "      <td>2.39</td>\n",
       "      <td>22.3</td>\n",
       "      <td>-999.0</td>\n",
       "      <td>3.3</td>\n",
       "      <td>136.8</td>\n",
       "      <td>5</td>\n",
       "      <td>35.7</td>\n",
       "      <td>16.4</td>\n",
       "      <td>eor</td>\n",
       "    </tr>\n",
       "  </tbody>\n",
       "</table>\n",
       "</div>"
      ],
      "text/plain": [
       "      STATIONS_ID  MESS_DATUM_BEGINN  MESS_DATUM_ENDE  QN_4  MO_N  MO_TT  \\\n",
       "2778          403           19610101         19610131     5  5.01  -1.02   \n",
       "2779          403           19610201         19610228     5  6.12   4.66   \n",
       "2780          403           19610301         19610331     5  5.58   6.79   \n",
       "2781          403           19610401         19610430     5  4.88  11.38   \n",
       "2782          403           19610501         19610531     5  6.11  11.23   \n",
       "2783          403           19610601         19610630     5  4.39  17.73   \n",
       "2784          403           19610701         19610731     5  5.79  16.16   \n",
       "2785          403           19610801         19610831     5  5.34  15.97   \n",
       "2786          403           19610901         19610930     5  3.48  15.95   \n",
       "2787          403           19611001         19611031     5  4.77  11.10   \n",
       "\n",
       "      MO_TX  MO_TN  MO_FK  MX_TX  MX_FX  MX_TN  MO_SD_S  QN_6  MO_RR  MX_RS  \\\n",
       "2778   1.31  -3.88   2.63    7.8 -999.0  -16.2     71.5     5   50.4    7.4   \n",
       "2779   7.98   1.56   2.56   15.5 -999.0   -4.7     61.4     5   41.9    7.6   \n",
       "2780  10.79   3.15   3.02   19.4 -999.0   -3.7    124.1     5   52.9   18.6   \n",
       "2781  16.61   6.24   2.40   26.1 -999.0   -0.9    192.7     5   55.7   13.3   \n",
       "2782  15.54   7.18   2.29   23.8 -999.0    3.0    132.8     5  120.1   26.7   \n",
       "2783  23.18  11.47   2.12   30.4 -999.0    5.5    273.4     5   48.3   13.4   \n",
       "2784  20.88  12.14   2.49   33.0 -999.0    8.8    143.2     5   72.6   13.2   \n",
       "2785  21.20  11.40   2.40   28.5 -999.0    8.0    169.7     5   43.0   10.3   \n",
       "2786  22.00  11.06   2.11   30.0 -999.0    4.4    201.7     5   35.5   12.1   \n",
       "2787  15.54   7.26   2.39   22.3 -999.0    3.3    136.8     5   35.7   16.4   \n",
       "\n",
       "      eor  \n",
       "2778  eor  \n",
       "2779  eor  \n",
       "2780  eor  \n",
       "2781  eor  \n",
       "2782  eor  \n",
       "2783  eor  \n",
       "2784  eor  \n",
       "2785  eor  \n",
       "2786  eor  \n",
       "2787  eor  "
      ]
     },
     "execution_count": 13,
     "metadata": {},
     "output_type": "execute_result"
    }
   ],
   "source": [
    "## you could do e.g.,:\n",
    "dahlem_clim = dahlem_clim.loc[dahlem_clim[\"MESS_DATUM_BEGINN\"] >= 19610101]\n",
    "dahlem_clim.head(10)"
   ]
  },
  {
   "cell_type": "code",
   "execution_count": 14,
   "id": "85117ef3-66ee-404b-8d87-2275245ea498",
   "metadata": {},
   "outputs": [
    {
     "data": {
      "text/plain": [
       "732"
      ]
     },
     "execution_count": 14,
     "metadata": {},
     "output_type": "execute_result"
    }
   ],
   "source": [
    "dahlem_clim.shape[0]  # number of rows"
   ]
  },
  {
   "cell_type": "markdown",
   "id": "33b84586-dbb1-4df4-b181-9a8f0faae7b8",
   "metadata": {
    "editable": true,
    "slideshow": {
     "slide_type": ""
    },
    "tags": []
   },
   "source": [
    "#### 2.2. Checking for Normality\n",
    "We want to work with the precipitation sum per month in mm now. Its written the the `MO_RR` column.\n",
    "Plot the distribution as histogram or density plot and a QQ-plot to visually check for normal distribution (solution the same as the prior exercise). Do mean and standard deviation violate the 3-sigma rule?"
   ]
  },
  {
   "cell_type": "code",
   "execution_count": null,
   "id": "8cd45bd6-ba8c-484a-ab3e-dce2f8ca63aa",
   "metadata": {},
   "outputs": [],
   "source": []
  },
  {
   "cell_type": "markdown",
   "id": "cb099bc7-2e09-42c4-a2b3-7e8b00323d34",
   "metadata": {
    "jp-MarkdownHeadingCollapsed": true
   },
   "source": [
    "##### solution"
   ]
  },
  {
   "cell_type": "code",
   "execution_count": 15,
   "id": "6337f8ff-5ed4-4b92-a584-ff33fae921a4",
   "metadata": {},
   "outputs": [
    {
     "data": {
      "image/png": "[encoded data removed]",
      "text/plain": [
       "<Figure size 1200x500 with 1 Axes>"
      ]
     },
     "metadata": {},
     "output_type": "display_data"
    }
   ],
   "source": [
    "plt.figure(figsize=(12, 5))\n",
    "plt.hist(dahlem_clim.MO_RR, bins=\"sturges\", color=\"lightblue\", edgecolor=\"grey\")\n",
    "\n",
    "plt.show()"
   ]
  },
  {
   "cell_type": "code",
   "execution_count": 16,
   "id": "ce72d7fc-c3a0-4c13-96dd-fd63e04011d8",
   "metadata": {},
   "outputs": [
    {
     "data": {
      "text/plain": [
       "<Figure size 1200x500 with 0 Axes>"
      ]
     },
     "metadata": {},
     "output_type": "display_data"
    },
    {
     "data": {
      "image/png": "[encoded data removed]",
      "text/plain": [
       "<Figure size 640x480 with 1 Axes>"
      ]
     },
     "metadata": {},
     "output_type": "display_data"
    }
   ],
   "source": [
    "import statsmodels.api as sm\n",
    "\n",
    "plt.figure(figsize=(12, 5))\n",
    "sm.qqplot(dahlem_clim.MO_RR, line=\"r\")\n",
    "\n",
    "plt.show()"
   ]
  },
  {
   "cell_type": "markdown",
   "id": "3f62baa6-79cf-45af-b860-4b49a1a6b723",
   "metadata": {},
   "source": [
    "Ok, looks skewed! There seems to be no normal distribution.....and 3-sigma is also not fulfilled:"
   ]
  },
  {
   "cell_type": "code",
   "execution_count": 17,
   "id": "158a87c4-310e-4194-873b-c9e472551fbb",
   "metadata": {},
   "outputs": [
    {
     "data": {
      "text/plain": [
       "(48.77950819672131, 29.232662243364572)"
      ]
     },
     "execution_count": 17,
     "metadata": {},
     "output_type": "execute_result"
    }
   ],
   "source": [
    "np.mean(dahlem_clim.MO_RR), np.std(dahlem_clim.MO_RR)"
   ]
  },
  {
   "cell_type": "code",
   "execution_count": 18,
   "id": "e9204d56-a086-47f5-a743-1868f80ad99c",
   "metadata": {},
   "outputs": [
    {
     "data": {
      "text/plain": [
       "43.150000000000006"
      ]
     },
     "execution_count": 18,
     "metadata": {},
     "output_type": "execute_result"
    }
   ],
   "source": [
    "np.median(dahlem_clim.MO_RR)"
   ]
  },
  {
   "cell_type": "markdown",
   "id": "0abdde28-e4e5-4005-b2a4-7076abe991e4",
   "metadata": {
    "editable": true,
    "slideshow": {
     "slide_type": ""
    },
    "tags": []
   },
   "source": [
    "#### 2.3. Transforming the Data\n",
    "\n",
    "In the prior exercise we saw that the precipitation data is not normally distributed and that calculating the mean and standard deviation violates the 3-sigma rule! Apply the \"recipe\" we saw in the seminar for double bounded scales (same as exercise above):\n",
    "\n",
    "1. scale your variable for min-max and log transform your variable\n",
    "2. Calculate statistics, Plot histogram of log-transformed data (mean and std)\n",
    "3. Backtransform using exp()\n",
    "\n",
    "How about the 3-sigma rule now?"
   ]
  },
  {
   "cell_type": "code",
   "execution_count": null,
   "id": "7528d868-cf85-43ac-b5ec-616d26e5fd1d",
   "metadata": {
    "editable": true,
    "slideshow": {
     "slide_type": ""
    },
    "tags": []
   },
   "outputs": [],
   "source": []
  },
  {
   "cell_type": "markdown",
   "id": "50e8bd90-46e5-49ae-8082-a1483cbc7946",
   "metadata": {},
   "source": [
    "##### solution "
   ]
  },
  {
   "cell_type": "markdown",
   "id": "54588794-4c78-4711-a6c7-477fa730e9b3",
   "metadata": {},
   "source": [
    "1. Min-Max Scaling"
   ]
  },
  {
   "cell_type": "code",
   "execution_count": 19,
   "id": "2f9dd113-371a-46a3-bc61-baf501408c65",
   "metadata": {},
   "outputs": [],
   "source": [
    "dahlem_MO_RR_transfo = (\n",
    "    dahlem_clim.MO_RR.copy()\n",
    ")  # set an equivalent copy to perform the feature scales transformation\n",
    "\n",
    "xmin = dahlem_MO_RR_transfo.min()\n",
    "xmax = dahlem_MO_RR_transfo.max()\n",
    "\n",
    "# transform each column by its indiv. min/max\n",
    "dahlem_MO_RR_transfo = (dahlem_MO_RR_transfo - xmin + 1) / (xmax - xmin + 2)"
   ]
  },
  {
   "cell_type": "markdown",
   "id": "9f8ab1a0-2d42-439a-bf5c-073d7c70a855",
   "metadata": {},
   "source": [
    "2. Perform a logistic transformation on x′∈]0,1[ℝ"
   ]
  },
  {
   "cell_type": "code",
   "execution_count": 20,
   "id": "dbf5a90c-ed47-48f0-8363-0ff75bb2034c",
   "metadata": {},
   "outputs": [],
   "source": [
    "# Perform a logistic transformation on x′∈]0,1[ℝ\n",
    "\n",
    "dahlem_MO_RR_transfo = np.log(dahlem_MO_RR_transfo / (1 - dahlem_MO_RR_transfo))"
   ]
  },
  {
   "cell_type": "markdown",
   "id": "d2b7d69e-ca12-4e5e-8fff-31ec0bd0a944",
   "metadata": {},
   "source": [
    "3. Histogram Plotting"
   ]
  },
  {
   "cell_type": "code",
   "execution_count": 21,
   "id": "5b555ee0-f186-4433-a466-6cd814058953",
   "metadata": {
    "scrolled": true
   },
   "outputs": [
    {
     "data": {
      "image/png": "[encoded data removed]",
      "text/plain": [
       "<Figure size 640x480 with 1 Axes>"
      ]
     },
     "metadata": {},
     "output_type": "display_data"
    }
   ],
   "source": [
    "## lets plot again\n",
    "plt.hist(dahlem_MO_RR_transfo, bins=\"sturges\", color=\"lightblue\", edgecolor=\"grey\")\n",
    "plt.show()"
   ]
  },
  {
   "cell_type": "markdown",
   "id": "4a749de7-27e3-4007-a335-3875ec128888",
   "metadata": {},
   "source": [
    "4. Calculate statistics (e.g., mean and confidence bounds...)"
   ]
  },
  {
   "cell_type": "code",
   "execution_count": 22,
   "id": "d9edc45a-3c5d-47ba-8a05-5853120666b6",
   "metadata": {},
   "outputs": [],
   "source": [
    "m_log = np.mean(dahlem_MO_RR_transfo)\n",
    "med_log = np.median(dahlem_MO_RR_transfo)\n",
    "\n",
    "## and in addition the confidence bounds, this is just an extra here !\n",
    "CI_low = m_log - np.std(dahlem_MO_RR_transfo) / np.sqrt(len(dahlem_MO_RR_transfo))\n",
    "CI_up = m_log + np.std(dahlem_MO_RR_transfo) / np.sqrt(len(dahlem_MO_RR_transfo))"
   ]
  },
  {
   "cell_type": "markdown",
   "id": "d4dc5d85-5180-437e-aa42-4c774ca3900c",
   "metadata": {},
   "source": [
    "5. **Backtransform**: Transform these parameters back by applying exponential function. Have we resolved this issue now?"
   ]
  },
  {
   "cell_type": "code",
   "execution_count": 23,
   "id": "e3be7b34-a8cb-458d-8204-8ef2ada736f6",
   "metadata": {},
   "outputs": [
    {
     "name": "stdout",
     "output_type": "stream",
     "text": [
      "corrected mean = {43.06} corrected median= {43.15} confidence interval=[ {41.89} , {44.25} ]\n"
     ]
    }
   ],
   "source": [
    "# backtransform\n",
    "## reverse min max und perform exp()\n",
    "\n",
    "corrected_mean = (xmin - 1) + (xmax - xmin + 2) * (np.exp(m_log) / (1 + np.exp(m_log)))\n",
    "corrected_median = (xmin - 1) + (xmax - xmin + 2) * (\n",
    "    np.exp(med_log) / (1 + np.exp(med_log))\n",
    ")\n",
    "corrected_CI_low = np.exp(CI_low) / (1 + np.exp(CI_low)) * (xmax - xmin + 2) - 1 + xmin\n",
    "corrected_CI_up = np.exp(CI_up) / (1 + np.exp(CI_up)) * (xmax - xmin + 2) - 1 + xmin\n",
    "\n",
    "\n",
    "print(\n",
    "    f\"corrected mean =\",\n",
    "    {round(corrected_mean, 2)},\n",
    "    \"corrected median=\",\n",
    "    {round(corrected_median, 2)},\n",
    "    \"confidence interval=[\",\n",
    "    {round(corrected_CI_low, 2)},\n",
    "    \",\",\n",
    "    {round(corrected_CI_up, 2)},\n",
    "    \"]\",\n",
    ")"
   ]
  },
  {
   "cell_type": "code",
   "execution_count": 24,
   "id": "d5d5a5ce-781e-4d6b-8de5-4b4c375a9514",
   "metadata": {
    "scrolled": true
   },
   "outputs": [
    {
     "data": {
      "image/png": "[encoded data removed]",
      "text/plain": [
       "<Figure size 640x480 with 1 Axes>"
      ]
     },
     "metadata": {},
     "output_type": "display_data"
    }
   ],
   "source": [
    "## lets plot again\n",
    "dahlem_MO_RR_back_transfo = (xmin - 1) + (xmax - xmin + 2) * (\n",
    "    np.exp(dahlem_MO_RR_transfo) / (1 + np.exp(dahlem_MO_RR_transfo))\n",
    ")\n",
    "\n",
    "\n",
    "plt.hist(dahlem_MO_RR_back_transfo, bins=\"sturges\", color=\"lightblue\", edgecolor=\"grey\")\n",
    "plt.axvline(np.mean(dahlem_clim.MO_RR), color=\"red\")\n",
    "plt.axvline(corrected_mean)\n",
    "plt.show()"
   ]
  },
  {
   "cell_type": "code",
   "execution_count": 25,
   "id": "b06b97d1-7f53-46da-aedb-649947757a17",
   "metadata": {},
   "outputs": [
    {
     "data": {
      "text/html": [
       "\n",
       "        <iframe\n",
       "            width=\"900\"\n",
       "            height=\"200\"\n",
       "            src=\"../../../citation_Marie.html\"\n",
       "            frameborder=\"0\"\n",
       "            allowfullscreen\n",
       "            \n",
       "        ></iframe>\n",
       "        "
      ],
      "text/plain": [
       "<IPython.lib.display.IFrame at 0x1325d26a0>"
      ]
     },
     "execution_count": 25,
     "metadata": {},
     "output_type": "execute_result"
    }
   ],
   "source": [
    "from IPython.display import IFrame\n",
    "\n",
    "IFrame(\n",
    "    src=\"../../../citation_Marie.html\",\n",
    "    width=900,\n",
    "    height=200,\n",
    ")"
   ]
  }
 ],
 "metadata": {
  "kernelspec": {
   "display_name": "Python 3 (ipykernel)",
   "language": "python",
   "name": "python3"
  },
  "language_info": {
   "codemirror_mode": {
    "name": "ipython",
    "version": 3
   },
   "file_extension": ".py",
   "mimetype": "text/x-python",
   "name": "python",
   "nbconvert_exporter": "python",
   "pygments_lexer": "ipython3",
   "version": "3.9.19"
  }
 },
 "nbformat": 4,
 "nbformat_minor": 5
}