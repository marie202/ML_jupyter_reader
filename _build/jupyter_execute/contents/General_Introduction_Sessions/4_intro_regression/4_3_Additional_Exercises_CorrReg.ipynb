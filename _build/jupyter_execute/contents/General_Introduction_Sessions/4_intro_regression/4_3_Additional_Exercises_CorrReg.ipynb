{
 "cells": [
  {
   "cell_type": "code",
   "execution_count": 1,
   "metadata": {
    "editable": true,
    "slideshow": {
     "slide_type": ""
    },
    "tags": [
     "remove-cell"
    ]
   },
   "outputs": [],
   "source": [
    "%load_ext lab_black"
   ]
  },
  {
   "cell_type": "markdown",
   "metadata": {
    "editable": true,
    "slideshow": {
     "slide_type": ""
    },
    "tags": []
   },
   "source": [
    "## Additional Exercises V -  Regression & Correlation\n"
   ]
  },
  {
   "cell_type": "code",
   "execution_count": 2,
   "metadata": {
    "editable": true,
    "slideshow": {
     "slide_type": ""
    },
    "tags": []
   },
   "outputs": [],
   "source": [
    "# First, let's import all the needed libraries.\n",
    "\n",
    "import pandas as pd\n",
    "import seaborn as sns\n",
    "import matplotlib.pyplot as plt\n",
    "import numpy as np\n",
    "import statsmodels.api as sm\n",
    "from scipy import stats\n",
    "from sklearn.linear_model import LinearRegression\n",
    "\n",
    "import warnings\n",
    "\n",
    "warnings.filterwarnings(\"ignore\", \"use_inf_as_na\")"
   ]
  },
  {
   "cell_type": "markdown",
   "metadata": {
    "editable": true,
    "slideshow": {
     "slide_type": ""
    },
    "tags": []
   },
   "source": [
    "### Data set Import & Processsing"
   ]
  },
  {
   "cell_type": "code",
   "execution_count": 3,
   "metadata": {
    "editable": true,
    "slideshow": {
     "slide_type": ""
    },
    "tags": []
   },
   "outputs": [
    {
     "data": {
      "text/html": [
       "<div>\n",
       "<style scoped>\n",
       "    .dataframe tbody tr th:only-of-type {\n",
       "        vertical-align: middle;\n",
       "    }\n",
       "\n",
       "    .dataframe tbody tr th {\n",
       "        vertical-align: top;\n",
       "    }\n",
       "\n",
       "    .dataframe thead th {\n",
       "        text-align: right;\n",
       "    }\n",
       "</style>\n",
       "<table border=\"1\" class=\"dataframe\">\n",
       "  <thead>\n",
       "    <tr style=\"text-align: right;\">\n",
       "      <th></th>\n",
       "      <th>STATIONS_ID</th>\n",
       "      <th>MESS_DATUM</th>\n",
       "      <th>QN_3</th>\n",
       "      <th>FX</th>\n",
       "      <th>FM</th>\n",
       "      <th>QN_4</th>\n",
       "      <th>RSK</th>\n",
       "      <th>RSKF</th>\n",
       "      <th>SDK</th>\n",
       "      <th>SHK_TAG</th>\n",
       "      <th>NM</th>\n",
       "      <th>VPM</th>\n",
       "      <th>PM</th>\n",
       "      <th>TMK</th>\n",
       "      <th>UPM</th>\n",
       "      <th>TXK</th>\n",
       "      <th>TNK</th>\n",
       "      <th>TGK</th>\n",
       "      <th>eor</th>\n",
       "    </tr>\n",
       "  </thead>\n",
       "  <tbody>\n",
       "    <tr>\n",
       "      <th>0</th>\n",
       "      <td>403</td>\n",
       "      <td>19500101</td>\n",
       "      <td>NaN</td>\n",
       "      <td>NaN</td>\n",
       "      <td>NaN</td>\n",
       "      <td>5</td>\n",
       "      <td>2.2</td>\n",
       "      <td>7</td>\n",
       "      <td>NaN</td>\n",
       "      <td>0.0</td>\n",
       "      <td>5.0</td>\n",
       "      <td>4.0</td>\n",
       "      <td>1025.60</td>\n",
       "      <td>-3.2</td>\n",
       "      <td>83.00</td>\n",
       "      <td>-1.1</td>\n",
       "      <td>-4.9</td>\n",
       "      <td>-6.3</td>\n",
       "      <td>eor</td>\n",
       "    </tr>\n",
       "    <tr>\n",
       "      <th>1</th>\n",
       "      <td>403</td>\n",
       "      <td>19500102</td>\n",
       "      <td>NaN</td>\n",
       "      <td>NaN</td>\n",
       "      <td>NaN</td>\n",
       "      <td>5</td>\n",
       "      <td>12.6</td>\n",
       "      <td>8</td>\n",
       "      <td>NaN</td>\n",
       "      <td>0.0</td>\n",
       "      <td>8.0</td>\n",
       "      <td>6.1</td>\n",
       "      <td>1005.60</td>\n",
       "      <td>1.0</td>\n",
       "      <td>95.00</td>\n",
       "      <td>2.2</td>\n",
       "      <td>-3.7</td>\n",
       "      <td>-5.3</td>\n",
       "      <td>eor</td>\n",
       "    </tr>\n",
       "    <tr>\n",
       "      <th>2</th>\n",
       "      <td>403</td>\n",
       "      <td>19500103</td>\n",
       "      <td>NaN</td>\n",
       "      <td>NaN</td>\n",
       "      <td>NaN</td>\n",
       "      <td>5</td>\n",
       "      <td>0.5</td>\n",
       "      <td>1</td>\n",
       "      <td>NaN</td>\n",
       "      <td>0.0</td>\n",
       "      <td>5.0</td>\n",
       "      <td>6.5</td>\n",
       "      <td>996.60</td>\n",
       "      <td>2.8</td>\n",
       "      <td>86.00</td>\n",
       "      <td>3.9</td>\n",
       "      <td>1.7</td>\n",
       "      <td>-1.4</td>\n",
       "      <td>eor</td>\n",
       "    </tr>\n",
       "    <tr>\n",
       "      <th>3</th>\n",
       "      <td>403</td>\n",
       "      <td>19500104</td>\n",
       "      <td>NaN</td>\n",
       "      <td>NaN</td>\n",
       "      <td>NaN</td>\n",
       "      <td>5</td>\n",
       "      <td>0.5</td>\n",
       "      <td>7</td>\n",
       "      <td>NaN</td>\n",
       "      <td>0.0</td>\n",
       "      <td>7.7</td>\n",
       "      <td>5.2</td>\n",
       "      <td>999.50</td>\n",
       "      <td>-0.1</td>\n",
       "      <td>85.00</td>\n",
       "      <td>2.1</td>\n",
       "      <td>-0.9</td>\n",
       "      <td>-2.3</td>\n",
       "      <td>eor</td>\n",
       "    </tr>\n",
       "    <tr>\n",
       "      <th>4</th>\n",
       "      <td>403</td>\n",
       "      <td>19500105</td>\n",
       "      <td>NaN</td>\n",
       "      <td>NaN</td>\n",
       "      <td>NaN</td>\n",
       "      <td>5</td>\n",
       "      <td>10.3</td>\n",
       "      <td>7</td>\n",
       "      <td>NaN</td>\n",
       "      <td>0.0</td>\n",
       "      <td>8.0</td>\n",
       "      <td>4.0</td>\n",
       "      <td>1001.10</td>\n",
       "      <td>-2.8</td>\n",
       "      <td>79.00</td>\n",
       "      <td>-0.9</td>\n",
       "      <td>-3.3</td>\n",
       "      <td>-5.2</td>\n",
       "      <td>eor</td>\n",
       "    </tr>\n",
       "    <tr>\n",
       "      <th>...</th>\n",
       "      <td>...</td>\n",
       "      <td>...</td>\n",
       "      <td>...</td>\n",
       "      <td>...</td>\n",
       "      <td>...</td>\n",
       "      <td>...</td>\n",
       "      <td>...</td>\n",
       "      <td>...</td>\n",
       "      <td>...</td>\n",
       "      <td>...</td>\n",
       "      <td>...</td>\n",
       "      <td>...</td>\n",
       "      <td>...</td>\n",
       "      <td>...</td>\n",
       "      <td>...</td>\n",
       "      <td>...</td>\n",
       "      <td>...</td>\n",
       "      <td>...</td>\n",
       "      <td>...</td>\n",
       "    </tr>\n",
       "    <tr>\n",
       "      <th>26293</th>\n",
       "      <td>403</td>\n",
       "      <td>20211227</td>\n",
       "      <td>NaN</td>\n",
       "      <td>NaN</td>\n",
       "      <td>NaN</td>\n",
       "      <td>3</td>\n",
       "      <td>0.0</td>\n",
       "      <td>8</td>\n",
       "      <td>0.183</td>\n",
       "      <td>0.0</td>\n",
       "      <td>5.9</td>\n",
       "      <td>3.8</td>\n",
       "      <td>998.13</td>\n",
       "      <td>-3.7</td>\n",
       "      <td>79.67</td>\n",
       "      <td>-0.7</td>\n",
       "      <td>-7.9</td>\n",
       "      <td>-9.9</td>\n",
       "      <td>eor</td>\n",
       "    </tr>\n",
       "    <tr>\n",
       "      <th>26294</th>\n",
       "      <td>403</td>\n",
       "      <td>20211228</td>\n",
       "      <td>NaN</td>\n",
       "      <td>NaN</td>\n",
       "      <td>NaN</td>\n",
       "      <td>3</td>\n",
       "      <td>1.5</td>\n",
       "      <td>6</td>\n",
       "      <td>0.000</td>\n",
       "      <td>0.0</td>\n",
       "      <td>6.4</td>\n",
       "      <td>5.3</td>\n",
       "      <td>990.17</td>\n",
       "      <td>-0.5</td>\n",
       "      <td>88.46</td>\n",
       "      <td>2.7</td>\n",
       "      <td>-3.9</td>\n",
       "      <td>-5.1</td>\n",
       "      <td>eor</td>\n",
       "    </tr>\n",
       "    <tr>\n",
       "      <th>26295</th>\n",
       "      <td>403</td>\n",
       "      <td>20211229</td>\n",
       "      <td>NaN</td>\n",
       "      <td>NaN</td>\n",
       "      <td>NaN</td>\n",
       "      <td>3</td>\n",
       "      <td>0.3</td>\n",
       "      <td>6</td>\n",
       "      <td>0.000</td>\n",
       "      <td>0.0</td>\n",
       "      <td>7.5</td>\n",
       "      <td>8.2</td>\n",
       "      <td>994.40</td>\n",
       "      <td>4.0</td>\n",
       "      <td>100.00</td>\n",
       "      <td>5.6</td>\n",
       "      <td>1.8</td>\n",
       "      <td>0.0</td>\n",
       "      <td>eor</td>\n",
       "    </tr>\n",
       "    <tr>\n",
       "      <th>26296</th>\n",
       "      <td>403</td>\n",
       "      <td>20211230</td>\n",
       "      <td>NaN</td>\n",
       "      <td>NaN</td>\n",
       "      <td>NaN</td>\n",
       "      <td>3</td>\n",
       "      <td>3.2</td>\n",
       "      <td>6</td>\n",
       "      <td>0.000</td>\n",
       "      <td>0.0</td>\n",
       "      <td>7.9</td>\n",
       "      <td>11.5</td>\n",
       "      <td>1001.70</td>\n",
       "      <td>9.0</td>\n",
       "      <td>98.54</td>\n",
       "      <td>12.7</td>\n",
       "      <td>4.6</td>\n",
       "      <td>2.3</td>\n",
       "      <td>eor</td>\n",
       "    </tr>\n",
       "    <tr>\n",
       "      <th>26297</th>\n",
       "      <td>403</td>\n",
       "      <td>20211231</td>\n",
       "      <td>NaN</td>\n",
       "      <td>NaN</td>\n",
       "      <td>NaN</td>\n",
       "      <td>3</td>\n",
       "      <td>5.5</td>\n",
       "      <td>6</td>\n",
       "      <td>0.000</td>\n",
       "      <td>0.0</td>\n",
       "      <td>7.7</td>\n",
       "      <td>12.5</td>\n",
       "      <td>1004.72</td>\n",
       "      <td>12.8</td>\n",
       "      <td>84.96</td>\n",
       "      <td>14.0</td>\n",
       "      <td>11.5</td>\n",
       "      <td>10.7</td>\n",
       "      <td>eor</td>\n",
       "    </tr>\n",
       "  </tbody>\n",
       "</table>\n",
       "<p>26298 rows × 19 columns</p>\n",
       "</div>"
      ],
      "text/plain": [
       "       STATIONS_ID  MESS_DATUM  QN_3  FX  FM  QN_4   RSK  RSKF    SDK  \\\n",
       "0              403    19500101   NaN NaN NaN     5   2.2     7    NaN   \n",
       "1              403    19500102   NaN NaN NaN     5  12.6     8    NaN   \n",
       "2              403    19500103   NaN NaN NaN     5   0.5     1    NaN   \n",
       "3              403    19500104   NaN NaN NaN     5   0.5     7    NaN   \n",
       "4              403    19500105   NaN NaN NaN     5  10.3     7    NaN   \n",
       "...            ...         ...   ...  ..  ..   ...   ...   ...    ...   \n",
       "26293          403    20211227   NaN NaN NaN     3   0.0     8  0.183   \n",
       "26294          403    20211228   NaN NaN NaN     3   1.5     6  0.000   \n",
       "26295          403    20211229   NaN NaN NaN     3   0.3     6  0.000   \n",
       "26296          403    20211230   NaN NaN NaN     3   3.2     6  0.000   \n",
       "26297          403    20211231   NaN NaN NaN     3   5.5     6  0.000   \n",
       "\n",
       "       SHK_TAG   NM   VPM       PM   TMK     UPM   TXK   TNK   TGK  eor  \n",
       "0          0.0  5.0   4.0  1025.60  -3.2   83.00  -1.1  -4.9  -6.3  eor  \n",
       "1          0.0  8.0   6.1  1005.60   1.0   95.00   2.2  -3.7  -5.3  eor  \n",
       "2          0.0  5.0   6.5   996.60   2.8   86.00   3.9   1.7  -1.4  eor  \n",
       "3          0.0  7.7   5.2   999.50  -0.1   85.00   2.1  -0.9  -2.3  eor  \n",
       "4          0.0  8.0   4.0  1001.10  -2.8   79.00  -0.9  -3.3  -5.2  eor  \n",
       "...        ...  ...   ...      ...   ...     ...   ...   ...   ...  ...  \n",
       "26293      0.0  5.9   3.8   998.13  -3.7   79.67  -0.7  -7.9  -9.9  eor  \n",
       "26294      0.0  6.4   5.3   990.17  -0.5   88.46   2.7  -3.9  -5.1  eor  \n",
       "26295      0.0  7.5   8.2   994.40   4.0  100.00   5.6   1.8   0.0  eor  \n",
       "26296      0.0  7.9  11.5  1001.70   9.0   98.54  12.7   4.6   2.3  eor  \n",
       "26297      0.0  7.7  12.5  1004.72  12.8   84.96  14.0  11.5  10.7  eor  \n",
       "\n",
       "[26298 rows x 19 columns]"
      ]
     },
     "execution_count": 3,
     "metadata": {},
     "output_type": "execute_result"
    }
   ],
   "source": [
    "import requests, zipfile, io\n",
    "\n",
    "url = \"http://userpage.fu-berlin.de/soga/soga-py/300/307000_time_series/tageswerte_KL_00403_19500101_20211231_hist.zip\"\n",
    "r = requests.get(url)\n",
    "z = zipfile.ZipFile(io.BytesIO(r.content))\n",
    "z.extract(\"produkt_klima_tag_19500101_20211231_00403.txt\", \"../data\")\n",
    "data_raw = pd.read_csv(\n",
    "    \"../data/produkt_klima_tag_19500101_20211231_00403.txt\",\n",
    "    sep=\";\",\n",
    "    na_values=[\"-999\"],\n",
    "    skipinitialspace=True,\n",
    ")\n",
    "data_raw"
   ]
  },
  {
   "cell_type": "code",
   "execution_count": 4,
   "metadata": {
    "editable": true,
    "slideshow": {
     "slide_type": ""
    },
    "tags": []
   },
   "outputs": [
    {
     "data": {
      "text/html": [
       "<div>\n",
       "<style scoped>\n",
       "    .dataframe tbody tr th:only-of-type {\n",
       "        vertical-align: middle;\n",
       "    }\n",
       "\n",
       "    .dataframe tbody tr th {\n",
       "        vertical-align: top;\n",
       "    }\n",
       "\n",
       "    .dataframe thead th {\n",
       "        text-align: right;\n",
       "    }\n",
       "</style>\n",
       "<table border=\"1\" class=\"dataframe\">\n",
       "  <thead>\n",
       "    <tr style=\"text-align: right;\">\n",
       "      <th></th>\n",
       "      <th>pres</th>\n",
       "      <th>temp</th>\n",
       "      <th>temp_max</th>\n",
       "      <th>temp_min</th>\n",
       "      <th>temp_sfc</th>\n",
       "    </tr>\n",
       "  </thead>\n",
       "  <tbody>\n",
       "    <tr>\n",
       "      <th>0</th>\n",
       "      <td>1025.60</td>\n",
       "      <td>-3.2</td>\n",
       "      <td>-1.1</td>\n",
       "      <td>-4.9</td>\n",
       "      <td>-6.3</td>\n",
       "    </tr>\n",
       "    <tr>\n",
       "      <th>1</th>\n",
       "      <td>1005.60</td>\n",
       "      <td>1.0</td>\n",
       "      <td>2.2</td>\n",
       "      <td>-3.7</td>\n",
       "      <td>-5.3</td>\n",
       "    </tr>\n",
       "    <tr>\n",
       "      <th>2</th>\n",
       "      <td>996.60</td>\n",
       "      <td>2.8</td>\n",
       "      <td>3.9</td>\n",
       "      <td>1.7</td>\n",
       "      <td>-1.4</td>\n",
       "    </tr>\n",
       "    <tr>\n",
       "      <th>3</th>\n",
       "      <td>999.50</td>\n",
       "      <td>-0.1</td>\n",
       "      <td>2.1</td>\n",
       "      <td>-0.9</td>\n",
       "      <td>-2.3</td>\n",
       "    </tr>\n",
       "    <tr>\n",
       "      <th>4</th>\n",
       "      <td>1001.10</td>\n",
       "      <td>-2.8</td>\n",
       "      <td>-0.9</td>\n",
       "      <td>-3.3</td>\n",
       "      <td>-5.2</td>\n",
       "    </tr>\n",
       "    <tr>\n",
       "      <th>...</th>\n",
       "      <td>...</td>\n",
       "      <td>...</td>\n",
       "      <td>...</td>\n",
       "      <td>...</td>\n",
       "      <td>...</td>\n",
       "    </tr>\n",
       "    <tr>\n",
       "      <th>26293</th>\n",
       "      <td>998.13</td>\n",
       "      <td>-3.7</td>\n",
       "      <td>-0.7</td>\n",
       "      <td>-7.9</td>\n",
       "      <td>-9.9</td>\n",
       "    </tr>\n",
       "    <tr>\n",
       "      <th>26294</th>\n",
       "      <td>990.17</td>\n",
       "      <td>-0.5</td>\n",
       "      <td>2.7</td>\n",
       "      <td>-3.9</td>\n",
       "      <td>-5.1</td>\n",
       "    </tr>\n",
       "    <tr>\n",
       "      <th>26295</th>\n",
       "      <td>994.40</td>\n",
       "      <td>4.0</td>\n",
       "      <td>5.6</td>\n",
       "      <td>1.8</td>\n",
       "      <td>0.0</td>\n",
       "    </tr>\n",
       "    <tr>\n",
       "      <th>26296</th>\n",
       "      <td>1001.70</td>\n",
       "      <td>9.0</td>\n",
       "      <td>12.7</td>\n",
       "      <td>4.6</td>\n",
       "      <td>2.3</td>\n",
       "    </tr>\n",
       "    <tr>\n",
       "      <th>26297</th>\n",
       "      <td>1004.72</td>\n",
       "      <td>12.8</td>\n",
       "      <td>14.0</td>\n",
       "      <td>11.5</td>\n",
       "      <td>10.7</td>\n",
       "    </tr>\n",
       "  </tbody>\n",
       "</table>\n",
       "<p>26298 rows × 5 columns</p>\n",
       "</div>"
      ],
      "text/plain": [
       "          pres  temp  temp_max  temp_min  temp_sfc\n",
       "0      1025.60  -3.2      -1.1      -4.9      -6.3\n",
       "1      1005.60   1.0       2.2      -3.7      -5.3\n",
       "2       996.60   2.8       3.9       1.7      -1.4\n",
       "3       999.50  -0.1       2.1      -0.9      -2.3\n",
       "4      1001.10  -2.8      -0.9      -3.3      -5.2\n",
       "...        ...   ...       ...       ...       ...\n",
       "26293   998.13  -3.7      -0.7      -7.9      -9.9\n",
       "26294   990.17  -0.5       2.7      -3.9      -5.1\n",
       "26295   994.40   4.0       5.6       1.8       0.0\n",
       "26296  1001.70   9.0      12.7       4.6       2.3\n",
       "26297  1004.72  12.8      14.0      11.5      10.7\n",
       "\n",
       "[26298 rows x 5 columns]"
      ]
     },
     "execution_count": 4,
     "metadata": {},
     "output_type": "execute_result"
    }
   ],
   "source": [
    "# Remove unnecessary columns\n",
    "### By looking at the data and consulting the variable description,\n",
    "### we can immediately find variables that are not useful for our purpose and drop them.\n",
    "\n",
    "df = data_raw.drop(\n",
    "    columns=[\n",
    "        \"STATIONS_ID\",\n",
    "        \"MESS_DATUM\",\n",
    "        \"QN_3\",\n",
    "        \"FX\",\n",
    "        \"FM\",\n",
    "        \"NM\",\n",
    "        \"eor\",\n",
    "        \"QN_4\",\n",
    "        \"RSK\",\n",
    "        \"RSKF\",\n",
    "        \"SHK_TAG\",\n",
    "        \"SDK\",\n",
    "        \"UPM\",\n",
    "        \"VPM\",\n",
    "    ]\n",
    ")\n",
    "## rename for convenience:\n",
    "\n",
    "df = df.rename(\n",
    "    columns={\n",
    "        \"PM\": \"pres\",\n",
    "        \"TMK\": \"temp\",\n",
    "        \"TXK\": \"temp_max\",\n",
    "        \"TNK\": \"temp_min\",\n",
    "        \"TGK\": \"temp_sfc\",\n",
    "    }\n",
    ")\n",
    "df"
   ]
  },
  {
   "cell_type": "code",
   "execution_count": 5,
   "metadata": {
    "editable": true,
    "slideshow": {
     "slide_type": ""
    },
    "tags": []
   },
   "outputs": [
    {
     "data": {
      "text/plain": [
       "pres        0\n",
       "temp        0\n",
       "temp_max    0\n",
       "temp_min    0\n",
       "temp_sfc    8\n",
       "dtype: int64"
      ]
     },
     "execution_count": 5,
     "metadata": {},
     "output_type": "execute_result"
    }
   ],
   "source": [
    "### Drop missing data\n",
    "## As a next step, we check the data for missing values.\n",
    "df.isnull().sum()"
   ]
  },
  {
   "cell_type": "code",
   "execution_count": 6,
   "metadata": {
    "editable": true,
    "slideshow": {
     "slide_type": ""
    },
    "tags": []
   },
   "outputs": [
    {
     "data": {
      "text/html": [
       "<div>\n",
       "<style scoped>\n",
       "    .dataframe tbody tr th:only-of-type {\n",
       "        vertical-align: middle;\n",
       "    }\n",
       "\n",
       "    .dataframe tbody tr th {\n",
       "        vertical-align: top;\n",
       "    }\n",
       "\n",
       "    .dataframe thead th {\n",
       "        text-align: right;\n",
       "    }\n",
       "</style>\n",
       "<table border=\"1\" class=\"dataframe\">\n",
       "  <thead>\n",
       "    <tr style=\"text-align: right;\">\n",
       "      <th></th>\n",
       "      <th>pres</th>\n",
       "      <th>temp</th>\n",
       "      <th>temp_max</th>\n",
       "      <th>temp_min</th>\n",
       "      <th>temp_sfc</th>\n",
       "    </tr>\n",
       "  </thead>\n",
       "  <tbody>\n",
       "    <tr>\n",
       "      <th>0</th>\n",
       "      <td>1025.60</td>\n",
       "      <td>-3.2</td>\n",
       "      <td>-1.1</td>\n",
       "      <td>-4.9</td>\n",
       "      <td>-6.3</td>\n",
       "    </tr>\n",
       "    <tr>\n",
       "      <th>1</th>\n",
       "      <td>1005.60</td>\n",
       "      <td>1.0</td>\n",
       "      <td>2.2</td>\n",
       "      <td>-3.7</td>\n",
       "      <td>-5.3</td>\n",
       "    </tr>\n",
       "    <tr>\n",
       "      <th>2</th>\n",
       "      <td>996.60</td>\n",
       "      <td>2.8</td>\n",
       "      <td>3.9</td>\n",
       "      <td>1.7</td>\n",
       "      <td>-1.4</td>\n",
       "    </tr>\n",
       "    <tr>\n",
       "      <th>3</th>\n",
       "      <td>999.50</td>\n",
       "      <td>-0.1</td>\n",
       "      <td>2.1</td>\n",
       "      <td>-0.9</td>\n",
       "      <td>-2.3</td>\n",
       "    </tr>\n",
       "    <tr>\n",
       "      <th>4</th>\n",
       "      <td>1001.10</td>\n",
       "      <td>-2.8</td>\n",
       "      <td>-0.9</td>\n",
       "      <td>-3.3</td>\n",
       "      <td>-5.2</td>\n",
       "    </tr>\n",
       "    <tr>\n",
       "      <th>...</th>\n",
       "      <td>...</td>\n",
       "      <td>...</td>\n",
       "      <td>...</td>\n",
       "      <td>...</td>\n",
       "      <td>...</td>\n",
       "    </tr>\n",
       "    <tr>\n",
       "      <th>26293</th>\n",
       "      <td>998.13</td>\n",
       "      <td>-3.7</td>\n",
       "      <td>-0.7</td>\n",
       "      <td>-7.9</td>\n",
       "      <td>-9.9</td>\n",
       "    </tr>\n",
       "    <tr>\n",
       "      <th>26294</th>\n",
       "      <td>990.17</td>\n",
       "      <td>-0.5</td>\n",
       "      <td>2.7</td>\n",
       "      <td>-3.9</td>\n",
       "      <td>-5.1</td>\n",
       "    </tr>\n",
       "    <tr>\n",
       "      <th>26295</th>\n",
       "      <td>994.40</td>\n",
       "      <td>4.0</td>\n",
       "      <td>5.6</td>\n",
       "      <td>1.8</td>\n",
       "      <td>0.0</td>\n",
       "    </tr>\n",
       "    <tr>\n",
       "      <th>26296</th>\n",
       "      <td>1001.70</td>\n",
       "      <td>9.0</td>\n",
       "      <td>12.7</td>\n",
       "      <td>4.6</td>\n",
       "      <td>2.3</td>\n",
       "    </tr>\n",
       "    <tr>\n",
       "      <th>26297</th>\n",
       "      <td>1004.72</td>\n",
       "      <td>12.8</td>\n",
       "      <td>14.0</td>\n",
       "      <td>11.5</td>\n",
       "      <td>10.7</td>\n",
       "    </tr>\n",
       "  </tbody>\n",
       "</table>\n",
       "<p>26290 rows × 5 columns</p>\n",
       "</div>"
      ],
      "text/plain": [
       "          pres  temp  temp_max  temp_min  temp_sfc\n",
       "0      1025.60  -3.2      -1.1      -4.9      -6.3\n",
       "1      1005.60   1.0       2.2      -3.7      -5.3\n",
       "2       996.60   2.8       3.9       1.7      -1.4\n",
       "3       999.50  -0.1       2.1      -0.9      -2.3\n",
       "4      1001.10  -2.8      -0.9      -3.3      -5.2\n",
       "...        ...   ...       ...       ...       ...\n",
       "26293   998.13  -3.7      -0.7      -7.9      -9.9\n",
       "26294   990.17  -0.5       2.7      -3.9      -5.1\n",
       "26295   994.40   4.0       5.6       1.8       0.0\n",
       "26296  1001.70   9.0      12.7       4.6       2.3\n",
       "26297  1004.72  12.8      14.0      11.5      10.7\n",
       "\n",
       "[26290 rows x 5 columns]"
      ]
     },
     "execution_count": 6,
     "metadata": {},
     "output_type": "execute_result"
    }
   ],
   "source": [
    "df.dropna(axis=0, inplace=True)\n",
    "df"
   ]
  },
  {
   "cell_type": "markdown",
   "metadata": {
    "editable": true,
    "slideshow": {
     "slide_type": ""
    },
    "tags": []
   },
   "source": [
    "### Exercise 1: Feature scaling\n",
    " \n",
    "In the next steps it is exaplained how to transform the data to make the different variables (feature) comparable with each other **min-max scaling** and **logistic transformation** which transforms e.g. skew-symmetric data to a normally distributed data set.\n",
    "We comment the code, because our data is normally distributed. But you need it later for dealing with different data. \n",
    "\n",
    "#####  Min-Max scaling\n",
    "\n",
    "The min-max scaling\n",
    "\n",
    "$$x'=\\frac{x-x_{min}}{x_{max}-x_{min}}$$\n",
    "\n",
    "\n",
    "transforms the data into the range $[0,1]$. We want to avoid getting values with 0, because in the second step we need the logarithm of the values. Therefore, we use slightly larger boundary values $x_{min}-1$ and $x_{max}+1$. Thus\n",
    "\n",
    "$$x'=\\frac{x-x_{min}+1}{x_{max}-x_{min}+2\\, .}$$\n",
    "\n",
    "##### Logistic transformation\n",
    "\n",
    "As a second step, we use a logistic transformation\n",
    "$$x''=\\log\\frac{x'}{1-x'}$$\n",
    "\n",
    "However, before we can start the transformation, we face a problem! Because we have transformed the test set with the values of the training set, the test set may contain values outside the range [0,1]. This will not work with the logarithm in the transformation.\n",
    "\n",
    "##### Back transformation\n",
    "\n",
    "The back transformation is the “logistic” function resp. inverse logit:\n",
    "\n",
    "\\begin{align}\n",
    "x''\\to x'=\\frac{e^{x''}}{1+e^{x''}}&& and &&\n",
    "x'\\to x=(x'+l)\\cdot(u-l)\n",
    "\\end{align}\n",
    "\n",
    "\\begin{align}\n",
    "&& resp. && \n",
    "x'\\to x= ({x'+x_{min}+1})\\cdot(x_{max}-x_{min}+2)\n",
    "\\end{align}\n"
   ]
  },
  {
   "cell_type": "markdown",
   "metadata": {
    "editable": true,
    "slideshow": {
     "slide_type": ""
    },
    "tags": []
   },
   "source": [
    "#### Exercise A\n",
    ">\n",
    "> Write function (`def ():...`) that log transforms your data including a prior Min-Max-Scaling. This way we can generalise our approach well to new unseen data! (e.g. call it `logistic_min_max()` function). \n",
    "\n",
    "#### Exercise B\n",
    ">\n",
    "> The same way provide a function that back transformations this “logistic” function, resp. inverse logit! (call it `inv_logit()` function)"
   ]
  },
  {
   "cell_type": "code",
   "execution_count": 7,
   "metadata": {
    "tags": []
   },
   "outputs": [],
   "source": [
    "### your code here ###"
   ]
  },
  {
   "cell_type": "markdown",
   "metadata": {
    "editable": true,
    "slideshow": {
     "slide_type": ""
    },
    "tags": []
   },
   "source": [
    "#### solution"
   ]
  },
  {
   "cell_type": "code",
   "execution_count": 8,
   "metadata": {},
   "outputs": [],
   "source": [
    "## A.\n",
    "\n",
    "\n",
    "def min_max(variable):\n",
    "    xmin, xmax = variable.min(), variable.max()\n",
    "    min_max_done = (variable - xmin + 1) / (xmax - xmin + 2)\n",
    "    return xmin, xmax, min_max_done\n",
    "\n",
    "\n",
    "# df_transfo[transform_cols] = (df_transfo[transform_cols] - xmin + 1) / (xmax - xmin + 2)\n",
    "\n",
    "test = np.arange(0, 100, 1)\n",
    "xmin, xmax, min_max_variable = min_max(test)"
   ]
  },
  {
   "cell_type": "code",
   "execution_count": 9,
   "metadata": {},
   "outputs": [
    {
     "data": {
      "text/plain": [
       "array([-4.60517019, -3.90197267, -3.48635519, -3.18841662, -2.95491028,\n",
       "       -2.76211742, -2.59738463, -2.45315795, -2.324564  , -2.20827441,\n",
       "       -2.1019144 , -2.00372972, -1.91238746, -1.82685079, -1.7462971 ,\n",
       "       -1.67006253, -1.59760345, -1.52846885, -1.46228027, -1.39871688,\n",
       "       -1.3375042 , -1.2784054 , -1.22121461, -1.16575159, -1.11185752,\n",
       "       -1.05939158, -1.00822823, -0.95825493, -0.90937029, -0.8614825 ,\n",
       "       -0.81450804, -0.7683706 , -0.72300014, -0.67833209, -0.63430668,\n",
       "       -0.59086833, -0.54796517, -0.50554857, -0.46357274, -0.42199441,\n",
       "       -0.3807725 , -0.33986783, -0.29924289, -0.25886163, -0.2186892 ,\n",
       "       -0.17869179, -0.13883644, -0.0990909 , -0.05942342, -0.01980263,\n",
       "        0.01980263,  0.05942342,  0.0990909 ,  0.13883644,  0.17869179,\n",
       "        0.2186892 ,  0.25886163,  0.29924289,  0.33986783,  0.3807725 ,\n",
       "        0.42199441,  0.46357274,  0.50554857,  0.54796517,  0.59086833,\n",
       "        0.63430668,  0.67833209,  0.72300014,  0.7683706 ,  0.81450804,\n",
       "        0.8614825 ,  0.90937029,  0.95825493,  1.00822823,  1.05939158,\n",
       "        1.11185752,  1.16575159,  1.22121461,  1.2784054 ,  1.3375042 ,\n",
       "        1.39871688,  1.46228027,  1.52846885,  1.59760345,  1.67006253,\n",
       "        1.7462971 ,  1.82685079,  1.91238746,  2.00372972,  2.1019144 ,\n",
       "        2.20827441,  2.324564  ,  2.45315795,  2.59738463,  2.76211742,\n",
       "        2.95491028,  3.18841662,  3.48635519,  3.90197267,  4.60517019])"
      ]
     },
     "execution_count": 9,
     "metadata": {},
     "output_type": "execute_result"
    }
   ],
   "source": [
    "def log_transform(min_max_variable):\n",
    "    return np.log(min_max_variable / (1 - min_max_variable))\n",
    "\n",
    "\n",
    "log_transform(min_max_variable)"
   ]
  },
  {
   "cell_type": "code",
   "execution_count": 10,
   "metadata": {},
   "outputs": [
    {
     "data": {
      "text/plain": [
       "array([4.4408921e-16, 1.0000000e+00, 2.0000000e+00, 3.0000000e+00,\n",
       "       4.0000000e+00, 5.0000000e+00, 6.0000000e+00, 7.0000000e+00,\n",
       "       8.0000000e+00, 9.0000000e+00, 1.0000000e+01, 1.1000000e+01,\n",
       "       1.2000000e+01, 1.3000000e+01, 1.4000000e+01, 1.5000000e+01,\n",
       "       1.6000000e+01, 1.7000000e+01, 1.8000000e+01, 1.9000000e+01,\n",
       "       2.0000000e+01, 2.1000000e+01, 2.2000000e+01, 2.3000000e+01,\n",
       "       2.4000000e+01, 2.5000000e+01, 2.6000000e+01, 2.7000000e+01,\n",
       "       2.8000000e+01, 2.9000000e+01, 3.0000000e+01, 3.1000000e+01,\n",
       "       3.2000000e+01, 3.3000000e+01, 3.4000000e+01, 3.5000000e+01,\n",
       "       3.6000000e+01, 3.7000000e+01, 3.8000000e+01, 3.9000000e+01,\n",
       "       4.0000000e+01, 4.1000000e+01, 4.2000000e+01, 4.3000000e+01,\n",
       "       4.4000000e+01, 4.5000000e+01, 4.6000000e+01, 4.7000000e+01,\n",
       "       4.8000000e+01, 4.9000000e+01, 5.0000000e+01, 5.1000000e+01,\n",
       "       5.2000000e+01, 5.3000000e+01, 5.4000000e+01, 5.5000000e+01,\n",
       "       5.6000000e+01, 5.7000000e+01, 5.8000000e+01, 5.9000000e+01,\n",
       "       6.0000000e+01, 6.1000000e+01, 6.2000000e+01, 6.3000000e+01,\n",
       "       6.4000000e+01, 6.5000000e+01, 6.6000000e+01, 6.7000000e+01,\n",
       "       6.8000000e+01, 6.9000000e+01, 7.0000000e+01, 7.1000000e+01,\n",
       "       7.2000000e+01, 7.3000000e+01, 7.4000000e+01, 7.5000000e+01,\n",
       "       7.6000000e+01, 7.7000000e+01, 7.8000000e+01, 7.9000000e+01,\n",
       "       8.0000000e+01, 8.1000000e+01, 8.2000000e+01, 8.3000000e+01,\n",
       "       8.4000000e+01, 8.5000000e+01, 8.6000000e+01, 8.7000000e+01,\n",
       "       8.8000000e+01, 8.9000000e+01, 9.0000000e+01, 9.1000000e+01,\n",
       "       9.2000000e+01, 9.3000000e+01, 9.4000000e+01, 9.5000000e+01,\n",
       "       9.6000000e+01, 9.7000000e+01, 9.8000000e+01, 9.9000000e+01])"
      ]
     },
     "execution_count": 10,
     "metadata": {},
     "output_type": "execute_result"
    }
   ],
   "source": [
    "## B.\n",
    "\n",
    "\n",
    "# backtransform\n",
    "## reverse min max und perform exp()\n",
    "def inv_logit(xmin, xmax, logit_transf_variable):\n",
    "    return (xmin - 1) + (xmax - xmin + 2) * np.exp(logit_transf_variable) / (\n",
    "        1 + np.exp(logit_transf_variable)\n",
    "    )\n",
    "\n",
    "\n",
    "inv_logit(xmin, xmax, log_transform(min_max_variable))"
   ]
  },
  {
   "cell_type": "code",
   "execution_count": 11,
   "metadata": {},
   "outputs": [
    {
     "data": {
      "text/plain": [
       "(temp         9.767871\n",
       " temp_max    13.886515\n",
       " temp_min     5.842247\n",
       " temp_sfc     4.349503\n",
       " dtype: float64,\n",
       " temp         9.5\n",
       " temp_max    13.6\n",
       " temp_min     5.5\n",
       " temp_sfc     3.7\n",
       " dtype: float64)"
      ]
     },
     "execution_count": 11,
     "metadata": {},
     "output_type": "execute_result"
    }
   ],
   "source": [
    "### log tranform your variable\n",
    "\n",
    "df_transfo = df.copy()\n",
    "transform_cols = [\n",
    "    \"temp\",\n",
    "    \"temp_max\",\n",
    "    \"temp_min\",\n",
    "    \"temp_sfc\",\n",
    "]  # [\"COLUMN NAME\", \"COLUMN NAME\"]\n",
    "\n",
    "xmin, xmax, df_transfo[transform_cols] = min_max(df_transfo[transform_cols])\n",
    "\n",
    "df_transfo[transform_cols] = log_transform(df_transfo[transform_cols])\n",
    "\n",
    "## calculate mean & median tranform back:\n",
    "inv_logit(xmin, xmax, df_transfo[transform_cols].mean()), inv_logit(\n",
    "    xmin, xmax, df_transfo[transform_cols].median()\n",
    ")"
   ]
  },
  {
   "cell_type": "code",
   "execution_count": 12,
   "metadata": {
    "editable": true,
    "slideshow": {
     "slide_type": ""
    },
    "tags": []
   },
   "outputs": [
    {
     "data": {
      "text/html": [
       "<div>\n",
       "<style scoped>\n",
       "    .dataframe tbody tr th:only-of-type {\n",
       "        vertical-align: middle;\n",
       "    }\n",
       "\n",
       "    .dataframe tbody tr th {\n",
       "        vertical-align: top;\n",
       "    }\n",
       "\n",
       "    .dataframe thead th {\n",
       "        text-align: right;\n",
       "    }\n",
       "</style>\n",
       "<table border=\"1\" class=\"dataframe\">\n",
       "  <thead>\n",
       "    <tr style=\"text-align: right;\">\n",
       "      <th></th>\n",
       "      <th>pres</th>\n",
       "      <th>temp</th>\n",
       "      <th>temp_max</th>\n",
       "      <th>temp_min</th>\n",
       "      <th>temp_sfc</th>\n",
       "    </tr>\n",
       "  </thead>\n",
       "  <tbody>\n",
       "    <tr>\n",
       "      <th>pres</th>\n",
       "      <td>1.000000</td>\n",
       "      <td>-0.069212</td>\n",
       "      <td>-0.042117</td>\n",
       "      <td>-0.123350</td>\n",
       "      <td>-0.125634</td>\n",
       "    </tr>\n",
       "    <tr>\n",
       "      <th>temp</th>\n",
       "      <td>-0.069212</td>\n",
       "      <td>1.000000</td>\n",
       "      <td>0.981847</td>\n",
       "      <td>0.952269</td>\n",
       "      <td>0.902622</td>\n",
       "    </tr>\n",
       "    <tr>\n",
       "      <th>temp_max</th>\n",
       "      <td>-0.042117</td>\n",
       "      <td>0.981847</td>\n",
       "      <td>1.000000</td>\n",
       "      <td>0.908394</td>\n",
       "      <td>0.852836</td>\n",
       "    </tr>\n",
       "    <tr>\n",
       "      <th>temp_min</th>\n",
       "      <td>-0.123350</td>\n",
       "      <td>0.952269</td>\n",
       "      <td>0.908394</td>\n",
       "      <td>1.000000</td>\n",
       "      <td>0.975749</td>\n",
       "    </tr>\n",
       "    <tr>\n",
       "      <th>temp_sfc</th>\n",
       "      <td>-0.125634</td>\n",
       "      <td>0.902622</td>\n",
       "      <td>0.852836</td>\n",
       "      <td>0.975749</td>\n",
       "      <td>1.000000</td>\n",
       "    </tr>\n",
       "  </tbody>\n",
       "</table>\n",
       "</div>"
      ],
      "text/plain": [
       "              pres      temp  temp_max  temp_min  temp_sfc\n",
       "pres      1.000000 -0.069212 -0.042117 -0.123350 -0.125634\n",
       "temp     -0.069212  1.000000  0.981847  0.952269  0.902622\n",
       "temp_max -0.042117  0.981847  1.000000  0.908394  0.852836\n",
       "temp_min -0.123350  0.952269  0.908394  1.000000  0.975749\n",
       "temp_sfc -0.125634  0.902622  0.852836  0.975749  1.000000"
      ]
     },
     "execution_count": 12,
     "metadata": {},
     "output_type": "execute_result"
    }
   ],
   "source": [
    "# do each column by hand ....\n",
    "stats.pearsonr(df[\"temp_min\"], df[\"temp_max\"])\n",
    "\n",
    "# or easily use the .corr() function of the entire df:\n",
    "\n",
    "df.corr(method=\"pearson\")"
   ]
  },
  {
   "cell_type": "markdown",
   "metadata": {
    "editable": true,
    "slideshow": {
     "slide_type": ""
    },
    "tags": []
   },
   "source": [
    "### Exercise 2: Correlation Plots\n",
    "\n",
    "Create a correlation plot for the original data (df) and one for the transformed data (df_transfo). Both should be displayed in one figure but 1 subplot each.  Are there differences between the two plots? Which variables are no longer or more strongly correlated? How can these differences be explained? "
   ]
  },
  {
   "cell_type": "code",
   "execution_count": 13,
   "metadata": {},
   "outputs": [],
   "source": [
    "### your code here ###"
   ]
  },
  {
   "cell_type": "markdown",
   "metadata": {
    "editable": true,
    "slideshow": {
     "slide_type": ""
    },
    "tags": []
   },
   "source": [
    "##### solution"
   ]
  },
  {
   "cell_type": "code",
   "execution_count": 14,
   "metadata": {},
   "outputs": [
    {
     "data": {
      "text/html": [
       "<div>\n",
       "<style scoped>\n",
       "    .dataframe tbody tr th:only-of-type {\n",
       "        vertical-align: middle;\n",
       "    }\n",
       "\n",
       "    .dataframe tbody tr th {\n",
       "        vertical-align: top;\n",
       "    }\n",
       "\n",
       "    .dataframe thead th {\n",
       "        text-align: right;\n",
       "    }\n",
       "</style>\n",
       "<table border=\"1\" class=\"dataframe\">\n",
       "  <thead>\n",
       "    <tr style=\"text-align: right;\">\n",
       "      <th></th>\n",
       "      <th>pres</th>\n",
       "      <th>temp</th>\n",
       "      <th>temp_max</th>\n",
       "      <th>temp_min</th>\n",
       "      <th>temp_sfc</th>\n",
       "    </tr>\n",
       "  </thead>\n",
       "  <tbody>\n",
       "    <tr>\n",
       "      <th>pres</th>\n",
       "      <td>1.000000</td>\n",
       "      <td>-0.069212</td>\n",
       "      <td>-0.042117</td>\n",
       "      <td>-0.123350</td>\n",
       "      <td>-0.125634</td>\n",
       "    </tr>\n",
       "    <tr>\n",
       "      <th>temp</th>\n",
       "      <td>-0.069212</td>\n",
       "      <td>1.000000</td>\n",
       "      <td>0.981847</td>\n",
       "      <td>0.952269</td>\n",
       "      <td>0.902622</td>\n",
       "    </tr>\n",
       "    <tr>\n",
       "      <th>temp_max</th>\n",
       "      <td>-0.042117</td>\n",
       "      <td>0.981847</td>\n",
       "      <td>1.000000</td>\n",
       "      <td>0.908394</td>\n",
       "      <td>0.852836</td>\n",
       "    </tr>\n",
       "    <tr>\n",
       "      <th>temp_min</th>\n",
       "      <td>-0.123350</td>\n",
       "      <td>0.952269</td>\n",
       "      <td>0.908394</td>\n",
       "      <td>1.000000</td>\n",
       "      <td>0.975749</td>\n",
       "    </tr>\n",
       "    <tr>\n",
       "      <th>temp_sfc</th>\n",
       "      <td>-0.125634</td>\n",
       "      <td>0.902622</td>\n",
       "      <td>0.852836</td>\n",
       "      <td>0.975749</td>\n",
       "      <td>1.000000</td>\n",
       "    </tr>\n",
       "  </tbody>\n",
       "</table>\n",
       "</div>"
      ],
      "text/plain": [
       "              pres      temp  temp_max  temp_min  temp_sfc\n",
       "pres      1.000000 -0.069212 -0.042117 -0.123350 -0.125634\n",
       "temp     -0.069212  1.000000  0.981847  0.952269  0.902622\n",
       "temp_max -0.042117  0.981847  1.000000  0.908394  0.852836\n",
       "temp_min -0.123350  0.952269  0.908394  1.000000  0.975749\n",
       "temp_sfc -0.125634  0.902622  0.852836  0.975749  1.000000"
      ]
     },
     "execution_count": 14,
     "metadata": {},
     "output_type": "execute_result"
    }
   ],
   "source": [
    "df.corr()"
   ]
  },
  {
   "cell_type": "code",
   "execution_count": 15,
   "metadata": {},
   "outputs": [
    {
     "data": {
      "text/html": [
       "<div>\n",
       "<style scoped>\n",
       "    .dataframe tbody tr th:only-of-type {\n",
       "        vertical-align: middle;\n",
       "    }\n",
       "\n",
       "    .dataframe tbody tr th {\n",
       "        vertical-align: top;\n",
       "    }\n",
       "\n",
       "    .dataframe thead th {\n",
       "        text-align: right;\n",
       "    }\n",
       "</style>\n",
       "<table border=\"1\" class=\"dataframe\">\n",
       "  <thead>\n",
       "    <tr style=\"text-align: right;\">\n",
       "      <th></th>\n",
       "      <th>pres</th>\n",
       "      <th>temp</th>\n",
       "      <th>temp_max</th>\n",
       "      <th>temp_min</th>\n",
       "      <th>temp_sfc</th>\n",
       "    </tr>\n",
       "  </thead>\n",
       "  <tbody>\n",
       "    <tr>\n",
       "      <th>pres</th>\n",
       "      <td>1.000000</td>\n",
       "      <td>-0.066808</td>\n",
       "      <td>-0.042975</td>\n",
       "      <td>-0.118797</td>\n",
       "      <td>-0.116435</td>\n",
       "    </tr>\n",
       "    <tr>\n",
       "      <th>temp</th>\n",
       "      <td>-0.066808</td>\n",
       "      <td>1.000000</td>\n",
       "      <td>0.980614</td>\n",
       "      <td>0.945663</td>\n",
       "      <td>0.891206</td>\n",
       "    </tr>\n",
       "    <tr>\n",
       "      <th>temp_max</th>\n",
       "      <td>-0.042975</td>\n",
       "      <td>0.980614</td>\n",
       "      <td>1.000000</td>\n",
       "      <td>0.901528</td>\n",
       "      <td>0.842826</td>\n",
       "    </tr>\n",
       "    <tr>\n",
       "      <th>temp_min</th>\n",
       "      <td>-0.118797</td>\n",
       "      <td>0.945663</td>\n",
       "      <td>0.901528</td>\n",
       "      <td>1.000000</td>\n",
       "      <td>0.972604</td>\n",
       "    </tr>\n",
       "    <tr>\n",
       "      <th>temp_sfc</th>\n",
       "      <td>-0.116435</td>\n",
       "      <td>0.891206</td>\n",
       "      <td>0.842826</td>\n",
       "      <td>0.972604</td>\n",
       "      <td>1.000000</td>\n",
       "    </tr>\n",
       "  </tbody>\n",
       "</table>\n",
       "</div>"
      ],
      "text/plain": [
       "              pres      temp  temp_max  temp_min  temp_sfc\n",
       "pres      1.000000 -0.066808 -0.042975 -0.118797 -0.116435\n",
       "temp     -0.066808  1.000000  0.980614  0.945663  0.891206\n",
       "temp_max -0.042975  0.980614  1.000000  0.901528  0.842826\n",
       "temp_min -0.118797  0.945663  0.901528  1.000000  0.972604\n",
       "temp_sfc -0.116435  0.891206  0.842826  0.972604  1.000000"
      ]
     },
     "execution_count": 15,
     "metadata": {},
     "output_type": "execute_result"
    }
   ],
   "source": [
    "df_transfo.corr()"
   ]
  },
  {
   "cell_type": "code",
   "execution_count": 16,
   "metadata": {},
   "outputs": [
    {
     "data": {
      "image/png": "[encoded data removed]",
      "text/plain": [
       "<Figure size 1200x500 with 4 Axes>"
      ]
     },
     "metadata": {},
     "output_type": "display_data"
    }
   ],
   "source": [
    "fig, ax = plt.subplots(1, 2, figsize=(12, 5))\n",
    "\n",
    "\n",
    "sns.heatmap(df.corr(), annot=True, fmt=\".2f\", ax=ax[0])\n",
    "sns.heatmap(df_transfo.corr(), annot=True, fmt=\".2f\", ax=ax[1])\n",
    "\n",
    "ax[0].set_title(\"original data\")\n",
    "ax[1].set_title(\"log-transformed data\")\n",
    "plt.show()"
   ]
  },
  {
   "cell_type": "markdown",
   "metadata": {
    "editable": true,
    "slideshow": {
     "slide_type": ""
    },
    "tags": []
   },
   "source": [
    "\n",
    "### Exercise 3: Correlation Coeffcicients\n",
    "> Calculate the correlation coefficient matrix of the original, not-transformed mateorological data set using the Spearman-rank-coefficient."
   ]
  },
  {
   "cell_type": "code",
   "execution_count": 17,
   "metadata": {
    "editable": true,
    "slideshow": {
     "slide_type": ""
    },
    "tags": []
   },
   "outputs": [],
   "source": [
    "### your code here ###"
   ]
  },
  {
   "cell_type": "markdown",
   "metadata": {
    "editable": true,
    "slideshow": {
     "slide_type": ""
    },
    "tags": []
   },
   "source": [
    "### Exercise 4: Recall\n",
    ">1. How are the Pearson correlation coefficient and the Spearman rank correlation coefficient defined? \n",
    ">2. Both corrrelations have values between -1 and 1. In which case is the coefficient negative? \n",
    ">3. Sketch an example (by hand), where the Pearson Correlation Coefficient is larger than the Spearman rank correlation!\n",
    "\n"
   ]
  },
  {
   "cell_type": "code",
   "execution_count": 18,
   "metadata": {},
   "outputs": [],
   "source": [
    "### your code here ###"
   ]
  },
  {
   "cell_type": "markdown",
   "metadata": {
    "editable": true,
    "slideshow": {
     "slide_type": ""
    },
    "tags": []
   },
   "source": [
    "### Exercise 5: Correlation Coefficients, an Example**\n",
    ">\n",
    "> In einem Einzugsgebiet im Süden Brandenburgs wurden an einer Grundwassermessstelle an verschiedenen Tagen der Abfluss (Q), die elektrische Leitfähigkeit (LF) und die Konzentrationen verschiedener chemischer Stoffe wie Sulfat (SO4), Calcium (CA) und Magnesium (MG) gemessen.  Es ist bekannt, dass in dem Gebiet früher Braunkohle abgebaut wurde und das im Boden enthaltene Pyrit (Eisendisulfid, FeS2) dem Luftsauerstoff ausgesetzt ist und oxidiert. Dabei können erhebliche Mengen an Säure, Eisen (Fe3+) und Sulfat entstehen, die die Trinkwasserqualität gefährden. Im Gebiet befinden sich auch landwirtschaftlich genutzte Flächen. Durch verschiedene Düngemittel, die schwefelhaltige Verbindungen mit Phosphor (PO43-) oder Nitrat (NO3), kann auch hier das Grundwasser durch Sulfat belastet sein. \n",
    ">\n",
    "> **Interpretieren Sie die Korrelationsmatrix aus Sicht des Grundwasserschutzes!  Entscheide, ob das Grundwasser durch den ehemaligen Braunkohleabbau oder durch die Landwirtschaft belastet ist.**\n",
    ">\n",
    "\n",
    "\n",
    "|         | Q     | LF    | NO3   | SO4  | Ca   | Mg  | PO4 2-  | Fe3+ |\n",
    "|---------|-------|-------|-------|------|------|-----|---------|------|\n",
    "| Q       | 1     |       |       |      |      |     |         |      |\n",
    "| LF      | -0,87 | 1     |       |      |      |     |         |      |\n",
    "| NO3     | 0,61  | -0,84 | 1     |      |      |     |         |      |\n",
    "| SO4     | -0,74 | 0,88  | -0,36 | 1    |      |     |         |      |\n",
    "| Ca      | -0,56 | 0,73  | -0,67 | 0,69 | 1    |     |         |      |\n",
    "| Mg      | -0,44 | 0,7   | -0,62 | 0,62 | 0,38 | 1   |         |      |\n",
    "| PO4 2-  | -0,7  | 0,81  | 0,86  | 0,31 | 0,76 |   0,71  | 1       |      |\n",
    "| Fe3+    | -0,65 | 0,77  | -0,76 | 0,84 | 0,71 | 0,7 | -0,81   | 1    |\n",
    "\n",
    "*(inspired by Möller 2002)*"
   ]
  },
  {
   "cell_type": "markdown",
   "metadata": {
    "jp-MarkdownHeadingCollapsed": true
   },
   "source": [
    "#### solution 7"
   ]
  },
  {
   "cell_type": "markdown",
   "metadata": {},
   "source": [
    "\n",
    "|         | Q     | LF    | NO3   | SO4  | Ca   | Mg  | PO4 2-  | Fe3+ |\n",
    "|---------|-------|-------|-------|------|------|-----|---------|------|\n",
    "| Q       | 1     |       |       |      |      |     |         |      |\n",
    "| LF      | -0,87 | 1     |       |      |      |     |         |      |\n",
    "| NO3     | 0,61  | -0,84 | 1     |      |      |     |         |      |\n",
    "| SO4     | -0,74 | 0,88  | **-0,36** | 1    |      |     |         |      |\n",
    "| Ca      | -0,56 | 0,73  | -0,67 | 0,69 | 1    |     |         |      |\n",
    "| Mg      | -0,44 | 0,7   | -0,62 | 0,62 | 0,38 | 1   |         |      |\n",
    "| PO4 2-  | -0,7  | 0,81  | 0,86  | **0,31** | 0,76 |  0,71   | 1       |      |\n",
    "| Fe3+    | -0,65 | 0,77  | -0,76 | **0,84** | 0,71 | 0,7 | -0,81   | 1    |\n",
    "\n",
    "> ehemaliger Braunkohleabbau (Fe3+, SO4 2-) oder die Landwirtschaft (PO43-, NO3, SO4 2-) ?\n",
    "> Korrelation zwischen Fe3+ und SO4 am höchsten --> also vermutlich verlaufen die Fließpfade durch ehem. Braunkohleabbaugebiete oder werden durch diese beeinfliusst."
   ]
  },
  {
   "cell_type": "markdown",
   "metadata": {
    "editable": true,
    "slideshow": {
     "slide_type": ""
    },
    "tags": []
   },
   "source": [
    "### Exercise 6: Tree Line Regression\n",
    "\n",
    "> Where is the tree line (Baumgrenze) in the Alps, for example? Let's take a look at this, admittedly somewhat artificial, data set. We have collected annual precipitation data at 7 different climate stations and now want to determine the relationship between precipitation (mm/a) and the tree line. For the majority of native tree species, an annual precipitation of 400 mm is required.\n",
    "> \n",
    "> **A**: Plot elevation against precipitation and calculate the correlation coefficient according to spearman and pearson. Do they differ? Which is more suitable here and why?\n",
    ">\n",
    "> **B**: Which linear regression model is the best estimate for our data? Create a linear model with sklearn LinearRegression and evaluate it (R2). At what height are no more trees to be expected? Is a Linear regression suitbale here ? What could be an easy solution to better predict our data and build a better model?\n",
    ">\n",
    "> Additonal **C**: Build the same model again but apply a log-transformation to our data. Can you improve R2? Can we make a better prediction?\n",
    "\n"
   ]
  },
  {
   "cell_type": "code",
   "execution_count": 19,
   "metadata": {},
   "outputs": [],
   "source": [
    "elev_NN = np.array([300, 500, 840, 1160, 1830, 2100, 2400])  # m a. s.l.\n",
    "precip = np.array([1800, 1250, 700, 510, 410, 310, 230])  # mm/a"
   ]
  },
  {
   "cell_type": "markdown",
   "metadata": {},
   "source": [
    "#### solution 8 A"
   ]
  },
  {
   "cell_type": "code",
   "execution_count": 20,
   "metadata": {
    "scrolled": true
   },
   "outputs": [
    {
     "name": "stdout",
     "output_type": "stream",
     "text": [
      "-1.0\n",
      "-0.88453400089943\n"
     ]
    },
    {
     "data": {
      "image/png": "[encoded data removed]",
      "text/plain": [
       "<Figure size 640x480 with 1 Axes>"
      ]
     },
     "metadata": {},
     "output_type": "display_data"
    }
   ],
   "source": [
    "plt.plot(elev_NN, precip)\n",
    "\n",
    "corr = stats.spearmanr(elev_NN, precip)[0]\n",
    "print(corr)\n",
    "corr = stats.pearsonr(elev_NN, precip)[0]\n",
    "print(corr)"
   ]
  },
  {
   "cell_type": "markdown",
   "metadata": {},
   "source": [
    "#### solution 8B"
   ]
  },
  {
   "cell_type": "code",
   "execution_count": 21,
   "metadata": {},
   "outputs": [
    {
     "data": {
      "text/plain": [
       "[<matplotlib.lines.Line2D at 0x168e17700>]"
      ]
     },
     "execution_count": 21,
     "metadata": {},
     "output_type": "execute_result"
    },
    {
     "data": {
      "image/png": "[encoded data removed]",
      "text/plain": [
       "<Figure size 640x480 with 1 Axes>"
      ]
     },
     "metadata": {},
     "output_type": "display_data"
    }
   ],
   "source": [
    "x = elev_NN\n",
    "y = precip\n",
    "\n",
    "# we have to reshape the regressors\n",
    "x = x.reshape((-1, 1))\n",
    "\n",
    "# set up the linear model\n",
    "model = LinearRegression()\n",
    "\n",
    "# find the linear function that fits the min/max temperature best:\n",
    "model.fit(x, y)\n",
    "\n",
    "## Now, we can easily plot using the 2 coefficients: m*x +n -->\n",
    "plt.scatter(x, y)\n",
    "plt.plot(x, model.coef_ * x + model.intercept_, color=\"red\")"
   ]
  },
  {
   "cell_type": "code",
   "execution_count": 22,
   "metadata": {},
   "outputs": [
    {
     "name": "stdout",
     "output_type": "stream",
     "text": [
      "[1855.98180986]\n"
     ]
    }
   ],
   "source": [
    "## predict from y to x--> input is precip\n",
    "\n",
    "## transform the input with min max and log as well\n",
    "sample = np.array([400])\n",
    "\n",
    "\n",
    "# max temp:\n",
    "x_pred = (sample - model.intercept_) / model.coef_\n",
    "\n",
    "print(x_pred)\n",
    "\n",
    "# inv_logit(logit_transf_variable = x_pred, xmin = elev_min, xmax = elev_max)"
   ]
  },
  {
   "cell_type": "code",
   "execution_count": 23,
   "metadata": {},
   "outputs": [
    {
     "name": "stdout",
     "output_type": "stream",
     "text": [
      "[1558.2246607]\n"
     ]
    }
   ],
   "source": [
    "### predict from x to y\n",
    "baumgrenze = np.array([0])\n",
    "baumgrenze = baumgrenze.reshape((-1, 1))\n",
    "\n",
    "y_pred = model.predict(baumgrenze)\n",
    "\n",
    "print(y_pred)"
   ]
  },
  {
   "cell_type": "code",
   "execution_count": 24,
   "metadata": {},
   "outputs": [
    {
     "name": "stdout",
     "output_type": "stream",
     "text": [
      "coefficient of determination: 0.7824003987471526\n"
     ]
    }
   ],
   "source": [
    "### evaluate\n",
    "\n",
    "r_sq = model.score(x, y)\n",
    "\n",
    "print(\"coefficient of determination:\", r_sq)"
   ]
  },
  {
   "cell_type": "markdown",
   "metadata": {},
   "source": []
  },
  {
   "cell_type": "markdown",
   "metadata": {},
   "source": [
    "#### solution Additonal 8C - log"
   ]
  },
  {
   "cell_type": "code",
   "execution_count": 25,
   "metadata": {},
   "outputs": [],
   "source": [
    "## extent the min-max function\n",
    "\n",
    "## A.\n",
    "\n",
    "\n",
    "def min_max(variable, xmin=None, xmax=None):\n",
    "    if (xmin != None) & (xmax == None):  ## no we are able to set xmin manually\n",
    "        xmax = variable.max()\n",
    "        min_max_done = (variable - xmin + 1) / (xmax - xmin + 2)\n",
    "        return xmin, xmax, min_max_done\n",
    "    elif (xmin != None) & (\n",
    "        xmax != None\n",
    "    ):  ## no we are able to set xmin and xmax manually\n",
    "        min_max_done = (variable - xmin + 1) / (xmax - xmin + 2)\n",
    "        return xmin, xmax, min_max_done\n",
    "    else:\n",
    "        xmin, xmax = variable.min(), variable.max()\n",
    "        min_max_done = (variable - xmin + 1) / (xmax - xmin + 2)\n",
    "    return xmin, xmax, min_max_done"
   ]
  },
  {
   "cell_type": "code",
   "execution_count": 26,
   "metadata": {},
   "outputs": [
    {
     "data": {
      "text/plain": [
       "[<matplotlib.lines.Line2D at 0x168ece520>]"
      ]
     },
     "execution_count": 26,
     "metadata": {},
     "output_type": "execute_result"
    },
    {
     "data": {
      "image/png": "[encoded data removed]",
      "text/plain": [
       "<Figure size 640x480 with 1 Axes>"
      ]
     },
     "metadata": {},
     "output_type": "display_data"
    }
   ],
   "source": [
    "## logtransfrom\n",
    "\n",
    "elev_min, elev_max, elev_min_max = min_max(elev_NN)\n",
    "elev_log = log_transform(elev_min_max)\n",
    "\n",
    "precip_min, precip_max, precip_min_max = min_max(precip)\n",
    "precip_log = log_transform(precip_min_max)\n",
    "\n",
    "# elev_min, precip_min = 0\n",
    "\n",
    "plt.plot(elev_log, precip_log)\n",
    "\n",
    "x = elev_log\n",
    "y = precip_log\n",
    "\n",
    "# we have to reshape the regressors\n",
    "x = x.reshape((-1, 1))\n",
    "\n",
    "# set up the linear model\n",
    "model = LinearRegression()\n",
    "\n",
    "# find the linear function that fits the min/max temperature best:\n",
    "model.fit(x, y)\n",
    "\n",
    "## Now, we can easily plot using the 2 coefficients: m*x +n -->\n",
    "plt.scatter(x, y)\n",
    "plt.plot(x, model.coef_ * x + model.intercept_, color=\"red\")"
   ]
  },
  {
   "cell_type": "code",
   "execution_count": 27,
   "metadata": {},
   "outputs": [
    {
     "name": "stdout",
     "output_type": "stream",
     "text": [
      "coefficient of determination: 0.9678937802675692\n"
     ]
    }
   ],
   "source": [
    "### evaluate\n",
    "\n",
    "r_sq = model.score(x, y)\n",
    "\n",
    "print(\"coefficient of determination:\", r_sq)"
   ]
  },
  {
   "cell_type": "code",
   "execution_count": 28,
   "metadata": {},
   "outputs": [
    {
     "name": "stdout",
     "output_type": "stream",
     "text": [
      "[1.0812614]\n"
     ]
    },
    {
     "data": {
      "text/plain": [
       "array([1868.63196235])"
      ]
     },
     "execution_count": 28,
     "metadata": {},
     "output_type": "execute_result"
    }
   ],
   "source": [
    "## predict x from y --> input is precip\n",
    "\n",
    "## transform the input with min max and log as well\n",
    "sample = np.array([400])\n",
    "_, _, sample_min_max = min_max(sample, xmin=precip_min, xmax=precip_max)\n",
    "sample_log = log_transform(sample_min_max)\n",
    "\n",
    "\n",
    "# max temp:\n",
    "x_pred = (sample_log - model.intercept_) / model.coef_\n",
    "\n",
    "print(x_pred)\n",
    "\n",
    "inv_logit(logit_transf_variable=x_pred, xmin=elev_min, xmax=elev_max)"
   ]
  },
  {
   "cell_type": "code",
   "execution_count": 29,
   "metadata": {},
   "outputs": [
    {
     "name": "stdout",
     "output_type": "stream",
     "text": [
      "[-1.94616697]\n"
     ]
    },
    {
     "data": {
      "text/plain": [
       "array([425.45584633])"
      ]
     },
     "execution_count": 29,
     "metadata": {},
     "output_type": "execute_result"
    }
   ],
   "source": [
    "## predict y from x --> input is elev\n",
    "\n",
    "sample = np.array([1800])  #\n",
    "_, _, sample_min_max = min_max(sample, xmin=elev_min, xmax=elev_max)\n",
    "sample_log = log_transform(sample_min_max)\n",
    "\n",
    "\n",
    "# max temp:\n",
    "y_pred = model.intercept_ + model.coef_ * sample_log\n",
    "print(y_pred)\n",
    "\n",
    "inv_logit(logit_transf_variable=y_pred, xmin=precip_min, xmax=precip_max)"
   ]
  },
  {
   "cell_type": "code",
   "execution_count": null,
   "metadata": {},
   "outputs": [],
   "source": [
    "\n"
   ]
  },
  {
   "cell_type": "code",
   "execution_count": 30,
   "metadata": {},
   "outputs": [
    {
     "data": {
      "text/html": [
       "\n",
       "        <iframe\n",
       "            width=\"900\"\n",
       "            height=\"200\"\n",
       "            src=\"../../citations/citation_Marie.html\"\n",
       "            frameborder=\"0\"\n",
       "            allowfullscreen\n",
       "            \n",
       "        ></iframe>\n",
       "        "
      ],
      "text/plain": [
       "<IPython.lib.display.IFrame at 0x168f45310>"
      ]
     },
     "execution_count": 30,
     "metadata": {},
     "output_type": "execute_result"
    }
   ],
   "source": [
    "from IPython.display import IFrame\n",
    "\n",
    "IFrame(\n",
    "    src=\"../../citations/citation_Marie.html\",\n",
    "    width=900,\n",
    "    height=200,\n",
    ")"
   ]
  }
 ],
 "metadata": {
  "kernelspec": {
   "display_name": "Python 3 (ipykernel)",
   "language": "python",
   "name": "python3"
  },
  "language_info": {
   "codemirror_mode": {
    "name": "ipython",
    "version": 3
   },
   "file_extension": ".py",
   "mimetype": "text/x-python",
   "name": "python",
   "nbconvert_exporter": "python",
   "pygments_lexer": "ipython3",
   "version": "3.9.19"
  }
 },
 "nbformat": 4,
 "nbformat_minor": 4
}