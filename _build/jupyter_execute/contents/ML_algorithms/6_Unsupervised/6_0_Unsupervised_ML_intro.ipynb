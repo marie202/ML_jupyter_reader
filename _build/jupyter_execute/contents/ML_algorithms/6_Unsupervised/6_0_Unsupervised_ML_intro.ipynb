{
 "cells": [
  {
   "cell_type": "markdown",
   "id": "02f79f95-75d0-4568-a205-f4bff02ef8f7",
   "metadata": {
    "editable": true,
    "slideshow": {
     "slide_type": ""
    },
    "tags": []
   },
   "source": [
    "# Supervised Machine Learning\n",
    "\n",
    "\n",
    "<img src=\"figures/unsupervised_overview.png\" alt=\"unsupervised_overview\" class=\"bg-primary\" width=\"700px\">"
   ]
  },
  {
   "cell_type": "code",
   "execution_count": null,
   "id": "24402cad-bf76-4530-8ca3-541074c5a4f5",
   "metadata": {
    "editable": true,
    "slideshow": {
     "slide_type": ""
    },
    "tags": []
   },
   "outputs": [],
   "source": []
  }
 ],
 "metadata": {
  "kernelspec": {
   "display_name": "Python 3 (ipykernel)",
   "language": "python",
   "name": "python3"
  },
  "language_info": {
   "codemirror_mode": {
    "name": "ipython",
    "version": 3
   },
   "file_extension": ".py",
   "mimetype": "text/x-python",
   "name": "python",
   "nbconvert_exporter": "python",
   "pygments_lexer": "ipython3",
   "version": "3.9.19"
  }
 },
 "nbformat": 4,
 "nbformat_minor": 5
}