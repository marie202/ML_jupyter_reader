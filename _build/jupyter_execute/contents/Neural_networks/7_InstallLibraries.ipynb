{
 "cells": [
  {
   "cell_type": "markdown",
   "id": "0c423aff-67b1-4a91-aba5-ae8352fe52ab",
   "metadata": {
    "editable": true,
    "slideshow": {
     "slide_type": ""
    },
    "tags": []
   },
   "source": [
    "# 7. Handwritten Digits\n",
    "\n",
    "### Installation of needed libraries\n",
    "\n",
    "If the libraries have not yet been installed in the corresponding environment, this can be done with one of the following code cell.\n"
   ]
  },
  {
   "cell_type": "markdown",
   "id": "6e3b79e6-810f-4dcb-9e1d-1e6598675140",
   "metadata": {},
   "source": [
    "\n",
    "### ... using pip"
   ]
  },
  {
   "cell_type": "code",
   "execution_count": 1,
   "id": "618a34fd-3549-4f28-a6b9-d6eb18a2a646",
   "metadata": {
    "editable": true,
    "slideshow": {
     "slide_type": ""
    },
    "tags": []
   },
   "outputs": [
    {
     "name": "stdout",
     "output_type": "stream",
     "text": [
      "Requirement already satisfied: numpy in /opt/anaconda3/envs/jupyter_book_ml/lib/python3.9/site-packages (1.26.4)\r\n",
      "Requirement already satisfied: matplotlib in /opt/anaconda3/envs/jupyter_book_ml/lib/python3.9/site-packages (3.8.4)\r\n",
      "Requirement already satisfied: pandas in /opt/anaconda3/envs/jupyter_book_ml/lib/python3.9/site-packages (2.2.2)\r\n",
      "Requirement already satisfied: seaborn in /opt/anaconda3/envs/jupyter_book_ml/lib/python3.9/site-packages (0.13.2)\r\n",
      "Requirement already satisfied: scipy in /opt/anaconda3/envs/jupyter_book_ml/lib/python3.9/site-packages (1.13.1)\r\n",
      "Requirement already satisfied: neuralnet in /opt/anaconda3/envs/jupyter_book_ml/lib/python3.9/site-packages (0.2.0)\r\n",
      "Requirement already satisfied: theano in /opt/anaconda3/envs/jupyter_book_ml/lib/python3.9/site-packages (1.0.5)\r\n",
      "Requirement already satisfied: contourpy>=1.0.1 in /opt/anaconda3/envs/jupyter_book_ml/lib/python3.9/site-packages (from matplotlib) (1.2.0)\r\n",
      "Requirement already satisfied: cycler>=0.10 in /opt/anaconda3/envs/jupyter_book_ml/lib/python3.9/site-packages (from matplotlib) (0.11.0)\r\n",
      "Requirement already satisfied: fonttools>=4.22.0 in /opt/anaconda3/envs/jupyter_book_ml/lib/python3.9/site-packages (from matplotlib) (4.51.0)\r\n",
      "Requirement already satisfied: kiwisolver>=1.3.1 in /opt/anaconda3/envs/jupyter_book_ml/lib/python3.9/site-packages (from matplotlib) (1.4.4)\r\n",
      "Requirement already satisfied: packaging>=20.0 in /opt/anaconda3/envs/jupyter_book_ml/lib/python3.9/site-packages (from matplotlib) (24.1)\r\n",
      "Requirement already satisfied: pillow>=8 in /opt/anaconda3/envs/jupyter_book_ml/lib/python3.9/site-packages (from matplotlib) (10.4.0)\r\n",
      "Requirement already satisfied: pyparsing>=2.3.1 in /opt/anaconda3/envs/jupyter_book_ml/lib/python3.9/site-packages (from matplotlib) (3.0.9)\r\n",
      "Requirement already satisfied: python-dateutil>=2.7 in /opt/anaconda3/envs/jupyter_book_ml/lib/python3.9/site-packages (from matplotlib) (2.9.0.post0)\r\n",
      "Requirement already satisfied: importlib-resources>=3.2.0 in /opt/anaconda3/envs/jupyter_book_ml/lib/python3.9/site-packages (from matplotlib) (6.4.0)\r\n"
     ]
    },
    {
     "name": "stdout",
     "output_type": "stream",
     "text": [
      "Requirement already satisfied: pytz>=2020.1 in /opt/anaconda3/envs/jupyter_book_ml/lib/python3.9/site-packages (from pandas) (2024.1)\r\n"
     ]
    },
    {
     "name": "stdout",
     "output_type": "stream",
     "text": [
      "Requirement already satisfied: tzdata>=2022.7 in /opt/anaconda3/envs/jupyter_book_ml/lib/python3.9/site-packages (from pandas) (2023.3)\r\n",
      "Requirement already satisfied: tqdm in /opt/anaconda3/envs/jupyter_book_ml/lib/python3.9/site-packages (from neuralnet) (4.66.4)\r\n",
      "Requirement already satisfied: visdom in /opt/anaconda3/envs/jupyter_book_ml/lib/python3.9/site-packages (from neuralnet) (0.2.4)\r\n",
      "Requirement already satisfied: six>=1.9.0 in /opt/anaconda3/envs/jupyter_book_ml/lib/python3.9/site-packages (from theano) (1.16.0)\r\n"
     ]
    },
    {
     "name": "stdout",
     "output_type": "stream",
     "text": [
      "Requirement already satisfied: zipp>=3.1.0 in /opt/anaconda3/envs/jupyter_book_ml/lib/python3.9/site-packages (from importlib-resources>=3.2.0->matplotlib) (3.17.0)\r\n"
     ]
    },
    {
     "name": "stdout",
     "output_type": "stream",
     "text": [
      "Requirement already satisfied: requests in /opt/anaconda3/envs/jupyter_book_ml/lib/python3.9/site-packages (from visdom->neuralnet) (2.32.2)\r\n",
      "Requirement already satisfied: tornado in /opt/anaconda3/envs/jupyter_book_ml/lib/python3.9/site-packages (from visdom->neuralnet) (6.4.1)\r\n",
      "Requirement already satisfied: jsonpatch in /opt/anaconda3/envs/jupyter_book_ml/lib/python3.9/site-packages (from visdom->neuralnet) (1.33)\r\n",
      "Requirement already satisfied: websocket-client in /opt/anaconda3/envs/jupyter_book_ml/lib/python3.9/site-packages (from visdom->neuralnet) (1.8.0)\r\n",
      "Requirement already satisfied: networkx in /opt/anaconda3/envs/jupyter_book_ml/lib/python3.9/site-packages (from visdom->neuralnet) (3.2.1)\r\n",
      "Requirement already satisfied: jsonpointer>=1.9 in /opt/anaconda3/envs/jupyter_book_ml/lib/python3.9/site-packages (from jsonpatch->visdom->neuralnet) (2.0)\r\n",
      "Requirement already satisfied: charset-normalizer<4,>=2 in /opt/anaconda3/envs/jupyter_book_ml/lib/python3.9/site-packages (from requests->visdom->neuralnet) (2.0.4)\r\n",
      "Requirement already satisfied: idna<4,>=2.5 in /opt/anaconda3/envs/jupyter_book_ml/lib/python3.9/site-packages (from requests->visdom->neuralnet) (3.7)\r\n",
      "Requirement already satisfied: urllib3<3,>=1.21.1 in /opt/anaconda3/envs/jupyter_book_ml/lib/python3.9/site-packages (from requests->visdom->neuralnet) (1.26.19)\r\n",
      "Requirement already satisfied: certifi>=2017.4.17 in /opt/anaconda3/envs/jupyter_book_ml/lib/python3.9/site-packages (from requests->visdom->neuralnet) (2024.7.4)\r\n"
     ]
    },
    {
     "name": "stdout",
     "output_type": "stream",
     "text": [
      "\u001b[33mDEPRECATION: nb-black 1.0.7 has a non-standard dependency specifier black>='19.3'; python_version >= \"3.6\". pip 24.1 will enforce this behaviour change. A possible replacement is to upgrade to a newer version of nb-black or contact the author to suggest that they release a version with a conforming dependency specifiers. Discussion can be found at https://github.com/pypa/pip/issues/12063\u001b[0m\u001b[33m\r\n",
      "\u001b[0m"
     ]
    }
   ],
   "source": [
    "# Installiere die notwendigen Bibliotheken mit pip\n",
    "import sys\n",
    "!{sys.executable} -m pip install numpy matplotlib pandas seaborn matplotlib scipy neuralnet theano"
   ]
  },
  {
   "cell_type": "code",
   "execution_count": null,
   "id": "55d56961-5476-4185-9641-baeb487df3a5",
   "metadata": {
    "editable": true,
    "slideshow": {
     "slide_type": ""
    },
    "tags": []
   },
   "outputs": [],
   "source": []
  }
 ],
 "metadata": {
  "kernelspec": {
   "display_name": "Python 3 (ipykernel)",
   "language": "python",
   "name": "python3"
  },
  "language_info": {
   "codemirror_mode": {
    "name": "ipython",
    "version": 3
   },
   "file_extension": ".py",
   "mimetype": "text/x-python",
   "name": "python",
   "nbconvert_exporter": "python",
   "pygments_lexer": "ipython3",
   "version": "3.9.19"
  }
 },
 "nbformat": 4,
 "nbformat_minor": 5
}