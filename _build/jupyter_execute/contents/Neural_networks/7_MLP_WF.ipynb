{
 "cells": [
  {
   "cell_type": "markdown",
   "id": "97e595e3-02c5-4e88-91ba-3916786f4fbb",
   "metadata": {
    "editable": true,
    "slideshow": {
     "slide_type": ""
    },
    "tags": []
   },
   "source": [
    "## Multilayer perceptron (MLP) - the Machine Learning Workflow\n",
    "\n",
    "A typical machine learning approach consists of several steps that can be arranged in a kind of standard workflow. Training of the model, which we have done in the previous examples of different algorithms, is only a small part of this workflow. Data preprocessing and model evaluation and selection are by far the more extensive tasks.\n",
    "\n",
    "In the following we will walk through the entire workflow using a simple but more realistic example than using toy data.\n",
    "\n",
    "Our goal is to use weather data and predict the daily mean temperature at a measurement station from several other measurements, such as pressure, vapor content, and so on."
   ]
  },
  {
   "cell_type": "markdown",
   "id": "af1db452-5666-468d-9b15-cf6233a402d8",
   "metadata": {
    "editable": true,
    "slideshow": {
     "slide_type": ""
    },
    "tags": []
   },
   "source": [
    "For this example, we will use a daily time series from the DWD weather station Berlin-Dahlem (FU), downloaded from [Climate Data Center](https://opendata.dwd.de/climate_environment/CDC/observations_germany/climate/daily/kl/historical/tageswerte_KL_00403_19500101_20211231_hist.zip) on 2022-07-22. A detailed description of the variables is available [here](https://opendata.dwd.de/climate_environment/CDC/observations_germany/climate/daily/kl/historical/DESCRIPTION_obsgermany_climate_daily_kl_historical_en.pdf). For the purpose of this tutorial the dataset is provided [here](https://userpage.fu-berlin.de/soga/data/raw-data/tageswerte_KL_00403_19500101_20211231_hist.zip)."
   ]
  },
  {
   "cell_type": "markdown",
   "id": "12546a7e-7297-4952-95e3-a05a7d04ce12",
   "metadata": {
    "editable": true,
    "slideshow": {
     "slide_type": ""
    },
    "tags": []
   },
   "source": [
    "### Read dataset"
   ]
  },
  {
   "cell_type": "code",
   "execution_count": 1,
   "id": "69951c39-7c7a-44bb-b7f2-f193f9a45c8f",
   "metadata": {
    "editable": true,
    "slideshow": {
     "slide_type": ""
    },
    "tags": [
     "remove-cell"
    ]
   },
   "outputs": [],
   "source": [
    "%load_ext lab_black"
   ]
  },
  {
   "cell_type": "code",
   "execution_count": 2,
   "id": "fd1a5cce-3fac-45dc-98d2-8691241e00d2",
   "metadata": {
    "editable": true,
    "slideshow": {
     "slide_type": ""
    },
    "tags": []
   },
   "outputs": [],
   "source": [
    "import pandas as pd\n",
    "import seaborn as sns\n",
    "import matplotlib.pyplot as plt\n",
    "import numpy as np"
   ]
  },
  {
   "cell_type": "markdown",
   "id": "b01f6387-b2f7-42db-b9ea-03f8594e031e",
   "metadata": {
    "editable": true,
    "slideshow": {
     "slide_type": ""
    },
    "tags": []
   },
   "source": [
    "After defining some some basic libraries, we start by downloading the data, extracting the zip file, and reading the data into a Pandas data frame."
   ]
  },
  {
   "cell_type": "code",
   "execution_count": 3,
   "id": "23538f5d-8782-4a55-bbd8-87bc79edafe5",
   "metadata": {
    "editable": true,
    "slideshow": {
     "slide_type": ""
    },
    "tags": []
   },
   "outputs": [
    {
     "data": {
      "text/html": [
       "<div>\n",
       "<style scoped>\n",
       "    .dataframe tbody tr th:only-of-type {\n",
       "        vertical-align: middle;\n",
       "    }\n",
       "\n",
       "    .dataframe tbody tr th {\n",
       "        vertical-align: top;\n",
       "    }\n",
       "\n",
       "    .dataframe thead th {\n",
       "        text-align: right;\n",
       "    }\n",
       "</style>\n",
       "<table border=\"1\" class=\"dataframe\">\n",
       "  <thead>\n",
       "    <tr style=\"text-align: right;\">\n",
       "      <th></th>\n",
       "      <th>STATIONS_ID</th>\n",
       "      <th>MESS_DATUM</th>\n",
       "      <th>QN_3</th>\n",
       "      <th>FX</th>\n",
       "      <th>FM</th>\n",
       "      <th>QN_4</th>\n",
       "      <th>RSK</th>\n",
       "      <th>RSKF</th>\n",
       "      <th>SDK</th>\n",
       "      <th>SHK_TAG</th>\n",
       "      <th>NM</th>\n",
       "      <th>VPM</th>\n",
       "      <th>PM</th>\n",
       "      <th>TMK</th>\n",
       "      <th>UPM</th>\n",
       "      <th>TXK</th>\n",
       "      <th>TNK</th>\n",
       "      <th>TGK</th>\n",
       "      <th>eor</th>\n",
       "    </tr>\n",
       "  </thead>\n",
       "  <tbody>\n",
       "    <tr>\n",
       "      <th>0</th>\n",
       "      <td>403</td>\n",
       "      <td>19500101</td>\n",
       "      <td>NaN</td>\n",
       "      <td>NaN</td>\n",
       "      <td>NaN</td>\n",
       "      <td>5</td>\n",
       "      <td>2.2</td>\n",
       "      <td>7</td>\n",
       "      <td>NaN</td>\n",
       "      <td>0.0</td>\n",
       "      <td>5.0</td>\n",
       "      <td>4.0</td>\n",
       "      <td>1025.60</td>\n",
       "      <td>-3.2</td>\n",
       "      <td>83.00</td>\n",
       "      <td>-1.1</td>\n",
       "      <td>-4.9</td>\n",
       "      <td>-6.3</td>\n",
       "      <td>eor</td>\n",
       "    </tr>\n",
       "    <tr>\n",
       "      <th>1</th>\n",
       "      <td>403</td>\n",
       "      <td>19500102</td>\n",
       "      <td>NaN</td>\n",
       "      <td>NaN</td>\n",
       "      <td>NaN</td>\n",
       "      <td>5</td>\n",
       "      <td>12.6</td>\n",
       "      <td>8</td>\n",
       "      <td>NaN</td>\n",
       "      <td>0.0</td>\n",
       "      <td>8.0</td>\n",
       "      <td>6.1</td>\n",
       "      <td>1005.60</td>\n",
       "      <td>1.0</td>\n",
       "      <td>95.00</td>\n",
       "      <td>2.2</td>\n",
       "      <td>-3.7</td>\n",
       "      <td>-5.3</td>\n",
       "      <td>eor</td>\n",
       "    </tr>\n",
       "    <tr>\n",
       "      <th>2</th>\n",
       "      <td>403</td>\n",
       "      <td>19500103</td>\n",
       "      <td>NaN</td>\n",
       "      <td>NaN</td>\n",
       "      <td>NaN</td>\n",
       "      <td>5</td>\n",
       "      <td>0.5</td>\n",
       "      <td>1</td>\n",
       "      <td>NaN</td>\n",
       "      <td>0.0</td>\n",
       "      <td>5.0</td>\n",
       "      <td>6.5</td>\n",
       "      <td>996.60</td>\n",
       "      <td>2.8</td>\n",
       "      <td>86.00</td>\n",
       "      <td>3.9</td>\n",
       "      <td>1.7</td>\n",
       "      <td>-1.4</td>\n",
       "      <td>eor</td>\n",
       "    </tr>\n",
       "    <tr>\n",
       "      <th>3</th>\n",
       "      <td>403</td>\n",
       "      <td>19500104</td>\n",
       "      <td>NaN</td>\n",
       "      <td>NaN</td>\n",
       "      <td>NaN</td>\n",
       "      <td>5</td>\n",
       "      <td>0.5</td>\n",
       "      <td>7</td>\n",
       "      <td>NaN</td>\n",
       "      <td>0.0</td>\n",
       "      <td>7.7</td>\n",
       "      <td>5.2</td>\n",
       "      <td>999.50</td>\n",
       "      <td>-0.1</td>\n",
       "      <td>85.00</td>\n",
       "      <td>2.1</td>\n",
       "      <td>-0.9</td>\n",
       "      <td>-2.3</td>\n",
       "      <td>eor</td>\n",
       "    </tr>\n",
       "    <tr>\n",
       "      <th>4</th>\n",
       "      <td>403</td>\n",
       "      <td>19500105</td>\n",
       "      <td>NaN</td>\n",
       "      <td>NaN</td>\n",
       "      <td>NaN</td>\n",
       "      <td>5</td>\n",
       "      <td>10.3</td>\n",
       "      <td>7</td>\n",
       "      <td>NaN</td>\n",
       "      <td>0.0</td>\n",
       "      <td>8.0</td>\n",
       "      <td>4.0</td>\n",
       "      <td>1001.10</td>\n",
       "      <td>-2.8</td>\n",
       "      <td>79.00</td>\n",
       "      <td>-0.9</td>\n",
       "      <td>-3.3</td>\n",
       "      <td>-5.2</td>\n",
       "      <td>eor</td>\n",
       "    </tr>\n",
       "    <tr>\n",
       "      <th>...</th>\n",
       "      <td>...</td>\n",
       "      <td>...</td>\n",
       "      <td>...</td>\n",
       "      <td>...</td>\n",
       "      <td>...</td>\n",
       "      <td>...</td>\n",
       "      <td>...</td>\n",
       "      <td>...</td>\n",
       "      <td>...</td>\n",
       "      <td>...</td>\n",
       "      <td>...</td>\n",
       "      <td>...</td>\n",
       "      <td>...</td>\n",
       "      <td>...</td>\n",
       "      <td>...</td>\n",
       "      <td>...</td>\n",
       "      <td>...</td>\n",
       "      <td>...</td>\n",
       "      <td>...</td>\n",
       "    </tr>\n",
       "    <tr>\n",
       "      <th>26293</th>\n",
       "      <td>403</td>\n",
       "      <td>20211227</td>\n",
       "      <td>NaN</td>\n",
       "      <td>NaN</td>\n",
       "      <td>NaN</td>\n",
       "      <td>3</td>\n",
       "      <td>0.0</td>\n",
       "      <td>8</td>\n",
       "      <td>0.183</td>\n",
       "      <td>0.0</td>\n",
       "      <td>5.9</td>\n",
       "      <td>3.8</td>\n",
       "      <td>998.13</td>\n",
       "      <td>-3.7</td>\n",
       "      <td>79.67</td>\n",
       "      <td>-0.7</td>\n",
       "      <td>-7.9</td>\n",
       "      <td>-9.9</td>\n",
       "      <td>eor</td>\n",
       "    </tr>\n",
       "    <tr>\n",
       "      <th>26294</th>\n",
       "      <td>403</td>\n",
       "      <td>20211228</td>\n",
       "      <td>NaN</td>\n",
       "      <td>NaN</td>\n",
       "      <td>NaN</td>\n",
       "      <td>3</td>\n",
       "      <td>1.5</td>\n",
       "      <td>6</td>\n",
       "      <td>0.000</td>\n",
       "      <td>0.0</td>\n",
       "      <td>6.4</td>\n",
       "      <td>5.3</td>\n",
       "      <td>990.17</td>\n",
       "      <td>-0.5</td>\n",
       "      <td>88.46</td>\n",
       "      <td>2.7</td>\n",
       "      <td>-3.9</td>\n",
       "      <td>-5.1</td>\n",
       "      <td>eor</td>\n",
       "    </tr>\n",
       "    <tr>\n",
       "      <th>26295</th>\n",
       "      <td>403</td>\n",
       "      <td>20211229</td>\n",
       "      <td>NaN</td>\n",
       "      <td>NaN</td>\n",
       "      <td>NaN</td>\n",
       "      <td>3</td>\n",
       "      <td>0.3</td>\n",
       "      <td>6</td>\n",
       "      <td>0.000</td>\n",
       "      <td>0.0</td>\n",
       "      <td>7.5</td>\n",
       "      <td>8.2</td>\n",
       "      <td>994.40</td>\n",
       "      <td>4.0</td>\n",
       "      <td>100.00</td>\n",
       "      <td>5.6</td>\n",
       "      <td>1.8</td>\n",
       "      <td>0.0</td>\n",
       "      <td>eor</td>\n",
       "    </tr>\n",
       "    <tr>\n",
       "      <th>26296</th>\n",
       "      <td>403</td>\n",
       "      <td>20211230</td>\n",
       "      <td>NaN</td>\n",
       "      <td>NaN</td>\n",
       "      <td>NaN</td>\n",
       "      <td>3</td>\n",
       "      <td>3.2</td>\n",
       "      <td>6</td>\n",
       "      <td>0.000</td>\n",
       "      <td>0.0</td>\n",
       "      <td>7.9</td>\n",
       "      <td>11.5</td>\n",
       "      <td>1001.70</td>\n",
       "      <td>9.0</td>\n",
       "      <td>98.54</td>\n",
       "      <td>12.7</td>\n",
       "      <td>4.6</td>\n",
       "      <td>2.3</td>\n",
       "      <td>eor</td>\n",
       "    </tr>\n",
       "    <tr>\n",
       "      <th>26297</th>\n",
       "      <td>403</td>\n",
       "      <td>20211231</td>\n",
       "      <td>NaN</td>\n",
       "      <td>NaN</td>\n",
       "      <td>NaN</td>\n",
       "      <td>3</td>\n",
       "      <td>5.5</td>\n",
       "      <td>6</td>\n",
       "      <td>0.000</td>\n",
       "      <td>0.0</td>\n",
       "      <td>7.7</td>\n",
       "      <td>12.5</td>\n",
       "      <td>1004.72</td>\n",
       "      <td>12.8</td>\n",
       "      <td>84.96</td>\n",
       "      <td>14.0</td>\n",
       "      <td>11.5</td>\n",
       "      <td>10.7</td>\n",
       "      <td>eor</td>\n",
       "    </tr>\n",
       "  </tbody>\n",
       "</table>\n",
       "<p>26298 rows × 19 columns</p>\n",
       "</div>"
      ],
      "text/plain": [
       "       STATIONS_ID  MESS_DATUM  QN_3  FX  FM  QN_4   RSK  RSKF    SDK  \\\n",
       "0              403    19500101   NaN NaN NaN     5   2.2     7    NaN   \n",
       "1              403    19500102   NaN NaN NaN     5  12.6     8    NaN   \n",
       "2              403    19500103   NaN NaN NaN     5   0.5     1    NaN   \n",
       "3              403    19500104   NaN NaN NaN     5   0.5     7    NaN   \n",
       "4              403    19500105   NaN NaN NaN     5  10.3     7    NaN   \n",
       "...            ...         ...   ...  ..  ..   ...   ...   ...    ...   \n",
       "26293          403    20211227   NaN NaN NaN     3   0.0     8  0.183   \n",
       "26294          403    20211228   NaN NaN NaN     3   1.5     6  0.000   \n",
       "26295          403    20211229   NaN NaN NaN     3   0.3     6  0.000   \n",
       "26296          403    20211230   NaN NaN NaN     3   3.2     6  0.000   \n",
       "26297          403    20211231   NaN NaN NaN     3   5.5     6  0.000   \n",
       "\n",
       "       SHK_TAG   NM   VPM       PM   TMK     UPM   TXK   TNK   TGK  eor  \n",
       "0          0.0  5.0   4.0  1025.60  -3.2   83.00  -1.1  -4.9  -6.3  eor  \n",
       "1          0.0  8.0   6.1  1005.60   1.0   95.00   2.2  -3.7  -5.3  eor  \n",
       "2          0.0  5.0   6.5   996.60   2.8   86.00   3.9   1.7  -1.4  eor  \n",
       "3          0.0  7.7   5.2   999.50  -0.1   85.00   2.1  -0.9  -2.3  eor  \n",
       "4          0.0  8.0   4.0  1001.10  -2.8   79.00  -0.9  -3.3  -5.2  eor  \n",
       "...        ...  ...   ...      ...   ...     ...   ...   ...   ...  ...  \n",
       "26293      0.0  5.9   3.8   998.13  -3.7   79.67  -0.7  -7.9  -9.9  eor  \n",
       "26294      0.0  6.4   5.3   990.17  -0.5   88.46   2.7  -3.9  -5.1  eor  \n",
       "26295      0.0  7.5   8.2   994.40   4.0  100.00   5.6   1.8   0.0  eor  \n",
       "26296      0.0  7.9  11.5  1001.70   9.0   98.54  12.7   4.6   2.3  eor  \n",
       "26297      0.0  7.7  12.5  1004.72  12.8   84.96  14.0  11.5  10.7  eor  \n",
       "\n",
       "[26298 rows x 19 columns]"
      ]
     },
     "execution_count": 3,
     "metadata": {},
     "output_type": "execute_result"
    }
   ],
   "source": [
    "import requests, zipfile, io\n",
    "\n",
    "url = \"http://userpage.fu-berlin.de/soga/soga-py/300/307000_time_series/tageswerte_KL_00403_19500101_20211231_hist.zip\"\n",
    "r = requests.get(url)\n",
    "z = zipfile.ZipFile(io.BytesIO(r.content))\n",
    "z.extract(\"produkt_klima_tag_19500101_20211231_00403.txt\", \"../data\")\n",
    "data_raw = pd.read_csv(\n",
    "    \"../data/produkt_klima_tag_19500101_20211231_00403.txt\",\n",
    "    sep=\";\",\n",
    "    na_values=[\"-999\"],\n",
    "    skipinitialspace=True,\n",
    ")\n",
    "data_raw"
   ]
  },
  {
   "cell_type": "markdown",
   "id": "e49dce4e-13f1-41bf-8818-7d3062431a08",
   "metadata": {
    "editable": true,
    "slideshow": {
     "slide_type": ""
    },
    "tags": []
   },
   "source": [
    "### Remove unnecessary columns\n",
    "\n",
    "By looking at the data and consulting the variable description, we can immediately find variables that are not useful for our purpose and drop them.\n",
    "- STATIONS_ID -> There is only one station in the data.\n",
    "- MESS_DATUM -> Since we are not interested in a time series analysis, this is just a numbering of the rows.\n",
    "- QN_3, FX, FM, eor -> These variables do not contain any data.\n",
    "- QN_4 -> This value is a data quality label and has no relation to weather data."
   ]
  },
  {
   "cell_type": "code",
   "execution_count": 4,
   "id": "6415ae5e-33cf-4e6a-8a64-bf25ab527c96",
   "metadata": {
    "editable": true,
    "slideshow": {
     "slide_type": ""
    },
    "tags": []
   },
   "outputs": [
    {
     "data": {
      "text/html": [
       "<div>\n",
       "<style scoped>\n",
       "    .dataframe tbody tr th:only-of-type {\n",
       "        vertical-align: middle;\n",
       "    }\n",
       "\n",
       "    .dataframe tbody tr th {\n",
       "        vertical-align: top;\n",
       "    }\n",
       "\n",
       "    .dataframe thead th {\n",
       "        text-align: right;\n",
       "    }\n",
       "</style>\n",
       "<table border=\"1\" class=\"dataframe\">\n",
       "  <thead>\n",
       "    <tr style=\"text-align: right;\">\n",
       "      <th></th>\n",
       "      <th>RSK</th>\n",
       "      <th>RSKF</th>\n",
       "      <th>SDK</th>\n",
       "      <th>SHK_TAG</th>\n",
       "      <th>VPM</th>\n",
       "      <th>PM</th>\n",
       "      <th>TMK</th>\n",
       "      <th>UPM</th>\n",
       "      <th>TXK</th>\n",
       "      <th>TNK</th>\n",
       "      <th>TGK</th>\n",
       "    </tr>\n",
       "  </thead>\n",
       "  <tbody>\n",
       "    <tr>\n",
       "      <th>0</th>\n",
       "      <td>2.2</td>\n",
       "      <td>7</td>\n",
       "      <td>NaN</td>\n",
       "      <td>0.0</td>\n",
       "      <td>4.0</td>\n",
       "      <td>1025.60</td>\n",
       "      <td>-3.2</td>\n",
       "      <td>83.00</td>\n",
       "      <td>-1.1</td>\n",
       "      <td>-4.9</td>\n",
       "      <td>-6.3</td>\n",
       "    </tr>\n",
       "    <tr>\n",
       "      <th>1</th>\n",
       "      <td>12.6</td>\n",
       "      <td>8</td>\n",
       "      <td>NaN</td>\n",
       "      <td>0.0</td>\n",
       "      <td>6.1</td>\n",
       "      <td>1005.60</td>\n",
       "      <td>1.0</td>\n",
       "      <td>95.00</td>\n",
       "      <td>2.2</td>\n",
       "      <td>-3.7</td>\n",
       "      <td>-5.3</td>\n",
       "    </tr>\n",
       "    <tr>\n",
       "      <th>2</th>\n",
       "      <td>0.5</td>\n",
       "      <td>1</td>\n",
       "      <td>NaN</td>\n",
       "      <td>0.0</td>\n",
       "      <td>6.5</td>\n",
       "      <td>996.60</td>\n",
       "      <td>2.8</td>\n",
       "      <td>86.00</td>\n",
       "      <td>3.9</td>\n",
       "      <td>1.7</td>\n",
       "      <td>-1.4</td>\n",
       "    </tr>\n",
       "    <tr>\n",
       "      <th>3</th>\n",
       "      <td>0.5</td>\n",
       "      <td>7</td>\n",
       "      <td>NaN</td>\n",
       "      <td>0.0</td>\n",
       "      <td>5.2</td>\n",
       "      <td>999.50</td>\n",
       "      <td>-0.1</td>\n",
       "      <td>85.00</td>\n",
       "      <td>2.1</td>\n",
       "      <td>-0.9</td>\n",
       "      <td>-2.3</td>\n",
       "    </tr>\n",
       "    <tr>\n",
       "      <th>4</th>\n",
       "      <td>10.3</td>\n",
       "      <td>7</td>\n",
       "      <td>NaN</td>\n",
       "      <td>0.0</td>\n",
       "      <td>4.0</td>\n",
       "      <td>1001.10</td>\n",
       "      <td>-2.8</td>\n",
       "      <td>79.00</td>\n",
       "      <td>-0.9</td>\n",
       "      <td>-3.3</td>\n",
       "      <td>-5.2</td>\n",
       "    </tr>\n",
       "    <tr>\n",
       "      <th>...</th>\n",
       "      <td>...</td>\n",
       "      <td>...</td>\n",
       "      <td>...</td>\n",
       "      <td>...</td>\n",
       "      <td>...</td>\n",
       "      <td>...</td>\n",
       "      <td>...</td>\n",
       "      <td>...</td>\n",
       "      <td>...</td>\n",
       "      <td>...</td>\n",
       "      <td>...</td>\n",
       "    </tr>\n",
       "    <tr>\n",
       "      <th>26293</th>\n",
       "      <td>0.0</td>\n",
       "      <td>8</td>\n",
       "      <td>0.183</td>\n",
       "      <td>0.0</td>\n",
       "      <td>3.8</td>\n",
       "      <td>998.13</td>\n",
       "      <td>-3.7</td>\n",
       "      <td>79.67</td>\n",
       "      <td>-0.7</td>\n",
       "      <td>-7.9</td>\n",
       "      <td>-9.9</td>\n",
       "    </tr>\n",
       "    <tr>\n",
       "      <th>26294</th>\n",
       "      <td>1.5</td>\n",
       "      <td>6</td>\n",
       "      <td>0.000</td>\n",
       "      <td>0.0</td>\n",
       "      <td>5.3</td>\n",
       "      <td>990.17</td>\n",
       "      <td>-0.5</td>\n",
       "      <td>88.46</td>\n",
       "      <td>2.7</td>\n",
       "      <td>-3.9</td>\n",
       "      <td>-5.1</td>\n",
       "    </tr>\n",
       "    <tr>\n",
       "      <th>26295</th>\n",
       "      <td>0.3</td>\n",
       "      <td>6</td>\n",
       "      <td>0.000</td>\n",
       "      <td>0.0</td>\n",
       "      <td>8.2</td>\n",
       "      <td>994.40</td>\n",
       "      <td>4.0</td>\n",
       "      <td>100.00</td>\n",
       "      <td>5.6</td>\n",
       "      <td>1.8</td>\n",
       "      <td>0.0</td>\n",
       "    </tr>\n",
       "    <tr>\n",
       "      <th>26296</th>\n",
       "      <td>3.2</td>\n",
       "      <td>6</td>\n",
       "      <td>0.000</td>\n",
       "      <td>0.0</td>\n",
       "      <td>11.5</td>\n",
       "      <td>1001.70</td>\n",
       "      <td>9.0</td>\n",
       "      <td>98.54</td>\n",
       "      <td>12.7</td>\n",
       "      <td>4.6</td>\n",
       "      <td>2.3</td>\n",
       "    </tr>\n",
       "    <tr>\n",
       "      <th>26297</th>\n",
       "      <td>5.5</td>\n",
       "      <td>6</td>\n",
       "      <td>0.000</td>\n",
       "      <td>0.0</td>\n",
       "      <td>12.5</td>\n",
       "      <td>1004.72</td>\n",
       "      <td>12.8</td>\n",
       "      <td>84.96</td>\n",
       "      <td>14.0</td>\n",
       "      <td>11.5</td>\n",
       "      <td>10.7</td>\n",
       "    </tr>\n",
       "  </tbody>\n",
       "</table>\n",
       "<p>26298 rows × 11 columns</p>\n",
       "</div>"
      ],
      "text/plain": [
       "        RSK  RSKF    SDK  SHK_TAG   VPM       PM   TMK     UPM   TXK   TNK  \\\n",
       "0       2.2     7    NaN      0.0   4.0  1025.60  -3.2   83.00  -1.1  -4.9   \n",
       "1      12.6     8    NaN      0.0   6.1  1005.60   1.0   95.00   2.2  -3.7   \n",
       "2       0.5     1    NaN      0.0   6.5   996.60   2.8   86.00   3.9   1.7   \n",
       "3       0.5     7    NaN      0.0   5.2   999.50  -0.1   85.00   2.1  -0.9   \n",
       "4      10.3     7    NaN      0.0   4.0  1001.10  -2.8   79.00  -0.9  -3.3   \n",
       "...     ...   ...    ...      ...   ...      ...   ...     ...   ...   ...   \n",
       "26293   0.0     8  0.183      0.0   3.8   998.13  -3.7   79.67  -0.7  -7.9   \n",
       "26294   1.5     6  0.000      0.0   5.3   990.17  -0.5   88.46   2.7  -3.9   \n",
       "26295   0.3     6  0.000      0.0   8.2   994.40   4.0  100.00   5.6   1.8   \n",
       "26296   3.2     6  0.000      0.0  11.5  1001.70   9.0   98.54  12.7   4.6   \n",
       "26297   5.5     6  0.000      0.0  12.5  1004.72  12.8   84.96  14.0  11.5   \n",
       "\n",
       "        TGK  \n",
       "0      -6.3  \n",
       "1      -5.3  \n",
       "2      -1.4  \n",
       "3      -2.3  \n",
       "4      -5.2  \n",
       "...     ...  \n",
       "26293  -9.9  \n",
       "26294  -5.1  \n",
       "26295   0.0  \n",
       "26296   2.3  \n",
       "26297  10.7  \n",
       "\n",
       "[26298 rows x 11 columns]"
      ]
     },
     "execution_count": 4,
     "metadata": {},
     "output_type": "execute_result"
    }
   ],
   "source": [
    "data = data_raw.drop(\n",
    "    columns=[\"STATIONS_ID\", \"MESS_DATUM\", \"QN_3\", \"FX\", \"FM\", \"NM\", \"eor\", \"QN_4\"]\n",
    ")\n",
    "data"
   ]
  },
  {
   "cell_type": "markdown",
   "id": "50c172fb-c89b-406d-8ad0-4a283386b0c0",
   "metadata": {
    "editable": true,
    "slideshow": {
     "slide_type": ""
    },
    "tags": []
   },
   "source": [
    "### Rename columns for convenience\n",
    "\n",
    "To improve the readability, we rename the remaining columns."
   ]
  },
  {
   "cell_type": "code",
   "execution_count": 5,
   "id": "0d683320-1100-457f-8555-850adcef5984",
   "metadata": {
    "editable": true,
    "slideshow": {
     "slide_type": ""
    },
    "tags": []
   },
   "outputs": [
    {
     "data": {
      "text/html": [
       "<div>\n",
       "<style scoped>\n",
       "    .dataframe tbody tr th:only-of-type {\n",
       "        vertical-align: middle;\n",
       "    }\n",
       "\n",
       "    .dataframe tbody tr th {\n",
       "        vertical-align: top;\n",
       "    }\n",
       "\n",
       "    .dataframe thead th {\n",
       "        text-align: right;\n",
       "    }\n",
       "</style>\n",
       "<table border=\"1\" class=\"dataframe\">\n",
       "  <thead>\n",
       "    <tr style=\"text-align: right;\">\n",
       "      <th></th>\n",
       "      <th>prec</th>\n",
       "      <th>prec_type</th>\n",
       "      <th>sun_dur</th>\n",
       "      <th>snow_depth</th>\n",
       "      <th>vapor_pres</th>\n",
       "      <th>pres</th>\n",
       "      <th>temp</th>\n",
       "      <th>rel_humid</th>\n",
       "      <th>temp_max</th>\n",
       "      <th>temp_min</th>\n",
       "      <th>temp_sfc</th>\n",
       "    </tr>\n",
       "  </thead>\n",
       "  <tbody>\n",
       "    <tr>\n",
       "      <th>0</th>\n",
       "      <td>2.2</td>\n",
       "      <td>7</td>\n",
       "      <td>NaN</td>\n",
       "      <td>0.0</td>\n",
       "      <td>4.0</td>\n",
       "      <td>1025.60</td>\n",
       "      <td>-3.2</td>\n",
       "      <td>83.00</td>\n",
       "      <td>-1.1</td>\n",
       "      <td>-4.9</td>\n",
       "      <td>-6.3</td>\n",
       "    </tr>\n",
       "    <tr>\n",
       "      <th>1</th>\n",
       "      <td>12.6</td>\n",
       "      <td>8</td>\n",
       "      <td>NaN</td>\n",
       "      <td>0.0</td>\n",
       "      <td>6.1</td>\n",
       "      <td>1005.60</td>\n",
       "      <td>1.0</td>\n",
       "      <td>95.00</td>\n",
       "      <td>2.2</td>\n",
       "      <td>-3.7</td>\n",
       "      <td>-5.3</td>\n",
       "    </tr>\n",
       "    <tr>\n",
       "      <th>2</th>\n",
       "      <td>0.5</td>\n",
       "      <td>1</td>\n",
       "      <td>NaN</td>\n",
       "      <td>0.0</td>\n",
       "      <td>6.5</td>\n",
       "      <td>996.60</td>\n",
       "      <td>2.8</td>\n",
       "      <td>86.00</td>\n",
       "      <td>3.9</td>\n",
       "      <td>1.7</td>\n",
       "      <td>-1.4</td>\n",
       "    </tr>\n",
       "    <tr>\n",
       "      <th>3</th>\n",
       "      <td>0.5</td>\n",
       "      <td>7</td>\n",
       "      <td>NaN</td>\n",
       "      <td>0.0</td>\n",
       "      <td>5.2</td>\n",
       "      <td>999.50</td>\n",
       "      <td>-0.1</td>\n",
       "      <td>85.00</td>\n",
       "      <td>2.1</td>\n",
       "      <td>-0.9</td>\n",
       "      <td>-2.3</td>\n",
       "    </tr>\n",
       "    <tr>\n",
       "      <th>4</th>\n",
       "      <td>10.3</td>\n",
       "      <td>7</td>\n",
       "      <td>NaN</td>\n",
       "      <td>0.0</td>\n",
       "      <td>4.0</td>\n",
       "      <td>1001.10</td>\n",
       "      <td>-2.8</td>\n",
       "      <td>79.00</td>\n",
       "      <td>-0.9</td>\n",
       "      <td>-3.3</td>\n",
       "      <td>-5.2</td>\n",
       "    </tr>\n",
       "    <tr>\n",
       "      <th>...</th>\n",
       "      <td>...</td>\n",
       "      <td>...</td>\n",
       "      <td>...</td>\n",
       "      <td>...</td>\n",
       "      <td>...</td>\n",
       "      <td>...</td>\n",
       "      <td>...</td>\n",
       "      <td>...</td>\n",
       "      <td>...</td>\n",
       "      <td>...</td>\n",
       "      <td>...</td>\n",
       "    </tr>\n",
       "    <tr>\n",
       "      <th>26293</th>\n",
       "      <td>0.0</td>\n",
       "      <td>8</td>\n",
       "      <td>0.183</td>\n",
       "      <td>0.0</td>\n",
       "      <td>3.8</td>\n",
       "      <td>998.13</td>\n",
       "      <td>-3.7</td>\n",
       "      <td>79.67</td>\n",
       "      <td>-0.7</td>\n",
       "      <td>-7.9</td>\n",
       "      <td>-9.9</td>\n",
       "    </tr>\n",
       "    <tr>\n",
       "      <th>26294</th>\n",
       "      <td>1.5</td>\n",
       "      <td>6</td>\n",
       "      <td>0.000</td>\n",
       "      <td>0.0</td>\n",
       "      <td>5.3</td>\n",
       "      <td>990.17</td>\n",
       "      <td>-0.5</td>\n",
       "      <td>88.46</td>\n",
       "      <td>2.7</td>\n",
       "      <td>-3.9</td>\n",
       "      <td>-5.1</td>\n",
       "    </tr>\n",
       "    <tr>\n",
       "      <th>26295</th>\n",
       "      <td>0.3</td>\n",
       "      <td>6</td>\n",
       "      <td>0.000</td>\n",
       "      <td>0.0</td>\n",
       "      <td>8.2</td>\n",
       "      <td>994.40</td>\n",
       "      <td>4.0</td>\n",
       "      <td>100.00</td>\n",
       "      <td>5.6</td>\n",
       "      <td>1.8</td>\n",
       "      <td>0.0</td>\n",
       "    </tr>\n",
       "    <tr>\n",
       "      <th>26296</th>\n",
       "      <td>3.2</td>\n",
       "      <td>6</td>\n",
       "      <td>0.000</td>\n",
       "      <td>0.0</td>\n",
       "      <td>11.5</td>\n",
       "      <td>1001.70</td>\n",
       "      <td>9.0</td>\n",
       "      <td>98.54</td>\n",
       "      <td>12.7</td>\n",
       "      <td>4.6</td>\n",
       "      <td>2.3</td>\n",
       "    </tr>\n",
       "    <tr>\n",
       "      <th>26297</th>\n",
       "      <td>5.5</td>\n",
       "      <td>6</td>\n",
       "      <td>0.000</td>\n",
       "      <td>0.0</td>\n",
       "      <td>12.5</td>\n",
       "      <td>1004.72</td>\n",
       "      <td>12.8</td>\n",
       "      <td>84.96</td>\n",
       "      <td>14.0</td>\n",
       "      <td>11.5</td>\n",
       "      <td>10.7</td>\n",
       "    </tr>\n",
       "  </tbody>\n",
       "</table>\n",
       "<p>26298 rows × 11 columns</p>\n",
       "</div>"
      ],
      "text/plain": [
       "       prec  prec_type  sun_dur  snow_depth  vapor_pres     pres  temp  \\\n",
       "0       2.2          7      NaN         0.0         4.0  1025.60  -3.2   \n",
       "1      12.6          8      NaN         0.0         6.1  1005.60   1.0   \n",
       "2       0.5          1      NaN         0.0         6.5   996.60   2.8   \n",
       "3       0.5          7      NaN         0.0         5.2   999.50  -0.1   \n",
       "4      10.3          7      NaN         0.0         4.0  1001.10  -2.8   \n",
       "...     ...        ...      ...         ...         ...      ...   ...   \n",
       "26293   0.0          8    0.183         0.0         3.8   998.13  -3.7   \n",
       "26294   1.5          6    0.000         0.0         5.3   990.17  -0.5   \n",
       "26295   0.3          6    0.000         0.0         8.2   994.40   4.0   \n",
       "26296   3.2          6    0.000         0.0        11.5  1001.70   9.0   \n",
       "26297   5.5          6    0.000         0.0        12.5  1004.72  12.8   \n",
       "\n",
       "       rel_humid  temp_max  temp_min  temp_sfc  \n",
       "0          83.00      -1.1      -4.9      -6.3  \n",
       "1          95.00       2.2      -3.7      -5.3  \n",
       "2          86.00       3.9       1.7      -1.4  \n",
       "3          85.00       2.1      -0.9      -2.3  \n",
       "4          79.00      -0.9      -3.3      -5.2  \n",
       "...          ...       ...       ...       ...  \n",
       "26293      79.67      -0.7      -7.9      -9.9  \n",
       "26294      88.46       2.7      -3.9      -5.1  \n",
       "26295     100.00       5.6       1.8       0.0  \n",
       "26296      98.54      12.7       4.6       2.3  \n",
       "26297      84.96      14.0      11.5      10.7  \n",
       "\n",
       "[26298 rows x 11 columns]"
      ]
     },
     "execution_count": 5,
     "metadata": {},
     "output_type": "execute_result"
    }
   ],
   "source": [
    "data = data.rename(\n",
    "    columns={\n",
    "        \"RSK\": \"prec\",\n",
    "        \"RSKF\": \"prec_type\",\n",
    "        \"SDK\": \"sun_dur\",\n",
    "        \"SHK_TAG\": \"snow_depth\",\n",
    "        \"VPM\": \"vapor_pres\",\n",
    "        \"PM\": \"pres\",\n",
    "        \"TMK\": \"temp\",\n",
    "        \"UPM\": \"rel_humid\",\n",
    "        \"TXK\": \"temp_max\",\n",
    "        \"TNK\": \"temp_min\",\n",
    "        \"TGK\": \"temp_sfc\",\n",
    "    }\n",
    ")\n",
    "data"
   ]
  },
  {
   "cell_type": "markdown",
   "id": "926e0a1b-3ee1-4e5c-8941-093ad636b05a",
   "metadata": {
    "editable": true,
    "slideshow": {
     "slide_type": ""
    },
    "tags": []
   },
   "source": [
    "### Remove correlated columns\n",
    "\n",
    "In the next step, we see that there are four columns with temperature-related data:\n",
    "- TMK -> Daily Mean Temp (this is the temperature which we want to predict)\n",
    "- TXK -> Daily Max Temp at 2m\n",
    "- TNK -> Daily Min Temp at 2m\n",
    "- TGK -> Daily Min Temp at 5cm\n",
    "\n",
    "The following pair plot shows that these values are highly correlated, as expected."
   ]
  },
  {
   "cell_type": "code",
   "execution_count": 6,
   "id": "68d8ab09-1be7-4739-941d-c3b503ca64a1",
   "metadata": {
    "editable": true,
    "slideshow": {
     "slide_type": ""
    },
    "tags": []
   },
   "outputs": [
    {
     "data": {
      "text/plain": [
       "<seaborn.axisgrid.PairGrid at 0x132eee850>"
      ]
     },
     "execution_count": 6,
     "metadata": {},
     "output_type": "execute_result"
    },
    {
     "data": {
      "image/png": "[encoded data removed]",
      "text/plain": [
       "<Figure size 1000x1000 with 14 Axes>"
      ]
     },
     "metadata": {},
     "output_type": "display_data"
    }
   ],
   "source": [
    "sns.pairplot(data, vars=[\"temp\", \"temp_max\", \"temp_min\", \"temp_sfc\"], corner=True)"
   ]
  },
  {
   "cell_type": "markdown",
   "id": "fd210321-62b2-4d0e-9eab-198fb4770754",
   "metadata": {
    "editable": true,
    "slideshow": {
     "slide_type": ""
    },
    "tags": []
   },
   "source": [
    "Our goal is to predict the mean temperature (temp). If we leave the other temperature variables in the data set, our model will basically use these correlations and thus ignore all other variables. So we will drop temp_max, temp_min, and temp_sfc.\n",
    "\n",
    "Note: If our target variable were something other than temperature, we would effectively have four correlated predictor variables. This could lead to a high influence on the model. It might then be useful to reduce this influence by dimensionally reducing the feature space. One way is to drop certain features, as we do here, another way can be a **principle component analysis (PCA)** where only the main components are kept in the analysis."
   ]
  },
  {
   "cell_type": "code",
   "execution_count": 7,
   "id": "f9310874-034d-4432-af79-a3c542cc60b2",
   "metadata": {
    "editable": true,
    "slideshow": {
     "slide_type": ""
    },
    "tags": []
   },
   "outputs": [
    {
     "data": {
      "text/html": [
       "<div>\n",
       "<style scoped>\n",
       "    .dataframe tbody tr th:only-of-type {\n",
       "        vertical-align: middle;\n",
       "    }\n",
       "\n",
       "    .dataframe tbody tr th {\n",
       "        vertical-align: top;\n",
       "    }\n",
       "\n",
       "    .dataframe thead th {\n",
       "        text-align: right;\n",
       "    }\n",
       "</style>\n",
       "<table border=\"1\" class=\"dataframe\">\n",
       "  <thead>\n",
       "    <tr style=\"text-align: right;\">\n",
       "      <th></th>\n",
       "      <th>prec</th>\n",
       "      <th>prec_type</th>\n",
       "      <th>sun_dur</th>\n",
       "      <th>snow_depth</th>\n",
       "      <th>vapor_pres</th>\n",
       "      <th>pres</th>\n",
       "      <th>temp</th>\n",
       "      <th>rel_humid</th>\n",
       "    </tr>\n",
       "  </thead>\n",
       "  <tbody>\n",
       "    <tr>\n",
       "      <th>0</th>\n",
       "      <td>2.2</td>\n",
       "      <td>7</td>\n",
       "      <td>NaN</td>\n",
       "      <td>0.0</td>\n",
       "      <td>4.0</td>\n",
       "      <td>1025.60</td>\n",
       "      <td>-3.2</td>\n",
       "      <td>83.00</td>\n",
       "    </tr>\n",
       "    <tr>\n",
       "      <th>1</th>\n",
       "      <td>12.6</td>\n",
       "      <td>8</td>\n",
       "      <td>NaN</td>\n",
       "      <td>0.0</td>\n",
       "      <td>6.1</td>\n",
       "      <td>1005.60</td>\n",
       "      <td>1.0</td>\n",
       "      <td>95.00</td>\n",
       "    </tr>\n",
       "    <tr>\n",
       "      <th>2</th>\n",
       "      <td>0.5</td>\n",
       "      <td>1</td>\n",
       "      <td>NaN</td>\n",
       "      <td>0.0</td>\n",
       "      <td>6.5</td>\n",
       "      <td>996.60</td>\n",
       "      <td>2.8</td>\n",
       "      <td>86.00</td>\n",
       "    </tr>\n",
       "    <tr>\n",
       "      <th>3</th>\n",
       "      <td>0.5</td>\n",
       "      <td>7</td>\n",
       "      <td>NaN</td>\n",
       "      <td>0.0</td>\n",
       "      <td>5.2</td>\n",
       "      <td>999.50</td>\n",
       "      <td>-0.1</td>\n",
       "      <td>85.00</td>\n",
       "    </tr>\n",
       "    <tr>\n",
       "      <th>4</th>\n",
       "      <td>10.3</td>\n",
       "      <td>7</td>\n",
       "      <td>NaN</td>\n",
       "      <td>0.0</td>\n",
       "      <td>4.0</td>\n",
       "      <td>1001.10</td>\n",
       "      <td>-2.8</td>\n",
       "      <td>79.00</td>\n",
       "    </tr>\n",
       "    <tr>\n",
       "      <th>...</th>\n",
       "      <td>...</td>\n",
       "      <td>...</td>\n",
       "      <td>...</td>\n",
       "      <td>...</td>\n",
       "      <td>...</td>\n",
       "      <td>...</td>\n",
       "      <td>...</td>\n",
       "      <td>...</td>\n",
       "    </tr>\n",
       "    <tr>\n",
       "      <th>26293</th>\n",
       "      <td>0.0</td>\n",
       "      <td>8</td>\n",
       "      <td>0.183</td>\n",
       "      <td>0.0</td>\n",
       "      <td>3.8</td>\n",
       "      <td>998.13</td>\n",
       "      <td>-3.7</td>\n",
       "      <td>79.67</td>\n",
       "    </tr>\n",
       "    <tr>\n",
       "      <th>26294</th>\n",
       "      <td>1.5</td>\n",
       "      <td>6</td>\n",
       "      <td>0.000</td>\n",
       "      <td>0.0</td>\n",
       "      <td>5.3</td>\n",
       "      <td>990.17</td>\n",
       "      <td>-0.5</td>\n",
       "      <td>88.46</td>\n",
       "    </tr>\n",
       "    <tr>\n",
       "      <th>26295</th>\n",
       "      <td>0.3</td>\n",
       "      <td>6</td>\n",
       "      <td>0.000</td>\n",
       "      <td>0.0</td>\n",
       "      <td>8.2</td>\n",
       "      <td>994.40</td>\n",
       "      <td>4.0</td>\n",
       "      <td>100.00</td>\n",
       "    </tr>\n",
       "    <tr>\n",
       "      <th>26296</th>\n",
       "      <td>3.2</td>\n",
       "      <td>6</td>\n",
       "      <td>0.000</td>\n",
       "      <td>0.0</td>\n",
       "      <td>11.5</td>\n",
       "      <td>1001.70</td>\n",
       "      <td>9.0</td>\n",
       "      <td>98.54</td>\n",
       "    </tr>\n",
       "    <tr>\n",
       "      <th>26297</th>\n",
       "      <td>5.5</td>\n",
       "      <td>6</td>\n",
       "      <td>0.000</td>\n",
       "      <td>0.0</td>\n",
       "      <td>12.5</td>\n",
       "      <td>1004.72</td>\n",
       "      <td>12.8</td>\n",
       "      <td>84.96</td>\n",
       "    </tr>\n",
       "  </tbody>\n",
       "</table>\n",
       "<p>26298 rows × 8 columns</p>\n",
       "</div>"
      ],
      "text/plain": [
       "       prec  prec_type  sun_dur  snow_depth  vapor_pres     pres  temp  \\\n",
       "0       2.2          7      NaN         0.0         4.0  1025.60  -3.2   \n",
       "1      12.6          8      NaN         0.0         6.1  1005.60   1.0   \n",
       "2       0.5          1      NaN         0.0         6.5   996.60   2.8   \n",
       "3       0.5          7      NaN         0.0         5.2   999.50  -0.1   \n",
       "4      10.3          7      NaN         0.0         4.0  1001.10  -2.8   \n",
       "...     ...        ...      ...         ...         ...      ...   ...   \n",
       "26293   0.0          8    0.183         0.0         3.8   998.13  -3.7   \n",
       "26294   1.5          6    0.000         0.0         5.3   990.17  -0.5   \n",
       "26295   0.3          6    0.000         0.0         8.2   994.40   4.0   \n",
       "26296   3.2          6    0.000         0.0        11.5  1001.70   9.0   \n",
       "26297   5.5          6    0.000         0.0        12.5  1004.72  12.8   \n",
       "\n",
       "       rel_humid  \n",
       "0          83.00  \n",
       "1          95.00  \n",
       "2          86.00  \n",
       "3          85.00  \n",
       "4          79.00  \n",
       "...          ...  \n",
       "26293      79.67  \n",
       "26294      88.46  \n",
       "26295     100.00  \n",
       "26296      98.54  \n",
       "26297      84.96  \n",
       "\n",
       "[26298 rows x 8 columns]"
      ]
     },
     "execution_count": 7,
     "metadata": {},
     "output_type": "execute_result"
    }
   ],
   "source": [
    "data = data.drop(columns=[\"temp_max\", \"temp_min\", \"temp_sfc\"])\n",
    "data"
   ]
  },
  {
   "cell_type": "markdown",
   "id": "87af8510-ee7d-4947-bc52-6e411dc075bd",
   "metadata": {
    "editable": true,
    "slideshow": {
     "slide_type": ""
    },
    "tags": []
   },
   "source": [
    "### Drop missing data"
   ]
  },
  {
   "cell_type": "markdown",
   "id": "8efb0a9f-21b1-43d4-b486-23b05cd6eed1",
   "metadata": {
    "editable": true,
    "slideshow": {
     "slide_type": ""
    },
    "tags": []
   },
   "source": [
    "As a next step, we check the data for missing values."
   ]
  },
  {
   "cell_type": "code",
   "execution_count": 8,
   "id": "96f8eb04-6b5d-40e9-822b-8cd385a09303",
   "metadata": {
    "editable": true,
    "slideshow": {
     "slide_type": ""
    },
    "tags": []
   },
   "outputs": [
    {
     "data": {
      "text/plain": [
       "prec            0\n",
       "prec_type       0\n",
       "sun_dur       145\n",
       "snow_depth      1\n",
       "vapor_pres      1\n",
       "pres            0\n",
       "temp            0\n",
       "rel_humid       1\n",
       "dtype: int64"
      ]
     },
     "execution_count": 8,
     "metadata": {},
     "output_type": "execute_result"
    }
   ],
   "source": [
    "data.isnull().sum()"
   ]
  },
  {
   "cell_type": "markdown",
   "id": "10681973-3b75-47c5-8cda-ca4ef242e1f3",
   "metadata": {
    "editable": true,
    "slideshow": {
     "slide_type": ""
    },
    "tags": []
   },
   "source": [
    "As we can see, the percentage of missing values in our data is very small (148 out of 26298 rows). Therefore, the simplest solution is to simply drop all rows with missing data. If the percentage were higher, other solutions might be more useful, such as **imputing values** for the missing values."
   ]
  },
  {
   "cell_type": "code",
   "execution_count": 9,
   "id": "2a614d8d-4a13-416b-844a-346495f8711d",
   "metadata": {
    "editable": true,
    "slideshow": {
     "slide_type": ""
    },
    "tags": []
   },
   "outputs": [
    {
     "data": {
      "text/html": [
       "<div>\n",
       "<style scoped>\n",
       "    .dataframe tbody tr th:only-of-type {\n",
       "        vertical-align: middle;\n",
       "    }\n",
       "\n",
       "    .dataframe tbody tr th {\n",
       "        vertical-align: top;\n",
       "    }\n",
       "\n",
       "    .dataframe thead th {\n",
       "        text-align: right;\n",
       "    }\n",
       "</style>\n",
       "<table border=\"1\" class=\"dataframe\">\n",
       "  <thead>\n",
       "    <tr style=\"text-align: right;\">\n",
       "      <th></th>\n",
       "      <th>prec</th>\n",
       "      <th>prec_type</th>\n",
       "      <th>sun_dur</th>\n",
       "      <th>snow_depth</th>\n",
       "      <th>vapor_pres</th>\n",
       "      <th>pres</th>\n",
       "      <th>temp</th>\n",
       "      <th>rel_humid</th>\n",
       "    </tr>\n",
       "  </thead>\n",
       "  <tbody>\n",
       "    <tr>\n",
       "      <th>90</th>\n",
       "      <td>1.0</td>\n",
       "      <td>1</td>\n",
       "      <td>0.000</td>\n",
       "      <td>0.0</td>\n",
       "      <td>7.1</td>\n",
       "      <td>1001.50</td>\n",
       "      <td>7.1</td>\n",
       "      <td>70.00</td>\n",
       "    </tr>\n",
       "    <tr>\n",
       "      <th>91</th>\n",
       "      <td>2.8</td>\n",
       "      <td>1</td>\n",
       "      <td>0.000</td>\n",
       "      <td>0.0</td>\n",
       "      <td>8.7</td>\n",
       "      <td>984.70</td>\n",
       "      <td>7.6</td>\n",
       "      <td>81.00</td>\n",
       "    </tr>\n",
       "    <tr>\n",
       "      <th>92</th>\n",
       "      <td>0.0</td>\n",
       "      <td>0</td>\n",
       "      <td>6.400</td>\n",
       "      <td>0.0</td>\n",
       "      <td>6.7</td>\n",
       "      <td>987.80</td>\n",
       "      <td>6.9</td>\n",
       "      <td>68.00</td>\n",
       "    </tr>\n",
       "    <tr>\n",
       "      <th>93</th>\n",
       "      <td>0.5</td>\n",
       "      <td>1</td>\n",
       "      <td>5.800</td>\n",
       "      <td>0.0</td>\n",
       "      <td>6.9</td>\n",
       "      <td>997.20</td>\n",
       "      <td>6.2</td>\n",
       "      <td>73.00</td>\n",
       "    </tr>\n",
       "    <tr>\n",
       "      <th>94</th>\n",
       "      <td>11.7</td>\n",
       "      <td>1</td>\n",
       "      <td>2.900</td>\n",
       "      <td>0.0</td>\n",
       "      <td>7.1</td>\n",
       "      <td>1000.70</td>\n",
       "      <td>6.4</td>\n",
       "      <td>74.00</td>\n",
       "    </tr>\n",
       "    <tr>\n",
       "      <th>...</th>\n",
       "      <td>...</td>\n",
       "      <td>...</td>\n",
       "      <td>...</td>\n",
       "      <td>...</td>\n",
       "      <td>...</td>\n",
       "      <td>...</td>\n",
       "      <td>...</td>\n",
       "      <td>...</td>\n",
       "    </tr>\n",
       "    <tr>\n",
       "      <th>26293</th>\n",
       "      <td>0.0</td>\n",
       "      <td>8</td>\n",
       "      <td>0.183</td>\n",
       "      <td>0.0</td>\n",
       "      <td>3.8</td>\n",
       "      <td>998.13</td>\n",
       "      <td>-3.7</td>\n",
       "      <td>79.67</td>\n",
       "    </tr>\n",
       "    <tr>\n",
       "      <th>26294</th>\n",
       "      <td>1.5</td>\n",
       "      <td>6</td>\n",
       "      <td>0.000</td>\n",
       "      <td>0.0</td>\n",
       "      <td>5.3</td>\n",
       "      <td>990.17</td>\n",
       "      <td>-0.5</td>\n",
       "      <td>88.46</td>\n",
       "    </tr>\n",
       "    <tr>\n",
       "      <th>26295</th>\n",
       "      <td>0.3</td>\n",
       "      <td>6</td>\n",
       "      <td>0.000</td>\n",
       "      <td>0.0</td>\n",
       "      <td>8.2</td>\n",
       "      <td>994.40</td>\n",
       "      <td>4.0</td>\n",
       "      <td>100.00</td>\n",
       "    </tr>\n",
       "    <tr>\n",
       "      <th>26296</th>\n",
       "      <td>3.2</td>\n",
       "      <td>6</td>\n",
       "      <td>0.000</td>\n",
       "      <td>0.0</td>\n",
       "      <td>11.5</td>\n",
       "      <td>1001.70</td>\n",
       "      <td>9.0</td>\n",
       "      <td>98.54</td>\n",
       "    </tr>\n",
       "    <tr>\n",
       "      <th>26297</th>\n",
       "      <td>5.5</td>\n",
       "      <td>6</td>\n",
       "      <td>0.000</td>\n",
       "      <td>0.0</td>\n",
       "      <td>12.5</td>\n",
       "      <td>1004.72</td>\n",
       "      <td>12.8</td>\n",
       "      <td>84.96</td>\n",
       "    </tr>\n",
       "  </tbody>\n",
       "</table>\n",
       "<p>26152 rows × 8 columns</p>\n",
       "</div>"
      ],
      "text/plain": [
       "       prec  prec_type  sun_dur  snow_depth  vapor_pres     pres  temp  \\\n",
       "90      1.0          1    0.000         0.0         7.1  1001.50   7.1   \n",
       "91      2.8          1    0.000         0.0         8.7   984.70   7.6   \n",
       "92      0.0          0    6.400         0.0         6.7   987.80   6.9   \n",
       "93      0.5          1    5.800         0.0         6.9   997.20   6.2   \n",
       "94     11.7          1    2.900         0.0         7.1  1000.70   6.4   \n",
       "...     ...        ...      ...         ...         ...      ...   ...   \n",
       "26293   0.0          8    0.183         0.0         3.8   998.13  -3.7   \n",
       "26294   1.5          6    0.000         0.0         5.3   990.17  -0.5   \n",
       "26295   0.3          6    0.000         0.0         8.2   994.40   4.0   \n",
       "26296   3.2          6    0.000         0.0        11.5  1001.70   9.0   \n",
       "26297   5.5          6    0.000         0.0        12.5  1004.72  12.8   \n",
       "\n",
       "       rel_humid  \n",
       "90         70.00  \n",
       "91         81.00  \n",
       "92         68.00  \n",
       "93         73.00  \n",
       "94         74.00  \n",
       "...          ...  \n",
       "26293      79.67  \n",
       "26294      88.46  \n",
       "26295     100.00  \n",
       "26296      98.54  \n",
       "26297      84.96  \n",
       "\n",
       "[26152 rows x 8 columns]"
      ]
     },
     "execution_count": 9,
     "metadata": {},
     "output_type": "execute_result"
    }
   ],
   "source": [
    "data.dropna(axis=0, inplace=True)\n",
    "data"
   ]
  },
  {
   "cell_type": "markdown",
   "id": "0f93f534-8e92-4a73-956b-d62c6cec7315",
   "metadata": {
    "editable": true,
    "slideshow": {
     "slide_type": ""
    },
    "tags": []
   },
   "source": [
    "### Handle categorical data"
   ]
  },
  {
   "cell_type": "markdown",
   "id": "08aa6381-dcbf-4888-bf73-a6f7b2af0784",
   "metadata": {
    "editable": true,
    "slideshow": {
     "slide_type": ""
    },
    "tags": []
   },
   "source": [
    "All of the data in our data set contain numerical values. However, while they are all continuous variables, the prec_type is a categorical variable. Furthermore, it is only nominal, not ordinal. If we leave the values as they are, the model will imply an order on the prec_type, assuming for example that type 8 is greater than type 6. This could lead to non-optimal results.\n",
    "\n",
    "We will use a solution called **one-hot encoding**. This means that we create a new feature for each of the types and assign binary values to it."
   ]
  },
  {
   "cell_type": "code",
   "execution_count": 10,
   "id": "99d11ef5-59e9-4bf0-9c76-5ea9a60eab33",
   "metadata": {
    "editable": true,
    "slideshow": {
     "slide_type": ""
    },
    "tags": []
   },
   "outputs": [
    {
     "data": {
      "text/html": [
       "<div>\n",
       "<style scoped>\n",
       "    .dataframe tbody tr th:only-of-type {\n",
       "        vertical-align: middle;\n",
       "    }\n",
       "\n",
       "    .dataframe tbody tr th {\n",
       "        vertical-align: top;\n",
       "    }\n",
       "\n",
       "    .dataframe thead th {\n",
       "        text-align: right;\n",
       "    }\n",
       "</style>\n",
       "<table border=\"1\" class=\"dataframe\">\n",
       "  <thead>\n",
       "    <tr style=\"text-align: right;\">\n",
       "      <th></th>\n",
       "      <th>prec</th>\n",
       "      <th>sun_dur</th>\n",
       "      <th>snow_depth</th>\n",
       "      <th>vapor_pres</th>\n",
       "      <th>pres</th>\n",
       "      <th>temp</th>\n",
       "      <th>rel_humid</th>\n",
       "      <th>prec_type_1</th>\n",
       "      <th>prec_type_4</th>\n",
       "      <th>prec_type_6</th>\n",
       "      <th>prec_type_7</th>\n",
       "      <th>prec_type_8</th>\n",
       "    </tr>\n",
       "  </thead>\n",
       "  <tbody>\n",
       "    <tr>\n",
       "      <th>90</th>\n",
       "      <td>1.0</td>\n",
       "      <td>0.000</td>\n",
       "      <td>0.0</td>\n",
       "      <td>7.1</td>\n",
       "      <td>1001.50</td>\n",
       "      <td>7.1</td>\n",
       "      <td>70.00</td>\n",
       "      <td>True</td>\n",
       "      <td>False</td>\n",
       "      <td>False</td>\n",
       "      <td>False</td>\n",
       "      <td>False</td>\n",
       "    </tr>\n",
       "    <tr>\n",
       "      <th>91</th>\n",
       "      <td>2.8</td>\n",
       "      <td>0.000</td>\n",
       "      <td>0.0</td>\n",
       "      <td>8.7</td>\n",
       "      <td>984.70</td>\n",
       "      <td>7.6</td>\n",
       "      <td>81.00</td>\n",
       "      <td>True</td>\n",
       "      <td>False</td>\n",
       "      <td>False</td>\n",
       "      <td>False</td>\n",
       "      <td>False</td>\n",
       "    </tr>\n",
       "    <tr>\n",
       "      <th>92</th>\n",
       "      <td>0.0</td>\n",
       "      <td>6.400</td>\n",
       "      <td>0.0</td>\n",
       "      <td>6.7</td>\n",
       "      <td>987.80</td>\n",
       "      <td>6.9</td>\n",
       "      <td>68.00</td>\n",
       "      <td>False</td>\n",
       "      <td>False</td>\n",
       "      <td>False</td>\n",
       "      <td>False</td>\n",
       "      <td>False</td>\n",
       "    </tr>\n",
       "    <tr>\n",
       "      <th>93</th>\n",
       "      <td>0.5</td>\n",
       "      <td>5.800</td>\n",
       "      <td>0.0</td>\n",
       "      <td>6.9</td>\n",
       "      <td>997.20</td>\n",
       "      <td>6.2</td>\n",
       "      <td>73.00</td>\n",
       "      <td>True</td>\n",
       "      <td>False</td>\n",
       "      <td>False</td>\n",
       "      <td>False</td>\n",
       "      <td>False</td>\n",
       "    </tr>\n",
       "    <tr>\n",
       "      <th>94</th>\n",
       "      <td>11.7</td>\n",
       "      <td>2.900</td>\n",
       "      <td>0.0</td>\n",
       "      <td>7.1</td>\n",
       "      <td>1000.70</td>\n",
       "      <td>6.4</td>\n",
       "      <td>74.00</td>\n",
       "      <td>True</td>\n",
       "      <td>False</td>\n",
       "      <td>False</td>\n",
       "      <td>False</td>\n",
       "      <td>False</td>\n",
       "    </tr>\n",
       "    <tr>\n",
       "      <th>...</th>\n",
       "      <td>...</td>\n",
       "      <td>...</td>\n",
       "      <td>...</td>\n",
       "      <td>...</td>\n",
       "      <td>...</td>\n",
       "      <td>...</td>\n",
       "      <td>...</td>\n",
       "      <td>...</td>\n",
       "      <td>...</td>\n",
       "      <td>...</td>\n",
       "      <td>...</td>\n",
       "      <td>...</td>\n",
       "    </tr>\n",
       "    <tr>\n",
       "      <th>26293</th>\n",
       "      <td>0.0</td>\n",
       "      <td>0.183</td>\n",
       "      <td>0.0</td>\n",
       "      <td>3.8</td>\n",
       "      <td>998.13</td>\n",
       "      <td>-3.7</td>\n",
       "      <td>79.67</td>\n",
       "      <td>False</td>\n",
       "      <td>False</td>\n",
       "      <td>False</td>\n",
       "      <td>False</td>\n",
       "      <td>True</td>\n",
       "    </tr>\n",
       "    <tr>\n",
       "      <th>26294</th>\n",
       "      <td>1.5</td>\n",
       "      <td>0.000</td>\n",
       "      <td>0.0</td>\n",
       "      <td>5.3</td>\n",
       "      <td>990.17</td>\n",
       "      <td>-0.5</td>\n",
       "      <td>88.46</td>\n",
       "      <td>False</td>\n",
       "      <td>False</td>\n",
       "      <td>True</td>\n",
       "      <td>False</td>\n",
       "      <td>False</td>\n",
       "    </tr>\n",
       "    <tr>\n",
       "      <th>26295</th>\n",
       "      <td>0.3</td>\n",
       "      <td>0.000</td>\n",
       "      <td>0.0</td>\n",
       "      <td>8.2</td>\n",
       "      <td>994.40</td>\n",
       "      <td>4.0</td>\n",
       "      <td>100.00</td>\n",
       "      <td>False</td>\n",
       "      <td>False</td>\n",
       "      <td>True</td>\n",
       "      <td>False</td>\n",
       "      <td>False</td>\n",
       "    </tr>\n",
       "    <tr>\n",
       "      <th>26296</th>\n",
       "      <td>3.2</td>\n",
       "      <td>0.000</td>\n",
       "      <td>0.0</td>\n",
       "      <td>11.5</td>\n",
       "      <td>1001.70</td>\n",
       "      <td>9.0</td>\n",
       "      <td>98.54</td>\n",
       "      <td>False</td>\n",
       "      <td>False</td>\n",
       "      <td>True</td>\n",
       "      <td>False</td>\n",
       "      <td>False</td>\n",
       "    </tr>\n",
       "    <tr>\n",
       "      <th>26297</th>\n",
       "      <td>5.5</td>\n",
       "      <td>0.000</td>\n",
       "      <td>0.0</td>\n",
       "      <td>12.5</td>\n",
       "      <td>1004.72</td>\n",
       "      <td>12.8</td>\n",
       "      <td>84.96</td>\n",
       "      <td>False</td>\n",
       "      <td>False</td>\n",
       "      <td>True</td>\n",
       "      <td>False</td>\n",
       "      <td>False</td>\n",
       "    </tr>\n",
       "  </tbody>\n",
       "</table>\n",
       "<p>26152 rows × 12 columns</p>\n",
       "</div>"
      ],
      "text/plain": [
       "       prec  sun_dur  snow_depth  vapor_pres     pres  temp  rel_humid  \\\n",
       "90      1.0    0.000         0.0         7.1  1001.50   7.1      70.00   \n",
       "91      2.8    0.000         0.0         8.7   984.70   7.6      81.00   \n",
       "92      0.0    6.400         0.0         6.7   987.80   6.9      68.00   \n",
       "93      0.5    5.800         0.0         6.9   997.20   6.2      73.00   \n",
       "94     11.7    2.900         0.0         7.1  1000.70   6.4      74.00   \n",
       "...     ...      ...         ...         ...      ...   ...        ...   \n",
       "26293   0.0    0.183         0.0         3.8   998.13  -3.7      79.67   \n",
       "26294   1.5    0.000         0.0         5.3   990.17  -0.5      88.46   \n",
       "26295   0.3    0.000         0.0         8.2   994.40   4.0     100.00   \n",
       "26296   3.2    0.000         0.0        11.5  1001.70   9.0      98.54   \n",
       "26297   5.5    0.000         0.0        12.5  1004.72  12.8      84.96   \n",
       "\n",
       "       prec_type_1  prec_type_4  prec_type_6  prec_type_7  prec_type_8  \n",
       "90            True        False        False        False        False  \n",
       "91            True        False        False        False        False  \n",
       "92           False        False        False        False        False  \n",
       "93            True        False        False        False        False  \n",
       "94            True        False        False        False        False  \n",
       "...            ...          ...          ...          ...          ...  \n",
       "26293        False        False        False        False         True  \n",
       "26294        False        False         True        False        False  \n",
       "26295        False        False         True        False        False  \n",
       "26296        False        False         True        False        False  \n",
       "26297        False        False         True        False        False  \n",
       "\n",
       "[26152 rows x 12 columns]"
      ]
     },
     "execution_count": 10,
     "metadata": {},
     "output_type": "execute_result"
    }
   ],
   "source": [
    "data[\"prec_type\"] = data[\"prec_type\"].apply(str)\n",
    "data = pd.get_dummies(data, drop_first=True)\n",
    "data"
   ]
  },
  {
   "cell_type": "markdown",
   "id": "1f252c68-bc09-4b9e-a91f-ad4380fcc591",
   "metadata": {
    "editable": true,
    "slideshow": {
     "slide_type": ""
    },
    "tags": []
   },
   "source": [
    "Note: We used the option `drop_first=True` which removes the column for the first type. This does not reduce the information because the precipitation is of type 0 if it is not of another type, but it does reduce the number of features we introduce."
   ]
  },
  {
   "cell_type": "markdown",
   "id": "7fa67346-713c-48e4-a1ea-67ab5700f03a",
   "metadata": {
    "editable": true,
    "slideshow": {
     "slide_type": ""
    },
    "tags": []
   },
   "source": [
    "### Inspect data"
   ]
  },
  {
   "cell_type": "markdown",
   "id": "a5483d27-5298-40ae-8805-cde40f94bc2b",
   "metadata": {
    "editable": true,
    "slideshow": {
     "slide_type": ""
    },
    "tags": []
   },
   "source": [
    "Now that all the data is preprocessed, we want to take a closer look at the different features. We will start by plotting the distributions."
   ]
  },
  {
   "cell_type": "markdown",
   "id": "0bec38e8-58a6-4c6e-bab1-f8a32253a34a",
   "metadata": {
    "editable": true,
    "slideshow": {
     "slide_type": ""
    },
    "tags": []
   },
   "source": [
    "#### Check distributions"
   ]
  },
  {
   "cell_type": "code",
   "execution_count": 11,
   "id": "1197f59c-26b7-4753-98aa-06cf083f32fc",
   "metadata": {
    "editable": true,
    "slideshow": {
     "slide_type": ""
    },
    "tags": []
   },
   "outputs": [
    {
     "data": {
      "text/plain": [
       "array([[<Axes: title={'center': 'prec'}>,\n",
       "        <Axes: title={'center': 'sun_dur'}>,\n",
       "        <Axes: title={'center': 'snow_depth'}>],\n",
       "       [<Axes: title={'center': 'vapor_pres'}>,\n",
       "        <Axes: title={'center': 'pres'}>,\n",
       "        <Axes: title={'center': 'rel_humid'}>],\n",
       "       [<Axes: title={'center': 'temp'}>, <Axes: >, <Axes: >]],\n",
       "      dtype=object)"
      ]
     },
     "execution_count": 11,
     "metadata": {},
     "output_type": "execute_result"
    },
    {
     "data": {
      "image/png": "[encoded data removed]",
      "text/plain": [
       "<Figure size 900x600 with 9 Axes>"
      ]
     },
     "metadata": {},
     "output_type": "display_data"
    }
   ],
   "source": [
    "data[[\"prec\", \"sun_dur\", \"snow_depth\", \"vapor_pres\", \"pres\", \"rel_humid\", \"temp\"]].hist(\n",
    "    bins=35, figsize=(9, 6)\n",
    ")"
   ]
  },
  {
   "cell_type": "code",
   "execution_count": 12,
   "id": "1410b621-2c63-447d-ad3e-3ad0e2e70b4c",
   "metadata": {
    "editable": true,
    "slideshow": {
     "slide_type": ""
    },
    "tags": []
   },
   "outputs": [
    {
     "data": {
      "text/html": [
       "<div>\n",
       "<style scoped>\n",
       "    .dataframe tbody tr th:only-of-type {\n",
       "        vertical-align: middle;\n",
       "    }\n",
       "\n",
       "    .dataframe tbody tr th {\n",
       "        vertical-align: top;\n",
       "    }\n",
       "\n",
       "    .dataframe thead th {\n",
       "        text-align: right;\n",
       "    }\n",
       "</style>\n",
       "<table border=\"1\" class=\"dataframe\">\n",
       "  <thead>\n",
       "    <tr style=\"text-align: right;\">\n",
       "      <th></th>\n",
       "      <th>prec</th>\n",
       "      <th>sun_dur</th>\n",
       "      <th>snow_depth</th>\n",
       "      <th>vapor_pres</th>\n",
       "      <th>pres</th>\n",
       "      <th>rel_humid</th>\n",
       "      <th>temp</th>\n",
       "    </tr>\n",
       "  </thead>\n",
       "  <tbody>\n",
       "    <tr>\n",
       "      <th>count</th>\n",
       "      <td>26152.000000</td>\n",
       "      <td>26152.000000</td>\n",
       "      <td>26152.000000</td>\n",
       "      <td>26152.000000</td>\n",
       "      <td>26152.000000</td>\n",
       "      <td>26152.000000</td>\n",
       "      <td>26152.000000</td>\n",
       "    </tr>\n",
       "    <tr>\n",
       "      <th>mean</th>\n",
       "      <td>1.605422</td>\n",
       "      <td>4.741813</td>\n",
       "      <td>0.754742</td>\n",
       "      <td>9.599373</td>\n",
       "      <td>1007.798212</td>\n",
       "      <td>76.528964</td>\n",
       "      <td>9.374013</td>\n",
       "    </tr>\n",
       "    <tr>\n",
       "      <th>std</th>\n",
       "      <td>3.854016</td>\n",
       "      <td>4.429256</td>\n",
       "      <td>3.293229</td>\n",
       "      <td>4.084277</td>\n",
       "      <td>9.128905</td>\n",
       "      <td>12.914631</td>\n",
       "      <td>7.619309</td>\n",
       "    </tr>\n",
       "    <tr>\n",
       "      <th>min</th>\n",
       "      <td>0.000000</td>\n",
       "      <td>0.000000</td>\n",
       "      <td>0.000000</td>\n",
       "      <td>1.100000</td>\n",
       "      <td>961.000000</td>\n",
       "      <td>29.000000</td>\n",
       "      <td>-17.900000</td>\n",
       "    </tr>\n",
       "    <tr>\n",
       "      <th>25%</th>\n",
       "      <td>0.000000</td>\n",
       "      <td>0.400000</td>\n",
       "      <td>0.000000</td>\n",
       "      <td>6.400000</td>\n",
       "      <td>1002.297500</td>\n",
       "      <td>68.000000</td>\n",
       "      <td>3.600000</td>\n",
       "    </tr>\n",
       "    <tr>\n",
       "      <th>50%</th>\n",
       "      <td>0.000000</td>\n",
       "      <td>3.800000</td>\n",
       "      <td>0.000000</td>\n",
       "      <td>8.900000</td>\n",
       "      <td>1008.200000</td>\n",
       "      <td>78.000000</td>\n",
       "      <td>9.500000</td>\n",
       "    </tr>\n",
       "    <tr>\n",
       "      <th>75%</th>\n",
       "      <td>1.500000</td>\n",
       "      <td>8.000000</td>\n",
       "      <td>0.000000</td>\n",
       "      <td>12.500000</td>\n",
       "      <td>1013.600000</td>\n",
       "      <td>87.000000</td>\n",
       "      <td>15.400000</td>\n",
       "    </tr>\n",
       "    <tr>\n",
       "      <th>max</th>\n",
       "      <td>106.000000</td>\n",
       "      <td>16.400000</td>\n",
       "      <td>49.000000</td>\n",
       "      <td>23.900000</td>\n",
       "      <td>1040.000000</td>\n",
       "      <td>100.000000</td>\n",
       "      <td>29.500000</td>\n",
       "    </tr>\n",
       "  </tbody>\n",
       "</table>\n",
       "</div>"
      ],
      "text/plain": [
       "               prec       sun_dur    snow_depth    vapor_pres          pres  \\\n",
       "count  26152.000000  26152.000000  26152.000000  26152.000000  26152.000000   \n",
       "mean       1.605422      4.741813      0.754742      9.599373   1007.798212   \n",
       "std        3.854016      4.429256      3.293229      4.084277      9.128905   \n",
       "min        0.000000      0.000000      0.000000      1.100000    961.000000   \n",
       "25%        0.000000      0.400000      0.000000      6.400000   1002.297500   \n",
       "50%        0.000000      3.800000      0.000000      8.900000   1008.200000   \n",
       "75%        1.500000      8.000000      0.000000     12.500000   1013.600000   \n",
       "max      106.000000     16.400000     49.000000     23.900000   1040.000000   \n",
       "\n",
       "          rel_humid          temp  \n",
       "count  26152.000000  26152.000000  \n",
       "mean      76.528964      9.374013  \n",
       "std       12.914631      7.619309  \n",
       "min       29.000000    -17.900000  \n",
       "25%       68.000000      3.600000  \n",
       "50%       78.000000      9.500000  \n",
       "75%       87.000000     15.400000  \n",
       "max      100.000000     29.500000  "
      ]
     },
     "execution_count": 12,
     "metadata": {},
     "output_type": "execute_result"
    }
   ],
   "source": [
    "data[\n",
    "    [\"prec\", \"sun_dur\", \"snow_depth\", \"vapor_pres\", \"pres\", \"rel_humid\", \"temp\"]\n",
    "].describe()"
   ]
  },
  {
   "cell_type": "markdown",
   "id": "201c706d-eaf9-4d9f-b61e-7e338ef7605b",
   "metadata": {
    "editable": true,
    "slideshow": {
     "slide_type": ""
    },
    "tags": []
   },
   "source": [
    "We can see several things here. Let us start with precipitation, sunshine duration and snow depth. All three show a large spike at 0. This indicates a problem with the data. Here, 0 means that there was no precipitation, but it could also mean that the precipitation was too low to be measured, or that there was a problem with the instrument. The same is true for sunshine duration. We cannot easily compensate for these problems, so we will drop the information.\n",
    "\n",
    "We do the same for snow depth, which is 0 most of the time."
   ]
  },
  {
   "cell_type": "code",
   "execution_count": 13,
   "id": "4dc902cf-a092-490d-8771-33484d75c2f1",
   "metadata": {
    "editable": true,
    "slideshow": {
     "slide_type": ""
    },
    "tags": []
   },
   "outputs": [
    {
     "data": {
      "text/html": [
       "<div>\n",
       "<style scoped>\n",
       "    .dataframe tbody tr th:only-of-type {\n",
       "        vertical-align: middle;\n",
       "    }\n",
       "\n",
       "    .dataframe tbody tr th {\n",
       "        vertical-align: top;\n",
       "    }\n",
       "\n",
       "    .dataframe thead th {\n",
       "        text-align: right;\n",
       "    }\n",
       "</style>\n",
       "<table border=\"1\" class=\"dataframe\">\n",
       "  <thead>\n",
       "    <tr style=\"text-align: right;\">\n",
       "      <th></th>\n",
       "      <th>vapor_pres</th>\n",
       "      <th>pres</th>\n",
       "      <th>temp</th>\n",
       "      <th>rel_humid</th>\n",
       "      <th>prec_type_1</th>\n",
       "      <th>prec_type_4</th>\n",
       "      <th>prec_type_6</th>\n",
       "      <th>prec_type_7</th>\n",
       "      <th>prec_type_8</th>\n",
       "    </tr>\n",
       "  </thead>\n",
       "  <tbody>\n",
       "    <tr>\n",
       "      <th>90</th>\n",
       "      <td>7.1</td>\n",
       "      <td>1001.50</td>\n",
       "      <td>7.1</td>\n",
       "      <td>70.00</td>\n",
       "      <td>True</td>\n",
       "      <td>False</td>\n",
       "      <td>False</td>\n",
       "      <td>False</td>\n",
       "      <td>False</td>\n",
       "    </tr>\n",
       "    <tr>\n",
       "      <th>91</th>\n",
       "      <td>8.7</td>\n",
       "      <td>984.70</td>\n",
       "      <td>7.6</td>\n",
       "      <td>81.00</td>\n",
       "      <td>True</td>\n",
       "      <td>False</td>\n",
       "      <td>False</td>\n",
       "      <td>False</td>\n",
       "      <td>False</td>\n",
       "    </tr>\n",
       "    <tr>\n",
       "      <th>92</th>\n",
       "      <td>6.7</td>\n",
       "      <td>987.80</td>\n",
       "      <td>6.9</td>\n",
       "      <td>68.00</td>\n",
       "      <td>False</td>\n",
       "      <td>False</td>\n",
       "      <td>False</td>\n",
       "      <td>False</td>\n",
       "      <td>False</td>\n",
       "    </tr>\n",
       "    <tr>\n",
       "      <th>93</th>\n",
       "      <td>6.9</td>\n",
       "      <td>997.20</td>\n",
       "      <td>6.2</td>\n",
       "      <td>73.00</td>\n",
       "      <td>True</td>\n",
       "      <td>False</td>\n",
       "      <td>False</td>\n",
       "      <td>False</td>\n",
       "      <td>False</td>\n",
       "    </tr>\n",
       "    <tr>\n",
       "      <th>94</th>\n",
       "      <td>7.1</td>\n",
       "      <td>1000.70</td>\n",
       "      <td>6.4</td>\n",
       "      <td>74.00</td>\n",
       "      <td>True</td>\n",
       "      <td>False</td>\n",
       "      <td>False</td>\n",
       "      <td>False</td>\n",
       "      <td>False</td>\n",
       "    </tr>\n",
       "    <tr>\n",
       "      <th>...</th>\n",
       "      <td>...</td>\n",
       "      <td>...</td>\n",
       "      <td>...</td>\n",
       "      <td>...</td>\n",
       "      <td>...</td>\n",
       "      <td>...</td>\n",
       "      <td>...</td>\n",
       "      <td>...</td>\n",
       "      <td>...</td>\n",
       "    </tr>\n",
       "    <tr>\n",
       "      <th>26293</th>\n",
       "      <td>3.8</td>\n",
       "      <td>998.13</td>\n",
       "      <td>-3.7</td>\n",
       "      <td>79.67</td>\n",
       "      <td>False</td>\n",
       "      <td>False</td>\n",
       "      <td>False</td>\n",
       "      <td>False</td>\n",
       "      <td>True</td>\n",
       "    </tr>\n",
       "    <tr>\n",
       "      <th>26294</th>\n",
       "      <td>5.3</td>\n",
       "      <td>990.17</td>\n",
       "      <td>-0.5</td>\n",
       "      <td>88.46</td>\n",
       "      <td>False</td>\n",
       "      <td>False</td>\n",
       "      <td>True</td>\n",
       "      <td>False</td>\n",
       "      <td>False</td>\n",
       "    </tr>\n",
       "    <tr>\n",
       "      <th>26295</th>\n",
       "      <td>8.2</td>\n",
       "      <td>994.40</td>\n",
       "      <td>4.0</td>\n",
       "      <td>100.00</td>\n",
       "      <td>False</td>\n",
       "      <td>False</td>\n",
       "      <td>True</td>\n",
       "      <td>False</td>\n",
       "      <td>False</td>\n",
       "    </tr>\n",
       "    <tr>\n",
       "      <th>26296</th>\n",
       "      <td>11.5</td>\n",
       "      <td>1001.70</td>\n",
       "      <td>9.0</td>\n",
       "      <td>98.54</td>\n",
       "      <td>False</td>\n",
       "      <td>False</td>\n",
       "      <td>True</td>\n",
       "      <td>False</td>\n",
       "      <td>False</td>\n",
       "    </tr>\n",
       "    <tr>\n",
       "      <th>26297</th>\n",
       "      <td>12.5</td>\n",
       "      <td>1004.72</td>\n",
       "      <td>12.8</td>\n",
       "      <td>84.96</td>\n",
       "      <td>False</td>\n",
       "      <td>False</td>\n",
       "      <td>True</td>\n",
       "      <td>False</td>\n",
       "      <td>False</td>\n",
       "    </tr>\n",
       "  </tbody>\n",
       "</table>\n",
       "<p>26152 rows × 9 columns</p>\n",
       "</div>"
      ],
      "text/plain": [
       "       vapor_pres     pres  temp  rel_humid  prec_type_1  prec_type_4  \\\n",
       "90            7.1  1001.50   7.1      70.00         True        False   \n",
       "91            8.7   984.70   7.6      81.00         True        False   \n",
       "92            6.7   987.80   6.9      68.00        False        False   \n",
       "93            6.9   997.20   6.2      73.00         True        False   \n",
       "94            7.1  1000.70   6.4      74.00         True        False   \n",
       "...           ...      ...   ...        ...          ...          ...   \n",
       "26293         3.8   998.13  -3.7      79.67        False        False   \n",
       "26294         5.3   990.17  -0.5      88.46        False        False   \n",
       "26295         8.2   994.40   4.0     100.00        False        False   \n",
       "26296        11.5  1001.70   9.0      98.54        False        False   \n",
       "26297        12.5  1004.72  12.8      84.96        False        False   \n",
       "\n",
       "       prec_type_6  prec_type_7  prec_type_8  \n",
       "90           False        False        False  \n",
       "91           False        False        False  \n",
       "92           False        False        False  \n",
       "93           False        False        False  \n",
       "94           False        False        False  \n",
       "...            ...          ...          ...  \n",
       "26293        False        False         True  \n",
       "26294         True        False        False  \n",
       "26295         True        False        False  \n",
       "26296         True        False        False  \n",
       "26297         True        False        False  \n",
       "\n",
       "[26152 rows x 9 columns]"
      ]
     },
     "execution_count": 13,
     "metadata": {},
     "output_type": "execute_result"
    }
   ],
   "source": [
    "data = data.drop(columns=[\"prec\", \"sun_dur\", \"snow_depth\"])\n",
    "data"
   ]
  },
  {
   "cell_type": "markdown",
   "id": "374551fa-0e2e-49dc-b8a1-ca422bde19d9",
   "metadata": {
    "editable": true,
    "slideshow": {
     "slide_type": ""
    },
    "tags": []
   },
   "source": [
    "Next we look at the distribution for cloud cover. Cloud cover is measured in eighths, which actually makes it a discrete variable. However, here we have daily averages, so we get pseudo-continuous values. But there is still no real metric, so we convert the cloud cover to a percentage."
   ]
  },
  {
   "cell_type": "markdown",
   "id": "33b0c37d-f81b-4e4f-b767-7b2a20dbdb50",
   "metadata": {
    "editable": true,
    "slideshow": {
     "slide_type": ""
    },
    "tags": []
   },
   "source": [
    "Finally, we see that the distributions for cloud cover, vapor pressure, pressure, relative humidity, and temperature are all on different scales and are not normally distributed. However, many learning algorithms rely on gradient descent or distance measures. This is problematic when the values are on very different scales. Furthermore, most features are bounded on one or even both sides, so that values outside these bounds are physically meaningless. In the following, we will apply some transformations to the features.\n",
    "\n",
    "**But before we do that, we need to take another important step first.**"
   ]
  },
  {
   "cell_type": "markdown",
   "id": "bdc57da1-9f7a-4352-b4de-e0404c7f4ca5",
   "metadata": {
    "editable": true,
    "slideshow": {
     "slide_type": ""
    },
    "tags": []
   },
   "source": [
    "### Train-Test split"
   ]
  },
  {
   "cell_type": "markdown",
   "id": "f822bc5f-384a-4090-9b24-608329b2bd0e",
   "metadata": {
    "editable": true,
    "slideshow": {
     "slide_type": ""
    },
    "tags": []
   },
   "source": [
    "When we train a model, we need to test its performance. To do this, we need data that is similar to the training data, but independent of it. We achieve this by splitting our dataset into two parts, a training part, which we use to build the model, and a test part, which we use only for the final evaluation.\n",
    "\n",
    "Here we use 80% of our data for training and 20% for testing. Additionally, we split the data into features and target variables."
   ]
  },
  {
   "cell_type": "code",
   "execution_count": 14,
   "id": "9053b670-c758-4198-b2cf-bf3ab15cff09",
   "metadata": {
    "editable": true,
    "slideshow": {
     "slide_type": ""
    },
    "tags": []
   },
   "outputs": [
    {
     "name": "stdout",
     "output_type": "stream",
     "text": [
      "20921 5231 20921 5231\n"
     ]
    }
   ],
   "source": [
    "from sklearn.model_selection import train_test_split\n",
    "\n",
    "# split features and target first\n",
    "X, y = data.drop(columns=[\"temp\"]), data[\"temp\"]\n",
    "\n",
    "X_train, X_test, y_train, y_test = train_test_split(X, y, test_size=0.2, random_state=0)\n",
    "\n",
    "print(len(X_train), len(X_test), len(y_train), len(y_test))"
   ]
  },
  {
   "cell_type": "markdown",
   "id": "ce7a10fb-f4b7-4925-8b65-21cc2bc377b3",
   "metadata": {
    "editable": true,
    "slideshow": {
     "slide_type": ""
    },
    "tags": []
   },
   "source": [
    "As we can see, we have 20921 records in the training set and 5231 records in the test set.\n",
    "\n",
    "Note: The records are randomly shuffled and split to avoid any effects from the original order of the records."
   ]
  },
  {
   "cell_type": "markdown",
   "id": "7c597eb5-de91-4727-85c4-8378e89b6b51",
   "metadata": {
    "editable": true,
    "slideshow": {
     "slide_type": ""
    },
    "tags": []
   },
   "source": [
    "### Feature scaling"
   ]
  },
  {
   "cell_type": "markdown",
   "id": "9832d9ac-477a-4796-9c08-c0a8911d70c4",
   "metadata": {
    "editable": true,
    "slideshow": {
     "slide_type": ""
    },
    "tags": []
   },
   "source": [
    "Now we are ready for the promised feature scaling.\n",
    "\n",
    "The reason we did the train-test split first is that we want a pure training data set that is not influenced by the test data. If we were to determine the scaling parameters from the whole data set, information from the test data would be included in the parameters. Therefore, we perform the scaling on the training data only. Then, of course, we have to transform the test set with the same parameters.\n",
    "\n",
    "The features cloud cover, vapor pressure, pressure, relative humidity and temperature are all double constrained and we will use a logistic transformation with a prior min-max scaling."
   ]
  },
  {
   "cell_type": "markdown",
   "id": "84f7766c-2d1f-4b92-a8c8-e42d717332cf",
   "metadata": {
    "editable": true,
    "slideshow": {
     "slide_type": ""
    },
    "tags": []
   },
   "source": [
    "#### Min-Max scaling"
   ]
  },
  {
   "cell_type": "markdown",
   "id": "bbe144af-825e-473e-b98c-88eb25c88487",
   "metadata": {
    "editable": true,
    "slideshow": {
     "slide_type": ""
    },
    "tags": []
   },
   "source": [
    "The min-max scaling\n",
    "\n",
    "$$x'=\\frac{x-x_{min}}{x_{max}-x_{min}}$$\n",
    "\n",
    "\n",
    "transforms the data into the range $[0,1]$. We want to avoid getting values with 0, because in the second step we need the logarithm of the values. Therefore, we use slightly larger boundary values $x_{min}-1$ and $x_{max}+1$. Thus\n",
    "\n",
    "$$x'=\\frac{x-x_{min}+1}{x_{max}-x_{min}+2\\, .}$$\n",
    "\n",
    "\n",
    "**Note that we transform the test set with the min max values from the train set.**\n"
   ]
  },
  {
   "cell_type": "code",
   "execution_count": 15,
   "id": "4f22bbb8-abaf-4932-9a58-3b6c9707ce2f",
   "metadata": {
    "editable": true,
    "slideshow": {
     "slide_type": ""
    },
    "tags": []
   },
   "outputs": [],
   "source": [
    "transform_cols = [\"vapor_pres\", \"pres\", \"rel_humid\"]\n",
    "X_test[transform_cols] = (\n",
    "    X_test[transform_cols] - X_train[transform_cols].min() + 1\n",
    ") / (X_train[transform_cols].max() - X_train[transform_cols].min() + 2)\n",
    "X_train[transform_cols] = (\n",
    "    X_train[transform_cols] - X_train[transform_cols].min() + 1\n",
    ") / (X_train[transform_cols].max() - X_train[transform_cols].min() + 2)\n",
    "y_test = (y_test - y_train.min() + 1) / (y_train.max() - y_train.min() + 2)\n",
    "y_train = (y_train - y_train.min() + 1) / (y_train.max() - y_train.min() + 2)"
   ]
  },
  {
   "cell_type": "markdown",
   "id": "1e920830-40f1-4060-8be8-057dc6ec9222",
   "metadata": {
    "editable": true,
    "slideshow": {
     "slide_type": ""
    },
    "tags": []
   },
   "source": [
    "#### Logistic transformation"
   ]
  },
  {
   "cell_type": "markdown",
   "id": "6755f223-11a5-466a-850a-6b72697d0f4c",
   "metadata": {
    "editable": true,
    "slideshow": {
     "slide_type": ""
    },
    "tags": []
   },
   "source": [
    "As a second step, we use a logistic transformation\n",
    "$$x''=\\log\\frac{x'}{1-x'}$$"
   ]
  },
  {
   "cell_type": "markdown",
   "id": "fa45d60f-ed2e-4575-adb9-a859b1cc1aa6",
   "metadata": {
    "editable": true,
    "slideshow": {
     "slide_type": ""
    },
    "tags": []
   },
   "source": [
    "However, before we can start the transformation, we face a problem! Because we have transformed the test set with the values of the training set, the test set may contain values outside the range [0,1]. This will not work with the logarithm in the transformation."
   ]
  },
  {
   "cell_type": "code",
   "execution_count": 16,
   "id": "6ed5d44d-5292-4c50-b243-151255c05b37",
   "metadata": {
    "editable": true,
    "slideshow": {
     "slide_type": ""
    },
    "tags": []
   },
   "outputs": [
    {
     "name": "stdout",
     "output_type": "stream",
     "text": [
      "       vapor_pres      pres  rel_humid  prec_type_1  prec_type_4  prec_type_6  \\\n",
      "14301    0.270161 -0.032258   0.643836        False        False         True   \n",
      "\n",
      "       prec_type_7  prec_type_8  \n",
      "14301        False        False  \n",
      "Empty DataFrame\n",
      "Columns: [vapor_pres, pres, rel_humid, prec_type_1, prec_type_4, prec_type_6, prec_type_7, prec_type_8]\n",
      "Index: []\n",
      "Series([], Name: temp, dtype: float64)\n",
      "Series([], Name: temp, dtype: float64)\n"
     ]
    }
   ],
   "source": [
    "print(X_test[X_test[transform_cols].le(0).any(axis=1)])\n",
    "print(X_test[X_test[transform_cols].ge(1).any(axis=1)])\n",
    "print(y_test[y_test.le(0)])\n",
    "print(y_test[y_test.ge(1)])"
   ]
  },
  {
   "cell_type": "markdown",
   "id": "e37ce089-b2c3-4df9-b44e-2187030d440e",
   "metadata": {
    "editable": true,
    "slideshow": {
     "slide_type": ""
    },
    "tags": []
   },
   "source": [
    "As we can see, there is a pressure value below 0 in the test set. We basically have two options: either drop the data or impute new values. As we only have one problematic data set, we will drop it. For imputation, we could assign the minimum possible value to the problematic pressure value."
   ]
  },
  {
   "cell_type": "code",
   "execution_count": 17,
   "id": "044787f4-78b9-4a35-a555-1fcc3cfbba93",
   "metadata": {
    "editable": true,
    "slideshow": {
     "slide_type": ""
    },
    "tags": []
   },
   "outputs": [],
   "source": [
    "y_test.drop(\n",
    "    X_test[\n",
    "        X_test[transform_cols].le(0).any(axis=1)\n",
    "        | X_test[transform_cols].ge(1).any(axis=1)\n",
    "    ].index,\n",
    "    inplace=True,\n",
    ")\n",
    "X_test.drop(\n",
    "    X_test[\n",
    "        X_test[transform_cols].le(0).any(axis=1)\n",
    "        | X_test[transform_cols].ge(1).any(axis=1)\n",
    "    ].index,\n",
    "    inplace=True,\n",
    ")"
   ]
  },
  {
   "cell_type": "code",
   "execution_count": 18,
   "id": "9633578b-8101-4e6b-8136-3384f36605f9",
   "metadata": {
    "editable": true,
    "slideshow": {
     "slide_type": ""
    },
    "tags": []
   },
   "outputs": [],
   "source": [
    "X_test.drop(y_test[y_test.le(0) | y_test.ge(1)].index, inplace=True)\n",
    "y_test.drop(y_test[y_test.le(0) | y_test.ge(1)].index, inplace=True)"
   ]
  },
  {
   "cell_type": "markdown",
   "id": "90685ae4-7a25-4472-8831-0f6e9c44dac8",
   "metadata": {
    "editable": true,
    "slideshow": {
     "slide_type": ""
    },
    "tags": []
   },
   "source": [
    "Now we are ready for the logistical transformation."
   ]
  },
  {
   "cell_type": "code",
   "execution_count": 19,
   "id": "888339cd-f93c-4ae2-a338-2c3eec7f42d5",
   "metadata": {
    "editable": true,
    "slideshow": {
     "slide_type": ""
    },
    "tags": []
   },
   "outputs": [],
   "source": [
    "X_test[transform_cols] = np.log(X_test[transform_cols] / (1 - X_test[transform_cols]))\n",
    "X_train[transform_cols] = np.log(\n",
    "    X_train[transform_cols] / (1 - X_train[transform_cols])\n",
    ")\n",
    "y_test = np.log(y_test / (1 - y_test))\n",
    "y_train = np.log(y_train / (1 - y_train))"
   ]
  },
  {
   "cell_type": "markdown",
   "id": "3ee98fea-396b-451d-b2f1-c47629ca1c68",
   "metadata": {
    "editable": true,
    "slideshow": {
     "slide_type": ""
    },
    "tags": []
   },
   "source": [
    "Let's take a look at the new distributions."
   ]
  },
  {
   "cell_type": "code",
   "execution_count": 20,
   "id": "a170fffd-e71e-4d31-b2ba-caf9824c1f52",
   "metadata": {
    "editable": true,
    "slideshow": {
     "slide_type": ""
    },
    "tags": []
   },
   "outputs": [
    {
     "data": {
      "image/png": "[encoded data removed]",
      "text/plain": [
       "<Figure size 900x600 with 4 Axes>"
      ]
     },
     "metadata": {},
     "output_type": "display_data"
    }
   ],
   "source": [
    "X_train[transform_cols].hist(bins=35, figsize=(9, 6))\n",
    "plt.show()"
   ]
  },
  {
   "cell_type": "code",
   "execution_count": 21,
   "id": "e1a917ca-06c4-4fe9-9298-f2a59d3a957f",
   "metadata": {
    "editable": true,
    "slideshow": {
     "slide_type": ""
    },
    "tags": []
   },
   "outputs": [
    {
     "data": {
      "image/png": "[encoded data removed]",
      "text/plain": [
       "<Figure size 900x600 with 4 Axes>"
      ]
     },
     "metadata": {},
     "output_type": "display_data"
    }
   ],
   "source": [
    "X_test[transform_cols].hist(bins=35, figsize=(9, 6))\n",
    "plt.show()"
   ]
  },
  {
   "cell_type": "code",
   "execution_count": 22,
   "id": "660fffd0-730f-4a37-a608-94f7263e0f3b",
   "metadata": {
    "editable": true,
    "slideshow": {
     "slide_type": ""
    },
    "tags": []
   },
   "outputs": [
    {
     "data": {
      "image/png": "[encoded data removed]",
      "text/plain": [
       "<Figure size 450x300 with 1 Axes>"
      ]
     },
     "metadata": {},
     "output_type": "display_data"
    }
   ],
   "source": [
    "y_train.hist(bins=35, figsize=(4.5, 3))\n",
    "plt.title(\"Scaled Temperature (y_train)\")\n",
    "plt.show()"
   ]
  },
  {
   "cell_type": "code",
   "execution_count": 23,
   "id": "ea69f09e-b1c6-4e3e-95d3-db8d50a5c291",
   "metadata": {
    "editable": true,
    "slideshow": {
     "slide_type": ""
    },
    "tags": []
   },
   "outputs": [
    {
     "data": {
      "image/png": "[encoded data removed]",
      "text/plain": [
       "<Figure size 450x300 with 1 Axes>"
      ]
     },
     "metadata": {},
     "output_type": "display_data"
    }
   ],
   "source": [
    "y_test.hist(bins=35, figsize=(4.5, 3))\n",
    "plt.title(\"Scaled Temperature (y_test)\")\n",
    "plt.show()"
   ]
  },
  {
   "cell_type": "markdown",
   "id": "24243a07-3099-4db9-b81e-91fe4b7ffff8",
   "metadata": {
    "editable": true,
    "slideshow": {
     "slide_type": ""
    },
    "tags": []
   },
   "source": [
    "We can see that all the features are now on the same scale and have an almost normal distribution. After the transformation the data is not anymore restricted to a certain interval, and has vaules greater and less than zero. Now we are allowed to use euclidean metrics, i.e. distances and angles, and can apply statistical methods that are based on these metrics."
   ]
  },
  {
   "cell_type": "markdown",
   "id": "bb2fa8ca-ef98-4595-8945-4eb6a127e560",
   "metadata": {
    "editable": true,
    "slideshow": {
     "slide_type": ""
    },
    "tags": []
   },
   "source": [
    "### Model definition"
   ]
  },
  {
   "cell_type": "markdown",
   "id": "cf6eb4b9-e7ca-416e-bb16-2d77e7dc1589",
   "metadata": {
    "editable": true,
    "slideshow": {
     "slide_type": ""
    },
    "tags": []
   },
   "source": [
    "All the necessary pre-processing is now done and we can finally get to the actual model.\n",
    "\n",
    "We will use a neural net for this regression task and start with a fully connected net with two layers and 8 nodes each. We chose the 8 simply because we have 8 features."
   ]
  },
  {
   "cell_type": "code",
   "execution_count": 24,
   "id": "b330281f-2347-444e-9bff-7b9021a47f3f",
   "metadata": {
    "editable": true,
    "slideshow": {
     "slide_type": ""
    },
    "tags": []
   },
   "outputs": [],
   "source": [
    "from sklearn.neural_network import MLPRegressor\n",
    "\n",
    "mlp = MLPRegressor(\n",
    "    hidden_layer_sizes=(\n",
    "        8,\n",
    "        8,\n",
    "    ),\n",
    "    activation=\"relu\",\n",
    "    alpha=0.0001,\n",
    "    batch_size=200,\n",
    "    max_iter=200,\n",
    "    random_state=0,\n",
    ")"
   ]
  },
  {
   "cell_type": "markdown",
   "id": "2de1190a-c5b6-4428-8cd7-d09ad84abed2",
   "metadata": {
    "editable": true,
    "slideshow": {
     "slide_type": ""
    },
    "tags": []
   },
   "source": [
    "### Model training"
   ]
  },
  {
   "cell_type": "markdown",
   "id": "0ef8b217-8830-4d86-b704-203f70f0300f",
   "metadata": {
    "editable": true,
    "slideshow": {
     "slide_type": ""
    },
    "tags": []
   },
   "source": [
    "Once we have defined the model, we need to train it on our train set."
   ]
  },
  {
   "cell_type": "code",
   "execution_count": 25,
   "id": "9c53c1a0-38ea-4d7f-b965-af5e5debb3e9",
   "metadata": {
    "editable": true,
    "slideshow": {
     "slide_type": ""
    },
    "tags": []
   },
   "outputs": [
    {
     "data": {
      "text/html": [
       "<style>#sk-container-id-1 {\n",
       "  /* Definition of color scheme common for light and dark mode */\n",
       "  --sklearn-color-text: black;\n",
       "  --sklearn-color-line: gray;\n",
       "  /* Definition of color scheme for unfitted estimators */\n",
       "  --sklearn-color-unfitted-level-0: #fff5e6;\n",
       "  --sklearn-color-unfitted-level-1: #f6e4d2;\n",
       "  --sklearn-color-unfitted-level-2: #ffe0b3;\n",
       "  --sklearn-color-unfitted-level-3: chocolate;\n",
       "  /* Definition of color scheme for fitted estimators */\n",
       "  --sklearn-color-fitted-level-0: #f0f8ff;\n",
       "  --sklearn-color-fitted-level-1: #d4ebff;\n",
       "  --sklearn-color-fitted-level-2: #b3dbfd;\n",
       "  --sklearn-color-fitted-level-3: cornflowerblue;\n",
       "\n",
       "  /* Specific color for light theme */\n",
       "  --sklearn-color-text-on-default-background: var(--sg-text-color, var(--theme-code-foreground, var(--jp-content-font-color1, black)));\n",
       "  --sklearn-color-background: var(--sg-background-color, var(--theme-background, var(--jp-layout-color0, white)));\n",
       "  --sklearn-color-border-box: var(--sg-text-color, var(--theme-code-foreground, var(--jp-content-font-color1, black)));\n",
       "  --sklearn-color-icon: #696969;\n",
       "\n",
       "  @media (prefers-color-scheme: dark) {\n",
       "    /* Redefinition of color scheme for dark theme */\n",
       "    --sklearn-color-text-on-default-background: var(--sg-text-color, var(--theme-code-foreground, var(--jp-content-font-color1, white)));\n",
       "    --sklearn-color-background: var(--sg-background-color, var(--theme-background, var(--jp-layout-color0, #111)));\n",
       "    --sklearn-color-border-box: var(--sg-text-color, var(--theme-code-foreground, var(--jp-content-font-color1, white)));\n",
       "    --sklearn-color-icon: #878787;\n",
       "  }\n",
       "}\n",
       "\n",
       "#sk-container-id-1 {\n",
       "  color: var(--sklearn-color-text);\n",
       "}\n",
       "\n",
       "#sk-container-id-1 pre {\n",
       "  padding: 0;\n",
       "}\n",
       "\n",
       "#sk-container-id-1 input.sk-hidden--visually {\n",
       "  border: 0;\n",
       "  clip: rect(1px 1px 1px 1px);\n",
       "  clip: rect(1px, 1px, 1px, 1px);\n",
       "  height: 1px;\n",
       "  margin: -1px;\n",
       "  overflow: hidden;\n",
       "  padding: 0;\n",
       "  position: absolute;\n",
       "  width: 1px;\n",
       "}\n",
       "\n",
       "#sk-container-id-1 div.sk-dashed-wrapped {\n",
       "  border: 1px dashed var(--sklearn-color-line);\n",
       "  margin: 0 0.4em 0.5em 0.4em;\n",
       "  box-sizing: border-box;\n",
       "  padding-bottom: 0.4em;\n",
       "  background-color: var(--sklearn-color-background);\n",
       "}\n",
       "\n",
       "#sk-container-id-1 div.sk-container {\n",
       "  /* jupyter's `normalize.less` sets `[hidden] { display: none; }`\n",
       "     but bootstrap.min.css set `[hidden] { display: none !important; }`\n",
       "     so we also need the `!important` here to be able to override the\n",
       "     default hidden behavior on the sphinx rendered scikit-learn.org.\n",
       "     See: https://github.com/scikit-learn/scikit-learn/issues/21755 */\n",
       "  display: inline-block !important;\n",
       "  position: relative;\n",
       "}\n",
       "\n",
       "#sk-container-id-1 div.sk-text-repr-fallback {\n",
       "  display: none;\n",
       "}\n",
       "\n",
       "div.sk-parallel-item,\n",
       "div.sk-serial,\n",
       "div.sk-item {\n",
       "  /* draw centered vertical line to link estimators */\n",
       "  background-image: linear-gradient(var(--sklearn-color-text-on-default-background), var(--sklearn-color-text-on-default-background));\n",
       "  background-size: 2px 100%;\n",
       "  background-repeat: no-repeat;\n",
       "  background-position: center center;\n",
       "}\n",
       "\n",
       "/* Parallel-specific style estimator block */\n",
       "\n",
       "#sk-container-id-1 div.sk-parallel-item::after {\n",
       "  content: \"\";\n",
       "  width: 100%;\n",
       "  border-bottom: 2px solid var(--sklearn-color-text-on-default-background);\n",
       "  flex-grow: 1;\n",
       "}\n",
       "\n",
       "#sk-container-id-1 div.sk-parallel {\n",
       "  display: flex;\n",
       "  align-items: stretch;\n",
       "  justify-content: center;\n",
       "  background-color: var(--sklearn-color-background);\n",
       "  position: relative;\n",
       "}\n",
       "\n",
       "#sk-container-id-1 div.sk-parallel-item {\n",
       "  display: flex;\n",
       "  flex-direction: column;\n",
       "}\n",
       "\n",
       "#sk-container-id-1 div.sk-parallel-item:first-child::after {\n",
       "  align-self: flex-end;\n",
       "  width: 50%;\n",
       "}\n",
       "\n",
       "#sk-container-id-1 div.sk-parallel-item:last-child::after {\n",
       "  align-self: flex-start;\n",
       "  width: 50%;\n",
       "}\n",
       "\n",
       "#sk-container-id-1 div.sk-parallel-item:only-child::after {\n",
       "  width: 0;\n",
       "}\n",
       "\n",
       "/* Serial-specific style estimator block */\n",
       "\n",
       "#sk-container-id-1 div.sk-serial {\n",
       "  display: flex;\n",
       "  flex-direction: column;\n",
       "  align-items: center;\n",
       "  background-color: var(--sklearn-color-background);\n",
       "  padding-right: 1em;\n",
       "  padding-left: 1em;\n",
       "}\n",
       "\n",
       "\n",
       "/* Toggleable style: style used for estimator/Pipeline/ColumnTransformer box that is\n",
       "clickable and can be expanded/collapsed.\n",
       "- Pipeline and ColumnTransformer use this feature and define the default style\n",
       "- Estimators will overwrite some part of the style using the `sk-estimator` class\n",
       "*/\n",
       "\n",
       "/* Pipeline and ColumnTransformer style (default) */\n",
       "\n",
       "#sk-container-id-1 div.sk-toggleable {\n",
       "  /* Default theme specific background. It is overwritten whether we have a\n",
       "  specific estimator or a Pipeline/ColumnTransformer */\n",
       "  background-color: var(--sklearn-color-background);\n",
       "}\n",
       "\n",
       "/* Toggleable label */\n",
       "#sk-container-id-1 label.sk-toggleable__label {\n",
       "  cursor: pointer;\n",
       "  display: block;\n",
       "  width: 100%;\n",
       "  margin-bottom: 0;\n",
       "  padding: 0.5em;\n",
       "  box-sizing: border-box;\n",
       "  text-align: center;\n",
       "}\n",
       "\n",
       "#sk-container-id-1 label.sk-toggleable__label-arrow:before {\n",
       "  /* Arrow on the left of the label */\n",
       "  content: \"▸\";\n",
       "  float: left;\n",
       "  margin-right: 0.25em;\n",
       "  color: var(--sklearn-color-icon);\n",
       "}\n",
       "\n",
       "#sk-container-id-1 label.sk-toggleable__label-arrow:hover:before {\n",
       "  color: var(--sklearn-color-text);\n",
       "}\n",
       "\n",
       "/* Toggleable content - dropdown */\n",
       "\n",
       "#sk-container-id-1 div.sk-toggleable__content {\n",
       "  max-height: 0;\n",
       "  max-width: 0;\n",
       "  overflow: hidden;\n",
       "  text-align: left;\n",
       "  /* unfitted */\n",
       "  background-color: var(--sklearn-color-unfitted-level-0);\n",
       "}\n",
       "\n",
       "#sk-container-id-1 div.sk-toggleable__content.fitted {\n",
       "  /* fitted */\n",
       "  background-color: var(--sklearn-color-fitted-level-0);\n",
       "}\n",
       "\n",
       "#sk-container-id-1 div.sk-toggleable__content pre {\n",
       "  margin: 0.2em;\n",
       "  border-radius: 0.25em;\n",
       "  color: var(--sklearn-color-text);\n",
       "  /* unfitted */\n",
       "  background-color: var(--sklearn-color-unfitted-level-0);\n",
       "}\n",
       "\n",
       "#sk-container-id-1 div.sk-toggleable__content.fitted pre {\n",
       "  /* unfitted */\n",
       "  background-color: var(--sklearn-color-fitted-level-0);\n",
       "}\n",
       "\n",
       "#sk-container-id-1 input.sk-toggleable__control:checked~div.sk-toggleable__content {\n",
       "  /* Expand drop-down */\n",
       "  max-height: 200px;\n",
       "  max-width: 100%;\n",
       "  overflow: auto;\n",
       "}\n",
       "\n",
       "#sk-container-id-1 input.sk-toggleable__control:checked~label.sk-toggleable__label-arrow:before {\n",
       "  content: \"▾\";\n",
       "}\n",
       "\n",
       "/* Pipeline/ColumnTransformer-specific style */\n",
       "\n",
       "#sk-container-id-1 div.sk-label input.sk-toggleable__control:checked~label.sk-toggleable__label {\n",
       "  color: var(--sklearn-color-text);\n",
       "  background-color: var(--sklearn-color-unfitted-level-2);\n",
       "}\n",
       "\n",
       "#sk-container-id-1 div.sk-label.fitted input.sk-toggleable__control:checked~label.sk-toggleable__label {\n",
       "  background-color: var(--sklearn-color-fitted-level-2);\n",
       "}\n",
       "\n",
       "/* Estimator-specific style */\n",
       "\n",
       "/* Colorize estimator box */\n",
       "#sk-container-id-1 div.sk-estimator input.sk-toggleable__control:checked~label.sk-toggleable__label {\n",
       "  /* unfitted */\n",
       "  background-color: var(--sklearn-color-unfitted-level-2);\n",
       "}\n",
       "\n",
       "#sk-container-id-1 div.sk-estimator.fitted input.sk-toggleable__control:checked~label.sk-toggleable__label {\n",
       "  /* fitted */\n",
       "  background-color: var(--sklearn-color-fitted-level-2);\n",
       "}\n",
       "\n",
       "#sk-container-id-1 div.sk-label label.sk-toggleable__label,\n",
       "#sk-container-id-1 div.sk-label label {\n",
       "  /* The background is the default theme color */\n",
       "  color: var(--sklearn-color-text-on-default-background);\n",
       "}\n",
       "\n",
       "/* On hover, darken the color of the background */\n",
       "#sk-container-id-1 div.sk-label:hover label.sk-toggleable__label {\n",
       "  color: var(--sklearn-color-text);\n",
       "  background-color: var(--sklearn-color-unfitted-level-2);\n",
       "}\n",
       "\n",
       "/* Label box, darken color on hover, fitted */\n",
       "#sk-container-id-1 div.sk-label.fitted:hover label.sk-toggleable__label.fitted {\n",
       "  color: var(--sklearn-color-text);\n",
       "  background-color: var(--sklearn-color-fitted-level-2);\n",
       "}\n",
       "\n",
       "/* Estimator label */\n",
       "\n",
       "#sk-container-id-1 div.sk-label label {\n",
       "  font-family: monospace;\n",
       "  font-weight: bold;\n",
       "  display: inline-block;\n",
       "  line-height: 1.2em;\n",
       "}\n",
       "\n",
       "#sk-container-id-1 div.sk-label-container {\n",
       "  text-align: center;\n",
       "}\n",
       "\n",
       "/* Estimator-specific */\n",
       "#sk-container-id-1 div.sk-estimator {\n",
       "  font-family: monospace;\n",
       "  border: 1px dotted var(--sklearn-color-border-box);\n",
       "  border-radius: 0.25em;\n",
       "  box-sizing: border-box;\n",
       "  margin-bottom: 0.5em;\n",
       "  /* unfitted */\n",
       "  background-color: var(--sklearn-color-unfitted-level-0);\n",
       "}\n",
       "\n",
       "#sk-container-id-1 div.sk-estimator.fitted {\n",
       "  /* fitted */\n",
       "  background-color: var(--sklearn-color-fitted-level-0);\n",
       "}\n",
       "\n",
       "/* on hover */\n",
       "#sk-container-id-1 div.sk-estimator:hover {\n",
       "  /* unfitted */\n",
       "  background-color: var(--sklearn-color-unfitted-level-2);\n",
       "}\n",
       "\n",
       "#sk-container-id-1 div.sk-estimator.fitted:hover {\n",
       "  /* fitted */\n",
       "  background-color: var(--sklearn-color-fitted-level-2);\n",
       "}\n",
       "\n",
       "/* Specification for estimator info (e.g. \"i\" and \"?\") */\n",
       "\n",
       "/* Common style for \"i\" and \"?\" */\n",
       "\n",
       ".sk-estimator-doc-link,\n",
       "a:link.sk-estimator-doc-link,\n",
       "a:visited.sk-estimator-doc-link {\n",
       "  float: right;\n",
       "  font-size: smaller;\n",
       "  line-height: 1em;\n",
       "  font-family: monospace;\n",
       "  background-color: var(--sklearn-color-background);\n",
       "  border-radius: 1em;\n",
       "  height: 1em;\n",
       "  width: 1em;\n",
       "  text-decoration: none !important;\n",
       "  margin-left: 1ex;\n",
       "  /* unfitted */\n",
       "  border: var(--sklearn-color-unfitted-level-1) 1pt solid;\n",
       "  color: var(--sklearn-color-unfitted-level-1);\n",
       "}\n",
       "\n",
       ".sk-estimator-doc-link.fitted,\n",
       "a:link.sk-estimator-doc-link.fitted,\n",
       "a:visited.sk-estimator-doc-link.fitted {\n",
       "  /* fitted */\n",
       "  border: var(--sklearn-color-fitted-level-1) 1pt solid;\n",
       "  color: var(--sklearn-color-fitted-level-1);\n",
       "}\n",
       "\n",
       "/* On hover */\n",
       "div.sk-estimator:hover .sk-estimator-doc-link:hover,\n",
       ".sk-estimator-doc-link:hover,\n",
       "div.sk-label-container:hover .sk-estimator-doc-link:hover,\n",
       ".sk-estimator-doc-link:hover {\n",
       "  /* unfitted */\n",
       "  background-color: var(--sklearn-color-unfitted-level-3);\n",
       "  color: var(--sklearn-color-background);\n",
       "  text-decoration: none;\n",
       "}\n",
       "\n",
       "div.sk-estimator.fitted:hover .sk-estimator-doc-link.fitted:hover,\n",
       ".sk-estimator-doc-link.fitted:hover,\n",
       "div.sk-label-container:hover .sk-estimator-doc-link.fitted:hover,\n",
       ".sk-estimator-doc-link.fitted:hover {\n",
       "  /* fitted */\n",
       "  background-color: var(--sklearn-color-fitted-level-3);\n",
       "  color: var(--sklearn-color-background);\n",
       "  text-decoration: none;\n",
       "}\n",
       "\n",
       "/* Span, style for the box shown on hovering the info icon */\n",
       ".sk-estimator-doc-link span {\n",
       "  display: none;\n",
       "  z-index: 9999;\n",
       "  position: relative;\n",
       "  font-weight: normal;\n",
       "  right: .2ex;\n",
       "  padding: .5ex;\n",
       "  margin: .5ex;\n",
       "  width: min-content;\n",
       "  min-width: 20ex;\n",
       "  max-width: 50ex;\n",
       "  color: var(--sklearn-color-text);\n",
       "  box-shadow: 2pt 2pt 4pt #999;\n",
       "  /* unfitted */\n",
       "  background: var(--sklearn-color-unfitted-level-0);\n",
       "  border: .5pt solid var(--sklearn-color-unfitted-level-3);\n",
       "}\n",
       "\n",
       ".sk-estimator-doc-link.fitted span {\n",
       "  /* fitted */\n",
       "  background: var(--sklearn-color-fitted-level-0);\n",
       "  border: var(--sklearn-color-fitted-level-3);\n",
       "}\n",
       "\n",
       ".sk-estimator-doc-link:hover span {\n",
       "  display: block;\n",
       "}\n",
       "\n",
       "/* \"?\"-specific style due to the `<a>` HTML tag */\n",
       "\n",
       "#sk-container-id-1 a.estimator_doc_link {\n",
       "  float: right;\n",
       "  font-size: 1rem;\n",
       "  line-height: 1em;\n",
       "  font-family: monospace;\n",
       "  background-color: var(--sklearn-color-background);\n",
       "  border-radius: 1rem;\n",
       "  height: 1rem;\n",
       "  width: 1rem;\n",
       "  text-decoration: none;\n",
       "  /* unfitted */\n",
       "  color: var(--sklearn-color-unfitted-level-1);\n",
       "  border: var(--sklearn-color-unfitted-level-1) 1pt solid;\n",
       "}\n",
       "\n",
       "#sk-container-id-1 a.estimator_doc_link.fitted {\n",
       "  /* fitted */\n",
       "  border: var(--sklearn-color-fitted-level-1) 1pt solid;\n",
       "  color: var(--sklearn-color-fitted-level-1);\n",
       "}\n",
       "\n",
       "/* On hover */\n",
       "#sk-container-id-1 a.estimator_doc_link:hover {\n",
       "  /* unfitted */\n",
       "  background-color: var(--sklearn-color-unfitted-level-3);\n",
       "  color: var(--sklearn-color-background);\n",
       "  text-decoration: none;\n",
       "}\n",
       "\n",
       "#sk-container-id-1 a.estimator_doc_link.fitted:hover {\n",
       "  /* fitted */\n",
       "  background-color: var(--sklearn-color-fitted-level-3);\n",
       "}\n",
       "</style><div id=\"sk-container-id-1\" class=\"sk-top-container\"><div class=\"sk-text-repr-fallback\"><pre>MLPRegressor(batch_size=200, hidden_layer_sizes=(8, 8), random_state=0)</pre><b>In a Jupyter environment, please rerun this cell to show the HTML representation or trust the notebook. <br />On GitHub, the HTML representation is unable to render, please try loading this page with nbviewer.org.</b></div><div class=\"sk-container\" hidden><div class=\"sk-item\"><div class=\"sk-estimator fitted sk-toggleable\"><input class=\"sk-toggleable__control sk-hidden--visually\" id=\"sk-estimator-id-1\" type=\"checkbox\" checked><label for=\"sk-estimator-id-1\" class=\"sk-toggleable__label fitted sk-toggleable__label-arrow fitted\">&nbsp;&nbsp;MLPRegressor<a class=\"sk-estimator-doc-link fitted\" rel=\"noreferrer\" target=\"_blank\" href=\"https://scikit-learn.org/1.4/modules/generated/sklearn.neural_network.MLPRegressor.html\">?<span>Documentation for MLPRegressor</span></a><span class=\"sk-estimator-doc-link fitted\">i<span>Fitted</span></span></label><div class=\"sk-toggleable__content fitted\"><pre>MLPRegressor(batch_size=200, hidden_layer_sizes=(8, 8), random_state=0)</pre></div> </div></div></div></div>"
      ],
      "text/plain": [
       "MLPRegressor(batch_size=200, hidden_layer_sizes=(8, 8), random_state=0)"
      ]
     },
     "execution_count": 25,
     "metadata": {},
     "output_type": "execute_result"
    }
   ],
   "source": [
    "mlp.fit(X_train, y_train)"
   ]
  },
  {
   "cell_type": "markdown",
   "id": "2e2b4c74-d58e-4fff-92c8-36fbbded8eb7",
   "metadata": {
    "editable": true,
    "slideshow": {
     "slide_type": ""
    },
    "tags": []
   },
   "source": [
    "### Model evaluation"
   ]
  },
  {
   "cell_type": "markdown",
   "id": "c126f53d-b37e-4dea-9852-c8253609839b",
   "metadata": {
    "editable": true,
    "slideshow": {
     "slide_type": ""
    },
    "tags": []
   },
   "source": [
    "You may have thought \"that's it\", but we are only halfway through. Having a trained model is nice, but is it a good model, i.e. does it do what it is supposed to do? And how well is it doing it? And could we make the model even better? These questions are answered when we perform model evaluation and model selection."
   ]
  },
  {
   "cell_type": "markdown",
   "id": "7fb4d38b-4497-41b2-8e77-d9d51571bdfa",
   "metadata": {
    "editable": true,
    "slideshow": {
     "slide_type": ""
    },
    "tags": []
   },
   "source": [
    "#### Convergence of training\n",
    "\n",
    "First, let's look at the training of the model. Within the neural network, we update the weights at the nodes to minimise a loss function. The following graph shows the value of this loss function as a function of epochs, i.e. the number of times the training data set is used."
   ]
  },
  {
   "cell_type": "code",
   "execution_count": 26,
   "id": "0a71e174-e1d9-4e39-bd2e-a20a3d90367e",
   "metadata": {
    "editable": true,
    "slideshow": {
     "slide_type": ""
    },
    "tags": []
   },
   "outputs": [
    {
     "data": {
      "text/plain": [
       "Text(0, 0.5, 'Loss')"
      ]
     },
     "execution_count": 26,
     "metadata": {},
     "output_type": "execute_result"
    },
    {
     "data": {
      "image/png": "[encoded data removed]",
      "text/plain": [
       "<Figure size 640x480 with 1 Axes>"
      ]
     },
     "metadata": {},
     "output_type": "display_data"
    }
   ],
   "source": [
    "plt.plot(mlp.loss_curve_, marker=\"o\")\n",
    "plt.xlabel(\"Number of epochs\")\n",
    "plt.ylabel(\"Loss\")"
   ]
  },
  {
   "cell_type": "markdown",
   "id": "4acc9060-f2bc-4e47-a958-aab99122b2ed",
   "metadata": {
    "editable": true,
    "slideshow": {
     "slide_type": ""
    },
    "tags": []
   },
   "source": [
    "As expected, the value of the loss function decreases as the number of epochs increases. We also see that after 5 epochs, the gain due to further epochs is minimal. We can therefore conclude that the model has converged to a stable state after a few epochs."
   ]
  },
  {
   "cell_type": "markdown",
   "id": "456d048d-07ec-4f58-ad06-ea3e159ff46a",
   "metadata": {
    "editable": true,
    "slideshow": {
     "slide_type": ""
    },
    "tags": []
   },
   "source": [
    "#### Model validation\n",
    "\n",
    "Let us start with a naive approach to get an idea of the performance of the model. We will use our test data and predict temperatures $\\hat{y}_i$ for each of the datasets in `X_test`. Then we compare the model output with our known temperatures $y_i$ in `y_test`. To calculate the  mean squared error\n",
    "$$MSE={\\sum_{i=1}^N\\left(y_i-\\hat{y}_i\\right)^2}\\, ,$$ respectively the root mean squared error\n",
    "$$RMSE=\\sqrt{\\sum_{i=1}^N\\left(y_i-\\hat{y}_i\\right)^2}$$\n",
    "gives us an estimate of the quality of the prediction."
   ]
  },
  {
   "cell_type": "code",
   "execution_count": 27,
   "id": "75e22c7d-b269-4479-8b4b-508aaccac67c",
   "metadata": {
    "editable": true,
    "slideshow": {
     "slide_type": ""
    },
    "tags": []
   },
   "outputs": [
    {
     "name": "stderr",
     "output_type": "stream",
     "text": [
      "/opt/anaconda3/envs/jupyter_book_ml/lib/python3.9/site-packages/sklearn/metrics/_regression.py:483: FutureWarning: 'squared' is deprecated in version 1.4 and will be removed in 1.6. To calculate the root mean squared error, use the function'root_mean_squared_error'.\n",
      "  warnings.warn(\n"
     ]
    },
    {
     "data": {
      "text/plain": [
       "0.05532913703581025"
      ]
     },
     "execution_count": 27,
     "metadata": {},
     "output_type": "execute_result"
    }
   ],
   "source": [
    "from sklearn.metrics import mean_squared_error\n",
    "\n",
    "mean_squared_error(y_test, mlp.predict(X_test), squared=False)"
   ]
  },
  {
   "cell_type": "markdown",
   "id": "b33de8d3-2e97-4ef4-8223-d7a7e367f973",
   "metadata": {
    "editable": true,
    "slideshow": {
     "slide_type": ""
    },
    "tags": []
   },
   "source": [
    "So what does this figure tell us? The RMSE is the root of the mean of the squared deviations between the prediction and the \"truth\". So a value of 0.055, or 0.055K in units, is a very good value. So we could conclude that our model is very good.\n",
    "\n",
    "However, we might be lucky in our choice of training and test data. To reduce the influence of this split, we perform a so-called k-fold cross validation. This means that we take the training data and split it into 10 equal pieces, i.e. $k=10$ here. We then train the model on nine of the 10 pieces and use the 10th piece to validate the model as above. This process is repeated 10 times, each time using a different piece for validation. In the end we get 10 RMSE values which give us some insight into the validity of the above value."
   ]
  },
  {
   "cell_type": "code",
   "execution_count": 28,
   "id": "4e7ab76b-fc0a-4a97-b854-6c980ef44b6e",
   "metadata": {
    "editable": true,
    "slideshow": {
     "slide_type": ""
    },
    "tags": []
   },
   "outputs": [
    {
     "name": "stdout",
     "output_type": "stream",
     "text": [
      "[0.00506648 0.00289515 0.00274493 0.00277863 0.00348901 0.00423427\n",
      " 0.00360007 0.00547693 0.00387099 0.00348136]\n",
      "0.0037637816379283763 0.0008837386878676765\n"
     ]
    }
   ],
   "source": [
    "from sklearn.model_selection import cross_val_score\n",
    "\n",
    "scores = -cross_val_score(\n",
    "    estimator=mlp,\n",
    "    X=X_train,\n",
    "    y=y_train,\n",
    "    cv=10,\n",
    "    scoring=\"neg_mean_squared_error\",\n",
    "    n_jobs=1,\n",
    ")\n",
    "print(scores)\n",
    "print(np.mean(scores), np.std(scores))"
   ]
  },
  {
   "cell_type": "markdown",
   "id": "45c840f6-ae08-4caa-b71b-b27bf12b7478",
   "metadata": {
    "editable": true,
    "slideshow": {
     "slide_type": ""
    },
    "tags": []
   },
   "source": [
    "As we can see, the value of 0.055 is actually at the upper end of the values coming out of the cross-validation.\n",
    "\n",
    "Note: The function returns the negative RMSE, which we have converted to positive values."
   ]
  },
  {
   "cell_type": "markdown",
   "id": "a6fb2144-718f-4af7-9558-cd92c757ea0e",
   "metadata": {
    "editable": true,
    "slideshow": {
     "slide_type": ""
    },
    "tags": []
   },
   "source": [
    "#### Learning curve\n",
    "An important thing to watch out for in machine learning is **overfitting**. This means that if we train our model well, it will learn all the tiny characteristics of the data and thus describe the training data perfectly. However, the test data may be slightly different, so the model will perform poorly on new data.\n",
    "\n",
    "One way to detect overfitting is to run a so-called learning curve. This means that we train the model with training sets of different sizes. Furthermore, each training is done with a 10-fold cross validation."
   ]
  },
  {
   "cell_type": "code",
   "execution_count": 29,
   "id": "5686fb34-e87f-41e6-9e38-2cfd9155785b",
   "metadata": {
    "editable": true,
    "slideshow": {
     "slide_type": ""
    },
    "tags": []
   },
   "outputs": [
    {
     "name": "stderr",
     "output_type": "stream",
     "text": [
      "/opt/anaconda3/envs/jupyter_book_ml/lib/python3.9/site-packages/sklearn/neural_network/_multilayer_perceptron.py:698: UserWarning: Training interrupted by user.\n",
      "  warnings.warn(\"Training interrupted by user.\")\n"
     ]
    }
   ],
   "source": [
    "from sklearn.model_selection import learning_curve\n",
    "\n",
    "train_sizes, train_scores, test_scores = learning_curve(\n",
    "    estimator=mlp,\n",
    "    X=X_train,\n",
    "    y=y_train,\n",
    "    train_sizes=np.linspace(0.1, 1.0, 10),\n",
    "    cv=10,\n",
    "    scoring=\"neg_mean_squared_error\",\n",
    "    n_jobs=1,\n",
    ")\n",
    "train_scores = -train_scores\n",
    "test_scores = -test_scores"
   ]
  },
  {
   "cell_type": "markdown",
   "id": "1de29c67-f7ec-4da1-b819-09f8dc81f220",
   "metadata": {
    "editable": true,
    "slideshow": {
     "slide_type": ""
    },
    "tags": []
   },
   "source": [
    "Again, we changed the sign of the scores to get positive values.\n",
    "\n",
    "To get some insight into the results, we plot the RMSE value against the size of the training set."
   ]
  },
  {
   "cell_type": "code",
   "execution_count": 31,
   "id": "7341dc81-e54a-4a4a-9b90-fc2b8eff094b",
   "metadata": {
    "editable": true,
    "slideshow": {
     "slide_type": ""
    },
    "tags": []
   },
   "outputs": [
    {
     "data": {
      "text/plain": [
       "<matplotlib.legend.Legend at 0x167946820>"
      ]
     },
     "execution_count": 31,
     "metadata": {},
     "output_type": "execute_result"
    },
    {
     "data": {
      "image/png": "[encoded data removed]",
      "text/plain": [
       "<Figure size 640x480 with 1 Axes>"
      ]
     },
     "metadata": {},
     "output_type": "display_data"
    }
   ],
   "source": [
    "# calculate mean and std\n",
    "train_mean = np.mean(train_scores, axis=1)\n",
    "train_std = np.std(train_scores, axis=1)\n",
    "test_mean = np.mean(test_scores, axis=1)\n",
    "test_std = np.std(test_scores, axis=1)\n",
    "\n",
    "\n",
    "plt.plot(train_sizes, train_mean, marker=\"o\", label=\"Training RMSE\")\n",
    "plt.fill_between(\n",
    "    train_sizes, train_mean + train_std, train_mean - train_std, alpha=0.25\n",
    ")\n",
    "plt.plot(\n",
    "    train_sizes, test_mean, linestyle=\"dashed\", marker=\"s\", label=\"Validation RMSE\"\n",
    ")\n",
    "plt.fill_between(train_sizes, test_mean + test_std, test_mean - test_std, alpha=0.25)\n",
    "plt.grid()\n",
    "plt.xlabel(\"Number of training examples\")\n",
    "plt.ylabel(\"RMSE\")\n",
    "plt.legend(loc=\"upper right\")"
   ]
  },
  {
   "cell_type": "markdown",
   "id": "9cfcca6b-d6d3-4b06-af98-aa9387320abf",
   "metadata": {
    "editable": true,
    "slideshow": {
     "slide_type": ""
    },
    "tags": []
   },
   "source": [
    "If we assume overfitting, we would expect the training and validation curves to diverge, or at least to have an offset, because the training value would be better, i.e. smaller, than the validation value. Here, however, both lines agree for the large training set sizes. We can therefore conclude that there is no overfitting in our model."
   ]
  },
  {
   "cell_type": "markdown",
   "id": "5dd3e686-44e6-4eae-9a3e-1869029cfa2a",
   "metadata": {
    "editable": true,
    "slideshow": {
     "slide_type": ""
    },
    "tags": []
   },
   "source": [
    "### Model selection"
   ]
  },
  {
   "cell_type": "markdown",
   "id": "67cfc64d-4bb6-409e-9e09-953a367f37be",
   "metadata": {
    "editable": true,
    "slideshow": {
     "slide_type": ""
    },
    "tags": []
   },
   "source": [
    "In the previous part, we checked the model for problems such as poor performance and overfitting. In this part we will see if we can improve the model by changing so-called hyperparameters, i.e. parameters that are used for the model but are not related to the data."
   ]
  },
  {
   "cell_type": "markdown",
   "id": "8be60df7-ddbd-46d0-9ac0-30113461e90f",
   "metadata": {
    "editable": true,
    "slideshow": {
     "slide_type": ""
    },
    "tags": []
   },
   "source": [
    "#### Parameter alpha\n",
    "\n",
    "In our model definition we set the parameter alpha to 0.0001. This parameter controls the so-called **L2 regularisation**, which adds a penalty term to the loss function to prevent the weights from diverging.\n",
    "\n",
    "To get an idea of the influence of the alpha parameter, we perform several model fits with different values for alpha. Again, a 10-fold cross-validation is performed for each of the fits."
   ]
  },
  {
   "cell_type": "code",
   "execution_count": 32,
   "id": "f343a973-f1b9-48d1-a95c-4daab1e49a0e",
   "metadata": {
    "editable": true,
    "slideshow": {
     "slide_type": ""
    },
    "tags": []
   },
   "outputs": [],
   "source": [
    "from sklearn.model_selection import validation_curve\n",
    "\n",
    "alphas = [0.00001, 0.0001, 0.001, 0.01, 0.1, 1]\n",
    "\n",
    "train_scores, test_scores = validation_curve(\n",
    "    estimator=mlp,\n",
    "    X=X_train,\n",
    "    y=y_train,\n",
    "    param_name=\"alpha\",\n",
    "    param_range=alphas,\n",
    "    cv=10,\n",
    "    scoring=\"neg_mean_squared_error\",\n",
    ")\n",
    "\n",
    "train_scores = -train_scores\n",
    "test_scores = -test_scores"
   ]
  },
  {
   "cell_type": "code",
   "execution_count": 33,
   "id": "82ec0bdb-29b1-4a7d-b38b-fe41f4e2c34c",
   "metadata": {
    "editable": true,
    "slideshow": {
     "slide_type": ""
    },
    "tags": []
   },
   "outputs": [
    {
     "data": {
      "image/png": "[encoded data removed]",
      "text/plain": [
       "<Figure size 640x480 with 1 Axes>"
      ]
     },
     "metadata": {},
     "output_type": "display_data"
    }
   ],
   "source": [
    "train_mean = np.mean(train_scores, axis=1)\n",
    "train_std = np.std(train_scores, axis=1)\n",
    "test_mean = np.mean(test_scores, axis=1)\n",
    "test_std = np.std(test_scores, axis=1)\n",
    "\n",
    "plt.plot(alphas, train_mean, marker=\"o\", label=\"Training RMSE\")\n",
    "plt.fill_between(alphas, train_mean + train_std, train_mean - train_std, alpha=0.25)\n",
    "plt.plot(alphas, test_mean, linestyle=\"dashed\", marker=\"s\", label=\"Validation RMSE\")\n",
    "plt.fill_between(alphas, test_mean + test_std, test_mean - test_std, alpha=0.25)\n",
    "plt.grid()\n",
    "plt.xscale(\"log\")\n",
    "plt.legend(loc=\"upper right\")\n",
    "plt.xlabel(\"Parameter alpha\")\n",
    "plt.ylabel(\"RMSE\")\n",
    "plt.show()"
   ]
  },
  {
   "cell_type": "markdown",
   "id": "f8aa7266-c8d6-4012-aee4-9732318d241e",
   "metadata": {
    "editable": true,
    "slideshow": {
     "slide_type": ""
    },
    "tags": []
   },
   "source": [
    "The plot shows that over a wide range of alpha values the result for the model is almost the same. However, for larger values, the RMSE starts to \"jump around\". Since we are not sure whether the lower value for $alpha=0.1$ is just lower by chance or really a better value, we stick with our predefined value of 0.0001."
   ]
  },
  {
   "cell_type": "markdown",
   "id": "5a21973c-426d-479c-96fb-77b4335ed88d",
   "metadata": {
    "editable": true,
    "slideshow": {
     "slide_type": ""
    },
    "tags": []
   },
   "source": [
    "#### The network layout\n",
    "\n",
    "We have defined the layout for our model as two layers of 9 nodes each. This was a very arbitrary choice and we will now test some different layouts and see if they offer better performance. So we define different layouts:\n",
    "\n",
    "1. two layers of 8 nodes each (our original model)\n",
    "2. one layer with 8 nodes and a second with 4 nodes\n",
    "3. a single layer of 8 nodes\n",
    "4. one layer of 100 nodes (the default in Sklearn)\n",
    "5. one layer of 100, then 50 and 25 nodes\n",
    "\n",
    "and test each with a 10-fold cross validation."
   ]
  },
  {
   "cell_type": "code",
   "execution_count": 34,
   "id": "551d43ad-dc8b-47cb-b5e0-27931fcf824b",
   "metadata": {
    "editable": true,
    "slideshow": {
     "slide_type": ""
    },
    "tags": []
   },
   "outputs": [],
   "source": [
    "from sklearn.model_selection import validation_curve\n",
    "\n",
    "layouts = [\n",
    "    (\n",
    "        8,\n",
    "        8,\n",
    "    ),\n",
    "    (\n",
    "        8,\n",
    "        4,\n",
    "    ),\n",
    "    (8,),\n",
    "    (100,),\n",
    "    (\n",
    "        100,\n",
    "        50,\n",
    "        25,\n",
    "    ),\n",
    "]\n",
    "\n",
    "train_scores, test_scores = validation_curve(\n",
    "    estimator=mlp,\n",
    "    X=X_train,\n",
    "    y=y_train,\n",
    "    param_name=\"hidden_layer_sizes\",\n",
    "    param_range=layouts,\n",
    "    cv=10,\n",
    "    scoring=\"neg_mean_squared_error\",\n",
    ")\n",
    "\n",
    "train_scores = -train_scores\n",
    "test_scores = -test_scores"
   ]
  },
  {
   "cell_type": "code",
   "execution_count": 35,
   "id": "d3d8a571-e862-4469-87cd-5ba52e157854",
   "metadata": {
    "editable": true,
    "slideshow": {
     "slide_type": ""
    },
    "tags": []
   },
   "outputs": [
    {
     "data": {
      "image/png": "[encoded data removed]",
      "text/plain": [
       "<Figure size 640x480 with 1 Axes>"
      ]
     },
     "metadata": {},
     "output_type": "display_data"
    }
   ],
   "source": [
    "train_mean = np.mean(train_scores, axis=1)\n",
    "train_std = np.std(train_scores, axis=1)\n",
    "test_mean = np.mean(test_scores, axis=1)\n",
    "test_std = np.std(test_scores, axis=1)\n",
    "\n",
    "layout = [1, 2, 3, 4, 5]\n",
    "plt.plot(\n",
    "    layout,\n",
    "    train_mean,\n",
    "    marker=\"o\",\n",
    "    color=\"blue\",\n",
    "    linestyle=\"None\",\n",
    "    label=\"Training RMSE\",\n",
    ")\n",
    "plt.errorbar(\n",
    "    layout, train_mean, train_std, train_std, capsize=5, color=\"blue\", linestyle=\"None\"\n",
    ")\n",
    "plt.plot(\n",
    "    layout,\n",
    "    test_mean,\n",
    "    marker=\"s\",\n",
    "    color=\"red\",\n",
    "    linestyle=\"None\",\n",
    "    label=\"Validation RMSE\",\n",
    ")\n",
    "plt.errorbar(\n",
    "    layout, test_mean, test_std, test_std, capsize=5, color=\"red\", linestyle=\"None\"\n",
    ")\n",
    "plt.grid()\n",
    "plt.legend(loc=\"upper right\")\n",
    "plt.xlabel(\"Layout number\")\n",
    "plt.ylabel(\"RMSE\")\n",
    "plt.xticks(layout)\n",
    "plt.show()"
   ]
  },
  {
   "cell_type": "markdown",
   "id": "ad484c2c-4de0-42b6-a313-b18a0129ab42",
   "metadata": {
    "editable": true,
    "slideshow": {
     "slide_type": ""
    },
    "tags": []
   },
   "source": [
    "There is an obvious difference between layouts. Layouts with more nodes perform better. Since the training and validation curves tend to diverge for the 5th layout, we will use layout 4, the default sklearn layout, for our final model."
   ]
  },
  {
   "cell_type": "markdown",
   "id": "bd2ebe5c-64fa-4531-92e1-0d069586b583",
   "metadata": {
    "editable": true,
    "slideshow": {
     "slide_type": ""
    },
    "tags": []
   },
   "source": [
    "#### Activation function\n",
    "\n",
    "As a final parameter, we will look at the activation function used inside the nodes. So we use the same approach as above."
   ]
  },
  {
   "cell_type": "code",
   "execution_count": 36,
   "id": "9dfd7bff-7619-4a81-abbe-d4a37e10e39b",
   "metadata": {
    "editable": true,
    "slideshow": {
     "slide_type": ""
    },
    "tags": []
   },
   "outputs": [],
   "source": [
    "from sklearn.model_selection import validation_curve\n",
    "\n",
    "activations = [\"identity\", \"logistic\", \"tanh\", \"relu\"]\n",
    "\n",
    "train_scores, test_scores = validation_curve(\n",
    "    estimator=mlp,\n",
    "    X=X_train,\n",
    "    y=y_train,\n",
    "    param_name=\"activation\",\n",
    "    param_range=activations,\n",
    "    cv=10,\n",
    "    scoring=\"neg_mean_squared_error\",\n",
    ")\n",
    "\n",
    "train_scores = -train_scores\n",
    "test_scores = -test_scores"
   ]
  },
  {
   "cell_type": "code",
   "execution_count": 37,
   "id": "235f10a5-7532-4790-975b-58881515078b",
   "metadata": {
    "editable": true,
    "slideshow": {
     "slide_type": ""
    },
    "tags": []
   },
   "outputs": [
    {
     "data": {
      "image/png": "[encoded data removed]",
      "text/plain": [
       "<Figure size 640x480 with 1 Axes>"
      ]
     },
     "metadata": {},
     "output_type": "display_data"
    }
   ],
   "source": [
    "train_mean = np.mean(train_scores, axis=1)\n",
    "train_std = np.std(train_scores, axis=1)\n",
    "test_mean = np.mean(test_scores, axis=1)\n",
    "test_std = np.std(test_scores, axis=1)\n",
    "\n",
    "activation = [1, 2, 3, 4]\n",
    "plt.plot(\n",
    "    activation,\n",
    "    train_mean,\n",
    "    marker=\"o\",\n",
    "    color=\"blue\",\n",
    "    linestyle=\"None\",\n",
    "    label=\"Training RMSE\",\n",
    ")\n",
    "plt.errorbar(\n",
    "    activation,\n",
    "    train_mean,\n",
    "    train_std,\n",
    "    train_std,\n",
    "    capsize=5,\n",
    "    color=\"blue\",\n",
    "    linestyle=\"None\",\n",
    ")\n",
    "plt.plot(\n",
    "    activation,\n",
    "    test_mean,\n",
    "    marker=\"s\",\n",
    "    color=\"red\",\n",
    "    linestyle=\"None\",\n",
    "    label=\"Validation RMSE\",\n",
    ")\n",
    "plt.errorbar(\n",
    "    activation, test_mean, test_std, test_std, capsize=5, color=\"red\", linestyle=\"None\"\n",
    ")\n",
    "plt.grid()\n",
    "plt.legend(loc=\"upper right\")\n",
    "plt.xlabel(\"Activation function\")\n",
    "plt.ylabel(\"RMSE\")\n",
    "plt.xticks(activation)\n",
    "plt.show()"
   ]
  },
  {
   "cell_type": "markdown",
   "id": "c2ecfe57-ee55-445e-9f05-42f218b0be89",
   "metadata": {
    "editable": true,
    "slideshow": {
     "slide_type": ""
    },
    "tags": []
   },
   "source": [
    "The activation functions with the best performance are the `tanh` and `relu` functions. For our model we used the `relu` function, which means we have already made a good choice and we will leave it that way."
   ]
  },
  {
   "cell_type": "markdown",
   "id": "ac7da073-2f17-4caf-afe2-0507c17b8431",
   "metadata": {
    "editable": true,
    "slideshow": {
     "slide_type": ""
    },
    "tags": []
   },
   "source": [
    "#### Grid search\n",
    "\n",
    "Above we tested each parameter individually. This may not be the best way as there may be a dependency between the different parameters. The best way would be to test all the parameters at the same time. This can be done using an approach called **grid search**. However, we will not use it here."
   ]
  },
  {
   "cell_type": "markdown",
   "id": "40d1e7a9-e47a-4111-a668-4b33d09ea45f",
   "metadata": {
    "editable": true,
    "slideshow": {
     "slide_type": ""
    },
    "tags": []
   },
   "source": [
    "### Final model"
   ]
  },
  {
   "cell_type": "markdown",
   "id": "747b0da9-9f27-447f-8f17-1bad5a838e98",
   "metadata": {
    "editable": true,
    "slideshow": {
     "slide_type": ""
    },
    "tags": []
   },
   "source": [
    "When we are satisfied with our model evaluation and selection, we can define a final model and train it on the entire training data set. As mentioned before, the only thing we will change is the network layout."
   ]
  },
  {
   "cell_type": "markdown",
   "id": "cea48913-1b05-4950-ad58-f96c2508e205",
   "metadata": {
    "editable": true,
    "slideshow": {
     "slide_type": ""
    },
    "tags": []
   },
   "source": [
    "#### Model definition"
   ]
  },
  {
   "cell_type": "code",
   "execution_count": 38,
   "id": "d0717223-aa3c-454b-9f0b-46622bfd85bf",
   "metadata": {
    "editable": true,
    "slideshow": {
     "slide_type": ""
    },
    "tags": []
   },
   "outputs": [],
   "source": [
    "mlp = MLPRegressor(\n",
    "    hidden_layer_sizes=(100,),\n",
    "    activation=\"relu\",\n",
    "    alpha=0.0001,\n",
    "    batch_size=200,\n",
    "    max_iter=200,\n",
    "    random_state=0,\n",
    ")"
   ]
  },
  {
   "cell_type": "markdown",
   "id": "41d26590-c429-4ddc-acae-5119380a2bee",
   "metadata": {
    "editable": true,
    "slideshow": {
     "slide_type": ""
    },
    "tags": []
   },
   "source": [
    "#### Model training"
   ]
  },
  {
   "cell_type": "code",
   "execution_count": 39,
   "id": "4bf5445d-ba7d-46e3-9f9c-c4c28dc157e2",
   "metadata": {
    "editable": true,
    "slideshow": {
     "slide_type": ""
    },
    "tags": []
   },
   "outputs": [
    {
     "data": {
      "text/html": [
       "<style>#sk-container-id-2 {\n",
       "  /* Definition of color scheme common for light and dark mode */\n",
       "  --sklearn-color-text: black;\n",
       "  --sklearn-color-line: gray;\n",
       "  /* Definition of color scheme for unfitted estimators */\n",
       "  --sklearn-color-unfitted-level-0: #fff5e6;\n",
       "  --sklearn-color-unfitted-level-1: #f6e4d2;\n",
       "  --sklearn-color-unfitted-level-2: #ffe0b3;\n",
       "  --sklearn-color-unfitted-level-3: chocolate;\n",
       "  /* Definition of color scheme for fitted estimators */\n",
       "  --sklearn-color-fitted-level-0: #f0f8ff;\n",
       "  --sklearn-color-fitted-level-1: #d4ebff;\n",
       "  --sklearn-color-fitted-level-2: #b3dbfd;\n",
       "  --sklearn-color-fitted-level-3: cornflowerblue;\n",
       "\n",
       "  /* Specific color for light theme */\n",
       "  --sklearn-color-text-on-default-background: var(--sg-text-color, var(--theme-code-foreground, var(--jp-content-font-color1, black)));\n",
       "  --sklearn-color-background: var(--sg-background-color, var(--theme-background, var(--jp-layout-color0, white)));\n",
       "  --sklearn-color-border-box: var(--sg-text-color, var(--theme-code-foreground, var(--jp-content-font-color1, black)));\n",
       "  --sklearn-color-icon: #696969;\n",
       "\n",
       "  @media (prefers-color-scheme: dark) {\n",
       "    /* Redefinition of color scheme for dark theme */\n",
       "    --sklearn-color-text-on-default-background: var(--sg-text-color, var(--theme-code-foreground, var(--jp-content-font-color1, white)));\n",
       "    --sklearn-color-background: var(--sg-background-color, var(--theme-background, var(--jp-layout-color0, #111)));\n",
       "    --sklearn-color-border-box: var(--sg-text-color, var(--theme-code-foreground, var(--jp-content-font-color1, white)));\n",
       "    --sklearn-color-icon: #878787;\n",
       "  }\n",
       "}\n",
       "\n",
       "#sk-container-id-2 {\n",
       "  color: var(--sklearn-color-text);\n",
       "}\n",
       "\n",
       "#sk-container-id-2 pre {\n",
       "  padding: 0;\n",
       "}\n",
       "\n",
       "#sk-container-id-2 input.sk-hidden--visually {\n",
       "  border: 0;\n",
       "  clip: rect(1px 1px 1px 1px);\n",
       "  clip: rect(1px, 1px, 1px, 1px);\n",
       "  height: 1px;\n",
       "  margin: -1px;\n",
       "  overflow: hidden;\n",
       "  padding: 0;\n",
       "  position: absolute;\n",
       "  width: 1px;\n",
       "}\n",
       "\n",
       "#sk-container-id-2 div.sk-dashed-wrapped {\n",
       "  border: 1px dashed var(--sklearn-color-line);\n",
       "  margin: 0 0.4em 0.5em 0.4em;\n",
       "  box-sizing: border-box;\n",
       "  padding-bottom: 0.4em;\n",
       "  background-color: var(--sklearn-color-background);\n",
       "}\n",
       "\n",
       "#sk-container-id-2 div.sk-container {\n",
       "  /* jupyter's `normalize.less` sets `[hidden] { display: none; }`\n",
       "     but bootstrap.min.css set `[hidden] { display: none !important; }`\n",
       "     so we also need the `!important` here to be able to override the\n",
       "     default hidden behavior on the sphinx rendered scikit-learn.org.\n",
       "     See: https://github.com/scikit-learn/scikit-learn/issues/21755 */\n",
       "  display: inline-block !important;\n",
       "  position: relative;\n",
       "}\n",
       "\n",
       "#sk-container-id-2 div.sk-text-repr-fallback {\n",
       "  display: none;\n",
       "}\n",
       "\n",
       "div.sk-parallel-item,\n",
       "div.sk-serial,\n",
       "div.sk-item {\n",
       "  /* draw centered vertical line to link estimators */\n",
       "  background-image: linear-gradient(var(--sklearn-color-text-on-default-background), var(--sklearn-color-text-on-default-background));\n",
       "  background-size: 2px 100%;\n",
       "  background-repeat: no-repeat;\n",
       "  background-position: center center;\n",
       "}\n",
       "\n",
       "/* Parallel-specific style estimator block */\n",
       "\n",
       "#sk-container-id-2 div.sk-parallel-item::after {\n",
       "  content: \"\";\n",
       "  width: 100%;\n",
       "  border-bottom: 2px solid var(--sklearn-color-text-on-default-background);\n",
       "  flex-grow: 1;\n",
       "}\n",
       "\n",
       "#sk-container-id-2 div.sk-parallel {\n",
       "  display: flex;\n",
       "  align-items: stretch;\n",
       "  justify-content: center;\n",
       "  background-color: var(--sklearn-color-background);\n",
       "  position: relative;\n",
       "}\n",
       "\n",
       "#sk-container-id-2 div.sk-parallel-item {\n",
       "  display: flex;\n",
       "  flex-direction: column;\n",
       "}\n",
       "\n",
       "#sk-container-id-2 div.sk-parallel-item:first-child::after {\n",
       "  align-self: flex-end;\n",
       "  width: 50%;\n",
       "}\n",
       "\n",
       "#sk-container-id-2 div.sk-parallel-item:last-child::after {\n",
       "  align-self: flex-start;\n",
       "  width: 50%;\n",
       "}\n",
       "\n",
       "#sk-container-id-2 div.sk-parallel-item:only-child::after {\n",
       "  width: 0;\n",
       "}\n",
       "\n",
       "/* Serial-specific style estimator block */\n",
       "\n",
       "#sk-container-id-2 div.sk-serial {\n",
       "  display: flex;\n",
       "  flex-direction: column;\n",
       "  align-items: center;\n",
       "  background-color: var(--sklearn-color-background);\n",
       "  padding-right: 1em;\n",
       "  padding-left: 1em;\n",
       "}\n",
       "\n",
       "\n",
       "/* Toggleable style: style used for estimator/Pipeline/ColumnTransformer box that is\n",
       "clickable and can be expanded/collapsed.\n",
       "- Pipeline and ColumnTransformer use this feature and define the default style\n",
       "- Estimators will overwrite some part of the style using the `sk-estimator` class\n",
       "*/\n",
       "\n",
       "/* Pipeline and ColumnTransformer style (default) */\n",
       "\n",
       "#sk-container-id-2 div.sk-toggleable {\n",
       "  /* Default theme specific background. It is overwritten whether we have a\n",
       "  specific estimator or a Pipeline/ColumnTransformer */\n",
       "  background-color: var(--sklearn-color-background);\n",
       "}\n",
       "\n",
       "/* Toggleable label */\n",
       "#sk-container-id-2 label.sk-toggleable__label {\n",
       "  cursor: pointer;\n",
       "  display: block;\n",
       "  width: 100%;\n",
       "  margin-bottom: 0;\n",
       "  padding: 0.5em;\n",
       "  box-sizing: border-box;\n",
       "  text-align: center;\n",
       "}\n",
       "\n",
       "#sk-container-id-2 label.sk-toggleable__label-arrow:before {\n",
       "  /* Arrow on the left of the label */\n",
       "  content: \"▸\";\n",
       "  float: left;\n",
       "  margin-right: 0.25em;\n",
       "  color: var(--sklearn-color-icon);\n",
       "}\n",
       "\n",
       "#sk-container-id-2 label.sk-toggleable__label-arrow:hover:before {\n",
       "  color: var(--sklearn-color-text);\n",
       "}\n",
       "\n",
       "/* Toggleable content - dropdown */\n",
       "\n",
       "#sk-container-id-2 div.sk-toggleable__content {\n",
       "  max-height: 0;\n",
       "  max-width: 0;\n",
       "  overflow: hidden;\n",
       "  text-align: left;\n",
       "  /* unfitted */\n",
       "  background-color: var(--sklearn-color-unfitted-level-0);\n",
       "}\n",
       "\n",
       "#sk-container-id-2 div.sk-toggleable__content.fitted {\n",
       "  /* fitted */\n",
       "  background-color: var(--sklearn-color-fitted-level-0);\n",
       "}\n",
       "\n",
       "#sk-container-id-2 div.sk-toggleable__content pre {\n",
       "  margin: 0.2em;\n",
       "  border-radius: 0.25em;\n",
       "  color: var(--sklearn-color-text);\n",
       "  /* unfitted */\n",
       "  background-color: var(--sklearn-color-unfitted-level-0);\n",
       "}\n",
       "\n",
       "#sk-container-id-2 div.sk-toggleable__content.fitted pre {\n",
       "  /* unfitted */\n",
       "  background-color: var(--sklearn-color-fitted-level-0);\n",
       "}\n",
       "\n",
       "#sk-container-id-2 input.sk-toggleable__control:checked~div.sk-toggleable__content {\n",
       "  /* Expand drop-down */\n",
       "  max-height: 200px;\n",
       "  max-width: 100%;\n",
       "  overflow: auto;\n",
       "}\n",
       "\n",
       "#sk-container-id-2 input.sk-toggleable__control:checked~label.sk-toggleable__label-arrow:before {\n",
       "  content: \"▾\";\n",
       "}\n",
       "\n",
       "/* Pipeline/ColumnTransformer-specific style */\n",
       "\n",
       "#sk-container-id-2 div.sk-label input.sk-toggleable__control:checked~label.sk-toggleable__label {\n",
       "  color: var(--sklearn-color-text);\n",
       "  background-color: var(--sklearn-color-unfitted-level-2);\n",
       "}\n",
       "\n",
       "#sk-container-id-2 div.sk-label.fitted input.sk-toggleable__control:checked~label.sk-toggleable__label {\n",
       "  background-color: var(--sklearn-color-fitted-level-2);\n",
       "}\n",
       "\n",
       "/* Estimator-specific style */\n",
       "\n",
       "/* Colorize estimator box */\n",
       "#sk-container-id-2 div.sk-estimator input.sk-toggleable__control:checked~label.sk-toggleable__label {\n",
       "  /* unfitted */\n",
       "  background-color: var(--sklearn-color-unfitted-level-2);\n",
       "}\n",
       "\n",
       "#sk-container-id-2 div.sk-estimator.fitted input.sk-toggleable__control:checked~label.sk-toggleable__label {\n",
       "  /* fitted */\n",
       "  background-color: var(--sklearn-color-fitted-level-2);\n",
       "}\n",
       "\n",
       "#sk-container-id-2 div.sk-label label.sk-toggleable__label,\n",
       "#sk-container-id-2 div.sk-label label {\n",
       "  /* The background is the default theme color */\n",
       "  color: var(--sklearn-color-text-on-default-background);\n",
       "}\n",
       "\n",
       "/* On hover, darken the color of the background */\n",
       "#sk-container-id-2 div.sk-label:hover label.sk-toggleable__label {\n",
       "  color: var(--sklearn-color-text);\n",
       "  background-color: var(--sklearn-color-unfitted-level-2);\n",
       "}\n",
       "\n",
       "/* Label box, darken color on hover, fitted */\n",
       "#sk-container-id-2 div.sk-label.fitted:hover label.sk-toggleable__label.fitted {\n",
       "  color: var(--sklearn-color-text);\n",
       "  background-color: var(--sklearn-color-fitted-level-2);\n",
       "}\n",
       "\n",
       "/* Estimator label */\n",
       "\n",
       "#sk-container-id-2 div.sk-label label {\n",
       "  font-family: monospace;\n",
       "  font-weight: bold;\n",
       "  display: inline-block;\n",
       "  line-height: 1.2em;\n",
       "}\n",
       "\n",
       "#sk-container-id-2 div.sk-label-container {\n",
       "  text-align: center;\n",
       "}\n",
       "\n",
       "/* Estimator-specific */\n",
       "#sk-container-id-2 div.sk-estimator {\n",
       "  font-family: monospace;\n",
       "  border: 1px dotted var(--sklearn-color-border-box);\n",
       "  border-radius: 0.25em;\n",
       "  box-sizing: border-box;\n",
       "  margin-bottom: 0.5em;\n",
       "  /* unfitted */\n",
       "  background-color: var(--sklearn-color-unfitted-level-0);\n",
       "}\n",
       "\n",
       "#sk-container-id-2 div.sk-estimator.fitted {\n",
       "  /* fitted */\n",
       "  background-color: var(--sklearn-color-fitted-level-0);\n",
       "}\n",
       "\n",
       "/* on hover */\n",
       "#sk-container-id-2 div.sk-estimator:hover {\n",
       "  /* unfitted */\n",
       "  background-color: var(--sklearn-color-unfitted-level-2);\n",
       "}\n",
       "\n",
       "#sk-container-id-2 div.sk-estimator.fitted:hover {\n",
       "  /* fitted */\n",
       "  background-color: var(--sklearn-color-fitted-level-2);\n",
       "}\n",
       "\n",
       "/* Specification for estimator info (e.g. \"i\" and \"?\") */\n",
       "\n",
       "/* Common style for \"i\" and \"?\" */\n",
       "\n",
       ".sk-estimator-doc-link,\n",
       "a:link.sk-estimator-doc-link,\n",
       "a:visited.sk-estimator-doc-link {\n",
       "  float: right;\n",
       "  font-size: smaller;\n",
       "  line-height: 1em;\n",
       "  font-family: monospace;\n",
       "  background-color: var(--sklearn-color-background);\n",
       "  border-radius: 1em;\n",
       "  height: 1em;\n",
       "  width: 1em;\n",
       "  text-decoration: none !important;\n",
       "  margin-left: 1ex;\n",
       "  /* unfitted */\n",
       "  border: var(--sklearn-color-unfitted-level-1) 1pt solid;\n",
       "  color: var(--sklearn-color-unfitted-level-1);\n",
       "}\n",
       "\n",
       ".sk-estimator-doc-link.fitted,\n",
       "a:link.sk-estimator-doc-link.fitted,\n",
       "a:visited.sk-estimator-doc-link.fitted {\n",
       "  /* fitted */\n",
       "  border: var(--sklearn-color-fitted-level-1) 1pt solid;\n",
       "  color: var(--sklearn-color-fitted-level-1);\n",
       "}\n",
       "\n",
       "/* On hover */\n",
       "div.sk-estimator:hover .sk-estimator-doc-link:hover,\n",
       ".sk-estimator-doc-link:hover,\n",
       "div.sk-label-container:hover .sk-estimator-doc-link:hover,\n",
       ".sk-estimator-doc-link:hover {\n",
       "  /* unfitted */\n",
       "  background-color: var(--sklearn-color-unfitted-level-3);\n",
       "  color: var(--sklearn-color-background);\n",
       "  text-decoration: none;\n",
       "}\n",
       "\n",
       "div.sk-estimator.fitted:hover .sk-estimator-doc-link.fitted:hover,\n",
       ".sk-estimator-doc-link.fitted:hover,\n",
       "div.sk-label-container:hover .sk-estimator-doc-link.fitted:hover,\n",
       ".sk-estimator-doc-link.fitted:hover {\n",
       "  /* fitted */\n",
       "  background-color: var(--sklearn-color-fitted-level-3);\n",
       "  color: var(--sklearn-color-background);\n",
       "  text-decoration: none;\n",
       "}\n",
       "\n",
       "/* Span, style for the box shown on hovering the info icon */\n",
       ".sk-estimator-doc-link span {\n",
       "  display: none;\n",
       "  z-index: 9999;\n",
       "  position: relative;\n",
       "  font-weight: normal;\n",
       "  right: .2ex;\n",
       "  padding: .5ex;\n",
       "  margin: .5ex;\n",
       "  width: min-content;\n",
       "  min-width: 20ex;\n",
       "  max-width: 50ex;\n",
       "  color: var(--sklearn-color-text);\n",
       "  box-shadow: 2pt 2pt 4pt #999;\n",
       "  /* unfitted */\n",
       "  background: var(--sklearn-color-unfitted-level-0);\n",
       "  border: .5pt solid var(--sklearn-color-unfitted-level-3);\n",
       "}\n",
       "\n",
       ".sk-estimator-doc-link.fitted span {\n",
       "  /* fitted */\n",
       "  background: var(--sklearn-color-fitted-level-0);\n",
       "  border: var(--sklearn-color-fitted-level-3);\n",
       "}\n",
       "\n",
       ".sk-estimator-doc-link:hover span {\n",
       "  display: block;\n",
       "}\n",
       "\n",
       "/* \"?\"-specific style due to the `<a>` HTML tag */\n",
       "\n",
       "#sk-container-id-2 a.estimator_doc_link {\n",
       "  float: right;\n",
       "  font-size: 1rem;\n",
       "  line-height: 1em;\n",
       "  font-family: monospace;\n",
       "  background-color: var(--sklearn-color-background);\n",
       "  border-radius: 1rem;\n",
       "  height: 1rem;\n",
       "  width: 1rem;\n",
       "  text-decoration: none;\n",
       "  /* unfitted */\n",
       "  color: var(--sklearn-color-unfitted-level-1);\n",
       "  border: var(--sklearn-color-unfitted-level-1) 1pt solid;\n",
       "}\n",
       "\n",
       "#sk-container-id-2 a.estimator_doc_link.fitted {\n",
       "  /* fitted */\n",
       "  border: var(--sklearn-color-fitted-level-1) 1pt solid;\n",
       "  color: var(--sklearn-color-fitted-level-1);\n",
       "}\n",
       "\n",
       "/* On hover */\n",
       "#sk-container-id-2 a.estimator_doc_link:hover {\n",
       "  /* unfitted */\n",
       "  background-color: var(--sklearn-color-unfitted-level-3);\n",
       "  color: var(--sklearn-color-background);\n",
       "  text-decoration: none;\n",
       "}\n",
       "\n",
       "#sk-container-id-2 a.estimator_doc_link.fitted:hover {\n",
       "  /* fitted */\n",
       "  background-color: var(--sklearn-color-fitted-level-3);\n",
       "}\n",
       "</style><div id=\"sk-container-id-2\" class=\"sk-top-container\"><div class=\"sk-text-repr-fallback\"><pre>MLPRegressor(batch_size=200, random_state=0)</pre><b>In a Jupyter environment, please rerun this cell to show the HTML representation or trust the notebook. <br />On GitHub, the HTML representation is unable to render, please try loading this page with nbviewer.org.</b></div><div class=\"sk-container\" hidden><div class=\"sk-item\"><div class=\"sk-estimator fitted sk-toggleable\"><input class=\"sk-toggleable__control sk-hidden--visually\" id=\"sk-estimator-id-2\" type=\"checkbox\" checked><label for=\"sk-estimator-id-2\" class=\"sk-toggleable__label fitted sk-toggleable__label-arrow fitted\">&nbsp;&nbsp;MLPRegressor<a class=\"sk-estimator-doc-link fitted\" rel=\"noreferrer\" target=\"_blank\" href=\"https://scikit-learn.org/1.4/modules/generated/sklearn.neural_network.MLPRegressor.html\">?<span>Documentation for MLPRegressor</span></a><span class=\"sk-estimator-doc-link fitted\">i<span>Fitted</span></span></label><div class=\"sk-toggleable__content fitted\"><pre>MLPRegressor(batch_size=200, random_state=0)</pre></div> </div></div></div></div>"
      ],
      "text/plain": [
       "MLPRegressor(batch_size=200, random_state=0)"
      ]
     },
     "execution_count": 39,
     "metadata": {},
     "output_type": "execute_result"
    }
   ],
   "source": [
    "mlp.fit(X_train, y_train)"
   ]
  },
  {
   "cell_type": "markdown",
   "id": "d165c659-ebf4-427e-8616-0f75812f9962",
   "metadata": {
    "editable": true,
    "slideshow": {
     "slide_type": ""
    },
    "tags": []
   },
   "source": [
    "#### Final model evaluation"
   ]
  },
  {
   "cell_type": "code",
   "execution_count": 40,
   "id": "b73793e1-72da-45ab-9bdf-1c608e3931cf",
   "metadata": {
    "editable": true,
    "slideshow": {
     "slide_type": ""
    },
    "tags": []
   },
   "outputs": [
    {
     "name": "stderr",
     "output_type": "stream",
     "text": [
      "/opt/anaconda3/envs/jupyter_book_ml/lib/python3.9/site-packages/sklearn/metrics/_regression.py:483: FutureWarning: 'squared' is deprecated in version 1.4 and will be removed in 1.6. To calculate the root mean squared error, use the function'root_mean_squared_error'.\n",
      "  warnings.warn(\n"
     ]
    },
    {
     "data": {
      "text/plain": [
       "0.0439057881042131"
      ]
     },
     "execution_count": 40,
     "metadata": {},
     "output_type": "execute_result"
    }
   ],
   "source": [
    "from sklearn.metrics import mean_squared_error\n",
    "\n",
    "mean_squared_error(y_test, mlp.predict(X_test), squared=False)"
   ]
  },
  {
   "cell_type": "markdown",
   "id": "71f4173e-8236-4856-ac89-005e5ecb72fc",
   "metadata": {
    "editable": true,
    "slideshow": {
     "slide_type": ""
    },
    "tags": []
   },
   "source": [
    "Our final model evaluation shows an RMSE of 0.04, which is slightly better than the 0.055 from our first attempt.\n",
    "\n",
    "**Now we have our final model and could use it to predict temperature values for new data. However,...**"
   ]
  },
  {
   "cell_type": "markdown",
   "id": "2b99b6dd-4fc2-409e-adbc-4cfcaf609885",
   "metadata": {
    "editable": true,
    "slideshow": {
     "slide_type": ""
    },
    "tags": []
   },
   "source": [
    "### A good model might not do what we think it does..."
   ]
  },
  {
   "cell_type": "markdown",
   "id": "4a94c387-db4e-412f-8654-0fa7b674dc57",
   "metadata": {
    "editable": true,
    "slideshow": {
     "slide_type": ""
    },
    "tags": []
   },
   "source": [
    "In our model, we used vapor pressure and relative humidity, among other things, to predict temperature. Let us add some physical background here. Relative humidity is defined as the ratio of vapor pressure to saturation vapor pressure. From the relative humidity and the vapor pressure, we can calculate the saturation vapor pressure. The saturation vapor pressure in turn has a relationship to temperature called the Magnus formula. This is not a linear relationship, but as we know, neural networks can model non-linear relationships.\n",
    "\n",
    "**Thus, the model probably models only the Magnus formula and simply ignores all other data.**"
   ]
  },
  {
   "cell_type": "markdown",
   "id": "db3a6c30-dd4d-4f5b-ae55-91d25932c921",
   "metadata": {
    "editable": true,
    "slideshow": {
     "slide_type": ""
    },
    "tags": []
   },
   "source": [
    "We can test this by removing the vapor pressure or the relative humidity from the data and train the model again."
   ]
  },
  {
   "cell_type": "code",
   "execution_count": 41,
   "id": "f2dd3bdb-d158-46ce-930e-7bab32357869",
   "metadata": {
    "editable": true,
    "slideshow": {
     "slide_type": ""
    },
    "tags": []
   },
   "outputs": [],
   "source": [
    "from sklearn.model_selection import train_test_split\n",
    "\n",
    "# drop vapor pressu\n",
    "X, y = data.drop(columns=[\"temp\", \"vapor_pres\"]), data[\"temp\"]\n",
    "X_train, X_test, y_train, y_test = train_test_split(X, y, test_size=0.2, random_state=0)"
   ]
  },
  {
   "cell_type": "code",
   "execution_count": 42,
   "id": "a372047c-20e5-4d2b-9a29-d5ace843a499",
   "metadata": {
    "editable": true,
    "slideshow": {
     "slide_type": ""
    },
    "tags": []
   },
   "outputs": [
    {
     "data": {
      "text/html": [
       "<style>#sk-container-id-3 {\n",
       "  /* Definition of color scheme common for light and dark mode */\n",
       "  --sklearn-color-text: black;\n",
       "  --sklearn-color-line: gray;\n",
       "  /* Definition of color scheme for unfitted estimators */\n",
       "  --sklearn-color-unfitted-level-0: #fff5e6;\n",
       "  --sklearn-color-unfitted-level-1: #f6e4d2;\n",
       "  --sklearn-color-unfitted-level-2: #ffe0b3;\n",
       "  --sklearn-color-unfitted-level-3: chocolate;\n",
       "  /* Definition of color scheme for fitted estimators */\n",
       "  --sklearn-color-fitted-level-0: #f0f8ff;\n",
       "  --sklearn-color-fitted-level-1: #d4ebff;\n",
       "  --sklearn-color-fitted-level-2: #b3dbfd;\n",
       "  --sklearn-color-fitted-level-3: cornflowerblue;\n",
       "\n",
       "  /* Specific color for light theme */\n",
       "  --sklearn-color-text-on-default-background: var(--sg-text-color, var(--theme-code-foreground, var(--jp-content-font-color1, black)));\n",
       "  --sklearn-color-background: var(--sg-background-color, var(--theme-background, var(--jp-layout-color0, white)));\n",
       "  --sklearn-color-border-box: var(--sg-text-color, var(--theme-code-foreground, var(--jp-content-font-color1, black)));\n",
       "  --sklearn-color-icon: #696969;\n",
       "\n",
       "  @media (prefers-color-scheme: dark) {\n",
       "    /* Redefinition of color scheme for dark theme */\n",
       "    --sklearn-color-text-on-default-background: var(--sg-text-color, var(--theme-code-foreground, var(--jp-content-font-color1, white)));\n",
       "    --sklearn-color-background: var(--sg-background-color, var(--theme-background, var(--jp-layout-color0, #111)));\n",
       "    --sklearn-color-border-box: var(--sg-text-color, var(--theme-code-foreground, var(--jp-content-font-color1, white)));\n",
       "    --sklearn-color-icon: #878787;\n",
       "  }\n",
       "}\n",
       "\n",
       "#sk-container-id-3 {\n",
       "  color: var(--sklearn-color-text);\n",
       "}\n",
       "\n",
       "#sk-container-id-3 pre {\n",
       "  padding: 0;\n",
       "}\n",
       "\n",
       "#sk-container-id-3 input.sk-hidden--visually {\n",
       "  border: 0;\n",
       "  clip: rect(1px 1px 1px 1px);\n",
       "  clip: rect(1px, 1px, 1px, 1px);\n",
       "  height: 1px;\n",
       "  margin: -1px;\n",
       "  overflow: hidden;\n",
       "  padding: 0;\n",
       "  position: absolute;\n",
       "  width: 1px;\n",
       "}\n",
       "\n",
       "#sk-container-id-3 div.sk-dashed-wrapped {\n",
       "  border: 1px dashed var(--sklearn-color-line);\n",
       "  margin: 0 0.4em 0.5em 0.4em;\n",
       "  box-sizing: border-box;\n",
       "  padding-bottom: 0.4em;\n",
       "  background-color: var(--sklearn-color-background);\n",
       "}\n",
       "\n",
       "#sk-container-id-3 div.sk-container {\n",
       "  /* jupyter's `normalize.less` sets `[hidden] { display: none; }`\n",
       "     but bootstrap.min.css set `[hidden] { display: none !important; }`\n",
       "     so we also need the `!important` here to be able to override the\n",
       "     default hidden behavior on the sphinx rendered scikit-learn.org.\n",
       "     See: https://github.com/scikit-learn/scikit-learn/issues/21755 */\n",
       "  display: inline-block !important;\n",
       "  position: relative;\n",
       "}\n",
       "\n",
       "#sk-container-id-3 div.sk-text-repr-fallback {\n",
       "  display: none;\n",
       "}\n",
       "\n",
       "div.sk-parallel-item,\n",
       "div.sk-serial,\n",
       "div.sk-item {\n",
       "  /* draw centered vertical line to link estimators */\n",
       "  background-image: linear-gradient(var(--sklearn-color-text-on-default-background), var(--sklearn-color-text-on-default-background));\n",
       "  background-size: 2px 100%;\n",
       "  background-repeat: no-repeat;\n",
       "  background-position: center center;\n",
       "}\n",
       "\n",
       "/* Parallel-specific style estimator block */\n",
       "\n",
       "#sk-container-id-3 div.sk-parallel-item::after {\n",
       "  content: \"\";\n",
       "  width: 100%;\n",
       "  border-bottom: 2px solid var(--sklearn-color-text-on-default-background);\n",
       "  flex-grow: 1;\n",
       "}\n",
       "\n",
       "#sk-container-id-3 div.sk-parallel {\n",
       "  display: flex;\n",
       "  align-items: stretch;\n",
       "  justify-content: center;\n",
       "  background-color: var(--sklearn-color-background);\n",
       "  position: relative;\n",
       "}\n",
       "\n",
       "#sk-container-id-3 div.sk-parallel-item {\n",
       "  display: flex;\n",
       "  flex-direction: column;\n",
       "}\n",
       "\n",
       "#sk-container-id-3 div.sk-parallel-item:first-child::after {\n",
       "  align-self: flex-end;\n",
       "  width: 50%;\n",
       "}\n",
       "\n",
       "#sk-container-id-3 div.sk-parallel-item:last-child::after {\n",
       "  align-self: flex-start;\n",
       "  width: 50%;\n",
       "}\n",
       "\n",
       "#sk-container-id-3 div.sk-parallel-item:only-child::after {\n",
       "  width: 0;\n",
       "}\n",
       "\n",
       "/* Serial-specific style estimator block */\n",
       "\n",
       "#sk-container-id-3 div.sk-serial {\n",
       "  display: flex;\n",
       "  flex-direction: column;\n",
       "  align-items: center;\n",
       "  background-color: var(--sklearn-color-background);\n",
       "  padding-right: 1em;\n",
       "  padding-left: 1em;\n",
       "}\n",
       "\n",
       "\n",
       "/* Toggleable style: style used for estimator/Pipeline/ColumnTransformer box that is\n",
       "clickable and can be expanded/collapsed.\n",
       "- Pipeline and ColumnTransformer use this feature and define the default style\n",
       "- Estimators will overwrite some part of the style using the `sk-estimator` class\n",
       "*/\n",
       "\n",
       "/* Pipeline and ColumnTransformer style (default) */\n",
       "\n",
       "#sk-container-id-3 div.sk-toggleable {\n",
       "  /* Default theme specific background. It is overwritten whether we have a\n",
       "  specific estimator or a Pipeline/ColumnTransformer */\n",
       "  background-color: var(--sklearn-color-background);\n",
       "}\n",
       "\n",
       "/* Toggleable label */\n",
       "#sk-container-id-3 label.sk-toggleable__label {\n",
       "  cursor: pointer;\n",
       "  display: block;\n",
       "  width: 100%;\n",
       "  margin-bottom: 0;\n",
       "  padding: 0.5em;\n",
       "  box-sizing: border-box;\n",
       "  text-align: center;\n",
       "}\n",
       "\n",
       "#sk-container-id-3 label.sk-toggleable__label-arrow:before {\n",
       "  /* Arrow on the left of the label */\n",
       "  content: \"▸\";\n",
       "  float: left;\n",
       "  margin-right: 0.25em;\n",
       "  color: var(--sklearn-color-icon);\n",
       "}\n",
       "\n",
       "#sk-container-id-3 label.sk-toggleable__label-arrow:hover:before {\n",
       "  color: var(--sklearn-color-text);\n",
       "}\n",
       "\n",
       "/* Toggleable content - dropdown */\n",
       "\n",
       "#sk-container-id-3 div.sk-toggleable__content {\n",
       "  max-height: 0;\n",
       "  max-width: 0;\n",
       "  overflow: hidden;\n",
       "  text-align: left;\n",
       "  /* unfitted */\n",
       "  background-color: var(--sklearn-color-unfitted-level-0);\n",
       "}\n",
       "\n",
       "#sk-container-id-3 div.sk-toggleable__content.fitted {\n",
       "  /* fitted */\n",
       "  background-color: var(--sklearn-color-fitted-level-0);\n",
       "}\n",
       "\n",
       "#sk-container-id-3 div.sk-toggleable__content pre {\n",
       "  margin: 0.2em;\n",
       "  border-radius: 0.25em;\n",
       "  color: var(--sklearn-color-text);\n",
       "  /* unfitted */\n",
       "  background-color: var(--sklearn-color-unfitted-level-0);\n",
       "}\n",
       "\n",
       "#sk-container-id-3 div.sk-toggleable__content.fitted pre {\n",
       "  /* unfitted */\n",
       "  background-color: var(--sklearn-color-fitted-level-0);\n",
       "}\n",
       "\n",
       "#sk-container-id-3 input.sk-toggleable__control:checked~div.sk-toggleable__content {\n",
       "  /* Expand drop-down */\n",
       "  max-height: 200px;\n",
       "  max-width: 100%;\n",
       "  overflow: auto;\n",
       "}\n",
       "\n",
       "#sk-container-id-3 input.sk-toggleable__control:checked~label.sk-toggleable__label-arrow:before {\n",
       "  content: \"▾\";\n",
       "}\n",
       "\n",
       "/* Pipeline/ColumnTransformer-specific style */\n",
       "\n",
       "#sk-container-id-3 div.sk-label input.sk-toggleable__control:checked~label.sk-toggleable__label {\n",
       "  color: var(--sklearn-color-text);\n",
       "  background-color: var(--sklearn-color-unfitted-level-2);\n",
       "}\n",
       "\n",
       "#sk-container-id-3 div.sk-label.fitted input.sk-toggleable__control:checked~label.sk-toggleable__label {\n",
       "  background-color: var(--sklearn-color-fitted-level-2);\n",
       "}\n",
       "\n",
       "/* Estimator-specific style */\n",
       "\n",
       "/* Colorize estimator box */\n",
       "#sk-container-id-3 div.sk-estimator input.sk-toggleable__control:checked~label.sk-toggleable__label {\n",
       "  /* unfitted */\n",
       "  background-color: var(--sklearn-color-unfitted-level-2);\n",
       "}\n",
       "\n",
       "#sk-container-id-3 div.sk-estimator.fitted input.sk-toggleable__control:checked~label.sk-toggleable__label {\n",
       "  /* fitted */\n",
       "  background-color: var(--sklearn-color-fitted-level-2);\n",
       "}\n",
       "\n",
       "#sk-container-id-3 div.sk-label label.sk-toggleable__label,\n",
       "#sk-container-id-3 div.sk-label label {\n",
       "  /* The background is the default theme color */\n",
       "  color: var(--sklearn-color-text-on-default-background);\n",
       "}\n",
       "\n",
       "/* On hover, darken the color of the background */\n",
       "#sk-container-id-3 div.sk-label:hover label.sk-toggleable__label {\n",
       "  color: var(--sklearn-color-text);\n",
       "  background-color: var(--sklearn-color-unfitted-level-2);\n",
       "}\n",
       "\n",
       "/* Label box, darken color on hover, fitted */\n",
       "#sk-container-id-3 div.sk-label.fitted:hover label.sk-toggleable__label.fitted {\n",
       "  color: var(--sklearn-color-text);\n",
       "  background-color: var(--sklearn-color-fitted-level-2);\n",
       "}\n",
       "\n",
       "/* Estimator label */\n",
       "\n",
       "#sk-container-id-3 div.sk-label label {\n",
       "  font-family: monospace;\n",
       "  font-weight: bold;\n",
       "  display: inline-block;\n",
       "  line-height: 1.2em;\n",
       "}\n",
       "\n",
       "#sk-container-id-3 div.sk-label-container {\n",
       "  text-align: center;\n",
       "}\n",
       "\n",
       "/* Estimator-specific */\n",
       "#sk-container-id-3 div.sk-estimator {\n",
       "  font-family: monospace;\n",
       "  border: 1px dotted var(--sklearn-color-border-box);\n",
       "  border-radius: 0.25em;\n",
       "  box-sizing: border-box;\n",
       "  margin-bottom: 0.5em;\n",
       "  /* unfitted */\n",
       "  background-color: var(--sklearn-color-unfitted-level-0);\n",
       "}\n",
       "\n",
       "#sk-container-id-3 div.sk-estimator.fitted {\n",
       "  /* fitted */\n",
       "  background-color: var(--sklearn-color-fitted-level-0);\n",
       "}\n",
       "\n",
       "/* on hover */\n",
       "#sk-container-id-3 div.sk-estimator:hover {\n",
       "  /* unfitted */\n",
       "  background-color: var(--sklearn-color-unfitted-level-2);\n",
       "}\n",
       "\n",
       "#sk-container-id-3 div.sk-estimator.fitted:hover {\n",
       "  /* fitted */\n",
       "  background-color: var(--sklearn-color-fitted-level-2);\n",
       "}\n",
       "\n",
       "/* Specification for estimator info (e.g. \"i\" and \"?\") */\n",
       "\n",
       "/* Common style for \"i\" and \"?\" */\n",
       "\n",
       ".sk-estimator-doc-link,\n",
       "a:link.sk-estimator-doc-link,\n",
       "a:visited.sk-estimator-doc-link {\n",
       "  float: right;\n",
       "  font-size: smaller;\n",
       "  line-height: 1em;\n",
       "  font-family: monospace;\n",
       "  background-color: var(--sklearn-color-background);\n",
       "  border-radius: 1em;\n",
       "  height: 1em;\n",
       "  width: 1em;\n",
       "  text-decoration: none !important;\n",
       "  margin-left: 1ex;\n",
       "  /* unfitted */\n",
       "  border: var(--sklearn-color-unfitted-level-1) 1pt solid;\n",
       "  color: var(--sklearn-color-unfitted-level-1);\n",
       "}\n",
       "\n",
       ".sk-estimator-doc-link.fitted,\n",
       "a:link.sk-estimator-doc-link.fitted,\n",
       "a:visited.sk-estimator-doc-link.fitted {\n",
       "  /* fitted */\n",
       "  border: var(--sklearn-color-fitted-level-1) 1pt solid;\n",
       "  color: var(--sklearn-color-fitted-level-1);\n",
       "}\n",
       "\n",
       "/* On hover */\n",
       "div.sk-estimator:hover .sk-estimator-doc-link:hover,\n",
       ".sk-estimator-doc-link:hover,\n",
       "div.sk-label-container:hover .sk-estimator-doc-link:hover,\n",
       ".sk-estimator-doc-link:hover {\n",
       "  /* unfitted */\n",
       "  background-color: var(--sklearn-color-unfitted-level-3);\n",
       "  color: var(--sklearn-color-background);\n",
       "  text-decoration: none;\n",
       "}\n",
       "\n",
       "div.sk-estimator.fitted:hover .sk-estimator-doc-link.fitted:hover,\n",
       ".sk-estimator-doc-link.fitted:hover,\n",
       "div.sk-label-container:hover .sk-estimator-doc-link.fitted:hover,\n",
       ".sk-estimator-doc-link.fitted:hover {\n",
       "  /* fitted */\n",
       "  background-color: var(--sklearn-color-fitted-level-3);\n",
       "  color: var(--sklearn-color-background);\n",
       "  text-decoration: none;\n",
       "}\n",
       "\n",
       "/* Span, style for the box shown on hovering the info icon */\n",
       ".sk-estimator-doc-link span {\n",
       "  display: none;\n",
       "  z-index: 9999;\n",
       "  position: relative;\n",
       "  font-weight: normal;\n",
       "  right: .2ex;\n",
       "  padding: .5ex;\n",
       "  margin: .5ex;\n",
       "  width: min-content;\n",
       "  min-width: 20ex;\n",
       "  max-width: 50ex;\n",
       "  color: var(--sklearn-color-text);\n",
       "  box-shadow: 2pt 2pt 4pt #999;\n",
       "  /* unfitted */\n",
       "  background: var(--sklearn-color-unfitted-level-0);\n",
       "  border: .5pt solid var(--sklearn-color-unfitted-level-3);\n",
       "}\n",
       "\n",
       ".sk-estimator-doc-link.fitted span {\n",
       "  /* fitted */\n",
       "  background: var(--sklearn-color-fitted-level-0);\n",
       "  border: var(--sklearn-color-fitted-level-3);\n",
       "}\n",
       "\n",
       ".sk-estimator-doc-link:hover span {\n",
       "  display: block;\n",
       "}\n",
       "\n",
       "/* \"?\"-specific style due to the `<a>` HTML tag */\n",
       "\n",
       "#sk-container-id-3 a.estimator_doc_link {\n",
       "  float: right;\n",
       "  font-size: 1rem;\n",
       "  line-height: 1em;\n",
       "  font-family: monospace;\n",
       "  background-color: var(--sklearn-color-background);\n",
       "  border-radius: 1rem;\n",
       "  height: 1rem;\n",
       "  width: 1rem;\n",
       "  text-decoration: none;\n",
       "  /* unfitted */\n",
       "  color: var(--sklearn-color-unfitted-level-1);\n",
       "  border: var(--sklearn-color-unfitted-level-1) 1pt solid;\n",
       "}\n",
       "\n",
       "#sk-container-id-3 a.estimator_doc_link.fitted {\n",
       "  /* fitted */\n",
       "  border: var(--sklearn-color-fitted-level-1) 1pt solid;\n",
       "  color: var(--sklearn-color-fitted-level-1);\n",
       "}\n",
       "\n",
       "/* On hover */\n",
       "#sk-container-id-3 a.estimator_doc_link:hover {\n",
       "  /* unfitted */\n",
       "  background-color: var(--sklearn-color-unfitted-level-3);\n",
       "  color: var(--sklearn-color-background);\n",
       "  text-decoration: none;\n",
       "}\n",
       "\n",
       "#sk-container-id-3 a.estimator_doc_link.fitted:hover {\n",
       "  /* fitted */\n",
       "  background-color: var(--sklearn-color-fitted-level-3);\n",
       "}\n",
       "</style><div id=\"sk-container-id-3\" class=\"sk-top-container\"><div class=\"sk-text-repr-fallback\"><pre>MLPRegressor(batch_size=200, random_state=0)</pre><b>In a Jupyter environment, please rerun this cell to show the HTML representation or trust the notebook. <br />On GitHub, the HTML representation is unable to render, please try loading this page with nbviewer.org.</b></div><div class=\"sk-container\" hidden><div class=\"sk-item\"><div class=\"sk-estimator fitted sk-toggleable\"><input class=\"sk-toggleable__control sk-hidden--visually\" id=\"sk-estimator-id-3\" type=\"checkbox\" checked><label for=\"sk-estimator-id-3\" class=\"sk-toggleable__label fitted sk-toggleable__label-arrow fitted\">&nbsp;&nbsp;MLPRegressor<a class=\"sk-estimator-doc-link fitted\" rel=\"noreferrer\" target=\"_blank\" href=\"https://scikit-learn.org/1.4/modules/generated/sklearn.neural_network.MLPRegressor.html\">?<span>Documentation for MLPRegressor</span></a><span class=\"sk-estimator-doc-link fitted\">i<span>Fitted</span></span></label><div class=\"sk-toggleable__content fitted\"><pre>MLPRegressor(batch_size=200, random_state=0)</pre></div> </div></div></div></div>"
      ],
      "text/plain": [
       "MLPRegressor(batch_size=200, random_state=0)"
      ]
     },
     "execution_count": 42,
     "metadata": {},
     "output_type": "execute_result"
    }
   ],
   "source": [
    "mlp.fit(X_train, y_train)"
   ]
  },
  {
   "cell_type": "code",
   "execution_count": 43,
   "id": "e10b618c-f995-4768-8b04-d80d8afecd10",
   "metadata": {
    "editable": true,
    "slideshow": {
     "slide_type": ""
    },
    "tags": []
   },
   "outputs": [
    {
     "name": "stderr",
     "output_type": "stream",
     "text": [
      "/opt/anaconda3/envs/jupyter_book_ml/lib/python3.9/site-packages/sklearn/metrics/_regression.py:483: FutureWarning: 'squared' is deprecated in version 1.4 and will be removed in 1.6. To calculate the root mean squared error, use the function'root_mean_squared_error'.\n",
      "  warnings.warn(\n"
     ]
    },
    {
     "data": {
      "text/plain": [
       "6.2498239366873385"
      ]
     },
     "execution_count": 43,
     "metadata": {},
     "output_type": "execute_result"
    }
   ],
   "source": [
    "from sklearn.metrics import mean_squared_error\n",
    "\n",
    "mean_squared_error(y_test, mlp.predict(X_test), squared=False)"
   ]
  },
  {
   "cell_type": "markdown",
   "id": "ed910eec-c0d9-4885-a9d4-4cf872ad1c25",
   "metadata": {
    "editable": true,
    "slideshow": {
     "slide_type": ""
    },
    "tags": []
   },
   "source": [
    "Obviously, the performance drops dramatically.\n",
    "\n",
    "**So we conclude that our model did a good job, but it might have been easier to just use our physical knowledge in the first place.**"
   ]
  },
  {
   "cell_type": "code",
   "execution_count": 50,
   "id": "de6ccfc4-554e-415b-bfbb-adc73f43c577",
   "metadata": {
    "editable": true,
    "slideshow": {
     "slide_type": ""
    },
    "tags": []
   },
   "outputs": [
    {
     "data": {
      "text/html": [
       "\n",
       "        <iframe\n",
       "            width=\"900\"\n",
       "            height=\"200\"\n",
       "            src=\"../citations/citation_Soga.html\"\n",
       "            frameborder=\"0\"\n",
       "            allowfullscreen\n",
       "            \n",
       "        ></iframe>\n",
       "        "
      ],
      "text/plain": [
       "<IPython.lib.display.IFrame at 0x1674dca60>"
      ]
     },
     "execution_count": 50,
     "metadata": {},
     "output_type": "execute_result"
    }
   ],
   "source": [
    "from IPython.display import IFrame\n",
    "\n",
    "IFrame(\n",
    "    src=\"../citations/citation_Soga.html\",\n",
    "    width=900,\n",
    "    height=200,\n",
    ")"
   ]
  }
 ],
 "metadata": {
  "kernelspec": {
   "display_name": "Python 3 (ipykernel)",
   "language": "python",
   "name": "python3"
  },
  "language_info": {
   "codemirror_mode": {
    "name": "ipython",
    "version": 3
   },
   "file_extension": ".py",
   "mimetype": "text/x-python",
   "name": "python",
   "nbconvert_exporter": "python",
   "pygments_lexer": "ipython3",
   "version": "3.9.18"
  }
 },
 "nbformat": 4,
 "nbformat_minor": 5
}