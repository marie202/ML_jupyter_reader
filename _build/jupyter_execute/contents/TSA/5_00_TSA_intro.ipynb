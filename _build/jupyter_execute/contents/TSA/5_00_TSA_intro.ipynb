{
 "cells": [
  {
   "cell_type": "markdown",
   "id": "49cfd0f9-26d5-4e6a-9df8-953fca8ae99c",
   "metadata": {
    "editable": true,
    "slideshow": {
     "slide_type": ""
    },
    "tags": []
   },
   "source": [
    "# Time Series Analysis\n",
    "\n",
    "\n",
    "The analysis of data that was observed at different points in time is commonly referred to as [time series analysis](https://en.wikipedia.org/wiki/Time_series). A significant problem in the statistical modeling and inference of time series is the fact that adjacent points in time are correlated and thus, the underlying assumption of many conventional statistical methods, which is that data points are [independent and identically distributed (iid)](https://en.wikipedia.org/wiki/Independent_and_identically_distributed_random_variables) is not fulfilled. These circumstances lead to a specialized field in statistical modeling and inference, which accounts mathematically and statistically for the constraint due to these time correlations.\n",
    "\n",
    "In the domain of time series analysis there are two separate, but not necessarily mutually exclusive, approaches to time series analysis, commonly referred to as the time domain approach and the [frequency domain approach](https://en.wikipedia.org/wiki/Time%E2%80%93frequency_analysis) ([Shumway and Stoffer 2011](http://www.springer.com/gp/book/9783319524511)).\n",
    "\n",
    "Methods related to the time domain approach generally assume that correlation between adjacent points in time is best explained in terms of a dependence of the current value on past values. Future values of a time time series are modeled as a parametric function of the current and past values. In contrast, methods related to the frequency domain approach are primary focusing characteristics in time series analyses based on periodic or systematic sinusoidal variations found naturally in most data.\n",
    "\n",
    "[Shumway and Stoffer 2011](http://www.springer.com/gp/book/9783319524511) argue that in many cases, the two approaches produce similar answers for long series, but the comparative performance over short samples is better done in the time domain.\n",
    "\n",
    "Time series data is a collection of quantities that are assembled over even intervals in time and ordered chronologically. The time interval at which data is collection is generally referred to as the time series frequency. Interesting questions are: \n",
    "\n",
    "* How do we deal with missing data? (Last week)\n",
    "\n",
    "* Are there seasonality pattern? For example in the time series of the temperature? \n",
    "\n",
    "* Does the data show some trends such that we could make assumptions about the future? \n",
    "\n",
    "\n",
    "We will go trhough time series preprocessing first in this chapter. Then we are ready to deal with hands on time series analysis methods."
   ]
  },
  {
   "cell_type": "code",
   "execution_count": 1,
   "id": "79fd883b-3c78-4db9-8f81-a2e2de238f59",
   "metadata": {
    "editable": true,
    "slideshow": {
     "slide_type": ""
    },
    "tags": [
     "remove-cell",
     "remove-input"
    ]
   },
   "outputs": [
    {
     "data": {
      "text/html": [
       "\n",
       "        <iframe\n",
       "            width=\"900\"\n",
       "            height=\"200\"\n",
       "            src=\"../citations/citation_Soga.html\"\n",
       "            frameborder=\"0\"\n",
       "            allowfullscreen\n",
       "            \n",
       "        ></iframe>\n",
       "        "
      ],
      "text/plain": [
       "<IPython.lib.display.IFrame at 0x106321520>"
      ]
     },
     "execution_count": 1,
     "metadata": {},
     "output_type": "execute_result"
    }
   ],
   "source": [
    "from IPython.display import IFrame\n",
    "\n",
    "IFrame(\n",
    "    src=\"../citations/citation_Soga.html\",\n",
    "    width=900,\n",
    "    height=200,\n",
    ")"
   ]
  }
 ],
 "metadata": {
  "kernelspec": {
   "display_name": "Python 3 (ipykernel)",
   "language": "python",
   "name": "python3"
  },
  "language_info": {
   "codemirror_mode": {
    "name": "ipython",
    "version": 3
   },
   "file_extension": ".py",
   "mimetype": "text/x-python",
   "name": "python",
   "nbconvert_exporter": "python",
   "pygments_lexer": "ipython3",
   "version": "3.9.18"
  }
 },
 "nbformat": 4,
 "nbformat_minor": 5
}