{
 "cells": [
  {
   "cell_type": "markdown",
   "id": "4c26e023-ed83-4dc1-806f-985b7795cb6e",
   "metadata": {},
   "source": [
    "***\n",
    "\n",
    "**Citation**\n",
    "\n",
    "Rudolph, A., Krois, J., Hartmann, K. (2023): Statistics and Geodata Analysis using Python ([SOGA-Py](https://www.geo.fu-berlin.de/en/v/soga-py)). Department of Earth Sciences, Freie Universitaet Berlin."
   ]
  }
 ],
 "metadata": {
  "kernelspec": {
   "display_name": "Python 3 (ipykernel)",
   "language": "python",
   "name": "python3"
  },
  "language_info": {
   "codemirror_mode": {
    "name": "ipython",
    "version": 3
   },
   "file_extension": ".py",
   "mimetype": "text/x-python",
   "name": "python",
   "nbconvert_exporter": "python",
   "pygments_lexer": "ipython3",
   "version": "3.9.19"
  }
 },
 "nbformat": 4,
 "nbformat_minor": 5
}
