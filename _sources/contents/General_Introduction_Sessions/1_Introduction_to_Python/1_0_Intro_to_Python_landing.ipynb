{
 "cells": [
  {
   "cell_type": "code",
   "execution_count": 1,
   "id": "34983b61-fe81-41f1-a541-b91c9d0fc140",
   "metadata": {
    "editable": true,
    "slideshow": {
     "slide_type": ""
    },
    "tags": [
     "remove-cell"
    ]
   },
   "outputs": [],
   "source": [
    "%load_ext lab_black"
   ]
  },
  {
   "cell_type": "markdown",
   "id": "4cd73f84-78f0-486d-bb06-821357aea4cc",
   "metadata": {
    "editable": true,
    "slideshow": {
     "slide_type": ""
    },
    "tags": [
     "hide_input"
    ]
   },
   "source": [
    "# Introduction to Python \n",
    "\n",
    "As a starting point an introduction to the most important programming concepts, data types and control flow structures in Python is provided. This sections are for all users that are either completely new to programming languages at all or being new to Python. The intention is to give you as newbie a good start through this tutorial. If you are comfortable with writing code in general or if you are already experienced in coding with Python, please feel free to skip these introductory chapters.\n",
    "\n",
    "> **Note:** Although this general introduction to Python will explain the most essential key concepts, it is not possible to discuss all concepts on a deeper level. Please feel free to also have a look on Python books for those purposes.   \n",
    "\n",
    "Although Python is a powerful programming language, we want to keep things as simple as possible at the beginning. Therefore we will learn the fundamentals by using Python as a calculator. You could either use the command line directly, an editor or one of the IDEs, that were introduced in the previous chapters to follow up. We strongly recommend to hack in the following commands and code snippets at your own. It also strengthens your skills to solve the provided exercises. If you decide to use Jupyterlab as your IDE of choice, please feel free to download this notebook or create an new notebook at your own.\n"
   ]
  },
  {
   "cell_type": "markdown",
   "id": "d17571b8-4891-4f79-9b27-fa323c70deaa",
   "metadata": {
    "editable": true,
    "slideshow": {
     "slide_type": ""
    },
    "tags": []
   },
   "source": [
    "<div style=\"flex:1;padding-left:10px;\">\n",
    "    <img width=\"400\" src=\"https://imgs.xkcd.com/comics/python.png\" />\n",
    "        </br>\n",
    "        <div style=\"color:#808080; padding:1px; font-size: 12px;font-weight:italic\">\n",
    "        https://xkcd.com/353/\n",
    "        </div>\n",
    "</div>"
   ]
  },
  {
   "cell_type": "code",
   "execution_count": 3,
   "id": "6b407911-f5e4-4ccb-91f4-d4f6142790c8",
   "metadata": {
    "editable": true,
    "slideshow": {
     "slide_type": ""
    },
    "tags": [
     "remove-input"
    ]
   },
   "outputs": [
    {
     "data": {
      "text/html": [
       "\n",
       "        <iframe\n",
       "            width=\"900\"\n",
       "            height=\"200\"\n",
       "            src=\"../../citations/citation_Soga.html\"\n",
       "            frameborder=\"0\"\n",
       "            allowfullscreen\n",
       "            \n",
       "        ></iframe>\n",
       "        "
      ],
      "text/plain": [
       "<IPython.lib.display.IFrame at 0x103c654c0>"
      ]
     },
     "execution_count": 3,
     "metadata": {},
     "output_type": "execute_result"
    }
   ],
   "source": [
    "from IPython.display import IFrame\n",
    "\n",
    "IFrame(\n",
    "    src=\"../../citations/citation_Soga.html\",\n",
    "    width=900,\n",
    "    height=200,\n",
    ")"
   ]
  },
  {
   "cell_type": "code",
   "execution_count": null,
   "id": "1af76a46-7e69-45f6-8b97-1418ea9a4629",
   "metadata": {
    "editable": true,
    "slideshow": {
     "slide_type": ""
    },
    "tags": []
   },
   "outputs": [],
   "source": []
  }
 ],
 "metadata": {
  "kernelspec": {
   "display_name": "Python 3 (ipykernel)",
   "language": "python",
   "name": "python3"
  },
  "language_info": {
   "codemirror_mode": {
    "name": "ipython",
    "version": 3
   },
   "file_extension": ".py",
   "mimetype": "text/x-python",
   "name": "python",
   "nbconvert_exporter": "python",
   "pygments_lexer": "ipython3",
   "version": "3.9.19"
  }
 },
 "nbformat": 4,
 "nbformat_minor": 5
}
