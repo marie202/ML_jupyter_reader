{
 "cells": [
  {
   "cell_type": "code",
   "execution_count": 1,
   "id": "cde67ddc-3431-42a7-b2bd-91604439444c",
   "metadata": {
    "editable": true,
    "slideshow": {
     "slide_type": ""
    },
    "tags": [
     "remove-cell"
    ]
   },
   "outputs": [],
   "source": [
    "%load_ext lab_black"
   ]
  },
  {
   "cell_type": "markdown",
   "id": "c345811d-bf18-4a46-b7cf-efd4df97e401",
   "metadata": {
    "editable": true,
    "slideshow": {
     "slide_type": ""
    },
    "tags": []
   },
   "source": [
    "## The concept of objects in Python\n",
    "\n",
    "After we have learned Pythons basic syntax by using it as a calculator, we want to have a closer look at the concept of objects in Python.\n",
    "\n",
    "### Objects as an abstraction of the real world\n",
    "\n",
    "As a starting point we want to get a basic understand of objects in the meaning of computer sciences. The concept and usage of objects in programming languages is connected to the [object-oriented programming paradigm](https://en.wikipedia.org/wiki/Object-oriented_programming). In this understanding objects are representations of specific things of the real world. Objects translate things together with the associated logic, the context, and the interactions between these things in the digital space. This paradigm was very successful in the past as it empowers developers not only to avoid code replications but also to provide logical meanings of things inside of programming languages. As this concept may sound confusing at first, we want to explain it based on a concrete example.\n",
    "\n",
    "### Objects - an example\n",
    "\n",
    "Imagine you would like to translate the functionality of a bicycle to a digital space, so that a computer could understand the mechanisms and the properties of a bicycle. Before we start with the translation, we must think in an object-oriented perspective. In principle out of an object view **everything** can be differentiated in *features* and *characteristics*. The characteristics are specific properties that make a bike (or more general a thing) unique so that we can differentiate it from others, whereas features are functionality, that can be done with the bicycle. In this perspective we could think of the following *characteristics* and *features*:\n",
    "\n",
    "\n",
    "\n",
    "</div>\n",
    "     <div style=\"flex:1;padding-left:10px;\">\n",
    "         <img src=\"figures/Bicycle_object_example.png\" alt=\"mloverview\" class=\"bg-primary\" width=\"700px\">\n",
    "         </br>\n",
    "             <div style=\"color:#808080; padding:1px; font-size: 12px;font-weight:italic\">\n",
    "             Example illustration of features and characteristics of a bike that could be thought of in a object oriented point of view (SOGA FUB 2023).\n",
    "            </div>\n",
    "     </div>\n",
    "</div>\n",
    "</br>\n",
    "</br>\n",
    "\n",
    "\n",
    "> **Note:** Of course, these lists of *characteristics* and *features* do not cover every possible property and functionality of bicycles in the real world. Although this should never be the intention or the aim of an object or a model in general you could try to think of other *characteristics* and *features* that you would like to add. In general, it is most important to translate the characteristics and the features of a thing that are meaningful for your programming purposes. \n",
    "\n",
    "### Object properties\n",
    "\n",
    "As we can see, the *characteristics* describe the properties of a bike or more general of a thing. These characteristics allow us to identify a specific bike and differentiate it from others. For example we could think of two different bikes:\n",
    "\n",
    "Property | Peter's Bike | Sarah's Bike |\n",
    ":- | :-: | :-: | \n",
    "Colour | Black | Red |\n",
    "Owner | Peter | Sarah |\n",
    "Year of manufacture | 2004 | 2016 |\n",
    "Brand | No Name | Stevens |\n",
    "Kind of bike | Trekking bike | Racing bicycle |\n",
    "Size of bicycle frame | 28 | 26 |\n",
    "\n",
    "Based on this table we can see that properties only store information. We could describe the kind of information based on the knowledge that we have already learned:\n",
    "\n",
    "Property | Peter's Bike | Sarah's Bike | kind of information\n",
    ":- | :-: | :-: | -: |\n",
    "Colour | Black | Red | string |\n",
    "Owner | Peter | Sarah | string |\n",
    "Year of manufacture | 2004 | 2016 | number |\n",
    "Brand | No Name | Stevens | string |\n",
    "Kind of bike | Trekking bike | Racing bicycle | string |\n",
    "Size of bicycle frame | 28 | 26 | number |\n",
    "\n",
    "> **Note:** You see that **object properties** in a programming perspective are nothing more than value container (variables) that are linked to a thing.\n",
    "\n",
    "> **Note:** In the object-oriented paradigm characteristics of things are named as **object properties**.\n",
    "\n",
    "### Accessing the value of an object property in Python\n",
    "\n",
    "To get a specific property of an object in Python we have to use the `.`. Assume that there are two different bike objects in your workspace that represent the bike of Peter and of Sarah. The names of these objects are: "
   ]
  },
  {
   "cell_type": "raw",
   "id": "23226f95-2f54-4838-bf2f-f10ad91eb8f3",
   "metadata": {
    "editable": true,
    "raw_mimetype": "",
    "slideshow": {
     "slide_type": ""
    },
    "tags": []
   },
   "source": [
    "Peters_bike"
   ]
  },
  {
   "cell_type": "raw",
   "id": "0d2ef3f9-c188-4a44-b6f6-1df4cc552506",
   "metadata": {},
   "source": [
    "Sarahs_bike"
   ]
  },
  {
   "cell_type": "markdown",
   "id": "fbfefa88-0ce7-45ac-9b8a-f5a5416c6619",
   "metadata": {},
   "source": [
    "To access a specific property of an object we need to use the following syntax:\n",
    "\n",
    "`<object_name>.<property_name>`\n",
    "\n",
    "That means if we want to know the brand of peters bike, we could access this property by:"
   ]
  },
  {
   "cell_type": "raw",
   "id": "068e8ea1-870b-46cd-b85f-5b4cd22da149",
   "metadata": {},
   "source": [
    "Peters_bike.brand"
   ]
  },
  {
   "cell_type": "markdown",
   "id": "f6f90c3b-3adc-4a39-b7f2-d576f2bbef4e",
   "metadata": {},
   "source": [
    "> **Note:** Because object properties are nothing more than variables the access works also just with the name. No brackets are needed."
   ]
  },
  {
   "cell_type": "markdown",
   "id": "8c535304-af73-4f24-b7cc-b5d36712681e",
   "metadata": {
    "editable": true,
    "slideshow": {
     "slide_type": ""
    },
    "tags": []
   },
   "source": [
    "### Object methods\n",
    "\n",
    "In contrast to *object properties* *object methods* are the programmatic representation of the **features** of a thing. As we have already learned **features** are mechanisms that *can be done with a thing*. In this understand they are closely related to the concept of functions that we've got to know in the previous chapters. A method of an object is called by: \n",
    "\n",
    "`<object_name>.<feature_name>()`\n",
    "\n",
    "> **Note:** The call of an object methods is done with brackets `()`. That make sense because object methods are functions that are related to an object. \n",
    "\n",
    "If you want to *apply the brakes* of Sarahs bicycle you do this by:"
   ]
  },
  {
   "cell_type": "raw",
   "id": "cd5aafe6-b5d9-41f6-b22d-e437322de661",
   "metadata": {
    "editable": true,
    "raw_mimetype": "",
    "slideshow": {
     "slide_type": ""
    },
    "tags": []
   },
   "source": [
    "Sarahs_bike.apply_brakes()"
   ]
  },
  {
   "cell_type": "markdown",
   "id": "aef0e060-9ded-4b42-9508-f5d3b92eb3ca",
   "metadata": {},
   "source": [
    "We do not want to deepen the concept of objects any further in this tutorial. If you are interested in this concept, there are a lot of great books and online tutorials that explain how objects are build and programmed in Python exactly. For the purposes of this tutorial, it is enough to have a basic understanding of objects and their usage. In Python everything is an object. Therefore it is important that you can differentiate between **object properties** and **object methods** to make use of Python's objects properly. "
   ]
  },
  {
   "cell_type": "code",
   "execution_count": 1,
   "id": "bc93fb59-6ebe-4e25-a479-457d64ea296f",
   "metadata": {
    "editable": true,
    "slideshow": {
     "slide_type": ""
    },
    "tags": [
     "remove-input"
    ]
   },
   "outputs": [
    {
     "data": {
      "text/html": [
       "\n",
       "        <iframe\n",
       "            width=\"900\"\n",
       "            height=\"200\"\n",
       "            src=\"../../citations/citation_Soga.html\"\n",
       "            frameborder=\"0\"\n",
       "            allowfullscreen\n",
       "            \n",
       "        ></iframe>\n",
       "        "
      ],
      "text/plain": [
       "<IPython.lib.display.IFrame at 0x103d5e4f0>"
      ]
     },
     "execution_count": 1,
     "metadata": {},
     "output_type": "execute_result"
    }
   ],
   "source": [
    "from IPython.display import IFrame\n",
    "\n",
    "IFrame(\n",
    "    src=\"../../citations/citation_Soga.html\",\n",
    "    width=900,\n",
    "    height=200,\n",
    ")"
   ]
  },
  {
   "cell_type": "code",
   "execution_count": null,
   "id": "aa907b48-5731-4c75-a15f-5f6e309e73ad",
   "metadata": {
    "editable": true,
    "slideshow": {
     "slide_type": ""
    },
    "tags": []
   },
   "outputs": [],
   "source": []
  }
 ],
 "metadata": {
  "kernelspec": {
   "display_name": "Python 3 (ipykernel)",
   "language": "python",
   "name": "python3"
  },
  "language_info": {
   "codemirror_mode": {
    "name": "ipython",
    "version": 3
   },
   "file_extension": ".py",
   "mimetype": "text/x-python",
   "name": "python",
   "nbconvert_exporter": "python",
   "pygments_lexer": "ipython3",
   "version": "3.9.19"
  }
 },
 "nbformat": 4,
 "nbformat_minor": 5
}
