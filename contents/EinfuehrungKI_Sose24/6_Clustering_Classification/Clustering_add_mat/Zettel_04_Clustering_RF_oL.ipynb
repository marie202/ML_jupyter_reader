{
 "cells": [
  {
   "cell_type": "markdown",
   "metadata": {},
   "source": [
    "# Statistische Modelle in den Geowissenschaften\n",
    "\n",
    "Zettel 4\n",
    "\n",
    "Abgabe bis Mittwoch 24.05.2023 um 15:00Uhr im Whiteboard."
   ]
  },
  {
   "cell_type": "markdown",
   "metadata": {},
   "source": [
    "## Aufgabe 1: $k$-means Clustering (7 Punkte)\n",
    "\n",
    "Clustering-Algorithmen haben das Ziel, Datenpunkte anhand eines festgelegten Ähnlichkeitsmaßes (und das ist entscheidend!) zu gruppieren. Hier sollen Sie den Cluster-Algorithmus $k$-means anwenden. Ein Algorithmus, der einen gegebenen (auch hochdimensionalen) Datensatz in $k$ Gruppen (cluster) einteilt. Der Algorithmus arbeitet folgendermaßen (Darstellung etwas vereinfacht):\n",
    "\n",
    "0. Wähle eine Clusteranzahl $k$ und wähle zur Initialisierung $k$ Clusterzentren (Zentroide). Diese Zentroide können zufällig im Zustandsraum verteilt sein oder es können einfach zufällig Elemente aus dem Trainings-Datensatz gezogen werden, die als Zentroide dienen. (Initialisierung) \n",
    "1. Ordne jedem Datenpunkt dem Cluster zu, dessen Clusterzentrum (Zentroid) am nächsten an diesem Punkt ist. (\"Nähe\" wird durch das Abstandsmaß bestimmt, das kann z.B. die Euklid'sche Distanz sein.)\n",
    "2. Berechne alle $k$ Clusterzentren neu: Der Mittelwert (in allen Dimensionen) aller Datenpunkte in einem Cluster ergibt das neue Clusterzentrum (Zentroid).\n",
    "3. Abbruchkriterium erfüllt? (z.B. \"maximale Anzahl an Iterationen erreicht\" oder \"Clusterzentren verändern sich nur wenig\") Sonst gehe zu 1.\n",
    "\n",
    "Wir verwenden in der Übung der Einfachheit halber simulierte Daten:"
   ]
  },
  {
   "cell_type": "code",
   "execution_count": 23,
   "metadata": {},
   "outputs": [],
   "source": [
    "x = as.matrix(read.table(\"../daten/cluster_sample_data.csv\", head=FALSE))"
   ]
  },
  {
   "cell_type": "markdown",
   "metadata": {},
   "source": [
    "Aufgaben:\n",
    "\n",
    "1. Skalieren Sie die Daten mit\n",
    "```r\n",
    "x <- as.data.frame(scale(x))\n",
    "``` \n",
    "und plotten Sie den Datensatz in einem Scatterplot. Stellen Sie anhand der Abbildung eine Vermutung auf, in wieviele Cluster sich die Daten aufteilen könnten. Erklären Sie was die Funktion `scale()` macht. (1 Punkt)\n",
    "\n",
    "2. Wenden Sie den Clustering-Algorithmus $k$-means auf die Daten an und geben Sie die Clusteranzahl fest vor (Vermutung aus Aufgabe 1). Sie können dazu die Funktion `kmeans()` verwenden. Als initiale Clusterzentren wählen Sie zufällig gezogene Punkte aus dem Datensatz. Informieren Sie sich über die entsprechende Hilfe über die Optionen dazu. (1 Punkt)\n",
    "\n",
    "3. Plotten Sie die Daten erneut und färben Sie die Datenpunkte anhand ihrer Cluster-Zugehörigkeit. (1 Punkt)\n",
    "\n",
    "4. Bestimmmen Sie systematisch die optimale Anzahl an Clustern (wählen Sie dazu alle $k$ zwischen 2 und 10). Dazu führen Sie $k$-means für jedes $k$ aus und berechnen Sie die Summe der Euklidischen Distanz aller Datenpunkte $x_i$ zu ihren jeweiligen Clusterzentren $c_k$ (Within-Cluster-Sum of Squared Errors, WSS). \n",
    "$$\n",
    "WSS=\\sum_{k=1}^K \\sum_{x_i \\in C_k} \\vert\\vert x_i-c_k \\vert\\vert ^2\n",
    "$$\n",
    "mit der Menge von Clustern $C$, den Clustern $k$, der Anzahl an Clustern $K$, den Datenpunkten $x_i$ im Cluster $C_k$, der Euklidischen Distanz ($\\vert\\vert ... \\vert\\vert$) und dem Clusterzentrum (Zentroid) $c_k$.\n",
    "Diese sollte mit höherer Anzahl an Clustern stetig abnehmen, jedoch sollte die WSS ab der optimalen Cluster-Anzahl nur noch geringfügig sinken, für höhere Anzahlen an Clustern. Stellen Sie die Entwicklung grafisch dar ($WSS$ gegen $k$) und Begründen Sie anhand dieser Grafik, wie viele Cluster Sie wählen würden. (2 Punkte)\n",
    "\n",
    "5. Schauen Sie sich einen weiteren Datensatz an (Scatterplot):\n",
    "```r\n",
    "x_moons = as.matrix(read.table(\"../daten/cluster_sample_data_moons.csv\", head=FALSE))\n",
    "``` \n",
    "In diesem ebenfalls generierten Datensatz sind eindeutig 2 Cluster zu erkennen, die aber vom KMeans-Clustering nicht gut erkannt werden (überprüfen Sie dies mit Plots analog 3.)\n",
    "- Warum klappt das Clustering nach KMeans hier nicht gut? (1 Punkt)\n",
    "- Finden Sie eine Möglichkeit eines Clusterings, dass hier besser funktioniert und potten Sie wieder inkl. Färbung der Clusterzugeörigkeit(Tipp: Ende der Vorlesung) (1 Punkt)\n",
    "\n",
    "Allgemeine Hinweise: Oft, wenn man mit Zufallsdaten arbeitet (zum Beispiel zufällig gezogene initiale Cluster-Zentren), kann es passieren, dass einzelne Ergebnisse nicht sinnvoll sind. Meistens hilft es, den Zufallsvorgang einfach erneut auszuführen (und natürlich zu verstehen, warum es manchmal nicht funktioniert)."
   ]
  },
  {
   "cell_type": "code",
   "execution_count": 1,
   "metadata": {},
   "outputs": [],
   "source": [
    "# Aufgabe 1.1"
   ]
  },
  {
   "cell_type": "code",
   "execution_count": 3,
   "metadata": {},
   "outputs": [],
   "source": [
    "# Aufgabe 1.2"
   ]
  },
  {
   "cell_type": "code",
   "execution_count": 4,
   "metadata": {},
   "outputs": [],
   "source": [
    "# Aufgabe 1.3"
   ]
  },
  {
   "cell_type": "code",
   "execution_count": 6,
   "metadata": {},
   "outputs": [],
   "source": [
    "# Aufgabe 1.4"
   ]
  },
  {
   "cell_type": "code",
   "execution_count": 7,
   "metadata": {},
   "outputs": [],
   "source": [
    "# Aufgabe 1.5"
   ]
  },
  {
   "cell_type": "markdown",
   "metadata": {},
   "source": [
    "## Aufgabe 2: Random Forests (5 Punkte)\n",
    "\n",
    "In dieser Übung werden wir einen RF aus aktuellen Berliner Wetterdaten erstellen. Lesen Sie dazu die Datenbeschreibung im Refubium:   https://refubium.fu-berlin.de/handle/fub188/38460\n",
    "\n",
    "und laden die Datei 01_Tempelhof-1_2006_Daten.zip herunter: https://refubium.fu-berlin.de/bitstream/handle/fub188/38460/01_Tempelhof-1_2006_Daten.zip?sequence=2&isAllowed=y\n",
    "\n",
    "Zu diesem Datensatz gibt es nochmal eine gesonderte Beschreibung welche Sie sich gern ansehen können: https://refubium.fu-berlin.de/bitstream/handle/fub188/38460/01_Tempelhof-1_Beschreibung.pdf?sequence=3&isAllowed=y\n",
    "\n",
    "Das Einlesen und Benennen der Daten geht recht einfach (die Variablennamen stehen in der gezipten .csv Datei). In R verwendet man hierfür am besten einen sogenannten Data-Frame. Die Funktion `read.table()` erzeugt diesen automatisch:"
   ]
  },
  {
   "cell_type": "code",
   "execution_count": 20,
   "metadata": {},
   "outputs": [],
   "source": [
    "variables <- c(\"Jahr\",\"Monat\",\"Tag\",\"Stunde\",\"Minute\",\"WDay\",\"WoY\",\"DoY\",\n",
    "\"air_temperature\"                            ,\"air_temperature_guete\",                # C\n",
    "\"relative_humidity\"                          ,\"relative_humidity_guete\",              # %\n",
    "\"duration_of_sunshine\"                       ,\"duration_of_sunshine_guete\",           # min                       \n",
    "\"air_pressure_at_station_level\"              ,\"air_pressure_at_station_level_guete\",  # hPa              \n",
    "\"air_temperature2\"                           ,\"air_temperature2_guete\",                   # C      \n",
    "\"height_of_precipitation\"                    ,\"height_of_precipitation_guete\",            # mm       \n",
    "\"wind_speed_maximum\"                         ,\"wind_speed_maximum_guete\",                 # m/s        \n",
    "\"soil_temperature\"                           ,\"soil_temperature_guete\",                   # C        \n",
    "\"wind_speed_mean\"                            ,\"wind_speed_mean_guete\",                    # m/s       \n",
    "\"global_solar_radiation\"                     ,\"global_solar_radiation_guete\",             # W/m^2        \n",
    "\"air_temperature3\"                           ,\"air_temperature3_guete\",                   # C        \n",
    "\"air_temperature4\"                           ,\"air_temperature4_guete\",                   # C       \n",
    "\"wind_from_direction_at_wind_speed_maximum\"  ,\"wind_from_direction_at_wind_speed_maximum_guete\",  # degree \n",
    "\"wind_from_direction\"                        ,\"wind_from_direction_guete\")                        # degree\n",
    "\n",
    " data <- read.table(unzip(\"../daten/01_Tempelhof-1_2006_Daten.zip\",\"01_Tempelhof-1_2006_Daten.csv\"),col.names=variables)\n"
   ]
  },
  {
   "cell_type": "markdown",
   "metadata": {},
   "source": [
    "Benutzen sie z.B. die `str()` und die `dim()` Funktion um sich einen Überlick über die Daten zu verschaffen.\n",
    "Sie werden sehen, das wir Variablen mit Integer, Real und Character Inhalten haben. Die Character Variablen betreffen allerdings nur die \"_guete\" Variablen welche kaum Informationen enthalten. Wir entfernen sie im Weiteren:"
   ]
  },
  {
   "cell_type": "code",
   "execution_count": 21,
   "metadata": {},
   "outputs": [],
   "source": [
    " data2use <- data[c(\"Jahr\",\"Monat\",\"Tag\",\"Stunde\",\"Minute\",\"WDay\",\"WoY\",\"DoY\",\"air_temperature\",\n",
    "                    \"relative_humidity\",\"duration_of_sunshine\",\"air_pressure_at_station_level\",\n",
    "                    \"height_of_precipitation\",\"wind_speed_maximum\" ,\"soil_temperature\" ,\"wind_speed_mean\" ,\n",
    "                    \"global_solar_radiation\", \"wind_from_direction_at_wind_speed_maximum\",\"wind_from_direction\")]"
   ]
  },
  {
   "cell_type": "markdown",
   "metadata": {},
   "source": [
    "Wir erzeugen nun aus `data2use` einen RF wie in der Vorlesung gezeigt. Verwenden also die Funktion `randomForest()` aus dem `randomForest` package. Zielgröße ist in diesem Fall `soil_temperature`. Diese soll aus allen anderen Variablen in `data` bestimmt werden. \n"
   ]
  },
  {
   "cell_type": "code",
   "execution_count": 24,
   "metadata": {},
   "outputs": [
    {
     "name": "stderr",
     "output_type": "stream",
     "text": [
      "randomForest 4.7-1.1\n",
      "\n",
      "Type rfNews() to see new features/changes/bug fixes.\n",
      "\n"
     ]
    }
   ],
   "source": [
    "library(randomForest)\n",
    "model <- randomForest(\n",
    "   formula = soil_temperature ~ ., data=data2use, na.action=\"na.omit\" , sampsize=20000, mtry=3, ntree=150)"
   ]
  },
  {
   "cell_type": "markdown",
   "metadata": {},
   "source": [
    "### A) (1 Punkt)\n",
    "\n",
    "Wenden sie die `plot()` und die `varImpPlot()` Funktion auf den erzeugeten RF an. Diskutieren sie die Ergebnisse kurz in jeweils 1-2 Sätzen.\n",
    "\n",
    "### B) (2 Punkte)\n",
    "\n",
    "Durch `model$mse` erhält man Zugriff auf die geplottete Fehlerkurve. Plotten sie diese für verschiedene RFs welche mit `mtry`= 1 bis 10 traineiert wurden. `mtry` ist ein Metaparameter des Entscheidungsbaumgenerierung. Lesen Sie sich die Beschreibung zu `mtry` in der die R-Hilfe `?randomForest` durch. Plotten sie die verschiedenen Kurven idealerweise in einem Plot. Diskutieren sie das Ergebnis. (HINWEIS: In diesem Teil kann es gut sein, dass die Ausführung des Codes eine Weile dauert)\n",
    "\n",
    "### C) (2 Punkte)\n",
    "\n",
    "Wiederholen sie **Aufgabe 1B** mit dem ungefilterten Datensatz `data`. Was fällt Ihnen hier auf und wie erklären sie sich das? (HINWEIS: In diesem Teil kann es gut sein, dass die Ausführung des Codes eine Weile dauert)"
   ]
  }
 ],
 "metadata": {
  "kernelspec": {
   "display_name": "Python 3 (ipykernel)",
   "language": "python",
   "name": "python3"
  },
  "language_info": {
   "codemirror_mode": {
    "name": "ipython",
    "version": 3
   },
   "file_extension": ".py",
   "mimetype": "text/x-python",
   "name": "python",
   "nbconvert_exporter": "python",
   "pygments_lexer": "ipython3",
   "version": "3.12.2"
  }
 },
 "nbformat": 4,
 "nbformat_minor": 4
}
