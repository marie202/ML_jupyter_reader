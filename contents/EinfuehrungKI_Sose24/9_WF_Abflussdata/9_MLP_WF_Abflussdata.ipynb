{
 "cells": [
  {
   "cell_type": "markdown",
   "id": "97e595e3-02c5-4e88-91ba-3916786f4fbb",
   "metadata": {},
   "source": [
    "# A typical machine learning workflow\n",
    "\n",
    "A typical machine learning approach consists of several steps that can be arranged in a kind of standard workflow. Training of the model, which we have done in the previous examples of different algorithms, is only a small part of this workflow. Data preprocessing and model evaluation and selection are by far the more extensive tasks.\n",
    "\n",
    "In the following we will walk through the entire workflow using a simple but more realistic example than using toy data.\n",
    "\n",
    "Our goal is to use weather data and predict the daily mean temperature at a measurement station from several other measurements, such as pressure, vapor content, and so on."
   ]
  },
  {
   "cell_type": "markdown",
   "id": "45b00404-e0c8-46ab-887e-fdcb1330e76f",
   "metadata": {},
   "source": [
    "# 1. Select data"
   ]
  },
  {
   "attachments": {},
   "cell_type": "markdown",
   "id": "af1db452-5666-468d-9b15-cf6233a402d8",
   "metadata": {},
   "source": [
    "For this example, we will use a daily time series from the water level (Pegel) stations in Baden-Württemberg (BW), downloadable from [UDO](https://udo.lubw.baden-wuerttemberg.de/public/processingChain?repositoryItemGlobalId=hydrologische_landespegel&conditionValuesSetHash=00E06F8&selector=hydrologische_landespegel&sourceOrderAsc=false&offset=0&limit=2147483647) on 2022-07-22. A detailed description of the variables is available [here](https://www.hvz.baden-wuerttemberg.de). For the purpose of this tutorial the dataset is provided in ISIS.\n",
    "\n",
    "\n",
    "<div>\n",
    "<img src=\"figures/pegel_BW.png\" width=\"800\"/>\n",
    "</div>\n",
    "\n",
    "<div>\n",
    "<img src=\"figures/ausgewählte_stations.png\" width=\"400\"/>\n",
    "</div>"
   ]
  },
  {
   "cell_type": "markdown",
   "id": "12546a7e-7297-4952-95e3-a05a7d04ce12",
   "metadata": {},
   "source": [
    "## 1.1 Read dataset"
   ]
  },
  {
   "cell_type": "code",
   "execution_count": 1,
   "id": "fd1a5cce-3fac-45dc-98d2-8691241e00d2",
   "metadata": {
    "tags": []
   },
   "outputs": [],
   "source": [
    "import pandas as pd\n",
    "import seaborn as sns\n",
    "import matplotlib.pyplot as plt\n",
    "import numpy as np"
   ]
  },
  {
   "cell_type": "markdown",
   "id": "b01f6387-b2f7-42db-b9ea-03f8594e031e",
   "metadata": {
    "editable": true,
    "slideshow": {
     "slide_type": ""
    },
    "tags": []
   },
   "source": [
    "After defining some some basic libraries, we start by reading the data into a Pandas data frame. Note that \"Wert\" stands for the resp. \"Pegelstand\""
   ]
  },
  {
   "cell_type": "code",
   "execution_count": 2,
   "id": "23538f5d-8782-4a55-bbd8-87bc79edafe5",
   "metadata": {
    "tags": []
   },
   "outputs": [
    {
     "data": {
      "text/html": [
       "<div>\n",
       "<style scoped>\n",
       "    .dataframe tbody tr th:only-of-type {\n",
       "        vertical-align: middle;\n",
       "    }\n",
       "\n",
       "    .dataframe tbody tr th {\n",
       "        vertical-align: top;\n",
       "    }\n",
       "\n",
       "    .dataframe thead th {\n",
       "        text-align: right;\n",
       "    }\n",
       "</style>\n",
       "<table border=\"1\" class=\"dataframe\">\n",
       "  <thead>\n",
       "    <tr style=\"text-align: right;\">\n",
       "      <th></th>\n",
       "      <th>Date</th>\n",
       "      <th>pr</th>\n",
       "      <th>tas</th>\n",
       "      <th>Wert</th>\n",
       "      <th>Einheit</th>\n",
       "      <th>Produkt</th>\n",
       "    </tr>\n",
       "  </thead>\n",
       "  <tbody>\n",
       "    <tr>\n",
       "      <th>0</th>\n",
       "      <td>1970-01-01 12:00:00</td>\n",
       "      <td>0.3</td>\n",
       "      <td>-5.6</td>\n",
       "      <td>NaN</td>\n",
       "      <td>NaN</td>\n",
       "      <td>NaN</td>\n",
       "    </tr>\n",
       "    <tr>\n",
       "      <th>1</th>\n",
       "      <td>1970-01-02 12:00:00</td>\n",
       "      <td>0.6</td>\n",
       "      <td>-3.7</td>\n",
       "      <td>NaN</td>\n",
       "      <td>NaN</td>\n",
       "      <td>NaN</td>\n",
       "    </tr>\n",
       "    <tr>\n",
       "      <th>2</th>\n",
       "      <td>1970-01-03 12:00:00</td>\n",
       "      <td>3.6</td>\n",
       "      <td>-0.5</td>\n",
       "      <td>NaN</td>\n",
       "      <td>NaN</td>\n",
       "      <td>NaN</td>\n",
       "    </tr>\n",
       "    <tr>\n",
       "      <th>3</th>\n",
       "      <td>1970-01-04 12:00:00</td>\n",
       "      <td>11.2</td>\n",
       "      <td>-0.4</td>\n",
       "      <td>NaN</td>\n",
       "      <td>NaN</td>\n",
       "      <td>NaN</td>\n",
       "    </tr>\n",
       "    <tr>\n",
       "      <th>4</th>\n",
       "      <td>1970-01-05 12:00:00</td>\n",
       "      <td>1.5</td>\n",
       "      <td>-2.5</td>\n",
       "      <td>NaN</td>\n",
       "      <td>NaN</td>\n",
       "      <td>NaN</td>\n",
       "    </tr>\n",
       "    <tr>\n",
       "      <th>...</th>\n",
       "      <td>...</td>\n",
       "      <td>...</td>\n",
       "      <td>...</td>\n",
       "      <td>...</td>\n",
       "      <td>...</td>\n",
       "      <td>...</td>\n",
       "    </tr>\n",
       "    <tr>\n",
       "      <th>18623</th>\n",
       "      <td>2020-12-27 12:00:00</td>\n",
       "      <td>23.6</td>\n",
       "      <td>1.7</td>\n",
       "      <td>36.0</td>\n",
       "      <td>cm</td>\n",
       "      <td>Tagesmaximalwert</td>\n",
       "    </tr>\n",
       "    <tr>\n",
       "      <th>18624</th>\n",
       "      <td>2020-12-28 12:00:00</td>\n",
       "      <td>6.5</td>\n",
       "      <td>2.5</td>\n",
       "      <td>32.0</td>\n",
       "      <td>cm</td>\n",
       "      <td>Tagesmaximalwert</td>\n",
       "    </tr>\n",
       "    <tr>\n",
       "      <th>18625</th>\n",
       "      <td>2020-12-29 12:00:00</td>\n",
       "      <td>1.9</td>\n",
       "      <td>1.7</td>\n",
       "      <td>32.0</td>\n",
       "      <td>cm</td>\n",
       "      <td>Tagesmaximalwert</td>\n",
       "    </tr>\n",
       "    <tr>\n",
       "      <th>18626</th>\n",
       "      <td>2020-12-30 12:00:00</td>\n",
       "      <td>0.2</td>\n",
       "      <td>2.4</td>\n",
       "      <td>28.0</td>\n",
       "      <td>cm</td>\n",
       "      <td>Tagesmaximalwert</td>\n",
       "    </tr>\n",
       "    <tr>\n",
       "      <th>18627</th>\n",
       "      <td>2020-12-31 12:00:00</td>\n",
       "      <td>2.5</td>\n",
       "      <td>1.1</td>\n",
       "      <td>28.0</td>\n",
       "      <td>cm</td>\n",
       "      <td>Tagesmaximalwert</td>\n",
       "    </tr>\n",
       "  </tbody>\n",
       "</table>\n",
       "<p>18628 rows × 6 columns</p>\n",
       "</div>"
      ],
      "text/plain": [
       "                      Date    pr  tas  Wert Einheit           Produkt\n",
       "0      1970-01-01 12:00:00   0.3 -5.6   NaN     NaN               NaN\n",
       "1      1970-01-02 12:00:00   0.6 -3.7   NaN     NaN               NaN\n",
       "2      1970-01-03 12:00:00   3.6 -0.5   NaN     NaN               NaN\n",
       "3      1970-01-04 12:00:00  11.2 -0.4   NaN     NaN               NaN\n",
       "4      1970-01-05 12:00:00   1.5 -2.5   NaN     NaN               NaN\n",
       "...                    ...   ...  ...   ...     ...               ...\n",
       "18623  2020-12-27 12:00:00  23.6  1.7  36.0      cm  Tagesmaximalwert\n",
       "18624  2020-12-28 12:00:00   6.5  2.5  32.0      cm  Tagesmaximalwert\n",
       "18625  2020-12-29 12:00:00   1.9  1.7  32.0      cm  Tagesmaximalwert\n",
       "18626  2020-12-30 12:00:00   0.2  2.4  28.0      cm  Tagesmaximalwert\n",
       "18627  2020-12-31 12:00:00   2.5  1.1  28.0      cm  Tagesmaximalwert\n",
       "\n",
       "[18628 rows x 6 columns]"
      ]
     },
     "execution_count": 2,
     "metadata": {},
     "output_type": "execute_result"
    }
   ],
   "source": [
    "data_raw = pd.read_csv(\n",
    "    \"data/Jagstzell_Jagst_dailyData_HYRAS_Pegelstand.csv\",\n",
    "    #sep=\";\",\n",
    "   # na_values=[\"-999\"],\n",
    "    skipinitialspace=True\n",
    ")\n",
    "\n",
    "data_raw = data_raw.drop(columns=['Unnamed: 0'])\n",
    "data_raw"
   ]
  },
  {
   "cell_type": "code",
   "execution_count": 3,
   "id": "185df05c-f4ed-40e3-899f-ca846099628c",
   "metadata": {},
   "outputs": [
    {
     "data": {
      "text/plain": [
       "Date        object\n",
       "pr         float64\n",
       "tas        float64\n",
       "Wert       float64\n",
       "Einheit     object\n",
       "Produkt     object\n",
       "dtype: object"
      ]
     },
     "execution_count": 3,
     "metadata": {},
     "output_type": "execute_result"
    }
   ],
   "source": [
    "data_raw.dtypes"
   ]
  },
  {
   "cell_type": "markdown",
   "id": "e49dce4e-13f1-41bf-8818-7d3062431a08",
   "metadata": {},
   "source": [
    "## 1.2 Remove unnecessary columns\n",
    "\n",
    "By looking at the data and consulting the variable description, we can immediately find variables that are not useful for our purpose and drop them.\n",
    "- Einheit\n",
    "- Produkt"
   ]
  },
  {
   "cell_type": "code",
   "execution_count": 4,
   "id": "6415ae5e-33cf-4e6a-8a64-bf25ab527c96",
   "metadata": {
    "tags": []
   },
   "outputs": [
    {
     "data": {
      "text/html": [
       "<div>\n",
       "<style scoped>\n",
       "    .dataframe tbody tr th:only-of-type {\n",
       "        vertical-align: middle;\n",
       "    }\n",
       "\n",
       "    .dataframe tbody tr th {\n",
       "        vertical-align: top;\n",
       "    }\n",
       "\n",
       "    .dataframe thead th {\n",
       "        text-align: right;\n",
       "    }\n",
       "</style>\n",
       "<table border=\"1\" class=\"dataframe\">\n",
       "  <thead>\n",
       "    <tr style=\"text-align: right;\">\n",
       "      <th></th>\n",
       "      <th>Date</th>\n",
       "      <th>pr</th>\n",
       "      <th>tas</th>\n",
       "      <th>Wert</th>\n",
       "    </tr>\n",
       "  </thead>\n",
       "  <tbody>\n",
       "    <tr>\n",
       "      <th>0</th>\n",
       "      <td>1970-01-01 12:00:00</td>\n",
       "      <td>0.3</td>\n",
       "      <td>-5.6</td>\n",
       "      <td>NaN</td>\n",
       "    </tr>\n",
       "    <tr>\n",
       "      <th>1</th>\n",
       "      <td>1970-01-02 12:00:00</td>\n",
       "      <td>0.6</td>\n",
       "      <td>-3.7</td>\n",
       "      <td>NaN</td>\n",
       "    </tr>\n",
       "    <tr>\n",
       "      <th>2</th>\n",
       "      <td>1970-01-03 12:00:00</td>\n",
       "      <td>3.6</td>\n",
       "      <td>-0.5</td>\n",
       "      <td>NaN</td>\n",
       "    </tr>\n",
       "    <tr>\n",
       "      <th>3</th>\n",
       "      <td>1970-01-04 12:00:00</td>\n",
       "      <td>11.2</td>\n",
       "      <td>-0.4</td>\n",
       "      <td>NaN</td>\n",
       "    </tr>\n",
       "    <tr>\n",
       "      <th>4</th>\n",
       "      <td>1970-01-05 12:00:00</td>\n",
       "      <td>1.5</td>\n",
       "      <td>-2.5</td>\n",
       "      <td>NaN</td>\n",
       "    </tr>\n",
       "    <tr>\n",
       "      <th>...</th>\n",
       "      <td>...</td>\n",
       "      <td>...</td>\n",
       "      <td>...</td>\n",
       "      <td>...</td>\n",
       "    </tr>\n",
       "    <tr>\n",
       "      <th>18623</th>\n",
       "      <td>2020-12-27 12:00:00</td>\n",
       "      <td>23.6</td>\n",
       "      <td>1.7</td>\n",
       "      <td>36.0</td>\n",
       "    </tr>\n",
       "    <tr>\n",
       "      <th>18624</th>\n",
       "      <td>2020-12-28 12:00:00</td>\n",
       "      <td>6.5</td>\n",
       "      <td>2.5</td>\n",
       "      <td>32.0</td>\n",
       "    </tr>\n",
       "    <tr>\n",
       "      <th>18625</th>\n",
       "      <td>2020-12-29 12:00:00</td>\n",
       "      <td>1.9</td>\n",
       "      <td>1.7</td>\n",
       "      <td>32.0</td>\n",
       "    </tr>\n",
       "    <tr>\n",
       "      <th>18626</th>\n",
       "      <td>2020-12-30 12:00:00</td>\n",
       "      <td>0.2</td>\n",
       "      <td>2.4</td>\n",
       "      <td>28.0</td>\n",
       "    </tr>\n",
       "    <tr>\n",
       "      <th>18627</th>\n",
       "      <td>2020-12-31 12:00:00</td>\n",
       "      <td>2.5</td>\n",
       "      <td>1.1</td>\n",
       "      <td>28.0</td>\n",
       "    </tr>\n",
       "  </tbody>\n",
       "</table>\n",
       "<p>18628 rows × 4 columns</p>\n",
       "</div>"
      ],
      "text/plain": [
       "                      Date    pr  tas  Wert\n",
       "0      1970-01-01 12:00:00   0.3 -5.6   NaN\n",
       "1      1970-01-02 12:00:00   0.6 -3.7   NaN\n",
       "2      1970-01-03 12:00:00   3.6 -0.5   NaN\n",
       "3      1970-01-04 12:00:00  11.2 -0.4   NaN\n",
       "4      1970-01-05 12:00:00   1.5 -2.5   NaN\n",
       "...                    ...   ...  ...   ...\n",
       "18623  2020-12-27 12:00:00  23.6  1.7  36.0\n",
       "18624  2020-12-28 12:00:00   6.5  2.5  32.0\n",
       "18625  2020-12-29 12:00:00   1.9  1.7  32.0\n",
       "18626  2020-12-30 12:00:00   0.2  2.4  28.0\n",
       "18627  2020-12-31 12:00:00   2.5  1.1  28.0\n",
       "\n",
       "[18628 rows x 4 columns]"
      ]
     },
     "execution_count": 4,
     "metadata": {},
     "output_type": "execute_result"
    }
   ],
   "source": [
    "data = data_raw.drop(columns=[\"Einheit\", \"Produkt\"])\n",
    "data"
   ]
  },
  {
   "cell_type": "markdown",
   "id": "50c172fb-c89b-406d-8ad0-4a283386b0c0",
   "metadata": {},
   "source": [
    "## 1.3 Rename columns for convenience\n",
    "\n",
    "To improve the readability, we rename the remaining columns."
   ]
  },
  {
   "cell_type": "code",
   "execution_count": 5,
   "id": "0d683320-1100-457f-8555-850adcef5984",
   "metadata": {
    "tags": []
   },
   "outputs": [
    {
     "data": {
      "text/html": [
       "<div>\n",
       "<style scoped>\n",
       "    .dataframe tbody tr th:only-of-type {\n",
       "        vertical-align: middle;\n",
       "    }\n",
       "\n",
       "    .dataframe tbody tr th {\n",
       "        vertical-align: top;\n",
       "    }\n",
       "\n",
       "    .dataframe thead th {\n",
       "        text-align: right;\n",
       "    }\n",
       "</style>\n",
       "<table border=\"1\" class=\"dataframe\">\n",
       "  <thead>\n",
       "    <tr style=\"text-align: right;\">\n",
       "      <th></th>\n",
       "      <th>Date</th>\n",
       "      <th>prec_sum</th>\n",
       "      <th>temp_mean</th>\n",
       "      <th>pegelstand</th>\n",
       "    </tr>\n",
       "  </thead>\n",
       "  <tbody>\n",
       "    <tr>\n",
       "      <th>0</th>\n",
       "      <td>1970-01-01 12:00:00</td>\n",
       "      <td>0.3</td>\n",
       "      <td>-5.6</td>\n",
       "      <td>NaN</td>\n",
       "    </tr>\n",
       "    <tr>\n",
       "      <th>1</th>\n",
       "      <td>1970-01-02 12:00:00</td>\n",
       "      <td>0.6</td>\n",
       "      <td>-3.7</td>\n",
       "      <td>NaN</td>\n",
       "    </tr>\n",
       "    <tr>\n",
       "      <th>2</th>\n",
       "      <td>1970-01-03 12:00:00</td>\n",
       "      <td>3.6</td>\n",
       "      <td>-0.5</td>\n",
       "      <td>NaN</td>\n",
       "    </tr>\n",
       "    <tr>\n",
       "      <th>3</th>\n",
       "      <td>1970-01-04 12:00:00</td>\n",
       "      <td>11.2</td>\n",
       "      <td>-0.4</td>\n",
       "      <td>NaN</td>\n",
       "    </tr>\n",
       "    <tr>\n",
       "      <th>4</th>\n",
       "      <td>1970-01-05 12:00:00</td>\n",
       "      <td>1.5</td>\n",
       "      <td>-2.5</td>\n",
       "      <td>NaN</td>\n",
       "    </tr>\n",
       "    <tr>\n",
       "      <th>...</th>\n",
       "      <td>...</td>\n",
       "      <td>...</td>\n",
       "      <td>...</td>\n",
       "      <td>...</td>\n",
       "    </tr>\n",
       "    <tr>\n",
       "      <th>18623</th>\n",
       "      <td>2020-12-27 12:00:00</td>\n",
       "      <td>23.6</td>\n",
       "      <td>1.7</td>\n",
       "      <td>36.0</td>\n",
       "    </tr>\n",
       "    <tr>\n",
       "      <th>18624</th>\n",
       "      <td>2020-12-28 12:00:00</td>\n",
       "      <td>6.5</td>\n",
       "      <td>2.5</td>\n",
       "      <td>32.0</td>\n",
       "    </tr>\n",
       "    <tr>\n",
       "      <th>18625</th>\n",
       "      <td>2020-12-29 12:00:00</td>\n",
       "      <td>1.9</td>\n",
       "      <td>1.7</td>\n",
       "      <td>32.0</td>\n",
       "    </tr>\n",
       "    <tr>\n",
       "      <th>18626</th>\n",
       "      <td>2020-12-30 12:00:00</td>\n",
       "      <td>0.2</td>\n",
       "      <td>2.4</td>\n",
       "      <td>28.0</td>\n",
       "    </tr>\n",
       "    <tr>\n",
       "      <th>18627</th>\n",
       "      <td>2020-12-31 12:00:00</td>\n",
       "      <td>2.5</td>\n",
       "      <td>1.1</td>\n",
       "      <td>28.0</td>\n",
       "    </tr>\n",
       "  </tbody>\n",
       "</table>\n",
       "<p>18628 rows × 4 columns</p>\n",
       "</div>"
      ],
      "text/plain": [
       "                      Date  prec_sum  temp_mean  pegelstand\n",
       "0      1970-01-01 12:00:00       0.3       -5.6         NaN\n",
       "1      1970-01-02 12:00:00       0.6       -3.7         NaN\n",
       "2      1970-01-03 12:00:00       3.6       -0.5         NaN\n",
       "3      1970-01-04 12:00:00      11.2       -0.4         NaN\n",
       "4      1970-01-05 12:00:00       1.5       -2.5         NaN\n",
       "...                    ...       ...        ...         ...\n",
       "18623  2020-12-27 12:00:00      23.6        1.7        36.0\n",
       "18624  2020-12-28 12:00:00       6.5        2.5        32.0\n",
       "18625  2020-12-29 12:00:00       1.9        1.7        32.0\n",
       "18626  2020-12-30 12:00:00       0.2        2.4        28.0\n",
       "18627  2020-12-31 12:00:00       2.5        1.1        28.0\n",
       "\n",
       "[18628 rows x 4 columns]"
      ]
     },
     "execution_count": 5,
     "metadata": {},
     "output_type": "execute_result"
    }
   ],
   "source": [
    "data = data.rename(columns={\"pr\": \"prec_sum\",\n",
    "                            \"tas\": \"temp_mean\",\n",
    "                            \"Wert\": \"pegelstand\",\n",
    "                           })\n",
    "data"
   ]
  },
  {
   "cell_type": "markdown",
   "id": "926e0a1b-3ee1-4e5c-8941-093ad636b05a",
   "metadata": {},
   "source": [
    "## 1.4 Remove correlated columns\n",
    "\n",
    "In the next step, we see that there are four columns with temperature-related data:\n",
    "- TMK -> Daily Mean Temp (this is the temperature which we want to predict)\n",
    "- TXK -> Daily Max Temp at 2m\n",
    "- TNK -> Daily Min Temp at 2m\n",
    "- TGK -> Daily Min Temp at 5cm\n",
    "\n",
    "The following pair plot shows that these values are highly correlated, as expected."
   ]
  },
  {
   "cell_type": "code",
   "execution_count": 6,
   "id": "68d8ab09-1be7-4739-941d-c3b503ca64a1",
   "metadata": {
    "tags": []
   },
   "outputs": [
    {
     "data": {
      "text/plain": [
       "<seaborn.axisgrid.PairGrid at 0x16a1b23f0>"
      ]
     },
     "execution_count": 6,
     "metadata": {},
     "output_type": "execute_result"
    },
    {
     "data": {
      "image/png": "[encoded data removed]",
      "text/plain": [
       "<Figure size 750x750 with 9 Axes>"
      ]
     },
     "metadata": {},
     "output_type": "display_data"
    }
   ],
   "source": [
    "sns.pairplot(data, vars=[\"prec_sum\", \"temp_mean\", \"pegelstand\"], corner=True)"
   ]
  },
  {
   "cell_type": "markdown",
   "id": "fd210321-62b2-4d0e-9eab-198fb4770754",
   "metadata": {},
   "source": [
    "Our goal is to predict the mean pegelstand (cm). If we leave the other temperature variables in the data set, our model will basically use these correlations and thus ignore all other variables. So we will drop temp_max, temp_min, and temp_sfc.\n",
    "\n",
    "Note: If our target variable were something other than temperature, we would effectively have four correlated predictor variables. This could lead to a high influence on the model. It might then be useful to reduce this influence by dimensionally reducing the feature space. One way is to drop certain features, as we do here, another way can be a **principle component analysis (PCA)** where only the main components are kept in the analysis."
   ]
  },
  {
   "cell_type": "code",
   "execution_count": 7,
   "id": "f9310874-034d-4432-af79-a3c542cc60b2",
   "metadata": {
    "tags": []
   },
   "outputs": [],
   "source": [
    "#data = data.drop(columns=[\"temp_max\", \"temp_min\", \"temp_sfc\"])\n",
    "#data"
   ]
  },
  {
   "cell_type": "markdown",
   "id": "87af8510-ee7d-4947-bc52-6e411dc075bd",
   "metadata": {
    "tags": []
   },
   "source": [
    "## 1.5 Drop missing data"
   ]
  },
  {
   "cell_type": "markdown",
   "id": "8efb0a9f-21b1-43d4-b486-23b05cd6eed1",
   "metadata": {},
   "source": [
    "As a next step, we check the data for missing values."
   ]
  },
  {
   "cell_type": "code",
   "execution_count": 8,
   "id": "96f8eb04-6b5d-40e9-822b-8cd385a09303",
   "metadata": {
    "tags": []
   },
   "outputs": [
    {
     "data": {
      "text/plain": [
       "Date             0\n",
       "prec_sum         0\n",
       "temp_mean        0\n",
       "pegelstand    4292\n",
       "dtype: int64"
      ]
     },
     "execution_count": 8,
     "metadata": {},
     "output_type": "execute_result"
    }
   ],
   "source": [
    "data.isnull().sum()"
   ]
  },
  {
   "cell_type": "markdown",
   "id": "10681973-3b75-47c5-8cda-ca4ef242e1f3",
   "metadata": {},
   "source": [
    "As we can see, the percentage of missing values in our data is very small (148 out of 26298 rows). Therefore, the simplest solution is to simply drop all rows with missing data. If the percentage were higher, other solutions might be more useful, such as **imputing values** for the missing values."
   ]
  },
  {
   "cell_type": "code",
   "execution_count": 9,
   "id": "2a614d8d-4a13-416b-844a-346495f8711d",
   "metadata": {
    "tags": []
   },
   "outputs": [
    {
     "data": {
      "text/html": [
       "<div>\n",
       "<style scoped>\n",
       "    .dataframe tbody tr th:only-of-type {\n",
       "        vertical-align: middle;\n",
       "    }\n",
       "\n",
       "    .dataframe tbody tr th {\n",
       "        vertical-align: top;\n",
       "    }\n",
       "\n",
       "    .dataframe thead th {\n",
       "        text-align: right;\n",
       "    }\n",
       "</style>\n",
       "<table border=\"1\" class=\"dataframe\">\n",
       "  <thead>\n",
       "    <tr style=\"text-align: right;\">\n",
       "      <th></th>\n",
       "      <th>Date</th>\n",
       "      <th>prec_sum</th>\n",
       "      <th>temp_mean</th>\n",
       "      <th>pegelstand</th>\n",
       "    </tr>\n",
       "  </thead>\n",
       "  <tbody>\n",
       "    <tr>\n",
       "      <th>4292</th>\n",
       "      <td>1981-10-02 12:00:00</td>\n",
       "      <td>4.1</td>\n",
       "      <td>11.4</td>\n",
       "      <td>36.0</td>\n",
       "    </tr>\n",
       "    <tr>\n",
       "      <th>4293</th>\n",
       "      <td>1981-10-03 12:00:00</td>\n",
       "      <td>10.6</td>\n",
       "      <td>7.4</td>\n",
       "      <td>36.0</td>\n",
       "    </tr>\n",
       "    <tr>\n",
       "      <th>4294</th>\n",
       "      <td>1981-10-04 12:00:00</td>\n",
       "      <td>2.8</td>\n",
       "      <td>10.2</td>\n",
       "      <td>37.0</td>\n",
       "    </tr>\n",
       "    <tr>\n",
       "      <th>4295</th>\n",
       "      <td>1981-10-05 12:00:00</td>\n",
       "      <td>2.0</td>\n",
       "      <td>11.3</td>\n",
       "      <td>37.0</td>\n",
       "    </tr>\n",
       "    <tr>\n",
       "      <th>4296</th>\n",
       "      <td>1981-10-06 12:00:00</td>\n",
       "      <td>0.0</td>\n",
       "      <td>15.0</td>\n",
       "      <td>52.0</td>\n",
       "    </tr>\n",
       "    <tr>\n",
       "      <th>...</th>\n",
       "      <td>...</td>\n",
       "      <td>...</td>\n",
       "      <td>...</td>\n",
       "      <td>...</td>\n",
       "    </tr>\n",
       "    <tr>\n",
       "      <th>18623</th>\n",
       "      <td>2020-12-27 12:00:00</td>\n",
       "      <td>23.6</td>\n",
       "      <td>1.7</td>\n",
       "      <td>36.0</td>\n",
       "    </tr>\n",
       "    <tr>\n",
       "      <th>18624</th>\n",
       "      <td>2020-12-28 12:00:00</td>\n",
       "      <td>6.5</td>\n",
       "      <td>2.5</td>\n",
       "      <td>32.0</td>\n",
       "    </tr>\n",
       "    <tr>\n",
       "      <th>18625</th>\n",
       "      <td>2020-12-29 12:00:00</td>\n",
       "      <td>1.9</td>\n",
       "      <td>1.7</td>\n",
       "      <td>32.0</td>\n",
       "    </tr>\n",
       "    <tr>\n",
       "      <th>18626</th>\n",
       "      <td>2020-12-30 12:00:00</td>\n",
       "      <td>0.2</td>\n",
       "      <td>2.4</td>\n",
       "      <td>28.0</td>\n",
       "    </tr>\n",
       "    <tr>\n",
       "      <th>18627</th>\n",
       "      <td>2020-12-31 12:00:00</td>\n",
       "      <td>2.5</td>\n",
       "      <td>1.1</td>\n",
       "      <td>28.0</td>\n",
       "    </tr>\n",
       "  </tbody>\n",
       "</table>\n",
       "<p>14336 rows × 4 columns</p>\n",
       "</div>"
      ],
      "text/plain": [
       "                      Date  prec_sum  temp_mean  pegelstand\n",
       "4292   1981-10-02 12:00:00       4.1       11.4        36.0\n",
       "4293   1981-10-03 12:00:00      10.6        7.4        36.0\n",
       "4294   1981-10-04 12:00:00       2.8       10.2        37.0\n",
       "4295   1981-10-05 12:00:00       2.0       11.3        37.0\n",
       "4296   1981-10-06 12:00:00       0.0       15.0        52.0\n",
       "...                    ...       ...        ...         ...\n",
       "18623  2020-12-27 12:00:00      23.6        1.7        36.0\n",
       "18624  2020-12-28 12:00:00       6.5        2.5        32.0\n",
       "18625  2020-12-29 12:00:00       1.9        1.7        32.0\n",
       "18626  2020-12-30 12:00:00       0.2        2.4        28.0\n",
       "18627  2020-12-31 12:00:00       2.5        1.1        28.0\n",
       "\n",
       "[14336 rows x 4 columns]"
      ]
     },
     "execution_count": 9,
     "metadata": {},
     "output_type": "execute_result"
    }
   ],
   "source": [
    "data.dropna(axis=0, inplace=True)\n",
    "data"
   ]
  },
  {
   "cell_type": "markdown",
   "id": "0f93f534-8e92-4a73-956b-d62c6cec7315",
   "metadata": {
    "tags": []
   },
   "source": [
    "## 1.6 Handle categorical data"
   ]
  },
  {
   "cell_type": "markdown",
   "id": "08aa6381-dcbf-4888-bf73-a6f7b2af0784",
   "metadata": {},
   "source": [
    "All of the data in our data set contain numerical values. However, while they are all continuous variables, the prec_type is a categorical variable. Furthermore, it is only nominal, not ordinal. If we leave the values as they are, the model will imply an order on the prec_type, assuming for example that type 8 is greater than type 6. This could lead to non-optimal results.\n",
    "\n",
    "We will use a solution called **one-hot encoding**. This means that we create a new feature for each of the types and assign binary values to it."
   ]
  },
  {
   "cell_type": "code",
   "execution_count": 10,
   "id": "99d11ef5-59e9-4bf0-9c76-5ea9a60eab33",
   "metadata": {
    "tags": []
   },
   "outputs": [],
   "source": [
    "#data[\"prec_type\"] = data[\"prec_type\"].apply(str)\n",
    "#data = pd.get_dummies(data, drop_first=True)\n",
    "#data"
   ]
  },
  {
   "cell_type": "markdown",
   "id": "1f252c68-bc09-4b9e-a91f-ad4380fcc591",
   "metadata": {},
   "source": [
    "Note: We used the option `drop_first=True` which removes the column for the first type. This does not reduce the information because the precipitation is of type 0 if it is not of another type, but it does reduce the number of features we introduce."
   ]
  },
  {
   "cell_type": "markdown",
   "id": "7fa67346-713c-48e4-a1ea-67ab5700f03a",
   "metadata": {},
   "source": [
    "# 2. Inspect data"
   ]
  },
  {
   "cell_type": "markdown",
   "id": "a5483d27-5298-40ae-8805-cde40f94bc2b",
   "metadata": {},
   "source": [
    "Now that all the data is preprocessed, we want to take a closer look at the different features. We will start by plotting the distributions."
   ]
  },
  {
   "cell_type": "markdown",
   "id": "0bec38e8-58a6-4c6e-bab1-f8a32253a34a",
   "metadata": {
    "tags": []
   },
   "source": [
    "## 2.1 Check distributions"
   ]
  },
  {
   "cell_type": "code",
   "execution_count": 11,
   "id": "1197f59c-26b7-4753-98aa-06cf083f32fc",
   "metadata": {
    "tags": []
   },
   "outputs": [
    {
     "data": {
      "text/plain": [
       "array([[<Axes: title={'center': 'prec_sum'}>,\n",
       "        <Axes: title={'center': 'temp_mean'}>],\n",
       "       [<Axes: title={'center': 'pegelstand'}>, <Axes: >]], dtype=object)"
      ]
     },
     "execution_count": 11,
     "metadata": {},
     "output_type": "execute_result"
    },
    {
     "data": {
      "image/png": "[encoded data removed]",
      "text/plain": [
       "<Figure size 900x600 with 4 Axes>"
      ]
     },
     "metadata": {},
     "output_type": "display_data"
    }
   ],
   "source": [
    "data[[\"prec_sum\", \"temp_mean\", \"pegelstand\"]].hist(bins=35, figsize=(9,6))"
   ]
  },
  {
   "cell_type": "code",
   "execution_count": 12,
   "id": "1410b621-2c63-447d-ad3e-3ad0e2e70b4c",
   "metadata": {
    "tags": []
   },
   "outputs": [],
   "source": [
    "#data[[\"prec\",\"sun_dur\", \"snow_depth\", \"vapor_pres\", \"pres\", \"rel_humid\", \"temp\"]].describe()"
   ]
  },
  {
   "cell_type": "markdown",
   "id": "201c706d-eaf9-4d9f-b61e-7e338ef7605b",
   "metadata": {},
   "source": [
    "We can see several things here. Let us start with precipitation, sunshine duration and snow depth. All three show a large spike at 0. This indicates a problem with the data. Here, 0 means that there was no precipitation, but it could also mean that the precipitation was too low to be measured, or that there was a problem with the instrument. The same is true for sunshine duration. We cannot easily compensate for these problems, so we will drop the information.\n",
    "\n",
    "We do the same for snow depth, which is 0 most of the time."
   ]
  },
  {
   "cell_type": "code",
   "execution_count": 13,
   "id": "4dc902cf-a092-490d-8771-33484d75c2f1",
   "metadata": {
    "tags": []
   },
   "outputs": [],
   "source": [
    "#data = data.drop(columns=[\"prec\", \"sun_dur\", \"snow_depth\"])\n",
    "#data"
   ]
  },
  {
   "cell_type": "markdown",
   "id": "374551fa-0e2e-49dc-b8a1-ca422bde19d9",
   "metadata": {},
   "source": [
    "Next we look at the distribution for cloud cover. Cloud cover is measured in eighths, which actually makes it a discrete variable. However, here we have daily averages, so we get pseudo-continuous values. But there is still no real metric, so we convert the cloud cover to a percentage."
   ]
  },
  {
   "cell_type": "markdown",
   "id": "33b0c37d-f81b-4e4f-b767-7b2a20dbdb50",
   "metadata": {},
   "source": [
    "Finally, we see that the distributions for cloud cover, vapor pressure, pressure, relative humidity, and temperature are all on different scales and are not normally distributed. However, many learning algorithms rely on gradient descent or distance measures. This is problematic when the values are on very different scales. Furthermore, most features are bounded on one or even both sides, so that values outside these bounds are physically meaningless. In the following, we will apply some transformations to the features.\n",
    "\n",
    "**But before we do that, we need to take another important step first.**"
   ]
  },
  {
   "cell_type": "markdown",
   "id": "bdc57da1-9f7a-4352-b4de-e0404c7f4ca5",
   "metadata": {},
   "source": [
    "# 3. Train-Test split"
   ]
  },
  {
   "cell_type": "markdown",
   "id": "f822bc5f-384a-4090-9b24-608329b2bd0e",
   "metadata": {},
   "source": [
    "When we train a model, we need to test its performance. To do this, we need data that is similar to the training data, but independent of it. We achieve this by splitting our dataset into two parts, a training part, which we use to build the model, and a test part, which we use only for the final evaluation.\n",
    "\n",
    "Here we use 80% of our data for training and 20% for testing. Additionally, we split the data into features and target variables.\n",
    "\n",
    "Also we want to hold back the year 2020 for later time seires forcasting. so first convert the `Date`column to pandas date time index and then easily select desired years."
   ]
  },
  {
   "cell_type": "code",
   "execution_count": 14,
   "id": "602cb31f-303c-4e1c-b64d-5372939d70b2",
   "metadata": {},
   "outputs": [],
   "source": [
    "import datetime"
   ]
  },
  {
   "cell_type": "code",
   "execution_count": 15,
   "id": "d679ab5e-5c73-476b-b6cd-92f088fff6b5",
   "metadata": {},
   "outputs": [],
   "source": [
    "data = data.set_index(pd.DatetimeIndex(data['Date']))\n",
    "del data['Date']\n"
   ]
  },
  {
   "cell_type": "code",
   "execution_count": 16,
   "id": "1e2f6df8-aee1-4c5c-9923-6a321acd83fd",
   "metadata": {},
   "outputs": [
    {
     "data": {
      "text/html": [
       "<div>\n",
       "<style scoped>\n",
       "    .dataframe tbody tr th:only-of-type {\n",
       "        vertical-align: middle;\n",
       "    }\n",
       "\n",
       "    .dataframe tbody tr th {\n",
       "        vertical-align: top;\n",
       "    }\n",
       "\n",
       "    .dataframe thead th {\n",
       "        text-align: right;\n",
       "    }\n",
       "</style>\n",
       "<table border=\"1\" class=\"dataframe\">\n",
       "  <thead>\n",
       "    <tr style=\"text-align: right;\">\n",
       "      <th></th>\n",
       "      <th>prec_sum</th>\n",
       "      <th>temp_mean</th>\n",
       "      <th>pegelstand</th>\n",
       "    </tr>\n",
       "    <tr>\n",
       "      <th>Date</th>\n",
       "      <th></th>\n",
       "      <th></th>\n",
       "      <th></th>\n",
       "    </tr>\n",
       "  </thead>\n",
       "  <tbody>\n",
       "    <tr>\n",
       "      <th>1981-10-02</th>\n",
       "      <td>19.5</td>\n",
       "      <td>11.057143</td>\n",
       "      <td>42.285714</td>\n",
       "    </tr>\n",
       "    <tr>\n",
       "      <th>1981-10-09</th>\n",
       "      <td>64.8</td>\n",
       "      <td>7.500000</td>\n",
       "      <td>65.142857</td>\n",
       "    </tr>\n",
       "    <tr>\n",
       "      <th>1981-10-16</th>\n",
       "      <td>7.0</td>\n",
       "      <td>6.742857</td>\n",
       "      <td>119.571429</td>\n",
       "    </tr>\n",
       "    <tr>\n",
       "      <th>1981-10-23</th>\n",
       "      <td>8.6</td>\n",
       "      <td>5.014286</td>\n",
       "      <td>88.714286</td>\n",
       "    </tr>\n",
       "    <tr>\n",
       "      <th>1981-10-30</th>\n",
       "      <td>9.6</td>\n",
       "      <td>10.242857</td>\n",
       "      <td>89.428571</td>\n",
       "    </tr>\n",
       "    <tr>\n",
       "      <th>...</th>\n",
       "      <td>...</td>\n",
       "      <td>...</td>\n",
       "      <td>...</td>\n",
       "    </tr>\n",
       "    <tr>\n",
       "      <th>2020-11-27</th>\n",
       "      <td>14.3</td>\n",
       "      <td>0.157143</td>\n",
       "      <td>20.714286</td>\n",
       "    </tr>\n",
       "    <tr>\n",
       "      <th>2020-12-04</th>\n",
       "      <td>4.0</td>\n",
       "      <td>1.814286</td>\n",
       "      <td>21.285714</td>\n",
       "    </tr>\n",
       "    <tr>\n",
       "      <th>2020-12-11</th>\n",
       "      <td>8.1</td>\n",
       "      <td>5.571429</td>\n",
       "      <td>22.285714</td>\n",
       "    </tr>\n",
       "    <tr>\n",
       "      <th>2020-12-18</th>\n",
       "      <td>46.8</td>\n",
       "      <td>7.500000</td>\n",
       "      <td>22.428571</td>\n",
       "    </tr>\n",
       "    <tr>\n",
       "      <th>2020-12-25</th>\n",
       "      <td>35.6</td>\n",
       "      <td>1.657143</td>\n",
       "      <td>40.285714</td>\n",
       "    </tr>\n",
       "  </tbody>\n",
       "</table>\n",
       "<p>2048 rows × 3 columns</p>\n",
       "</div>"
      ],
      "text/plain": [
       "            prec_sum  temp_mean  pegelstand\n",
       "Date                                       \n",
       "1981-10-02      19.5  11.057143   42.285714\n",
       "1981-10-09      64.8   7.500000   65.142857\n",
       "1981-10-16       7.0   6.742857  119.571429\n",
       "1981-10-23       8.6   5.014286   88.714286\n",
       "1981-10-30       9.6  10.242857   89.428571\n",
       "...              ...        ...         ...\n",
       "2020-11-27      14.3   0.157143   20.714286\n",
       "2020-12-04       4.0   1.814286   21.285714\n",
       "2020-12-11       8.1   5.571429   22.285714\n",
       "2020-12-18      46.8   7.500000   22.428571\n",
       "2020-12-25      35.6   1.657143   40.285714\n",
       "\n",
       "[2048 rows x 3 columns]"
      ]
     },
     "execution_count": 16,
     "metadata": {},
     "output_type": "execute_result"
    }
   ],
   "source": [
    "## aggregate timeseires to weekly\n",
    "\n",
    "prec_sum = data['prec_sum'].resample('7D').sum()\n",
    "temp_mean= data['temp_mean'].resample('7D').mean()\n",
    "pegelstand = data['pegelstand'].resample('7D').mean()\n",
    "\n",
    "# create a dictionary\n",
    "data = {\"prec_sum\": prec_sum,\n",
    "        \"temp_mean\": temp_mean,\n",
    "        \"pegelstand\": pegelstand}\n",
    " \n",
    "# Concatenating the series side\n",
    "# by side as depicted by axis=1\n",
    "# If you want to concatenate the \n",
    "# series one below the other\n",
    "# change the axis to zero.\n",
    "data = pd.concat(data,\n",
    "               axis = 1)\n",
    " \n",
    "# show the dataframe\n",
    "data"
   ]
  },
  {
   "cell_type": "code",
   "execution_count": 17,
   "id": "960d6345-aa4b-4d52-a58a-e4c8d920d371",
   "metadata": {},
   "outputs": [
    {
     "data": {
      "text/html": [
       "<div>\n",
       "<style scoped>\n",
       "    .dataframe tbody tr th:only-of-type {\n",
       "        vertical-align: middle;\n",
       "    }\n",
       "\n",
       "    .dataframe tbody tr th {\n",
       "        vertical-align: top;\n",
       "    }\n",
       "\n",
       "    .dataframe thead th {\n",
       "        text-align: right;\n",
       "    }\n",
       "</style>\n",
       "<table border=\"1\" class=\"dataframe\">\n",
       "  <thead>\n",
       "    <tr style=\"text-align: right;\">\n",
       "      <th></th>\n",
       "      <th>prec_sum</th>\n",
       "      <th>temp_mean</th>\n",
       "      <th>pegelstand</th>\n",
       "    </tr>\n",
       "    <tr>\n",
       "      <th>Date</th>\n",
       "      <th></th>\n",
       "      <th></th>\n",
       "      <th></th>\n",
       "    </tr>\n",
       "  </thead>\n",
       "  <tbody>\n",
       "    <tr>\n",
       "      <th>1981-10-02</th>\n",
       "      <td>19.5</td>\n",
       "      <td>11.057143</td>\n",
       "      <td>42.285714</td>\n",
       "    </tr>\n",
       "    <tr>\n",
       "      <th>1981-10-09</th>\n",
       "      <td>64.8</td>\n",
       "      <td>7.500000</td>\n",
       "      <td>65.142857</td>\n",
       "    </tr>\n",
       "    <tr>\n",
       "      <th>1981-10-16</th>\n",
       "      <td>7.0</td>\n",
       "      <td>6.742857</td>\n",
       "      <td>119.571429</td>\n",
       "    </tr>\n",
       "    <tr>\n",
       "      <th>1981-10-23</th>\n",
       "      <td>8.6</td>\n",
       "      <td>5.014286</td>\n",
       "      <td>88.714286</td>\n",
       "    </tr>\n",
       "    <tr>\n",
       "      <th>1981-10-30</th>\n",
       "      <td>9.6</td>\n",
       "      <td>10.242857</td>\n",
       "      <td>89.428571</td>\n",
       "    </tr>\n",
       "    <tr>\n",
       "      <th>...</th>\n",
       "      <td>...</td>\n",
       "      <td>...</td>\n",
       "      <td>...</td>\n",
       "    </tr>\n",
       "    <tr>\n",
       "      <th>2019-11-29</th>\n",
       "      <td>1.0</td>\n",
       "      <td>1.200000</td>\n",
       "      <td>21.714286</td>\n",
       "    </tr>\n",
       "    <tr>\n",
       "      <th>2019-12-06</th>\n",
       "      <td>19.2</td>\n",
       "      <td>4.157143</td>\n",
       "      <td>21.857143</td>\n",
       "    </tr>\n",
       "    <tr>\n",
       "      <th>2019-12-13</th>\n",
       "      <td>27.7</td>\n",
       "      <td>6.842857</td>\n",
       "      <td>49.428571</td>\n",
       "    </tr>\n",
       "    <tr>\n",
       "      <th>2019-12-20</th>\n",
       "      <td>27.5</td>\n",
       "      <td>5.542857</td>\n",
       "      <td>64.857143</td>\n",
       "    </tr>\n",
       "    <tr>\n",
       "      <th>2019-12-27</th>\n",
       "      <td>1.3</td>\n",
       "      <td>0.542857</td>\n",
       "      <td>61.714286</td>\n",
       "    </tr>\n",
       "  </tbody>\n",
       "</table>\n",
       "<p>1996 rows × 3 columns</p>\n",
       "</div>"
      ],
      "text/plain": [
       "            prec_sum  temp_mean  pegelstand\n",
       "Date                                       \n",
       "1981-10-02      19.5  11.057143   42.285714\n",
       "1981-10-09      64.8   7.500000   65.142857\n",
       "1981-10-16       7.0   6.742857  119.571429\n",
       "1981-10-23       8.6   5.014286   88.714286\n",
       "1981-10-30       9.6  10.242857   89.428571\n",
       "...              ...        ...         ...\n",
       "2019-11-29       1.0   1.200000   21.714286\n",
       "2019-12-06      19.2   4.157143   21.857143\n",
       "2019-12-13      27.7   6.842857   49.428571\n",
       "2019-12-20      27.5   5.542857   64.857143\n",
       "2019-12-27       1.3   0.542857   61.714286\n",
       "\n",
       "[1996 rows x 3 columns]"
      ]
     },
     "execution_count": 17,
     "metadata": {},
     "output_type": "execute_result"
    }
   ],
   "source": [
    "start_date_of_interest = pd.to_datetime(datetime.date(2020,1,1))\n",
    "\n",
    "val_data = data[(data.index >=start_date_of_interest) ]\n",
    "val_data\n",
    "\n",
    "\n",
    "model_data = data[(data.index <start_date_of_interest) ]\n",
    "model_data"
   ]
  },
  {
   "cell_type": "code",
   "execution_count": 18,
   "id": "9053b670-c758-4198-b2cf-bf3ab15cff09",
   "metadata": {
    "tags": []
   },
   "outputs": [
    {
     "name": "stdout",
     "output_type": "stream",
     "text": [
      "1596 400 1596 400\n"
     ]
    }
   ],
   "source": [
    "from sklearn.model_selection import train_test_split\n",
    "\n",
    "# split features and target first\n",
    "X, y = model_data.drop(columns=[\"pegelstand\"]), model_data[\"pegelstand\"]\n",
    "\n",
    "X_train, X_test, y_train, y_test = train_test_split(X, y, test_size=0.2, random_state=0)\n",
    "\n",
    "print(len(X_train), len(X_test), len(y_train), len(y_test))"
   ]
  },
  {
   "cell_type": "markdown",
   "id": "ce7a10fb-f4b7-4925-8b65-21cc2bc377b3",
   "metadata": {},
   "source": [
    "As we can see, we have 20921 records in the training set and 5231 records in the test set.\n",
    "\n",
    "Note: The records are randomly shuffled and split to avoid any effects from the original order of the records."
   ]
  },
  {
   "cell_type": "markdown",
   "id": "7c597eb5-de91-4727-85c4-8378e89b6b51",
   "metadata": {},
   "source": [
    "# 4. Feature scaling"
   ]
  },
  {
   "cell_type": "markdown",
   "id": "9832d9ac-477a-4796-9c08-c0a8911d70c4",
   "metadata": {},
   "source": [
    "Now we are ready for the promised feature scaling.\n",
    "\n",
    "The reason we did the train-test split first is that we want a pure training data set that is not influenced by the test data. If we were to determine the scaling parameters from the whole data set, information from the test data would be included in the parameters. Therefore, we perform the scaling on the training data only. Then, of course, we have to transform the test set with the same parameters.\n",
    "\n",
    "The features cloud cover, vapor pressure, pressure, relative humidity and temperature are all double constrained and we will use a logistic transformation with a prior min-max scaling."
   ]
  },
  {
   "cell_type": "markdown",
   "id": "84f7766c-2d1f-4b92-a8c8-e42d717332cf",
   "metadata": {},
   "source": [
    "## 4.1 Min-Max scaling"
   ]
  },
  {
   "cell_type": "markdown",
   "id": "bbe144af-825e-473e-b98c-88eb25c88487",
   "metadata": {},
   "source": [
    "The min-max scaling\n",
    "\n",
    "$$x'=\\frac{x-x_{min}}{x_{max}-x_{min}}$$\n",
    "\n",
    "\n",
    "transforms the data into the range $[0,1]$. We want to avoid getting values with 0, because in the second step we need the logarithm of the values. Therefore, we use slightly larger boundary values $x_{min}-1$ and $x_{max}+1$. Thus\n",
    "\n",
    "$$x'=\\frac{x-x_{min}+1}{x_{max}-x_{min}+2\\, .}$$\n",
    "\n",
    "\n",
    "**Note that we transform the test set with the min max values from the train set.**\n"
   ]
  },
  {
   "cell_type": "code",
   "execution_count": 19,
   "id": "4f22bbb8-abaf-4932-9a58-3b6c9707ce2f",
   "metadata": {
    "tags": []
   },
   "outputs": [],
   "source": [
    "transform_cols = [\"prec_sum\", \"temp_mean\"]\n",
    "X_test[transform_cols] = (X_test[transform_cols] - X_train[transform_cols].min() + 1) / (X_train[transform_cols].max() - X_train[transform_cols].min() + 2)\n",
    "X_train[transform_cols] = (X_train[transform_cols] - X_train[transform_cols].min() + 1) / (X_train[transform_cols].max() - X_train[transform_cols].min() + 2)\n",
    "y_test = (y_test - y_train.min() + 1) / (y_train.max() - y_train.min() + 2)\n",
    "y_train = (y_train - y_train.min() + 1) / (y_train.max() - y_train.min() + 2)"
   ]
  },
  {
   "cell_type": "markdown",
   "id": "1e920830-40f1-4060-8be8-057dc6ec9222",
   "metadata": {},
   "source": [
    "## 4.2 Logistic transformation"
   ]
  },
  {
   "cell_type": "markdown",
   "id": "6755f223-11a5-466a-850a-6b72697d0f4c",
   "metadata": {},
   "source": [
    "As a second step, we use a logistic transformation\n",
    "$$x''=\\log\\frac{x'}{1-x'}$$"
   ]
  },
  {
   "cell_type": "markdown",
   "id": "fa45d60f-ed2e-4575-adb9-a859b1cc1aa6",
   "metadata": {},
   "source": [
    "However, before we can start the transformation, we face a problem! Because we have transformed the test set with the values of the training set, the test set may contain values outside the range [0,1]. This will not work with the logarithm in the transformation."
   ]
  },
  {
   "cell_type": "code",
   "execution_count": 20,
   "id": "6ed5d44d-5292-4c50-b243-151255c05b37",
   "metadata": {
    "tags": []
   },
   "outputs": [],
   "source": [
    "#print(X_test[X_test[transform_cols].le(0).any(axis=1)])\n",
    "#print(X_test[X_test[transform_cols].ge(1).any(axis=1)])\n",
    "#print(y_test[y_test.le(0)])\n",
    "#print(y_test[y_test.ge(1)])"
   ]
  },
  {
   "cell_type": "markdown",
   "id": "e37ce089-b2c3-4df9-b44e-2187030d440e",
   "metadata": {
    "tags": []
   },
   "source": [
    "As we can see, there is a pressure value below 0 in the test set. We basically have two options: either drop the data or impute new values. As we only have one problematic data set, we will drop it. For imputation, we could assign the minimum possible value to the problematic pressure value."
   ]
  },
  {
   "cell_type": "code",
   "execution_count": 21,
   "id": "044787f4-78b9-4a35-a555-1fcc3cfbba93",
   "metadata": {
    "tags": []
   },
   "outputs": [],
   "source": [
    "#y_test.drop(X_test[X_test[transform_cols].le(0).any(axis=1) | X_test[transform_cols].ge(1).any(axis=1)].index, inplace=True)\n",
    "#X_test.drop(X_test[X_test[transform_cols].le(0).any(axis=1) | X_test[transform_cols].ge(1).any(axis=1)].index, inplace=True)"
   ]
  },
  {
   "cell_type": "code",
   "execution_count": 22,
   "id": "9633578b-8101-4e6b-8136-3384f36605f9",
   "metadata": {
    "tags": []
   },
   "outputs": [],
   "source": [
    "#X_test.drop(y_test[y_test.le(0) | y_test.ge(1)].index, inplace=True)\n",
    "#y_test.drop(y_test[y_test.le(0) | y_test.ge(1)].index, inplace=True)"
   ]
  },
  {
   "cell_type": "markdown",
   "id": "90685ae4-7a25-4472-8831-0f6e9c44dac8",
   "metadata": {},
   "source": [
    "Now we are ready for the logistical transformation."
   ]
  },
  {
   "cell_type": "code",
   "execution_count": 23,
   "id": "888339cd-f93c-4ae2-a338-2c3eec7f42d5",
   "metadata": {
    "tags": []
   },
   "outputs": [],
   "source": [
    "#X_test[transform_cols] = np.log(X_test[transform_cols] / (1 - X_test[transform_cols]))\n",
    "#X_train[transform_cols] = np.log(X_train[transform_cols] / (1 - X_train[transform_cols]))\n",
    "#y_test = np.log(y_test / (1 - y_test))\n",
    "#y_train = np.log(y_train / (1 - y_train))"
   ]
  },
  {
   "cell_type": "markdown",
   "id": "3ee98fea-396b-451d-b2f1-c47629ca1c68",
   "metadata": {},
   "source": [
    "Let's take a look at the new distributions."
   ]
  },
  {
   "cell_type": "code",
   "execution_count": 24,
   "id": "a170fffd-e71e-4d31-b2ba-caf9824c1f52",
   "metadata": {
    "tags": []
   },
   "outputs": [
    {
     "data": {
      "image/png": "[encoded data removed]",
      "text/plain": [
       "<Figure size 900x600 with 2 Axes>"
      ]
     },
     "metadata": {},
     "output_type": "display_data"
    }
   ],
   "source": [
    "X_train[transform_cols].hist(bins=35, figsize=(9, 6))\n",
    "plt.show()"
   ]
  },
  {
   "cell_type": "code",
   "execution_count": 25,
   "id": "e1a917ca-06c4-4fe9-9298-f2a59d3a957f",
   "metadata": {
    "tags": []
   },
   "outputs": [
    {
     "data": {
      "image/png": "[encoded data removed]",
      "text/plain": [
       "<Figure size 900x600 with 2 Axes>"
      ]
     },
     "metadata": {},
     "output_type": "display_data"
    }
   ],
   "source": [
    "X_test[transform_cols].hist(bins=35, figsize=(9, 6))\n",
    "plt.show()"
   ]
  },
  {
   "cell_type": "code",
   "execution_count": 26,
   "id": "660fffd0-730f-4a37-a608-94f7263e0f3b",
   "metadata": {
    "tags": []
   },
   "outputs": [
    {
     "data": {
      "image/png": "[encoded data removed]",
      "text/plain": [
       "<Figure size 450x300 with 1 Axes>"
      ]
     },
     "metadata": {},
     "output_type": "display_data"
    }
   ],
   "source": [
    "y_train.hist(bins=35, figsize=(4.5, 3))\n",
    "plt.title('Scaled Temperature (y_train)')\n",
    "plt.show()"
   ]
  },
  {
   "cell_type": "code",
   "execution_count": 27,
   "id": "ea69f09e-b1c6-4e3e-95d3-db8d50a5c291",
   "metadata": {
    "tags": []
   },
   "outputs": [
    {
     "data": {
      "image/png": "[encoded data removed]",
      "text/plain": [
       "<Figure size 450x300 with 1 Axes>"
      ]
     },
     "metadata": {},
     "output_type": "display_data"
    }
   ],
   "source": [
    "y_test.hist(bins=35, figsize=(4.5, 3))\n",
    "plt.title('Scaled Temperature (y_test)')\n",
    "plt.show()"
   ]
  },
  {
   "cell_type": "markdown",
   "id": "24243a07-3099-4db9-b81e-91fe4b7ffff8",
   "metadata": {},
   "source": [
    "We can see that all the features are now on the same scale and have an almost normal distribution. After the transformation the data is not anymore restricted to a certain interval, and has vaules greater and less than zero. Now we are allowed to use euclidean metrics, i.e. distances and angles, and can apply statistical methods that are based on these metrics."
   ]
  },
  {
   "cell_type": "markdown",
   "id": "bb2fa8ca-ef98-4595-8945-4eb6a127e560",
   "metadata": {},
   "source": [
    "# 5. Model definition"
   ]
  },
  {
   "cell_type": "markdown",
   "id": "cf6eb4b9-e7ca-416e-bb16-2d77e7dc1589",
   "metadata": {},
   "source": [
    "All the necessary pre-processing is now done and we can finally get to the actual model.\n",
    "\n",
    "We will use a neural net for this regression task and start with a fully connected net with two layers and 8 nodes each. We chose the 8 simply because we have 8 features."
   ]
  },
  {
   "cell_type": "code",
   "execution_count": 28,
   "id": "b330281f-2347-444e-9bff-7b9021a47f3f",
   "metadata": {
    "tags": []
   },
   "outputs": [],
   "source": [
    "from sklearn.neural_network import MLPRegressor\n",
    "\n",
    "mlp = MLPRegressor(hidden_layer_sizes=(8,8,), activation=\"relu\", alpha=0.0001, batch_size=200, max_iter=200, random_state=0)"
   ]
  },
  {
   "cell_type": "markdown",
   "id": "2de1190a-c5b6-4428-8cd7-d09ad84abed2",
   "metadata": {},
   "source": [
    "# 6. Model training"
   ]
  },
  {
   "cell_type": "markdown",
   "id": "0ef8b217-8830-4d86-b704-203f70f0300f",
   "metadata": {},
   "source": [
    "Once we have defined the model, we need to train it on our train set."
   ]
  },
  {
   "cell_type": "code",
   "execution_count": 29,
   "id": "9c53c1a0-38ea-4d7f-b965-af5e5debb3e9",
   "metadata": {
    "tags": []
   },
   "outputs": [
    {
     "data": {
      "text/html": [
       "<style>#sk-container-id-1 {\n",
       "  /* Definition of color scheme common for light and dark mode */\n",
       "  --sklearn-color-text: black;\n",
       "  --sklearn-color-line: gray;\n",
       "  /* Definition of color scheme for unfitted estimators */\n",
       "  --sklearn-color-unfitted-level-0: #fff5e6;\n",
       "  --sklearn-color-unfitted-level-1: #f6e4d2;\n",
       "  --sklearn-color-unfitted-level-2: #ffe0b3;\n",
       "  --sklearn-color-unfitted-level-3: chocolate;\n",
       "  /* Definition of color scheme for fitted estimators */\n",
       "  --sklearn-color-fitted-level-0: #f0f8ff;\n",
       "  --sklearn-color-fitted-level-1: #d4ebff;\n",
       "  --sklearn-color-fitted-level-2: #b3dbfd;\n",
       "  --sklearn-color-fitted-level-3: cornflowerblue;\n",
       "\n",
       "  /* Specific color for light theme */\n",
       "  --sklearn-color-text-on-default-background: var(--sg-text-color, var(--theme-code-foreground, var(--jp-content-font-color1, black)));\n",
       "  --sklearn-color-background: var(--sg-background-color, var(--theme-background, var(--jp-layout-color0, white)));\n",
       "  --sklearn-color-border-box: var(--sg-text-color, var(--theme-code-foreground, var(--jp-content-font-color1, black)));\n",
       "  --sklearn-color-icon: #696969;\n",
       "\n",
       "  @media (prefers-color-scheme: dark) {\n",
       "    /* Redefinition of color scheme for dark theme */\n",
       "    --sklearn-color-text-on-default-background: var(--sg-text-color, var(--theme-code-foreground, var(--jp-content-font-color1, white)));\n",
       "    --sklearn-color-background: var(--sg-background-color, var(--theme-background, var(--jp-layout-color0, #111)));\n",
       "    --sklearn-color-border-box: var(--sg-text-color, var(--theme-code-foreground, var(--jp-content-font-color1, white)));\n",
       "    --sklearn-color-icon: #878787;\n",
       "  }\n",
       "}\n",
       "\n",
       "#sk-container-id-1 {\n",
       "  color: var(--sklearn-color-text);\n",
       "}\n",
       "\n",
       "#sk-container-id-1 pre {\n",
       "  padding: 0;\n",
       "}\n",
       "\n",
       "#sk-container-id-1 input.sk-hidden--visually {\n",
       "  border: 0;\n",
       "  clip: rect(1px 1px 1px 1px);\n",
       "  clip: rect(1px, 1px, 1px, 1px);\n",
       "  height: 1px;\n",
       "  margin: -1px;\n",
       "  overflow: hidden;\n",
       "  padding: 0;\n",
       "  position: absolute;\n",
       "  width: 1px;\n",
       "}\n",
       "\n",
       "#sk-container-id-1 div.sk-dashed-wrapped {\n",
       "  border: 1px dashed var(--sklearn-color-line);\n",
       "  margin: 0 0.4em 0.5em 0.4em;\n",
       "  box-sizing: border-box;\n",
       "  padding-bottom: 0.4em;\n",
       "  background-color: var(--sklearn-color-background);\n",
       "}\n",
       "\n",
       "#sk-container-id-1 div.sk-container {\n",
       "  /* jupyter's `normalize.less` sets `[hidden] { display: none; }`\n",
       "     but bootstrap.min.css set `[hidden] { display: none !important; }`\n",
       "     so we also need the `!important` here to be able to override the\n",
       "     default hidden behavior on the sphinx rendered scikit-learn.org.\n",
       "     See: https://github.com/scikit-learn/scikit-learn/issues/21755 */\n",
       "  display: inline-block !important;\n",
       "  position: relative;\n",
       "}\n",
       "\n",
       "#sk-container-id-1 div.sk-text-repr-fallback {\n",
       "  display: none;\n",
       "}\n",
       "\n",
       "div.sk-parallel-item,\n",
       "div.sk-serial,\n",
       "div.sk-item {\n",
       "  /* draw centered vertical line to link estimators */\n",
       "  background-image: linear-gradient(var(--sklearn-color-text-on-default-background), var(--sklearn-color-text-on-default-background));\n",
       "  background-size: 2px 100%;\n",
       "  background-repeat: no-repeat;\n",
       "  background-position: center center;\n",
       "}\n",
       "\n",
       "/* Parallel-specific style estimator block */\n",
       "\n",
       "#sk-container-id-1 div.sk-parallel-item::after {\n",
       "  content: \"\";\n",
       "  width: 100%;\n",
       "  border-bottom: 2px solid var(--sklearn-color-text-on-default-background);\n",
       "  flex-grow: 1;\n",
       "}\n",
       "\n",
       "#sk-container-id-1 div.sk-parallel {\n",
       "  display: flex;\n",
       "  align-items: stretch;\n",
       "  justify-content: center;\n",
       "  background-color: var(--sklearn-color-background);\n",
       "  position: relative;\n",
       "}\n",
       "\n",
       "#sk-container-id-1 div.sk-parallel-item {\n",
       "  display: flex;\n",
       "  flex-direction: column;\n",
       "}\n",
       "\n",
       "#sk-container-id-1 div.sk-parallel-item:first-child::after {\n",
       "  align-self: flex-end;\n",
       "  width: 50%;\n",
       "}\n",
       "\n",
       "#sk-container-id-1 div.sk-parallel-item:last-child::after {\n",
       "  align-self: flex-start;\n",
       "  width: 50%;\n",
       "}\n",
       "\n",
       "#sk-container-id-1 div.sk-parallel-item:only-child::after {\n",
       "  width: 0;\n",
       "}\n",
       "\n",
       "/* Serial-specific style estimator block */\n",
       "\n",
       "#sk-container-id-1 div.sk-serial {\n",
       "  display: flex;\n",
       "  flex-direction: column;\n",
       "  align-items: center;\n",
       "  background-color: var(--sklearn-color-background);\n",
       "  padding-right: 1em;\n",
       "  padding-left: 1em;\n",
       "}\n",
       "\n",
       "\n",
       "/* Toggleable style: style used for estimator/Pipeline/ColumnTransformer box that is\n",
       "clickable and can be expanded/collapsed.\n",
       "- Pipeline and ColumnTransformer use this feature and define the default style\n",
       "- Estimators will overwrite some part of the style using the `sk-estimator` class\n",
       "*/\n",
       "\n",
       "/* Pipeline and ColumnTransformer style (default) */\n",
       "\n",
       "#sk-container-id-1 div.sk-toggleable {\n",
       "  /* Default theme specific background. It is overwritten whether we have a\n",
       "  specific estimator or a Pipeline/ColumnTransformer */\n",
       "  background-color: var(--sklearn-color-background);\n",
       "}\n",
       "\n",
       "/* Toggleable label */\n",
       "#sk-container-id-1 label.sk-toggleable__label {\n",
       "  cursor: pointer;\n",
       "  display: block;\n",
       "  width: 100%;\n",
       "  margin-bottom: 0;\n",
       "  padding: 0.5em;\n",
       "  box-sizing: border-box;\n",
       "  text-align: center;\n",
       "}\n",
       "\n",
       "#sk-container-id-1 label.sk-toggleable__label-arrow:before {\n",
       "  /* Arrow on the left of the label */\n",
       "  content: \"▸\";\n",
       "  float: left;\n",
       "  margin-right: 0.25em;\n",
       "  color: var(--sklearn-color-icon);\n",
       "}\n",
       "\n",
       "#sk-container-id-1 label.sk-toggleable__label-arrow:hover:before {\n",
       "  color: var(--sklearn-color-text);\n",
       "}\n",
       "\n",
       "/* Toggleable content - dropdown */\n",
       "\n",
       "#sk-container-id-1 div.sk-toggleable__content {\n",
       "  max-height: 0;\n",
       "  max-width: 0;\n",
       "  overflow: hidden;\n",
       "  text-align: left;\n",
       "  /* unfitted */\n",
       "  background-color: var(--sklearn-color-unfitted-level-0);\n",
       "}\n",
       "\n",
       "#sk-container-id-1 div.sk-toggleable__content.fitted {\n",
       "  /* fitted */\n",
       "  background-color: var(--sklearn-color-fitted-level-0);\n",
       "}\n",
       "\n",
       "#sk-container-id-1 div.sk-toggleable__content pre {\n",
       "  margin: 0.2em;\n",
       "  border-radius: 0.25em;\n",
       "  color: var(--sklearn-color-text);\n",
       "  /* unfitted */\n",
       "  background-color: var(--sklearn-color-unfitted-level-0);\n",
       "}\n",
       "\n",
       "#sk-container-id-1 div.sk-toggleable__content.fitted pre {\n",
       "  /* unfitted */\n",
       "  background-color: var(--sklearn-color-fitted-level-0);\n",
       "}\n",
       "\n",
       "#sk-container-id-1 input.sk-toggleable__control:checked~div.sk-toggleable__content {\n",
       "  /* Expand drop-down */\n",
       "  max-height: 200px;\n",
       "  max-width: 100%;\n",
       "  overflow: auto;\n",
       "}\n",
       "\n",
       "#sk-container-id-1 input.sk-toggleable__control:checked~label.sk-toggleable__label-arrow:before {\n",
       "  content: \"▾\";\n",
       "}\n",
       "\n",
       "/* Pipeline/ColumnTransformer-specific style */\n",
       "\n",
       "#sk-container-id-1 div.sk-label input.sk-toggleable__control:checked~label.sk-toggleable__label {\n",
       "  color: var(--sklearn-color-text);\n",
       "  background-color: var(--sklearn-color-unfitted-level-2);\n",
       "}\n",
       "\n",
       "#sk-container-id-1 div.sk-label.fitted input.sk-toggleable__control:checked~label.sk-toggleable__label {\n",
       "  background-color: var(--sklearn-color-fitted-level-2);\n",
       "}\n",
       "\n",
       "/* Estimator-specific style */\n",
       "\n",
       "/* Colorize estimator box */\n",
       "#sk-container-id-1 div.sk-estimator input.sk-toggleable__control:checked~label.sk-toggleable__label {\n",
       "  /* unfitted */\n",
       "  background-color: var(--sklearn-color-unfitted-level-2);\n",
       "}\n",
       "\n",
       "#sk-container-id-1 div.sk-estimator.fitted input.sk-toggleable__control:checked~label.sk-toggleable__label {\n",
       "  /* fitted */\n",
       "  background-color: var(--sklearn-color-fitted-level-2);\n",
       "}\n",
       "\n",
       "#sk-container-id-1 div.sk-label label.sk-toggleable__label,\n",
       "#sk-container-id-1 div.sk-label label {\n",
       "  /* The background is the default theme color */\n",
       "  color: var(--sklearn-color-text-on-default-background);\n",
       "}\n",
       "\n",
       "/* On hover, darken the color of the background */\n",
       "#sk-container-id-1 div.sk-label:hover label.sk-toggleable__label {\n",
       "  color: var(--sklearn-color-text);\n",
       "  background-color: var(--sklearn-color-unfitted-level-2);\n",
       "}\n",
       "\n",
       "/* Label box, darken color on hover, fitted */\n",
       "#sk-container-id-1 div.sk-label.fitted:hover label.sk-toggleable__label.fitted {\n",
       "  color: var(--sklearn-color-text);\n",
       "  background-color: var(--sklearn-color-fitted-level-2);\n",
       "}\n",
       "\n",
       "/* Estimator label */\n",
       "\n",
       "#sk-container-id-1 div.sk-label label {\n",
       "  font-family: monospace;\n",
       "  font-weight: bold;\n",
       "  display: inline-block;\n",
       "  line-height: 1.2em;\n",
       "}\n",
       "\n",
       "#sk-container-id-1 div.sk-label-container {\n",
       "  text-align: center;\n",
       "}\n",
       "\n",
       "/* Estimator-specific */\n",
       "#sk-container-id-1 div.sk-estimator {\n",
       "  font-family: monospace;\n",
       "  border: 1px dotted var(--sklearn-color-border-box);\n",
       "  border-radius: 0.25em;\n",
       "  box-sizing: border-box;\n",
       "  margin-bottom: 0.5em;\n",
       "  /* unfitted */\n",
       "  background-color: var(--sklearn-color-unfitted-level-0);\n",
       "}\n",
       "\n",
       "#sk-container-id-1 div.sk-estimator.fitted {\n",
       "  /* fitted */\n",
       "  background-color: var(--sklearn-color-fitted-level-0);\n",
       "}\n",
       "\n",
       "/* on hover */\n",
       "#sk-container-id-1 div.sk-estimator:hover {\n",
       "  /* unfitted */\n",
       "  background-color: var(--sklearn-color-unfitted-level-2);\n",
       "}\n",
       "\n",
       "#sk-container-id-1 div.sk-estimator.fitted:hover {\n",
       "  /* fitted */\n",
       "  background-color: var(--sklearn-color-fitted-level-2);\n",
       "}\n",
       "\n",
       "/* Specification for estimator info (e.g. \"i\" and \"?\") */\n",
       "\n",
       "/* Common style for \"i\" and \"?\" */\n",
       "\n",
       ".sk-estimator-doc-link,\n",
       "a:link.sk-estimator-doc-link,\n",
       "a:visited.sk-estimator-doc-link {\n",
       "  float: right;\n",
       "  font-size: smaller;\n",
       "  line-height: 1em;\n",
       "  font-family: monospace;\n",
       "  background-color: var(--sklearn-color-background);\n",
       "  border-radius: 1em;\n",
       "  height: 1em;\n",
       "  width: 1em;\n",
       "  text-decoration: none !important;\n",
       "  margin-left: 1ex;\n",
       "  /* unfitted */\n",
       "  border: var(--sklearn-color-unfitted-level-1) 1pt solid;\n",
       "  color: var(--sklearn-color-unfitted-level-1);\n",
       "}\n",
       "\n",
       ".sk-estimator-doc-link.fitted,\n",
       "a:link.sk-estimator-doc-link.fitted,\n",
       "a:visited.sk-estimator-doc-link.fitted {\n",
       "  /* fitted */\n",
       "  border: var(--sklearn-color-fitted-level-1) 1pt solid;\n",
       "  color: var(--sklearn-color-fitted-level-1);\n",
       "}\n",
       "\n",
       "/* On hover */\n",
       "div.sk-estimator:hover .sk-estimator-doc-link:hover,\n",
       ".sk-estimator-doc-link:hover,\n",
       "div.sk-label-container:hover .sk-estimator-doc-link:hover,\n",
       ".sk-estimator-doc-link:hover {\n",
       "  /* unfitted */\n",
       "  background-color: var(--sklearn-color-unfitted-level-3);\n",
       "  color: var(--sklearn-color-background);\n",
       "  text-decoration: none;\n",
       "}\n",
       "\n",
       "div.sk-estimator.fitted:hover .sk-estimator-doc-link.fitted:hover,\n",
       ".sk-estimator-doc-link.fitted:hover,\n",
       "div.sk-label-container:hover .sk-estimator-doc-link.fitted:hover,\n",
       ".sk-estimator-doc-link.fitted:hover {\n",
       "  /* fitted */\n",
       "  background-color: var(--sklearn-color-fitted-level-3);\n",
       "  color: var(--sklearn-color-background);\n",
       "  text-decoration: none;\n",
       "}\n",
       "\n",
       "/* Span, style for the box shown on hovering the info icon */\n",
       ".sk-estimator-doc-link span {\n",
       "  display: none;\n",
       "  z-index: 9999;\n",
       "  position: relative;\n",
       "  font-weight: normal;\n",
       "  right: .2ex;\n",
       "  padding: .5ex;\n",
       "  margin: .5ex;\n",
       "  width: min-content;\n",
       "  min-width: 20ex;\n",
       "  max-width: 50ex;\n",
       "  color: var(--sklearn-color-text);\n",
       "  box-shadow: 2pt 2pt 4pt #999;\n",
       "  /* unfitted */\n",
       "  background: var(--sklearn-color-unfitted-level-0);\n",
       "  border: .5pt solid var(--sklearn-color-unfitted-level-3);\n",
       "}\n",
       "\n",
       ".sk-estimator-doc-link.fitted span {\n",
       "  /* fitted */\n",
       "  background: var(--sklearn-color-fitted-level-0);\n",
       "  border: var(--sklearn-color-fitted-level-3);\n",
       "}\n",
       "\n",
       ".sk-estimator-doc-link:hover span {\n",
       "  display: block;\n",
       "}\n",
       "\n",
       "/* \"?\"-specific style due to the `<a>` HTML tag */\n",
       "\n",
       "#sk-container-id-1 a.estimator_doc_link {\n",
       "  float: right;\n",
       "  font-size: 1rem;\n",
       "  line-height: 1em;\n",
       "  font-family: monospace;\n",
       "  background-color: var(--sklearn-color-background);\n",
       "  border-radius: 1rem;\n",
       "  height: 1rem;\n",
       "  width: 1rem;\n",
       "  text-decoration: none;\n",
       "  /* unfitted */\n",
       "  color: var(--sklearn-color-unfitted-level-1);\n",
       "  border: var(--sklearn-color-unfitted-level-1) 1pt solid;\n",
       "}\n",
       "\n",
       "#sk-container-id-1 a.estimator_doc_link.fitted {\n",
       "  /* fitted */\n",
       "  border: var(--sklearn-color-fitted-level-1) 1pt solid;\n",
       "  color: var(--sklearn-color-fitted-level-1);\n",
       "}\n",
       "\n",
       "/* On hover */\n",
       "#sk-container-id-1 a.estimator_doc_link:hover {\n",
       "  /* unfitted */\n",
       "  background-color: var(--sklearn-color-unfitted-level-3);\n",
       "  color: var(--sklearn-color-background);\n",
       "  text-decoration: none;\n",
       "}\n",
       "\n",
       "#sk-container-id-1 a.estimator_doc_link.fitted:hover {\n",
       "  /* fitted */\n",
       "  background-color: var(--sklearn-color-fitted-level-3);\n",
       "}\n",
       "</style><div id=\"sk-container-id-1\" class=\"sk-top-container\"><div class=\"sk-text-repr-fallback\"><pre>MLPRegressor(batch_size=200, hidden_layer_sizes=(8, 8), random_state=0)</pre><b>In a Jupyter environment, please rerun this cell to show the HTML representation or trust the notebook. <br />On GitHub, the HTML representation is unable to render, please try loading this page with nbviewer.org.</b></div><div class=\"sk-container\" hidden><div class=\"sk-item\"><div class=\"sk-estimator fitted sk-toggleable\"><input class=\"sk-toggleable__control sk-hidden--visually\" id=\"sk-estimator-id-1\" type=\"checkbox\" checked><label for=\"sk-estimator-id-1\" class=\"sk-toggleable__label fitted sk-toggleable__label-arrow fitted\">&nbsp;&nbsp;MLPRegressor<a class=\"sk-estimator-doc-link fitted\" rel=\"noreferrer\" target=\"_blank\" href=\"https://scikit-learn.org/1.4/modules/generated/sklearn.neural_network.MLPRegressor.html\">?<span>Documentation for MLPRegressor</span></a><span class=\"sk-estimator-doc-link fitted\">i<span>Fitted</span></span></label><div class=\"sk-toggleable__content fitted\"><pre>MLPRegressor(batch_size=200, hidden_layer_sizes=(8, 8), random_state=0)</pre></div> </div></div></div></div>"
      ],
      "text/plain": [
       "MLPRegressor(batch_size=200, hidden_layer_sizes=(8, 8), random_state=0)"
      ]
     },
     "execution_count": 29,
     "metadata": {},
     "output_type": "execute_result"
    }
   ],
   "source": [
    "mlp.fit(X_train, y_train)"
   ]
  },
  {
   "cell_type": "markdown",
   "id": "2e2b4c74-d58e-4fff-92c8-36fbbded8eb7",
   "metadata": {},
   "source": [
    "# 7. Model evaluation"
   ]
  },
  {
   "cell_type": "markdown",
   "id": "c126f53d-b37e-4dea-9852-c8253609839b",
   "metadata": {},
   "source": [
    "You may have thought \"that's it\", but we are only halfway through. Having a trained model is nice, but is it a good model, i.e. does it do what it is supposed to do? And how well is it doing it? And could we make the model even better? These questions are answered when we perform model evaluation and model selection."
   ]
  },
  {
   "cell_type": "markdown",
   "id": "7fb4d38b-4497-41b2-8e77-d9d51571bdfa",
   "metadata": {},
   "source": [
    "## 7.1 Convergence of training\n",
    "\n",
    "First, let's look at the training of the model. Within the neural network, we update the weights at the nodes to minimise a loss function. The following graph shows the value of this loss function as a function of epochs, i.e. the number of times the training data set is used."
   ]
  },
  {
   "cell_type": "code",
   "execution_count": 30,
   "id": "0a71e174-e1d9-4e39-bd2e-a20a3d90367e",
   "metadata": {
    "tags": []
   },
   "outputs": [
    {
     "data": {
      "text/plain": [
       "Text(0, 0.5, 'Loss')"
      ]
     },
     "execution_count": 30,
     "metadata": {},
     "output_type": "execute_result"
    },
    {
     "data": {
      "image/png": "[encoded data removed]",
      "text/plain": [
       "<Figure size 640x480 with 1 Axes>"
      ]
     },
     "metadata": {},
     "output_type": "display_data"
    }
   ],
   "source": [
    "plt.plot(mlp.loss_curve_, marker='o')\n",
    "plt.xlabel(\"Number of epochs\")\n",
    "plt.ylabel(\"Loss\")"
   ]
  },
  {
   "cell_type": "markdown",
   "id": "4acc9060-f2bc-4e47-a958-aab99122b2ed",
   "metadata": {},
   "source": [
    "As expected, the value of the loss function decreases as the number of epochs increases. We also see that after 5 epochs, the gain due to further epochs is minimal. We can therefore conclude that the model has converged to a stable state after a few epochs."
   ]
  },
  {
   "cell_type": "markdown",
   "id": "456d048d-07ec-4f58-ad06-ea3e159ff46a",
   "metadata": {},
   "source": [
    "## 7.2 Model validation\n",
    "\n",
    "Let us start with a naive approach to get an idea of the performance of the model. We will use our test data and predict temperatures $\\hat{y}_i$ for each of the datasets in `X_test`. Then we compare the model output with our known temperatures $y_i$ in `y_test`. To calculate the  mean squared error\n",
    "$$MSE={\\sum_{i=1}^N\\left(y_i-\\hat{y}_i\\right)^2}\\, ,$$ respectively the root mean squared error\n",
    "$$RMSE=\\sqrt{\\sum_{i=1}^N\\left(y_i-\\hat{y}_i\\right)^2}$$\n",
    "gives us an estimate of the quality of the prediction."
   ]
  },
  {
   "cell_type": "code",
   "execution_count": 31,
   "id": "75e22c7d-b269-4479-8b4b-508aaccac67c",
   "metadata": {
    "tags": []
   },
   "outputs": [
    {
     "data": {
      "text/plain": [
       "0.11851045238889465"
      ]
     },
     "execution_count": 31,
     "metadata": {},
     "output_type": "execute_result"
    }
   ],
   "source": [
    "from sklearn.metrics import root_mean_squared_error\n",
    "root_mean_squared_error(y_test, mlp.predict(X_test))"
   ]
  },
  {
   "cell_type": "markdown",
   "id": "b33de8d3-2e97-4ef4-8223-d7a7e367f973",
   "metadata": {},
   "source": [
    "So what does this figure tell us? The RMSE is the root of the mean of the squared deviations between the prediction and the \"truth\". So a value of 0.055, or 0.055K in units, is a very good value. So we could conclude that our model is very good.\n",
    "\n",
    "However, we might be lucky in our choice of training and test data. To reduce the influence of this split, we perform a so-called k-fold cross validation. This means that we take the training data and split it into 10 equal pieces, i.e. $k=10$ here. We then train the model on nine of the 10 pieces and use the 10th piece to validate the model as above. This process is repeated 10 times, each time using a different piece for validation. In the end we get 10 RMSE values which give us some insight into the validity of the above value."
   ]
  },
  {
   "cell_type": "code",
   "execution_count": 32,
   "id": "4e7ab76b-fc0a-4a97-b854-6c980ef44b6e",
   "metadata": {
    "tags": []
   },
   "outputs": [
    {
     "name": "stdout",
     "output_type": "stream",
     "text": [
      "[0.0115314  0.02183371 0.01015053 0.01836834 0.01734341 0.01705964\n",
      " 0.01277254 0.01452594 0.01789336 0.01657543]\n",
      "0.015805430482272315 0.003359765654714363\n"
     ]
    }
   ],
   "source": [
    "from sklearn.model_selection import cross_val_score\n",
    "scores = - cross_val_score(estimator=mlp, X=X_train, y=y_train, cv=10, scoring='neg_mean_squared_error', n_jobs=1)\n",
    "print(scores)\n",
    "print(np.mean(scores), np.std(scores))"
   ]
  },
  {
   "cell_type": "markdown",
   "id": "45c840f6-ae08-4caa-b71b-b27bf12b7478",
   "metadata": {},
   "source": [
    "As we can see, the value of 0.055 is actually at the upper end of the values coming out of the cross-validation.\n",
    "\n",
    "Note: The function returns the negative RMSE, which we have converted to positive values."
   ]
  },
  {
   "cell_type": "markdown",
   "id": "a6fb2144-718f-4af7-9558-cd92c757ea0e",
   "metadata": {},
   "source": [
    "## 7.3 Learning curve\n",
    "An important thing to watch out for in machine learning is **overfitting**. This means that if we train our model well, it will learn all the tiny characteristics of the data and thus describe the training data perfectly. However, the test data may be slightly different, so the model will perform poorly on new data.\n",
    "\n",
    "One way to detect overfitting is to run a so-called learning curve. This means that we train the model with training sets of different sizes. Furthermore, each training is done with a 10-fold cross validation."
   ]
  },
  {
   "cell_type": "code",
   "execution_count": 33,
   "id": "5686fb34-e87f-41e6-9e38-2cfd9155785b",
   "metadata": {
    "tags": []
   },
   "outputs": [
    {
     "name": "stderr",
     "output_type": "stream",
     "text": [
      "/opt/anaconda3/envs/lehre/lib/python3.12/site-packages/sklearn/neural_network/_multilayer_perceptron.py:609: UserWarning: Got `batch_size` less than 1 or larger than sample size. It is going to be clipped\n",
      "  warnings.warn(\n",
      "/opt/anaconda3/envs/lehre/lib/python3.12/site-packages/sklearn/neural_network/_multilayer_perceptron.py:609: UserWarning: Got `batch_size` less than 1 or larger than sample size. It is going to be clipped\n",
      "  warnings.warn(\n",
      "/opt/anaconda3/envs/lehre/lib/python3.12/site-packages/sklearn/neural_network/_multilayer_perceptron.py:609: UserWarning: Got `batch_size` less than 1 or larger than sample size. It is going to be clipped\n",
      "  warnings.warn(\n",
      "/opt/anaconda3/envs/lehre/lib/python3.12/site-packages/sklearn/neural_network/_multilayer_perceptron.py:609: UserWarning: Got `batch_size` less than 1 or larger than sample size. It is going to be clipped\n",
      "  warnings.warn(\n",
      "/opt/anaconda3/envs/lehre/lib/python3.12/site-packages/sklearn/neural_network/_multilayer_perceptron.py:609: UserWarning: Got `batch_size` less than 1 or larger than sample size. It is going to be clipped\n",
      "  warnings.warn(\n",
      "/opt/anaconda3/envs/lehre/lib/python3.12/site-packages/sklearn/neural_network/_multilayer_perceptron.py:609: UserWarning: Got `batch_size` less than 1 or larger than sample size. It is going to be clipped\n",
      "  warnings.warn(\n",
      "/opt/anaconda3/envs/lehre/lib/python3.12/site-packages/sklearn/neural_network/_multilayer_perceptron.py:609: UserWarning: Got `batch_size` less than 1 or larger than sample size. It is going to be clipped\n",
      "  warnings.warn(\n",
      "/opt/anaconda3/envs/lehre/lib/python3.12/site-packages/sklearn/neural_network/_multilayer_perceptron.py:609: UserWarning: Got `batch_size` less than 1 or larger than sample size. It is going to be clipped\n",
      "  warnings.warn(\n",
      "/opt/anaconda3/envs/lehre/lib/python3.12/site-packages/sklearn/neural_network/_multilayer_perceptron.py:609: UserWarning: Got `batch_size` less than 1 or larger than sample size. It is going to be clipped\n",
      "  warnings.warn(\n",
      "/opt/anaconda3/envs/lehre/lib/python3.12/site-packages/sklearn/neural_network/_multilayer_perceptron.py:609: UserWarning: Got `batch_size` less than 1 or larger than sample size. It is going to be clipped\n",
      "  warnings.warn(\n"
     ]
    }
   ],
   "source": [
    "from sklearn.model_selection import learning_curve\n",
    "train_sizes, train_scores, test_scores = learning_curve(estimator=mlp,\n",
    "                                                        X=X_train,\n",
    "                                                        y=y_train,\n",
    "                                                        train_sizes=np.linspace(0.1, 1.0, 10),\n",
    "                                                        cv=10,\n",
    "                                                        scoring='neg_mean_squared_error',\n",
    "                                                        n_jobs=1)\n",
    "train_scores = - train_scores\n",
    "test_scores = - test_scores"
   ]
  },
  {
   "cell_type": "markdown",
   "id": "1de29c67-f7ec-4da1-b819-09f8dc81f220",
   "metadata": {},
   "source": [
    "Again, we changed the sign of the scores to get positive values.\n",
    "\n",
    "To get some insight into the results, we plot the RMSE value against the size of the training set."
   ]
  },
  {
   "cell_type": "code",
   "execution_count": 34,
   "id": "7341dc81-e54a-4a4a-9b90-fc2b8eff094b",
   "metadata": {
    "tags": []
   },
   "outputs": [
    {
     "data": {
      "text/plain": [
       "<matplotlib.legend.Legend at 0x16c69a210>"
      ]
     },
     "execution_count": 34,
     "metadata": {},
     "output_type": "execute_result"
    },
    {
     "data": {
      "image/png": "[encoded data removed]",
      "text/plain": [
       "<Figure size 640x480 with 1 Axes>"
      ]
     },
     "metadata": {},
     "output_type": "display_data"
    }
   ],
   "source": [
    "# calculate mean and std\n",
    "train_mean = np.mean(train_scores, axis=1)\n",
    "train_std = np.std(train_scores, axis=1)\n",
    "test_mean = np.mean(test_scores, axis=1)\n",
    "test_std = np.std(test_scores, axis=1)\n",
    "\n",
    "\n",
    "plt.plot(train_sizes,\n",
    "         train_mean,\n",
    "         marker='o',\n",
    "         label='Training RMSE')\n",
    "plt.fill_between(train_sizes,\n",
    "                 train_mean + train_std,\n",
    "                 train_mean - train_std,\n",
    "                 alpha=0.25)\n",
    "plt.plot(train_sizes,\n",
    "         test_mean,\n",
    "         linestyle='dashed',\n",
    "         marker='s',\n",
    "         label='Validation RMSE')\n",
    "plt.fill_between(train_sizes,\n",
    "                 test_mean + test_std,\n",
    "                 test_mean - test_std,\n",
    "                 alpha=0.25)\n",
    "plt.grid()\n",
    "plt.xlabel('Number of training examples')\n",
    "plt.ylabel('RMSE')\n",
    "plt.legend(loc='upper right')"
   ]
  },
  {
   "cell_type": "markdown",
   "id": "9cfcca6b-d6d3-4b06-af98-aa9387320abf",
   "metadata": {},
   "source": [
    "If we assume overfitting, we would expect the training and validation curves to diverge, or at least to have an offset, because the training value would be better, i.e. smaller, than the validation value. Here, however, both lines agree for the large training set sizes. We can therefore conclude that there is no overfitting in our model."
   ]
  },
  {
   "cell_type": "markdown",
   "id": "5dd3e686-44e6-4eae-9a3e-1869029cfa2a",
   "metadata": {},
   "source": [
    "# 8 Model selection"
   ]
  },
  {
   "cell_type": "markdown",
   "id": "67cfc64d-4bb6-409e-9e09-953a367f37be",
   "metadata": {},
   "source": [
    "In the previous part, we checked the model for problems such as poor performance and overfitting. In this part we will see if we can improve the model by changing so-called hyperparameters, i.e. parameters that are used for the model but are not related to the data."
   ]
  },
  {
   "cell_type": "markdown",
   "id": "8be60df7-ddbd-46d0-9ac0-30113461e90f",
   "metadata": {},
   "source": [
    "## 8.1 Parameter alpha\n",
    "\n",
    "In our model definition we set the parameter alpha to 0.0001. This parameter controls the so-called **L2 regularisation**, which adds a penalty term to the loss function to prevent the weights from diverging.\n",
    "\n",
    "To get an idea of the influence of the alpha parameter, we perform several model fits with different values for alpha. Again, a 10-fold cross-validation is performed for each of the fits."
   ]
  },
  {
   "cell_type": "code",
   "execution_count": 35,
   "id": "f343a973-f1b9-48d1-a95c-4daab1e49a0e",
   "metadata": {
    "tags": []
   },
   "outputs": [],
   "source": [
    "from sklearn.model_selection import validation_curve\n",
    "\n",
    "alphas = [0.00001, 0.0001, 0.001, 0.01, 0.1, 1]\n",
    "\n",
    "train_scores, test_scores = validation_curve(estimator=mlp,\n",
    "                                             X=X_train,\n",
    "                                             y=y_train,\n",
    "                                             param_name='alpha',\n",
    "                                             param_range=alphas,\n",
    "                                             cv=10,\n",
    "                                             scoring='neg_mean_squared_error')\n",
    "\n",
    "train_scores = - train_scores\n",
    "test_scores = - test_scores"
   ]
  },
  {
   "cell_type": "code",
   "execution_count": 36,
   "id": "82ec0bdb-29b1-4a7d-b38b-fe41f4e2c34c",
   "metadata": {
    "tags": []
   },
   "outputs": [
    {
     "data": {
      "image/png": "[encoded data removed]",
      "text/plain": [
       "<Figure size 640x480 with 1 Axes>"
      ]
     },
     "metadata": {},
     "output_type": "display_data"
    }
   ],
   "source": [
    "train_mean = np.mean(train_scores, axis=1)\n",
    "train_std = np.std(train_scores, axis=1)\n",
    "test_mean = np.mean(test_scores, axis=1)\n",
    "test_std = np.std(test_scores, axis=1)\n",
    "\n",
    "plt.plot(alphas,\n",
    "         train_mean,\n",
    "         marker='o',\n",
    "         label='Training RMSE')\n",
    "plt.fill_between(alphas,\n",
    "                 train_mean + train_std,\n",
    "                 train_mean - train_std,\n",
    "                 alpha=0.25)\n",
    "plt.plot(alphas,\n",
    "         test_mean,\n",
    "         linestyle='dashed',\n",
    "         marker='s',\n",
    "         label='Validation RMSE')\n",
    "plt.fill_between(alphas,\n",
    "                 test_mean + test_std,\n",
    "                 test_mean - test_std,\n",
    "                 alpha=0.25)\n",
    "plt.grid()\n",
    "plt.xscale('log')\n",
    "plt.legend(loc='upper right')\n",
    "plt.xlabel('Parameter alpha')\n",
    "plt.ylabel('RMSE')\n",
    "plt.show()"
   ]
  },
  {
   "cell_type": "markdown",
   "id": "f8aa7266-c8d6-4012-aee4-9732318d241e",
   "metadata": {},
   "source": [
    "The plot shows that over a wide range of alpha values the result for the model is almost the same. However, for larger values, the RMSE starts to \"jump around\". Since we are not sure whether the lower value for $alpha=0.1$ is just lower by chance or really a better value, we stick with our predefined value of 0.0001."
   ]
  },
  {
   "cell_type": "markdown",
   "id": "5a21973c-426d-479c-96fb-77b4335ed88d",
   "metadata": {},
   "source": [
    "## 8.2 The network layout\n",
    "\n",
    "We have defined the layout for our model as two layers of 9 nodes each. This was a very arbitrary choice and we will now test some different layouts and see if they offer better performance. So we define different layouts:\n",
    "\n",
    "1. two layers of 8 nodes each (our original model)\n",
    "2. one layer with 8 nodes and a second with 4 nodes\n",
    "3. a single layer of 8 nodes\n",
    "4. one layer of 100 nodes (the default in Sklearn)\n",
    "5. one layer of 100, then 50 and 25 nodes\n",
    "\n",
    "and test each with a 10-fold cross validation."
   ]
  },
  {
   "cell_type": "code",
   "execution_count": 37,
   "id": "551d43ad-dc8b-47cb-b5e0-27931fcf824b",
   "metadata": {
    "tags": []
   },
   "outputs": [],
   "source": [
    "from sklearn.model_selection import validation_curve\n",
    "\n",
    "layouts = [(8, 8,), (8, 4,), (8,), (100,), (100, 50, 25,)]\n",
    "\n",
    "train_scores, test_scores = validation_curve(estimator=mlp,\n",
    "                                             X=X_train,\n",
    "                                             y=y_train,\n",
    "                                             param_name='hidden_layer_sizes',\n",
    "                                             param_range=layouts,\n",
    "                                             cv=10,\n",
    "                                             scoring='neg_mean_squared_error')\n",
    "\n",
    "train_scores = - train_scores\n",
    "test_scores = - test_scores"
   ]
  },
  {
   "cell_type": "code",
   "execution_count": 38,
   "id": "d3d8a571-e862-4469-87cd-5ba52e157854",
   "metadata": {
    "tags": []
   },
   "outputs": [
    {
     "data": {
      "image/png": "[encoded data removed]",
      "text/plain": [
       "<Figure size 640x480 with 1 Axes>"
      ]
     },
     "metadata": {},
     "output_type": "display_data"
    }
   ],
   "source": [
    "train_mean = np.mean(train_scores, axis=1)\n",
    "train_std = np.std(train_scores, axis=1)\n",
    "test_mean = np.mean(test_scores, axis=1)\n",
    "test_std = np.std(test_scores, axis=1)\n",
    "\n",
    "layout = [1, 2, 3, 4, 5]\n",
    "plt.plot(layout,\n",
    "         train_mean,\n",
    "         marker='o',\n",
    "         color='blue',\n",
    "         linestyle='None',\n",
    "         label='Training RMSE')\n",
    "plt.errorbar(layout,\n",
    "             train_mean,\n",
    "             train_std,\n",
    "             train_std,\n",
    "             capsize=5,\n",
    "             color='blue',\n",
    "             linestyle='None')\n",
    "plt.plot(layout,\n",
    "         test_mean,\n",
    "         marker='s',\n",
    "         color='red',\n",
    "         linestyle='None',\n",
    "         label='Validation RMSE')\n",
    "plt.errorbar(layout,\n",
    "             test_mean,\n",
    "             test_std,\n",
    "             test_std,\n",
    "             capsize=5,\n",
    "             color='red',\n",
    "             linestyle='None')\n",
    "plt.grid()\n",
    "plt.legend(loc='upper right')\n",
    "plt.xlabel('Layout number')\n",
    "plt.ylabel('RMSE')\n",
    "plt.xticks(layout)\n",
    "plt.show()"
   ]
  },
  {
   "cell_type": "markdown",
   "id": "ad484c2c-4de0-42b6-a313-b18a0129ab42",
   "metadata": {},
   "source": [
    "There is an obvious difference between layouts. Layouts with more nodes perform better. Since the training and validation curves tend to diverge for the 5th layout, we will use layout 4, the default sklearn layout, for our final model."
   ]
  },
  {
   "cell_type": "markdown",
   "id": "bd2ebe5c-64fa-4531-92e1-0d069586b583",
   "metadata": {},
   "source": [
    "## 8.3 Activation function\n",
    "\n",
    "As a final parameter, we will look at the activation function used inside the nodes. So we use the same approach as above."
   ]
  },
  {
   "cell_type": "code",
   "execution_count": 39,
   "id": "9dfd7bff-7619-4a81-abbe-d4a37e10e39b",
   "metadata": {
    "tags": []
   },
   "outputs": [],
   "source": [
    "from sklearn.model_selection import validation_curve\n",
    "\n",
    "activations = [\"identity\", \"logistic\", \"tanh\", \"relu\"]\n",
    "\n",
    "train_scores, test_scores = validation_curve(estimator=mlp,\n",
    "                                             X=X_train,\n",
    "                                             y=y_train,\n",
    "                                             param_name='activation',\n",
    "                                             param_range=activations,\n",
    "                                             cv=10,\n",
    "                                             scoring='neg_mean_squared_error')\n",
    "\n",
    "train_scores = - train_scores\n",
    "test_scores = - test_scores"
   ]
  },
  {
   "cell_type": "code",
   "execution_count": 40,
   "id": "235f10a5-7532-4790-975b-58881515078b",
   "metadata": {
    "tags": []
   },
   "outputs": [
    {
     "data": {
      "image/png": "[encoded data removed]",
      "text/plain": [
       "<Figure size 640x480 with 1 Axes>"
      ]
     },
     "metadata": {},
     "output_type": "display_data"
    }
   ],
   "source": [
    "train_mean = np.mean(train_scores, axis=1)\n",
    "train_std = np.std(train_scores, axis=1)\n",
    "test_mean = np.mean(test_scores, axis=1)\n",
    "test_std = np.std(test_scores, axis=1)\n",
    "\n",
    "activation = [1, 2, 3, 4]\n",
    "plt.plot(activation,\n",
    "         train_mean,\n",
    "         marker='o',\n",
    "         color='blue',\n",
    "         linestyle='None',\n",
    "         label='Training RMSE')\n",
    "plt.errorbar(activation,\n",
    "             train_mean,\n",
    "             train_std,\n",
    "             train_std,\n",
    "             capsize=5,\n",
    "             color='blue',\n",
    "             linestyle='None')\n",
    "plt.plot(activation,\n",
    "         test_mean,\n",
    "         marker='s',\n",
    "         color='red',\n",
    "         linestyle='None',\n",
    "         label='Validation RMSE')\n",
    "plt.errorbar(activation,\n",
    "             test_mean,\n",
    "             test_std,\n",
    "             test_std,\n",
    "             capsize=5,\n",
    "             color='red',\n",
    "             linestyle='None')\n",
    "plt.grid()\n",
    "plt.legend(loc='upper right')\n",
    "plt.xlabel('Activation function')\n",
    "plt.ylabel('RMSE')\n",
    "plt.xticks(activation)\n",
    "plt.show()"
   ]
  },
  {
   "cell_type": "markdown",
   "id": "c2ecfe57-ee55-445e-9f05-42f218b0be89",
   "metadata": {},
   "source": [
    "The activation functions with the best performance are the `tanh` and `relu` functions. For our model we used the `relu` function, which means we have already made a good choice and we will leave it that way."
   ]
  },
  {
   "cell_type": "markdown",
   "id": "ac7da073-2f17-4caf-afe2-0507c17b8431",
   "metadata": {},
   "source": [
    "## 8.4 Grid search\n",
    "\n",
    "Above we tested each parameter individually. This may not be the best way as there may be a dependency between the different parameters. The best way would be to test all the parameters at the same time. This can be done using an approach called **grid search**. However, we will not use it here."
   ]
  },
  {
   "cell_type": "markdown",
   "id": "7ea5750b-fcdb-4852-87d2-568ac3ea7f60",
   "metadata": {},
   "source": [
    "\n",
    "##### GridSearchCV\n",
    "\n",
    "In scikit learn, there is GridSearchCV method which easily finds the optimum hyperparameters among the given values.\n",
    "> [nice article](https://panjeh.medium.com/scikit-learn-hyperparameter-optimization-for-mlpclassifier-4d670413042b)"
   ]
  },
  {
   "cell_type": "code",
   "execution_count": 41,
   "id": "ab90f5b4-87f9-4426-831c-e4ffd23ff778",
   "metadata": {},
   "outputs": [
    {
     "data": {
      "text/html": [
       "<style>#sk-container-id-2 {\n",
       "  /* Definition of color scheme common for light and dark mode */\n",
       "  --sklearn-color-text: black;\n",
       "  --sklearn-color-line: gray;\n",
       "  /* Definition of color scheme for unfitted estimators */\n",
       "  --sklearn-color-unfitted-level-0: #fff5e6;\n",
       "  --sklearn-color-unfitted-level-1: #f6e4d2;\n",
       "  --sklearn-color-unfitted-level-2: #ffe0b3;\n",
       "  --sklearn-color-unfitted-level-3: chocolate;\n",
       "  /* Definition of color scheme for fitted estimators */\n",
       "  --sklearn-color-fitted-level-0: #f0f8ff;\n",
       "  --sklearn-color-fitted-level-1: #d4ebff;\n",
       "  --sklearn-color-fitted-level-2: #b3dbfd;\n",
       "  --sklearn-color-fitted-level-3: cornflowerblue;\n",
       "\n",
       "  /* Specific color for light theme */\n",
       "  --sklearn-color-text-on-default-background: var(--sg-text-color, var(--theme-code-foreground, var(--jp-content-font-color1, black)));\n",
       "  --sklearn-color-background: var(--sg-background-color, var(--theme-background, var(--jp-layout-color0, white)));\n",
       "  --sklearn-color-border-box: var(--sg-text-color, var(--theme-code-foreground, var(--jp-content-font-color1, black)));\n",
       "  --sklearn-color-icon: #696969;\n",
       "\n",
       "  @media (prefers-color-scheme: dark) {\n",
       "    /* Redefinition of color scheme for dark theme */\n",
       "    --sklearn-color-text-on-default-background: var(--sg-text-color, var(--theme-code-foreground, var(--jp-content-font-color1, white)));\n",
       "    --sklearn-color-background: var(--sg-background-color, var(--theme-background, var(--jp-layout-color0, #111)));\n",
       "    --sklearn-color-border-box: var(--sg-text-color, var(--theme-code-foreground, var(--jp-content-font-color1, white)));\n",
       "    --sklearn-color-icon: #878787;\n",
       "  }\n",
       "}\n",
       "\n",
       "#sk-container-id-2 {\n",
       "  color: var(--sklearn-color-text);\n",
       "}\n",
       "\n",
       "#sk-container-id-2 pre {\n",
       "  padding: 0;\n",
       "}\n",
       "\n",
       "#sk-container-id-2 input.sk-hidden--visually {\n",
       "  border: 0;\n",
       "  clip: rect(1px 1px 1px 1px);\n",
       "  clip: rect(1px, 1px, 1px, 1px);\n",
       "  height: 1px;\n",
       "  margin: -1px;\n",
       "  overflow: hidden;\n",
       "  padding: 0;\n",
       "  position: absolute;\n",
       "  width: 1px;\n",
       "}\n",
       "\n",
       "#sk-container-id-2 div.sk-dashed-wrapped {\n",
       "  border: 1px dashed var(--sklearn-color-line);\n",
       "  margin: 0 0.4em 0.5em 0.4em;\n",
       "  box-sizing: border-box;\n",
       "  padding-bottom: 0.4em;\n",
       "  background-color: var(--sklearn-color-background);\n",
       "}\n",
       "\n",
       "#sk-container-id-2 div.sk-container {\n",
       "  /* jupyter's `normalize.less` sets `[hidden] { display: none; }`\n",
       "     but bootstrap.min.css set `[hidden] { display: none !important; }`\n",
       "     so we also need the `!important` here to be able to override the\n",
       "     default hidden behavior on the sphinx rendered scikit-learn.org.\n",
       "     See: https://github.com/scikit-learn/scikit-learn/issues/21755 */\n",
       "  display: inline-block !important;\n",
       "  position: relative;\n",
       "}\n",
       "\n",
       "#sk-container-id-2 div.sk-text-repr-fallback {\n",
       "  display: none;\n",
       "}\n",
       "\n",
       "div.sk-parallel-item,\n",
       "div.sk-serial,\n",
       "div.sk-item {\n",
       "  /* draw centered vertical line to link estimators */\n",
       "  background-image: linear-gradient(var(--sklearn-color-text-on-default-background), var(--sklearn-color-text-on-default-background));\n",
       "  background-size: 2px 100%;\n",
       "  background-repeat: no-repeat;\n",
       "  background-position: center center;\n",
       "}\n",
       "\n",
       "/* Parallel-specific style estimator block */\n",
       "\n",
       "#sk-container-id-2 div.sk-parallel-item::after {\n",
       "  content: \"\";\n",
       "  width: 100%;\n",
       "  border-bottom: 2px solid var(--sklearn-color-text-on-default-background);\n",
       "  flex-grow: 1;\n",
       "}\n",
       "\n",
       "#sk-container-id-2 div.sk-parallel {\n",
       "  display: flex;\n",
       "  align-items: stretch;\n",
       "  justify-content: center;\n",
       "  background-color: var(--sklearn-color-background);\n",
       "  position: relative;\n",
       "}\n",
       "\n",
       "#sk-container-id-2 div.sk-parallel-item {\n",
       "  display: flex;\n",
       "  flex-direction: column;\n",
       "}\n",
       "\n",
       "#sk-container-id-2 div.sk-parallel-item:first-child::after {\n",
       "  align-self: flex-end;\n",
       "  width: 50%;\n",
       "}\n",
       "\n",
       "#sk-container-id-2 div.sk-parallel-item:last-child::after {\n",
       "  align-self: flex-start;\n",
       "  width: 50%;\n",
       "}\n",
       "\n",
       "#sk-container-id-2 div.sk-parallel-item:only-child::after {\n",
       "  width: 0;\n",
       "}\n",
       "\n",
       "/* Serial-specific style estimator block */\n",
       "\n",
       "#sk-container-id-2 div.sk-serial {\n",
       "  display: flex;\n",
       "  flex-direction: column;\n",
       "  align-items: center;\n",
       "  background-color: var(--sklearn-color-background);\n",
       "  padding-right: 1em;\n",
       "  padding-left: 1em;\n",
       "}\n",
       "\n",
       "\n",
       "/* Toggleable style: style used for estimator/Pipeline/ColumnTransformer box that is\n",
       "clickable and can be expanded/collapsed.\n",
       "- Pipeline and ColumnTransformer use this feature and define the default style\n",
       "- Estimators will overwrite some part of the style using the `sk-estimator` class\n",
       "*/\n",
       "\n",
       "/* Pipeline and ColumnTransformer style (default) */\n",
       "\n",
       "#sk-container-id-2 div.sk-toggleable {\n",
       "  /* Default theme specific background. It is overwritten whether we have a\n",
       "  specific estimator or a Pipeline/ColumnTransformer */\n",
       "  background-color: var(--sklearn-color-background);\n",
       "}\n",
       "\n",
       "/* Toggleable label */\n",
       "#sk-container-id-2 label.sk-toggleable__label {\n",
       "  cursor: pointer;\n",
       "  display: block;\n",
       "  width: 100%;\n",
       "  margin-bottom: 0;\n",
       "  padding: 0.5em;\n",
       "  box-sizing: border-box;\n",
       "  text-align: center;\n",
       "}\n",
       "\n",
       "#sk-container-id-2 label.sk-toggleable__label-arrow:before {\n",
       "  /* Arrow on the left of the label */\n",
       "  content: \"▸\";\n",
       "  float: left;\n",
       "  margin-right: 0.25em;\n",
       "  color: var(--sklearn-color-icon);\n",
       "}\n",
       "\n",
       "#sk-container-id-2 label.sk-toggleable__label-arrow:hover:before {\n",
       "  color: var(--sklearn-color-text);\n",
       "}\n",
       "\n",
       "/* Toggleable content - dropdown */\n",
       "\n",
       "#sk-container-id-2 div.sk-toggleable__content {\n",
       "  max-height: 0;\n",
       "  max-width: 0;\n",
       "  overflow: hidden;\n",
       "  text-align: left;\n",
       "  /* unfitted */\n",
       "  background-color: var(--sklearn-color-unfitted-level-0);\n",
       "}\n",
       "\n",
       "#sk-container-id-2 div.sk-toggleable__content.fitted {\n",
       "  /* fitted */\n",
       "  background-color: var(--sklearn-color-fitted-level-0);\n",
       "}\n",
       "\n",
       "#sk-container-id-2 div.sk-toggleable__content pre {\n",
       "  margin: 0.2em;\n",
       "  border-radius: 0.25em;\n",
       "  color: var(--sklearn-color-text);\n",
       "  /* unfitted */\n",
       "  background-color: var(--sklearn-color-unfitted-level-0);\n",
       "}\n",
       "\n",
       "#sk-container-id-2 div.sk-toggleable__content.fitted pre {\n",
       "  /* unfitted */\n",
       "  background-color: var(--sklearn-color-fitted-level-0);\n",
       "}\n",
       "\n",
       "#sk-container-id-2 input.sk-toggleable__control:checked~div.sk-toggleable__content {\n",
       "  /* Expand drop-down */\n",
       "  max-height: 200px;\n",
       "  max-width: 100%;\n",
       "  overflow: auto;\n",
       "}\n",
       "\n",
       "#sk-container-id-2 input.sk-toggleable__control:checked~label.sk-toggleable__label-arrow:before {\n",
       "  content: \"▾\";\n",
       "}\n",
       "\n",
       "/* Pipeline/ColumnTransformer-specific style */\n",
       "\n",
       "#sk-container-id-2 div.sk-label input.sk-toggleable__control:checked~label.sk-toggleable__label {\n",
       "  color: var(--sklearn-color-text);\n",
       "  background-color: var(--sklearn-color-unfitted-level-2);\n",
       "}\n",
       "\n",
       "#sk-container-id-2 div.sk-label.fitted input.sk-toggleable__control:checked~label.sk-toggleable__label {\n",
       "  background-color: var(--sklearn-color-fitted-level-2);\n",
       "}\n",
       "\n",
       "/* Estimator-specific style */\n",
       "\n",
       "/* Colorize estimator box */\n",
       "#sk-container-id-2 div.sk-estimator input.sk-toggleable__control:checked~label.sk-toggleable__label {\n",
       "  /* unfitted */\n",
       "  background-color: var(--sklearn-color-unfitted-level-2);\n",
       "}\n",
       "\n",
       "#sk-container-id-2 div.sk-estimator.fitted input.sk-toggleable__control:checked~label.sk-toggleable__label {\n",
       "  /* fitted */\n",
       "  background-color: var(--sklearn-color-fitted-level-2);\n",
       "}\n",
       "\n",
       "#sk-container-id-2 div.sk-label label.sk-toggleable__label,\n",
       "#sk-container-id-2 div.sk-label label {\n",
       "  /* The background is the default theme color */\n",
       "  color: var(--sklearn-color-text-on-default-background);\n",
       "}\n",
       "\n",
       "/* On hover, darken the color of the background */\n",
       "#sk-container-id-2 div.sk-label:hover label.sk-toggleable__label {\n",
       "  color: var(--sklearn-color-text);\n",
       "  background-color: var(--sklearn-color-unfitted-level-2);\n",
       "}\n",
       "\n",
       "/* Label box, darken color on hover, fitted */\n",
       "#sk-container-id-2 div.sk-label.fitted:hover label.sk-toggleable__label.fitted {\n",
       "  color: var(--sklearn-color-text);\n",
       "  background-color: var(--sklearn-color-fitted-level-2);\n",
       "}\n",
       "\n",
       "/* Estimator label */\n",
       "\n",
       "#sk-container-id-2 div.sk-label label {\n",
       "  font-family: monospace;\n",
       "  font-weight: bold;\n",
       "  display: inline-block;\n",
       "  line-height: 1.2em;\n",
       "}\n",
       "\n",
       "#sk-container-id-2 div.sk-label-container {\n",
       "  text-align: center;\n",
       "}\n",
       "\n",
       "/* Estimator-specific */\n",
       "#sk-container-id-2 div.sk-estimator {\n",
       "  font-family: monospace;\n",
       "  border: 1px dotted var(--sklearn-color-border-box);\n",
       "  border-radius: 0.25em;\n",
       "  box-sizing: border-box;\n",
       "  margin-bottom: 0.5em;\n",
       "  /* unfitted */\n",
       "  background-color: var(--sklearn-color-unfitted-level-0);\n",
       "}\n",
       "\n",
       "#sk-container-id-2 div.sk-estimator.fitted {\n",
       "  /* fitted */\n",
       "  background-color: var(--sklearn-color-fitted-level-0);\n",
       "}\n",
       "\n",
       "/* on hover */\n",
       "#sk-container-id-2 div.sk-estimator:hover {\n",
       "  /* unfitted */\n",
       "  background-color: var(--sklearn-color-unfitted-level-2);\n",
       "}\n",
       "\n",
       "#sk-container-id-2 div.sk-estimator.fitted:hover {\n",
       "  /* fitted */\n",
       "  background-color: var(--sklearn-color-fitted-level-2);\n",
       "}\n",
       "\n",
       "/* Specification for estimator info (e.g. \"i\" and \"?\") */\n",
       "\n",
       "/* Common style for \"i\" and \"?\" */\n",
       "\n",
       ".sk-estimator-doc-link,\n",
       "a:link.sk-estimator-doc-link,\n",
       "a:visited.sk-estimator-doc-link {\n",
       "  float: right;\n",
       "  font-size: smaller;\n",
       "  line-height: 1em;\n",
       "  font-family: monospace;\n",
       "  background-color: var(--sklearn-color-background);\n",
       "  border-radius: 1em;\n",
       "  height: 1em;\n",
       "  width: 1em;\n",
       "  text-decoration: none !important;\n",
       "  margin-left: 1ex;\n",
       "  /* unfitted */\n",
       "  border: var(--sklearn-color-unfitted-level-1) 1pt solid;\n",
       "  color: var(--sklearn-color-unfitted-level-1);\n",
       "}\n",
       "\n",
       ".sk-estimator-doc-link.fitted,\n",
       "a:link.sk-estimator-doc-link.fitted,\n",
       "a:visited.sk-estimator-doc-link.fitted {\n",
       "  /* fitted */\n",
       "  border: var(--sklearn-color-fitted-level-1) 1pt solid;\n",
       "  color: var(--sklearn-color-fitted-level-1);\n",
       "}\n",
       "\n",
       "/* On hover */\n",
       "div.sk-estimator:hover .sk-estimator-doc-link:hover,\n",
       ".sk-estimator-doc-link:hover,\n",
       "div.sk-label-container:hover .sk-estimator-doc-link:hover,\n",
       ".sk-estimator-doc-link:hover {\n",
       "  /* unfitted */\n",
       "  background-color: var(--sklearn-color-unfitted-level-3);\n",
       "  color: var(--sklearn-color-background);\n",
       "  text-decoration: none;\n",
       "}\n",
       "\n",
       "div.sk-estimator.fitted:hover .sk-estimator-doc-link.fitted:hover,\n",
       ".sk-estimator-doc-link.fitted:hover,\n",
       "div.sk-label-container:hover .sk-estimator-doc-link.fitted:hover,\n",
       ".sk-estimator-doc-link.fitted:hover {\n",
       "  /* fitted */\n",
       "  background-color: var(--sklearn-color-fitted-level-3);\n",
       "  color: var(--sklearn-color-background);\n",
       "  text-decoration: none;\n",
       "}\n",
       "\n",
       "/* Span, style for the box shown on hovering the info icon */\n",
       ".sk-estimator-doc-link span {\n",
       "  display: none;\n",
       "  z-index: 9999;\n",
       "  position: relative;\n",
       "  font-weight: normal;\n",
       "  right: .2ex;\n",
       "  padding: .5ex;\n",
       "  margin: .5ex;\n",
       "  width: min-content;\n",
       "  min-width: 20ex;\n",
       "  max-width: 50ex;\n",
       "  color: var(--sklearn-color-text);\n",
       "  box-shadow: 2pt 2pt 4pt #999;\n",
       "  /* unfitted */\n",
       "  background: var(--sklearn-color-unfitted-level-0);\n",
       "  border: .5pt solid var(--sklearn-color-unfitted-level-3);\n",
       "}\n",
       "\n",
       ".sk-estimator-doc-link.fitted span {\n",
       "  /* fitted */\n",
       "  background: var(--sklearn-color-fitted-level-0);\n",
       "  border: var(--sklearn-color-fitted-level-3);\n",
       "}\n",
       "\n",
       ".sk-estimator-doc-link:hover span {\n",
       "  display: block;\n",
       "}\n",
       "\n",
       "/* \"?\"-specific style due to the `<a>` HTML tag */\n",
       "\n",
       "#sk-container-id-2 a.estimator_doc_link {\n",
       "  float: right;\n",
       "  font-size: 1rem;\n",
       "  line-height: 1em;\n",
       "  font-family: monospace;\n",
       "  background-color: var(--sklearn-color-background);\n",
       "  border-radius: 1rem;\n",
       "  height: 1rem;\n",
       "  width: 1rem;\n",
       "  text-decoration: none;\n",
       "  /* unfitted */\n",
       "  color: var(--sklearn-color-unfitted-level-1);\n",
       "  border: var(--sklearn-color-unfitted-level-1) 1pt solid;\n",
       "}\n",
       "\n",
       "#sk-container-id-2 a.estimator_doc_link.fitted {\n",
       "  /* fitted */\n",
       "  border: var(--sklearn-color-fitted-level-1) 1pt solid;\n",
       "  color: var(--sklearn-color-fitted-level-1);\n",
       "}\n",
       "\n",
       "/* On hover */\n",
       "#sk-container-id-2 a.estimator_doc_link:hover {\n",
       "  /* unfitted */\n",
       "  background-color: var(--sklearn-color-unfitted-level-3);\n",
       "  color: var(--sklearn-color-background);\n",
       "  text-decoration: none;\n",
       "}\n",
       "\n",
       "#sk-container-id-2 a.estimator_doc_link.fitted:hover {\n",
       "  /* fitted */\n",
       "  background-color: var(--sklearn-color-fitted-level-3);\n",
       "}\n",
       "</style><div id=\"sk-container-id-2\" class=\"sk-top-container\"><div class=\"sk-text-repr-fallback\"><pre>GridSearchCV(cv=5, estimator=MLPRegressor(max_iter=400), n_jobs=-1,\n",
       "             param_grid={&#x27;activation&#x27;: [&#x27;identity&#x27;, &#x27;logistic&#x27;, &#x27;tanh&#x27;, &#x27;relu&#x27;],\n",
       "                         &#x27;alpha&#x27;: [1e-05, 0.0001, 0.001, 0.01, 0.1, 1],\n",
       "                         &#x27;hidden_layer_sizes&#x27;: [(8, 8), (8, 4), (8,), (100,),\n",
       "                                                (100, 50, 25)],\n",
       "                         &#x27;learning_rate&#x27;: [&#x27;constant&#x27;, &#x27;adaptive&#x27;]})</pre><b>In a Jupyter environment, please rerun this cell to show the HTML representation or trust the notebook. <br />On GitHub, the HTML representation is unable to render, please try loading this page with nbviewer.org.</b></div><div class=\"sk-container\" hidden><div class=\"sk-item sk-dashed-wrapped\"><div class=\"sk-label-container\"><div class=\"sk-label fitted sk-toggleable\"><input class=\"sk-toggleable__control sk-hidden--visually\" id=\"sk-estimator-id-2\" type=\"checkbox\" ><label for=\"sk-estimator-id-2\" class=\"sk-toggleable__label fitted sk-toggleable__label-arrow fitted\">&nbsp;&nbsp;GridSearchCV<a class=\"sk-estimator-doc-link fitted\" rel=\"noreferrer\" target=\"_blank\" href=\"https://scikit-learn.org/1.4/modules/generated/sklearn.model_selection.GridSearchCV.html\">?<span>Documentation for GridSearchCV</span></a><span class=\"sk-estimator-doc-link fitted\">i<span>Fitted</span></span></label><div class=\"sk-toggleable__content fitted\"><pre>GridSearchCV(cv=5, estimator=MLPRegressor(max_iter=400), n_jobs=-1,\n",
       "             param_grid={&#x27;activation&#x27;: [&#x27;identity&#x27;, &#x27;logistic&#x27;, &#x27;tanh&#x27;, &#x27;relu&#x27;],\n",
       "                         &#x27;alpha&#x27;: [1e-05, 0.0001, 0.001, 0.01, 0.1, 1],\n",
       "                         &#x27;hidden_layer_sizes&#x27;: [(8, 8), (8, 4), (8,), (100,),\n",
       "                                                (100, 50, 25)],\n",
       "                         &#x27;learning_rate&#x27;: [&#x27;constant&#x27;, &#x27;adaptive&#x27;]})</pre></div> </div></div><div class=\"sk-parallel\"><div class=\"sk-parallel-item\"><div class=\"sk-item\"><div class=\"sk-label-container\"><div class=\"sk-label fitted sk-toggleable\"><input class=\"sk-toggleable__control sk-hidden--visually\" id=\"sk-estimator-id-3\" type=\"checkbox\" ><label for=\"sk-estimator-id-3\" class=\"sk-toggleable__label fitted sk-toggleable__label-arrow fitted\">estimator: MLPRegressor</label><div class=\"sk-toggleable__content fitted\"><pre>MLPRegressor(max_iter=400)</pre></div> </div></div><div class=\"sk-serial\"><div class=\"sk-item\"><div class=\"sk-estimator fitted sk-toggleable\"><input class=\"sk-toggleable__control sk-hidden--visually\" id=\"sk-estimator-id-4\" type=\"checkbox\" ><label for=\"sk-estimator-id-4\" class=\"sk-toggleable__label fitted sk-toggleable__label-arrow fitted\">&nbsp;MLPRegressor<a class=\"sk-estimator-doc-link fitted\" rel=\"noreferrer\" target=\"_blank\" href=\"https://scikit-learn.org/1.4/modules/generated/sklearn.neural_network.MLPRegressor.html\">?<span>Documentation for MLPRegressor</span></a></label><div class=\"sk-toggleable__content fitted\"><pre>MLPRegressor(max_iter=400)</pre></div> </div></div></div></div></div></div></div></div></div>"
      ],
      "text/plain": [
       "GridSearchCV(cv=5, estimator=MLPRegressor(max_iter=400), n_jobs=-1,\n",
       "             param_grid={'activation': ['identity', 'logistic', 'tanh', 'relu'],\n",
       "                         'alpha': [1e-05, 0.0001, 0.001, 0.01, 0.1, 1],\n",
       "                         'hidden_layer_sizes': [(8, 8), (8, 4), (8,), (100,),\n",
       "                                                (100, 50, 25)],\n",
       "                         'learning_rate': ['constant', 'adaptive']})"
      ]
     },
     "execution_count": 41,
     "metadata": {},
     "output_type": "execute_result"
    }
   ],
   "source": [
    "mlp_gs = MLPRegressor(max_iter=400)\n",
    "parameter_space = {\n",
    "    'hidden_layer_sizes': [(8, 8,), (8, 4,), (8,), (100,), (100, 50, 25,)],\n",
    "    'activation': [\"identity\", \"logistic\", \"tanh\", \"relu\"],\n",
    "    'alpha': [0.00001, 0.0001, 0.001, 0.01, 0.1, 1],\n",
    "    'learning_rate': ['constant','adaptive'],\n",
    "}\n",
    "\n",
    "from sklearn.model_selection import GridSearchCV\n",
    "clf = GridSearchCV(mlp_gs, parameter_space, n_jobs=-1, cv=5)\n",
    "\n",
    "clf.fit(X_train, y_train) # X is train samples and y is the corresponding labels"
   ]
  },
  {
   "cell_type": "code",
   "execution_count": 42,
   "id": "f778d309-1443-4ddc-b029-553bd7140457",
   "metadata": {},
   "outputs": [
    {
     "name": "stdout",
     "output_type": "stream",
     "text": [
      "Best parameters found:\n",
      " {'activation': 'relu', 'alpha': 0.001, 'hidden_layer_sizes': (100, 50, 25), 'learning_rate': 'constant'}\n"
     ]
    }
   ],
   "source": [
    "\n",
    "## best paramters:\n",
    "print('Best parameters found:\\n', clf.best_params_)"
   ]
  },
  {
   "cell_type": "code",
   "execution_count": 43,
   "id": "5a0d615c-c360-4f5d-b683-02ba3a097acd",
   "metadata": {},
   "outputs": [
    {
     "name": "stdout",
     "output_type": "stream",
     "text": [
      "Results on the test set:\n",
      "0.22290014499120026\n"
     ]
    }
   ],
   "source": [
    "from sklearn.metrics import r2_score\n",
    "\n",
    "print('Results on the test set:')\n",
    "print(r2_score(y_test, clf.predict(X_test)))"
   ]
  },
  {
   "cell_type": "markdown",
   "id": "40d1e7a9-e47a-4111-a668-4b33d09ea45f",
   "metadata": {},
   "source": [
    "# 9 Final model"
   ]
  },
  {
   "cell_type": "markdown",
   "id": "747b0da9-9f27-447f-8f17-1bad5a838e98",
   "metadata": {},
   "source": [
    "When we are satisfied with our model evaluation and selection, we can define a final model and train it on the entire training data set. As mentioned before, the only thing we will change is the network layout."
   ]
  },
  {
   "cell_type": "markdown",
   "id": "cea48913-1b05-4950-ad58-f96c2508e205",
   "metadata": {},
   "source": [
    "## 9.1 Model definition"
   ]
  },
  {
   "cell_type": "code",
   "execution_count": 44,
   "id": "d0717223-aa3c-454b-9f0b-46622bfd85bf",
   "metadata": {
    "tags": []
   },
   "outputs": [],
   "source": [
    "mlp = MLPRegressor(hidden_layer_sizes=clf.best_params_[\"hidden_layer_sizes\"], \n",
    "                   activation=clf.best_params_[\"activation\"], \n",
    "                   alpha=clf.best_params_[\"alpha\"], \n",
    "                   batch_size=200, \n",
    "                   max_iter=400, \n",
    "                   learning_rate = clf.best_params_[\"learning_rate\"], \n",
    "                   random_state=0)"
   ]
  },
  {
   "cell_type": "markdown",
   "id": "41d26590-c429-4ddc-acae-5119380a2bee",
   "metadata": {},
   "source": [
    "## 9.2 Model training"
   ]
  },
  {
   "cell_type": "code",
   "execution_count": 45,
   "id": "4bf5445d-ba7d-46e3-9f9c-c4c28dc157e2",
   "metadata": {
    "tags": []
   },
   "outputs": [
    {
     "data": {
      "text/html": [
       "<style>#sk-container-id-3 {\n",
       "  /* Definition of color scheme common for light and dark mode */\n",
       "  --sklearn-color-text: black;\n",
       "  --sklearn-color-line: gray;\n",
       "  /* Definition of color scheme for unfitted estimators */\n",
       "  --sklearn-color-unfitted-level-0: #fff5e6;\n",
       "  --sklearn-color-unfitted-level-1: #f6e4d2;\n",
       "  --sklearn-color-unfitted-level-2: #ffe0b3;\n",
       "  --sklearn-color-unfitted-level-3: chocolate;\n",
       "  /* Definition of color scheme for fitted estimators */\n",
       "  --sklearn-color-fitted-level-0: #f0f8ff;\n",
       "  --sklearn-color-fitted-level-1: #d4ebff;\n",
       "  --sklearn-color-fitted-level-2: #b3dbfd;\n",
       "  --sklearn-color-fitted-level-3: cornflowerblue;\n",
       "\n",
       "  /* Specific color for light theme */\n",
       "  --sklearn-color-text-on-default-background: var(--sg-text-color, var(--theme-code-foreground, var(--jp-content-font-color1, black)));\n",
       "  --sklearn-color-background: var(--sg-background-color, var(--theme-background, var(--jp-layout-color0, white)));\n",
       "  --sklearn-color-border-box: var(--sg-text-color, var(--theme-code-foreground, var(--jp-content-font-color1, black)));\n",
       "  --sklearn-color-icon: #696969;\n",
       "\n",
       "  @media (prefers-color-scheme: dark) {\n",
       "    /* Redefinition of color scheme for dark theme */\n",
       "    --sklearn-color-text-on-default-background: var(--sg-text-color, var(--theme-code-foreground, var(--jp-content-font-color1, white)));\n",
       "    --sklearn-color-background: var(--sg-background-color, var(--theme-background, var(--jp-layout-color0, #111)));\n",
       "    --sklearn-color-border-box: var(--sg-text-color, var(--theme-code-foreground, var(--jp-content-font-color1, white)));\n",
       "    --sklearn-color-icon: #878787;\n",
       "  }\n",
       "}\n",
       "\n",
       "#sk-container-id-3 {\n",
       "  color: var(--sklearn-color-text);\n",
       "}\n",
       "\n",
       "#sk-container-id-3 pre {\n",
       "  padding: 0;\n",
       "}\n",
       "\n",
       "#sk-container-id-3 input.sk-hidden--visually {\n",
       "  border: 0;\n",
       "  clip: rect(1px 1px 1px 1px);\n",
       "  clip: rect(1px, 1px, 1px, 1px);\n",
       "  height: 1px;\n",
       "  margin: -1px;\n",
       "  overflow: hidden;\n",
       "  padding: 0;\n",
       "  position: absolute;\n",
       "  width: 1px;\n",
       "}\n",
       "\n",
       "#sk-container-id-3 div.sk-dashed-wrapped {\n",
       "  border: 1px dashed var(--sklearn-color-line);\n",
       "  margin: 0 0.4em 0.5em 0.4em;\n",
       "  box-sizing: border-box;\n",
       "  padding-bottom: 0.4em;\n",
       "  background-color: var(--sklearn-color-background);\n",
       "}\n",
       "\n",
       "#sk-container-id-3 div.sk-container {\n",
       "  /* jupyter's `normalize.less` sets `[hidden] { display: none; }`\n",
       "     but bootstrap.min.css set `[hidden] { display: none !important; }`\n",
       "     so we also need the `!important` here to be able to override the\n",
       "     default hidden behavior on the sphinx rendered scikit-learn.org.\n",
       "     See: https://github.com/scikit-learn/scikit-learn/issues/21755 */\n",
       "  display: inline-block !important;\n",
       "  position: relative;\n",
       "}\n",
       "\n",
       "#sk-container-id-3 div.sk-text-repr-fallback {\n",
       "  display: none;\n",
       "}\n",
       "\n",
       "div.sk-parallel-item,\n",
       "div.sk-serial,\n",
       "div.sk-item {\n",
       "  /* draw centered vertical line to link estimators */\n",
       "  background-image: linear-gradient(var(--sklearn-color-text-on-default-background), var(--sklearn-color-text-on-default-background));\n",
       "  background-size: 2px 100%;\n",
       "  background-repeat: no-repeat;\n",
       "  background-position: center center;\n",
       "}\n",
       "\n",
       "/* Parallel-specific style estimator block */\n",
       "\n",
       "#sk-container-id-3 div.sk-parallel-item::after {\n",
       "  content: \"\";\n",
       "  width: 100%;\n",
       "  border-bottom: 2px solid var(--sklearn-color-text-on-default-background);\n",
       "  flex-grow: 1;\n",
       "}\n",
       "\n",
       "#sk-container-id-3 div.sk-parallel {\n",
       "  display: flex;\n",
       "  align-items: stretch;\n",
       "  justify-content: center;\n",
       "  background-color: var(--sklearn-color-background);\n",
       "  position: relative;\n",
       "}\n",
       "\n",
       "#sk-container-id-3 div.sk-parallel-item {\n",
       "  display: flex;\n",
       "  flex-direction: column;\n",
       "}\n",
       "\n",
       "#sk-container-id-3 div.sk-parallel-item:first-child::after {\n",
       "  align-self: flex-end;\n",
       "  width: 50%;\n",
       "}\n",
       "\n",
       "#sk-container-id-3 div.sk-parallel-item:last-child::after {\n",
       "  align-self: flex-start;\n",
       "  width: 50%;\n",
       "}\n",
       "\n",
       "#sk-container-id-3 div.sk-parallel-item:only-child::after {\n",
       "  width: 0;\n",
       "}\n",
       "\n",
       "/* Serial-specific style estimator block */\n",
       "\n",
       "#sk-container-id-3 div.sk-serial {\n",
       "  display: flex;\n",
       "  flex-direction: column;\n",
       "  align-items: center;\n",
       "  background-color: var(--sklearn-color-background);\n",
       "  padding-right: 1em;\n",
       "  padding-left: 1em;\n",
       "}\n",
       "\n",
       "\n",
       "/* Toggleable style: style used for estimator/Pipeline/ColumnTransformer box that is\n",
       "clickable and can be expanded/collapsed.\n",
       "- Pipeline and ColumnTransformer use this feature and define the default style\n",
       "- Estimators will overwrite some part of the style using the `sk-estimator` class\n",
       "*/\n",
       "\n",
       "/* Pipeline and ColumnTransformer style (default) */\n",
       "\n",
       "#sk-container-id-3 div.sk-toggleable {\n",
       "  /* Default theme specific background. It is overwritten whether we have a\n",
       "  specific estimator or a Pipeline/ColumnTransformer */\n",
       "  background-color: var(--sklearn-color-background);\n",
       "}\n",
       "\n",
       "/* Toggleable label */\n",
       "#sk-container-id-3 label.sk-toggleable__label {\n",
       "  cursor: pointer;\n",
       "  display: block;\n",
       "  width: 100%;\n",
       "  margin-bottom: 0;\n",
       "  padding: 0.5em;\n",
       "  box-sizing: border-box;\n",
       "  text-align: center;\n",
       "}\n",
       "\n",
       "#sk-container-id-3 label.sk-toggleable__label-arrow:before {\n",
       "  /* Arrow on the left of the label */\n",
       "  content: \"▸\";\n",
       "  float: left;\n",
       "  margin-right: 0.25em;\n",
       "  color: var(--sklearn-color-icon);\n",
       "}\n",
       "\n",
       "#sk-container-id-3 label.sk-toggleable__label-arrow:hover:before {\n",
       "  color: var(--sklearn-color-text);\n",
       "}\n",
       "\n",
       "/* Toggleable content - dropdown */\n",
       "\n",
       "#sk-container-id-3 div.sk-toggleable__content {\n",
       "  max-height: 0;\n",
       "  max-width: 0;\n",
       "  overflow: hidden;\n",
       "  text-align: left;\n",
       "  /* unfitted */\n",
       "  background-color: var(--sklearn-color-unfitted-level-0);\n",
       "}\n",
       "\n",
       "#sk-container-id-3 div.sk-toggleable__content.fitted {\n",
       "  /* fitted */\n",
       "  background-color: var(--sklearn-color-fitted-level-0);\n",
       "}\n",
       "\n",
       "#sk-container-id-3 div.sk-toggleable__content pre {\n",
       "  margin: 0.2em;\n",
       "  border-radius: 0.25em;\n",
       "  color: var(--sklearn-color-text);\n",
       "  /* unfitted */\n",
       "  background-color: var(--sklearn-color-unfitted-level-0);\n",
       "}\n",
       "\n",
       "#sk-container-id-3 div.sk-toggleable__content.fitted pre {\n",
       "  /* unfitted */\n",
       "  background-color: var(--sklearn-color-fitted-level-0);\n",
       "}\n",
       "\n",
       "#sk-container-id-3 input.sk-toggleable__control:checked~div.sk-toggleable__content {\n",
       "  /* Expand drop-down */\n",
       "  max-height: 200px;\n",
       "  max-width: 100%;\n",
       "  overflow: auto;\n",
       "}\n",
       "\n",
       "#sk-container-id-3 input.sk-toggleable__control:checked~label.sk-toggleable__label-arrow:before {\n",
       "  content: \"▾\";\n",
       "}\n",
       "\n",
       "/* Pipeline/ColumnTransformer-specific style */\n",
       "\n",
       "#sk-container-id-3 div.sk-label input.sk-toggleable__control:checked~label.sk-toggleable__label {\n",
       "  color: var(--sklearn-color-text);\n",
       "  background-color: var(--sklearn-color-unfitted-level-2);\n",
       "}\n",
       "\n",
       "#sk-container-id-3 div.sk-label.fitted input.sk-toggleable__control:checked~label.sk-toggleable__label {\n",
       "  background-color: var(--sklearn-color-fitted-level-2);\n",
       "}\n",
       "\n",
       "/* Estimator-specific style */\n",
       "\n",
       "/* Colorize estimator box */\n",
       "#sk-container-id-3 div.sk-estimator input.sk-toggleable__control:checked~label.sk-toggleable__label {\n",
       "  /* unfitted */\n",
       "  background-color: var(--sklearn-color-unfitted-level-2);\n",
       "}\n",
       "\n",
       "#sk-container-id-3 div.sk-estimator.fitted input.sk-toggleable__control:checked~label.sk-toggleable__label {\n",
       "  /* fitted */\n",
       "  background-color: var(--sklearn-color-fitted-level-2);\n",
       "}\n",
       "\n",
       "#sk-container-id-3 div.sk-label label.sk-toggleable__label,\n",
       "#sk-container-id-3 div.sk-label label {\n",
       "  /* The background is the default theme color */\n",
       "  color: var(--sklearn-color-text-on-default-background);\n",
       "}\n",
       "\n",
       "/* On hover, darken the color of the background */\n",
       "#sk-container-id-3 div.sk-label:hover label.sk-toggleable__label {\n",
       "  color: var(--sklearn-color-text);\n",
       "  background-color: var(--sklearn-color-unfitted-level-2);\n",
       "}\n",
       "\n",
       "/* Label box, darken color on hover, fitted */\n",
       "#sk-container-id-3 div.sk-label.fitted:hover label.sk-toggleable__label.fitted {\n",
       "  color: var(--sklearn-color-text);\n",
       "  background-color: var(--sklearn-color-fitted-level-2);\n",
       "}\n",
       "\n",
       "/* Estimator label */\n",
       "\n",
       "#sk-container-id-3 div.sk-label label {\n",
       "  font-family: monospace;\n",
       "  font-weight: bold;\n",
       "  display: inline-block;\n",
       "  line-height: 1.2em;\n",
       "}\n",
       "\n",
       "#sk-container-id-3 div.sk-label-container {\n",
       "  text-align: center;\n",
       "}\n",
       "\n",
       "/* Estimator-specific */\n",
       "#sk-container-id-3 div.sk-estimator {\n",
       "  font-family: monospace;\n",
       "  border: 1px dotted var(--sklearn-color-border-box);\n",
       "  border-radius: 0.25em;\n",
       "  box-sizing: border-box;\n",
       "  margin-bottom: 0.5em;\n",
       "  /* unfitted */\n",
       "  background-color: var(--sklearn-color-unfitted-level-0);\n",
       "}\n",
       "\n",
       "#sk-container-id-3 div.sk-estimator.fitted {\n",
       "  /* fitted */\n",
       "  background-color: var(--sklearn-color-fitted-level-0);\n",
       "}\n",
       "\n",
       "/* on hover */\n",
       "#sk-container-id-3 div.sk-estimator:hover {\n",
       "  /* unfitted */\n",
       "  background-color: var(--sklearn-color-unfitted-level-2);\n",
       "}\n",
       "\n",
       "#sk-container-id-3 div.sk-estimator.fitted:hover {\n",
       "  /* fitted */\n",
       "  background-color: var(--sklearn-color-fitted-level-2);\n",
       "}\n",
       "\n",
       "/* Specification for estimator info (e.g. \"i\" and \"?\") */\n",
       "\n",
       "/* Common style for \"i\" and \"?\" */\n",
       "\n",
       ".sk-estimator-doc-link,\n",
       "a:link.sk-estimator-doc-link,\n",
       "a:visited.sk-estimator-doc-link {\n",
       "  float: right;\n",
       "  font-size: smaller;\n",
       "  line-height: 1em;\n",
       "  font-family: monospace;\n",
       "  background-color: var(--sklearn-color-background);\n",
       "  border-radius: 1em;\n",
       "  height: 1em;\n",
       "  width: 1em;\n",
       "  text-decoration: none !important;\n",
       "  margin-left: 1ex;\n",
       "  /* unfitted */\n",
       "  border: var(--sklearn-color-unfitted-level-1) 1pt solid;\n",
       "  color: var(--sklearn-color-unfitted-level-1);\n",
       "}\n",
       "\n",
       ".sk-estimator-doc-link.fitted,\n",
       "a:link.sk-estimator-doc-link.fitted,\n",
       "a:visited.sk-estimator-doc-link.fitted {\n",
       "  /* fitted */\n",
       "  border: var(--sklearn-color-fitted-level-1) 1pt solid;\n",
       "  color: var(--sklearn-color-fitted-level-1);\n",
       "}\n",
       "\n",
       "/* On hover */\n",
       "div.sk-estimator:hover .sk-estimator-doc-link:hover,\n",
       ".sk-estimator-doc-link:hover,\n",
       "div.sk-label-container:hover .sk-estimator-doc-link:hover,\n",
       ".sk-estimator-doc-link:hover {\n",
       "  /* unfitted */\n",
       "  background-color: var(--sklearn-color-unfitted-level-3);\n",
       "  color: var(--sklearn-color-background);\n",
       "  text-decoration: none;\n",
       "}\n",
       "\n",
       "div.sk-estimator.fitted:hover .sk-estimator-doc-link.fitted:hover,\n",
       ".sk-estimator-doc-link.fitted:hover,\n",
       "div.sk-label-container:hover .sk-estimator-doc-link.fitted:hover,\n",
       ".sk-estimator-doc-link.fitted:hover {\n",
       "  /* fitted */\n",
       "  background-color: var(--sklearn-color-fitted-level-3);\n",
       "  color: var(--sklearn-color-background);\n",
       "  text-decoration: none;\n",
       "}\n",
       "\n",
       "/* Span, style for the box shown on hovering the info icon */\n",
       ".sk-estimator-doc-link span {\n",
       "  display: none;\n",
       "  z-index: 9999;\n",
       "  position: relative;\n",
       "  font-weight: normal;\n",
       "  right: .2ex;\n",
       "  padding: .5ex;\n",
       "  margin: .5ex;\n",
       "  width: min-content;\n",
       "  min-width: 20ex;\n",
       "  max-width: 50ex;\n",
       "  color: var(--sklearn-color-text);\n",
       "  box-shadow: 2pt 2pt 4pt #999;\n",
       "  /* unfitted */\n",
       "  background: var(--sklearn-color-unfitted-level-0);\n",
       "  border: .5pt solid var(--sklearn-color-unfitted-level-3);\n",
       "}\n",
       "\n",
       ".sk-estimator-doc-link.fitted span {\n",
       "  /* fitted */\n",
       "  background: var(--sklearn-color-fitted-level-0);\n",
       "  border: var(--sklearn-color-fitted-level-3);\n",
       "}\n",
       "\n",
       ".sk-estimator-doc-link:hover span {\n",
       "  display: block;\n",
       "}\n",
       "\n",
       "/* \"?\"-specific style due to the `<a>` HTML tag */\n",
       "\n",
       "#sk-container-id-3 a.estimator_doc_link {\n",
       "  float: right;\n",
       "  font-size: 1rem;\n",
       "  line-height: 1em;\n",
       "  font-family: monospace;\n",
       "  background-color: var(--sklearn-color-background);\n",
       "  border-radius: 1rem;\n",
       "  height: 1rem;\n",
       "  width: 1rem;\n",
       "  text-decoration: none;\n",
       "  /* unfitted */\n",
       "  color: var(--sklearn-color-unfitted-level-1);\n",
       "  border: var(--sklearn-color-unfitted-level-1) 1pt solid;\n",
       "}\n",
       "\n",
       "#sk-container-id-3 a.estimator_doc_link.fitted {\n",
       "  /* fitted */\n",
       "  border: var(--sklearn-color-fitted-level-1) 1pt solid;\n",
       "  color: var(--sklearn-color-fitted-level-1);\n",
       "}\n",
       "\n",
       "/* On hover */\n",
       "#sk-container-id-3 a.estimator_doc_link:hover {\n",
       "  /* unfitted */\n",
       "  background-color: var(--sklearn-color-unfitted-level-3);\n",
       "  color: var(--sklearn-color-background);\n",
       "  text-decoration: none;\n",
       "}\n",
       "\n",
       "#sk-container-id-3 a.estimator_doc_link.fitted:hover {\n",
       "  /* fitted */\n",
       "  background-color: var(--sklearn-color-fitted-level-3);\n",
       "}\n",
       "</style><div id=\"sk-container-id-3\" class=\"sk-top-container\"><div class=\"sk-text-repr-fallback\"><pre>MLPRegressor(alpha=0.001, batch_size=200, hidden_layer_sizes=(100, 50, 25),\n",
       "             max_iter=400, random_state=0)</pre><b>In a Jupyter environment, please rerun this cell to show the HTML representation or trust the notebook. <br />On GitHub, the HTML representation is unable to render, please try loading this page with nbviewer.org.</b></div><div class=\"sk-container\" hidden><div class=\"sk-item\"><div class=\"sk-estimator fitted sk-toggleable\"><input class=\"sk-toggleable__control sk-hidden--visually\" id=\"sk-estimator-id-5\" type=\"checkbox\" checked><label for=\"sk-estimator-id-5\" class=\"sk-toggleable__label fitted sk-toggleable__label-arrow fitted\">&nbsp;&nbsp;MLPRegressor<a class=\"sk-estimator-doc-link fitted\" rel=\"noreferrer\" target=\"_blank\" href=\"https://scikit-learn.org/1.4/modules/generated/sklearn.neural_network.MLPRegressor.html\">?<span>Documentation for MLPRegressor</span></a><span class=\"sk-estimator-doc-link fitted\">i<span>Fitted</span></span></label><div class=\"sk-toggleable__content fitted\"><pre>MLPRegressor(alpha=0.001, batch_size=200, hidden_layer_sizes=(100, 50, 25),\n",
       "             max_iter=400, random_state=0)</pre></div> </div></div></div></div>"
      ],
      "text/plain": [
       "MLPRegressor(alpha=0.001, batch_size=200, hidden_layer_sizes=(100, 50, 25),\n",
       "             max_iter=400, random_state=0)"
      ]
     },
     "execution_count": 45,
     "metadata": {},
     "output_type": "execute_result"
    }
   ],
   "source": [
    "mlp.fit(X_train, y_train)"
   ]
  },
  {
   "cell_type": "markdown",
   "id": "d165c659-ebf4-427e-8616-0f75812f9962",
   "metadata": {},
   "source": [
    "## 9.3 Final model evaluation"
   ]
  },
  {
   "cell_type": "code",
   "execution_count": 46,
   "id": "b73793e1-72da-45ab-9bdf-1c608e3931cf",
   "metadata": {
    "tags": []
   },
   "outputs": [
    {
     "data": {
      "text/plain": [
       "0.10397146886439909"
      ]
     },
     "execution_count": 46,
     "metadata": {},
     "output_type": "execute_result"
    }
   ],
   "source": [
    "from sklearn.metrics import root_mean_squared_error\n",
    "root_mean_squared_error(y_test, mlp.predict(X_test))"
   ]
  },
  {
   "cell_type": "code",
   "execution_count": 47,
   "id": "965e4dc0-d6ef-495f-b48f-eb9a573f4599",
   "metadata": {},
   "outputs": [
    {
     "data": {
      "text/plain": [
       "0.1953708545918853"
      ]
     },
     "execution_count": 47,
     "metadata": {},
     "output_type": "execute_result"
    }
   ],
   "source": [
    "r2_score(y_test, mlp.predict(X_test))"
   ]
  },
  {
   "cell_type": "markdown",
   "id": "71f4173e-8236-4856-ac89-005e5ecb72fc",
   "metadata": {},
   "source": [
    "Our final model evaluation shows an RMSE of 0.1., which is slightly better than the 0.11 from our first attempt.\n",
    "\n",
    "**Now we have our final model and could use it to predict temperature values for new data.**\n",
    "\n",
    "Remember we held back the data for 2020? Lets perform some forecasting!\n"
   ]
  },
  {
   "cell_type": "markdown",
   "id": "ce26b73d-0330-4582-9bba-77c587848398",
   "metadata": {},
   "source": [
    "## 10. Use model for forecasting..."
   ]
  },
  {
   "cell_type": "code",
   "execution_count": 48,
   "id": "57e4da8a-9e40-482c-bec6-8ac0efe5c33a",
   "metadata": {},
   "outputs": [
    {
     "name": "stdout",
     "output_type": "stream",
     "text": [
      "Results on the validation forecasting set:\n",
      "0.3307840118306188\n"
     ]
    }
   ],
   "source": [
    "\n",
    "X_val, y_val = val_data.drop(columns=[\"pegelstand\"]), val_data[\"pegelstand\"]\n",
    "\n",
    "## dont forget the min-max scaling of our inputs!\n",
    "transform_cols = [\"prec_sum\", \"temp_mean\"]\n",
    "X_val[transform_cols] = (X_val[transform_cols] - X_val[transform_cols].min() + 1) / (X_val[transform_cols].max() - X_val[transform_cols].min() + 2)\n",
    "y_val = (y_val - y_val.min() + 1) / (y_val.max() - y_val.min() + 2)\n",
    "\n",
    "\n",
    "\n",
    "y_val_pred = mlp.predict(X_val)\n",
    "\n",
    "print('Results on the validation forecasting set:')\n",
    "print(r2_score(y_val, y_val_pred))"
   ]
  },
  {
   "cell_type": "code",
   "execution_count": 49,
   "id": "8bb7520a-617f-4a15-9383-ae76923c4e4f",
   "metadata": {},
   "outputs": [
    {
     "data": {
      "image/png": "[encoded data removed]",
      "text/plain": [
       "<Figure size 1000x700 with 1 Axes>"
      ]
     },
     "metadata": {},
     "output_type": "display_data"
    }
   ],
   "source": [
    "fig, ax = plt.subplots(nrows=1, ncols=1, figsize = (10,7))\n",
    "\n",
    "plt.plot(y_val.sort_index())\n",
    "plt.plot(y_val.index, y_val_pred)\n",
    "plt.show()"
   ]
  },
  {
   "cell_type": "code",
   "execution_count": 50,
   "id": "68bdf05e-583c-44c0-bb69-66b692819d4e",
   "metadata": {},
   "outputs": [
    {
     "data": {
      "image/png": "[encoded data removed]",
      "text/plain": [
       "<Figure size 1000x700 with 1 Axes>"
      ]
     },
     "metadata": {},
     "output_type": "display_data"
    }
   ],
   "source": [
    "fig, ax = plt.subplots(nrows=1, ncols=1, figsize = (10,7))\n",
    "\n",
    "plt.plot(y_train.sort_index())\n",
    "plt.plot(y_val.index, y_val_pred)\n",
    "plt.show()"
   ]
  },
  {
   "cell_type": "code",
   "execution_count": null,
   "id": "643684cb-a0ab-4413-90cd-18741b250c89",
   "metadata": {},
   "outputs": [],
   "source": []
  },
  {
   "cell_type": "code",
   "execution_count": 51,
   "id": "99e2fb2b-359e-4f77-9071-2cbe63e8bcc8",
   "metadata": {
    "tags": []
   },
   "outputs": [
    {
     "data": {
      "text/html": [
       "<hr>\r\n",
       "<p><strong>Citation</strong></p>\r\n",
       "<p>The E-Learning project SOGA-Py was developed at the Department of Earth Sciences by Annette Rudolph, Joachim Krois and Kai Hartmann. You can reach us via mail by <a href=\"mailto:soga@zedat.fu-berlin.de\">soga[at]zedat.fu-berlin.de</a>.</p>\r\n",
       "<a rel=\"license\" href=\"http://creativecommons.org/licenses/by-sa/4.0/\"><img alt=\"Creative Commons License\" style=\"border-width:0\" src=\"https://i.creativecommons.org/l/by-sa/4.0/88x31.png\" /></a><br />You may use this project freely under the <a rel=\"license\" href=\"http://creativecommons.org/licenses/by-sa/4.0/\">Creative Commons Attribution-ShareAlike 4.0 International License</a>.\r\n",
       "<p>Please cite as follow: <em>Rudolph, A., Krois, J., Hartmann, K. (2023): Statistics and Geodata Analysis \r\n",
       "using Python (<a target=\"_blank\" href=\"https://www.geo.fu-berlin.de/soga-py\">SOGA-Py</a>). Department of Earth Sciences, Freie Universitaet Berlin.</em></p></p>\r\n",
       "\r\n",
       "<!-- JS resizer -->\r\n",
       "<script type=\"text/javascript\" src=\"https://medien.cedis.fu-berlin.de/services/cms-assets/iframeResizer/iframeResizer.js\">\r\n",
       "</script>"
      ],
      "text/plain": [
       "<IPython.core.display.HTML object>"
      ]
     },
     "metadata": {},
     "output_type": "display_data"
    }
   ],
   "source": [
    "import urllib.request\n",
    "\n",
    "fp = urllib.request.urlopen(\"https://userpage.fu-berlin.de/soga/soga-py/citation/citation_py.html\")\n",
    "mybytes = fp.read()\n",
    "\n",
    "citation = mybytes.decode(\"utf8\")\n",
    "fp.close()\n",
    "\n",
    "from IPython.display import display, HTML\n",
    "display(HTML(citation))"
   ]
  },
  {
   "cell_type": "code",
   "execution_count": null,
   "id": "1b960f4b-8adb-4f67-9917-0a0bba7a88bf",
   "metadata": {},
   "outputs": [],
   "source": []
  }
 ],
 "metadata": {
  "kernelspec": {
   "display_name": "Python 3 (ipykernel)",
   "language": "python",
   "name": "python3"
  },
  "language_info": {
   "codemirror_mode": {
    "name": "ipython",
    "version": 3
   },
   "file_extension": ".py",
   "mimetype": "text/x-python",
   "name": "python",
   "nbconvert_exporter": "python",
   "pygments_lexer": "ipython3",
   "version": "3.12.2"
  }
 },
 "nbformat": 4,
 "nbformat_minor": 5
}
