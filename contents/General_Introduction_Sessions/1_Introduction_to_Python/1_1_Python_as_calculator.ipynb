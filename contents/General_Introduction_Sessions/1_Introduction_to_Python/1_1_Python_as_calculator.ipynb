{
 "cells": [
  {
   "cell_type": "code",
   "execution_count": 1,
   "id": "34983b61-fe81-41f1-a541-b91c9d0fc140",
   "metadata": {
    "editable": true,
    "slideshow": {
     "slide_type": ""
    },
    "tags": [
     "remove-cell"
    ]
   },
   "outputs": [],
   "source": [
    "%load_ext lab_black"
   ]
  },
  {
   "cell_type": "markdown",
   "id": "4cd73f84-78f0-486d-bb06-821357aea4cc",
   "metadata": {
    "editable": true,
    "slideshow": {
     "slide_type": ""
    },
    "tags": [
     "hide_input"
    ]
   },
   "source": [
    "# Introduction to Python \n",
    "\n",
    "As a starting point an introduction to the most important programming concepts, data types and control flow structures in Python is provided. This sections are for all users that are either completely new to programming languages at all or being new to Python. The intention is to give you as newbie a good start through this tutorial. If you are comfortable with writing code in general or if you are already experienced in coding with Python, please feel free to skip these introductory chapters.\n",
    "\n",
    "> **Note:** Although this general introduction to Python will explain the most essential key concepts, it is not possible to discuss all concepts on a deeper level. Please feel free to also have a look on Python books for those purposes.   \n",
    "\n",
    "Although Python is a powerful programming language, we want to keep things as simple as possible at the beginning. Therefore we will learn the fundamentals by using Python as a calculator. You could either use the command line directly, an editor or one of the IDEs, that were introduced in the previous chapters to follow up. We strongly recommend to hack in the following commands and code snippets at your own. It also strengthens your skills to solve the provided exercises. If you decide to use Jupyterlab as your IDE of choice, please feel free to download this notebook or create an new notebook at your own.\n",
    "\n",
    "## Using Python as calculator\n",
    "\n",
    "### Basic mathematic operators\n",
    "\n",
    "> **Note:** Lines that starts with `#` are interpreted as comments by the programmer for himself or other programmers. These lines will not be executed by Python   "
   ]
  },
  {
   "cell_type": "code",
   "execution_count": null,
   "id": "cf0cd3f6-2c4e-4b71-9fbc-cfecde19fa2c",
   "metadata": {},
   "outputs": [],
   "source": []
  },
  {
   "cell_type": "code",
   "execution_count": 2,
   "id": "4dd59755-7f9d-417f-b8a1-3bbad204b6ed",
   "metadata": {},
   "outputs": [],
   "source": [
    "# this line is a comment. Use the # to mark lines that should not be executed and ignored"
   ]
  },
  {
   "cell_type": "markdown",
   "id": "c6c6a7b2-29cd-44b1-9e49-5fe15288a71c",
   "metadata": {},
   "source": [
    "The calculation of any type of arithmetic computation in Python is done by the help of the common operators. Python does the calculation and prints the result after you typed your command and execute it over `strg` + `enter` (if you use Jupyter Lab): "
   ]
  },
  {
   "cell_type": "code",
   "execution_count": 3,
   "id": "7cccffa5-b675-46f4-9945-f90ad7eff685",
   "metadata": {},
   "outputs": [
    {
     "data": {
      "text/plain": [
       "103"
      ]
     },
     "execution_count": 3,
     "metadata": {},
     "output_type": "execute_result"
    }
   ],
   "source": [
    "100 + 3"
   ]
  },
  {
   "cell_type": "code",
   "execution_count": 4,
   "id": "1af9a12f-2a92-4394-bff1-a12430c14dc2",
   "metadata": {},
   "outputs": [
    {
     "data": {
      "text/plain": [
       "25"
      ]
     },
     "execution_count": 4,
     "metadata": {},
     "output_type": "execute_result"
    }
   ],
   "source": [
    "50 - 25"
   ]
  },
  {
   "cell_type": "code",
   "execution_count": 5,
   "id": "4caf3067-a67c-4b8e-9ac7-21410c460fd2",
   "metadata": {},
   "outputs": [
    {
     "data": {
      "text/plain": [
       "6.5"
      ]
     },
     "execution_count": 5,
     "metadata": {},
     "output_type": "execute_result"
    }
   ],
   "source": [
    "13 / 2"
   ]
  },
  {
   "cell_type": "markdown",
   "id": "d08bffc5-aa63-4808-a305-43bda620ee7b",
   "metadata": {},
   "source": [
    "> **Note:** Mathematical operations are interpreted and executed in a specific order. If you want to combine multiple operations at once you should keep the [operators precedence](https://en.wikipedia.org/wiki/Order_of_operations) in mind to avoid unexpected behaviour or results."
   ]
  },
  {
   "cell_type": "markdown",
   "id": "422f2fab-ecba-4ca7-bb30-b43f85d634bb",
   "metadata": {},
   "source": [
    "For instance"
   ]
  },
  {
   "cell_type": "code",
   "execution_count": 6,
   "id": "4e9c31b5-3ae5-43c7-b8c1-46686ff11b90",
   "metadata": {},
   "outputs": [
    {
     "data": {
      "text/plain": [
       "16"
      ]
     },
     "execution_count": 6,
     "metadata": {},
     "output_type": "execute_result"
    }
   ],
   "source": [
    "10 + 3 * 2"
   ]
  },
  {
   "cell_type": "markdown",
   "id": "d48a8c0a-229d-4206-acbd-c912610bd287",
   "metadata": {},
   "source": [
    "is not the same as:"
   ]
  },
  {
   "cell_type": "code",
   "execution_count": 7,
   "id": "69340b7e-2756-4f5e-8e00-8a686ae9d129",
   "metadata": {},
   "outputs": [
    {
     "data": {
      "text/plain": [
       "26"
      ]
     },
     "execution_count": 7,
     "metadata": {},
     "output_type": "execute_result"
    }
   ],
   "source": [
    "(10 + 3) * 2"
   ]
  },
  {
   "cell_type": "markdown",
   "id": "0045d7a1-7530-4e92-95ed-784e0c4b2bb2",
   "metadata": {},
   "source": [
    "Brackets give you control about which operator is intended to be executed at first."
   ]
  },
  {
   "cell_type": "markdown",
   "id": "ee16b33d-e194-4515-a822-d474c85a2a07",
   "metadata": {},
   "source": [
    "> **Exercise:** Make use of the basic mathematical operations to calculate the point of intersect with the x-axis of the following linear function in Python: $f(x) = \\frac{4}{7}x + 5$"
   ]
  },
  {
   "cell_type": "code",
   "execution_count": 8,
   "id": "ebb3b6f6-5f43-41ea-96c4-abb5645aef86",
   "metadata": {},
   "outputs": [],
   "source": [
    "### your solution"
   ]
  },
  {
   "cell_type": "code",
   "execution_count": null,
   "id": "6cd559a5-0da5-4bb9-98f1-0d8a86de5226",
   "metadata": {
    "tags": [
     "hide_input"
    ]
   },
   "outputs": [],
   "source": []
  },
  {
   "cell_type": "markdown",
   "id": "cd3d1432-84d1-4ec1-8460-f269f53f663b",
   "metadata": {},
   "source": [
    "If you want to store a result of a calculation (e.g. for later usage), you can assign this result with a unique name over the `=` operator. To retrieve this value again, just use the assigned name. For instance:"
   ]
  },
  {
   "cell_type": "code",
   "execution_count": 9,
   "id": "41c798e9-e0e8-49d5-b5ad-6a91a0bb1d89",
   "metadata": {},
   "outputs": [],
   "source": [
    "result = 8 + 5"
   ]
  },
  {
   "cell_type": "code",
   "execution_count": 10,
   "id": "ea18af49-9d7c-4bec-9738-9570995fc114",
   "metadata": {},
   "outputs": [
    {
     "data": {
      "text/plain": [
       "13"
      ]
     },
     "execution_count": 10,
     "metadata": {},
     "output_type": "execute_result"
    }
   ],
   "source": [
    "result"
   ]
  },
  {
   "cell_type": "markdown",
   "id": "c99a9aa7-098c-4932-8db1-eb6724504118",
   "metadata": {},
   "source": [
    "> **Note:** This process is referred to the term of variable assigment. It is also possible to store single values as variables (names). It is a good practice to store important and frequently used values in an own variable and use theses variables over your script, also from a coding maintenance perspective. Let us assume you wrote a script with 100 Lines of Code. In this script you make use of one value over and over again (e.g. 20 times). After some time you realise this value was wrong or you need to change it. By use of variable assigment this task takes you just a second because you only have to change the assigment itself. Otherwise you would have to change and identify these 20 position in your manually, also with the risk to forget one place. "
   ]
  },
  {
   "cell_type": "markdown",
   "id": "d6cb8da7-673f-4d0f-b402-52f6ea4f9a9d",
   "metadata": {},
   "source": [
    "You also have the possibility to multiply and exponentiate values easily by the `*` and the `**` operator:"
   ]
  },
  {
   "cell_type": "code",
   "execution_count": 11,
   "id": "05347959-73ed-48f5-a527-72c860814280",
   "metadata": {},
   "outputs": [
    {
     "data": {
      "text/plain": [
       "10"
      ]
     },
     "execution_count": 11,
     "metadata": {},
     "output_type": "execute_result"
    }
   ],
   "source": [
    "2 * 5"
   ]
  },
  {
   "cell_type": "code",
   "execution_count": 12,
   "id": "332f9200-3d6c-47bc-b197-d49508ab8fc2",
   "metadata": {},
   "outputs": [
    {
     "data": {
      "text/plain": [
       "32"
      ]
     },
     "execution_count": 12,
     "metadata": {},
     "output_type": "execute_result"
    }
   ],
   "source": [
    "2**5"
   ]
  },
  {
   "cell_type": "markdown",
   "id": "0d865c67-bd8e-4341-844b-d239898b7337",
   "metadata": {},
   "source": [
    "As you can see above the `**` operator has the meaning of $2^5$.\n",
    "A complete Listing of all Python operators is provided [here](https://www.w3schools.com/python/python_operators.asp). Most of these operators will also be introduced over this tutorial. So please do not hesitate if you do not understand every operator directly.\n",
    "\n",
    "> **Exercise:** Calculate 5*287, and assign the result a name "
   ]
  },
  {
   "cell_type": "code",
   "execution_count": 13,
   "id": "11132865-0e04-48f7-a281-90f9df6bed29",
   "metadata": {},
   "outputs": [],
   "source": [
    "### your solution"
   ]
  },
  {
   "cell_type": "code",
   "execution_count": null,
   "id": "c089e25d-0589-4e0a-b4ed-36dab62c25f5",
   "metadata": {},
   "outputs": [],
   "source": []
  },
  {
   "cell_type": "markdown",
   "id": "3d846846-d5d4-4a09-b6f3-a4e72594d3d2",
   "metadata": {
    "editable": true,
    "slideshow": {
     "slide_type": ""
    },
    "tags": []
   },
   "source": [
    "## Operators for character chains (strings)\n",
    "\n",
    "Besides these operators that are reserved for calculations with numbers there are also some operators that work on characters or in general on chains of characters (words). To differentiate between numbers and word you have to use either `\"\"` or `''`. If you want to store a word in a variable you will have to put this word in quotation marks to indicate Python that this is not a number but a word:"
   ]
  },
  {
   "cell_type": "code",
   "execution_count": 14,
   "id": "00744b13-3378-41e5-aac9-95957691e34a",
   "metadata": {},
   "outputs": [],
   "source": [
    "a_word = \"Hello\""
   ]
  },
  {
   "cell_type": "markdown",
   "id": "b39ce358-6785-4680-81a0-8a78dc06427b",
   "metadata": {},
   "source": [
    "You can also store a whole sentence or a paragraph in a variable:"
   ]
  },
  {
   "cell_type": "code",
   "execution_count": 15,
   "id": "a1e7c4fa-aa07-44c4-838c-aa9bb0b49881",
   "metadata": {},
   "outputs": [],
   "source": [
    "a_sentence = \"Hello, you are reading an introductory chapter to the use of operators in Python. I hope you enjoy your journey!\""
   ]
  },
  {
   "cell_type": "markdown",
   "id": "d7ce7ce9-b35d-40fe-8b02-7d5d5d4d227e",
   "metadata": {},
   "source": [
    "There are only a few operators that support characters or words. You can use the `+` operator to join two words with one another:"
   ]
  },
  {
   "cell_type": "code",
   "execution_count": 16,
   "id": "14042db9-9514-45ee-803f-94941b9aab66",
   "metadata": {},
   "outputs": [
    {
     "data": {
      "text/plain": [
       "'Hello world'"
      ]
     },
     "execution_count": 16,
     "metadata": {},
     "output_type": "execute_result"
    }
   ],
   "source": [
    "a_word + \" world\""
   ]
  },
  {
   "cell_type": "markdown",
   "id": "97f11b92-b7b6-4d72-ba5c-94e7437c9d62",
   "metadata": {},
   "source": [
    "The `*` operator is also defined for words. It repeats the word x times:"
   ]
  },
  {
   "cell_type": "code",
   "execution_count": 17,
   "id": "010f8d40-401a-4fae-9686-9b10243f2001",
   "metadata": {},
   "outputs": [
    {
     "data": {
      "text/plain": [
       "'HelloHelloHelloHello'"
      ]
     },
     "execution_count": 17,
     "metadata": {},
     "output_type": "execute_result"
    }
   ],
   "source": [
    "a_word * 4"
   ]
  },
  {
   "cell_type": "markdown",
   "id": "ccd5115c-ba36-4f77-aea4-f736a8110ef5",
   "metadata": {},
   "source": [
    "Besides these basic operators with limited functions on words and texts Python has a wide range of functionalities for manipulating and gather information out of texts. To make use of this power, we will have to learn more about functions and datatypes at first. "
   ]
  },
  {
   "cell_type": "code",
   "execution_count": 3,
   "id": "6b407911-f5e4-4ccb-91f4-d4f6142790c8",
   "metadata": {
    "editable": true,
    "slideshow": {
     "slide_type": ""
    },
    "tags": [
     "remove-input"
    ]
   },
   "outputs": [
    {
     "data": {
      "text/html": [
       "\n",
       "        <iframe\n",
       "            width=\"900\"\n",
       "            height=\"200\"\n",
       "            src=\"../../citations/citation_Soga.html\"\n",
       "            frameborder=\"0\"\n",
       "            allowfullscreen\n",
       "            \n",
       "        ></iframe>\n",
       "        "
      ],
      "text/plain": [
       "<IPython.lib.display.IFrame at 0x103c654c0>"
      ]
     },
     "execution_count": 3,
     "metadata": {},
     "output_type": "execute_result"
    }
   ],
   "source": [
    "from IPython.display import IFrame\n",
    "\n",
    "IFrame(\n",
    "    src=\"../../citations/citation_Soga.html\",\n",
    "    width=900,\n",
    "    height=200,\n",
    ")"
   ]
  },
  {
   "cell_type": "code",
   "execution_count": null,
   "id": "1af76a46-7e69-45f6-8b97-1418ea9a4629",
   "metadata": {
    "editable": true,
    "slideshow": {
     "slide_type": ""
    },
    "tags": []
   },
   "outputs": [],
   "source": []
  }
 ],
 "metadata": {
  "kernelspec": {
   "display_name": "Python 3 (ipykernel)",
   "language": "python",
   "name": "python3"
  },
  "language_info": {
   "codemirror_mode": {
    "name": "ipython",
    "version": 3
   },
   "file_extension": ".py",
   "mimetype": "text/x-python",
   "name": "python",
   "nbconvert_exporter": "python",
   "pygments_lexer": "ipython3",
   "version": "3.9.19"
  }
 },
 "nbformat": 4,
 "nbformat_minor": 5
}
