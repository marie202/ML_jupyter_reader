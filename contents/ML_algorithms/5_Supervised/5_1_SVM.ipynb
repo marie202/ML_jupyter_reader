{
 "cells": [
  {
   "cell_type": "code",
   "execution_count": null,
   "id": "df264760-a06d-459c-9dab-aa0e771b753d",
   "metadata": {
    "editable": true,
    "slideshow": {
     "slide_type": ""
    },
    "tags": [
     "remove-cell"
    ]
   },
   "outputs": [],
   "source": [
    "%load_ext lab_black"
   ]
  },
  {
   "cell_type": "markdown",
   "id": "53908066-5ed5-4988-8024-7554f6404f65",
   "metadata": {
    "editable": true,
    "slideshow": {
     "slide_type": ""
    },
    "tags": []
   },
   "source": [
    "## Support Vector Machines (SVM)\n",
    "\n",
    "<div>\n",
    "<img src=\"figures/SVM_margin.png\" width=\"400\"/>\n",
    "</div>\n",
    "\n",
    "(figure by [Wikipedia 2018](https://en.wikipedia.org/wiki/Support_vector_machine#/media/File:SVM_margin.png) )\n",
    "\n",
    "\n",
    "SVM classifies data by finding the best way to separate different groups of data in a multidimensional space. It finds the maximum margin between the closest data points of opposite groups, creating the optimal hyperplane. The number of features in the input data determines if the hyperplane is a line in a 2D space or a plane in an N-dimensional space. The SVM algorithm is used in machine learning because it can handle both linear and nonlinear classification tasks. However, when the data is not linearly separable, kernel functions are used to transform the data to enable linear separation. This is called the 'kernel trick'. The type of kernel used depends on the data and the task.\n",
    "\n",
    "**Support Vectors**\n",
    "\n",
    "Support vectors are the data points, which are closest to the hyperplane. These points will define the separating line better by calculating margins. These points are more relevant to the construction of the classifier.\n",
    "\n",
    "**Hyperplane**\n",
    "\n",
    "A hyperplane is a decision plane which separates between a set of objects having different class memberships.\n",
    "\n",
    "**Margin**\n",
    "\n",
    "A margin is a gap between the two lines on the closest class points. This is calculated as the perpendicular distance from the line to support vectors or closest points. If the margin is larger in between the classes, then it is considered a good margin, a smaller margin is a bad margin.\n",
    "\n",
    "**Let's get down to business**: Now you will learn about its implementation in Python using scikit-learn."
   ]
  },
  {
   "cell_type": "code",
   "execution_count": null,
   "id": "90bc72ee-9f82-4440-bae9-e65eae54ba57",
   "metadata": {
    "editable": true,
    "slideshow": {
     "slide_type": ""
    },
    "tags": []
   },
   "outputs": [],
   "source": [
    "# First, let's import all the needed libraries. \n",
    "\n",
    "import pandas as pd\n",
    "import seaborn as sns\n",
    "import matplotlib.pyplot as plt\n",
    "import numpy as np\n",
    "\n",
    "import warnings\n",
    "warnings.filterwarnings(\"ignore\", \"use_inf_as_na\")"
   ]
  },
  {
   "cell_type": "markdown",
   "id": "e98e7ea4-4369-490f-9ae6-2a2a005465a6",
   "metadata": {},
   "source": [
    "Data Cleaning and Processing\n",
    "\n",
    "The following library has been utilized for data processing:\n",
    "\n",
    "* pandas: It is an open-source Python module, having a wide scope of use in the field of computing, data analysis, statistics, etc. The following techniques have been implemented for Data Processing:\n",
    "* Data Type conversions\n",
    "* Label Encoding\n",
    "* Feature Scaling"
   ]
  },
  {
   "cell_type": "markdown",
   "id": "189ca16a-008f-4b4d-8e60-2bcd8fca6654",
   "metadata": {},
   "source": [
    "**Feature Scaling**\n",
    "\n",
    "Feature Scaling refers to the technique of converting the numeric data into a standard range to improvise the performance of algorithms. This is obtained by normalizing or standardizing the data values. One of the most common feature-scaling techniques is min-max scaling which will be implemented here.\n",
    "\n",
    "Min-max scaling is a feature scaling technique that involves the subtraction of the minimum value in the attribute with each observation and then dividing this by the range of the attribute.\n",
    "\n",
    "Here, attributes: ‘bright_t31’, ‘brightness’, and ‘frp’ undergo min-max scaling. The technique will result in the transformation of all these attributes into normalized numerical form in the range of 0 to 1."
   ]
  },
  {
   "cell_type": "code",
   "execution_count": 18,
   "id": "e9634ec5-fe9a-478d-bc8b-e517432cc79b",
   "metadata": {},
   "outputs": [],
   "source": [
    "def min_max(variable, xmin = None, xmax = None):\n",
    "    if (xmin != None) & (xmax == None):  ## no we are able to set xmin manually\n",
    "        xmax = variable.max()\n",
    "        min_max_done = (variable - xmin + 1) / (xmax - xmin + 2)\n",
    "        return xmin, xmax, min_max_done\n",
    "    elif (xmin != None) & (xmax != None):  ## no we are able to set xmin and xmax manually\n",
    "        min_max_done = (variable - xmin + 1) / (xmax - xmin + 2)\n",
    "        return xmin, xmax, min_max_done\n",
    "    else:\n",
    "        xmin, xmax = variable.min(), variable.max()\n",
    "        min_max_done = (variable - xmin + 1) / (xmax - xmin + 2)\n",
    "    return xmin, xmax, min_max_done"
   ]
  },
  {
   "cell_type": "markdown",
   "id": "dacd56e3-dc86-44cc-b9e2-4890ab6d6de1",
   "metadata": {},
   "source": [
    "#### Working Data Set example: Crop Recommendations\n",
    "\n",
    "For building the SVM model we will use the Crop Recommendation Dataset. our aim is to **Maximize agricultural yield by recommending appropriate crops**. You can find this example on [kaggle here](https://www.kaggle.com/code/atharvaingle/what-crop-to-grow#Support-Vector-Machine-(SVM)) and you can download the data from [kaggle here](https://www.kaggle.com/datasets/atharvaingle/crop-recommendation-dataset).\n",
    "\n",
    "**About the data set:**\n",
    "\n",
    "This dataset was build by augmenting datasets of rainfall, climate and fertilizer data available for India.\n",
    "\n",
    "**Data fields**\n",
    "\n",
    "* `N` - ratio of Nitrogen content in soil\n",
    "* `P` - ratio of Phosphorous content in soil\n",
    "* `K` - ratio of Potassium content in soil\n",
    "* `temperature` - temperature in degree Celsius\n",
    "* `humidity` - relative humidity in %\n",
    "* `ph` - ph value of the soil\n",
    "* `rainfall` - rainfall in mm"
   ]
  },
  {
   "cell_type": "code",
   "execution_count": 19,
   "id": "42b64c38-62e0-40df-b70e-ebac2f4fe783",
   "metadata": {},
   "outputs": [
    {
     "data": {
      "text/html": [
       "<div>\n",
       "<style scoped>\n",
       "    .dataframe tbody tr th:only-of-type {\n",
       "        vertical-align: middle;\n",
       "    }\n",
       "\n",
       "    .dataframe tbody tr th {\n",
       "        vertical-align: top;\n",
       "    }\n",
       "\n",
       "    .dataframe thead th {\n",
       "        text-align: right;\n",
       "    }\n",
       "</style>\n",
       "<table border=\"1\" class=\"dataframe\">\n",
       "  <thead>\n",
       "    <tr style=\"text-align: right;\">\n",
       "      <th></th>\n",
       "      <th>N</th>\n",
       "      <th>P</th>\n",
       "      <th>K</th>\n",
       "      <th>temperature</th>\n",
       "      <th>humidity</th>\n",
       "      <th>ph</th>\n",
       "      <th>rainfall</th>\n",
       "      <th>label</th>\n",
       "    </tr>\n",
       "  </thead>\n",
       "  <tbody>\n",
       "    <tr>\n",
       "      <th>0</th>\n",
       "      <td>90</td>\n",
       "      <td>42</td>\n",
       "      <td>43</td>\n",
       "      <td>20.879744</td>\n",
       "      <td>82.002744</td>\n",
       "      <td>6.502985</td>\n",
       "      <td>202.935536</td>\n",
       "      <td>rice</td>\n",
       "    </tr>\n",
       "    <tr>\n",
       "      <th>1</th>\n",
       "      <td>85</td>\n",
       "      <td>58</td>\n",
       "      <td>41</td>\n",
       "      <td>21.770462</td>\n",
       "      <td>80.319644</td>\n",
       "      <td>7.038096</td>\n",
       "      <td>226.655537</td>\n",
       "      <td>rice</td>\n",
       "    </tr>\n",
       "    <tr>\n",
       "      <th>2</th>\n",
       "      <td>60</td>\n",
       "      <td>55</td>\n",
       "      <td>44</td>\n",
       "      <td>23.004459</td>\n",
       "      <td>82.320763</td>\n",
       "      <td>7.840207</td>\n",
       "      <td>263.964248</td>\n",
       "      <td>rice</td>\n",
       "    </tr>\n",
       "    <tr>\n",
       "      <th>3</th>\n",
       "      <td>74</td>\n",
       "      <td>35</td>\n",
       "      <td>40</td>\n",
       "      <td>26.491096</td>\n",
       "      <td>80.158363</td>\n",
       "      <td>6.980401</td>\n",
       "      <td>242.864034</td>\n",
       "      <td>rice</td>\n",
       "    </tr>\n",
       "    <tr>\n",
       "      <th>4</th>\n",
       "      <td>78</td>\n",
       "      <td>42</td>\n",
       "      <td>42</td>\n",
       "      <td>20.130175</td>\n",
       "      <td>81.604873</td>\n",
       "      <td>7.628473</td>\n",
       "      <td>262.717340</td>\n",
       "      <td>rice</td>\n",
       "    </tr>\n",
       "  </tbody>\n",
       "</table>\n",
       "</div>"
      ],
      "text/plain": [
       "    N   P   K  temperature   humidity        ph    rainfall label\n",
       "0  90  42  43    20.879744  82.002744  6.502985  202.935536  rice\n",
       "1  85  58  41    21.770462  80.319644  7.038096  226.655537  rice\n",
       "2  60  55  44    23.004459  82.320763  7.840207  263.964248  rice\n",
       "3  74  35  40    26.491096  80.158363  6.980401  242.864034  rice\n",
       "4  78  42  42    20.130175  81.604873  7.628473  262.717340  rice"
      ]
     },
     "execution_count": 19,
     "metadata": {},
     "output_type": "execute_result"
    }
   ],
   "source": [
    "## read the data into pandas df\n",
    "\n",
    "PATH = 'Crop_recommendation.csv'\n",
    "df = pd.read_csv(PATH)\n",
    "df.head()"
   ]
  },
  {
   "cell_type": "code",
   "execution_count": 20,
   "id": "0d5d2f60-85f1-4032-8b0c-3d6e8166913b",
   "metadata": {},
   "outputs": [
    {
     "data": {
      "text/plain": [
       "(2200, 8)"
      ]
     },
     "execution_count": 20,
     "metadata": {},
     "output_type": "execute_result"
    }
   ],
   "source": [
    "df.shape"
   ]
  },
  {
   "cell_type": "markdown",
   "id": "bb94233a-82b0-4bfa-9501-4a034cd71c4c",
   "metadata": {},
   "source": [
    "> **Exercise**:\n",
    "> \n",
    "> Whats the datatype of each column?\n",
    "> \n",
    "> Find all unique crops in the `label` column!\n",
    ">\n",
    "> How many entries are there per label?\n"
   ]
  },
  {
   "cell_type": "code",
   "execution_count": 21,
   "id": "871df31c-9ce2-4d18-993e-389e6a70b4b0",
   "metadata": {},
   "outputs": [],
   "source": [
    "### your code here ###"
   ]
  },
  {
   "cell_type": "markdown",
   "id": "9b6728fc-e3af-406e-a34a-0bf5d9c8d9cd",
   "metadata": {},
   "source": [
    "##### solution"
   ]
  },
  {
   "cell_type": "code",
   "execution_count": 22,
   "id": "ec2e6bbc-9582-4c1e-a4f8-142953f0e00c",
   "metadata": {},
   "outputs": [
    {
     "data": {
      "text/plain": [
       "N                int64\n",
       "P                int64\n",
       "K                int64\n",
       "temperature    float64\n",
       "humidity       float64\n",
       "ph             float64\n",
       "rainfall       float64\n",
       "label           object\n",
       "dtype: object"
      ]
     },
     "execution_count": 22,
     "metadata": {},
     "output_type": "execute_result"
    }
   ],
   "source": [
    "df.dtypes"
   ]
  },
  {
   "cell_type": "code",
   "execution_count": 23,
   "id": "ffc5de00-3836-4e17-b2ff-3d012954547b",
   "metadata": {},
   "outputs": [
    {
     "data": {
      "text/plain": [
       "array(['rice', 'maize', 'chickpea', 'kidneybeans', 'pigeonpeas',\n",
       "       'mothbeans', 'mungbean', 'blackgram', 'lentil', 'pomegranate',\n",
       "       'banana', 'mango', 'grapes', 'watermelon', 'muskmelon', 'apple',\n",
       "       'orange', 'papaya', 'coconut', 'cotton', 'jute', 'coffee'],\n",
       "      dtype=object)"
      ]
     },
     "execution_count": 23,
     "metadata": {},
     "output_type": "execute_result"
    }
   ],
   "source": [
    "df['label'].unique()"
   ]
  },
  {
   "cell_type": "code",
   "execution_count": 24,
   "id": "e48109b1-cc43-4a41-99e4-203b2aa0c85a",
   "metadata": {},
   "outputs": [
    {
     "data": {
      "text/plain": [
       "label\n",
       "rice           100\n",
       "maize          100\n",
       "jute           100\n",
       "cotton         100\n",
       "coconut        100\n",
       "papaya         100\n",
       "orange         100\n",
       "apple          100\n",
       "muskmelon      100\n",
       "watermelon     100\n",
       "grapes         100\n",
       "mango          100\n",
       "banana         100\n",
       "pomegranate    100\n",
       "lentil         100\n",
       "blackgram      100\n",
       "mungbean       100\n",
       "mothbeans      100\n",
       "pigeonpeas     100\n",
       "kidneybeans    100\n",
       "chickpea       100\n",
       "coffee         100\n",
       "Name: count, dtype: int64"
      ]
     },
     "execution_count": 24,
     "metadata": {},
     "output_type": "execute_result"
    }
   ],
   "source": [
    "df['label'].value_counts()"
   ]
  },
  {
   "cell_type": "markdown",
   "id": "19357c23-ae2b-40e3-b00b-1f081070f7fe",
   "metadata": {},
   "source": [
    "#### Data exploration\n",
    "\n",
    "We will plot a correlation matrix (pearson) to quickly gain an overview of structures within our data: "
   ]
  },
  {
   "cell_type": "code",
   "execution_count": 25,
   "id": "3b633958-8ad0-4238-800f-eecb0449c722",
   "metadata": {},
   "outputs": [
    {
     "data": {
      "text/plain": [
       "<Axes: >"
      ]
     },
     "execution_count": 25,
     "metadata": {},
     "output_type": "execute_result"
    },
    {
     "data": {
      "image/png": "[encoded data removed]",
      "text/plain": [
       "<Figure size 640x480 with 2 Axes>"
      ]
     },
     "metadata": {},
     "output_type": "display_data"
    }
   ],
   "source": [
    "sns.heatmap(df.iloc[:,0:7].corr(),annot=True)"
   ]
  },
  {
   "cell_type": "code",
   "execution_count": null,
   "id": "61beeea6-c903-4181-a7d8-e8b170209122",
   "metadata": {},
   "outputs": [],
   "source": []
  },
  {
   "cell_type": "code",
   "execution_count": null,
   "id": "b0bfe3a4-f975-4f54-9d06-de9b66180057",
   "metadata": {},
   "outputs": [],
   "source": []
  },
  {
   "cell_type": "code",
   "execution_count": null,
   "id": "835645b0-b229-4cfa-aec7-e2aa17651f0b",
   "metadata": {},
   "outputs": [],
   "source": []
  },
  {
   "cell_type": "code",
   "execution_count": null,
   "id": "0ace3df0-b861-4d74-803c-1a6ee703e5bf",
   "metadata": {},
   "outputs": [],
   "source": []
  },
  {
   "cell_type": "code",
   "execution_count": null,
   "id": "621d9ac3-8ba3-4947-97a0-21341fcbf950",
   "metadata": {},
   "outputs": [],
   "source": []
  },
  {
   "cell_type": "markdown",
   "id": "33ee29fd-096b-48cd-9908-667d07bd423d",
   "metadata": {
    "editable": true,
    "slideshow": {
     "slide_type": ""
    },
    "tags": []
   },
   "source": [
    "#### Ressources for this script: \n",
    "\n",
    "KMeans: \n",
    "\n",
    "* [Artley 2022](https://towardsdatascience.com/unsupervised-learning-k-means-clustering-27416b95af27)\n",
    "* [Python Data Science Handbook](https://jakevdp.github.io/PythonDataScienceHandbook/05.11-k-means.html)\n",
    "\n",
    "SVM:\n",
    "* [Scikit-Learn Documentation](https://scikit-learn.org/stable/modules/svm.html)"
   ]
  },
  {
   "cell_type": "code",
   "execution_count": 1,
   "id": "b811808e-b03a-474b-adb7-555ba2220836",
   "metadata": {
    "editable": true,
    "slideshow": {
     "slide_type": ""
    },
    "tags": [
     "remove-input"
    ]
   },
   "outputs": [
    {
     "data": {
      "text/html": [
       "\n",
       "        <iframe\n",
       "            width=\"900\"\n",
       "            height=\"200\"\n",
       "            src=\"../../citations/citation_Marie.html\"\n",
       "            frameborder=\"0\"\n",
       "            allowfullscreen\n",
       "            \n",
       "        ></iframe>\n",
       "        "
      ],
      "text/plain": [
       "<IPython.lib.display.IFrame at 0x1085d5160>"
      ]
     },
     "execution_count": 1,
     "metadata": {},
     "output_type": "execute_result"
    }
   ],
   "source": [
    "from IPython.display import IFrame\n",
    "\n",
    "IFrame(\n",
    "    src=\"../../citations/citation_Marie.html\",\n",
    "    width=900,\n",
    "    height=200,\n",
    ")"
   ]
  },
  {
   "cell_type": "code",
   "execution_count": null,
   "id": "7361d8be-2968-48bf-a2f8-caed6567f0d7",
   "metadata": {
    "editable": true,
    "slideshow": {
     "slide_type": ""
    },
    "tags": []
   },
   "outputs": [],
   "source": []
  }
 ],
 "metadata": {
  "kernelspec": {
   "display_name": "Python 3 (ipykernel)",
   "language": "python",
   "name": "python3"
  },
  "language_info": {
   "codemirror_mode": {
    "name": "ipython",
    "version": 3
   },
   "file_extension": ".py",
   "mimetype": "text/x-python",
   "name": "python",
   "nbconvert_exporter": "python",
   "pygments_lexer": "ipython3",
   "version": "3.9.19"
  }
 },
 "nbformat": 4,
 "nbformat_minor": 5
}
