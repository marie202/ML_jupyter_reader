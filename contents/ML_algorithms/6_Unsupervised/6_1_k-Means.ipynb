{
 "cells": [
  {
   "cell_type": "markdown",
   "id": "b23ee13a-6068-4aa0-98f2-27e79fe0497c",
   "metadata": {
    "editable": true,
    "slideshow": {
     "slide_type": ""
    },
    "tags": []
   },
   "source": [
    "# Clustering Algorithms - $k$-Means\n",
    "\n",
    "<div>\n",
    "<img src=\"figures/Ml_kmeans.png\" width=\"600\"/>\n",
    "</div>\n",
    "\n",
    "\n",
    "## $k$-Means\n",
    "\n",
    "The aim of clustering algorithms is to group data points based on a defined similarity measure (and this is crucial!). Here we will use the clustering algorithm $k$-Means. An algorithm that divides a given (even high-dimensional) data set into $k$ groups (clusters). \n",
    "\n",
    "K-means is the go-to unsupervised clustering algorithm, whcih is easy to implement and trains in next to no time. As the model trains by minimizing the sum of distances between data points and their corresponding clusters, it is relatable to other machine learning models."
   ]
  },
  {
   "cell_type": "code",
   "execution_count": 3,
   "id": "65683d71-8ba0-4803-80e3-292810659bbf",
   "metadata": {
    "editable": true,
    "slideshow": {
     "slide_type": ""
    },
    "tags": []
   },
   "outputs": [],
   "source": [
    "%load_ext lab_black"
   ]
  },
  {
   "cell_type": "code",
   "execution_count": 2,
   "id": "2febec28-0c5e-47ee-881f-3c6fd56021cd",
   "metadata": {
    "editable": true,
    "slideshow": {
     "slide_type": ""
    },
    "tags": []
   },
   "outputs": [],
   "source": [
    "# First, let's import all the needed libraries.\n",
    "\n",
    "import pandas as pd\n",
    "import seaborn as sns\n",
    "import matplotlib.pyplot as plt\n",
    "import numpy as np\n",
    "from sklearn.cluster import KMeans\n",
    "\n",
    "\n",
    "import warnings\n",
    "\n",
    "warnings.filterwarnings(\"ignore\", \"use_inf_as_na\")"
   ]
  },
  {
   "cell_type": "markdown",
   "id": "96bf1c5d-eb68-4710-85db-da48d76b7fa3",
   "metadata": {
    "editable": true,
    "slideshow": {
     "slide_type": ""
    },
    "tags": []
   },
   "source": [
    "\n",
    "\n",
    "### Introduction\n",
    "\n",
    "<div>\n",
    "<img src=\"figures/kmeans.png\" width=\"600\"/>\n",
    "</div>\n",
    "\n",
    "$k$-Means clustering is an unsupervised algorithm that groups unlabelled data into different clusters. The K in the title shows how many clusters will be created. It's important to know this before you start training the model. So, if we use K=3, we’ll get three clusters. The $k$-Means algorithm is used in fraud and error detection, and confirming existing clusters in the real world.\n",
    "\n",
    "The algorithm is centroid-based, which basically means that each data point is assigned to the cluster with the closest centroid. You can use this algorithm for any number of dimensions, because we calculate the distance to centroids using the Euclidean distance. The idea behind $k$-Means is to make the distances between the data points and their assigned cluster centroid as small as possible. This is done by repeatedly moving data points to the closest centroid and centroid to the centre of their assigned points, which makes the clusters more compact and separated.\n",
    "\n",
    "The great thing about the $k$-Means algorithm is that it’s simple to use, it can handle huge datasets, it always converges, and it works well with clusters of varying shapes and sizes. The drawbacks are that the number of clusters has to be chosen manually, the clusters are dependent on initial values, and it can be sensitive to outliers."
   ]
  },
  {
   "cell_type": "markdown",
   "id": "4f108984-0dd0-4955-9427-4c97767a4f5d",
   "metadata": {
    "editable": true,
    "slideshow": {
     "slide_type": ""
    },
    "tags": []
   },
   "source": [
    "### Performing $k$-Means Clustering\n",
    "\n",
    "The algorithm works as follows (somewhat simplified):\n",
    "\n",
    "0. Choose a cluster number $k$ and select $k$ cluster centres (centroids) for initialisation. These centroids can be randomly distributed in the state space or elements can simply be randomly drawn from the training data set to serve as centroids. (Initialisation) \n",
    "1. assign each data point to the cluster whose cluster centre (centroid) is closest to this point. ‘Closeness’ is determined by the distance measure, which can be Euclid's distance, for example, which is calculated with the following equation:\n",
    "\n",
    "$$\n",
    "d(p,q) =  \\sqrt{ \\sum_{i=1}^{n}(q_i -p_i)^2}$$\n",
    "\n",
    "2. recalculate all $k$ cluster centres: The mean value (in all dimensions) of all data points in a cluster results in the new cluster centre (centroid).\n",
    "3. cancellation criterion fulfilled? (e.g. ‘maximum number of iterations reached’ or ‘cluster centres change only slightly’) Otherwise go to 1.\n",
    "\n",
    "For the sake of simplicity, we use simulated data in this exercise:\n",
    "\n"
   ]
  },
  {
   "cell_type": "code",
   "execution_count": 4,
   "id": "2624cffb-3fbd-409d-b961-3d4820435a42",
   "metadata": {
    "editable": true,
    "slideshow": {
     "slide_type": ""
    },
    "tags": []
   },
   "outputs": [
    {
     "data": {
      "text/html": [
       "<div>\n",
       "<style scoped>\n",
       "    .dataframe tbody tr th:only-of-type {\n",
       "        vertical-align: middle;\n",
       "    }\n",
       "\n",
       "    .dataframe tbody tr th {\n",
       "        vertical-align: top;\n",
       "    }\n",
       "\n",
       "    .dataframe thead th {\n",
       "        text-align: right;\n",
       "    }\n",
       "</style>\n",
       "<table border=\"1\" class=\"dataframe\">\n",
       "  <thead>\n",
       "    <tr style=\"text-align: right;\">\n",
       "      <th></th>\n",
       "      <th>0</th>\n",
       "      <th>1</th>\n",
       "    </tr>\n",
       "  </thead>\n",
       "  <tbody>\n",
       "    <tr>\n",
       "      <th>0</th>\n",
       "      <td>5.209759</td>\n",
       "      <td>4.191962</td>\n",
       "    </tr>\n",
       "    <tr>\n",
       "      <th>1</th>\n",
       "      <td>-0.550619</td>\n",
       "      <td>1.731674</td>\n",
       "    </tr>\n",
       "    <tr>\n",
       "      <th>2</th>\n",
       "      <td>1.990295</td>\n",
       "      <td>-1.352535</td>\n",
       "    </tr>\n",
       "  </tbody>\n",
       "</table>\n",
       "</div>"
      ],
      "text/plain": [
       "          0         1\n",
       "0  5.209759  4.191962\n",
       "1 -0.550619  1.731674\n",
       "2  1.990295 -1.352535"
      ]
     },
     "execution_count": 4,
     "metadata": {},
     "output_type": "execute_result"
    }
   ],
   "source": [
    "cluster_df = pd.read_csv(\"data/cluster_sample_data.csv\", header=None, sep=\" \")\n",
    "cluster_df.head(3)"
   ]
  },
  {
   "cell_type": "code",
   "execution_count": 5,
   "id": "133523f9-0e55-4c71-8a47-77b91450052d",
   "metadata": {
    "editable": true,
    "slideshow": {
     "slide_type": ""
    },
    "tags": []
   },
   "outputs": [
    {
     "data": {
      "text/plain": [
       "<Axes: xlabel='0', ylabel='1'>"
      ]
     },
     "execution_count": 5,
     "metadata": {},
     "output_type": "execute_result"
    },
    {
     "data": {
      "image/png": "[encoded data removed]",
      "text/plain": [
       "<Figure size 640x480 with 1 Axes>"
      ]
     },
     "metadata": {},
     "output_type": "display_data"
    }
   ],
   "source": [
    "sns.scatterplot(\n",
    "    data=cluster_df,\n",
    "    x=0,\n",
    "    y=1,\n",
    ")"
   ]
  },
  {
   "cell_type": "markdown",
   "id": "fe741830-ec93-4b91-9c07-f7f1bd663464",
   "metadata": {
    "editable": true,
    "slideshow": {
     "slide_type": ""
    },
    "tags": []
   },
   "source": [
    "> **Question**: Even without $k$-Means clustering, how many clusters would you suggest ?"
   ]
  },
  {
   "cell_type": "markdown",
   "id": "6734c183-92b0-4705-8152-1fb999ff84e3",
   "metadata": {
    "editable": true,
    "slideshow": {
     "slide_type": ""
    },
    "tags": []
   },
   "source": [
    "#### Normalisation\n",
    ">\n",
    "> Before applying a clustering algorithm, it's crucial to normalize the data to eliminate any outliers or anomalies.\n"
   ]
  },
  {
   "cell_type": "code",
   "execution_count": null,
   "id": "55da92b1-6e62-4fee-aec2-7709cd7cf08e",
   "metadata": {},
   "outputs": [],
   "source": [
    "cluster_df.iloc[:,0].values"
   ]
  },
  {
   "cell_type": "code",
   "execution_count": null,
   "id": "378a94c0-7d83-43c7-897f-c04835b1765d",
   "metadata": {
    "editable": true,
    "slideshow": {
     "slide_type": ""
    },
    "tags": []
   },
   "outputs": [],
   "source": [
    "\n",
    "from sklearn import preprocessing\n",
    "#df_norm = cluster_df.copy()\n",
    "\n",
    "#df_norm[0] = preprocessing.normalize([cluster_df[0]]).flatten()\n",
    "#df_norm[1] = preprocessing.normalize([cluster_df[1]]).flatten()\n",
    "#df_norm.head()"
   ]
  },
  {
   "cell_type": "markdown",
   "id": "f4cef01b-fc9a-4892-998d-52bd6cf4f715",
   "metadata": {
    "editable": true,
    "slideshow": {
     "slide_type": ""
    },
    "tags": []
   },
   "source": [
    "\n",
    "#### Determine the number of clusters (K=?)\n",
    "\n",
    "**Elbow-method**\n",
    "The optimal value of $k$ in the $k$-Means algorithm can be found using the elbow method. This involves finding the inertia value of every $k$ number of clusters from 1-10 and visualizing it.\n",
    "\n",
    "Inertia: the sum of the squared distances of samples to their closest cluster center.\n",
    "\n",
    "$$Inertia = Σ(distance(point, centroid)^2)$$\n",
    "                 \n",
    "We iterate the values of $k$ from 1 to n and calculate the values of distortions for each value of k and calculate the distortion and inertia for each value of $k$ in the given range."
   ]
  },
  {
   "cell_type": "code",
   "execution_count": null,
   "id": "017b378a-2924-4305-aeab-40e517b45895",
   "metadata": {
    "editable": true,
    "slideshow": {
     "slide_type": ""
    },
    "tags": []
   },
   "outputs": [],
   "source": [
    "def elbow_plot(data,clusters):\n",
    "    inertia = []\n",
    "    for n in range(1, clusters):\n",
    "        algorithm = KMeans(\n",
    "            n_clusters=n,\n",
    "            init=\"k-means++\",\n",
    "            random_state=125,\n",
    "        )\n",
    "        algorithm.fit(data)\n",
    "        inertia.append(algorithm.inertia_)\n",
    "    # Plot\n",
    "    plt.plot(np.arange(1 , clusters) , inertia , 'o')\n",
    "    plt.plot(np.arange(1 , clusters) , inertia , '-' , alpha = 0.5)\n",
    "    plt.xlabel('Number of Clusters') , plt.ylabel('Inertia')\n",
    "    plt.show();\n",
    "\n",
    "elbow_plot(cluster_df,10)"
   ]
  },
  {
   "cell_type": "markdown",
   "id": "47b7b36f-ea61-4e6d-a560-0527a7c9ca43",
   "metadata": {},
   "source": [
    "We obtained an optimal value of 4. Perfect, thats what we also suggested!"
   ]
  },
  {
   "cell_type": "markdown",
   "id": "efe642a6-613d-40e2-99ed-2632bc4c43cc",
   "metadata": {
    "editable": true,
    "slideshow": {
     "slide_type": ""
    },
    "tags": []
   },
   "source": [
    "####   Performing $k$-Means\n",
    "\n",
    "As we already discussed we perform $k$-Means by initializing cluster centroids, assigning these data points to clusters. We then update cluster centroids and Iteratively update the centroids. In Python we perform $k$-Means as follows:\n"
   ]
  },
  {
   "cell_type": "code",
   "execution_count": null,
   "id": "5d78836d-09e2-4275-8fa2-773a571166f2",
   "metadata": {
    "editable": true,
    "slideshow": {
     "slide_type": ""
    },
    "tags": []
   },
   "outputs": [],
   "source": [
    "n_clusters = 4\n",
    "epochs = 100\n",
    "\n",
    "\n",
    "algorithm = KMeans(n_clusters=n_clusters,init=\"k-means++\",max_iter=epochs,random_state=120 )\n",
    "algorithm.fit(cluster_df)\n",
    "labels = algorithm.labels_"
   ]
  },
  {
   "cell_type": "code",
   "execution_count": null,
   "id": "7324be1a-75ee-464c-b598-9a8d492ec1e2",
   "metadata": {},
   "outputs": [],
   "source": [
    "for k in algorithm.cluster_centers_:\n",
    "    print(k)#algorithm.cluster_centers_"
   ]
  },
  {
   "cell_type": "code",
   "execution_count": null,
   "id": "bf3535b9-2171-4b07-8901-ea981707a9b2",
   "metadata": {},
   "outputs": [],
   "source": [
    "# The number of iterations required to converge\n",
    "algorithm.n_iter_"
   ]
  },
  {
   "cell_type": "code",
   "execution_count": null,
   "id": "f38ef831-ddc1-4a21-be52-49e4df3abed8",
   "metadata": {},
   "outputs": [],
   "source": [
    "algorithm.labels_"
   ]
  },
  {
   "cell_type": "markdown",
   "id": "5ccfc5f0-d290-43a3-b083-8bcf0df20309",
   "metadata": {
    "editable": true,
    "slideshow": {
     "slide_type": ""
    },
    "tags": []
   },
   "source": [
    "###  Assign data points to clusters and plot final Result"
   ]
  },
  {
   "cell_type": "code",
   "execution_count": null,
   "id": "6f1673c8-0d22-4dff-9795-2134cbaba6a6",
   "metadata": {},
   "outputs": [],
   "source": [
    "y_kmeans = algorithm.predict(cluster_df)\n",
    "\n",
    "\n",
    "plt.scatter(cluster_df.iloc[:, 0], cluster_df.iloc[:, 1], c=y_kmeans, s=20, cmap=\"Set2\")\n",
    "\n",
    "centers = algorithm.cluster_centers_\n",
    "plt.scatter(centers[:, 0], centers[:, 1], c='red', s=50, alpha=0.9);\n",
    "plt.title(\"Scikit-Learn K-means Results\")"
   ]
  },
  {
   "cell_type": "markdown",
   "id": "070517d6-117b-4449-90a3-9dc3b7ff9ef6",
   "metadata": {
    "editable": true,
    "slideshow": {
     "slide_type": ""
    },
    "tags": []
   },
   "source": [
    "> #### **Exercise**\n",
    ">\n",
    "> Take a look at another data set. \n",
    "> Visualise the data as a scatterplot. How many cluster centres can be expected?\n",
    "> Why does $k$-Means clustering not work well here? What are the limitations of $k$-Means?\n"
   ]
  },
  {
   "cell_type": "code",
   "execution_count": null,
   "id": "c17ff319-eca2-4417-bbc0-90b20ac4423b",
   "metadata": {
    "editable": true,
    "slideshow": {
     "slide_type": ""
    },
    "tags": []
   },
   "outputs": [],
   "source": [
    "\n",
    "cluster_df = pd.read_csv(\"data/cluster_sample_data_moons.csv\", header=None, sep=\" \")\n",
    "cluster_df.head(3)"
   ]
  },
  {
   "cell_type": "markdown",
   "id": "a7ee6a07-5f2a-440e-8655-052cc62f91ff",
   "metadata": {
    "editable": true,
    "slideshow": {
     "slide_type": ""
    },
    "tags": []
   },
   "source": [
    "#### solution"
   ]
  },
  {
   "cell_type": "code",
   "execution_count": null,
   "id": "502e425d-58b7-4420-9f40-502d50d12641",
   "metadata": {},
   "outputs": [],
   "source": [
    "\n",
    "sns.scatterplot(\n",
    "    data=cluster_df,\n",
    "    x=0,\n",
    "    y=1,\n",
    ")"
   ]
  },
  {
   "cell_type": "code",
   "execution_count": null,
   "id": "25b78fbc-45de-4e69-99aa-97599d67320c",
   "metadata": {},
   "outputs": [],
   "source": [
    "### normalize\n",
    "\n",
    "\n",
    "from sklearn import preprocessing\n",
    "\n",
    "df_norm = preprocessing.normalize(cluster_df)"
   ]
  },
  {
   "cell_type": "code",
   "execution_count": null,
   "id": "06b4b53c-3040-4c4c-a6a8-8abf2e528d78",
   "metadata": {
    "scrolled": true
   },
   "outputs": [],
   "source": [
    "## elbow plot\n",
    "\n",
    "elbow_plot(df_norm,10)"
   ]
  },
  {
   "cell_type": "code",
   "execution_count": null,
   "id": "8ece248b-1104-451f-a672-036b4ab09678",
   "metadata": {},
   "outputs": [],
   "source": [
    "n_clusters = 2\n",
    "epochs = 100\n",
    "\n",
    "\n",
    "algorithm = KMeans(n_clusters=n_clusters,n_init='auto')#, init=\"k-means++\",max_iter=epochs,random_state=120) # init=\"k-means++\"\n",
    "algorithm.fit(df_norm)\n",
    "labels = algorithm.labels_\n",
    "\n",
    "algorithm.n_iter_"
   ]
  },
  {
   "cell_type": "code",
   "execution_count": null,
   "id": "440d57e4-aa87-4975-b1b4-ab23de9450a3",
   "metadata": {
    "scrolled": true
   },
   "outputs": [],
   "source": [
    "sns.scatterplot(data = cluster_df, x = 0, y = 1, hue = labels, palette=\"Set2\");\n",
    "\n",
    "plt.title(\"Scikit-Learn K-means Results\")"
   ]
  },
  {
   "cell_type": "markdown",
   "id": "03432b4a-f06b-455b-a05e-7cea966ed6af",
   "metadata": {
    "editable": true,
    "slideshow": {
     "slide_type": ""
    },
    "tags": []
   },
   "source": [
    "* $k$-Means clustering may not work well in this case because the data points in the two clusters are unevenly distributed. $k$-Means is based on the assumption that the clusters are spherical and of similar size. If this assumption is not met, clustering can produce poor results.\n",
    "\n",
    "* $k$-Means is limited to linear cluster boundaries\n",
    "\n",
    "\n",
    "> #### **Exercise**\n",
    "> \n",
    "> Research an alternative to $k$-Means that could work here! Can you even implement it with plot?\n"
   ]
  },
  {
   "cell_type": "markdown",
   "id": "20d30fc1-e786-40d5-836e-8e7ab3afc73a",
   "metadata": {
    "editable": true,
    "slideshow": {
     "slide_type": ""
    },
    "tags": []
   },
   "source": [
    "#### solution"
   ]
  },
  {
   "cell_type": "markdown",
   "id": "e0689ccb-fa25-4d8d-a960-98f83f02c309",
   "metadata": {
    "editable": true,
    "slideshow": {
     "slide_type": ""
    },
    "tags": []
   },
   "source": [
    "\n",
    "A possible alternative that could work better is the so-called ‘DBSCAN’ (Density-Based Spatial Clustering of Applications with Noise). DBSCAN is based on the density of data points and can identify clusters even if they are not spherical or of similar size.\n"
   ]
  },
  {
   "cell_type": "markdown",
   "id": "33ee29fd-096b-48cd-9908-667d07bd423d",
   "metadata": {
    "editable": true,
    "slideshow": {
     "slide_type": ""
    },
    "tags": []
   },
   "source": [
    "#### Ressources for this script: \n",
    "\n",
    "* [Artley 2022](https://towardsdatascience.com/unsupervised-learning-k-means-clustering-27416b95af27)\n",
    "* [Python Data Science Handbook](https://jakevdp.github.io/PythonDataScienceHandbook/05.11-k-means.html)\n"
   ]
  },
  {
   "cell_type": "code",
   "execution_count": null,
   "id": "af449c37-68e6-4f51-8939-4da419ef5277",
   "metadata": {
    "editable": true,
    "slideshow": {
     "slide_type": ""
    },
    "tags": []
   },
   "outputs": [],
   "source": [
    "from IPython.display import IFrame\n",
    "\n",
    "IFrame(\n",
    "    src=\"../../citations/citation_marie.html\",\n",
    "    width=900,\n",
    "    height=200,\n",
    ")"
   ]
  }
 ],
 "metadata": {
  "kernelspec": {
   "display_name": "Python 3 (ipykernel)",
   "language": "python",
   "name": "python3"
  },
  "language_info": {
   "codemirror_mode": {
    "name": "ipython",
    "version": 3
   },
   "file_extension": ".py",
   "mimetype": "text/x-python",
   "name": "python",
   "nbconvert_exporter": "python",
   "pygments_lexer": "ipython3",
   "version": "3.9.19"
  }
 },
 "nbformat": 4,
 "nbformat_minor": 5
}
