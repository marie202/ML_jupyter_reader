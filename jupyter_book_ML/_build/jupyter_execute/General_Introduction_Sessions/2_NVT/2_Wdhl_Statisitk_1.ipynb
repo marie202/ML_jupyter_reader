{
 "cells": [
  {
   "cell_type": "markdown",
   "id": "92ff477c-d6ff-4470-88de-207d8389beb8",
   "metadata": {},
   "source": [
    "# Recap Statistics 1"
   ]
  },
  {
   "cell_type": "code",
   "execution_count": 1,
   "id": "9a9ce5b4-b3ae-4575-aaac-8a25d6338bfe",
   "metadata": {},
   "outputs": [
    {
     "ename": "ModuleNotFoundError",
     "evalue": "No module named 'pandas'",
     "output_type": "error",
     "traceback": [
      "\u001b[0;31m---------------------------------------------------------------------------\u001b[0m",
      "\u001b[0;31mModuleNotFoundError\u001b[0m                       Traceback (most recent call last)",
      "Cell \u001b[0;32mIn[1], line 3\u001b[0m\n\u001b[1;32m      1\u001b[0m \u001b[38;5;66;03m# First, let's import all the needed libraries.\u001b[39;00m\n\u001b[1;32m      2\u001b[0m \u001b[38;5;28;01mimport\u001b[39;00m \u001b[38;5;21;01mnumpy\u001b[39;00m \u001b[38;5;28;01mas\u001b[39;00m \u001b[38;5;21;01mnp\u001b[39;00m\n\u001b[0;32m----> 3\u001b[0m \u001b[38;5;28;01mimport\u001b[39;00m \u001b[38;5;21;01mpandas\u001b[39;00m \u001b[38;5;28;01mas\u001b[39;00m \u001b[38;5;21;01mpd\u001b[39;00m\n\u001b[1;32m      4\u001b[0m \u001b[38;5;28;01mimport\u001b[39;00m \u001b[38;5;21;01mseaborn\u001b[39;00m \u001b[38;5;28;01mas\u001b[39;00m \u001b[38;5;21;01msns\u001b[39;00m\n\u001b[1;32m      5\u001b[0m \u001b[38;5;28;01mimport\u001b[39;00m \u001b[38;5;21;01mmatplotlib\u001b[39;00m\u001b[38;5;21;01m.\u001b[39;00m\u001b[38;5;21;01mpyplot\u001b[39;00m \u001b[38;5;28;01mas\u001b[39;00m \u001b[38;5;21;01mplt\u001b[39;00m\n",
      "\u001b[0;31mModuleNotFoundError\u001b[0m: No module named 'pandas'"
     ]
    }
   ],
   "source": [
    "# First, let's import all the needed libraries.\n",
    "import numpy as np\n",
    "import pandas as pd\n",
    "import seaborn as sns\n",
    "import matplotlib.pyplot as plt\n",
    "import scipy.stats as stats\n",
    "import random\n"
   ]
  },
  {
   "cell_type": "markdown",
   "id": "d8dca5c0-a024-47d2-b48b-6c1c213f95f9",
   "metadata": {},
   "source": [
    "In order to better understand the estimation of a population mean and the construction of a confidence interval, we will go through the procedure based on a data set. Therefore, we load the **students data set**. You may download the `students.csv` file [here](https://userpage.fu-berlin.de/soga/200/2010_data_sets/students.csv) to your local file system or import it directly as a web resource. In either case, you import the data set to python as pandas dataframe object by using the `read_csv` method:"
   ]
  },
  {
   "cell_type": "code",
   "execution_count": 2,
   "id": "6add53e7-30c4-4dec-8710-590dcdda6c84",
   "metadata": {},
   "outputs": [
    {
     "data": {
      "text/html": [
       "<div>\n",
       "<style scoped>\n",
       "    .dataframe tbody tr th:only-of-type {\n",
       "        vertical-align: middle;\n",
       "    }\n",
       "\n",
       "    .dataframe tbody tr th {\n",
       "        vertical-align: top;\n",
       "    }\n",
       "\n",
       "    .dataframe thead th {\n",
       "        text-align: right;\n",
       "    }\n",
       "</style>\n",
       "<table border=\"1\" class=\"dataframe\">\n",
       "  <thead>\n",
       "    <tr style=\"text-align: right;\">\n",
       "      <th></th>\n",
       "      <th>name</th>\n",
       "      <th>age</th>\n",
       "      <th>nc.score</th>\n",
       "      <th>height</th>\n",
       "      <th>weight</th>\n",
       "    </tr>\n",
       "  </thead>\n",
       "  <tbody>\n",
       "    <tr>\n",
       "      <th>1</th>\n",
       "      <td>Gonzales, Christina</td>\n",
       "      <td>19</td>\n",
       "      <td>1.91</td>\n",
       "      <td>160</td>\n",
       "      <td>64.8</td>\n",
       "    </tr>\n",
       "    <tr>\n",
       "      <th>2</th>\n",
       "      <td>Lozano, T'Hani</td>\n",
       "      <td>19</td>\n",
       "      <td>1.56</td>\n",
       "      <td>172</td>\n",
       "      <td>73.0</td>\n",
       "    </tr>\n",
       "    <tr>\n",
       "      <th>3</th>\n",
       "      <td>Williams, Hanh</td>\n",
       "      <td>22</td>\n",
       "      <td>1.24</td>\n",
       "      <td>168</td>\n",
       "      <td>70.6</td>\n",
       "    </tr>\n",
       "    <tr>\n",
       "      <th>4</th>\n",
       "      <td>Nem, Denzel</td>\n",
       "      <td>19</td>\n",
       "      <td>1.37</td>\n",
       "      <td>183</td>\n",
       "      <td>79.7</td>\n",
       "    </tr>\n",
       "    <tr>\n",
       "      <th>5</th>\n",
       "      <td>Powell, Heather</td>\n",
       "      <td>21</td>\n",
       "      <td>1.46</td>\n",
       "      <td>175</td>\n",
       "      <td>71.4</td>\n",
       "    </tr>\n",
       "    <tr>\n",
       "      <th>6</th>\n",
       "      <td>Perez, Jadrian</td>\n",
       "      <td>19</td>\n",
       "      <td>1.34</td>\n",
       "      <td>189</td>\n",
       "      <td>85.8</td>\n",
       "    </tr>\n",
       "    <tr>\n",
       "      <th>7</th>\n",
       "      <td>Clardy, Anita</td>\n",
       "      <td>21</td>\n",
       "      <td>1.11</td>\n",
       "      <td>156</td>\n",
       "      <td>65.9</td>\n",
       "    </tr>\n",
       "    <tr>\n",
       "      <th>8</th>\n",
       "      <td>Allen, Rebecca Marie</td>\n",
       "      <td>21</td>\n",
       "      <td>2.03</td>\n",
       "      <td>167</td>\n",
       "      <td>65.7</td>\n",
       "    </tr>\n",
       "    <tr>\n",
       "      <th>9</th>\n",
       "      <td>Tracy, Robert</td>\n",
       "      <td>18</td>\n",
       "      <td>1.29</td>\n",
       "      <td>195</td>\n",
       "      <td>94.4</td>\n",
       "    </tr>\n",
       "    <tr>\n",
       "      <th>10</th>\n",
       "      <td>Nimmons, Laura</td>\n",
       "      <td>18</td>\n",
       "      <td>1.19</td>\n",
       "      <td>165</td>\n",
       "      <td>66.0</td>\n",
       "    </tr>\n",
       "  </tbody>\n",
       "</table>\n",
       "</div>"
      ],
      "text/plain": [
       "                    name  age  nc.score  height  weight\n",
       "1    Gonzales, Christina   19      1.91     160    64.8\n",
       "2         Lozano, T'Hani   19      1.56     172    73.0\n",
       "3         Williams, Hanh   22      1.24     168    70.6\n",
       "4            Nem, Denzel   19      1.37     183    79.7\n",
       "5        Powell, Heather   21      1.46     175    71.4\n",
       "6         Perez, Jadrian   19      1.34     189    85.8\n",
       "7          Clardy, Anita   21      1.11     156    65.9\n",
       "8   Allen, Rebecca Marie   21      2.03     167    65.7\n",
       "9          Tracy, Robert   18      1.29     195    94.4\n",
       "10        Nimmons, Laura   18      1.19     165    66.0"
      ]
     },
     "execution_count": 2,
     "metadata": {},
     "output_type": "execute_result"
    }
   ],
   "source": [
    "students = pd.read_csv(\n",
    "    \"https://userpage.fu-berlin.de/soga/200/2010_data_sets/students.csv\"\n",
    ")\n",
    "quant_vars = [\"name\", \"age\", \"nc.score\", \"height\", \"weight\"]\n",
    "\n",
    "students_quant = students[quant_vars]\n",
    "students_quant.head(10)"
   ]
  },
  {
   "cell_type": "markdown",
   "id": "4087f164-dd2a-4601-8ad2-833709311850",
   "metadata": {},
   "source": [
    "## 1. Descriptive Statistics"
   ]
  },
  {
   "cell_type": "markdown",
   "id": "c149d258-b967-4357-9ac9-ca9e9289e082",
   "metadata": {},
   "source": [
    "### 1.1. Measures of Central Tendency\n",
    "\n",
    "To gain intuition for any data set, it can be described by numerical summary measures.\n",
    "There are three main measures of [**central tendency**](https://en.wikipedia.org/wiki/Central_tendency): the [**mean**](https://en.wikipedia.org/wiki/Arithmetic_mean ), the [**median**](https://en.wikipedia.org/wiki/Median) and the [**mode**](https://en.wikipedia.org/wiki/Mode_(statistics)).\n",
    "However, there are other measures of central tendency too, such as the [**harmonic mean**](https://en.wikipedia.org/wiki/Harmonic_mean), the [**weighted mean**](https://en.wikipedia.org/wiki/Weighted_arithmetic_mean) and the [**geometric mean**](https://en.wikipedia.org/wiki/Geometric_mean). \n",
    "\n",
    "#### Arithmetic Mean \n",
    "The arithmetic mean is defined as follows: \n",
    "\n",
    "$$ \\text{Mean} = \\frac{\\text{Sum of all values}}{\\text{Number of all values}} \\, . $$ \n",
    "\n",
    "The [**arithmetic mean**](https://en.wikipedia.org/wiki/Arithmetic_mean) calculated for sample data is denoted by $\\bar x$ (read as \"x bar\") and the arithmetic mean for population data is denoted by $\\mu$ (Greek letter *mu*).\n",
    "Thus, the arithmetic mean can be calculated by the following equations:\n",
    "\n",
    "$$ \\bar x = \\frac{1}{n}\\sum_{i=1}^n x_i $$"
   ]
  },
  {
   "cell_type": "code",
   "execution_count": 3,
   "id": "16686c5b-c628-4c93-8e87-3372ae1d14b1",
   "metadata": {},
   "outputs": [
    {
     "name": "stdout",
     "output_type": "stream",
     "text": [
      "The arithmetic mean of the students heights is: 171.4 cm.\n"
     ]
    }
   ],
   "source": [
    "students_heights = students_quant[\"height\"]  # extract students_heights vector\n",
    "\n",
    "students_heights_n = len(students_heights)  # get the length of the  vector,\n",
    "# which is the number of observations\n",
    "students_heights_sum = sum(students_heights)  # sum up the heights vector\n",
    "students_heights_xbar = students_heights_sum / students_heights_n\n",
    "print(\n",
    "    f\"The arithmetic mean of the students heights is: {round(students_heights_xbar,1)} cm.\"\n",
    ")"
   ]
  },
  {
   "cell_type": "markdown",
   "id": "10666e14-aebf-4581-8958-7425dcd31907",
   "metadata": {},
   "source": [
    "Of course there is as well a function called [`mean()`](https://numpy.org/doc/stable/reference/generated/numpy.mean.html) that is implemented in the [`NumPy`](https://numpy.org/doc/) library. "
   ]
  },
  {
   "cell_type": "code",
   "execution_count": 4,
   "id": "b56c2dcb-e894-4728-8a32-1ab92fe923e3",
   "metadata": {},
   "outputs": [
    {
     "data": {
      "text/plain": [
       "171.38075009103048"
      ]
     },
     "execution_count": 4,
     "metadata": {},
     "output_type": "execute_result"
    }
   ],
   "source": [
    "np.mean(students_heights)"
   ]
  },
  {
   "cell_type": "markdown",
   "id": "d0858855-b39c-4988-8335-fa47f5c44d79",
   "metadata": {},
   "source": [
    "\n",
    "#### Median\n",
    "\n",
    "Another very important measure of central tendency is the median . The median is the value of the middle term in a data set that has been ranked in increasing order. Thus, the median divides a ranked data set into two equal parts.\n",
    "\n",
    "The calculation of the median consists of the following two steps:\n",
    "\n",
    "Rank the data set in increasing order.\n",
    "Find the middle term. The value of this term is the median.\n",
    "Note that if the number of observations in a data set is odd, then the median is given by the value of the middle term in the ranked data. However, if the number of observations is even, then the median is given by the average of the values of the two middle terms (Mann 2012).\n",
    "\n",
    "Let us evaluate the median for the height variable of the students data set."
   ]
  },
  {
   "cell_type": "code",
   "execution_count": 5,
   "id": "ff558a1b-8183-4d19-b74d-ee86ec4c5850",
   "metadata": {},
   "outputs": [
    {
     "data": {
      "text/plain": [
       "171.0"
      ]
     },
     "execution_count": 5,
     "metadata": {},
     "output_type": "execute_result"
    }
   ],
   "source": [
    "np.median(students_heights)"
   ]
  },
  {
   "cell_type": "markdown",
   "id": "fd2232fe-731e-4aec-9283-17fc913f3582",
   "metadata": {},
   "source": [
    "#### The Geometric Mean\n",
    "\n",
    "When studying phenomena such as inflation or population changes, which involve periodic increases or decreases (known as *rates of change*), the **geometric mean** is more appropriate to find the average change over the entire period under investigation.\n",
    "To calculate the geometric mean of a sequence of $n$ values $x_1, x_2,..., x_n$, we multiply them and then find the $n^{th}$ root of this product:\n",
    "\n",
    "$$ \\bar x_{geo} = \\sqrt[n]{x_1 \\cdot x_2 \\cdots x_n}\\, , $$\n",
    "\n",
    "which can be rewritten as\n",
    "\n",
    "$$ \\bar x_{geo} = \\sqrt[n]{x_1 \\cdot x_2 \\cdots x_n} =\\bigg(\\prod_{i=1}^n x_i \\bigg)^{1/n} = \\sqrt[n]{\\prod_{i=1}^n x_i} \\, . $$\n",
    "\n",
    "Let us make it clear by calculating an example:\n",
    "\n",
    "We consider the annual growth rates of a swarm of honey bees over a 5-year period.\n",
    "These rates of change are: 14 %, 26 %, 16 %, -38 %, -6 %.\n",
    "Further, we know that at the beginning of the monitoring period there were 5,000 bees in the swarm.\n",
    "We are looking for the mean rate of population change.\n",
    "\n",
    "At first we set up our variables in python:"
   ]
  },
  {
   "cell_type": "code",
   "execution_count": 6,
   "id": "d3656ba5-83d6-41a9-bd7d-4506088b4542",
   "metadata": {},
   "outputs": [],
   "source": [
    "bees = np.array([14, 26, 16, -38, -6])  # rate of change in %"
   ]
  },
  {
   "cell_type": "markdown",
   "id": "b0c9ae99-634b-43ba-9e4b-1f68e5d01c3d",
   "metadata": {},
   "source": [
    "Now we apply, against better knowledge, the arithmetic mean:"
   ]
  },
  {
   "cell_type": "code",
   "execution_count": 7,
   "id": "73ad67ba-d47c-4e10-8461-4a06740fe890",
   "metadata": {},
   "outputs": [
    {
     "name": "stdout",
     "output_type": "stream",
     "text": [
      "The mean rate of population change is: 2.4 percent.\n"
     ]
    }
   ],
   "source": [
    "bees_mean = np.mean(bees)\n",
    "print(f\"The mean rate of population change is: {round(bees_mean,1)} percent.\")"
   ]
  },
  {
   "cell_type": "markdown",
   "id": "d6a76936-06cf-4867-9112-55831c85919f",
   "metadata": {},
   "source": [
    "The arithmetic mean indicates that the swarm is growing over the period of five years!\n",
    "\n",
    "Well, we are skeptical, thus we calculate the annual growth of the swarm of bees explicitly.\n",
    "First, we transform the given percentages into relative growth rates (`bees_growth_rel`).\n",
    "Then we simply calculate the state of the bee population after 5 years by sequentially multiplying the rates of change with the number of bees, which we know was 5,000 at the beginning of the survey."
   ]
  },
  {
   "cell_type": "code",
   "execution_count": 8,
   "id": "e23593f9-5fb1-40d9-9805-0b0796e3c213",
   "metadata": {},
   "outputs": [
    {
     "data": {
      "text/plain": [
       "4855"
      ]
     },
     "execution_count": 8,
     "metadata": {},
     "output_type": "execute_result"
    }
   ],
   "source": [
    "bees_growth_rel = 1 + bees / 100  # annual rates of growth/decline\n",
    "bees_growth_rel\n",
    "\n",
    "round(\n",
    "    5000\n",
    "    * bees_growth_rel[0]\n",
    "    * bees_growth_rel[1]\n",
    "    * bees_growth_rel[2]\n",
    "    * bees_growth_rel[3]\n",
    "    * bees_growth_rel[4]\n",
    ")"
   ]
  },
  {
   "cell_type": "markdown",
   "id": "3968ab55-0f22-41e8-a0e0-2290d0f2f5c0",
   "metadata": {},
   "source": [
    "Wow, what a surprise! Obviously, there is something wrong.\n",
    "We expected the swarm to grow on average over time.\n",
    "However, we calculated a decline in the absolute number of bees.\n",
    "\n",
    "Let us try the geometric mean!\n",
    "\n",
    "Please note that $\\sqrt[n]{x} = x^{\\frac{1}{n}}$.\n",
    "\n",
    "To calculate the geometric mean explicitly we write:\n"
   ]
  },
  {
   "cell_type": "code",
   "execution_count": 9,
   "id": "0869ffb8-4709-49dc-89fd-d32c620990ed",
   "metadata": {},
   "outputs": [],
   "source": [
    "bees_len = len(bees)  # number of observations\n",
    "\n",
    "bees_growth_geom = (\n",
    "    bees_growth_rel[0]\n",
    "    * bees_growth_rel[1]\n",
    "    * bees_growth_rel[2]\n",
    "    * bees_growth_rel[3]\n",
    "    * bees_growth_rel[4]\n",
    ") ** (1 / bees_len)"
   ]
  },
  {
   "cell_type": "code",
   "execution_count": 10,
   "id": "c1bbcde6-b6c5-4993-a8ef-eee9e8555559",
   "metadata": {},
   "outputs": [
    {
     "data": {
      "text/plain": [
       "0.994"
      ]
     },
     "execution_count": 10,
     "metadata": {},
     "output_type": "execute_result"
    }
   ],
   "source": [
    "# rounded result\n",
    "round(bees_growth_geom, 3)"
   ]
  },
  {
   "cell_type": "markdown",
   "id": "4562ec0d-13da-4843-94fb-720c04df9c23",
   "metadata": {},
   "source": [
    "Great! The geometric mean indicates that there is a decline in the number of species over time at an average rate of 0.994, which corresponds to -0.006%.\n",
    "\n",
    "We check that by taking 5,000 bees (the initial number of bees in the swarm) times 0.994 for each year; thus, resulting in 4971 bees after the first year, 4942 after the second year, 4913 after the third year, 4884 after the fourth year and 4855 after the fifth year of observation.\n",
    "\n",
    "A perfect match! In contrast to the arithmetic mean, the geometric mean does not over-state the year-to-year growth!\n",
    "\n",
    "Unfortunately, there is no in-built function for the geometric mean in the Python Standard Library.\n",
    "Thus, we install the [`scipy`](https://docs.python.org/3/library/statistics.html) library by calling `pip install scipy` and then importing the `stats` module within the`scipy` library by calling `import scipy.stats`.\n",
    "Then, we can access the `gmean()` function."
   ]
  },
  {
   "cell_type": "code",
   "execution_count": 11,
   "id": "c2131392-59f4-4468-bacd-9c87c8f6b71f",
   "metadata": {
    "scrolled": true
   },
   "outputs": [
    {
     "data": {
      "text/plain": [
       "0.994"
      ]
     },
     "execution_count": 11,
     "metadata": {},
     "output_type": "execute_result"
    }
   ],
   "source": [
    "round(stats.gmean(bees_growth_rel), 3)"
   ]
  },
  {
   "cell_type": "markdown",
   "id": "649ca611-5ff6-4d23-81d4-d03109b3ddcc",
   "metadata": {},
   "source": [
    "### 1.2. Measures of Dispersion\n",
    "\n",
    "The measures of central tendency, such as the mean, median and mode, do not reveal the whole picture of the distribution of a data set.\n",
    "Two data sets with the same mean may have completely different spreads.\n",
    "The variation among the values of observations for one data set may be much larger or smaller than for another data set.\n",
    "Thus, the mean, median or mode by itself is usually not a sufficient measure to reveal the shape of the distribution of a data set.\n",
    "We also need a measure that can provide some information about the variation among data values.\n",
    "These measures are called the **measures of dispersion**.\n",
    "The measures of central tendency and dispersion taken together give a better picture of a data set than the measures of central tendency alone (Mann 2012).\n",
    "\n"
   ]
  },
  {
   "attachments": {},
   "cell_type": "markdown",
   "id": "c761a078-9447-44a4-a829-ca8df29c21d1",
   "metadata": {},
   "source": [
    "<div>\n",
    "<img src=\"figures/variance_depiction.png\" width=\"700\"/>\n",
    "</div>\n",
    "\n",
    "\n",
    "The [**variance**](https://en.wikipedia.org/wiki/Variance) is the mean squared deviation from the mean.\n",
    "The variance for population data is denoted by $\\sigma^2$ (read as *sigma squared*) and the variance calculated for sample data is denoted by $s^2$. Mathematically it is given by:\n",
    "\n",
    "$$ \\sigma^2 = \\frac{\\sum_{i=1}^n (x_i-\\mu)^2}{N}\\, , $$\n",
    "\n",
    "respectively\n",
    "\n",
    "$$ s^2 = \\frac{\\sum_{i=1}^n (x_i-\\bar x)^2}{n-1}\\, , $$\n",
    "\n",
    "where $\\sigma^2$ is called the population variance and $s^2$ is the sample variance.\n",
    "The quantity $x_i-\\mu$, respectively $x_i-\\bar x$, in the above formulas is called the deviation of the $x_i$ value ($x_1, x_2,...,x_n$) from the mean (Mann 2012).\n",
    "\n",
    "The [**standard deviation**](https://en.wikipedia.org/wiki/Standard_deviation) is the most-used measure of dispersion.\n",
    "The value of the standard deviation tells us how closely the values of a data set are clustered around the mean.\n",
    "In general, a lower value of the standard deviation indicates that the values of the data set are spread over a relatively smaller range around the mean.\n",
    "In contrast, a larger value of the standard deviation for a data set indicates that the values of that data set are spread over a relatively larger range around the mean ([Mann 2012](https://archive.org/details/IntroductoryStatistics7thEdP.MannWiley2010WW)).\n",
    "\n",
    "The **standard deviation** is obtained by taking the square root of the **variance**.\n",
    "Consequently, the standard deviation calculated for population data is denoted by $\\sigma$ and the standard deviation calculated for sample data is denoted by $s$.  \n",
    "\n",
    "$$ \\sigma = \\sqrt{\\frac{\\sum_{i=1}^N (x_i-\\mu)^2}{N}} $$\n",
    "\n",
    "and\n",
    "\n",
    "$$ s = \\sqrt{\\frac{\\sum_{i=1}^n (x_i-\\bar x)^2}{n-1}} $$\n",
    "\n",
    "where $\\sigma$ is the standard deviation of the population and $s$ is the standard deviation of the sample.\n",
    "\n"
   ]
  },
  {
   "cell_type": "code",
   "execution_count": 12,
   "id": "29382d2c-a4dc-4a67-a32b-10508d089023",
   "metadata": {},
   "outputs": [
    {
     "data": {
      "text/html": [
       "<div>\n",
       "<style scoped>\n",
       "    .dataframe tbody tr th:only-of-type {\n",
       "        vertical-align: middle;\n",
       "    }\n",
       "\n",
       "    .dataframe tbody tr th {\n",
       "        vertical-align: top;\n",
       "    }\n",
       "\n",
       "    .dataframe thead th {\n",
       "        text-align: right;\n",
       "    }\n",
       "</style>\n",
       "<table border=\"1\" class=\"dataframe\">\n",
       "  <thead>\n",
       "    <tr style=\"text-align: right;\">\n",
       "      <th></th>\n",
       "      <th>mean</th>\n",
       "      <th>median</th>\n",
       "      <th>variance</th>\n",
       "      <th>standard deviation</th>\n",
       "    </tr>\n",
       "  </thead>\n",
       "  <tbody>\n",
       "    <tr>\n",
       "      <th>age</th>\n",
       "      <td>22.54</td>\n",
       "      <td>21.00</td>\n",
       "      <td>36.78</td>\n",
       "      <td>6.06</td>\n",
       "    </tr>\n",
       "    <tr>\n",
       "      <th>nc.score</th>\n",
       "      <td>2.17</td>\n",
       "      <td>2.04</td>\n",
       "      <td>0.66</td>\n",
       "      <td>0.81</td>\n",
       "    </tr>\n",
       "    <tr>\n",
       "      <th>height</th>\n",
       "      <td>171.38</td>\n",
       "      <td>171.00</td>\n",
       "      <td>122.70</td>\n",
       "      <td>11.08</td>\n",
       "    </tr>\n",
       "    <tr>\n",
       "      <th>weight</th>\n",
       "      <td>73.00</td>\n",
       "      <td>71.80</td>\n",
       "      <td>74.56</td>\n",
       "      <td>8.63</td>\n",
       "    </tr>\n",
       "  </tbody>\n",
       "</table>\n",
       "</div>"
      ],
      "text/plain": [
       "            mean  median  variance  standard deviation\n",
       "age        22.54   21.00     36.78                6.06\n",
       "nc.score    2.17    2.04      0.66                0.81\n",
       "height    171.38  171.00    122.70               11.08\n",
       "weight     73.00   71.80     74.56                8.63"
      ]
     },
     "execution_count": 12,
     "metadata": {},
     "output_type": "execute_result"
    }
   ],
   "source": [
    "# mean\n",
    "students_quant_mean = students_quant.loc[:, students_quant.columns != \"name\"].apply(\n",
    "    np.mean\n",
    ")\n",
    "# median\n",
    "students_quant_median = students_quant.loc[:, students_quant.columns != \"name\"].apply(\n",
    "    np.median\n",
    ")\n",
    "# variance\n",
    "students_quant_var = students_quant.loc[:, students_quant.columns != \"name\"].apply(\n",
    "    np.var\n",
    ")\n",
    "# standard deviation\n",
    "students_quant_sd = students_quant.loc[:, students_quant.columns != \"name\"].apply(\n",
    "    np.std\n",
    ")\n",
    "# concatenate the vectors and round to 2 digits\n",
    "students_quant_stats = pd.concat(\n",
    "    [students_quant_mean, students_quant_median, students_quant_var, students_quant_sd],\n",
    "    axis=1,\n",
    ").round(2)\n",
    "# # rename column names\n",
    "students_quant_stats.columns = [\"mean\", \"median\", \"variance\", \"standard deviation\"]\n",
    "students_quant_stats"
   ]
  },
  {
   "cell_type": "markdown",
   "id": "34cdcc6e-a9f8-4a92-9b48-3f0dc1740b55",
   "metadata": {},
   "source": [
    "#### Boxplots\n",
    "\n",
    "In data analysis the identification of **outliers**, meaning observations that fall well outside the overall pattern of the data, is very important. An outlier requires special attention. It may be the result of a measurement or recording error, an observation from a different population or an unusual extreme observation. Note that an extreme observation does not need to be an outlier; it can instead be an indication of skewness (Weiss 2010).\n",
    "\n",
    "If we observe an outlier, we should try to determine its cause. If an outlier is caused by a measurement or recording error or if for some other reason it clearly does not belong to the data set, the outlier can simply be removed. However, if no explanation for an outlier is apparent, the decision whether to retain it in the data set is a difficult judgment call.\n",
    "\n",
    "As a diagnostic tool for spotting observations that may be outliers we may use quartiles and the \n",
    "$IQR$. For this we define the lower limit and the upper limit of a data set. The lower limit is the number that lies $1.5×IQRs$\n",
    " below the first quartile; the upper limit is the number that lies $1.5×IQRs$\n",
    " above the third quartile. Observations that lie below the lower limit or above the upper limit are potential outliers (Weiss 2010).\n",
    "\n",
    "$$ \\text{Lower limit} = Q1 - 1.5 \\times IQR $$\n",
    "\n",
    "$$\\text{Upper limit} = Q3 + 1.5 \\times IQR\n",
    "$$\n",
    "\n",
    "A **boxplot**, also called a **box-and-whisker diagram,** is based on the five-number summary and can be used to provide a graphical display of the center and variation of a data set. These diagrams were invented by the mathematician John Wilder Tukey. Several types of boxplots are in common use.\n",
    "\n",
    "Box-and-whisker plots give a graphic representation of data using five measures: the median, the first quartile, the third quartile as well as the smallest and the largest value between the lower and the upper limits of the data set. The spacing between the different parts of the box indicates the degree of dispersion (spread) and skewness in the data. We can compare different distributions by making box-and-whisker plots for each of them. It also helps to detect outliers (Mann 2012). Box plots can be drawn either horizontally or vertically."
   ]
  },
  {
   "cell_type": "code",
   "execution_count": 13,
   "id": "d2e96a19-2296-459d-acae-789526f670b7",
   "metadata": {},
   "outputs": [
    {
     "data": {
      "image/png": "[encoded data removed]",
      "text/plain": [
       "<Figure size 700x500 with 1 Axes>"
      ]
     },
     "metadata": {},
     "output_type": "display_data"
    }
   ],
   "source": [
    "fig = plt.figure(figsize=(7, 5))\n",
    "plt.boxplot(students_heights)\n",
    "plt.show()"
   ]
  },
  {
   "cell_type": "markdown",
   "id": "4e0bfc0e-0e5f-4e81-9fd3-461c52078d5d",
   "metadata": {},
   "source": [
    "## 2. Continous Random Variables"
   ]
  },
  {
   "attachments": {},
   "cell_type": "markdown",
   "id": "704d8c67-771e-4ff8-931d-a5db35a797c7",
   "metadata": {},
   "source": [
    "### 2.1. Normal Distribution \n",
    "\n",
    "The [**normal distribution**](https://en.wikipedia.org/wiki/Normal_distribution) is used extensively in probability theory, statistics, and the natural and social sciences. It is also called the **Gaussian distribution**, because [Carl Friedrich Gauss](https://en.wikipedia.org/wiki/Carl_Friedrich_Gauss) (1777-1855) was one of the first to apply it for the analysis of astronomical data ([Lovric 2011](https://doi.org/10.1007/978-3-642-04898-2)).\n",
    "\n",
    "The **normal probability distribution** or the **normal curve** is a bell-shaped (symmetric) curve. Its mean is denoted by $\\mu$ and its standard deviation by $\\sigma$. A continuous random variable $x$ that has a normal distribution is called a **normal random variable**. \n",
    "\n",
    "The notation for a normal distribution is $X \\sim N(\\mu,\\sigma)$. The probability density function (PDF) is written as \n",
    "\n",
    "$$f(x) = \\frac{1}{\\sigma \\sqrt{2 \\pi}}e^{-\\frac{1}{2}\\left(\\frac{x-\\mu}{\\sigma}\\right)^2}$$\n",
    "\n",
    "where $e \\approx 2.7182818$ and $\\pi \\approx 3.14159$. The probability density function $f(x)$ gives the vertical distance between the horizontal axis and the normal curve at point $x$. \n",
    "\n",
    "The normal distribution is described by two parameters, the mean, $\\mu$, and the standard deviation, $\\sigma$. Each different set of values of $\\mu$ and $\\sigma$ gives a different normal distribution. The value of $\\mu$ determines the center of a normal distribution curve on the horizontal axis, and the value of $\\sigma$ gives the spread of the normal distribution curve. \n",
    "<div>\n",
    "<img src=\"figures/NVT_mu.png\" width=\"700\"/>\n",
    "</div>\n",
    "<div>\n",
    "<img src=\"figures/NVT_sigma.png\" width=\"700\"/>\n",
    "</div>"
   ]
  },
  {
   "cell_type": "markdown",
   "id": "65012fc2-248c-49b7-85b2-39a2799baef0",
   "metadata": {},
   "source": [
    "#### Summary Properties of the normal distribution:\n",
    "* unimodal bell-shaped theoretical distribution \n",
    "* Maximum value of the density is at x=μ\n",
    "* NVT(μ,σ)is symmetrical to:\n",
    "    * For all x, f(μ -x)=f(μ +x)\n",
    "      \n",
    "* because of the symmetry, the skewness of the NVT is always = 0 \n",
    "* The NVT is unconstrained on both sides, i.e. its left or right distribution branch\n",
    "distribution branch converges for x towards - ∞ or + ∞ towards f(x) = 0\n",
    "\n",
    "* Parameter μ determines the position of the NVT(μ,σ)on the x-axis \n",
    "\n",
    "* Parameter σ defines the spread of the NVT(μ,σ)\n",
    "* 3-sigma rule:\n",
    "\n",
    "| amount of x-values |  Interval | \n",
    "|---|---|\n",
    "| 50%   |  μ± 0.675 · σ |  \n",
    "| 68%   |  μ± 1 · σ |  \n",
    "| 95.4%   |  μ± 2· σ |   \n",
    "|  99.7% |  μ± 3 · σ |  \n",
    "\n"
   ]
  },
  {
   "cell_type": "markdown",
   "id": "f7f8bcc0-e45d-4da3-8aee-d5d94417b4cd",
   "metadata": {},
   "source": [
    "#### Central Limit Theorem\n",
    "> A [nice visualisation](https://www.statcrunch.com/applets/type3&samplingdist) of the central limit theorem!\n",
    "\n",
    "> **Some nice videos about the [normal distribution ](https://www.geo.fu-berlin.de/en/v/soga-py/Basics-of-statistics/Continous-Random-Variables/The-Normal-Distribution/index.html) and [central limit theorem](https://www.geo.fu-berlin.de/en/v/soga-py/Basics-of-statistics/Central-Limit-Theorem/Intro-Video/index.html).**"
   ]
  },
  {
   "cell_type": "markdown",
   "id": "c9c62746-c21f-4dd9-99da-ecc4f363b902",
   "metadata": {},
   "source": [
    "**Problem:**\n",
    "1. i usually do not know the mean value of the population!\n",
    "2. every time I draw a sample I get a different mean value!\n",
    "\n",
    "How can I determine the error between the sample mean and the unknown mean of the population?\n",
    "\n",
    ">**Answer:** With the help of the central limit theorem!\n",
    "\n",
    "**Concept**: How do you conclude the population mean from the sample mean?\n",
    "- Population mean $\\mu$ is generally unknown\n",
    "    - we estimate $\\mu$ by taking samples and calculating the sample mean\n",
    "    -  difference of these two is called **sampling error**\n",
    "- population mean and sample mean become more and more similar --> Approximation\n",
    "- standard deviation can also be estimated in this way\n",
    "- different literature data: this approximation is sufficiently good for n = 30 (or more than 30)\n",
    "\n"
   ]
  },
  {
   "cell_type": "markdown",
   "id": "cab0d7b5-b63f-4214-af31-9e5d05166850",
   "metadata": {},
   "source": [
    "### 2.2. Example\n",
    "\n",
    "First, we will reuse the students data set `students.csv` from before and take a look at the shape."
   ]
  },
  {
   "cell_type": "code",
   "execution_count": 14,
   "id": "93529d13-9632-498a-84cc-9db2e0861361",
   "metadata": {},
   "outputs": [],
   "source": [
    "count_row = students.shape[0]  # number of rows\n",
    "count_col = students.shape[1]  # number of columns\n",
    "column_names = students.columns  # column name"
   ]
  },
  {
   "cell_type": "markdown",
   "id": "7818e000-3aee-4e68-942b-48adf7e10d5c",
   "metadata": {},
   "source": [
    "We use the height variable to exercise what we have discussed so far.\n",
    "\n",
    "First, we want to assure that we are dealing with normally distributed data. If a variable is normally distributed, then, for a large sample, a histogram of the observations should be roughly bell shaped."
   ]
  },
  {
   "cell_type": "code",
   "execution_count": 15,
   "id": "0fc2804e-808f-48e5-acee-7873b1f7ec52",
   "metadata": {},
   "outputs": [
    {
     "data": {
      "image/png": "[encoded data removed]",
      "text/plain": [
       "<Figure size 1000x500 with 1 Axes>"
      ]
     },
     "metadata": {},
     "output_type": "display_data"
    }
   ],
   "source": [
    "plt.figure(figsize=(10, 5))\n",
    "plt.hist(students[\"height\"], bins=\"sturges\", color=\"lightgreen\", edgecolor=\"grey\")\n",
    "plt.xlabel(\"Height in cm\")\n",
    "plt.ylabel(\"Frequency\")\n",
    "plt.show()"
   ]
  },
  {
   "cell_type": "markdown",
   "id": "4ea49b6e-a9f5-4248-ad9b-4c9116388414",
   "metadata": {},
   "source": [
    "By inspecting the plot we may conclude that the height variable is normally distributed, however, especially for small samples, ascertaining a clear shape in a histogram and, in particular, whether it is bell shaped is often difficult. Thus, a more sensitive graphical technique is required for assessing normality. Normal probability plots provide such a technique. The idea behind a normal probability plot is simple: Compare the observed values of the variable to the observations expected for a normally distributed variable. More precisely, a normal probability plot is a plot of the observed values of the variable versus the normal scores of the observations expected for a variable having the standard normal distribution. If the variable is normally distributed, the normal probability plot should be roughly linear (i.e., fall roughly in a straight line) (Weiss 2010).\n",
    "\n",
    "When using a normal probability plot to assess the normality of a variable, we must remember two things:\n",
    "\n",
    "The decision of whether a normal probability plot is roughly linear is a subjective one, and\n",
    "that we are using only a limited number of observations of that particular variable to make a judgment about all possible observations of the variable.\n",
    "In Python we may employ the statsmodels.api library, which provides a function for plotting normal probability plots often referred to as Q-Q plots. For plotting a complete Q-Q-Plot, we make use of the qqplot function."
   ]
  },
  {
   "cell_type": "code",
   "execution_count": 16,
   "id": "5f2b6330-e3f8-445f-9590-12ed6a1eaa86",
   "metadata": {},
   "outputs": [
    {
     "data": {
      "text/plain": [
       "<Figure size 1200x500 with 0 Axes>"
      ]
     },
     "metadata": {},
     "output_type": "display_data"
    },
    {
     "data": {
      "image/png": "[encoded data removed]",
      "text/plain": [
       "<Figure size 640x480 with 1 Axes>"
      ]
     },
     "metadata": {},
     "output_type": "display_data"
    }
   ],
   "source": [
    "import statsmodels.api as sm\n",
    "\n",
    "plt.figure(figsize=(12, 5))\n",
    "sm.qqplot(students[\"height\"], line=\"r\")\n",
    "\n",
    "plt.show()"
   ]
  },
  {
   "cell_type": "markdown",
   "id": "a2f858e6-cf29-4308-ad90-149e21aed1ca",
   "metadata": {},
   "source": [
    "By inspecting the plot we see that there is some divergence for the sample quantiles compared to the theoretic quantiles at the lower and upper tails. This fact needs a little more attention! What might be the reason for the departure at the upper and lower tail of the distribution? Any guess?\n",
    "\n",
    "What about gender? Honestly, it is seems natural that the mean height for males and females differs. Let us plot a histogram of the height of males and females."
   ]
  },
  {
   "cell_type": "code",
   "execution_count": 17,
   "id": "ac279b3f-fba5-493c-a6e7-72782775796e",
   "metadata": {},
   "outputs": [
    {
     "data": {
      "image/png": "[encoded data removed]",
      "text/plain": [
       "<Figure size 1000x500 with 1 Axes>"
      ]
     },
     "metadata": {},
     "output_type": "display_data"
    }
   ],
   "source": [
    "## subset by gender\n",
    "males = students.loc[students[\"gender\"] == \"Male\"]\n",
    "females = students.loc[students[\"gender\"] == \"Female\"]\n",
    "\n",
    "## plot by gender\n",
    "plt.figure(figsize=(10, 5))\n",
    "plt.hist(males[\"height\"], bins=\"sturges\", color=\"lightblue\", edgecolor=\"grey\")\n",
    "plt.hist(females[\"height\"], bins=\"sturges\", color=\"lightgreen\", edgecolor=\"grey\")\n",
    "plt.xlabel(\"Height in cm\")\n",
    "plt.ylabel(\"Frequency\")\n",
    "plt.title(\"Females and Males\", fontsize=16)\n",
    "plt.show()"
   ]
  },
  {
   "cell_type": "markdown",
   "id": "8f5399e4-634d-466d-8327-7093074e3b9a",
   "metadata": {},
   "source": [
    "There it is! Obviously, the two groups have different means, and thus, putting them together into one group causes the left an right tails of the resulting distribution to extend further, than expected for a normally distributed variable. In order to continue, we thus take only the height of female students into considerations. For the matter of clarity we once again plot the normal probability plot of the height variable to assure that our target variables are normally distributed."
   ]
  },
  {
   "cell_type": "code",
   "execution_count": 18,
   "id": "4c5e57f8-2414-42fb-9ec7-1a9fd170049c",
   "metadata": {},
   "outputs": [
    {
     "data": {
      "text/plain": [
       "<Figure size 1200x500 with 0 Axes>"
      ]
     },
     "metadata": {},
     "output_type": "display_data"
    },
    {
     "data": {
      "image/png": "[encoded data removed]",
      "text/plain": [
       "<Figure size 640x480 with 1 Axes>"
      ]
     },
     "metadata": {},
     "output_type": "display_data"
    }
   ],
   "source": [
    "plt.figure(figsize=(12, 5))\n",
    "sm.qqplot(females[\"height\"], line=\"r\")\n",
    "\n",
    "plt.show()"
   ]
  },
  {
   "cell_type": "markdown",
   "id": "c7fdf56d-7bec-4874-9fe4-edfd57ba78aa",
   "metadata": {},
   "source": [
    "### Shapiro-Wilk test for Normality"
   ]
  },
  {
   "cell_type": "code",
   "execution_count": 19,
   "id": "80bfdea3-54ca-49db-9dc8-366661ae59d6",
   "metadata": {},
   "outputs": [],
   "source": [
    "## perform shapiro-wilk test for normality\n",
    "# input = array, output: The test statistic & p-value\n",
    "# Ho(Accepted): Sample is from the normal distributions.(P>0.05)\n",
    "# Ha(Rejected): Sample is not from the normal distributions.\n",
    "students_height_sample= random.sample(list(students[\"height\"].values), 500)\n",
    "\n",
    "_,pvalue = stats.shapiro(students_height_sample)\n",
    "\n"
   ]
  },
  {
   "cell_type": "code",
   "execution_count": 20,
   "id": "0a29d7b4-11cb-49f0-b6b9-e62ba92fa5b1",
   "metadata": {},
   "outputs": [
    {
     "name": "stdout",
     "output_type": "stream",
     "text": [
      "Accept H0: Normally distributed\n"
     ]
    }
   ],
   "source": [
    "## Evaluate p-value with if condition\n",
    "\n",
    "alpha = 0.05\n",
    "\n",
    "def eval_p(pvalue):\n",
    "    if pvalue <= alpha:\n",
    "        print(\"Reject Ho: not normally distributed\")\n",
    "    else: \n",
    "        print(\"Accept H0: Normally distributed\")\n",
    "\n",
    "eval_p(pvalue)"
   ]
  },
  {
   "cell_type": "code",
   "execution_count": 21,
   "id": "db49fe75-cf9f-4ce0-826a-7cff8c4fcec0",
   "metadata": {},
   "outputs": [],
   "source": [
    "females_height_sample= random.sample(list(females[\"height\"].values), 500)\n"
   ]
  },
  {
   "cell_type": "code",
   "execution_count": 22,
   "id": "f09d7515-891b-4abd-8995-b02dff5635fd",
   "metadata": {},
   "outputs": [
    {
     "name": "stdout",
     "output_type": "stream",
     "text": [
      "Accept H0: Normally distributed\n"
     ]
    }
   ],
   "source": [
    "## perform normality test on females only:\n",
    "_,pvalue = stats.shapiro(females_height_sample)\n",
    "eval_p(pvalue)"
   ]
  },
  {
   "cell_type": "markdown",
   "id": "dad06bb9-2703-49e1-b1b1-eb8285b38608",
   "metadata": {},
   "source": [
    "#### How to check if two subpopulations are significantly different using Boxplots?\n",
    "\n",
    "We switch to the seaborn package for plotting boxplots, since it allows for a easy handling of grouped boxplots. We introduce the notch argument. If the notches of two plots do not overlap this is \"strong evidence\" that the two medians differ (Chambers, et al. (1983): Graphical Methods for Data Analysis. Wadsworth & Brooks/Cole, p. 62).\n"
   ]
  },
  {
   "cell_type": "code",
   "execution_count": 23,
   "id": "4edc96bd-c6dd-4109-862c-f50496e53bb5",
   "metadata": {},
   "outputs": [
    {
     "data": {
      "text/plain": [
       "<Axes: xlabel='gender', ylabel='height'>"
      ]
     },
     "execution_count": 23,
     "metadata": {},
     "output_type": "execute_result"
    },
    {
     "data": {
      "image/png": "[encoded data removed]",
      "text/plain": [
       "<Figure size 640x480 with 1 Axes>"
      ]
     },
     "metadata": {},
     "output_type": "display_data"
    }
   ],
   "source": [
    "sns.boxplot(y=\"height\", x=\"gender\", data=students, palette=\"colorblind\", notch=True)"
   ]
  },
  {
   "cell_type": "markdown",
   "id": "98b261ff-37a2-439d-852e-d72c2f6becb0",
   "metadata": {},
   "source": [
    "Obviously, and certainly not that unexpectedly, there is a difference in the height of the students among the different groups (male or female). Female students tend to be smaller than male students, but, if we look at the extremes, there are tall and short individuals in both groups. However, as mentioned above, we will have to test our observations for statistical significance to be more confident, that the observed difference in height is not just there by chance."
   ]
  },
  {
   "cell_type": "code",
   "execution_count": 24,
   "id": "16fdff43-e183-45c6-8803-60fb1e2e14fd",
   "metadata": {},
   "outputs": [],
   "source": [
    "## How about other variables?"
   ]
  },
  {
   "cell_type": "code",
   "execution_count": 25,
   "id": "6f1e64af-b30c-4385-8f7d-0d70c7320bf9",
   "metadata": {},
   "outputs": [
    {
     "data": {
      "image/png": "[encoded data removed]",
      "text/plain": [
       "<Figure size 640x480 with 4 Axes>"
      ]
     },
     "metadata": {},
     "output_type": "display_data"
    }
   ],
   "source": [
    "fig, axs = plt.subplots(2, 2)\n",
    "\n",
    "\n",
    "\n",
    "axs[0, 0].hist(students_quant[\"age\"], bins=\"sturges\", color=\"lightblue\", edgecolor=\"grey\")\n",
    "axs[0, 0].set_title('age')\n",
    "axs[0, 1].hist(students_quant[\"nc.score\"], bins=\"sturges\", color=\"orange\", edgecolor=\"grey\")\n",
    "axs[0, 1].set_title('nc.score')\n",
    "axs[1, 0].hist(students_quant[\"height\"], bins=\"sturges\", color=\"lightgreen\", edgecolor=\"grey\")\n",
    "axs[1, 0].set_title('height')\n",
    "axs[1, 1].hist(students_quant[\"weight\"], bins=\"sturges\", color=\"lightpink\", edgecolor=\"grey\")\n",
    "axs[1, 1].set_title('weight')\n",
    "\n",
    "#for ax in axs.flat:\n",
    " #   ax.set(xlabel='x-label', ylabel='y-label')\n",
    "\n",
    "# Hide x labels and tick labels for top plots and y ticks for right plots.\n",
    "#for ax in axs.flat:\n",
    "#    ax.label_outer()\n",
    "plt.tight_layout()\n",
    "plt.show()"
   ]
  },
  {
   "cell_type": "code",
   "execution_count": 26,
   "id": "4f5399a0-ddd9-4740-ab00-0d6dfd3fe1ca",
   "metadata": {
    "scrolled": true
   },
   "outputs": [
    {
     "data": {
      "text/html": [
       "<hr>\r\n",
       "<p><strong>Citation</strong></p>\r\n",
       "<p>The E-Learning project SOGA-Py was developed at the Department of Earth Sciences by Annette Rudolph, Joachim Krois and Kai Hartmann. You can reach us via mail by <a href=\"mailto:soga@zedat.fu-berlin.de\">soga[at]zedat.fu-berlin.de</a>.</p>\r\n",
       "<a rel=\"license\" href=\"http://creativecommons.org/licenses/by-sa/4.0/\"><img alt=\"Creative Commons License\" style=\"border-width:0\" src=\"https://i.creativecommons.org/l/by-sa/4.0/88x31.png\" /></a><br />You may use this project freely under the <a rel=\"license\" href=\"http://creativecommons.org/licenses/by-sa/4.0/\">Creative Commons Attribution-ShareAlike 4.0 International License</a>.\r\n",
       "<p>Please cite as follow: <em>Rudolph, A., Krois, J., Hartmann, K. (2023): Statistics and Geodata Analysis \r\n",
       "using Python (<a target=\"_blank\" href=\"https://www.geo.fu-berlin.de/soga-py\">SOGA-Py</a>). Department of Earth Sciences, Freie Universitaet Berlin.</em></p></p>\r\n",
       "\r\n",
       "<!-- JS resizer -->\r\n",
       "<script type=\"text/javascript\" src=\"https://medien.cedis.fu-berlin.de/services/cms-assets/iframeResizer/iframeResizer.js\">\r\n",
       "</script>"
      ],
      "text/plain": [
       "<IPython.core.display.HTML object>"
      ]
     },
     "metadata": {},
     "output_type": "display_data"
    }
   ],
   "source": [
    "import urllib.request\n",
    "\n",
    "fp = urllib.request.urlopen(\"https://userpage.fu-berlin.de/soga/soga-py/citation/citation_py.html\")\n",
    "mybytes = fp.read()\n",
    "\n",
    "citation = mybytes.decode(\"utf8\")\n",
    "fp.close()\n",
    "\n",
    "from IPython.display import display, HTML\n",
    "display(HTML(citation))"
   ]
  }
 ],
 "metadata": {
  "kernelspec": {
   "display_name": "Python 3 (ipykernel)",
   "language": "python",
   "name": "python3"
  },
  "language_info": {
   "codemirror_mode": {
    "name": "ipython",
    "version": 3
   },
   "file_extension": ".py",
   "mimetype": "text/x-python",
   "name": "python",
   "nbconvert_exporter": "python",
   "pygments_lexer": "ipython3",
   "version": "3.9.19"
  }
 },
 "nbformat": 4,
 "nbformat_minor": 5
}